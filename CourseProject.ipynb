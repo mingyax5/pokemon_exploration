{
 "cells": [
  {
   "cell_type": "markdown",
   "metadata": {
    "tags": [],
    "cell_id": "290943e8b6524e3ba175b83d6fc50b36",
    "deepnote_cell_type": "markdown"
   },
   "source": [
    "# The relationship and prediction between Pokemon's stats and generation\n",
    "\n",
    "Author: Mingyan Xu\n",
    "\n",
    "Course Project, UC Irvine, Math 10, F22"
   ],
   "block_group": "290943e8b6524e3ba175b83d6fc50b36"
  },
  {
   "cell_type": "markdown",
   "metadata": {
    "tags": [],
    "cell_id": "da8a48098ac4449cb19d3c0ff9dbbb45",
    "deepnote_cell_type": "markdown"
   },
   "source": [
    "## Introduction\n",
    "\n",
    "Introduce your project here.  Maybe 3 sentences.\n",
    "\n",
    "From other's project in the past quarter, I found that there were some analysis about Pokemon, which was one of my favorite games, so I chose to explore more about this dataset. The main topic I choose is to find the relationship between the generations and the each stats for pokemons, and study whether the strength of Pokemon has become stronger through generations. In addition, I will try to predict the trend on designing new generation pokemon, such as their type and stats."
   ],
   "block_group": "da8a48098ac4449cb19d3c0ff9dbbb45"
  },
  {
   "cell_type": "markdown",
   "metadata": {
    "tags": [],
    "cell_id": "9e2bcbd430d34bb7a28be0bf02a8ecb0",
    "deepnote_cell_type": "markdown"
   },
   "source": [
    "## Import Section"
   ],
   "block_group": "9e2bcbd430d34bb7a28be0bf02a8ecb0"
  },
  {
   "cell_type": "code",
   "metadata": {
    "tags": [],
    "cell_id": "671bc7e8bc6d4e438ca772d24a50d891",
    "source_hash": null,
    "execution_start": 1702174239635,
    "execution_millis": 2797,
    "deepnote_to_be_reexecuted": false,
    "deepnote_cell_type": "code"
   },
   "source": [
    "import pandas as pd\n",
    "import altair as alt\n",
    "import numpy as np\n",
    "import matplotlib.pyplot as plt\n",
    "import seaborn as sns\n",
    "\n",
    "from sklearn.cluster import KMeans\n",
    "from sklearn.linear_model import LinearRegression\n",
    "from sklearn.linear_model import LogisticRegression\n",
    "from sklearn.tree import DecisionTreeRegressor\n",
    "from sklearn.ensemble import RandomForestRegressor\n",
    "\n",
    "from sklearn.model_selection import train_test_split\n",
    "from sklearn.metrics import mean_squared_error"
   ],
   "block_group": "671bc7e8bc6d4e438ca772d24a50d891",
   "execution_count": null,
   "outputs": []
  },
  {
   "cell_type": "markdown",
   "metadata": {
    "tags": [],
    "cell_id": "1e7da2b468da489c9024d383c332c80b",
    "deepnote_cell_type": "markdown"
   },
   "source": [
    "## Feature Engineering"
   ],
   "block_group": "1e7da2b468da489c9024d383c332c80b"
  },
  {
   "cell_type": "markdown",
   "metadata": {
    "tags": [],
    "cell_id": "3de55f5edb504f6890af67c06d28d51e",
    "deepnote_cell_type": "markdown"
   },
   "source": [
    "This dataset contains the general information of 800 different pokemons, including their names, types, HP, attack, defense and other stats."
   ],
   "block_group": "3de55f5edb504f6890af67c06d28d51e"
  },
  {
   "cell_type": "code",
   "metadata": {
    "tags": [],
    "cell_id": "e612bfa1d0244727bfeaca7d337d3d2a",
    "source_hash": null,
    "execution_start": 1702174242434,
    "execution_millis": 424,
    "deepnote_to_be_reexecuted": false,
    "deepnote_cell_type": "code"
   },
   "source": [
    "df = pd.read_csv(\"Pokemon.csv\")\n",
    "df"
   ],
   "block_group": "e612bfa1d0244727bfeaca7d337d3d2a",
   "execution_count": null,
   "outputs": [
    {
     "output_type": "execute_result",
     "execution_count": 2,
     "data": {
      "application/vnd.deepnote.dataframe.v3+json": {
       "column_count": 13,
       "row_count": 800,
       "columns": [
        {
         "name": "#",
         "dtype": "int64",
         "stats": {
          "unique_count": 721,
          "nan_count": 0,
          "min": "1",
          "max": "721",
          "histogram": [
           {
            "bin_start": 1,
            "bin_end": 73,
            "count": 79
           },
           {
            "bin_start": 73,
            "bin_end": 145,
            "count": 78
           },
           {
            "bin_start": 145,
            "bin_end": 217,
            "count": 78
           },
           {
            "bin_start": 217,
            "bin_end": 289,
            "count": 78
           },
           {
            "bin_start": 289,
            "bin_end": 361,
            "count": 82
           },
           {
            "bin_start": 361,
            "bin_end": 433,
            "count": 86
           },
           {
            "bin_start": 433,
            "bin_end": 505,
            "count": 83
           },
           {
            "bin_start": 505,
            "bin_end": 577,
            "count": 74
           },
           {
            "bin_start": 577,
            "bin_end": 649,
            "count": 79
           },
           {
            "bin_start": 649,
            "bin_end": 721,
            "count": 83
           }
          ]
         }
        },
        {
         "name": "Name",
         "dtype": "object",
         "stats": {
          "unique_count": 800,
          "nan_count": 0,
          "categories": [
           {
            "name": "Bulbasaur",
            "count": 1
           },
           {
            "name": "Ivysaur",
            "count": 1
           },
           {
            "name": "798 others",
            "count": 798
           }
          ]
         }
        },
        {
         "name": "Type 1",
         "dtype": "object",
         "stats": {
          "unique_count": 18,
          "nan_count": 0,
          "categories": [
           {
            "name": "Water",
            "count": 112
           },
           {
            "name": "Normal",
            "count": 98
           },
           {
            "name": "16 others",
            "count": 590
           }
          ]
         }
        },
        {
         "name": "Type 2",
         "dtype": "object",
         "stats": {
          "unique_count": 18,
          "nan_count": 386,
          "categories": [
           {
            "name": "Flying",
            "count": 97
           },
           {
            "name": "17 others",
            "count": 317
           },
           {
            "name": "Missing",
            "count": 386
           }
          ]
         }
        },
        {
         "name": "Total",
         "dtype": "int64",
         "stats": {
          "unique_count": 200,
          "nan_count": 0,
          "min": "180",
          "max": "780",
          "histogram": [
           {
            "bin_start": 180,
            "bin_end": 240,
            "count": 29
           },
           {
            "bin_start": 240,
            "bin_end": 300,
            "count": 73
           },
           {
            "bin_start": 300,
            "bin_end": 360,
            "count": 154
           },
           {
            "bin_start": 360,
            "bin_end": 420,
            "count": 97
           },
           {
            "bin_start": 420,
            "bin_end": 480,
            "count": 115
           },
           {
            "bin_start": 480,
            "bin_end": 540,
            "count": 198
           },
           {
            "bin_start": 540,
            "bin_end": 600,
            "count": 49
           },
           {
            "bin_start": 600,
            "bin_end": 660,
            "count": 52
           },
           {
            "bin_start": 660,
            "bin_end": 720,
            "count": 27
           },
           {
            "bin_start": 720,
            "bin_end": 780,
            "count": 6
           }
          ]
         }
        },
        {
         "name": "HP",
         "dtype": "int64",
         "stats": {
          "unique_count": 94,
          "nan_count": 0,
          "min": "1",
          "max": "255",
          "histogram": [
           {
            "bin_start": 1,
            "bin_end": 26.4,
            "count": 10
           },
           {
            "bin_start": 26.4,
            "bin_end": 51.8,
            "count": 202
           },
           {
            "bin_start": 51.8,
            "bin_end": 77.19999999999999,
            "count": 336
           },
           {
            "bin_start": 77.19999999999999,
            "bin_end": 102.6,
            "count": 186
           },
           {
            "bin_start": 102.6,
            "bin_end": 128,
            "count": 50
           },
           {
            "bin_start": 128,
            "bin_end": 153.39999999999998,
            "count": 10
           },
           {
            "bin_start": 153.39999999999998,
            "bin_end": 178.79999999999998,
            "count": 3
           },
           {
            "bin_start": 178.79999999999998,
            "bin_end": 204.2,
            "count": 1
           },
           {
            "bin_start": 204.2,
            "bin_end": 229.6,
            "count": 0
           },
           {
            "bin_start": 229.6,
            "bin_end": 255,
            "count": 2
           }
          ]
         }
        },
        {
         "name": "Attack",
         "dtype": "int64",
         "stats": {
          "unique_count": 111,
          "nan_count": 0,
          "min": "5",
          "max": "190",
          "histogram": [
           {
            "bin_start": 5,
            "bin_end": 23.5,
            "count": 16
           },
           {
            "bin_start": 23.5,
            "bin_end": 42,
            "count": 71
           },
           {
            "bin_start": 42,
            "bin_end": 60.5,
            "count": 173
           },
           {
            "bin_start": 60.5,
            "bin_end": 79,
            "count": 161
           },
           {
            "bin_start": 79,
            "bin_end": 97.5,
            "count": 166
           },
           {
            "bin_start": 97.5,
            "bin_end": 116,
            "count": 101
           },
           {
            "bin_start": 116,
            "bin_end": 134.5,
            "count": 65
           },
           {
            "bin_start": 134.5,
            "bin_end": 153,
            "count": 29
           },
           {
            "bin_start": 153,
            "bin_end": 171.5,
            "count": 13
           },
           {
            "bin_start": 171.5,
            "bin_end": 190,
            "count": 5
           }
          ]
         }
        },
        {
         "name": "Defense",
         "dtype": "int64",
         "stats": {
          "unique_count": 103,
          "nan_count": 0,
          "min": "5",
          "max": "230",
          "histogram": [
           {
            "bin_start": 5,
            "bin_end": 27.5,
            "count": 14
           },
           {
            "bin_start": 27.5,
            "bin_end": 50,
            "count": 149
           },
           {
            "bin_start": 50,
            "bin_end": 72.5,
            "count": 283
           },
           {
            "bin_start": 72.5,
            "bin_end": 95,
            "count": 170
           },
           {
            "bin_start": 95,
            "bin_end": 117.5,
            "count": 111
           },
           {
            "bin_start": 117.5,
            "bin_end": 140,
            "count": 45
           },
           {
            "bin_start": 140,
            "bin_end": 162.5,
            "count": 18
           },
           {
            "bin_start": 162.5,
            "bin_end": 185,
            "count": 5
           },
           {
            "bin_start": 185,
            "bin_end": 207.5,
            "count": 2
           },
           {
            "bin_start": 207.5,
            "bin_end": 230,
            "count": 3
           }
          ]
         }
        },
        {
         "name": "Sp. Atk",
         "dtype": "int64",
         "stats": {
          "unique_count": 105,
          "nan_count": 0,
          "min": "10",
          "max": "194",
          "histogram": [
           {
            "bin_start": 10,
            "bin_end": 28.4,
            "count": 31
           },
           {
            "bin_start": 28.4,
            "bin_end": 46.8,
            "count": 162
           },
           {
            "bin_start": 46.8,
            "bin_end": 65.19999999999999,
            "count": 218
           },
           {
            "bin_start": 65.19999999999999,
            "bin_end": 83.6,
            "count": 121
           },
           {
            "bin_start": 83.6,
            "bin_end": 102,
            "count": 123
           },
           {
            "bin_start": 102,
            "bin_end": 120.39999999999999,
            "count": 75
           },
           {
            "bin_start": 120.39999999999999,
            "bin_end": 138.79999999999998,
            "count": 38
           },
           {
            "bin_start": 138.79999999999998,
            "bin_end": 157.2,
            "count": 19
           },
           {
            "bin_start": 157.2,
            "bin_end": 175.6,
            "count": 9
           },
           {
            "bin_start": 175.6,
            "bin_end": 194,
            "count": 4
           }
          ]
         }
        },
        {
         "name": "Sp. Def",
         "dtype": "int64",
         "stats": {
          "unique_count": 92,
          "nan_count": 0,
          "min": "20",
          "max": "230",
          "histogram": [
           {
            "bin_start": 20,
            "bin_end": 41,
            "count": 97
           },
           {
            "bin_start": 41,
            "bin_end": 62,
            "count": 230
           },
           {
            "bin_start": 62,
            "bin_end": 83,
            "count": 223
           },
           {
            "bin_start": 83,
            "bin_end": 104,
            "count": 148
           },
           {
            "bin_start": 104,
            "bin_end": 125,
            "count": 67
           },
           {
            "bin_start": 125,
            "bin_end": 146,
            "count": 21
           },
           {
            "bin_start": 146,
            "bin_end": 167,
            "count": 12
           },
           {
            "bin_start": 167,
            "bin_end": 188,
            "count": 0
           },
           {
            "bin_start": 188,
            "bin_end": 209,
            "count": 1
           },
           {
            "bin_start": 209,
            "bin_end": 230,
            "count": 1
           }
          ]
         }
        },
        {
         "name": "Speed",
         "dtype": "int64",
         "stats": {
          "unique_count": 108,
          "nan_count": 0,
          "min": "5",
          "max": "180",
          "histogram": [
           {
            "bin_start": 5,
            "bin_end": 22.5,
            "count": 30
           },
           {
            "bin_start": 22.5,
            "bin_end": 40,
            "count": 97
           },
           {
            "bin_start": 40,
            "bin_end": 57.5,
            "count": 183
           },
           {
            "bin_start": 57.5,
            "bin_end": 75,
            "count": 168
           },
           {
            "bin_start": 75,
            "bin_end": 92.5,
            "count": 144
           },
           {
            "bin_start": 92.5,
            "bin_end": 110,
            "count": 108
           },
           {
            "bin_start": 110,
            "bin_end": 127.5,
            "count": 50
           },
           {
            "bin_start": 127.5,
            "bin_end": 145,
            "count": 11
           },
           {
            "bin_start": 145,
            "bin_end": 162.5,
            "count": 8
           },
           {
            "bin_start": 162.5,
            "bin_end": 180,
            "count": 1
           }
          ]
         }
        },
        {
         "name": "Generation",
         "dtype": "int64",
         "stats": {
          "unique_count": 6,
          "nan_count": 0,
          "min": "1",
          "max": "6",
          "histogram": [
           {
            "bin_start": 1,
            "bin_end": 1.5,
            "count": 166
           },
           {
            "bin_start": 1.5,
            "bin_end": 2,
            "count": 0
           },
           {
            "bin_start": 2,
            "bin_end": 2.5,
            "count": 106
           },
           {
            "bin_start": 2.5,
            "bin_end": 3,
            "count": 0
           },
           {
            "bin_start": 3,
            "bin_end": 3.5,
            "count": 160
           },
           {
            "bin_start": 3.5,
            "bin_end": 4,
            "count": 0
           },
           {
            "bin_start": 4,
            "bin_end": 4.5,
            "count": 121
           },
           {
            "bin_start": 4.5,
            "bin_end": 5,
            "count": 0
           },
           {
            "bin_start": 5,
            "bin_end": 5.5,
            "count": 165
           },
           {
            "bin_start": 5.5,
            "bin_end": 6,
            "count": 82
           }
          ]
         }
        },
        {
         "name": "Legendary",
         "dtype": "bool",
         "stats": {
          "unique_count": 2,
          "nan_count": 0,
          "categories": [
           {
            "name": "False",
            "count": 735
           },
           {
            "name": "True",
            "count": 65
           }
          ]
         }
        },
        {
         "name": "_deepnote_index_column",
         "dtype": "int64"
        }
       ],
       "rows": [
        {
         "#": 1,
         "Name": "Bulbasaur",
         "Type 1": "Grass",
         "Type 2": "Poison",
         "Total": 318,
         "HP": 45,
         "Attack": 49,
         "Defense": 49,
         "Sp. Atk": 65,
         "Sp. Def": 65,
         "Speed": 45,
         "Generation": 1,
         "Legendary": "False",
         "_deepnote_index_column": 0
        },
        {
         "#": 2,
         "Name": "Ivysaur",
         "Type 1": "Grass",
         "Type 2": "Poison",
         "Total": 405,
         "HP": 60,
         "Attack": 62,
         "Defense": 63,
         "Sp. Atk": 80,
         "Sp. Def": 80,
         "Speed": 60,
         "Generation": 1,
         "Legendary": "False",
         "_deepnote_index_column": 1
        },
        {
         "#": 3,
         "Name": "Venusaur",
         "Type 1": "Grass",
         "Type 2": "Poison",
         "Total": 525,
         "HP": 80,
         "Attack": 82,
         "Defense": 83,
         "Sp. Atk": 100,
         "Sp. Def": 100,
         "Speed": 80,
         "Generation": 1,
         "Legendary": "False",
         "_deepnote_index_column": 2
        },
        {
         "#": 3,
         "Name": "VenusaurMega Venusaur",
         "Type 1": "Grass",
         "Type 2": "Poison",
         "Total": 625,
         "HP": 80,
         "Attack": 100,
         "Defense": 123,
         "Sp. Atk": 122,
         "Sp. Def": 120,
         "Speed": 80,
         "Generation": 1,
         "Legendary": "False",
         "_deepnote_index_column": 3
        },
        {
         "#": 4,
         "Name": "Charmander",
         "Type 1": "Fire",
         "Type 2": "nan",
         "Total": 309,
         "HP": 39,
         "Attack": 52,
         "Defense": 43,
         "Sp. Atk": 60,
         "Sp. Def": 50,
         "Speed": 65,
         "Generation": 1,
         "Legendary": "False",
         "_deepnote_index_column": 4
        },
        {
         "#": 5,
         "Name": "Charmeleon",
         "Type 1": "Fire",
         "Type 2": "nan",
         "Total": 405,
         "HP": 58,
         "Attack": 64,
         "Defense": 58,
         "Sp. Atk": 80,
         "Sp. Def": 65,
         "Speed": 80,
         "Generation": 1,
         "Legendary": "False",
         "_deepnote_index_column": 5
        },
        {
         "#": 6,
         "Name": "Charizard",
         "Type 1": "Fire",
         "Type 2": "Flying",
         "Total": 534,
         "HP": 78,
         "Attack": 84,
         "Defense": 78,
         "Sp. Atk": 109,
         "Sp. Def": 85,
         "Speed": 100,
         "Generation": 1,
         "Legendary": "False",
         "_deepnote_index_column": 6
        },
        {
         "#": 6,
         "Name": "CharizardMega Charizard X",
         "Type 1": "Fire",
         "Type 2": "Dragon",
         "Total": 634,
         "HP": 78,
         "Attack": 130,
         "Defense": 111,
         "Sp. Atk": 130,
         "Sp. Def": 85,
         "Speed": 100,
         "Generation": 1,
         "Legendary": "False",
         "_deepnote_index_column": 7
        },
        {
         "#": 6,
         "Name": "CharizardMega Charizard Y",
         "Type 1": "Fire",
         "Type 2": "Flying",
         "Total": 634,
         "HP": 78,
         "Attack": 104,
         "Defense": 78,
         "Sp. Atk": 159,
         "Sp. Def": 115,
         "Speed": 100,
         "Generation": 1,
         "Legendary": "False",
         "_deepnote_index_column": 8
        },
        {
         "#": 7,
         "Name": "Squirtle",
         "Type 1": "Water",
         "Type 2": "nan",
         "Total": 314,
         "HP": 44,
         "Attack": 48,
         "Defense": 65,
         "Sp. Atk": 50,
         "Sp. Def": 64,
         "Speed": 43,
         "Generation": 1,
         "Legendary": "False",
         "_deepnote_index_column": 9
        }
       ]
      },
      "text/plain": "       #                   Name   Type 1  Type 2  Total  HP  Attack  Defense  \\\n0      1              Bulbasaur    Grass  Poison    318  45      49       49   \n1      2                Ivysaur    Grass  Poison    405  60      62       63   \n2      3               Venusaur    Grass  Poison    525  80      82       83   \n3      3  VenusaurMega Venusaur    Grass  Poison    625  80     100      123   \n4      4             Charmander     Fire     NaN    309  39      52       43   \n..   ...                    ...      ...     ...    ...  ..     ...      ...   \n795  719                Diancie     Rock   Fairy    600  50     100      150   \n796  719    DiancieMega Diancie     Rock   Fairy    700  50     160      110   \n797  720    HoopaHoopa Confined  Psychic   Ghost    600  80     110       60   \n798  720     HoopaHoopa Unbound  Psychic    Dark    680  80     160       60   \n799  721              Volcanion     Fire   Water    600  80     110      120   \n\n     Sp. Atk  Sp. Def  Speed  Generation  Legendary  \n0         65       65     45           1      False  \n1         80       80     60           1      False  \n2        100      100     80           1      False  \n3        122      120     80           1      False  \n4         60       50     65           1      False  \n..       ...      ...    ...         ...        ...  \n795      100      150     50           6       True  \n796      160      110    110           6       True  \n797      150      130     70           6       True  \n798      170      130     80           6       True  \n799      130       90     70           6       True  \n\n[800 rows x 13 columns]",
      "text/html": "<div>\n<style scoped>\n    .dataframe tbody tr th:only-of-type {\n        vertical-align: middle;\n    }\n\n    .dataframe tbody tr th {\n        vertical-align: top;\n    }\n\n    .dataframe thead th {\n        text-align: right;\n    }\n</style>\n<table border=\"1\" class=\"dataframe\">\n  <thead>\n    <tr style=\"text-align: right;\">\n      <th></th>\n      <th>#</th>\n      <th>Name</th>\n      <th>Type 1</th>\n      <th>Type 2</th>\n      <th>Total</th>\n      <th>HP</th>\n      <th>Attack</th>\n      <th>Defense</th>\n      <th>Sp. Atk</th>\n      <th>Sp. Def</th>\n      <th>Speed</th>\n      <th>Generation</th>\n      <th>Legendary</th>\n    </tr>\n  </thead>\n  <tbody>\n    <tr>\n      <th>0</th>\n      <td>1</td>\n      <td>Bulbasaur</td>\n      <td>Grass</td>\n      <td>Poison</td>\n      <td>318</td>\n      <td>45</td>\n      <td>49</td>\n      <td>49</td>\n      <td>65</td>\n      <td>65</td>\n      <td>45</td>\n      <td>1</td>\n      <td>False</td>\n    </tr>\n    <tr>\n      <th>1</th>\n      <td>2</td>\n      <td>Ivysaur</td>\n      <td>Grass</td>\n      <td>Poison</td>\n      <td>405</td>\n      <td>60</td>\n      <td>62</td>\n      <td>63</td>\n      <td>80</td>\n      <td>80</td>\n      <td>60</td>\n      <td>1</td>\n      <td>False</td>\n    </tr>\n    <tr>\n      <th>2</th>\n      <td>3</td>\n      <td>Venusaur</td>\n      <td>Grass</td>\n      <td>Poison</td>\n      <td>525</td>\n      <td>80</td>\n      <td>82</td>\n      <td>83</td>\n      <td>100</td>\n      <td>100</td>\n      <td>80</td>\n      <td>1</td>\n      <td>False</td>\n    </tr>\n    <tr>\n      <th>3</th>\n      <td>3</td>\n      <td>VenusaurMega Venusaur</td>\n      <td>Grass</td>\n      <td>Poison</td>\n      <td>625</td>\n      <td>80</td>\n      <td>100</td>\n      <td>123</td>\n      <td>122</td>\n      <td>120</td>\n      <td>80</td>\n      <td>1</td>\n      <td>False</td>\n    </tr>\n    <tr>\n      <th>4</th>\n      <td>4</td>\n      <td>Charmander</td>\n      <td>Fire</td>\n      <td>NaN</td>\n      <td>309</td>\n      <td>39</td>\n      <td>52</td>\n      <td>43</td>\n      <td>60</td>\n      <td>50</td>\n      <td>65</td>\n      <td>1</td>\n      <td>False</td>\n    </tr>\n    <tr>\n      <th>...</th>\n      <td>...</td>\n      <td>...</td>\n      <td>...</td>\n      <td>...</td>\n      <td>...</td>\n      <td>...</td>\n      <td>...</td>\n      <td>...</td>\n      <td>...</td>\n      <td>...</td>\n      <td>...</td>\n      <td>...</td>\n      <td>...</td>\n    </tr>\n    <tr>\n      <th>795</th>\n      <td>719</td>\n      <td>Diancie</td>\n      <td>Rock</td>\n      <td>Fairy</td>\n      <td>600</td>\n      <td>50</td>\n      <td>100</td>\n      <td>150</td>\n      <td>100</td>\n      <td>150</td>\n      <td>50</td>\n      <td>6</td>\n      <td>True</td>\n    </tr>\n    <tr>\n      <th>796</th>\n      <td>719</td>\n      <td>DiancieMega Diancie</td>\n      <td>Rock</td>\n      <td>Fairy</td>\n      <td>700</td>\n      <td>50</td>\n      <td>160</td>\n      <td>110</td>\n      <td>160</td>\n      <td>110</td>\n      <td>110</td>\n      <td>6</td>\n      <td>True</td>\n    </tr>\n    <tr>\n      <th>797</th>\n      <td>720</td>\n      <td>HoopaHoopa Confined</td>\n      <td>Psychic</td>\n      <td>Ghost</td>\n      <td>600</td>\n      <td>80</td>\n      <td>110</td>\n      <td>60</td>\n      <td>150</td>\n      <td>130</td>\n      <td>70</td>\n      <td>6</td>\n      <td>True</td>\n    </tr>\n    <tr>\n      <th>798</th>\n      <td>720</td>\n      <td>HoopaHoopa Unbound</td>\n      <td>Psychic</td>\n      <td>Dark</td>\n      <td>680</td>\n      <td>80</td>\n      <td>160</td>\n      <td>60</td>\n      <td>170</td>\n      <td>130</td>\n      <td>80</td>\n      <td>6</td>\n      <td>True</td>\n    </tr>\n    <tr>\n      <th>799</th>\n      <td>721</td>\n      <td>Volcanion</td>\n      <td>Fire</td>\n      <td>Water</td>\n      <td>600</td>\n      <td>80</td>\n      <td>110</td>\n      <td>120</td>\n      <td>130</td>\n      <td>90</td>\n      <td>70</td>\n      <td>6</td>\n      <td>True</td>\n    </tr>\n  </tbody>\n</table>\n<p>800 rows × 13 columns</p>\n</div>"
     },
     "metadata": {}
    }
   ]
  },
  {
   "cell_type": "markdown",
   "metadata": {
    "tags": [],
    "cell_id": "615fd275a53848bba543970622bb76bc",
    "deepnote_cell_type": "markdown"
   },
   "source": [
    "I think I'm going to use the pokemons that have two types to avoid the error porvided by types. \n",
    "Use dropna() method to drop the nan value in the whole dataset."
   ],
   "block_group": "615fd275a53848bba543970622bb76bc"
  },
  {
   "cell_type": "code",
   "metadata": {
    "tags": [],
    "cell_id": "a8674744c4ec4b06ac3d62772892bc27",
    "source_hash": null,
    "execution_start": 1702174242859,
    "execution_millis": 22,
    "deepnote_to_be_reexecuted": false,
    "deepnote_cell_type": "code"
   },
   "source": [
    "df = df.dropna()"
   ],
   "block_group": "a8674744c4ec4b06ac3d62772892bc27",
   "execution_count": null,
   "outputs": []
  },
  {
   "cell_type": "markdown",
   "metadata": {
    "tags": [],
    "cell_id": "c419b59819fb4f51befe41ae07b3ab48",
    "deepnote_cell_type": "markdown"
   },
   "source": [
    "I plan to use non-legendary pokemon for this project because the legendary pokemons are designed to have higher stats compared to the regular pokemons."
   ],
   "block_group": "c419b59819fb4f51befe41ae07b3ab48"
  },
  {
   "cell_type": "code",
   "metadata": {
    "tags": [],
    "cell_id": "c18699ef95f14c6c962a165bcd9cacaf",
    "source_hash": null,
    "execution_start": 1702174242872,
    "execution_millis": 32,
    "deepnote_table_state": {
     "sortBy": [],
     "filters": [],
     "pageSize": 10,
     "pageIndex": 0
    },
    "deepnote_table_loading": false,
    "deepnote_to_be_reexecuted": false,
    "deepnote_cell_type": "code"
   },
   "source": [
    "df = df[df[\"Legendary\"]==False]\n",
    "df"
   ],
   "block_group": "c18699ef95f14c6c962a165bcd9cacaf",
   "execution_count": null,
   "outputs": [
    {
     "output_type": "execute_result",
     "execution_count": 4,
     "data": {
      "application/vnd.deepnote.dataframe.v3+json": {
       "column_count": 13,
       "row_count": 374,
       "columns": [
        {
         "name": "#",
         "dtype": "int64",
         "stats": {
          "unique_count": 329,
          "nan_count": 0,
          "min": "1",
          "max": "715",
          "histogram": [
           {
            "bin_start": 1,
            "bin_end": 72.4,
            "count": 36
           },
           {
            "bin_start": 72.4,
            "bin_end": 143.8,
            "count": 37
           },
           {
            "bin_start": 143.8,
            "bin_end": 215.20000000000002,
            "count": 37
           },
           {
            "bin_start": 215.20000000000002,
            "bin_end": 286.6,
            "count": 42
           },
           {
            "bin_start": 286.6,
            "bin_end": 358,
            "count": 39
           },
           {
            "bin_start": 358,
            "bin_end": 429.40000000000003,
            "count": 32
           },
           {
            "bin_start": 429.40000000000003,
            "bin_end": 500.80000000000007,
            "count": 41
           },
           {
            "bin_start": 500.80000000000007,
            "bin_end": 572.2,
            "count": 30
           },
           {
            "bin_start": 572.2,
            "bin_end": 643.6,
            "count": 32
           },
           {
            "bin_start": 643.6,
            "bin_end": 715,
            "count": 48
           }
          ]
         }
        },
        {
         "name": "Name",
         "dtype": "object",
         "stats": {
          "unique_count": 374,
          "nan_count": 0,
          "categories": [
           {
            "name": "Bulbasaur",
            "count": 1
           },
           {
            "name": "Ivysaur",
            "count": 1
           },
           {
            "name": "372 others",
            "count": 372
           }
          ]
         }
        },
        {
         "name": "Type 1",
         "dtype": "object",
         "stats": {
          "unique_count": 18,
          "nan_count": 0,
          "categories": [
           {
            "name": "Bug",
            "count": 52
           },
           {
            "name": "Water",
            "count": 52
           },
           {
            "name": "16 others",
            "count": 270
           }
          ]
         }
        },
        {
         "name": "Type 2",
         "dtype": "object",
         "stats": {
          "unique_count": 18,
          "nan_count": 0,
          "categories": [
           {
            "name": "Flying",
            "count": 84
           },
           {
            "name": "Poison",
            "count": 34
           },
           {
            "name": "16 others",
            "count": 256
           }
          ]
         }
        },
        {
         "name": "Total",
         "dtype": "int64",
         "stats": {
          "unique_count": 142,
          "nan_count": 0,
          "min": "190",
          "max": "700",
          "histogram": [
           {
            "bin_start": 190,
            "bin_end": 241,
            "count": 8
           },
           {
            "bin_start": 241,
            "bin_end": 292,
            "count": 30
           },
           {
            "bin_start": 292,
            "bin_end": 343,
            "count": 56
           },
           {
            "bin_start": 343,
            "bin_end": 394,
            "count": 35
           },
           {
            "bin_start": 394,
            "bin_end": 445,
            "count": 48
           },
           {
            "bin_start": 445,
            "bin_end": 496,
            "count": 79
           },
           {
            "bin_start": 496,
            "bin_end": 547,
            "count": 75
           },
           {
            "bin_start": 547,
            "bin_end": 598,
            "count": 11
           },
           {
            "bin_start": 598,
            "bin_end": 649,
            "count": 28
           },
           {
            "bin_start": 649,
            "bin_end": 700,
            "count": 4
           }
          ]
         }
        },
        {
         "name": "HP",
         "dtype": "int64",
         "stats": {
          "unique_count": 70,
          "nan_count": 0,
          "min": "1",
          "max": "150",
          "histogram": [
           {
            "bin_start": 1,
            "bin_end": 15.9,
            "count": 1
           },
           {
            "bin_start": 15.9,
            "bin_end": 30.8,
            "count": 10
           },
           {
            "bin_start": 30.8,
            "bin_end": 45.7,
            "count": 49
           },
           {
            "bin_start": 45.7,
            "bin_end": 60.6,
            "count": 101
           },
           {
            "bin_start": 60.6,
            "bin_end": 75.5,
            "count": 99
           },
           {
            "bin_start": 75.5,
            "bin_end": 90.4,
            "count": 60
           },
           {
            "bin_start": 90.4,
            "bin_end": 105.3,
            "count": 36
           },
           {
            "bin_start": 105.3,
            "bin_end": 120.2,
            "count": 13
           },
           {
            "bin_start": 120.2,
            "bin_end": 135.1,
            "count": 3
           },
           {
            "bin_start": 135.1,
            "bin_end": 150,
            "count": 2
           }
          ]
         }
        },
        {
         "name": "Attack",
         "dtype": "int64",
         "stats": {
          "unique_count": 91,
          "nan_count": 0,
          "min": "10",
          "max": "185",
          "histogram": [
           {
            "bin_start": 10,
            "bin_end": 27.5,
            "count": 10
           },
           {
            "bin_start": 27.5,
            "bin_end": 45,
            "count": 33
           },
           {
            "bin_start": 45,
            "bin_end": 62.5,
            "count": 80
           },
           {
            "bin_start": 62.5,
            "bin_end": 80,
            "count": 74
           },
           {
            "bin_start": 80,
            "bin_end": 97.5,
            "count": 86
           },
           {
            "bin_start": 97.5,
            "bin_end": 115,
            "count": 34
           },
           {
            "bin_start": 115,
            "bin_end": 132.5,
            "count": 32
           },
           {
            "bin_start": 132.5,
            "bin_end": 150,
            "count": 14
           },
           {
            "bin_start": 150,
            "bin_end": 167.5,
            "count": 9
           },
           {
            "bin_start": 167.5,
            "bin_end": 185,
            "count": 2
           }
          ]
         }
        },
        {
         "name": "Defense",
         "dtype": "int64",
         "stats": {
          "unique_count": 83,
          "nan_count": 0,
          "min": "15",
          "max": "230",
          "histogram": [
           {
            "bin_start": 15,
            "bin_end": 36.5,
            "count": 26
           },
           {
            "bin_start": 36.5,
            "bin_end": 58,
            "count": 85
           },
           {
            "bin_start": 58,
            "bin_end": 79.5,
            "count": 101
           },
           {
            "bin_start": 79.5,
            "bin_end": 101,
            "count": 87
           },
           {
            "bin_start": 101,
            "bin_end": 122.5,
            "count": 43
           },
           {
            "bin_start": 122.5,
            "bin_end": 144,
            "count": 18
           },
           {
            "bin_start": 144,
            "bin_end": 165.5,
            "count": 7
           },
           {
            "bin_start": 165.5,
            "bin_end": 187,
            "count": 4
           },
           {
            "bin_start": 187,
            "bin_end": 208.5,
            "count": 1
           },
           {
            "bin_start": 208.5,
            "bin_end": 230,
            "count": 2
           }
          ]
         }
        },
        {
         "name": "Sp. Atk",
         "dtype": "int64",
         "stats": {
          "unique_count": 81,
          "nan_count": 0,
          "min": "10",
          "max": "170",
          "histogram": [
           {
            "bin_start": 10,
            "bin_end": 26,
            "count": 9
           },
           {
            "bin_start": 26,
            "bin_end": 42,
            "count": 52
           },
           {
            "bin_start": 42,
            "bin_end": 58,
            "count": 76
           },
           {
            "bin_start": 58,
            "bin_end": 74,
            "count": 79
           },
           {
            "bin_start": 74,
            "bin_end": 90,
            "count": 55
           },
           {
            "bin_start": 90,
            "bin_end": 106,
            "count": 53
           },
           {
            "bin_start": 106,
            "bin_end": 122,
            "count": 23
           },
           {
            "bin_start": 122,
            "bin_end": 138,
            "count": 16
           },
           {
            "bin_start": 138,
            "bin_end": 154,
            "count": 7
           },
           {
            "bin_start": 154,
            "bin_end": 170,
            "count": 4
           }
          ]
         }
        },
        {
         "name": "Sp. Def",
         "dtype": "int64",
         "stats": {
          "unique_count": 68,
          "nan_count": 0,
          "min": "20",
          "max": "230",
          "histogram": [
           {
            "bin_start": 20,
            "bin_end": 41,
            "count": 37
           },
           {
            "bin_start": 41,
            "bin_end": 62,
            "count": 109
           },
           {
            "bin_start": 62,
            "bin_end": 83,
            "count": 112
           },
           {
            "bin_start": 83,
            "bin_end": 104,
            "count": 66
           },
           {
            "bin_start": 104,
            "bin_end": 125,
            "count": 40
           },
           {
            "bin_start": 125,
            "bin_end": 146,
            "count": 6
           },
           {
            "bin_start": 146,
            "bin_end": 167,
            "count": 3
           },
           {
            "bin_start": 167,
            "bin_end": 188,
            "count": 0
           },
           {
            "bin_start": 188,
            "bin_end": 209,
            "count": 0
           },
           {
            "bin_start": 209,
            "bin_end": 230,
            "count": 1
           }
          ]
         }
        },
        {
         "name": "Speed",
         "dtype": "int64",
         "stats": {
          "unique_count": 91,
          "nan_count": 0,
          "min": "5",
          "max": "160",
          "histogram": [
           {
            "bin_start": 5,
            "bin_end": 20.5,
            "count": 14
           },
           {
            "bin_start": 20.5,
            "bin_end": 36,
            "count": 36
           },
           {
            "bin_start": 36,
            "bin_end": 51.5,
            "count": 71
           },
           {
            "bin_start": 51.5,
            "bin_end": 67,
            "count": 70
           },
           {
            "bin_start": 67,
            "bin_end": 82.5,
            "count": 76
           },
           {
            "bin_start": 82.5,
            "bin_end": 98,
            "count": 44
           },
           {
            "bin_start": 98,
            "bin_end": 113.5,
            "count": 41
           },
           {
            "bin_start": 113.5,
            "bin_end": 129,
            "count": 14
           },
           {
            "bin_start": 129,
            "bin_end": 144.5,
            "count": 4
           },
           {
            "bin_start": 144.5,
            "bin_end": 160,
            "count": 4
           }
          ]
         }
        },
        {
         "name": "Generation",
         "dtype": "int64",
         "stats": {
          "unique_count": 6,
          "nan_count": 0,
          "min": "1",
          "max": "6",
          "histogram": [
           {
            "bin_start": 1,
            "bin_end": 1.5,
            "count": 74
           },
           {
            "bin_start": 1.5,
            "bin_end": 2,
            "count": 0
           },
           {
            "bin_start": 2,
            "bin_end": 2.5,
            "count": 53
           },
           {
            "bin_start": 2.5,
            "bin_end": 3,
            "count": 0
           },
           {
            "bin_start": 3,
            "bin_end": 3.5,
            "count": 74
           },
           {
            "bin_start": 3.5,
            "bin_end": 4,
            "count": 0
           },
           {
            "bin_start": 4,
            "bin_end": 4.5,
            "count": 61
           },
           {
            "bin_start": 4.5,
            "bin_end": 5,
            "count": 0
           },
           {
            "bin_start": 5,
            "bin_end": 5.5,
            "count": 69
           },
           {
            "bin_start": 5.5,
            "bin_end": 6,
            "count": 43
           }
          ]
         }
        },
        {
         "name": "Legendary",
         "dtype": "bool",
         "stats": {
          "unique_count": 1,
          "nan_count": 0,
          "categories": [
           {
            "name": "False",
            "count": 374
           }
          ]
         }
        },
        {
         "name": "_deepnote_index_column",
         "dtype": "int64"
        }
       ],
       "rows": [
        {
         "#": 1,
         "Name": "Bulbasaur",
         "Type 1": "Grass",
         "Type 2": "Poison",
         "Total": 318,
         "HP": 45,
         "Attack": 49,
         "Defense": 49,
         "Sp. Atk": 65,
         "Sp. Def": 65,
         "Speed": 45,
         "Generation": 1,
         "Legendary": "False",
         "_deepnote_index_column": 0
        },
        {
         "#": 2,
         "Name": "Ivysaur",
         "Type 1": "Grass",
         "Type 2": "Poison",
         "Total": 405,
         "HP": 60,
         "Attack": 62,
         "Defense": 63,
         "Sp. Atk": 80,
         "Sp. Def": 80,
         "Speed": 60,
         "Generation": 1,
         "Legendary": "False",
         "_deepnote_index_column": 1
        },
        {
         "#": 3,
         "Name": "Venusaur",
         "Type 1": "Grass",
         "Type 2": "Poison",
         "Total": 525,
         "HP": 80,
         "Attack": 82,
         "Defense": 83,
         "Sp. Atk": 100,
         "Sp. Def": 100,
         "Speed": 80,
         "Generation": 1,
         "Legendary": "False",
         "_deepnote_index_column": 2
        },
        {
         "#": 3,
         "Name": "VenusaurMega Venusaur",
         "Type 1": "Grass",
         "Type 2": "Poison",
         "Total": 625,
         "HP": 80,
         "Attack": 100,
         "Defense": 123,
         "Sp. Atk": 122,
         "Sp. Def": 120,
         "Speed": 80,
         "Generation": 1,
         "Legendary": "False",
         "_deepnote_index_column": 3
        },
        {
         "#": 6,
         "Name": "Charizard",
         "Type 1": "Fire",
         "Type 2": "Flying",
         "Total": 534,
         "HP": 78,
         "Attack": 84,
         "Defense": 78,
         "Sp. Atk": 109,
         "Sp. Def": 85,
         "Speed": 100,
         "Generation": 1,
         "Legendary": "False",
         "_deepnote_index_column": 6
        },
        {
         "#": 6,
         "Name": "CharizardMega Charizard X",
         "Type 1": "Fire",
         "Type 2": "Dragon",
         "Total": 634,
         "HP": 78,
         "Attack": 130,
         "Defense": 111,
         "Sp. Atk": 130,
         "Sp. Def": 85,
         "Speed": 100,
         "Generation": 1,
         "Legendary": "False",
         "_deepnote_index_column": 7
        },
        {
         "#": 6,
         "Name": "CharizardMega Charizard Y",
         "Type 1": "Fire",
         "Type 2": "Flying",
         "Total": 634,
         "HP": 78,
         "Attack": 104,
         "Defense": 78,
         "Sp. Atk": 159,
         "Sp. Def": 115,
         "Speed": 100,
         "Generation": 1,
         "Legendary": "False",
         "_deepnote_index_column": 8
        },
        {
         "#": 12,
         "Name": "Butterfree",
         "Type 1": "Bug",
         "Type 2": "Flying",
         "Total": 395,
         "HP": 60,
         "Attack": 45,
         "Defense": 50,
         "Sp. Atk": 90,
         "Sp. Def": 80,
         "Speed": 70,
         "Generation": 1,
         "Legendary": "False",
         "_deepnote_index_column": 15
        },
        {
         "#": 13,
         "Name": "Weedle",
         "Type 1": "Bug",
         "Type 2": "Poison",
         "Total": 195,
         "HP": 40,
         "Attack": 35,
         "Defense": 30,
         "Sp. Atk": 20,
         "Sp. Def": 20,
         "Speed": 50,
         "Generation": 1,
         "Legendary": "False",
         "_deepnote_index_column": 16
        },
        {
         "#": 14,
         "Name": "Kakuna",
         "Type 1": "Bug",
         "Type 2": "Poison",
         "Total": 205,
         "HP": 45,
         "Attack": 25,
         "Defense": 50,
         "Sp. Atk": 25,
         "Sp. Def": 25,
         "Speed": 35,
         "Generation": 1,
         "Legendary": "False",
         "_deepnote_index_column": 17
        }
       ]
      },
      "text/plain": "       #                   Name  Type 1  Type 2  Total  HP  Attack  Defense  \\\n0      1              Bulbasaur   Grass  Poison    318  45      49       49   \n1      2                Ivysaur   Grass  Poison    405  60      62       63   \n2      3               Venusaur   Grass  Poison    525  80      82       83   \n3      3  VenusaurMega Venusaur   Grass  Poison    625  80     100      123   \n6      6              Charizard    Fire  Flying    534  78      84       78   \n..   ...                    ...     ...     ...    ...  ..     ...      ...   \n785  711    GourgeistSmall Size   Ghost   Grass    494  55      85      122   \n786  711    GourgeistLarge Size   Ghost   Grass    494  75      95      122   \n787  711    GourgeistSuper Size   Ghost   Grass    494  85     100      122   \n790  714                 Noibat  Flying  Dragon    245  40      30       35   \n791  715                Noivern  Flying  Dragon    535  85      70       80   \n\n     Sp. Atk  Sp. Def  Speed  Generation  Legendary  \n0         65       65     45           1      False  \n1         80       80     60           1      False  \n2        100      100     80           1      False  \n3        122      120     80           1      False  \n6        109       85    100           1      False  \n..       ...      ...    ...         ...        ...  \n785       58       75     99           6      False  \n786       58       75     69           6      False  \n787       58       75     54           6      False  \n790       45       40     55           6      False  \n791       97       80    123           6      False  \n\n[374 rows x 13 columns]",
      "text/html": "<div>\n<style scoped>\n    .dataframe tbody tr th:only-of-type {\n        vertical-align: middle;\n    }\n\n    .dataframe tbody tr th {\n        vertical-align: top;\n    }\n\n    .dataframe thead th {\n        text-align: right;\n    }\n</style>\n<table border=\"1\" class=\"dataframe\">\n  <thead>\n    <tr style=\"text-align: right;\">\n      <th></th>\n      <th>#</th>\n      <th>Name</th>\n      <th>Type 1</th>\n      <th>Type 2</th>\n      <th>Total</th>\n      <th>HP</th>\n      <th>Attack</th>\n      <th>Defense</th>\n      <th>Sp. Atk</th>\n      <th>Sp. Def</th>\n      <th>Speed</th>\n      <th>Generation</th>\n      <th>Legendary</th>\n    </tr>\n  </thead>\n  <tbody>\n    <tr>\n      <th>0</th>\n      <td>1</td>\n      <td>Bulbasaur</td>\n      <td>Grass</td>\n      <td>Poison</td>\n      <td>318</td>\n      <td>45</td>\n      <td>49</td>\n      <td>49</td>\n      <td>65</td>\n      <td>65</td>\n      <td>45</td>\n      <td>1</td>\n      <td>False</td>\n    </tr>\n    <tr>\n      <th>1</th>\n      <td>2</td>\n      <td>Ivysaur</td>\n      <td>Grass</td>\n      <td>Poison</td>\n      <td>405</td>\n      <td>60</td>\n      <td>62</td>\n      <td>63</td>\n      <td>80</td>\n      <td>80</td>\n      <td>60</td>\n      <td>1</td>\n      <td>False</td>\n    </tr>\n    <tr>\n      <th>2</th>\n      <td>3</td>\n      <td>Venusaur</td>\n      <td>Grass</td>\n      <td>Poison</td>\n      <td>525</td>\n      <td>80</td>\n      <td>82</td>\n      <td>83</td>\n      <td>100</td>\n      <td>100</td>\n      <td>80</td>\n      <td>1</td>\n      <td>False</td>\n    </tr>\n    <tr>\n      <th>3</th>\n      <td>3</td>\n      <td>VenusaurMega Venusaur</td>\n      <td>Grass</td>\n      <td>Poison</td>\n      <td>625</td>\n      <td>80</td>\n      <td>100</td>\n      <td>123</td>\n      <td>122</td>\n      <td>120</td>\n      <td>80</td>\n      <td>1</td>\n      <td>False</td>\n    </tr>\n    <tr>\n      <th>6</th>\n      <td>6</td>\n      <td>Charizard</td>\n      <td>Fire</td>\n      <td>Flying</td>\n      <td>534</td>\n      <td>78</td>\n      <td>84</td>\n      <td>78</td>\n      <td>109</td>\n      <td>85</td>\n      <td>100</td>\n      <td>1</td>\n      <td>False</td>\n    </tr>\n    <tr>\n      <th>...</th>\n      <td>...</td>\n      <td>...</td>\n      <td>...</td>\n      <td>...</td>\n      <td>...</td>\n      <td>...</td>\n      <td>...</td>\n      <td>...</td>\n      <td>...</td>\n      <td>...</td>\n      <td>...</td>\n      <td>...</td>\n      <td>...</td>\n    </tr>\n    <tr>\n      <th>785</th>\n      <td>711</td>\n      <td>GourgeistSmall Size</td>\n      <td>Ghost</td>\n      <td>Grass</td>\n      <td>494</td>\n      <td>55</td>\n      <td>85</td>\n      <td>122</td>\n      <td>58</td>\n      <td>75</td>\n      <td>99</td>\n      <td>6</td>\n      <td>False</td>\n    </tr>\n    <tr>\n      <th>786</th>\n      <td>711</td>\n      <td>GourgeistLarge Size</td>\n      <td>Ghost</td>\n      <td>Grass</td>\n      <td>494</td>\n      <td>75</td>\n      <td>95</td>\n      <td>122</td>\n      <td>58</td>\n      <td>75</td>\n      <td>69</td>\n      <td>6</td>\n      <td>False</td>\n    </tr>\n    <tr>\n      <th>787</th>\n      <td>711</td>\n      <td>GourgeistSuper Size</td>\n      <td>Ghost</td>\n      <td>Grass</td>\n      <td>494</td>\n      <td>85</td>\n      <td>100</td>\n      <td>122</td>\n      <td>58</td>\n      <td>75</td>\n      <td>54</td>\n      <td>6</td>\n      <td>False</td>\n    </tr>\n    <tr>\n      <th>790</th>\n      <td>714</td>\n      <td>Noibat</td>\n      <td>Flying</td>\n      <td>Dragon</td>\n      <td>245</td>\n      <td>40</td>\n      <td>30</td>\n      <td>35</td>\n      <td>45</td>\n      <td>40</td>\n      <td>55</td>\n      <td>6</td>\n      <td>False</td>\n    </tr>\n    <tr>\n      <th>791</th>\n      <td>715</td>\n      <td>Noivern</td>\n      <td>Flying</td>\n      <td>Dragon</td>\n      <td>535</td>\n      <td>85</td>\n      <td>70</td>\n      <td>80</td>\n      <td>97</td>\n      <td>80</td>\n      <td>123</td>\n      <td>6</td>\n      <td>False</td>\n    </tr>\n  </tbody>\n</table>\n<p>374 rows × 13 columns</p>\n</div>"
     },
     "metadata": {}
    }
   ]
  },
  {
   "cell_type": "markdown",
   "metadata": {
    "tags": [],
    "cell_id": "b02823dcb3424299b71e398fa7624a15",
    "deepnote_cell_type": "markdown"
   },
   "source": [
    "I don't need the \"Legendary\" column anymore, so I just drop it."
   ],
   "block_group": "b02823dcb3424299b71e398fa7624a15"
  },
  {
   "cell_type": "code",
   "metadata": {
    "tags": [],
    "cell_id": "9c8c702a562c494aa417f982fb31ecf8",
    "source_hash": null,
    "execution_start": 1702174242915,
    "execution_millis": 9,
    "deepnote_to_be_reexecuted": false,
    "deepnote_cell_type": "code"
   },
   "source": [
    "df = df.drop(\"Legendary\",axis=1)"
   ],
   "block_group": "9c8c702a562c494aa417f982fb31ecf8",
   "execution_count": null,
   "outputs": []
  },
  {
   "cell_type": "markdown",
   "metadata": {
    "tags": [],
    "cell_id": "3fff9d70be974a80af0a3bacaceda784",
    "deepnote_cell_type": "markdown"
   },
   "source": [
    "The original column names are not working when doing the altair chart, so I change  the name for speical attack and defense."
   ],
   "block_group": "3fff9d70be974a80af0a3bacaceda784"
  },
  {
   "cell_type": "code",
   "metadata": {
    "tags": [],
    "cell_id": "ca0524b1b48f4359a2fe112a266ad780",
    "source_hash": null,
    "execution_start": 1702174242920,
    "execution_millis": 8,
    "deepnote_to_be_reexecuted": false,
    "deepnote_cell_type": "code"
   },
   "source": [
    "df = df.rename(columns={\"Sp. Atk\":\"SpecialA\",\"Sp. Def\": \"SpecialD\"})"
   ],
   "block_group": "ca0524b1b48f4359a2fe112a266ad780",
   "execution_count": null,
   "outputs": []
  },
  {
   "cell_type": "code",
   "metadata": {
    "tags": [],
    "cell_id": "53b9817107a1473a9094145a980dd344",
    "source_hash": null,
    "execution_start": 1702174242974,
    "execution_millis": 18,
    "deepnote_to_be_reexecuted": false,
    "deepnote_cell_type": "code"
   },
   "source": [
    "df.shape"
   ],
   "block_group": "53b9817107a1473a9094145a980dd344",
   "execution_count": null,
   "outputs": [
    {
     "output_type": "execute_result",
     "execution_count": 7,
     "data": {
      "text/plain": "(374, 12)"
     },
     "metadata": {}
    }
   ]
  },
  {
   "cell_type": "markdown",
   "metadata": {
    "tags": [],
    "cell_id": "5a86528f9afd411ab62f35ded539987e",
    "deepnote_cell_type": "markdown"
   },
   "source": [
    "## Analysis of the dataset"
   ],
   "block_group": "5a86528f9afd411ab62f35ded539987e"
  },
  {
   "cell_type": "markdown",
   "metadata": {
    "tags": [],
    "cell_id": "fa8c99cfbac04797a68d2b299e22b4fa",
    "deepnote_cell_type": "markdown"
   },
   "source": [
    "To focus on the generation, first check the number of pokemons in each generations."
   ],
   "block_group": "fa8c99cfbac04797a68d2b299e22b4fa"
  },
  {
   "cell_type": "code",
   "metadata": {
    "tags": [],
    "cell_id": "db0ccac12fd64ac1b747a797016bc79a",
    "source_hash": null,
    "execution_start": 1702174242975,
    "execution_millis": 28,
    "deepnote_to_be_reexecuted": false,
    "deepnote_cell_type": "code"
   },
   "source": [
    "df[\"Generation\"].value_counts()"
   ],
   "block_group": "db0ccac12fd64ac1b747a797016bc79a",
   "execution_count": null,
   "outputs": [
    {
     "output_type": "execute_result",
     "execution_count": 8,
     "data": {
      "text/plain": "1    74\n3    74\n5    69\n4    61\n2    53\n6    43\nName: Generation, dtype: int64"
     },
     "metadata": {}
    }
   ]
  },
  {
   "cell_type": "markdown",
   "metadata": {
    "tags": [],
    "cell_id": "dfbf5cb56df641a3b4d4a5421a143d8f",
    "deepnote_cell_type": "markdown"
   },
   "source": [
    "Use groupby method to see more detailed information."
   ],
   "block_group": "dfbf5cb56df641a3b4d4a5421a143d8f"
  },
  {
   "cell_type": "code",
   "metadata": {
    "tags": [],
    "cell_id": "000e94fd947a4bcdb08605f455034d92",
    "source_hash": null,
    "execution_start": 1702174242975,
    "execution_millis": 182,
    "deepnote_to_be_reexecuted": false,
    "deepnote_cell_type": "code"
   },
   "source": [
    "df.groupby(\"Generation\").apply(display)"
   ],
   "block_group": "000e94fd947a4bcdb08605f455034d92",
   "execution_count": null,
   "outputs": [
    {
     "data": {
      "application/vnd.deepnote.dataframe.v3+json": {
       "column_count": 12,
       "row_count": 74,
       "columns": [
        {
         "name": "#",
         "dtype": "int64",
         "stats": {
          "unique_count": 65,
          "nan_count": 0,
          "min": "1",
          "max": "149",
          "histogram": [
           {
            "bin_start": 1,
            "bin_end": 15.8,
            "count": 12
           },
           {
            "bin_start": 15.8,
            "bin_end": 30.6,
            "count": 6
           },
           {
            "bin_start": 30.6,
            "bin_end": 45.400000000000006,
            "count": 9
           },
           {
            "bin_start": 45.400000000000006,
            "bin_end": 60.2,
            "count": 4
           },
           {
            "bin_start": 60.2,
            "bin_end": 75,
            "count": 7
           },
           {
            "bin_start": 75,
            "bin_end": 89.80000000000001,
            "count": 11
           },
           {
            "bin_start": 89.80000000000001,
            "bin_end": 104.60000000000001,
            "count": 8
           },
           {
            "bin_start": 104.60000000000001,
            "bin_end": 119.4,
            "count": 2
           },
           {
            "bin_start": 119.4,
            "bin_end": 134.20000000000002,
            "count": 8
           },
           {
            "bin_start": 134.20000000000002,
            "bin_end": 149,
            "count": 7
           }
          ]
         }
        },
        {
         "name": "Name",
         "dtype": "object",
         "stats": {
          "unique_count": 74,
          "nan_count": 0,
          "categories": [
           {
            "name": "Bulbasaur",
            "count": 1
           },
           {
            "name": "Ivysaur",
            "count": 1
           },
           {
            "name": "72 others",
            "count": 72
           }
          ]
         }
        },
        {
         "name": "Type 1",
         "dtype": "object",
         "stats": {
          "unique_count": 13,
          "nan_count": 0,
          "categories": [
           {
            "name": "Grass",
            "count": 12
           },
           {
            "name": "Water",
            "count": 12
           },
           {
            "name": "11 others",
            "count": 50
           }
          ]
         }
        },
        {
         "name": "Type 2",
         "dtype": "object",
         "stats": {
          "unique_count": 13,
          "nan_count": 0,
          "categories": [
           {
            "name": "Poison",
            "count": 22
           },
           {
            "name": "Flying",
            "count": 20
           },
           {
            "name": "11 others",
            "count": 32
           }
          ]
         }
        },
        {
         "name": "Total",
         "dtype": "int64",
         "stats": {
          "unique_count": 50,
          "nan_count": 0,
          "min": "195",
          "max": "640",
          "histogram": [
           {
            "bin_start": 195,
            "bin_end": 239.5,
            "count": 2
           },
           {
            "bin_start": 239.5,
            "bin_end": 284,
            "count": 4
           },
           {
            "bin_start": 284,
            "bin_end": 328.5,
            "count": 11
           },
           {
            "bin_start": 328.5,
            "bin_end": 373,
            "count": 6
           },
           {
            "bin_start": 373,
            "bin_end": 417.5,
            "count": 9
           },
           {
            "bin_start": 417.5,
            "bin_end": 462,
            "count": 7
           },
           {
            "bin_start": 462,
            "bin_end": 506.5,
            "count": 15
           },
           {
            "bin_start": 506.5,
            "bin_end": 551,
            "count": 10
           },
           {
            "bin_start": 551,
            "bin_end": 595.5,
            "count": 2
           },
           {
            "bin_start": 595.5,
            "bin_end": 640,
            "count": 8
           }
          ]
         }
        },
        {
         "name": "HP",
         "dtype": "int64",
         "stats": {
          "unique_count": 24,
          "nan_count": 0,
          "min": "25",
          "max": "140",
          "histogram": [
           {
            "bin_start": 25,
            "bin_end": 36.5,
            "count": 7
           },
           {
            "bin_start": 36.5,
            "bin_end": 48,
            "count": 11
           },
           {
            "bin_start": 48,
            "bin_end": 59.5,
            "count": 5
           },
           {
            "bin_start": 59.5,
            "bin_end": 71,
            "count": 21
           },
           {
            "bin_start": 71,
            "bin_end": 82.5,
            "count": 14
           },
           {
            "bin_start": 82.5,
            "bin_end": 94,
            "count": 7
           },
           {
            "bin_start": 94,
            "bin_end": 105.5,
            "count": 6
           },
           {
            "bin_start": 105.5,
            "bin_end": 117,
            "count": 1
           },
           {
            "bin_start": 117,
            "bin_end": 128.5,
            "count": 0
           },
           {
            "bin_start": 128.5,
            "bin_end": 140,
            "count": 2
           }
          ]
         }
        },
        {
         "name": "Attack",
         "dtype": "int64",
         "stats": {
          "unique_count": 32,
          "nan_count": 0,
          "min": "25",
          "max": "155",
          "histogram": [
           {
            "bin_start": 25,
            "bin_end": 38,
            "count": 4
           },
           {
            "bin_start": 38,
            "bin_end": 51,
            "count": 13
           },
           {
            "bin_start": 51,
            "bin_end": 64,
            "count": 6
           },
           {
            "bin_start": 64,
            "bin_end": 77,
            "count": 14
           },
           {
            "bin_start": 77,
            "bin_end": 90,
            "count": 11
           },
           {
            "bin_start": 90,
            "bin_end": 103,
            "count": 11
           },
           {
            "bin_start": 103,
            "bin_end": 116,
            "count": 6
           },
           {
            "bin_start": 116,
            "bin_end": 129,
            "count": 2
           },
           {
            "bin_start": 129,
            "bin_end": 142,
            "count": 4
           },
           {
            "bin_start": 142,
            "bin_end": 155,
            "count": 3
           }
          ]
         }
        },
        {
         "name": "Defense",
         "dtype": "int64",
         "stats": {
          "unique_count": 34,
          "nan_count": 0,
          "min": "20",
          "max": "180",
          "histogram": [
           {
            "bin_start": 20,
            "bin_end": 36,
            "count": 8
           },
           {
            "bin_start": 36,
            "bin_end": 52,
            "count": 11
           },
           {
            "bin_start": 52,
            "bin_end": 68,
            "count": 13
           },
           {
            "bin_start": 68,
            "bin_end": 84,
            "count": 17
           },
           {
            "bin_start": 84,
            "bin_end": 100,
            "count": 10
           },
           {
            "bin_start": 100,
            "bin_end": 116,
            "count": 7
           },
           {
            "bin_start": 116,
            "bin_end": 132,
            "count": 5
           },
           {
            "bin_start": 132,
            "bin_end": 148,
            "count": 0
           },
           {
            "bin_start": 148,
            "bin_end": 164,
            "count": 1
           },
           {
            "bin_start": 164,
            "bin_end": 180,
            "count": 2
           }
          ]
         }
        },
        {
         "name": "SpecialA",
         "dtype": "int64",
         "stats": {
          "unique_count": 31,
          "nan_count": 0,
          "min": "15",
          "max": "170",
          "histogram": [
           {
            "bin_start": 15,
            "bin_end": 30.5,
            "count": 7
           },
           {
            "bin_start": 30.5,
            "bin_end": 46,
            "count": 10
           },
           {
            "bin_start": 46,
            "bin_end": 61.5,
            "count": 12
           },
           {
            "bin_start": 61.5,
            "bin_end": 77,
            "count": 12
           },
           {
            "bin_start": 77,
            "bin_end": 92.5,
            "count": 11
           },
           {
            "bin_start": 92.5,
            "bin_end": 108,
            "count": 8
           },
           {
            "bin_start": 108,
            "bin_end": 123.5,
            "count": 7
           },
           {
            "bin_start": 123.5,
            "bin_end": 139,
            "count": 5
           },
           {
            "bin_start": 139,
            "bin_end": 154.5,
            "count": 0
           },
           {
            "bin_start": 154.5,
            "bin_end": 170,
            "count": 2
           }
          ]
         }
        },
        {
         "name": "SpecialD",
         "dtype": "int64",
         "stats": {
          "unique_count": 23,
          "nan_count": 0,
          "min": "20",
          "max": "130",
          "histogram": [
           {
            "bin_start": 20,
            "bin_end": 31,
            "count": 6
           },
           {
            "bin_start": 31,
            "bin_end": 42,
            "count": 6
           },
           {
            "bin_start": 42,
            "bin_end": 53,
            "count": 9
           },
           {
            "bin_start": 53,
            "bin_end": 64,
            "count": 8
           },
           {
            "bin_start": 64,
            "bin_end": 75,
            "count": 9
           },
           {
            "bin_start": 75,
            "bin_end": 86,
            "count": 19
           },
           {
            "bin_start": 86,
            "bin_end": 97,
            "count": 8
           },
           {
            "bin_start": 97,
            "bin_end": 108,
            "count": 4
           },
           {
            "bin_start": 108,
            "bin_end": 119,
            "count": 1
           },
           {
            "bin_start": 119,
            "bin_end": 130,
            "count": 4
           }
          ]
         }
        },
        {
         "name": "Speed",
         "dtype": "int64",
         "stats": {
          "unique_count": 29,
          "nan_count": 0,
          "min": "15",
          "max": "150",
          "histogram": [
           {
            "bin_start": 15,
            "bin_end": 28.5,
            "count": 5
           },
           {
            "bin_start": 28.5,
            "bin_end": 42,
            "count": 11
           },
           {
            "bin_start": 42,
            "bin_end": 55.5,
            "count": 12
           },
           {
            "bin_start": 55.5,
            "bin_end": 69,
            "count": 4
           },
           {
            "bin_start": 69,
            "bin_end": 82.5,
            "count": 20
           },
           {
            "bin_start": 82.5,
            "bin_end": 96,
            "count": 6
           },
           {
            "bin_start": 96,
            "bin_end": 109.5,
            "count": 9
           },
           {
            "bin_start": 109.5,
            "bin_end": 123,
            "count": 3
           },
           {
            "bin_start": 123,
            "bin_end": 136.5,
            "count": 2
           },
           {
            "bin_start": 136.5,
            "bin_end": 150,
            "count": 2
           }
          ]
         }
        },
        {
         "name": "Generation",
         "dtype": "int64",
         "stats": {
          "unique_count": 1,
          "nan_count": 0,
          "min": "1",
          "max": "1",
          "histogram": [
           {
            "bin_start": 0.5,
            "bin_end": 0.6,
            "count": 0
           },
           {
            "bin_start": 0.6,
            "bin_end": 0.7,
            "count": 0
           },
           {
            "bin_start": 0.7,
            "bin_end": 0.8,
            "count": 0
           },
           {
            "bin_start": 0.8,
            "bin_end": 0.9,
            "count": 0
           },
           {
            "bin_start": 0.9,
            "bin_end": 1,
            "count": 0
           },
           {
            "bin_start": 1,
            "bin_end": 1.1,
            "count": 74
           },
           {
            "bin_start": 1.1,
            "bin_end": 1.2000000000000002,
            "count": 0
           },
           {
            "bin_start": 1.2000000000000002,
            "bin_end": 1.3,
            "count": 0
           },
           {
            "bin_start": 1.3,
            "bin_end": 1.4,
            "count": 0
           },
           {
            "bin_start": 1.4,
            "bin_end": 1.5,
            "count": 0
           }
          ]
         }
        },
        {
         "name": "_deepnote_index_column",
         "dtype": "int64"
        }
       ],
       "rows": [
        {
         "#": 1,
         "Name": "Bulbasaur",
         "Type 1": "Grass",
         "Type 2": "Poison",
         "Total": 318,
         "HP": 45,
         "Attack": 49,
         "Defense": 49,
         "SpecialA": 65,
         "SpecialD": 65,
         "Speed": 45,
         "Generation": 1,
         "_deepnote_index_column": 0
        },
        {
         "#": 2,
         "Name": "Ivysaur",
         "Type 1": "Grass",
         "Type 2": "Poison",
         "Total": 405,
         "HP": 60,
         "Attack": 62,
         "Defense": 63,
         "SpecialA": 80,
         "SpecialD": 80,
         "Speed": 60,
         "Generation": 1,
         "_deepnote_index_column": 1
        },
        {
         "#": 3,
         "Name": "Venusaur",
         "Type 1": "Grass",
         "Type 2": "Poison",
         "Total": 525,
         "HP": 80,
         "Attack": 82,
         "Defense": 83,
         "SpecialA": 100,
         "SpecialD": 100,
         "Speed": 80,
         "Generation": 1,
         "_deepnote_index_column": 2
        },
        {
         "#": 3,
         "Name": "VenusaurMega Venusaur",
         "Type 1": "Grass",
         "Type 2": "Poison",
         "Total": 625,
         "HP": 80,
         "Attack": 100,
         "Defense": 123,
         "SpecialA": 122,
         "SpecialD": 120,
         "Speed": 80,
         "Generation": 1,
         "_deepnote_index_column": 3
        },
        {
         "#": 6,
         "Name": "Charizard",
         "Type 1": "Fire",
         "Type 2": "Flying",
         "Total": 534,
         "HP": 78,
         "Attack": 84,
         "Defense": 78,
         "SpecialA": 109,
         "SpecialD": 85,
         "Speed": 100,
         "Generation": 1,
         "_deepnote_index_column": 6
        },
        {
         "#": 6,
         "Name": "CharizardMega Charizard X",
         "Type 1": "Fire",
         "Type 2": "Dragon",
         "Total": 634,
         "HP": 78,
         "Attack": 130,
         "Defense": 111,
         "SpecialA": 130,
         "SpecialD": 85,
         "Speed": 100,
         "Generation": 1,
         "_deepnote_index_column": 7
        },
        {
         "#": 6,
         "Name": "CharizardMega Charizard Y",
         "Type 1": "Fire",
         "Type 2": "Flying",
         "Total": 634,
         "HP": 78,
         "Attack": 104,
         "Defense": 78,
         "SpecialA": 159,
         "SpecialD": 115,
         "Speed": 100,
         "Generation": 1,
         "_deepnote_index_column": 8
        },
        {
         "#": 12,
         "Name": "Butterfree",
         "Type 1": "Bug",
         "Type 2": "Flying",
         "Total": 395,
         "HP": 60,
         "Attack": 45,
         "Defense": 50,
         "SpecialA": 90,
         "SpecialD": 80,
         "Speed": 70,
         "Generation": 1,
         "_deepnote_index_column": 15
        },
        {
         "#": 13,
         "Name": "Weedle",
         "Type 1": "Bug",
         "Type 2": "Poison",
         "Total": 195,
         "HP": 40,
         "Attack": 35,
         "Defense": 30,
         "SpecialA": 20,
         "SpecialD": 20,
         "Speed": 50,
         "Generation": 1,
         "_deepnote_index_column": 16
        },
        {
         "#": 14,
         "Name": "Kakuna",
         "Type 1": "Bug",
         "Type 2": "Poison",
         "Total": 205,
         "HP": 45,
         "Attack": 25,
         "Defense": 50,
         "SpecialA": 25,
         "SpecialD": 25,
         "Speed": 35,
         "Generation": 1,
         "_deepnote_index_column": 17
        }
       ]
      },
      "text/plain": "       #                       Name  Type 1  Type 2  Total  HP  Attack  \\\n0      1                  Bulbasaur   Grass  Poison    318  45      49   \n1      2                    Ivysaur   Grass  Poison    405  60      62   \n2      3                   Venusaur   Grass  Poison    525  80      82   \n3      3      VenusaurMega Venusaur   Grass  Poison    625  80     100   \n6      6                  Charizard    Fire  Flying    534  78      84   \n..   ...                        ...     ...     ...    ...  ..     ...   \n151  140                     Kabuto    Rock   Water    355  30      80   \n152  141                   Kabutops    Rock   Water    495  60     115   \n153  142                 Aerodactyl    Rock  Flying    515  80     105   \n154  142  AerodactylMega Aerodactyl    Rock  Flying    615  80     135   \n161  149                  Dragonite  Dragon  Flying    600  91     134   \n\n     Defense  SpecialA  SpecialD  Speed  Generation  \n0         49        65        65     45           1  \n1         63        80        80     60           1  \n2         83       100       100     80           1  \n3        123       122       120     80           1  \n6         78       109        85    100           1  \n..       ...       ...       ...    ...         ...  \n151       90        55        45     55           1  \n152      105        65        70     80           1  \n153       65        60        75    130           1  \n154       85        70        95    150           1  \n161       95       100       100     80           1  \n\n[74 rows x 12 columns]",
      "text/html": "<div>\n<style scoped>\n    .dataframe tbody tr th:only-of-type {\n        vertical-align: middle;\n    }\n\n    .dataframe tbody tr th {\n        vertical-align: top;\n    }\n\n    .dataframe thead th {\n        text-align: right;\n    }\n</style>\n<table border=\"1\" class=\"dataframe\">\n  <thead>\n    <tr style=\"text-align: right;\">\n      <th></th>\n      <th>#</th>\n      <th>Name</th>\n      <th>Type 1</th>\n      <th>Type 2</th>\n      <th>Total</th>\n      <th>HP</th>\n      <th>Attack</th>\n      <th>Defense</th>\n      <th>SpecialA</th>\n      <th>SpecialD</th>\n      <th>Speed</th>\n      <th>Generation</th>\n    </tr>\n  </thead>\n  <tbody>\n    <tr>\n      <th>0</th>\n      <td>1</td>\n      <td>Bulbasaur</td>\n      <td>Grass</td>\n      <td>Poison</td>\n      <td>318</td>\n      <td>45</td>\n      <td>49</td>\n      <td>49</td>\n      <td>65</td>\n      <td>65</td>\n      <td>45</td>\n      <td>1</td>\n    </tr>\n    <tr>\n      <th>1</th>\n      <td>2</td>\n      <td>Ivysaur</td>\n      <td>Grass</td>\n      <td>Poison</td>\n      <td>405</td>\n      <td>60</td>\n      <td>62</td>\n      <td>63</td>\n      <td>80</td>\n      <td>80</td>\n      <td>60</td>\n      <td>1</td>\n    </tr>\n    <tr>\n      <th>2</th>\n      <td>3</td>\n      <td>Venusaur</td>\n      <td>Grass</td>\n      <td>Poison</td>\n      <td>525</td>\n      <td>80</td>\n      <td>82</td>\n      <td>83</td>\n      <td>100</td>\n      <td>100</td>\n      <td>80</td>\n      <td>1</td>\n    </tr>\n    <tr>\n      <th>3</th>\n      <td>3</td>\n      <td>VenusaurMega Venusaur</td>\n      <td>Grass</td>\n      <td>Poison</td>\n      <td>625</td>\n      <td>80</td>\n      <td>100</td>\n      <td>123</td>\n      <td>122</td>\n      <td>120</td>\n      <td>80</td>\n      <td>1</td>\n    </tr>\n    <tr>\n      <th>6</th>\n      <td>6</td>\n      <td>Charizard</td>\n      <td>Fire</td>\n      <td>Flying</td>\n      <td>534</td>\n      <td>78</td>\n      <td>84</td>\n      <td>78</td>\n      <td>109</td>\n      <td>85</td>\n      <td>100</td>\n      <td>1</td>\n    </tr>\n    <tr>\n      <th>...</th>\n      <td>...</td>\n      <td>...</td>\n      <td>...</td>\n      <td>...</td>\n      <td>...</td>\n      <td>...</td>\n      <td>...</td>\n      <td>...</td>\n      <td>...</td>\n      <td>...</td>\n      <td>...</td>\n      <td>...</td>\n    </tr>\n    <tr>\n      <th>151</th>\n      <td>140</td>\n      <td>Kabuto</td>\n      <td>Rock</td>\n      <td>Water</td>\n      <td>355</td>\n      <td>30</td>\n      <td>80</td>\n      <td>90</td>\n      <td>55</td>\n      <td>45</td>\n      <td>55</td>\n      <td>1</td>\n    </tr>\n    <tr>\n      <th>152</th>\n      <td>141</td>\n      <td>Kabutops</td>\n      <td>Rock</td>\n      <td>Water</td>\n      <td>495</td>\n      <td>60</td>\n      <td>115</td>\n      <td>105</td>\n      <td>65</td>\n      <td>70</td>\n      <td>80</td>\n      <td>1</td>\n    </tr>\n    <tr>\n      <th>153</th>\n      <td>142</td>\n      <td>Aerodactyl</td>\n      <td>Rock</td>\n      <td>Flying</td>\n      <td>515</td>\n      <td>80</td>\n      <td>105</td>\n      <td>65</td>\n      <td>60</td>\n      <td>75</td>\n      <td>130</td>\n      <td>1</td>\n    </tr>\n    <tr>\n      <th>154</th>\n      <td>142</td>\n      <td>AerodactylMega Aerodactyl</td>\n      <td>Rock</td>\n      <td>Flying</td>\n      <td>615</td>\n      <td>80</td>\n      <td>135</td>\n      <td>85</td>\n      <td>70</td>\n      <td>95</td>\n      <td>150</td>\n      <td>1</td>\n    </tr>\n    <tr>\n      <th>161</th>\n      <td>149</td>\n      <td>Dragonite</td>\n      <td>Dragon</td>\n      <td>Flying</td>\n      <td>600</td>\n      <td>91</td>\n      <td>134</td>\n      <td>95</td>\n      <td>100</td>\n      <td>100</td>\n      <td>80</td>\n      <td>1</td>\n    </tr>\n  </tbody>\n</table>\n<p>74 rows × 12 columns</p>\n</div>"
     },
     "metadata": {},
     "output_type": "display_data"
    },
    {
     "data": {
      "application/vnd.deepnote.dataframe.v3+json": {
       "column_count": 12,
       "row_count": 53,
       "columns": [
        {
         "name": "#",
         "dtype": "int64",
         "stats": {
          "unique_count": 48,
          "nan_count": 0,
          "min": "163",
          "max": "251",
          "histogram": [
           {
            "bin_start": 163,
            "bin_end": 171.8,
            "count": 9
           },
           {
            "bin_start": 171.8,
            "bin_end": 180.6,
            "count": 4
           },
           {
            "bin_start": 180.6,
            "bin_end": 189.4,
            "count": 6
           },
           {
            "bin_start": 189.4,
            "bin_end": 198.2,
            "count": 4
           },
           {
            "bin_start": 198.2,
            "bin_end": 207,
            "count": 3
           },
           {
            "bin_start": 207,
            "bin_end": 215.8,
            "count": 10
           },
           {
            "bin_start": 215.8,
            "bin_end": 224.60000000000002,
            "count": 4
           },
           {
            "bin_start": 224.60000000000002,
            "bin_end": 233.4,
            "count": 7
           },
           {
            "bin_start": 233.4,
            "bin_end": 242.2,
            "count": 1
           },
           {
            "bin_start": 242.2,
            "bin_end": 251,
            "count": 5
           }
          ]
         }
        },
        {
         "name": "Name",
         "dtype": "object",
         "stats": {
          "unique_count": 53,
          "nan_count": 0,
          "categories": [
           {
            "name": "Hoothoot",
            "count": 1
           },
           {
            "name": "Noctowl",
            "count": 1
           },
           {
            "name": "51 others",
            "count": 51
           }
          ]
         }
        },
        {
         "name": "Type 1",
         "dtype": "object",
         "stats": {
          "unique_count": 14,
          "nan_count": 0,
          "categories": [
           {
            "name": "Bug",
            "count": 11
           },
           {
            "name": "Water",
            "count": 11
           },
           {
            "name": "12 others",
            "count": 31
           }
          ]
         }
        },
        {
         "name": "Type 2",
         "dtype": "object",
         "stats": {
          "unique_count": 14,
          "nan_count": 0,
          "categories": [
           {
            "name": "Flying",
            "count": 17
           },
           {
            "name": "Ground",
            "count": 8
           },
           {
            "name": "12 others",
            "count": 28
           }
          ]
         }
        },
        {
         "name": "Total",
         "dtype": "int64",
         "stats": {
          "unique_count": 30,
          "nan_count": 0,
          "min": "210",
          "max": "700",
          "histogram": [
           {
            "bin_start": 210,
            "bin_end": 259,
            "count": 6
           },
           {
            "bin_start": 259,
            "bin_end": 308,
            "count": 4
           },
           {
            "bin_start": 308,
            "bin_end": 357,
            "count": 5
           },
           {
            "bin_start": 357,
            "bin_end": 406,
            "count": 6
           },
           {
            "bin_start": 406,
            "bin_end": 455,
            "count": 9
           },
           {
            "bin_start": 455,
            "bin_end": 504,
            "count": 11
           },
           {
            "bin_start": 504,
            "bin_end": 553,
            "count": 4
           },
           {
            "bin_start": 553,
            "bin_end": 602,
            "count": 5
           },
           {
            "bin_start": 602,
            "bin_end": 651,
            "count": 2
           },
           {
            "bin_start": 651,
            "bin_end": 700,
            "count": 1
           }
          ]
         }
        },
        {
         "name": "HP",
         "dtype": "int64",
         "stats": {
          "unique_count": 16,
          "nan_count": 0,
          "min": "20",
          "max": "125",
          "histogram": [
           {
            "bin_start": 20,
            "bin_end": 30.5,
            "count": 1
           },
           {
            "bin_start": 30.5,
            "bin_end": 41,
            "count": 4
           },
           {
            "bin_start": 41,
            "bin_end": 51.5,
            "count": 6
           },
           {
            "bin_start": 51.5,
            "bin_end": 62,
            "count": 8
           },
           {
            "bin_start": 62,
            "bin_end": 72.5,
            "count": 12
           },
           {
            "bin_start": 72.5,
            "bin_end": 83,
            "count": 10
           },
           {
            "bin_start": 83,
            "bin_end": 93.5,
            "count": 3
           },
           {
            "bin_start": 93.5,
            "bin_end": 104,
            "count": 8
           },
           {
            "bin_start": 104,
            "bin_end": 114.5,
            "count": 0
           },
           {
            "bin_start": 114.5,
            "bin_end": 125,
            "count": 1
           }
          ]
         }
        },
        {
         "name": "Attack",
         "dtype": "int64",
         "stats": {
          "unique_count": 26,
          "nan_count": 0,
          "min": "10",
          "max": "185",
          "histogram": [
           {
            "bin_start": 10,
            "bin_end": 27.5,
            "count": 3
           },
           {
            "bin_start": 27.5,
            "bin_end": 45,
            "count": 8
           },
           {
            "bin_start": 45,
            "bin_end": 62.5,
            "count": 13
           },
           {
            "bin_start": 62.5,
            "bin_end": 80,
            "count": 5
           },
           {
            "bin_start": 80,
            "bin_end": 97.5,
            "count": 15
           },
           {
            "bin_start": 97.5,
            "bin_end": 115,
            "count": 2
           },
           {
            "bin_start": 115,
            "bin_end": 132.5,
            "count": 3
           },
           {
            "bin_start": 132.5,
            "bin_end": 150,
            "count": 1
           },
           {
            "bin_start": 150,
            "bin_end": 167.5,
            "count": 2
           },
           {
            "bin_start": 167.5,
            "bin_end": 185,
            "count": 1
           }
          ]
         }
        },
        {
         "name": "Defense",
         "dtype": "int64",
         "stats": {
          "unique_count": 25,
          "nan_count": 0,
          "min": "15",
          "max": "230",
          "histogram": [
           {
            "bin_start": 15,
            "bin_end": 36.5,
            "count": 5
           },
           {
            "bin_start": 36.5,
            "bin_end": 58,
            "count": 16
           },
           {
            "bin_start": 58,
            "bin_end": 79.5,
            "count": 9
           },
           {
            "bin_start": 79.5,
            "bin_end": 101,
            "count": 11
           },
           {
            "bin_start": 101,
            "bin_end": 122.5,
            "count": 5
           },
           {
            "bin_start": 122.5,
            "bin_end": 144,
            "count": 3
           },
           {
            "bin_start": 144,
            "bin_end": 165.5,
            "count": 1
           },
           {
            "bin_start": 165.5,
            "bin_end": 187,
            "count": 0
           },
           {
            "bin_start": 187,
            "bin_end": 208.5,
            "count": 1
           },
           {
            "bin_start": 208.5,
            "bin_end": 230,
            "count": 2
           }
          ]
         }
        },
        {
         "name": "SpecialA",
         "dtype": "int64",
         "stats": {
          "unique_count": 23,
          "nan_count": 0,
          "min": "10",
          "max": "165",
          "histogram": [
           {
            "bin_start": 10,
            "bin_end": 25.5,
            "count": 3
           },
           {
            "bin_start": 25.5,
            "bin_end": 41,
            "count": 11
           },
           {
            "bin_start": 41,
            "bin_end": 56.5,
            "count": 9
           },
           {
            "bin_start": 56.5,
            "bin_end": 72,
            "count": 11
           },
           {
            "bin_start": 72,
            "bin_end": 87.5,
            "count": 9
           },
           {
            "bin_start": 87.5,
            "bin_end": 103,
            "count": 7
           },
           {
            "bin_start": 103,
            "bin_end": 118.5,
            "count": 1
           },
           {
            "bin_start": 118.5,
            "bin_end": 134,
            "count": 0
           },
           {
            "bin_start": 134,
            "bin_end": 149.5,
            "count": 1
           },
           {
            "bin_start": 149.5,
            "bin_end": 165,
            "count": 1
           }
          ]
         }
        },
        {
         "name": "SpecialD",
         "dtype": "int64",
         "stats": {
          "unique_count": 25,
          "nan_count": 0,
          "min": "20",
          "max": "230",
          "histogram": [
           {
            "bin_start": 20,
            "bin_end": 41,
            "count": 4
           },
           {
            "bin_start": 41,
            "bin_end": 62,
            "count": 14
           },
           {
            "bin_start": 62,
            "bin_end": 83,
            "count": 17
           },
           {
            "bin_start": 83,
            "bin_end": 104,
            "count": 10
           },
           {
            "bin_start": 104,
            "bin_end": 125,
            "count": 6
           },
           {
            "bin_start": 125,
            "bin_end": 146,
            "count": 1
           },
           {
            "bin_start": 146,
            "bin_end": 167,
            "count": 0
           },
           {
            "bin_start": 167,
            "bin_end": 188,
            "count": 0
           },
           {
            "bin_start": 188,
            "bin_end": 209,
            "count": 0
           },
           {
            "bin_start": 209,
            "bin_end": 230,
            "count": 1
           }
          ]
         }
        },
        {
         "name": "Speed",
         "dtype": "int64",
         "stats": {
          "unique_count": 24,
          "nan_count": 0,
          "min": "5",
          "max": "130",
          "histogram": [
           {
            "bin_start": 5,
            "bin_end": 17.5,
            "count": 3
           },
           {
            "bin_start": 17.5,
            "bin_end": 30,
            "count": 0
           },
           {
            "bin_start": 30,
            "bin_end": 42.5,
            "count": 12
           },
           {
            "bin_start": 42.5,
            "bin_end": 55,
            "count": 7
           },
           {
            "bin_start": 55,
            "bin_end": 67.5,
            "count": 7
           },
           {
            "bin_start": 67.5,
            "bin_end": 80,
            "count": 8
           },
           {
            "bin_start": 80,
            "bin_end": 92.5,
            "count": 8
           },
           {
            "bin_start": 92.5,
            "bin_end": 105,
            "count": 4
           },
           {
            "bin_start": 105,
            "bin_end": 117.5,
            "count": 3
           },
           {
            "bin_start": 117.5,
            "bin_end": 130,
            "count": 1
           }
          ]
         }
        },
        {
         "name": "Generation",
         "dtype": "int64",
         "stats": {
          "unique_count": 1,
          "nan_count": 0,
          "min": "2",
          "max": "2",
          "histogram": [
           {
            "bin_start": 1.5,
            "bin_end": 1.6,
            "count": 0
           },
           {
            "bin_start": 1.6,
            "bin_end": 1.7,
            "count": 0
           },
           {
            "bin_start": 1.7,
            "bin_end": 1.8,
            "count": 0
           },
           {
            "bin_start": 1.8,
            "bin_end": 1.9,
            "count": 0
           },
           {
            "bin_start": 1.9,
            "bin_end": 2,
            "count": 0
           },
           {
            "bin_start": 2,
            "bin_end": 2.1,
            "count": 53
           },
           {
            "bin_start": 2.1,
            "bin_end": 2.2,
            "count": 0
           },
           {
            "bin_start": 2.2,
            "bin_end": 2.3,
            "count": 0
           },
           {
            "bin_start": 2.3,
            "bin_end": 2.4,
            "count": 0
           },
           {
            "bin_start": 2.4,
            "bin_end": 2.5,
            "count": 0
           }
          ]
         }
        },
        {
         "name": "_deepnote_index_column",
         "dtype": "int64"
        }
       ],
       "rows": [
        {
         "#": 163,
         "Name": "Hoothoot",
         "Type 1": "Normal",
         "Type 2": "Flying",
         "Total": 262,
         "HP": 60,
         "Attack": 30,
         "Defense": 30,
         "SpecialA": 36,
         "SpecialD": 56,
         "Speed": 50,
         "Generation": 2,
         "_deepnote_index_column": 177
        },
        {
         "#": 164,
         "Name": "Noctowl",
         "Type 1": "Normal",
         "Type 2": "Flying",
         "Total": 442,
         "HP": 100,
         "Attack": 50,
         "Defense": 50,
         "SpecialA": 76,
         "SpecialD": 96,
         "Speed": 70,
         "Generation": 2,
         "_deepnote_index_column": 178
        },
        {
         "#": 165,
         "Name": "Ledyba",
         "Type 1": "Bug",
         "Type 2": "Flying",
         "Total": 265,
         "HP": 40,
         "Attack": 20,
         "Defense": 30,
         "SpecialA": 40,
         "SpecialD": 80,
         "Speed": 55,
         "Generation": 2,
         "_deepnote_index_column": 179
        },
        {
         "#": 166,
         "Name": "Ledian",
         "Type 1": "Bug",
         "Type 2": "Flying",
         "Total": 390,
         "HP": 55,
         "Attack": 35,
         "Defense": 50,
         "SpecialA": 55,
         "SpecialD": 110,
         "Speed": 85,
         "Generation": 2,
         "_deepnote_index_column": 180
        },
        {
         "#": 167,
         "Name": "Spinarak",
         "Type 1": "Bug",
         "Type 2": "Poison",
         "Total": 250,
         "HP": 40,
         "Attack": 60,
         "Defense": 40,
         "SpecialA": 40,
         "SpecialD": 40,
         "Speed": 30,
         "Generation": 2,
         "_deepnote_index_column": 181
        },
        {
         "#": 168,
         "Name": "Ariados",
         "Type 1": "Bug",
         "Type 2": "Poison",
         "Total": 390,
         "HP": 70,
         "Attack": 90,
         "Defense": 70,
         "SpecialA": 60,
         "SpecialD": 60,
         "Speed": 40,
         "Generation": 2,
         "_deepnote_index_column": 182
        },
        {
         "#": 169,
         "Name": "Crobat",
         "Type 1": "Poison",
         "Type 2": "Flying",
         "Total": 535,
         "HP": 85,
         "Attack": 90,
         "Defense": 80,
         "SpecialA": 70,
         "SpecialD": 80,
         "Speed": 130,
         "Generation": 2,
         "_deepnote_index_column": 183
        },
        {
         "#": 170,
         "Name": "Chinchou",
         "Type 1": "Water",
         "Type 2": "Electric",
         "Total": 330,
         "HP": 75,
         "Attack": 38,
         "Defense": 38,
         "SpecialA": 56,
         "SpecialD": 56,
         "Speed": 67,
         "Generation": 2,
         "_deepnote_index_column": 184
        },
        {
         "#": 171,
         "Name": "Lanturn",
         "Type 1": "Water",
         "Type 2": "Electric",
         "Total": 460,
         "HP": 125,
         "Attack": 58,
         "Defense": 58,
         "SpecialA": 76,
         "SpecialD": 76,
         "Speed": 67,
         "Generation": 2,
         "_deepnote_index_column": 185
        },
        {
         "#": 174,
         "Name": "Igglybuff",
         "Type 1": "Normal",
         "Type 2": "Fairy",
         "Total": 210,
         "HP": 90,
         "Attack": 30,
         "Defense": 15,
         "SpecialA": 40,
         "SpecialD": 20,
         "Speed": 15,
         "Generation": 2,
         "_deepnote_index_column": 188
        }
       ]
      },
      "text/plain": "       #                     Name    Type 1    Type 2  Total   HP  Attack  \\\n177  163                 Hoothoot    Normal    Flying    262   60      30   \n178  164                  Noctowl    Normal    Flying    442  100      50   \n179  165                   Ledyba       Bug    Flying    265   40      20   \n180  166                   Ledian       Bug    Flying    390   55      35   \n181  167                 Spinarak       Bug    Poison    250   40      60   \n182  168                  Ariados       Bug    Poison    390   70      90   \n183  169                   Crobat    Poison    Flying    535   85      90   \n184  170                 Chinchou     Water  Electric    330   75      38   \n185  171                  Lanturn     Water  Electric    460  125      58   \n188  174                Igglybuff    Normal     Fairy    210   90      30   \n190  176                  Togetic     Fairy    Flying    405   55      40   \n191  177                     Natu   Psychic    Flying    320   40      50   \n192  178                     Xatu   Psychic    Flying    470   65      75   \n196  181    AmpharosMega Ampharos  Electric    Dragon    610   90      95   \n198  183                   Marill     Water     Fairy    250   70      20   \n199  184                Azumarill     Water     Fairy    420  100      50   \n202  187                   Hoppip     Grass    Flying    250   35      35   \n203  188                 Skiploom     Grass    Flying    340   55      45   \n204  189                 Jumpluff     Grass    Flying    460   75      55   \n208  193                    Yanma       Bug    Flying    390   65      65   \n209  194                   Wooper     Water    Ground    210   55      45   \n210  195                 Quagsire     Water    Ground    430   95      85   \n213  198                  Murkrow      Dark    Flying    405   60      85   \n214  199                 Slowking     Water   Psychic    490   95      75   \n218  203                Girafarig    Normal   Psychic    455   70      80   \n220  205               Forretress       Bug     Steel    465   75      90   \n222  207                   Gligar    Ground    Flying    430   65      75   \n223  208                  Steelix     Steel    Ground    510   75      85   \n224  208      SteelixMega Steelix     Steel    Ground    610   75     125   \n227  211                 Qwilfish     Water    Poison    430   65      95   \n228  212                   Scizor       Bug     Steel    500   70     130   \n229  212        ScizorMega Scizor       Bug     Steel    600   70     150   \n230  213                  Shuckle       Bug      Rock    505   20      10   \n231  214                Heracross       Bug  Fighting    500   80     125   \n232  214  HeracrossMega Heracross       Bug  Fighting    600   80     185   \n233  215                  Sneasel      Dark       Ice    430   55      95   \n237  219                 Magcargo      Fire      Rock    410   50      50   \n238  220                   Swinub       Ice    Ground    250   50      50   \n239  221                Piloswine       Ice    Ground    450  100     100   \n240  222                  Corsola     Water      Rock    380   55      55   \n243  225                 Delibird       Ice    Flying    330   45      55   \n244  226                  Mantine     Water    Flying    465   65      40   \n245  227                 Skarmory     Steel    Flying    465   65      80   \n246  228                 Houndour      Dark      Fire    330   45      60   \n247  229                 Houndoom      Dark      Fire    500   75      90   \n248  229    HoundoomMega Houndoom      Dark      Fire    600   75      90   \n249  230                  Kingdra     Water    Dragon    540   75      95   \n257  238                 Smoochum       Ice   Psychic    305   45      30   \n265  246                 Larvitar      Rock    Ground    300   50      64   \n266  247                  Pupitar      Rock    Ground    410   70      84   \n267  248                Tyranitar      Rock      Dark    600  100     134   \n268  248  TyranitarMega Tyranitar      Rock      Dark    700  100     164   \n271  251                   Celebi   Psychic     Grass    600  100     100   \n\n     Defense  SpecialA  SpecialD  Speed  Generation  \n177       30        36        56     50           2  \n178       50        76        96     70           2  \n179       30        40        80     55           2  \n180       50        55       110     85           2  \n181       40        40        40     30           2  \n182       70        60        60     40           2  \n183       80        70        80    130           2  \n184       38        56        56     67           2  \n185       58        76        76     67           2  \n188       15        40        20     15           2  \n190       85        80       105     40           2  \n191       45        70        45     70           2  \n192       70        95        70     95           2  \n196      105       165       110     45           2  \n198       50        20        50     40           2  \n199       80        60        80     50           2  \n202       40        35        55     50           2  \n203       50        45        65     80           2  \n204       70        55        95    110           2  \n208       45        75        45     95           2  \n209       45        25        25     15           2  \n210       85        65        65     35           2  \n213       42        85        42     91           2  \n214       80       100       110     30           2  \n218       65        90        65     85           2  \n220      140        60        60     40           2  \n222      105        35        65     85           2  \n223      200        55        65     30           2  \n224      230        55        95     30           2  \n227       75        55        55     85           2  \n228      100        55        80     65           2  \n229      140        65       100     75           2  \n230      230        10       230      5           2  \n231       75        40        95     85           2  \n232      115        40       105     75           2  \n233       55        35        75    115           2  \n237      120        80        80     30           2  \n238       40        30        30     50           2  \n239       80        60        60     50           2  \n240       85        65        85     35           2  \n243       45        65        45     75           2  \n244       70        80       140     70           2  \n245      140        40        70     70           2  \n246       30        80        50     65           2  \n247       50       110        80     95           2  \n248       90       140        90    115           2  \n249       95        95        95     85           2  \n257       15        85        65     65           2  \n265       50        45        50     41           2  \n266       70        65        70     51           2  \n267      110        95       100     61           2  \n268      150        95       120     71           2  \n271      100       100       100    100           2  ",
      "text/html": "<div>\n<style scoped>\n    .dataframe tbody tr th:only-of-type {\n        vertical-align: middle;\n    }\n\n    .dataframe tbody tr th {\n        vertical-align: top;\n    }\n\n    .dataframe thead th {\n        text-align: right;\n    }\n</style>\n<table border=\"1\" class=\"dataframe\">\n  <thead>\n    <tr style=\"text-align: right;\">\n      <th></th>\n      <th>#</th>\n      <th>Name</th>\n      <th>Type 1</th>\n      <th>Type 2</th>\n      <th>Total</th>\n      <th>HP</th>\n      <th>Attack</th>\n      <th>Defense</th>\n      <th>SpecialA</th>\n      <th>SpecialD</th>\n      <th>Speed</th>\n      <th>Generation</th>\n    </tr>\n  </thead>\n  <tbody>\n    <tr>\n      <th>177</th>\n      <td>163</td>\n      <td>Hoothoot</td>\n      <td>Normal</td>\n      <td>Flying</td>\n      <td>262</td>\n      <td>60</td>\n      <td>30</td>\n      <td>30</td>\n      <td>36</td>\n      <td>56</td>\n      <td>50</td>\n      <td>2</td>\n    </tr>\n    <tr>\n      <th>178</th>\n      <td>164</td>\n      <td>Noctowl</td>\n      <td>Normal</td>\n      <td>Flying</td>\n      <td>442</td>\n      <td>100</td>\n      <td>50</td>\n      <td>50</td>\n      <td>76</td>\n      <td>96</td>\n      <td>70</td>\n      <td>2</td>\n    </tr>\n    <tr>\n      <th>179</th>\n      <td>165</td>\n      <td>Ledyba</td>\n      <td>Bug</td>\n      <td>Flying</td>\n      <td>265</td>\n      <td>40</td>\n      <td>20</td>\n      <td>30</td>\n      <td>40</td>\n      <td>80</td>\n      <td>55</td>\n      <td>2</td>\n    </tr>\n    <tr>\n      <th>180</th>\n      <td>166</td>\n      <td>Ledian</td>\n      <td>Bug</td>\n      <td>Flying</td>\n      <td>390</td>\n      <td>55</td>\n      <td>35</td>\n      <td>50</td>\n      <td>55</td>\n      <td>110</td>\n      <td>85</td>\n      <td>2</td>\n    </tr>\n    <tr>\n      <th>181</th>\n      <td>167</td>\n      <td>Spinarak</td>\n      <td>Bug</td>\n      <td>Poison</td>\n      <td>250</td>\n      <td>40</td>\n      <td>60</td>\n      <td>40</td>\n      <td>40</td>\n      <td>40</td>\n      <td>30</td>\n      <td>2</td>\n    </tr>\n    <tr>\n      <th>182</th>\n      <td>168</td>\n      <td>Ariados</td>\n      <td>Bug</td>\n      <td>Poison</td>\n      <td>390</td>\n      <td>70</td>\n      <td>90</td>\n      <td>70</td>\n      <td>60</td>\n      <td>60</td>\n      <td>40</td>\n      <td>2</td>\n    </tr>\n    <tr>\n      <th>183</th>\n      <td>169</td>\n      <td>Crobat</td>\n      <td>Poison</td>\n      <td>Flying</td>\n      <td>535</td>\n      <td>85</td>\n      <td>90</td>\n      <td>80</td>\n      <td>70</td>\n      <td>80</td>\n      <td>130</td>\n      <td>2</td>\n    </tr>\n    <tr>\n      <th>184</th>\n      <td>170</td>\n      <td>Chinchou</td>\n      <td>Water</td>\n      <td>Electric</td>\n      <td>330</td>\n      <td>75</td>\n      <td>38</td>\n      <td>38</td>\n      <td>56</td>\n      <td>56</td>\n      <td>67</td>\n      <td>2</td>\n    </tr>\n    <tr>\n      <th>185</th>\n      <td>171</td>\n      <td>Lanturn</td>\n      <td>Water</td>\n      <td>Electric</td>\n      <td>460</td>\n      <td>125</td>\n      <td>58</td>\n      <td>58</td>\n      <td>76</td>\n      <td>76</td>\n      <td>67</td>\n      <td>2</td>\n    </tr>\n    <tr>\n      <th>188</th>\n      <td>174</td>\n      <td>Igglybuff</td>\n      <td>Normal</td>\n      <td>Fairy</td>\n      <td>210</td>\n      <td>90</td>\n      <td>30</td>\n      <td>15</td>\n      <td>40</td>\n      <td>20</td>\n      <td>15</td>\n      <td>2</td>\n    </tr>\n    <tr>\n      <th>190</th>\n      <td>176</td>\n      <td>Togetic</td>\n      <td>Fairy</td>\n      <td>Flying</td>\n      <td>405</td>\n      <td>55</td>\n      <td>40</td>\n      <td>85</td>\n      <td>80</td>\n      <td>105</td>\n      <td>40</td>\n      <td>2</td>\n    </tr>\n    <tr>\n      <th>191</th>\n      <td>177</td>\n      <td>Natu</td>\n      <td>Psychic</td>\n      <td>Flying</td>\n      <td>320</td>\n      <td>40</td>\n      <td>50</td>\n      <td>45</td>\n      <td>70</td>\n      <td>45</td>\n      <td>70</td>\n      <td>2</td>\n    </tr>\n    <tr>\n      <th>192</th>\n      <td>178</td>\n      <td>Xatu</td>\n      <td>Psychic</td>\n      <td>Flying</td>\n      <td>470</td>\n      <td>65</td>\n      <td>75</td>\n      <td>70</td>\n      <td>95</td>\n      <td>70</td>\n      <td>95</td>\n      <td>2</td>\n    </tr>\n    <tr>\n      <th>196</th>\n      <td>181</td>\n      <td>AmpharosMega Ampharos</td>\n      <td>Electric</td>\n      <td>Dragon</td>\n      <td>610</td>\n      <td>90</td>\n      <td>95</td>\n      <td>105</td>\n      <td>165</td>\n      <td>110</td>\n      <td>45</td>\n      <td>2</td>\n    </tr>\n    <tr>\n      <th>198</th>\n      <td>183</td>\n      <td>Marill</td>\n      <td>Water</td>\n      <td>Fairy</td>\n      <td>250</td>\n      <td>70</td>\n      <td>20</td>\n      <td>50</td>\n      <td>20</td>\n      <td>50</td>\n      <td>40</td>\n      <td>2</td>\n    </tr>\n    <tr>\n      <th>199</th>\n      <td>184</td>\n      <td>Azumarill</td>\n      <td>Water</td>\n      <td>Fairy</td>\n      <td>420</td>\n      <td>100</td>\n      <td>50</td>\n      <td>80</td>\n      <td>60</td>\n      <td>80</td>\n      <td>50</td>\n      <td>2</td>\n    </tr>\n    <tr>\n      <th>202</th>\n      <td>187</td>\n      <td>Hoppip</td>\n      <td>Grass</td>\n      <td>Flying</td>\n      <td>250</td>\n      <td>35</td>\n      <td>35</td>\n      <td>40</td>\n      <td>35</td>\n      <td>55</td>\n      <td>50</td>\n      <td>2</td>\n    </tr>\n    <tr>\n      <th>203</th>\n      <td>188</td>\n      <td>Skiploom</td>\n      <td>Grass</td>\n      <td>Flying</td>\n      <td>340</td>\n      <td>55</td>\n      <td>45</td>\n      <td>50</td>\n      <td>45</td>\n      <td>65</td>\n      <td>80</td>\n      <td>2</td>\n    </tr>\n    <tr>\n      <th>204</th>\n      <td>189</td>\n      <td>Jumpluff</td>\n      <td>Grass</td>\n      <td>Flying</td>\n      <td>460</td>\n      <td>75</td>\n      <td>55</td>\n      <td>70</td>\n      <td>55</td>\n      <td>95</td>\n      <td>110</td>\n      <td>2</td>\n    </tr>\n    <tr>\n      <th>208</th>\n      <td>193</td>\n      <td>Yanma</td>\n      <td>Bug</td>\n      <td>Flying</td>\n      <td>390</td>\n      <td>65</td>\n      <td>65</td>\n      <td>45</td>\n      <td>75</td>\n      <td>45</td>\n      <td>95</td>\n      <td>2</td>\n    </tr>\n    <tr>\n      <th>209</th>\n      <td>194</td>\n      <td>Wooper</td>\n      <td>Water</td>\n      <td>Ground</td>\n      <td>210</td>\n      <td>55</td>\n      <td>45</td>\n      <td>45</td>\n      <td>25</td>\n      <td>25</td>\n      <td>15</td>\n      <td>2</td>\n    </tr>\n    <tr>\n      <th>210</th>\n      <td>195</td>\n      <td>Quagsire</td>\n      <td>Water</td>\n      <td>Ground</td>\n      <td>430</td>\n      <td>95</td>\n      <td>85</td>\n      <td>85</td>\n      <td>65</td>\n      <td>65</td>\n      <td>35</td>\n      <td>2</td>\n    </tr>\n    <tr>\n      <th>213</th>\n      <td>198</td>\n      <td>Murkrow</td>\n      <td>Dark</td>\n      <td>Flying</td>\n      <td>405</td>\n      <td>60</td>\n      <td>85</td>\n      <td>42</td>\n      <td>85</td>\n      <td>42</td>\n      <td>91</td>\n      <td>2</td>\n    </tr>\n    <tr>\n      <th>214</th>\n      <td>199</td>\n      <td>Slowking</td>\n      <td>Water</td>\n      <td>Psychic</td>\n      <td>490</td>\n      <td>95</td>\n      <td>75</td>\n      <td>80</td>\n      <td>100</td>\n      <td>110</td>\n      <td>30</td>\n      <td>2</td>\n    </tr>\n    <tr>\n      <th>218</th>\n      <td>203</td>\n      <td>Girafarig</td>\n      <td>Normal</td>\n      <td>Psychic</td>\n      <td>455</td>\n      <td>70</td>\n      <td>80</td>\n      <td>65</td>\n      <td>90</td>\n      <td>65</td>\n      <td>85</td>\n      <td>2</td>\n    </tr>\n    <tr>\n      <th>220</th>\n      <td>205</td>\n      <td>Forretress</td>\n      <td>Bug</td>\n      <td>Steel</td>\n      <td>465</td>\n      <td>75</td>\n      <td>90</td>\n      <td>140</td>\n      <td>60</td>\n      <td>60</td>\n      <td>40</td>\n      <td>2</td>\n    </tr>\n    <tr>\n      <th>222</th>\n      <td>207</td>\n      <td>Gligar</td>\n      <td>Ground</td>\n      <td>Flying</td>\n      <td>430</td>\n      <td>65</td>\n      <td>75</td>\n      <td>105</td>\n      <td>35</td>\n      <td>65</td>\n      <td>85</td>\n      <td>2</td>\n    </tr>\n    <tr>\n      <th>223</th>\n      <td>208</td>\n      <td>Steelix</td>\n      <td>Steel</td>\n      <td>Ground</td>\n      <td>510</td>\n      <td>75</td>\n      <td>85</td>\n      <td>200</td>\n      <td>55</td>\n      <td>65</td>\n      <td>30</td>\n      <td>2</td>\n    </tr>\n    <tr>\n      <th>224</th>\n      <td>208</td>\n      <td>SteelixMega Steelix</td>\n      <td>Steel</td>\n      <td>Ground</td>\n      <td>610</td>\n      <td>75</td>\n      <td>125</td>\n      <td>230</td>\n      <td>55</td>\n      <td>95</td>\n      <td>30</td>\n      <td>2</td>\n    </tr>\n    <tr>\n      <th>227</th>\n      <td>211</td>\n      <td>Qwilfish</td>\n      <td>Water</td>\n      <td>Poison</td>\n      <td>430</td>\n      <td>65</td>\n      <td>95</td>\n      <td>75</td>\n      <td>55</td>\n      <td>55</td>\n      <td>85</td>\n      <td>2</td>\n    </tr>\n    <tr>\n      <th>228</th>\n      <td>212</td>\n      <td>Scizor</td>\n      <td>Bug</td>\n      <td>Steel</td>\n      <td>500</td>\n      <td>70</td>\n      <td>130</td>\n      <td>100</td>\n      <td>55</td>\n      <td>80</td>\n      <td>65</td>\n      <td>2</td>\n    </tr>\n    <tr>\n      <th>229</th>\n      <td>212</td>\n      <td>ScizorMega Scizor</td>\n      <td>Bug</td>\n      <td>Steel</td>\n      <td>600</td>\n      <td>70</td>\n      <td>150</td>\n      <td>140</td>\n      <td>65</td>\n      <td>100</td>\n      <td>75</td>\n      <td>2</td>\n    </tr>\n    <tr>\n      <th>230</th>\n      <td>213</td>\n      <td>Shuckle</td>\n      <td>Bug</td>\n      <td>Rock</td>\n      <td>505</td>\n      <td>20</td>\n      <td>10</td>\n      <td>230</td>\n      <td>10</td>\n      <td>230</td>\n      <td>5</td>\n      <td>2</td>\n    </tr>\n    <tr>\n      <th>231</th>\n      <td>214</td>\n      <td>Heracross</td>\n      <td>Bug</td>\n      <td>Fighting</td>\n      <td>500</td>\n      <td>80</td>\n      <td>125</td>\n      <td>75</td>\n      <td>40</td>\n      <td>95</td>\n      <td>85</td>\n      <td>2</td>\n    </tr>\n    <tr>\n      <th>232</th>\n      <td>214</td>\n      <td>HeracrossMega Heracross</td>\n      <td>Bug</td>\n      <td>Fighting</td>\n      <td>600</td>\n      <td>80</td>\n      <td>185</td>\n      <td>115</td>\n      <td>40</td>\n      <td>105</td>\n      <td>75</td>\n      <td>2</td>\n    </tr>\n    <tr>\n      <th>233</th>\n      <td>215</td>\n      <td>Sneasel</td>\n      <td>Dark</td>\n      <td>Ice</td>\n      <td>430</td>\n      <td>55</td>\n      <td>95</td>\n      <td>55</td>\n      <td>35</td>\n      <td>75</td>\n      <td>115</td>\n      <td>2</td>\n    </tr>\n    <tr>\n      <th>237</th>\n      <td>219</td>\n      <td>Magcargo</td>\n      <td>Fire</td>\n      <td>Rock</td>\n      <td>410</td>\n      <td>50</td>\n      <td>50</td>\n      <td>120</td>\n      <td>80</td>\n      <td>80</td>\n      <td>30</td>\n      <td>2</td>\n    </tr>\n    <tr>\n      <th>238</th>\n      <td>220</td>\n      <td>Swinub</td>\n      <td>Ice</td>\n      <td>Ground</td>\n      <td>250</td>\n      <td>50</td>\n      <td>50</td>\n      <td>40</td>\n      <td>30</td>\n      <td>30</td>\n      <td>50</td>\n      <td>2</td>\n    </tr>\n    <tr>\n      <th>239</th>\n      <td>221</td>\n      <td>Piloswine</td>\n      <td>Ice</td>\n      <td>Ground</td>\n      <td>450</td>\n      <td>100</td>\n      <td>100</td>\n      <td>80</td>\n      <td>60</td>\n      <td>60</td>\n      <td>50</td>\n      <td>2</td>\n    </tr>\n    <tr>\n      <th>240</th>\n      <td>222</td>\n      <td>Corsola</td>\n      <td>Water</td>\n      <td>Rock</td>\n      <td>380</td>\n      <td>55</td>\n      <td>55</td>\n      <td>85</td>\n      <td>65</td>\n      <td>85</td>\n      <td>35</td>\n      <td>2</td>\n    </tr>\n    <tr>\n      <th>243</th>\n      <td>225</td>\n      <td>Delibird</td>\n      <td>Ice</td>\n      <td>Flying</td>\n      <td>330</td>\n      <td>45</td>\n      <td>55</td>\n      <td>45</td>\n      <td>65</td>\n      <td>45</td>\n      <td>75</td>\n      <td>2</td>\n    </tr>\n    <tr>\n      <th>244</th>\n      <td>226</td>\n      <td>Mantine</td>\n      <td>Water</td>\n      <td>Flying</td>\n      <td>465</td>\n      <td>65</td>\n      <td>40</td>\n      <td>70</td>\n      <td>80</td>\n      <td>140</td>\n      <td>70</td>\n      <td>2</td>\n    </tr>\n    <tr>\n      <th>245</th>\n      <td>227</td>\n      <td>Skarmory</td>\n      <td>Steel</td>\n      <td>Flying</td>\n      <td>465</td>\n      <td>65</td>\n      <td>80</td>\n      <td>140</td>\n      <td>40</td>\n      <td>70</td>\n      <td>70</td>\n      <td>2</td>\n    </tr>\n    <tr>\n      <th>246</th>\n      <td>228</td>\n      <td>Houndour</td>\n      <td>Dark</td>\n      <td>Fire</td>\n      <td>330</td>\n      <td>45</td>\n      <td>60</td>\n      <td>30</td>\n      <td>80</td>\n      <td>50</td>\n      <td>65</td>\n      <td>2</td>\n    </tr>\n    <tr>\n      <th>247</th>\n      <td>229</td>\n      <td>Houndoom</td>\n      <td>Dark</td>\n      <td>Fire</td>\n      <td>500</td>\n      <td>75</td>\n      <td>90</td>\n      <td>50</td>\n      <td>110</td>\n      <td>80</td>\n      <td>95</td>\n      <td>2</td>\n    </tr>\n    <tr>\n      <th>248</th>\n      <td>229</td>\n      <td>HoundoomMega Houndoom</td>\n      <td>Dark</td>\n      <td>Fire</td>\n      <td>600</td>\n      <td>75</td>\n      <td>90</td>\n      <td>90</td>\n      <td>140</td>\n      <td>90</td>\n      <td>115</td>\n      <td>2</td>\n    </tr>\n    <tr>\n      <th>249</th>\n      <td>230</td>\n      <td>Kingdra</td>\n      <td>Water</td>\n      <td>Dragon</td>\n      <td>540</td>\n      <td>75</td>\n      <td>95</td>\n      <td>95</td>\n      <td>95</td>\n      <td>95</td>\n      <td>85</td>\n      <td>2</td>\n    </tr>\n    <tr>\n      <th>257</th>\n      <td>238</td>\n      <td>Smoochum</td>\n      <td>Ice</td>\n      <td>Psychic</td>\n      <td>305</td>\n      <td>45</td>\n      <td>30</td>\n      <td>15</td>\n      <td>85</td>\n      <td>65</td>\n      <td>65</td>\n      <td>2</td>\n    </tr>\n    <tr>\n      <th>265</th>\n      <td>246</td>\n      <td>Larvitar</td>\n      <td>Rock</td>\n      <td>Ground</td>\n      <td>300</td>\n      <td>50</td>\n      <td>64</td>\n      <td>50</td>\n      <td>45</td>\n      <td>50</td>\n      <td>41</td>\n      <td>2</td>\n    </tr>\n    <tr>\n      <th>266</th>\n      <td>247</td>\n      <td>Pupitar</td>\n      <td>Rock</td>\n      <td>Ground</td>\n      <td>410</td>\n      <td>70</td>\n      <td>84</td>\n      <td>70</td>\n      <td>65</td>\n      <td>70</td>\n      <td>51</td>\n      <td>2</td>\n    </tr>\n    <tr>\n      <th>267</th>\n      <td>248</td>\n      <td>Tyranitar</td>\n      <td>Rock</td>\n      <td>Dark</td>\n      <td>600</td>\n      <td>100</td>\n      <td>134</td>\n      <td>110</td>\n      <td>95</td>\n      <td>100</td>\n      <td>61</td>\n      <td>2</td>\n    </tr>\n    <tr>\n      <th>268</th>\n      <td>248</td>\n      <td>TyranitarMega Tyranitar</td>\n      <td>Rock</td>\n      <td>Dark</td>\n      <td>700</td>\n      <td>100</td>\n      <td>164</td>\n      <td>150</td>\n      <td>95</td>\n      <td>120</td>\n      <td>71</td>\n      <td>2</td>\n    </tr>\n    <tr>\n      <th>271</th>\n      <td>251</td>\n      <td>Celebi</td>\n      <td>Psychic</td>\n      <td>Grass</td>\n      <td>600</td>\n      <td>100</td>\n      <td>100</td>\n      <td>100</td>\n      <td>100</td>\n      <td>100</td>\n      <td>100</td>\n      <td>2</td>\n    </tr>\n  </tbody>\n</table>\n</div>"
     },
     "metadata": {},
     "output_type": "display_data"
    },
    {
     "data": {
      "application/vnd.deepnote.dataframe.v3+json": {
       "column_count": 12,
       "row_count": 74,
       "columns": [
        {
         "name": "#",
         "dtype": "int64",
         "stats": {
          "unique_count": 63,
          "nan_count": 0,
          "min": "254",
          "max": "376",
          "histogram": [
           {
            "bin_start": 254,
            "bin_end": 266.2,
            "count": 7
           },
           {
            "bin_start": 266.2,
            "bin_end": 278.4,
            "count": 10
           },
           {
            "bin_start": 278.4,
            "bin_end": 290.6,
            "count": 9
           },
           {
            "bin_start": 290.6,
            "bin_end": 302.8,
            "count": 5
           },
           {
            "bin_start": 302.8,
            "bin_end": 315,
            "count": 8
           },
           {
            "bin_start": 315,
            "bin_end": 327.2,
            "count": 7
           },
           {
            "bin_start": 327.2,
            "bin_end": 339.4,
            "count": 9
           },
           {
            "bin_start": 339.4,
            "bin_end": 351.6,
            "count": 8
           },
           {
            "bin_start": 351.6,
            "bin_end": 363.8,
            "count": 2
           },
           {
            "bin_start": 363.8,
            "bin_end": 376,
            "count": 9
           }
          ]
         }
        },
        {
         "name": "Name",
         "dtype": "object",
         "stats": {
          "unique_count": 74,
          "nan_count": 0,
          "categories": [
           {
            "name": "SceptileMega Sceptile",
            "count": 1
           },
           {
            "name": "Combusken",
            "count": 1
           },
           {
            "name": "72 others",
            "count": 72
           }
          ]
         }
        },
        {
         "name": "Type 1",
         "dtype": "object",
         "stats": {
          "unique_count": 13,
          "nan_count": 0,
          "categories": [
           {
            "name": "Water",
            "count": 15
           },
           {
            "name": "Steel",
            "count": 9
           },
           {
            "name": "11 others",
            "count": 50
           }
          ]
         }
        },
        {
         "name": "Type 2",
         "dtype": "object",
         "stats": {
          "unique_count": 13,
          "nan_count": 0,
          "categories": [
           {
            "name": "Flying",
            "count": 12
           },
           {
            "name": "Psychic",
            "count": 11
           },
           {
            "name": "11 others",
            "count": 51
           }
          ]
         }
        },
        {
         "name": "Total",
         "dtype": "int64",
         "stats": {
          "unique_count": 48,
          "nan_count": 0,
          "min": "190",
          "max": "700",
          "histogram": [
           {
            "bin_start": 190,
            "bin_end": 241,
            "count": 4
           },
           {
            "bin_start": 241,
            "bin_end": 292,
            "count": 8
           },
           {
            "bin_start": 292,
            "bin_end": 343,
            "count": 9
           },
           {
            "bin_start": 343,
            "bin_end": 394,
            "count": 5
           },
           {
            "bin_start": 394,
            "bin_end": 445,
            "count": 13
           },
           {
            "bin_start": 445,
            "bin_end": 496,
            "count": 16
           },
           {
            "bin_start": 496,
            "bin_end": 547,
            "count": 8
           },
           {
            "bin_start": 547,
            "bin_end": 598,
            "count": 3
           },
           {
            "bin_start": 598,
            "bin_end": 649,
            "count": 6
           },
           {
            "bin_start": 649,
            "bin_end": 700,
            "count": 2
           }
          ]
         }
        },
        {
         "name": "HP",
         "dtype": "int64",
         "stats": {
          "unique_count": 22,
          "nan_count": 0,
          "min": "1",
          "max": "110",
          "histogram": [
           {
            "bin_start": 1,
            "bin_end": 11.9,
            "count": 1
           },
           {
            "bin_start": 11.9,
            "bin_end": 22.8,
            "count": 0
           },
           {
            "bin_start": 22.8,
            "bin_end": 33.7,
            "count": 3
           },
           {
            "bin_start": 33.7,
            "bin_end": 44.6,
            "count": 7
           },
           {
            "bin_start": 44.6,
            "bin_end": 55.5,
            "count": 12
           },
           {
            "bin_start": 55.5,
            "bin_end": 66.4,
            "count": 16
           },
           {
            "bin_start": 66.4,
            "bin_end": 77.3,
            "count": 18
           },
           {
            "bin_start": 77.3,
            "bin_end": 88.2,
            "count": 7
           },
           {
            "bin_start": 88.2,
            "bin_end": 99.10000000000001,
            "count": 5
           },
           {
            "bin_start": 99.10000000000001,
            "bin_end": 110,
            "count": 5
           }
          ]
         }
        },
        {
         "name": "Attack",
         "dtype": "int64",
         "stats": {
          "unique_count": 33,
          "nan_count": 0,
          "min": "20",
          "max": "160",
          "histogram": [
           {
            "bin_start": 20,
            "bin_end": 34,
            "count": 5
           },
           {
            "bin_start": 34,
            "bin_end": 48,
            "count": 7
           },
           {
            "bin_start": 48,
            "bin_end": 62,
            "count": 12
           },
           {
            "bin_start": 62,
            "bin_end": 76,
            "count": 11
           },
           {
            "bin_start": 76,
            "bin_end": 90,
            "count": 9
           },
           {
            "bin_start": 90,
            "bin_end": 104,
            "count": 11
           },
           {
            "bin_start": 104,
            "bin_end": 118,
            "count": 6
           },
           {
            "bin_start": 118,
            "bin_end": 132,
            "count": 6
           },
           {
            "bin_start": 132,
            "bin_end": 146,
            "count": 5
           },
           {
            "bin_start": 146,
            "bin_end": 160,
            "count": 2
           }
          ]
         }
        },
        {
         "name": "Defense",
         "dtype": "int64",
         "stats": {
          "unique_count": 30,
          "nan_count": 0,
          "min": "20",
          "max": "180",
          "histogram": [
           {
            "bin_start": 20,
            "bin_end": 36,
            "count": 7
           },
           {
            "bin_start": 36,
            "bin_end": 52,
            "count": 13
           },
           {
            "bin_start": 52,
            "bin_end": 68,
            "count": 11
           },
           {
            "bin_start": 68,
            "bin_end": 84,
            "count": 18
           },
           {
            "bin_start": 84,
            "bin_end": 100,
            "count": 9
           },
           {
            "bin_start": 100,
            "bin_end": 116,
            "count": 8
           },
           {
            "bin_start": 116,
            "bin_end": 132,
            "count": 5
           },
           {
            "bin_start": 132,
            "bin_end": 148,
            "count": 1
           },
           {
            "bin_start": 148,
            "bin_end": 164,
            "count": 1
           },
           {
            "bin_start": 164,
            "bin_end": 180,
            "count": 1
           }
          ]
         }
        },
        {
         "name": "SpecialA",
         "dtype": "int64",
         "stats": {
          "unique_count": 29,
          "nan_count": 0,
          "min": "20",
          "max": "165",
          "histogram": [
           {
            "bin_start": 20,
            "bin_end": 34.5,
            "count": 4
           },
           {
            "bin_start": 34.5,
            "bin_end": 49,
            "count": 10
           },
           {
            "bin_start": 49,
            "bin_end": 63.5,
            "count": 19
           },
           {
            "bin_start": 63.5,
            "bin_end": 78,
            "count": 10
           },
           {
            "bin_start": 78,
            "bin_end": 92.5,
            "count": 11
           },
           {
            "bin_start": 92.5,
            "bin_end": 107,
            "count": 9
           },
           {
            "bin_start": 107,
            "bin_end": 121.5,
            "count": 6
           },
           {
            "bin_start": 121.5,
            "bin_end": 136,
            "count": 2
           },
           {
            "bin_start": 136,
            "bin_end": 150.5,
            "count": 2
           },
           {
            "bin_start": 150.5,
            "bin_end": 165,
            "count": 1
           }
          ]
         }
        },
        {
         "name": "SpecialD",
         "dtype": "int64",
         "stats": {
          "unique_count": 27,
          "nan_count": 0,
          "min": "20",
          "max": "135",
          "histogram": [
           {
            "bin_start": 20,
            "bin_end": 31.5,
            "count": 5
           },
           {
            "bin_start": 31.5,
            "bin_end": 43,
            "count": 6
           },
           {
            "bin_start": 43,
            "bin_end": 54.5,
            "count": 10
           },
           {
            "bin_start": 54.5,
            "bin_end": 66,
            "count": 14
           },
           {
            "bin_start": 66,
            "bin_end": 77.5,
            "count": 10
           },
           {
            "bin_start": 77.5,
            "bin_end": 89,
            "count": 12
           },
           {
            "bin_start": 89,
            "bin_end": 100.5,
            "count": 7
           },
           {
            "bin_start": 100.5,
            "bin_end": 112,
            "count": 6
           },
           {
            "bin_start": 112,
            "bin_end": 123.5,
            "count": 3
           },
           {
            "bin_start": 123.5,
            "bin_end": 135,
            "count": 1
           }
          ]
         }
        },
        {
         "name": "Speed",
         "dtype": "int64",
         "stats": {
          "unique_count": 25,
          "nan_count": 0,
          "min": "20",
          "max": "160",
          "histogram": [
           {
            "bin_start": 20,
            "bin_end": 34,
            "count": 8
           },
           {
            "bin_start": 34,
            "bin_end": 48,
            "count": 9
           },
           {
            "bin_start": 48,
            "bin_end": 62,
            "count": 21
           },
           {
            "bin_start": 62,
            "bin_end": 76,
            "count": 16
           },
           {
            "bin_start": 76,
            "bin_end": 90,
            "count": 8
           },
           {
            "bin_start": 90,
            "bin_end": 104,
            "count": 6
           },
           {
            "bin_start": 104,
            "bin_end": 118,
            "count": 2
           },
           {
            "bin_start": 118,
            "bin_end": 132,
            "count": 2
           },
           {
            "bin_start": 132,
            "bin_end": 146,
            "count": 1
           },
           {
            "bin_start": 146,
            "bin_end": 160,
            "count": 1
           }
          ]
         }
        },
        {
         "name": "Generation",
         "dtype": "int64",
         "stats": {
          "unique_count": 1,
          "nan_count": 0,
          "min": "3",
          "max": "3",
          "histogram": [
           {
            "bin_start": 2.5,
            "bin_end": 2.6,
            "count": 0
           },
           {
            "bin_start": 2.6,
            "bin_end": 2.7,
            "count": 0
           },
           {
            "bin_start": 2.7,
            "bin_end": 2.8,
            "count": 0
           },
           {
            "bin_start": 2.8,
            "bin_end": 2.9,
            "count": 0
           },
           {
            "bin_start": 2.9,
            "bin_end": 3,
            "count": 0
           },
           {
            "bin_start": 3,
            "bin_end": 3.1,
            "count": 74
           },
           {
            "bin_start": 3.1,
            "bin_end": 3.2,
            "count": 0
           },
           {
            "bin_start": 3.2,
            "bin_end": 3.3,
            "count": 0
           },
           {
            "bin_start": 3.3,
            "bin_end": 3.4,
            "count": 0
           },
           {
            "bin_start": 3.4,
            "bin_end": 3.5,
            "count": 0
           }
          ]
         }
        },
        {
         "name": "_deepnote_index_column",
         "dtype": "int64"
        }
       ],
       "rows": [
        {
         "#": 254,
         "Name": "SceptileMega Sceptile",
         "Type 1": "Grass",
         "Type 2": "Dragon",
         "Total": 630,
         "HP": 70,
         "Attack": 110,
         "Defense": 75,
         "SpecialA": 145,
         "SpecialD": 85,
         "Speed": 145,
         "Generation": 3,
         "_deepnote_index_column": 275
        },
        {
         "#": 256,
         "Name": "Combusken",
         "Type 1": "Fire",
         "Type 2": "Fighting",
         "Total": 405,
         "HP": 60,
         "Attack": 85,
         "Defense": 60,
         "SpecialA": 85,
         "SpecialD": 60,
         "Speed": 55,
         "Generation": 3,
         "_deepnote_index_column": 277
        },
        {
         "#": 257,
         "Name": "Blaziken",
         "Type 1": "Fire",
         "Type 2": "Fighting",
         "Total": 530,
         "HP": 80,
         "Attack": 120,
         "Defense": 70,
         "SpecialA": 110,
         "SpecialD": 70,
         "Speed": 80,
         "Generation": 3,
         "_deepnote_index_column": 278
        },
        {
         "#": 257,
         "Name": "BlazikenMega Blaziken",
         "Type 1": "Fire",
         "Type 2": "Fighting",
         "Total": 630,
         "HP": 80,
         "Attack": 160,
         "Defense": 80,
         "SpecialA": 130,
         "SpecialD": 80,
         "Speed": 100,
         "Generation": 3,
         "_deepnote_index_column": 279
        },
        {
         "#": 259,
         "Name": "Marshtomp",
         "Type 1": "Water",
         "Type 2": "Ground",
         "Total": 405,
         "HP": 70,
         "Attack": 85,
         "Defense": 70,
         "SpecialA": 60,
         "SpecialD": 70,
         "Speed": 50,
         "Generation": 3,
         "_deepnote_index_column": 281
        },
        {
         "#": 260,
         "Name": "Swampert",
         "Type 1": "Water",
         "Type 2": "Ground",
         "Total": 535,
         "HP": 100,
         "Attack": 110,
         "Defense": 90,
         "SpecialA": 85,
         "SpecialD": 90,
         "Speed": 60,
         "Generation": 3,
         "_deepnote_index_column": 282
        },
        {
         "#": 260,
         "Name": "SwampertMega Swampert",
         "Type 1": "Water",
         "Type 2": "Ground",
         "Total": 635,
         "HP": 100,
         "Attack": 150,
         "Defense": 110,
         "SpecialA": 95,
         "SpecialD": 110,
         "Speed": 70,
         "Generation": 3,
         "_deepnote_index_column": 283
        },
        {
         "#": 267,
         "Name": "Beautifly",
         "Type 1": "Bug",
         "Type 2": "Flying",
         "Total": 395,
         "HP": 60,
         "Attack": 70,
         "Defense": 50,
         "SpecialA": 100,
         "SpecialD": 50,
         "Speed": 65,
         "Generation": 3,
         "_deepnote_index_column": 290
        },
        {
         "#": 269,
         "Name": "Dustox",
         "Type 1": "Bug",
         "Type 2": "Poison",
         "Total": 385,
         "HP": 60,
         "Attack": 50,
         "Defense": 70,
         "SpecialA": 50,
         "SpecialD": 90,
         "Speed": 65,
         "Generation": 3,
         "_deepnote_index_column": 292
        },
        {
         "#": 270,
         "Name": "Lotad",
         "Type 1": "Water",
         "Type 2": "Grass",
         "Total": 220,
         "HP": 40,
         "Attack": 30,
         "Defense": 30,
         "SpecialA": 40,
         "SpecialD": 50,
         "Speed": 30,
         "Generation": 3,
         "_deepnote_index_column": 293
        }
       ]
      },
      "text/plain": "       #                     Name  Type 1    Type 2  Total  HP  Attack  \\\n275  254    SceptileMega Sceptile   Grass    Dragon    630  70     110   \n277  256                Combusken    Fire  Fighting    405  60      85   \n278  257                 Blaziken    Fire  Fighting    530  80     120   \n279  257    BlazikenMega Blaziken    Fire  Fighting    630  80     160   \n281  259                Marshtomp   Water    Ground    405  70      85   \n..   ...                      ...     ...       ...    ...  ..     ...   \n409  373  SalamenceMega Salamence  Dragon    Flying    700  95     145   \n410  374                   Beldum   Steel   Psychic    300  40      55   \n411  375                   Metang   Steel   Psychic    420  60      75   \n412  376                Metagross   Steel   Psychic    600  80     135   \n413  376  MetagrossMega Metagross   Steel   Psychic    700  80     145   \n\n     Defense  SpecialA  SpecialD  Speed  Generation  \n275       75       145        85    145           3  \n277       60        85        60     55           3  \n278       70       110        70     80           3  \n279       80       130        80    100           3  \n281       70        60        70     50           3  \n..       ...       ...       ...    ...         ...  \n409      130       120        90    120           3  \n410       80        35        60     30           3  \n411      100        55        80     50           3  \n412      130        95        90     70           3  \n413      150       105       110    110           3  \n\n[74 rows x 12 columns]",
      "text/html": "<div>\n<style scoped>\n    .dataframe tbody tr th:only-of-type {\n        vertical-align: middle;\n    }\n\n    .dataframe tbody tr th {\n        vertical-align: top;\n    }\n\n    .dataframe thead th {\n        text-align: right;\n    }\n</style>\n<table border=\"1\" class=\"dataframe\">\n  <thead>\n    <tr style=\"text-align: right;\">\n      <th></th>\n      <th>#</th>\n      <th>Name</th>\n      <th>Type 1</th>\n      <th>Type 2</th>\n      <th>Total</th>\n      <th>HP</th>\n      <th>Attack</th>\n      <th>Defense</th>\n      <th>SpecialA</th>\n      <th>SpecialD</th>\n      <th>Speed</th>\n      <th>Generation</th>\n    </tr>\n  </thead>\n  <tbody>\n    <tr>\n      <th>275</th>\n      <td>254</td>\n      <td>SceptileMega Sceptile</td>\n      <td>Grass</td>\n      <td>Dragon</td>\n      <td>630</td>\n      <td>70</td>\n      <td>110</td>\n      <td>75</td>\n      <td>145</td>\n      <td>85</td>\n      <td>145</td>\n      <td>3</td>\n    </tr>\n    <tr>\n      <th>277</th>\n      <td>256</td>\n      <td>Combusken</td>\n      <td>Fire</td>\n      <td>Fighting</td>\n      <td>405</td>\n      <td>60</td>\n      <td>85</td>\n      <td>60</td>\n      <td>85</td>\n      <td>60</td>\n      <td>55</td>\n      <td>3</td>\n    </tr>\n    <tr>\n      <th>278</th>\n      <td>257</td>\n      <td>Blaziken</td>\n      <td>Fire</td>\n      <td>Fighting</td>\n      <td>530</td>\n      <td>80</td>\n      <td>120</td>\n      <td>70</td>\n      <td>110</td>\n      <td>70</td>\n      <td>80</td>\n      <td>3</td>\n    </tr>\n    <tr>\n      <th>279</th>\n      <td>257</td>\n      <td>BlazikenMega Blaziken</td>\n      <td>Fire</td>\n      <td>Fighting</td>\n      <td>630</td>\n      <td>80</td>\n      <td>160</td>\n      <td>80</td>\n      <td>130</td>\n      <td>80</td>\n      <td>100</td>\n      <td>3</td>\n    </tr>\n    <tr>\n      <th>281</th>\n      <td>259</td>\n      <td>Marshtomp</td>\n      <td>Water</td>\n      <td>Ground</td>\n      <td>405</td>\n      <td>70</td>\n      <td>85</td>\n      <td>70</td>\n      <td>60</td>\n      <td>70</td>\n      <td>50</td>\n      <td>3</td>\n    </tr>\n    <tr>\n      <th>...</th>\n      <td>...</td>\n      <td>...</td>\n      <td>...</td>\n      <td>...</td>\n      <td>...</td>\n      <td>...</td>\n      <td>...</td>\n      <td>...</td>\n      <td>...</td>\n      <td>...</td>\n      <td>...</td>\n      <td>...</td>\n    </tr>\n    <tr>\n      <th>409</th>\n      <td>373</td>\n      <td>SalamenceMega Salamence</td>\n      <td>Dragon</td>\n      <td>Flying</td>\n      <td>700</td>\n      <td>95</td>\n      <td>145</td>\n      <td>130</td>\n      <td>120</td>\n      <td>90</td>\n      <td>120</td>\n      <td>3</td>\n    </tr>\n    <tr>\n      <th>410</th>\n      <td>374</td>\n      <td>Beldum</td>\n      <td>Steel</td>\n      <td>Psychic</td>\n      <td>300</td>\n      <td>40</td>\n      <td>55</td>\n      <td>80</td>\n      <td>35</td>\n      <td>60</td>\n      <td>30</td>\n      <td>3</td>\n    </tr>\n    <tr>\n      <th>411</th>\n      <td>375</td>\n      <td>Metang</td>\n      <td>Steel</td>\n      <td>Psychic</td>\n      <td>420</td>\n      <td>60</td>\n      <td>75</td>\n      <td>100</td>\n      <td>55</td>\n      <td>80</td>\n      <td>50</td>\n      <td>3</td>\n    </tr>\n    <tr>\n      <th>412</th>\n      <td>376</td>\n      <td>Metagross</td>\n      <td>Steel</td>\n      <td>Psychic</td>\n      <td>600</td>\n      <td>80</td>\n      <td>135</td>\n      <td>130</td>\n      <td>95</td>\n      <td>90</td>\n      <td>70</td>\n      <td>3</td>\n    </tr>\n    <tr>\n      <th>413</th>\n      <td>376</td>\n      <td>MetagrossMega Metagross</td>\n      <td>Steel</td>\n      <td>Psychic</td>\n      <td>700</td>\n      <td>80</td>\n      <td>145</td>\n      <td>150</td>\n      <td>105</td>\n      <td>110</td>\n      <td>110</td>\n      <td>3</td>\n    </tr>\n  </tbody>\n</table>\n<p>74 rows × 12 columns</p>\n</div>"
     },
     "metadata": {},
     "output_type": "display_data"
    },
    {
     "data": {
      "application/vnd.deepnote.dataframe.v3+json": {
       "column_count": 12,
       "row_count": 61,
       "columns": [
        {
         "name": "#",
         "dtype": "int64",
         "stats": {
          "unique_count": 50,
          "nan_count": 0,
          "min": "389",
          "max": "479",
          "histogram": [
           {
            "bin_start": 389,
            "bin_end": 398,
            "count": 6
           },
           {
            "bin_start": 398,
            "bin_end": 407,
            "count": 3
           },
           {
            "bin_start": 407,
            "bin_end": 416,
            "count": 8
           },
           {
            "bin_start": 416,
            "bin_end": 425,
            "count": 2
           },
           {
            "bin_start": 425,
            "bin_end": 434,
            "count": 4
           },
           {
            "bin_start": 434,
            "bin_end": 443,
            "count": 7
           },
           {
            "bin_start": 443,
            "bin_end": 452,
            "count": 7
           },
           {
            "bin_start": 452,
            "bin_end": 461,
            "count": 7
           },
           {
            "bin_start": 461,
            "bin_end": 470,
            "count": 5
           },
           {
            "bin_start": 470,
            "bin_end": 479,
            "count": 12
           }
          ]
         }
        },
        {
         "name": "Name",
         "dtype": "object",
         "stats": {
          "unique_count": 61,
          "nan_count": 0,
          "categories": [
           {
            "name": "Torterra",
            "count": 1
           },
           {
            "name": "Monferno",
            "count": 1
           },
           {
            "name": "59 others",
            "count": 59
           }
          ]
         }
        },
        {
         "name": "Type 1",
         "dtype": "object",
         "stats": {
          "unique_count": 17,
          "nan_count": 0,
          "categories": [
           {
            "name": "Bug",
            "count": 7
           },
           {
            "name": "Electric",
            "count": 7
           },
           {
            "name": "15 others",
            "count": 47
           }
          ]
         }
        },
        {
         "name": "Type 2",
         "dtype": "object",
         "stats": {
          "unique_count": 15,
          "nan_count": 0,
          "categories": [
           {
            "name": "Flying",
            "count": 15
           },
           {
            "name": "Ground",
            "count": 8
           },
           {
            "name": "13 others",
            "count": 38
           }
          ]
         }
        },
        {
         "name": "Total",
         "dtype": "int64",
         "stats": {
          "unique_count": 43,
          "nan_count": 0,
          "min": "244",
          "max": "700",
          "histogram": [
           {
            "bin_start": 244,
            "bin_end": 289.6,
            "count": 3
           },
           {
            "bin_start": 289.6,
            "bin_end": 335.2,
            "count": 7
           },
           {
            "bin_start": 335.2,
            "bin_end": 380.8,
            "count": 4
           },
           {
            "bin_start": 380.8,
            "bin_end": 426.4,
            "count": 8
           },
           {
            "bin_start": 426.4,
            "bin_end": 472,
            "count": 1
           },
           {
            "bin_start": 472,
            "bin_end": 517.6,
            "count": 17
           },
           {
            "bin_start": 517.6,
            "bin_end": 563.2,
            "count": 15
           },
           {
            "bin_start": 563.2,
            "bin_end": 608.8,
            "count": 3
           },
           {
            "bin_start": 608.8,
            "bin_end": 654.4000000000001,
            "count": 2
           },
           {
            "bin_start": 654.4000000000001,
            "bin_end": 700,
            "count": 1
           }
          ]
         }
        },
        {
         "name": "HP",
         "dtype": "int64",
         "stats": {
          "unique_count": 32,
          "nan_count": 0,
          "min": "20",
          "max": "150",
          "histogram": [
           {
            "bin_start": 20,
            "bin_end": 33,
            "count": 3
           },
           {
            "bin_start": 33,
            "bin_end": 46,
            "count": 4
           },
           {
            "bin_start": 46,
            "bin_end": 59,
            "count": 11
           },
           {
            "bin_start": 59,
            "bin_end": 72,
            "count": 22
           },
           {
            "bin_start": 72,
            "bin_end": 85,
            "count": 6
           },
           {
            "bin_start": 85,
            "bin_end": 98,
            "count": 7
           },
           {
            "bin_start": 98,
            "bin_end": 111,
            "count": 5
           },
           {
            "bin_start": 111,
            "bin_end": 124,
            "count": 2
           },
           {
            "bin_start": 124,
            "bin_end": 137,
            "count": 0
           },
           {
            "bin_start": 137,
            "bin_end": 150,
            "count": 1
           }
          ]
         }
        },
        {
         "name": "Attack",
         "dtype": "int64",
         "stats": {
          "unique_count": 42,
          "nan_count": 0,
          "min": "20",
          "max": "170",
          "histogram": [
           {
            "bin_start": 20,
            "bin_end": 35,
            "count": 5
           },
           {
            "bin_start": 35,
            "bin_end": 50,
            "count": 1
           },
           {
            "bin_start": 50,
            "bin_end": 65,
            "count": 11
           },
           {
            "bin_start": 65,
            "bin_end": 80,
            "count": 14
           },
           {
            "bin_start": 80,
            "bin_end": 95,
            "count": 13
           },
           {
            "bin_start": 95,
            "bin_end": 110,
            "count": 4
           },
           {
            "bin_start": 110,
            "bin_end": 125,
            "count": 3
           },
           {
            "bin_start": 125,
            "bin_end": 140,
            "count": 6
           },
           {
            "bin_start": 140,
            "bin_end": 155,
            "count": 2
           },
           {
            "bin_start": 155,
            "bin_end": 170,
            "count": 2
           }
          ]
         }
        },
        {
         "name": "Defense",
         "dtype": "int64",
         "stats": {
          "unique_count": 37,
          "nan_count": 0,
          "min": "30",
          "max": "168",
          "histogram": [
           {
            "bin_start": 30,
            "bin_end": 43.8,
            "count": 5
           },
           {
            "bin_start": 43.8,
            "bin_end": 57.6,
            "count": 11
           },
           {
            "bin_start": 57.6,
            "bin_end": 71.4,
            "count": 12
           },
           {
            "bin_start": 71.4,
            "bin_end": 85.2,
            "count": 4
           },
           {
            "bin_start": 85.2,
            "bin_end": 99,
            "count": 10
           },
           {
            "bin_start": 99,
            "bin_end": 112.80000000000001,
            "count": 11
           },
           {
            "bin_start": 112.80000000000001,
            "bin_end": 126.60000000000001,
            "count": 5
           },
           {
            "bin_start": 126.60000000000001,
            "bin_end": 140.4,
            "count": 1
           },
           {
            "bin_start": 140.4,
            "bin_end": 154.2,
            "count": 1
           },
           {
            "bin_start": 154.2,
            "bin_end": 168,
            "count": 1
           }
          ]
         }
        },
        {
         "name": "SpecialA",
         "dtype": "int64",
         "stats": {
          "unique_count": 37,
          "nan_count": 0,
          "min": "24",
          "max": "140",
          "histogram": [
           {
            "bin_start": 24,
            "bin_end": 35.6,
            "count": 4
           },
           {
            "bin_start": 35.6,
            "bin_end": 47.2,
            "count": 7
           },
           {
            "bin_start": 47.2,
            "bin_end": 58.8,
            "count": 6
           },
           {
            "bin_start": 58.8,
            "bin_end": 70.4,
            "count": 11
           },
           {
            "bin_start": 70.4,
            "bin_end": 82,
            "count": 9
           },
           {
            "bin_start": 82,
            "bin_end": 93.6,
            "count": 6
           },
           {
            "bin_start": 93.6,
            "bin_end": 105.2,
            "count": 9
           },
           {
            "bin_start": 105.2,
            "bin_end": 116.8,
            "count": 3
           },
           {
            "bin_start": 116.8,
            "bin_end": 128.39999999999998,
            "count": 3
           },
           {
            "bin_start": 128.39999999999998,
            "bin_end": 140,
            "count": 3
           }
          ]
         }
        },
        {
         "name": "SpecialD",
         "dtype": "int64",
         "stats": {
          "unique_count": 35,
          "nan_count": 0,
          "min": "30",
          "max": "150",
          "histogram": [
           {
            "bin_start": 30,
            "bin_end": 42,
            "count": 4
           },
           {
            "bin_start": 42,
            "bin_end": 54,
            "count": 7
           },
           {
            "bin_start": 54,
            "bin_end": 66,
            "count": 11
           },
           {
            "bin_start": 66,
            "bin_end": 78,
            "count": 8
           },
           {
            "bin_start": 78,
            "bin_end": 90,
            "count": 8
           },
           {
            "bin_start": 90,
            "bin_end": 102,
            "count": 6
           },
           {
            "bin_start": 102,
            "bin_end": 114,
            "count": 10
           },
           {
            "bin_start": 114,
            "bin_end": 126,
            "count": 5
           },
           {
            "bin_start": 126,
            "bin_end": 138,
            "count": 0
           },
           {
            "bin_start": 138,
            "bin_end": 150,
            "count": 2
           }
          ]
         }
        },
        {
         "name": "Speed",
         "dtype": "int64",
         "stats": {
          "unique_count": 34,
          "nan_count": 0,
          "min": "23",
          "max": "135",
          "histogram": [
           {
            "bin_start": 23,
            "bin_end": 34.2,
            "count": 5
           },
           {
            "bin_start": 34.2,
            "bin_end": 45.4,
            "count": 10
           },
           {
            "bin_start": 45.4,
            "bin_end": 56.599999999999994,
            "count": 4
           },
           {
            "bin_start": 56.599999999999994,
            "bin_end": 67.8,
            "count": 7
           },
           {
            "bin_start": 67.8,
            "bin_end": 79,
            "count": 5
           },
           {
            "bin_start": 79,
            "bin_end": 90.19999999999999,
            "count": 16
           },
           {
            "bin_start": 90.19999999999999,
            "bin_end": 101.39999999999999,
            "count": 7
           },
           {
            "bin_start": 101.39999999999999,
            "bin_end": 112.6,
            "count": 5
           },
           {
            "bin_start": 112.6,
            "bin_end": 123.8,
            "count": 0
           },
           {
            "bin_start": 123.8,
            "bin_end": 135,
            "count": 2
           }
          ]
         }
        },
        {
         "name": "Generation",
         "dtype": "int64",
         "stats": {
          "unique_count": 1,
          "nan_count": 0,
          "min": "4",
          "max": "4",
          "histogram": [
           {
            "bin_start": 3.5,
            "bin_end": 3.6,
            "count": 0
           },
           {
            "bin_start": 3.6,
            "bin_end": 3.7,
            "count": 0
           },
           {
            "bin_start": 3.7,
            "bin_end": 3.8,
            "count": 0
           },
           {
            "bin_start": 3.8,
            "bin_end": 3.9,
            "count": 0
           },
           {
            "bin_start": 3.9,
            "bin_end": 4,
            "count": 0
           },
           {
            "bin_start": 4,
            "bin_end": 4.1,
            "count": 61
           },
           {
            "bin_start": 4.1,
            "bin_end": 4.2,
            "count": 0
           },
           {
            "bin_start": 4.2,
            "bin_end": 4.3,
            "count": 0
           },
           {
            "bin_start": 4.3,
            "bin_end": 4.4,
            "count": 0
           },
           {
            "bin_start": 4.4,
            "bin_end": 4.5,
            "count": 0
           }
          ]
         }
        },
        {
         "name": "_deepnote_index_column",
         "dtype": "int64"
        }
       ],
       "rows": [
        {
         "#": 389,
         "Name": "Torterra",
         "Type 1": "Grass",
         "Type 2": "Ground",
         "Total": 525,
         "HP": 95,
         "Attack": 109,
         "Defense": 105,
         "SpecialA": 75,
         "SpecialD": 85,
         "Speed": 56,
         "Generation": 4,
         "_deepnote_index_column": 434
        },
        {
         "#": 391,
         "Name": "Monferno",
         "Type 1": "Fire",
         "Type 2": "Fighting",
         "Total": 405,
         "HP": 64,
         "Attack": 78,
         "Defense": 52,
         "SpecialA": 78,
         "SpecialD": 52,
         "Speed": 81,
         "Generation": 4,
         "_deepnote_index_column": 436
        },
        {
         "#": 392,
         "Name": "Infernape",
         "Type 1": "Fire",
         "Type 2": "Fighting",
         "Total": 534,
         "HP": 76,
         "Attack": 104,
         "Defense": 71,
         "SpecialA": 104,
         "SpecialD": 71,
         "Speed": 108,
         "Generation": 4,
         "_deepnote_index_column": 437
        },
        {
         "#": 395,
         "Name": "Empoleon",
         "Type 1": "Water",
         "Type 2": "Steel",
         "Total": 530,
         "HP": 84,
         "Attack": 86,
         "Defense": 88,
         "SpecialA": 111,
         "SpecialD": 101,
         "Speed": 60,
         "Generation": 4,
         "_deepnote_index_column": 440
        },
        {
         "#": 396,
         "Name": "Starly",
         "Type 1": "Normal",
         "Type 2": "Flying",
         "Total": 245,
         "HP": 40,
         "Attack": 55,
         "Defense": 30,
         "SpecialA": 30,
         "SpecialD": 30,
         "Speed": 60,
         "Generation": 4,
         "_deepnote_index_column": 441
        },
        {
         "#": 397,
         "Name": "Staravia",
         "Type 1": "Normal",
         "Type 2": "Flying",
         "Total": 340,
         "HP": 55,
         "Attack": 75,
         "Defense": 50,
         "SpecialA": 40,
         "SpecialD": 40,
         "Speed": 80,
         "Generation": 4,
         "_deepnote_index_column": 442
        },
        {
         "#": 398,
         "Name": "Staraptor",
         "Type 1": "Normal",
         "Type 2": "Flying",
         "Total": 485,
         "HP": 85,
         "Attack": 120,
         "Defense": 70,
         "SpecialA": 50,
         "SpecialD": 60,
         "Speed": 100,
         "Generation": 4,
         "_deepnote_index_column": 443
        },
        {
         "#": 400,
         "Name": "Bibarel",
         "Type 1": "Normal",
         "Type 2": "Water",
         "Total": 410,
         "HP": 79,
         "Attack": 85,
         "Defense": 60,
         "SpecialA": 55,
         "SpecialD": 60,
         "Speed": 71,
         "Generation": 4,
         "_deepnote_index_column": 445
        },
        {
         "#": 406,
         "Name": "Budew",
         "Type 1": "Grass",
         "Type 2": "Poison",
         "Total": 280,
         "HP": 40,
         "Attack": 30,
         "Defense": 35,
         "SpecialA": 50,
         "SpecialD": 70,
         "Speed": 55,
         "Generation": 4,
         "_deepnote_index_column": 451
        },
        {
         "#": 407,
         "Name": "Roserade",
         "Type 1": "Grass",
         "Type 2": "Poison",
         "Total": 515,
         "HP": 60,
         "Attack": 70,
         "Defense": 65,
         "SpecialA": 125,
         "SpecialD": 105,
         "Speed": 90,
         "Generation": 4,
         "_deepnote_index_column": 452
        }
       ]
      },
      "text/plain": "       #              Name    Type 1    Type 2  Total  HP  Attack  Defense  \\\n434  389          Torterra     Grass    Ground    525  95     109      105   \n436  391          Monferno      Fire  Fighting    405  64      78       52   \n437  392         Infernape      Fire  Fighting    534  76     104       71   \n440  395          Empoleon     Water     Steel    530  84      86       88   \n441  396            Starly    Normal    Flying    245  40      55       30   \n..   ...               ...       ...       ...    ...  ..     ...      ...   \n532  479   RotomHeat Rotom  Electric      Fire    520  50      65      107   \n533  479   RotomWash Rotom  Electric     Water    520  50      65      107   \n534  479  RotomFrost Rotom  Electric       Ice    520  50      65      107   \n535  479    RotomFan Rotom  Electric    Flying    520  50      65      107   \n536  479    RotomMow Rotom  Electric     Grass    520  50      65      107   \n\n     SpecialA  SpecialD  Speed  Generation  \n434        75        85     56           4  \n436        78        52     81           4  \n437       104        71    108           4  \n440       111       101     60           4  \n441        30        30     60           4  \n..        ...       ...    ...         ...  \n532       105       107     86           4  \n533       105       107     86           4  \n534       105       107     86           4  \n535       105       107     86           4  \n536       105       107     86           4  \n\n[61 rows x 12 columns]",
      "text/html": "<div>\n<style scoped>\n    .dataframe tbody tr th:only-of-type {\n        vertical-align: middle;\n    }\n\n    .dataframe tbody tr th {\n        vertical-align: top;\n    }\n\n    .dataframe thead th {\n        text-align: right;\n    }\n</style>\n<table border=\"1\" class=\"dataframe\">\n  <thead>\n    <tr style=\"text-align: right;\">\n      <th></th>\n      <th>#</th>\n      <th>Name</th>\n      <th>Type 1</th>\n      <th>Type 2</th>\n      <th>Total</th>\n      <th>HP</th>\n      <th>Attack</th>\n      <th>Defense</th>\n      <th>SpecialA</th>\n      <th>SpecialD</th>\n      <th>Speed</th>\n      <th>Generation</th>\n    </tr>\n  </thead>\n  <tbody>\n    <tr>\n      <th>434</th>\n      <td>389</td>\n      <td>Torterra</td>\n      <td>Grass</td>\n      <td>Ground</td>\n      <td>525</td>\n      <td>95</td>\n      <td>109</td>\n      <td>105</td>\n      <td>75</td>\n      <td>85</td>\n      <td>56</td>\n      <td>4</td>\n    </tr>\n    <tr>\n      <th>436</th>\n      <td>391</td>\n      <td>Monferno</td>\n      <td>Fire</td>\n      <td>Fighting</td>\n      <td>405</td>\n      <td>64</td>\n      <td>78</td>\n      <td>52</td>\n      <td>78</td>\n      <td>52</td>\n      <td>81</td>\n      <td>4</td>\n    </tr>\n    <tr>\n      <th>437</th>\n      <td>392</td>\n      <td>Infernape</td>\n      <td>Fire</td>\n      <td>Fighting</td>\n      <td>534</td>\n      <td>76</td>\n      <td>104</td>\n      <td>71</td>\n      <td>104</td>\n      <td>71</td>\n      <td>108</td>\n      <td>4</td>\n    </tr>\n    <tr>\n      <th>440</th>\n      <td>395</td>\n      <td>Empoleon</td>\n      <td>Water</td>\n      <td>Steel</td>\n      <td>530</td>\n      <td>84</td>\n      <td>86</td>\n      <td>88</td>\n      <td>111</td>\n      <td>101</td>\n      <td>60</td>\n      <td>4</td>\n    </tr>\n    <tr>\n      <th>441</th>\n      <td>396</td>\n      <td>Starly</td>\n      <td>Normal</td>\n      <td>Flying</td>\n      <td>245</td>\n      <td>40</td>\n      <td>55</td>\n      <td>30</td>\n      <td>30</td>\n      <td>30</td>\n      <td>60</td>\n      <td>4</td>\n    </tr>\n    <tr>\n      <th>...</th>\n      <td>...</td>\n      <td>...</td>\n      <td>...</td>\n      <td>...</td>\n      <td>...</td>\n      <td>...</td>\n      <td>...</td>\n      <td>...</td>\n      <td>...</td>\n      <td>...</td>\n      <td>...</td>\n      <td>...</td>\n    </tr>\n    <tr>\n      <th>532</th>\n      <td>479</td>\n      <td>RotomHeat Rotom</td>\n      <td>Electric</td>\n      <td>Fire</td>\n      <td>520</td>\n      <td>50</td>\n      <td>65</td>\n      <td>107</td>\n      <td>105</td>\n      <td>107</td>\n      <td>86</td>\n      <td>4</td>\n    </tr>\n    <tr>\n      <th>533</th>\n      <td>479</td>\n      <td>RotomWash Rotom</td>\n      <td>Electric</td>\n      <td>Water</td>\n      <td>520</td>\n      <td>50</td>\n      <td>65</td>\n      <td>107</td>\n      <td>105</td>\n      <td>107</td>\n      <td>86</td>\n      <td>4</td>\n    </tr>\n    <tr>\n      <th>534</th>\n      <td>479</td>\n      <td>RotomFrost Rotom</td>\n      <td>Electric</td>\n      <td>Ice</td>\n      <td>520</td>\n      <td>50</td>\n      <td>65</td>\n      <td>107</td>\n      <td>105</td>\n      <td>107</td>\n      <td>86</td>\n      <td>4</td>\n    </tr>\n    <tr>\n      <th>535</th>\n      <td>479</td>\n      <td>RotomFan Rotom</td>\n      <td>Electric</td>\n      <td>Flying</td>\n      <td>520</td>\n      <td>50</td>\n      <td>65</td>\n      <td>107</td>\n      <td>105</td>\n      <td>107</td>\n      <td>86</td>\n      <td>4</td>\n    </tr>\n    <tr>\n      <th>536</th>\n      <td>479</td>\n      <td>RotomMow Rotom</td>\n      <td>Electric</td>\n      <td>Grass</td>\n      <td>520</td>\n      <td>50</td>\n      <td>65</td>\n      <td>107</td>\n      <td>105</td>\n      <td>107</td>\n      <td>86</td>\n      <td>4</td>\n    </tr>\n  </tbody>\n</table>\n<p>61 rows × 12 columns</p>\n</div>"
     },
     "metadata": {},
     "output_type": "display_data"
    },
    {
     "data": {
      "application/vnd.deepnote.dataframe.v3+json": {
       "column_count": 12,
       "row_count": 69,
       "columns": [
        {
         "name": "#",
         "dtype": "int64",
         "stats": {
          "unique_count": 67,
          "nan_count": 0,
          "min": "499",
          "max": "649",
          "histogram": [
           {
            "bin_start": 499,
            "bin_end": 514,
            "count": 2
           },
           {
            "bin_start": 514,
            "bin_end": 529,
            "count": 5
           },
           {
            "bin_start": 529,
            "bin_end": 544,
            "count": 8
           },
           {
            "bin_start": 544,
            "bin_end": 559,
            "count": 10
           },
           {
            "bin_start": 559,
            "bin_end": 574,
            "count": 7
           },
           {
            "bin_start": 574,
            "bin_end": 589,
            "count": 5
           },
           {
            "bin_start": 589,
            "bin_end": 604,
            "count": 9
           },
           {
            "bin_start": 604,
            "bin_end": 619,
            "count": 4
           },
           {
            "bin_start": 619,
            "bin_end": 634,
            "count": 10
           },
           {
            "bin_start": 634,
            "bin_end": 649,
            "count": 9
           }
          ]
         }
        },
        {
         "name": "Name",
         "dtype": "object",
         "stats": {
          "unique_count": 69,
          "nan_count": 0,
          "categories": [
           {
            "name": "Pignite",
            "count": 1
           },
           {
            "name": "Emboar",
            "count": 1
           },
           {
            "name": "67 others",
            "count": 67
           }
          ]
         }
        },
        {
         "name": "Type 1",
         "dtype": "object",
         "stats": {
          "unique_count": 11,
          "nan_count": 0,
          "categories": [
           {
            "name": "Bug",
            "count": 15
           },
           {
            "name": "Normal",
            "count": 10
           },
           {
            "name": "9 others",
            "count": 44
           }
          ]
         }
        },
        {
         "name": "Type 2",
         "dtype": "object",
         "stats": {
          "unique_count": 14,
          "nan_count": 0,
          "categories": [
           {
            "name": "Flying",
            "count": 15
           },
           {
            "name": "Steel",
            "count": 8
           },
           {
            "name": "12 others",
            "count": 46
           }
          ]
         }
        },
        {
         "name": "Total",
         "dtype": "int64",
         "stats": {
          "unique_count": 55,
          "nan_count": 0,
          "min": "260",
          "max": "600",
          "histogram": [
           {
            "bin_start": 260,
            "bin_end": 294,
            "count": 5
           },
           {
            "bin_start": 294,
            "bin_end": 328,
            "count": 9
           },
           {
            "bin_start": 328,
            "bin_end": 362,
            "count": 10
           },
           {
            "bin_start": 362,
            "bin_end": 396,
            "count": 4
           },
           {
            "bin_start": 396,
            "bin_end": 430,
            "count": 5
           },
           {
            "bin_start": 430,
            "bin_end": 464,
            "count": 0
           },
           {
            "bin_start": 464,
            "bin_end": 498,
            "count": 18
           },
           {
            "bin_start": 498,
            "bin_end": 532,
            "count": 8
           },
           {
            "bin_start": 532,
            "bin_end": 566,
            "count": 3
           },
           {
            "bin_start": 566,
            "bin_end": 600,
            "count": 7
           }
          ]
         }
        },
        {
         "name": "HP",
         "dtype": "int64",
         "stats": {
          "unique_count": 33,
          "nan_count": 0,
          "min": "30",
          "max": "114",
          "histogram": [
           {
            "bin_start": 30,
            "bin_end": 38.4,
            "count": 1
           },
           {
            "bin_start": 38.4,
            "bin_end": 46.8,
            "count": 5
           },
           {
            "bin_start": 46.8,
            "bin_end": 55.2,
            "count": 14
           },
           {
            "bin_start": 55.2,
            "bin_end": 63.6,
            "count": 10
           },
           {
            "bin_start": 63.6,
            "bin_end": 72,
            "count": 10
           },
           {
            "bin_start": 72,
            "bin_end": 80.4,
            "count": 10
           },
           {
            "bin_start": 80.4,
            "bin_end": 88.80000000000001,
            "count": 1
           },
           {
            "bin_start": 88.80000000000001,
            "bin_end": 97.2,
            "count": 6
           },
           {
            "bin_start": 97.2,
            "bin_end": 105.60000000000001,
            "count": 7
           },
           {
            "bin_start": 105.60000000000001,
            "bin_end": 114,
            "count": 5
           }
          ]
         }
        },
        {
         "name": "Attack",
         "dtype": "int64",
         "stats": {
          "unique_count": 44,
          "nan_count": 0,
          "min": "27",
          "max": "140",
          "histogram": [
           {
            "bin_start": 27,
            "bin_end": 38.3,
            "count": 3
           },
           {
            "bin_start": 38.3,
            "bin_end": 49.6,
            "count": 6
           },
           {
            "bin_start": 49.6,
            "bin_end": 60.900000000000006,
            "count": 13
           },
           {
            "bin_start": 60.900000000000006,
            "bin_end": 72.2,
            "count": 10
           },
           {
            "bin_start": 72.2,
            "bin_end": 83.5,
            "count": 9
           },
           {
            "bin_start": 83.5,
            "bin_end": 94.80000000000001,
            "count": 8
           },
           {
            "bin_start": 94.80000000000001,
            "bin_end": 106.10000000000001,
            "count": 6
           },
           {
            "bin_start": 106.10000000000001,
            "bin_end": 117.4,
            "count": 5
           },
           {
            "bin_start": 117.4,
            "bin_end": 128.7,
            "count": 6
           },
           {
            "bin_start": 128.7,
            "bin_end": 140,
            "count": 3
           }
          ]
         }
        },
        {
         "name": "Defense",
         "dtype": "int64",
         "stats": {
          "unique_count": 30,
          "nan_count": 0,
          "min": "35",
          "max": "133",
          "histogram": [
           {
            "bin_start": 35,
            "bin_end": 44.8,
            "count": 2
           },
           {
            "bin_start": 44.8,
            "bin_end": 54.6,
            "count": 11
           },
           {
            "bin_start": 54.6,
            "bin_end": 64.4,
            "count": 13
           },
           {
            "bin_start": 64.4,
            "bin_end": 74.2,
            "count": 10
           },
           {
            "bin_start": 74.2,
            "bin_end": 84,
            "count": 9
           },
           {
            "bin_start": 84,
            "bin_end": 93.80000000000001,
            "count": 11
           },
           {
            "bin_start": 93.80000000000001,
            "bin_end": 103.60000000000001,
            "count": 4
           },
           {
            "bin_start": 103.60000000000001,
            "bin_end": 113.4,
            "count": 4
           },
           {
            "bin_start": 113.4,
            "bin_end": 123.2,
            "count": 1
           },
           {
            "bin_start": 123.2,
            "bin_end": 133,
            "count": 4
           }
          ]
         }
        },
        {
         "name": "SpecialA",
         "dtype": "int64",
         "stats": {
          "unique_count": 37,
          "nan_count": 0,
          "min": "24",
          "max": "145",
          "histogram": [
           {
            "bin_start": 24,
            "bin_end": 36.1,
            "count": 7
           },
           {
            "bin_start": 36.1,
            "bin_end": 48.2,
            "count": 12
           },
           {
            "bin_start": 48.2,
            "bin_end": 60.3,
            "count": 16
           },
           {
            "bin_start": 60.3,
            "bin_end": 72.4,
            "count": 9
           },
           {
            "bin_start": 72.4,
            "bin_end": 84.5,
            "count": 8
           },
           {
            "bin_start": 84.5,
            "bin_end": 96.6,
            "count": 5
           },
           {
            "bin_start": 96.6,
            "bin_end": 108.7,
            "count": 3
           },
           {
            "bin_start": 108.7,
            "bin_end": 120.8,
            "count": 2
           },
           {
            "bin_start": 120.8,
            "bin_end": 132.89999999999998,
            "count": 4
           },
           {
            "bin_start": 132.89999999999998,
            "bin_end": 145,
            "count": 3
           }
          ]
         }
        },
        {
         "name": "SpecialD",
         "dtype": "int64",
         "stats": {
          "unique_count": 29,
          "nan_count": 0,
          "min": "30",
          "max": "128",
          "histogram": [
           {
            "bin_start": 30,
            "bin_end": 39.8,
            "count": 4
           },
           {
            "bin_start": 39.8,
            "bin_end": 49.6,
            "count": 7
           },
           {
            "bin_start": 49.6,
            "bin_end": 59.400000000000006,
            "count": 14
           },
           {
            "bin_start": 59.400000000000006,
            "bin_end": 69.2,
            "count": 11
           },
           {
            "bin_start": 69.2,
            "bin_end": 79,
            "count": 10
           },
           {
            "bin_start": 79,
            "bin_end": 88.80000000000001,
            "count": 8
           },
           {
            "bin_start": 88.80000000000001,
            "bin_end": 98.60000000000001,
            "count": 6
           },
           {
            "bin_start": 98.60000000000001,
            "bin_end": 108.4,
            "count": 5
           },
           {
            "bin_start": 108.4,
            "bin_end": 118.2,
            "count": 2
           },
           {
            "bin_start": 118.2,
            "bin_end": 128,
            "count": 2
           }
          ]
         }
        },
        {
         "name": "Speed",
         "dtype": "int64",
         "stats": {
          "unique_count": 44,
          "nan_count": 0,
          "min": "10",
          "max": "128",
          "histogram": [
           {
            "bin_start": 10,
            "bin_end": 21.8,
            "count": 5
           },
           {
            "bin_start": 21.8,
            "bin_end": 33.6,
            "count": 4
           },
           {
            "bin_start": 33.6,
            "bin_end": 45.400000000000006,
            "count": 7
           },
           {
            "bin_start": 45.400000000000006,
            "bin_end": 57.2,
            "count": 10
           },
           {
            "bin_start": 57.2,
            "bin_end": 69,
            "count": 12
           },
           {
            "bin_start": 69,
            "bin_end": 80.80000000000001,
            "count": 10
           },
           {
            "bin_start": 80.80000000000001,
            "bin_end": 92.60000000000001,
            "count": 4
           },
           {
            "bin_start": 92.60000000000001,
            "bin_end": 104.4,
            "count": 8
           },
           {
            "bin_start": 104.4,
            "bin_end": 116.2,
            "count": 8
           },
           {
            "bin_start": 116.2,
            "bin_end": 128,
            "count": 1
           }
          ]
         }
        },
        {
         "name": "Generation",
         "dtype": "int64",
         "stats": {
          "unique_count": 1,
          "nan_count": 0,
          "min": "5",
          "max": "5",
          "histogram": [
           {
            "bin_start": 4.5,
            "bin_end": 4.6,
            "count": 0
           },
           {
            "bin_start": 4.6,
            "bin_end": 4.7,
            "count": 0
           },
           {
            "bin_start": 4.7,
            "bin_end": 4.8,
            "count": 0
           },
           {
            "bin_start": 4.8,
            "bin_end": 4.9,
            "count": 0
           },
           {
            "bin_start": 4.9,
            "bin_end": 5,
            "count": 0
           },
           {
            "bin_start": 5,
            "bin_end": 5.1,
            "count": 69
           },
           {
            "bin_start": 5.1,
            "bin_end": 5.2,
            "count": 0
           },
           {
            "bin_start": 5.2,
            "bin_end": 5.3,
            "count": 0
           },
           {
            "bin_start": 5.3,
            "bin_end": 5.4,
            "count": 0
           },
           {
            "bin_start": 5.4,
            "bin_end": 5.5,
            "count": 0
           }
          ]
         }
        },
        {
         "name": "_deepnote_index_column",
         "dtype": "int64"
        }
       ],
       "rows": [
        {
         "#": 499,
         "Name": "Pignite",
         "Type 1": "Fire",
         "Type 2": "Fighting",
         "Total": 418,
         "HP": 90,
         "Attack": 93,
         "Defense": 55,
         "SpecialA": 70,
         "SpecialD": 55,
         "Speed": 55,
         "Generation": 5,
         "_deepnote_index_column": 558
        },
        {
         "#": 500,
         "Name": "Emboar",
         "Type 1": "Fire",
         "Type 2": "Fighting",
         "Total": 528,
         "HP": 110,
         "Attack": 123,
         "Defense": 65,
         "SpecialA": 100,
         "SpecialD": 65,
         "Speed": 65,
         "Generation": 5,
         "_deepnote_index_column": 559
        },
        {
         "#": 519,
         "Name": "Pidove",
         "Type 1": "Normal",
         "Type 2": "Flying",
         "Total": 264,
         "HP": 50,
         "Attack": 55,
         "Defense": 50,
         "SpecialA": 36,
         "SpecialD": 30,
         "Speed": 43,
         "Generation": 5,
         "_deepnote_index_column": 578
        },
        {
         "#": 520,
         "Name": "Tranquill",
         "Type 1": "Normal",
         "Type 2": "Flying",
         "Total": 358,
         "HP": 62,
         "Attack": 77,
         "Defense": 62,
         "SpecialA": 50,
         "SpecialD": 42,
         "Speed": 65,
         "Generation": 5,
         "_deepnote_index_column": 579
        },
        {
         "#": 521,
         "Name": "Unfezant",
         "Type 1": "Normal",
         "Type 2": "Flying",
         "Total": 488,
         "HP": 80,
         "Attack": 115,
         "Defense": 80,
         "SpecialA": 65,
         "SpecialD": 55,
         "Speed": 93,
         "Generation": 5,
         "_deepnote_index_column": 580
        },
        {
         "#": 527,
         "Name": "Woobat",
         "Type 1": "Psychic",
         "Type 2": "Flying",
         "Total": 313,
         "HP": 55,
         "Attack": 45,
         "Defense": 43,
         "SpecialA": 55,
         "SpecialD": 43,
         "Speed": 72,
         "Generation": 5,
         "_deepnote_index_column": 586
        },
        {
         "#": 528,
         "Name": "Swoobat",
         "Type 1": "Psychic",
         "Type 2": "Flying",
         "Total": 425,
         "HP": 67,
         "Attack": 57,
         "Defense": 55,
         "SpecialA": 77,
         "SpecialD": 55,
         "Speed": 114,
         "Generation": 5,
         "_deepnote_index_column": 587
        },
        {
         "#": 530,
         "Name": "Excadrill",
         "Type 1": "Ground",
         "Type 2": "Steel",
         "Total": 508,
         "HP": 110,
         "Attack": 135,
         "Defense": 60,
         "SpecialA": 50,
         "SpecialD": 65,
         "Speed": 88,
         "Generation": 5,
         "_deepnote_index_column": 589
        },
        {
         "#": 531,
         "Name": "AudinoMega Audino",
         "Type 1": "Normal",
         "Type 2": "Fairy",
         "Total": 545,
         "HP": 103,
         "Attack": 60,
         "Defense": 126,
         "SpecialA": 80,
         "SpecialD": 126,
         "Speed": 50,
         "Generation": 5,
         "_deepnote_index_column": 591
        },
        {
         "#": 536,
         "Name": "Palpitoad",
         "Type 1": "Water",
         "Type 2": "Ground",
         "Total": 384,
         "HP": 75,
         "Attack": 65,
         "Defense": 55,
         "SpecialA": 65,
         "SpecialD": 55,
         "Speed": 69,
         "Generation": 5,
         "_deepnote_index_column": 596
        }
       ]
      },
      "text/plain": "       #                     Name  Type 1    Type 2  Total   HP  Attack  \\\n558  499                  Pignite    Fire  Fighting    418   90      93   \n559  500                   Emboar    Fire  Fighting    528  110     123   \n578  519                   Pidove  Normal    Flying    264   50      55   \n579  520                Tranquill  Normal    Flying    358   62      77   \n580  521                 Unfezant  Normal    Flying    488   80     115   \n..   ...                      ...     ...       ...    ...  ...     ...   \n713  647     KeldeoOrdinary Forme   Water  Fighting    580   91      72   \n714  647     KeldeoResolute Forme   Water  Fighting    580   91      72   \n715  648       MeloettaAria Forme  Normal   Psychic    600  100      77   \n716  648  MeloettaPirouette Forme  Normal  Fighting    600  100     128   \n717  649                 Genesect     Bug     Steel    600   71     120   \n\n     Defense  SpecialA  SpecialD  Speed  Generation  \n558       55        70        55     55           5  \n559       65       100        65     65           5  \n578       50        36        30     43           5  \n579       62        50        42     65           5  \n580       80        65        55     93           5  \n..       ...       ...       ...    ...         ...  \n713       90       129        90    108           5  \n714       90       129        90    108           5  \n715       77       128       128     90           5  \n716       90        77        77    128           5  \n717       95       120        95     99           5  \n\n[69 rows x 12 columns]",
      "text/html": "<div>\n<style scoped>\n    .dataframe tbody tr th:only-of-type {\n        vertical-align: middle;\n    }\n\n    .dataframe tbody tr th {\n        vertical-align: top;\n    }\n\n    .dataframe thead th {\n        text-align: right;\n    }\n</style>\n<table border=\"1\" class=\"dataframe\">\n  <thead>\n    <tr style=\"text-align: right;\">\n      <th></th>\n      <th>#</th>\n      <th>Name</th>\n      <th>Type 1</th>\n      <th>Type 2</th>\n      <th>Total</th>\n      <th>HP</th>\n      <th>Attack</th>\n      <th>Defense</th>\n      <th>SpecialA</th>\n      <th>SpecialD</th>\n      <th>Speed</th>\n      <th>Generation</th>\n    </tr>\n  </thead>\n  <tbody>\n    <tr>\n      <th>558</th>\n      <td>499</td>\n      <td>Pignite</td>\n      <td>Fire</td>\n      <td>Fighting</td>\n      <td>418</td>\n      <td>90</td>\n      <td>93</td>\n      <td>55</td>\n      <td>70</td>\n      <td>55</td>\n      <td>55</td>\n      <td>5</td>\n    </tr>\n    <tr>\n      <th>559</th>\n      <td>500</td>\n      <td>Emboar</td>\n      <td>Fire</td>\n      <td>Fighting</td>\n      <td>528</td>\n      <td>110</td>\n      <td>123</td>\n      <td>65</td>\n      <td>100</td>\n      <td>65</td>\n      <td>65</td>\n      <td>5</td>\n    </tr>\n    <tr>\n      <th>578</th>\n      <td>519</td>\n      <td>Pidove</td>\n      <td>Normal</td>\n      <td>Flying</td>\n      <td>264</td>\n      <td>50</td>\n      <td>55</td>\n      <td>50</td>\n      <td>36</td>\n      <td>30</td>\n      <td>43</td>\n      <td>5</td>\n    </tr>\n    <tr>\n      <th>579</th>\n      <td>520</td>\n      <td>Tranquill</td>\n      <td>Normal</td>\n      <td>Flying</td>\n      <td>358</td>\n      <td>62</td>\n      <td>77</td>\n      <td>62</td>\n      <td>50</td>\n      <td>42</td>\n      <td>65</td>\n      <td>5</td>\n    </tr>\n    <tr>\n      <th>580</th>\n      <td>521</td>\n      <td>Unfezant</td>\n      <td>Normal</td>\n      <td>Flying</td>\n      <td>488</td>\n      <td>80</td>\n      <td>115</td>\n      <td>80</td>\n      <td>65</td>\n      <td>55</td>\n      <td>93</td>\n      <td>5</td>\n    </tr>\n    <tr>\n      <th>...</th>\n      <td>...</td>\n      <td>...</td>\n      <td>...</td>\n      <td>...</td>\n      <td>...</td>\n      <td>...</td>\n      <td>...</td>\n      <td>...</td>\n      <td>...</td>\n      <td>...</td>\n      <td>...</td>\n      <td>...</td>\n    </tr>\n    <tr>\n      <th>713</th>\n      <td>647</td>\n      <td>KeldeoOrdinary Forme</td>\n      <td>Water</td>\n      <td>Fighting</td>\n      <td>580</td>\n      <td>91</td>\n      <td>72</td>\n      <td>90</td>\n      <td>129</td>\n      <td>90</td>\n      <td>108</td>\n      <td>5</td>\n    </tr>\n    <tr>\n      <th>714</th>\n      <td>647</td>\n      <td>KeldeoResolute Forme</td>\n      <td>Water</td>\n      <td>Fighting</td>\n      <td>580</td>\n      <td>91</td>\n      <td>72</td>\n      <td>90</td>\n      <td>129</td>\n      <td>90</td>\n      <td>108</td>\n      <td>5</td>\n    </tr>\n    <tr>\n      <th>715</th>\n      <td>648</td>\n      <td>MeloettaAria Forme</td>\n      <td>Normal</td>\n      <td>Psychic</td>\n      <td>600</td>\n      <td>100</td>\n      <td>77</td>\n      <td>77</td>\n      <td>128</td>\n      <td>128</td>\n      <td>90</td>\n      <td>5</td>\n    </tr>\n    <tr>\n      <th>716</th>\n      <td>648</td>\n      <td>MeloettaPirouette Forme</td>\n      <td>Normal</td>\n      <td>Fighting</td>\n      <td>600</td>\n      <td>100</td>\n      <td>128</td>\n      <td>90</td>\n      <td>77</td>\n      <td>77</td>\n      <td>128</td>\n      <td>5</td>\n    </tr>\n    <tr>\n      <th>717</th>\n      <td>649</td>\n      <td>Genesect</td>\n      <td>Bug</td>\n      <td>Steel</td>\n      <td>600</td>\n      <td>71</td>\n      <td>120</td>\n      <td>95</td>\n      <td>120</td>\n      <td>95</td>\n      <td>99</td>\n      <td>5</td>\n    </tr>\n  </tbody>\n</table>\n<p>69 rows × 12 columns</p>\n</div>"
     },
     "metadata": {},
     "output_type": "display_data"
    },
    {
     "data": {
      "application/vnd.deepnote.dataframe.v3+json": {
       "column_count": 12,
       "row_count": 43,
       "columns": [
        {
         "name": "#",
         "dtype": "int64",
         "stats": {
          "unique_count": 36,
          "nan_count": 0,
          "min": "652",
          "max": "715",
          "histogram": [
           {
            "bin_start": 652,
            "bin_end": 658.3,
            "count": 3
           },
           {
            "bin_start": 658.3,
            "bin_end": 664.6,
            "count": 4
           },
           {
            "bin_start": 664.6,
            "bin_end": 670.9,
            "count": 3
           },
           {
            "bin_start": 670.9,
            "bin_end": 677.2,
            "count": 1
           },
           {
            "bin_start": 677.2,
            "bin_end": 683.5,
            "count": 4
           },
           {
            "bin_start": 683.5,
            "bin_end": 689.8,
            "count": 4
           },
           {
            "bin_start": 689.8,
            "bin_end": 696.1,
            "count": 5
           },
           {
            "bin_start": 696.1,
            "bin_end": 702.4,
            "count": 5
           },
           {
            "bin_start": 702.4,
            "bin_end": 708.7,
            "count": 3
           },
           {
            "bin_start": 708.7,
            "bin_end": 715,
            "count": 11
           }
          ]
         }
        },
        {
         "name": "Name",
         "dtype": "object",
         "stats": {
          "unique_count": 43,
          "nan_count": 0,
          "categories": [
           {
            "name": "Chesnaught",
            "count": 1
           },
           {
            "name": "Delphox",
            "count": 1
           },
           {
            "name": "41 others",
            "count": 41
           }
          ]
         }
        },
        {
         "name": "Type 1",
         "dtype": "object",
         "stats": {
          "unique_count": 13,
          "nan_count": 0,
          "categories": [
           {
            "name": "Ghost",
            "count": 10
           },
           {
            "name": "Rock",
            "count": 7
           },
           {
            "name": "11 others",
            "count": 26
           }
          ]
         }
        },
        {
         "name": "Type 2",
         "dtype": "object",
         "stats": {
          "unique_count": 12,
          "nan_count": 0,
          "categories": [
           {
            "name": "Grass",
            "count": 10
           },
           {
            "name": "Flying",
            "count": 5
           },
           {
            "name": "10 others",
            "count": 28
           }
          ]
         }
        },
        {
         "name": "Total",
         "dtype": "int64",
         "stats": {
          "unique_count": 30,
          "nan_count": 0,
          "min": "245",
          "max": "535",
          "histogram": [
           {
            "bin_start": 245,
            "bin_end": 274,
            "count": 1
           },
           {
            "bin_start": 274,
            "bin_end": 303,
            "count": 3
           },
           {
            "bin_start": 303,
            "bin_end": 332,
            "count": 4
           },
           {
            "bin_start": 332,
            "bin_end": 361,
            "count": 4
           },
           {
            "bin_start": 361,
            "bin_end": 390,
            "count": 4
           },
           {
            "bin_start": 390,
            "bin_end": 419,
            "count": 1
           },
           {
            "bin_start": 419,
            "bin_end": 448,
            "count": 2
           },
           {
            "bin_start": 448,
            "bin_end": 477,
            "count": 3
           },
           {
            "bin_start": 477,
            "bin_end": 506,
            "count": 12
           },
           {
            "bin_start": 506,
            "bin_end": 535,
            "count": 9
           }
          ]
         }
        },
        {
         "name": "HP",
         "dtype": "int64",
         "stats": {
          "unique_count": 28,
          "nan_count": 0,
          "min": "40",
          "max": "123",
          "histogram": [
           {
            "bin_start": 40,
            "bin_end": 48.3,
            "count": 7
           },
           {
            "bin_start": 48.3,
            "bin_end": 56.6,
            "count": 6
           },
           {
            "bin_start": 56.6,
            "bin_end": 64.9,
            "count": 9
           },
           {
            "bin_start": 64.9,
            "bin_end": 73.2,
            "count": 5
           },
           {
            "bin_start": 73.2,
            "bin_end": 81.5,
            "count": 6
           },
           {
            "bin_start": 81.5,
            "bin_end": 89.80000000000001,
            "count": 8
           },
           {
            "bin_start": 89.80000000000001,
            "bin_end": 98.10000000000001,
            "count": 1
           },
           {
            "bin_start": 98.10000000000001,
            "bin_end": 106.4,
            "count": 0
           },
           {
            "bin_start": 106.4,
            "bin_end": 114.7,
            "count": 0
           },
           {
            "bin_start": 114.7,
            "bin_end": 123,
            "count": 1
           }
          ]
         }
        },
        {
         "name": "Attack",
         "dtype": "int64",
         "stats": {
          "unique_count": 31,
          "nan_count": 0,
          "min": "30",
          "max": "150",
          "histogram": [
           {
            "bin_start": 30,
            "bin_end": 42,
            "count": 2
           },
           {
            "bin_start": 42,
            "bin_end": 54,
            "count": 6
           },
           {
            "bin_start": 54,
            "bin_end": 66,
            "count": 6
           },
           {
            "bin_start": 66,
            "bin_end": 78,
            "count": 11
           },
           {
            "bin_start": 78,
            "bin_end": 90,
            "count": 5
           },
           {
            "bin_start": 90,
            "bin_end": 102,
            "count": 6
           },
           {
            "bin_start": 102,
            "bin_end": 114,
            "count": 4
           },
           {
            "bin_start": 114,
            "bin_end": 126,
            "count": 2
           },
           {
            "bin_start": 126,
            "bin_end": 138,
            "count": 0
           },
           {
            "bin_start": 138,
            "bin_end": 150,
            "count": 1
           }
          ]
         }
        },
        {
         "name": "Defense",
         "dtype": "int64",
         "stats": {
          "unique_count": 28,
          "nan_count": 0,
          "min": "33",
          "max": "150",
          "histogram": [
           {
            "bin_start": 33,
            "bin_end": 44.7,
            "count": 3
           },
           {
            "bin_start": 44.7,
            "bin_end": 56.4,
            "count": 7
           },
           {
            "bin_start": 56.4,
            "bin_end": 68.1,
            "count": 5
           },
           {
            "bin_start": 68.1,
            "bin_end": 79.8,
            "count": 13
           },
           {
            "bin_start": 79.8,
            "bin_end": 91.5,
            "count": 4
           },
           {
            "bin_start": 91.5,
            "bin_end": 103.19999999999999,
            "count": 1
           },
           {
            "bin_start": 103.19999999999999,
            "bin_end": 114.89999999999999,
            "count": 0
           },
           {
            "bin_start": 114.89999999999999,
            "bin_end": 126.6,
            "count": 7
           },
           {
            "bin_start": 126.6,
            "bin_end": 138.3,
            "count": 0
           },
           {
            "bin_start": 138.3,
            "bin_end": 150,
            "count": 3
           }
          ]
         }
        },
        {
         "name": "SpecialA",
         "dtype": "int64",
         "stats": {
          "unique_count": 27,
          "nan_count": 0,
          "min": "35",
          "max": "150",
          "histogram": [
           {
            "bin_start": 35,
            "bin_end": 46.5,
            "count": 11
           },
           {
            "bin_start": 46.5,
            "bin_end": 58,
            "count": 6
           },
           {
            "bin_start": 58,
            "bin_end": 69.5,
            "count": 11
           },
           {
            "bin_start": 69.5,
            "bin_end": 81,
            "count": 5
           },
           {
            "bin_start": 81,
            "bin_end": 92.5,
            "count": 2
           },
           {
            "bin_start": 92.5,
            "bin_end": 104,
            "count": 4
           },
           {
            "bin_start": 104,
            "bin_end": 115.5,
            "count": 3
           },
           {
            "bin_start": 115.5,
            "bin_end": 127,
            "count": 0
           },
           {
            "bin_start": 127,
            "bin_end": 138.5,
            "count": 0
           },
           {
            "bin_start": 138.5,
            "bin_end": 150,
            "count": 1
           }
          ]
         }
        },
        {
         "name": "SpecialD",
         "dtype": "int64",
         "stats": {
          "unique_count": 30,
          "nan_count": 0,
          "min": "37",
          "max": "150",
          "histogram": [
           {
            "bin_start": 37,
            "bin_end": 48.3,
            "count": 6
           },
           {
            "bin_start": 48.3,
            "bin_end": 59.6,
            "count": 11
           },
           {
            "bin_start": 59.6,
            "bin_end": 70.9,
            "count": 7
           },
           {
            "bin_start": 70.9,
            "bin_end": 82.2,
            "count": 11
           },
           {
            "bin_start": 82.2,
            "bin_end": 93.5,
            "count": 3
           },
           {
            "bin_start": 93.5,
            "bin_end": 104.80000000000001,
            "count": 2
           },
           {
            "bin_start": 104.80000000000001,
            "bin_end": 116.10000000000001,
            "count": 0
           },
           {
            "bin_start": 116.10000000000001,
            "bin_end": 127.4,
            "count": 1
           },
           {
            "bin_start": 127.4,
            "bin_end": 138.7,
            "count": 0
           },
           {
            "bin_start": 138.7,
            "bin_end": 150,
            "count": 2
           }
          ]
         }
        },
        {
         "name": "Speed",
         "dtype": "int64",
         "stats": {
          "unique_count": 37,
          "nan_count": 0,
          "min": "28",
          "max": "126",
          "histogram": [
           {
            "bin_start": 28,
            "bin_end": 37.8,
            "count": 3
           },
           {
            "bin_start": 37.8,
            "bin_end": 47.6,
            "count": 6
           },
           {
            "bin_start": 47.6,
            "bin_end": 57.400000000000006,
            "count": 8
           },
           {
            "bin_start": 57.400000000000006,
            "bin_end": 67.2,
            "count": 6
           },
           {
            "bin_start": 67.2,
            "bin_end": 77,
            "count": 7
           },
           {
            "bin_start": 77,
            "bin_end": 86.80000000000001,
            "count": 3
           },
           {
            "bin_start": 86.80000000000001,
            "bin_end": 96.60000000000001,
            "count": 1
           },
           {
            "bin_start": 96.60000000000001,
            "bin_end": 106.4,
            "count": 4
           },
           {
            "bin_start": 106.4,
            "bin_end": 116.2,
            "count": 1
           },
           {
            "bin_start": 116.2,
            "bin_end": 126,
            "count": 4
           }
          ]
         }
        },
        {
         "name": "Generation",
         "dtype": "int64",
         "stats": {
          "unique_count": 1,
          "nan_count": 0,
          "min": "6",
          "max": "6",
          "histogram": [
           {
            "bin_start": 5.5,
            "bin_end": 5.6,
            "count": 0
           },
           {
            "bin_start": 5.6,
            "bin_end": 5.7,
            "count": 0
           },
           {
            "bin_start": 5.7,
            "bin_end": 5.8,
            "count": 0
           },
           {
            "bin_start": 5.8,
            "bin_end": 5.9,
            "count": 0
           },
           {
            "bin_start": 5.9,
            "bin_end": 6,
            "count": 0
           },
           {
            "bin_start": 6,
            "bin_end": 6.1,
            "count": 43
           },
           {
            "bin_start": 6.1,
            "bin_end": 6.2,
            "count": 0
           },
           {
            "bin_start": 6.2,
            "bin_end": 6.3,
            "count": 0
           },
           {
            "bin_start": 6.3,
            "bin_end": 6.4,
            "count": 0
           },
           {
            "bin_start": 6.4,
            "bin_end": 6.5,
            "count": 0
           }
          ]
         }
        },
        {
         "name": "_deepnote_index_column",
         "dtype": "int64"
        }
       ],
       "rows": [
        {
         "#": 652,
         "Name": "Chesnaught",
         "Type 1": "Grass",
         "Type 2": "Fighting",
         "Total": 530,
         "HP": 88,
         "Attack": 107,
         "Defense": 122,
         "SpecialA": 74,
         "SpecialD": 75,
         "Speed": 64,
         "Generation": 6,
         "_deepnote_index_column": 720
        },
        {
         "#": 655,
         "Name": "Delphox",
         "Type 1": "Fire",
         "Type 2": "Psychic",
         "Total": 534,
         "HP": 75,
         "Attack": 69,
         "Defense": 72,
         "SpecialA": 114,
         "SpecialD": 100,
         "Speed": 104,
         "Generation": 6,
         "_deepnote_index_column": 723
        },
        {
         "#": 658,
         "Name": "Greninja",
         "Type 1": "Water",
         "Type 2": "Dark",
         "Total": 530,
         "HP": 72,
         "Attack": 95,
         "Defense": 67,
         "SpecialA": 103,
         "SpecialD": 71,
         "Speed": 122,
         "Generation": 6,
         "_deepnote_index_column": 726
        },
        {
         "#": 660,
         "Name": "Diggersby",
         "Type 1": "Normal",
         "Type 2": "Ground",
         "Total": 423,
         "HP": 85,
         "Attack": 56,
         "Defense": 77,
         "SpecialA": 50,
         "SpecialD": 77,
         "Speed": 78,
         "Generation": 6,
         "_deepnote_index_column": 728
        },
        {
         "#": 661,
         "Name": "Fletchling",
         "Type 1": "Normal",
         "Type 2": "Flying",
         "Total": 278,
         "HP": 45,
         "Attack": 50,
         "Defense": 43,
         "SpecialA": 40,
         "SpecialD": 38,
         "Speed": 62,
         "Generation": 6,
         "_deepnote_index_column": 729
        },
        {
         "#": 662,
         "Name": "Fletchinder",
         "Type 1": "Fire",
         "Type 2": "Flying",
         "Total": 382,
         "HP": 62,
         "Attack": 73,
         "Defense": 55,
         "SpecialA": 56,
         "SpecialD": 52,
         "Speed": 84,
         "Generation": 6,
         "_deepnote_index_column": 730
        },
        {
         "#": 663,
         "Name": "Talonflame",
         "Type 1": "Fire",
         "Type 2": "Flying",
         "Total": 499,
         "HP": 78,
         "Attack": 81,
         "Defense": 71,
         "SpecialA": 74,
         "SpecialD": 69,
         "Speed": 126,
         "Generation": 6,
         "_deepnote_index_column": 731
        },
        {
         "#": 666,
         "Name": "Vivillon",
         "Type 1": "Bug",
         "Type 2": "Flying",
         "Total": 411,
         "HP": 80,
         "Attack": 52,
         "Defense": 50,
         "SpecialA": 90,
         "SpecialD": 50,
         "Speed": 89,
         "Generation": 6,
         "_deepnote_index_column": 734
        },
        {
         "#": 667,
         "Name": "Litleo",
         "Type 1": "Fire",
         "Type 2": "Normal",
         "Total": 369,
         "HP": 62,
         "Attack": 50,
         "Defense": 58,
         "SpecialA": 73,
         "SpecialD": 54,
         "Speed": 72,
         "Generation": 6,
         "_deepnote_index_column": 735
        },
        {
         "#": 668,
         "Name": "Pyroar",
         "Type 1": "Fire",
         "Type 2": "Normal",
         "Total": 507,
         "HP": 86,
         "Attack": 68,
         "Defense": 72,
         "SpecialA": 109,
         "SpecialD": 66,
         "Speed": 106,
         "Generation": 6,
         "_deepnote_index_column": 736
        }
       ]
      },
      "text/plain": "       #                   Name    Type 1    Type 2  Total   HP  Attack  \\\n720  652             Chesnaught     Grass  Fighting    530   88     107   \n723  655                Delphox      Fire   Psychic    534   75      69   \n726  658               Greninja     Water      Dark    530   72      95   \n728  660              Diggersby    Normal    Ground    423   85      56   \n729  661             Fletchling    Normal    Flying    278   45      50   \n730  662            Fletchinder      Fire    Flying    382   62      73   \n731  663             Talonflame      Fire    Flying    499   78      81   \n734  666               Vivillon       Bug    Flying    411   80      52   \n735  667                 Litleo      Fire    Normal    369   62      50   \n736  668                 Pyroar      Fire    Normal    507   86      68   \n743  675                Pangoro  Fighting      Dark    495   95     124   \n748  679                Honedge     Steel     Ghost    325   45      80   \n749  680               Doublade     Steel     Ghost    448   59     110   \n750  681   AegislashBlade Forme     Steel     Ghost    520   60     150   \n751  681  AegislashShield Forme     Steel     Ghost    520   60      50   \n756  686                  Inkay      Dark   Psychic    288   53      54   \n757  687                Malamar      Dark   Psychic    482   86      92   \n758  688                Binacle      Rock     Water    306   42      52   \n759  689             Barbaracle      Rock     Water    500   72     105   \n760  690                 Skrelp    Poison     Water    320   50      60   \n761  691               Dragalge    Poison    Dragon    494   65      75   \n764  694             Helioptile  Electric    Normal    289   44      38   \n765  695              Heliolisk  Electric    Normal    481   62      55   \n766  696                 Tyrunt      Rock    Dragon    362   58      89   \n767  697              Tyrantrum      Rock    Dragon    521   82     121   \n768  698                 Amaura      Rock       Ice    362   77      59   \n769  699                Aurorus      Rock       Ice    521  123      77   \n771  701               Hawlucha  Fighting    Flying    500   78      92   \n772  702                Dedenne  Electric     Fairy    431   67      58   \n773  703                Carbink      Rock     Fairy    500   50      50   \n777  707                 Klefki     Steel     Fairy    470   57      80   \n778  708               Phantump     Ghost     Grass    309   43      70   \n779  709              Trevenant     Ghost     Grass    474   85     110   \n780  710  PumpkabooAverage Size     Ghost     Grass    335   49      66   \n781  710    PumpkabooSmall Size     Ghost     Grass    335   44      66   \n782  710    PumpkabooLarge Size     Ghost     Grass    335   54      66   \n783  710    PumpkabooSuper Size     Ghost     Grass    335   59      66   \n784  711  GourgeistAverage Size     Ghost     Grass    494   65      90   \n785  711    GourgeistSmall Size     Ghost     Grass    494   55      85   \n786  711    GourgeistLarge Size     Ghost     Grass    494   75      95   \n787  711    GourgeistSuper Size     Ghost     Grass    494   85     100   \n790  714                 Noibat    Flying    Dragon    245   40      30   \n791  715                Noivern    Flying    Dragon    535   85      70   \n\n     Defense  SpecialA  SpecialD  Speed  Generation  \n720      122        74        75     64           6  \n723       72       114       100    104           6  \n726       67       103        71    122           6  \n728       77        50        77     78           6  \n729       43        40        38     62           6  \n730       55        56        52     84           6  \n731       71        74        69    126           6  \n734       50        90        50     89           6  \n735       58        73        54     72           6  \n736       72       109        66    106           6  \n743       78        69        71     58           6  \n748      100        35        37     28           6  \n749      150        45        49     35           6  \n750       50       150        50     60           6  \n751      150        50       150     60           6  \n756       53        37        46     45           6  \n757       88        68        75     73           6  \n758       67        39        56     50           6  \n759      115        54        86     68           6  \n760       60        60        60     30           6  \n761       90        97       123     44           6  \n764       33        61        43     70           6  \n765       52       109        94    109           6  \n766       77        45        45     48           6  \n767      119        69        59     71           6  \n768       50        67        63     46           6  \n769       72        99        92     58           6  \n771       75        74        63    118           6  \n772       57        81        67    101           6  \n773      150        50       150     50           6  \n777       91        80        87     75           6  \n778       48        50        60     38           6  \n779       76        65        82     56           6  \n780       70        44        55     51           6  \n781       70        44        55     56           6  \n782       70        44        55     46           6  \n783       70        44        55     41           6  \n784      122        58        75     84           6  \n785      122        58        75     99           6  \n786      122        58        75     69           6  \n787      122        58        75     54           6  \n790       35        45        40     55           6  \n791       80        97        80    123           6  ",
      "text/html": "<div>\n<style scoped>\n    .dataframe tbody tr th:only-of-type {\n        vertical-align: middle;\n    }\n\n    .dataframe tbody tr th {\n        vertical-align: top;\n    }\n\n    .dataframe thead th {\n        text-align: right;\n    }\n</style>\n<table border=\"1\" class=\"dataframe\">\n  <thead>\n    <tr style=\"text-align: right;\">\n      <th></th>\n      <th>#</th>\n      <th>Name</th>\n      <th>Type 1</th>\n      <th>Type 2</th>\n      <th>Total</th>\n      <th>HP</th>\n      <th>Attack</th>\n      <th>Defense</th>\n      <th>SpecialA</th>\n      <th>SpecialD</th>\n      <th>Speed</th>\n      <th>Generation</th>\n    </tr>\n  </thead>\n  <tbody>\n    <tr>\n      <th>720</th>\n      <td>652</td>\n      <td>Chesnaught</td>\n      <td>Grass</td>\n      <td>Fighting</td>\n      <td>530</td>\n      <td>88</td>\n      <td>107</td>\n      <td>122</td>\n      <td>74</td>\n      <td>75</td>\n      <td>64</td>\n      <td>6</td>\n    </tr>\n    <tr>\n      <th>723</th>\n      <td>655</td>\n      <td>Delphox</td>\n      <td>Fire</td>\n      <td>Psychic</td>\n      <td>534</td>\n      <td>75</td>\n      <td>69</td>\n      <td>72</td>\n      <td>114</td>\n      <td>100</td>\n      <td>104</td>\n      <td>6</td>\n    </tr>\n    <tr>\n      <th>726</th>\n      <td>658</td>\n      <td>Greninja</td>\n      <td>Water</td>\n      <td>Dark</td>\n      <td>530</td>\n      <td>72</td>\n      <td>95</td>\n      <td>67</td>\n      <td>103</td>\n      <td>71</td>\n      <td>122</td>\n      <td>6</td>\n    </tr>\n    <tr>\n      <th>728</th>\n      <td>660</td>\n      <td>Diggersby</td>\n      <td>Normal</td>\n      <td>Ground</td>\n      <td>423</td>\n      <td>85</td>\n      <td>56</td>\n      <td>77</td>\n      <td>50</td>\n      <td>77</td>\n      <td>78</td>\n      <td>6</td>\n    </tr>\n    <tr>\n      <th>729</th>\n      <td>661</td>\n      <td>Fletchling</td>\n      <td>Normal</td>\n      <td>Flying</td>\n      <td>278</td>\n      <td>45</td>\n      <td>50</td>\n      <td>43</td>\n      <td>40</td>\n      <td>38</td>\n      <td>62</td>\n      <td>6</td>\n    </tr>\n    <tr>\n      <th>730</th>\n      <td>662</td>\n      <td>Fletchinder</td>\n      <td>Fire</td>\n      <td>Flying</td>\n      <td>382</td>\n      <td>62</td>\n      <td>73</td>\n      <td>55</td>\n      <td>56</td>\n      <td>52</td>\n      <td>84</td>\n      <td>6</td>\n    </tr>\n    <tr>\n      <th>731</th>\n      <td>663</td>\n      <td>Talonflame</td>\n      <td>Fire</td>\n      <td>Flying</td>\n      <td>499</td>\n      <td>78</td>\n      <td>81</td>\n      <td>71</td>\n      <td>74</td>\n      <td>69</td>\n      <td>126</td>\n      <td>6</td>\n    </tr>\n    <tr>\n      <th>734</th>\n      <td>666</td>\n      <td>Vivillon</td>\n      <td>Bug</td>\n      <td>Flying</td>\n      <td>411</td>\n      <td>80</td>\n      <td>52</td>\n      <td>50</td>\n      <td>90</td>\n      <td>50</td>\n      <td>89</td>\n      <td>6</td>\n    </tr>\n    <tr>\n      <th>735</th>\n      <td>667</td>\n      <td>Litleo</td>\n      <td>Fire</td>\n      <td>Normal</td>\n      <td>369</td>\n      <td>62</td>\n      <td>50</td>\n      <td>58</td>\n      <td>73</td>\n      <td>54</td>\n      <td>72</td>\n      <td>6</td>\n    </tr>\n    <tr>\n      <th>736</th>\n      <td>668</td>\n      <td>Pyroar</td>\n      <td>Fire</td>\n      <td>Normal</td>\n      <td>507</td>\n      <td>86</td>\n      <td>68</td>\n      <td>72</td>\n      <td>109</td>\n      <td>66</td>\n      <td>106</td>\n      <td>6</td>\n    </tr>\n    <tr>\n      <th>743</th>\n      <td>675</td>\n      <td>Pangoro</td>\n      <td>Fighting</td>\n      <td>Dark</td>\n      <td>495</td>\n      <td>95</td>\n      <td>124</td>\n      <td>78</td>\n      <td>69</td>\n      <td>71</td>\n      <td>58</td>\n      <td>6</td>\n    </tr>\n    <tr>\n      <th>748</th>\n      <td>679</td>\n      <td>Honedge</td>\n      <td>Steel</td>\n      <td>Ghost</td>\n      <td>325</td>\n      <td>45</td>\n      <td>80</td>\n      <td>100</td>\n      <td>35</td>\n      <td>37</td>\n      <td>28</td>\n      <td>6</td>\n    </tr>\n    <tr>\n      <th>749</th>\n      <td>680</td>\n      <td>Doublade</td>\n      <td>Steel</td>\n      <td>Ghost</td>\n      <td>448</td>\n      <td>59</td>\n      <td>110</td>\n      <td>150</td>\n      <td>45</td>\n      <td>49</td>\n      <td>35</td>\n      <td>6</td>\n    </tr>\n    <tr>\n      <th>750</th>\n      <td>681</td>\n      <td>AegislashBlade Forme</td>\n      <td>Steel</td>\n      <td>Ghost</td>\n      <td>520</td>\n      <td>60</td>\n      <td>150</td>\n      <td>50</td>\n      <td>150</td>\n      <td>50</td>\n      <td>60</td>\n      <td>6</td>\n    </tr>\n    <tr>\n      <th>751</th>\n      <td>681</td>\n      <td>AegislashShield Forme</td>\n      <td>Steel</td>\n      <td>Ghost</td>\n      <td>520</td>\n      <td>60</td>\n      <td>50</td>\n      <td>150</td>\n      <td>50</td>\n      <td>150</td>\n      <td>60</td>\n      <td>6</td>\n    </tr>\n    <tr>\n      <th>756</th>\n      <td>686</td>\n      <td>Inkay</td>\n      <td>Dark</td>\n      <td>Psychic</td>\n      <td>288</td>\n      <td>53</td>\n      <td>54</td>\n      <td>53</td>\n      <td>37</td>\n      <td>46</td>\n      <td>45</td>\n      <td>6</td>\n    </tr>\n    <tr>\n      <th>757</th>\n      <td>687</td>\n      <td>Malamar</td>\n      <td>Dark</td>\n      <td>Psychic</td>\n      <td>482</td>\n      <td>86</td>\n      <td>92</td>\n      <td>88</td>\n      <td>68</td>\n      <td>75</td>\n      <td>73</td>\n      <td>6</td>\n    </tr>\n    <tr>\n      <th>758</th>\n      <td>688</td>\n      <td>Binacle</td>\n      <td>Rock</td>\n      <td>Water</td>\n      <td>306</td>\n      <td>42</td>\n      <td>52</td>\n      <td>67</td>\n      <td>39</td>\n      <td>56</td>\n      <td>50</td>\n      <td>6</td>\n    </tr>\n    <tr>\n      <th>759</th>\n      <td>689</td>\n      <td>Barbaracle</td>\n      <td>Rock</td>\n      <td>Water</td>\n      <td>500</td>\n      <td>72</td>\n      <td>105</td>\n      <td>115</td>\n      <td>54</td>\n      <td>86</td>\n      <td>68</td>\n      <td>6</td>\n    </tr>\n    <tr>\n      <th>760</th>\n      <td>690</td>\n      <td>Skrelp</td>\n      <td>Poison</td>\n      <td>Water</td>\n      <td>320</td>\n      <td>50</td>\n      <td>60</td>\n      <td>60</td>\n      <td>60</td>\n      <td>60</td>\n      <td>30</td>\n      <td>6</td>\n    </tr>\n    <tr>\n      <th>761</th>\n      <td>691</td>\n      <td>Dragalge</td>\n      <td>Poison</td>\n      <td>Dragon</td>\n      <td>494</td>\n      <td>65</td>\n      <td>75</td>\n      <td>90</td>\n      <td>97</td>\n      <td>123</td>\n      <td>44</td>\n      <td>6</td>\n    </tr>\n    <tr>\n      <th>764</th>\n      <td>694</td>\n      <td>Helioptile</td>\n      <td>Electric</td>\n      <td>Normal</td>\n      <td>289</td>\n      <td>44</td>\n      <td>38</td>\n      <td>33</td>\n      <td>61</td>\n      <td>43</td>\n      <td>70</td>\n      <td>6</td>\n    </tr>\n    <tr>\n      <th>765</th>\n      <td>695</td>\n      <td>Heliolisk</td>\n      <td>Electric</td>\n      <td>Normal</td>\n      <td>481</td>\n      <td>62</td>\n      <td>55</td>\n      <td>52</td>\n      <td>109</td>\n      <td>94</td>\n      <td>109</td>\n      <td>6</td>\n    </tr>\n    <tr>\n      <th>766</th>\n      <td>696</td>\n      <td>Tyrunt</td>\n      <td>Rock</td>\n      <td>Dragon</td>\n      <td>362</td>\n      <td>58</td>\n      <td>89</td>\n      <td>77</td>\n      <td>45</td>\n      <td>45</td>\n      <td>48</td>\n      <td>6</td>\n    </tr>\n    <tr>\n      <th>767</th>\n      <td>697</td>\n      <td>Tyrantrum</td>\n      <td>Rock</td>\n      <td>Dragon</td>\n      <td>521</td>\n      <td>82</td>\n      <td>121</td>\n      <td>119</td>\n      <td>69</td>\n      <td>59</td>\n      <td>71</td>\n      <td>6</td>\n    </tr>\n    <tr>\n      <th>768</th>\n      <td>698</td>\n      <td>Amaura</td>\n      <td>Rock</td>\n      <td>Ice</td>\n      <td>362</td>\n      <td>77</td>\n      <td>59</td>\n      <td>50</td>\n      <td>67</td>\n      <td>63</td>\n      <td>46</td>\n      <td>6</td>\n    </tr>\n    <tr>\n      <th>769</th>\n      <td>699</td>\n      <td>Aurorus</td>\n      <td>Rock</td>\n      <td>Ice</td>\n      <td>521</td>\n      <td>123</td>\n      <td>77</td>\n      <td>72</td>\n      <td>99</td>\n      <td>92</td>\n      <td>58</td>\n      <td>6</td>\n    </tr>\n    <tr>\n      <th>771</th>\n      <td>701</td>\n      <td>Hawlucha</td>\n      <td>Fighting</td>\n      <td>Flying</td>\n      <td>500</td>\n      <td>78</td>\n      <td>92</td>\n      <td>75</td>\n      <td>74</td>\n      <td>63</td>\n      <td>118</td>\n      <td>6</td>\n    </tr>\n    <tr>\n      <th>772</th>\n      <td>702</td>\n      <td>Dedenne</td>\n      <td>Electric</td>\n      <td>Fairy</td>\n      <td>431</td>\n      <td>67</td>\n      <td>58</td>\n      <td>57</td>\n      <td>81</td>\n      <td>67</td>\n      <td>101</td>\n      <td>6</td>\n    </tr>\n    <tr>\n      <th>773</th>\n      <td>703</td>\n      <td>Carbink</td>\n      <td>Rock</td>\n      <td>Fairy</td>\n      <td>500</td>\n      <td>50</td>\n      <td>50</td>\n      <td>150</td>\n      <td>50</td>\n      <td>150</td>\n      <td>50</td>\n      <td>6</td>\n    </tr>\n    <tr>\n      <th>777</th>\n      <td>707</td>\n      <td>Klefki</td>\n      <td>Steel</td>\n      <td>Fairy</td>\n      <td>470</td>\n      <td>57</td>\n      <td>80</td>\n      <td>91</td>\n      <td>80</td>\n      <td>87</td>\n      <td>75</td>\n      <td>6</td>\n    </tr>\n    <tr>\n      <th>778</th>\n      <td>708</td>\n      <td>Phantump</td>\n      <td>Ghost</td>\n      <td>Grass</td>\n      <td>309</td>\n      <td>43</td>\n      <td>70</td>\n      <td>48</td>\n      <td>50</td>\n      <td>60</td>\n      <td>38</td>\n      <td>6</td>\n    </tr>\n    <tr>\n      <th>779</th>\n      <td>709</td>\n      <td>Trevenant</td>\n      <td>Ghost</td>\n      <td>Grass</td>\n      <td>474</td>\n      <td>85</td>\n      <td>110</td>\n      <td>76</td>\n      <td>65</td>\n      <td>82</td>\n      <td>56</td>\n      <td>6</td>\n    </tr>\n    <tr>\n      <th>780</th>\n      <td>710</td>\n      <td>PumpkabooAverage Size</td>\n      <td>Ghost</td>\n      <td>Grass</td>\n      <td>335</td>\n      <td>49</td>\n      <td>66</td>\n      <td>70</td>\n      <td>44</td>\n      <td>55</td>\n      <td>51</td>\n      <td>6</td>\n    </tr>\n    <tr>\n      <th>781</th>\n      <td>710</td>\n      <td>PumpkabooSmall Size</td>\n      <td>Ghost</td>\n      <td>Grass</td>\n      <td>335</td>\n      <td>44</td>\n      <td>66</td>\n      <td>70</td>\n      <td>44</td>\n      <td>55</td>\n      <td>56</td>\n      <td>6</td>\n    </tr>\n    <tr>\n      <th>782</th>\n      <td>710</td>\n      <td>PumpkabooLarge Size</td>\n      <td>Ghost</td>\n      <td>Grass</td>\n      <td>335</td>\n      <td>54</td>\n      <td>66</td>\n      <td>70</td>\n      <td>44</td>\n      <td>55</td>\n      <td>46</td>\n      <td>6</td>\n    </tr>\n    <tr>\n      <th>783</th>\n      <td>710</td>\n      <td>PumpkabooSuper Size</td>\n      <td>Ghost</td>\n      <td>Grass</td>\n      <td>335</td>\n      <td>59</td>\n      <td>66</td>\n      <td>70</td>\n      <td>44</td>\n      <td>55</td>\n      <td>41</td>\n      <td>6</td>\n    </tr>\n    <tr>\n      <th>784</th>\n      <td>711</td>\n      <td>GourgeistAverage Size</td>\n      <td>Ghost</td>\n      <td>Grass</td>\n      <td>494</td>\n      <td>65</td>\n      <td>90</td>\n      <td>122</td>\n      <td>58</td>\n      <td>75</td>\n      <td>84</td>\n      <td>6</td>\n    </tr>\n    <tr>\n      <th>785</th>\n      <td>711</td>\n      <td>GourgeistSmall Size</td>\n      <td>Ghost</td>\n      <td>Grass</td>\n      <td>494</td>\n      <td>55</td>\n      <td>85</td>\n      <td>122</td>\n      <td>58</td>\n      <td>75</td>\n      <td>99</td>\n      <td>6</td>\n    </tr>\n    <tr>\n      <th>786</th>\n      <td>711</td>\n      <td>GourgeistLarge Size</td>\n      <td>Ghost</td>\n      <td>Grass</td>\n      <td>494</td>\n      <td>75</td>\n      <td>95</td>\n      <td>122</td>\n      <td>58</td>\n      <td>75</td>\n      <td>69</td>\n      <td>6</td>\n    </tr>\n    <tr>\n      <th>787</th>\n      <td>711</td>\n      <td>GourgeistSuper Size</td>\n      <td>Ghost</td>\n      <td>Grass</td>\n      <td>494</td>\n      <td>85</td>\n      <td>100</td>\n      <td>122</td>\n      <td>58</td>\n      <td>75</td>\n      <td>54</td>\n      <td>6</td>\n    </tr>\n    <tr>\n      <th>790</th>\n      <td>714</td>\n      <td>Noibat</td>\n      <td>Flying</td>\n      <td>Dragon</td>\n      <td>245</td>\n      <td>40</td>\n      <td>30</td>\n      <td>35</td>\n      <td>45</td>\n      <td>40</td>\n      <td>55</td>\n      <td>6</td>\n    </tr>\n    <tr>\n      <th>791</th>\n      <td>715</td>\n      <td>Noivern</td>\n      <td>Flying</td>\n      <td>Dragon</td>\n      <td>535</td>\n      <td>85</td>\n      <td>70</td>\n      <td>80</td>\n      <td>97</td>\n      <td>80</td>\n      <td>123</td>\n      <td>6</td>\n    </tr>\n  </tbody>\n</table>\n</div>"
     },
     "metadata": {},
     "output_type": "display_data"
    },
    {
     "output_type": "execute_result",
     "execution_count": 9,
     "data": {
      "application/vnd.deepnote.dataframe.v3+json": {
       "column_count": 0,
       "row_count": 0,
       "columns": [
        {
         "name": "_deepnote_index_column",
         "dtype": "object"
        }
       ],
       "rows": []
      },
      "text/plain": "Empty DataFrame\nColumns: []\nIndex: []",
      "text/html": "<div>\n<style scoped>\n    .dataframe tbody tr th:only-of-type {\n        vertical-align: middle;\n    }\n\n    .dataframe tbody tr th {\n        vertical-align: top;\n    }\n\n    .dataframe thead th {\n        text-align: right;\n    }\n</style>\n<table border=\"1\" class=\"dataframe\">\n  <thead>\n    <tr style=\"text-align: right;\">\n      <th></th>\n    </tr>\n  </thead>\n  <tbody>\n  </tbody>\n</table>\n</div>"
     },
     "metadata": {}
    }
   ]
  },
  {
   "cell_type": "markdown",
   "metadata": {
    "tags": [],
    "cell_id": "4aea06b126974963b4421ffd8fc9da4e",
    "deepnote_cell_type": "markdown"
   },
   "source": [
    "Divide the original dataset into 6 based on generations."
   ],
   "block_group": "4aea06b126974963b4421ffd8fc9da4e"
  },
  {
   "cell_type": "code",
   "metadata": {
    "tags": [],
    "cell_id": "f6e30fee4d234c20a1d138d2f19fb421",
    "source_hash": null,
    "execution_start": 1702174243154,
    "execution_millis": 15,
    "deepnote_to_be_reexecuted": false,
    "deepnote_cell_type": "code"
   },
   "source": [
    "grouped = df.groupby(\"Generation\")\n",
    "list=[]\n",
    "\n",
    "for gen, group in grouped:\n",
    "    list.append(group)"
   ],
   "block_group": "f6e30fee4d234c20a1d138d2f19fb421",
   "execution_count": null,
   "outputs": []
  },
  {
   "cell_type": "markdown",
   "metadata": {
    "tags": [],
    "cell_id": "02904832e0164f06ad564e1a70210b6e",
    "deepnote_cell_type": "markdown"
   },
   "source": [
    "## Data Visualization"
   ],
   "block_group": "02904832e0164f06ad564e1a70210b6e"
  },
  {
   "cell_type": "markdown",
   "metadata": {
    "tags": [],
    "cell_id": "d3c5ff54492f42acb37602b60a9ca919",
    "deepnote_cell_type": "markdown"
   },
   "source": [
    "First visualizing the number of pokemons in each generation and find that the first generation has the most and the sixth generation has the least."
   ],
   "block_group": "d3c5ff54492f42acb37602b60a9ca919"
  },
  {
   "cell_type": "code",
   "metadata": {
    "tags": [],
    "cell_id": "de95f45ff2e54b5f93c866a7f52281ef",
    "source_hash": null,
    "execution_start": 1702174243163,
    "execution_millis": 27,
    "deepnote_to_be_reexecuted": false,
    "deepnote_cell_type": "code"
   },
   "source": [
    "alt.Chart(df).mark_bar(size=15).encode(\n",
    "    x=alt.X(\"Generation\"),\n",
    "    y=\"count()\",\n",
    "    color=\"Generation:N\"\n",
    ")"
   ],
   "block_group": "de95f45ff2e54b5f93c866a7f52281ef",
   "execution_count": null,
   "outputs": [
    {
     "output_type": "execute_result",
     "execution_count": 11,
     "data": {
      "text/html": "\n<div id=\"altair-viz-ac5845295f3b4c62a59c14950893ba1a\"></div>\n<script type=\"text/javascript\">\n  var VEGA_DEBUG = (typeof VEGA_DEBUG == \"undefined\") ? {} : VEGA_DEBUG;\n  (function(spec, embedOpt){\n    let outputDiv = document.currentScript.previousElementSibling;\n    if (outputDiv.id !== \"altair-viz-ac5845295f3b4c62a59c14950893ba1a\") {\n      outputDiv = document.getElementById(\"altair-viz-ac5845295f3b4c62a59c14950893ba1a\");\n    }\n    const paths = {\n      \"vega\": \"https://cdn.jsdelivr.net/npm//vega@5?noext\",\n      \"vega-lib\": \"https://cdn.jsdelivr.net/npm//vega-lib?noext\",\n      \"vega-lite\": \"https://cdn.jsdelivr.net/npm//vega-lite@4.17.0?noext\",\n      \"vega-embed\": \"https://cdn.jsdelivr.net/npm//vega-embed@6?noext\",\n    };\n\n    function maybeLoadScript(lib, version) {\n      var key = `${lib.replace(\"-\", \"\")}_version`;\n      return (VEGA_DEBUG[key] == version) ?\n        Promise.resolve(paths[lib]) :\n        new Promise(function(resolve, reject) {\n          var s = document.createElement('script');\n          document.getElementsByTagName(\"head\")[0].appendChild(s);\n          s.async = true;\n          s.onload = () => {\n            VEGA_DEBUG[key] = version;\n            return resolve(paths[lib]);\n          };\n          s.onerror = () => reject(`Error loading script: ${paths[lib]}`);\n          s.src = paths[lib];\n        });\n    }\n\n    function showError(err) {\n      outputDiv.innerHTML = `<div class=\"error\" style=\"color:red;\">${err}</div>`;\n      throw err;\n    }\n\n    function displayChart(vegaEmbed) {\n      vegaEmbed(outputDiv, spec, embedOpt)\n        .catch(err => showError(`Javascript Error: ${err.message}<br>This usually means there's a typo in your chart specification. See the javascript console for the full traceback.`));\n    }\n\n    if(typeof define === \"function\" && define.amd) {\n      requirejs.config({paths});\n      require([\"vega-embed\"], displayChart, err => showError(`Error loading script: ${err.message}`));\n    } else {\n      maybeLoadScript(\"vega\", \"5\")\n        .then(() => maybeLoadScript(\"vega-lite\", \"4.17.0\"))\n        .then(() => maybeLoadScript(\"vega-embed\", \"6\"))\n        .catch(showError)\n        .then(() => displayChart(vegaEmbed));\n    }\n  })({\"config\": {\"view\": {\"continuousWidth\": 400, \"continuousHeight\": 300}}, \"data\": {\"name\": \"data-8f8f5a820e13a98ac2edffa1fa08f1db\"}, \"mark\": {\"type\": \"bar\", \"size\": 15}, \"encoding\": {\"color\": {\"field\": \"Generation\", \"type\": \"nominal\"}, \"x\": {\"field\": \"Generation\", \"type\": \"quantitative\"}, \"y\": {\"aggregate\": \"count\", \"type\": \"quantitative\"}}, \"$schema\": \"https://vega.github.io/schema/vega-lite/v4.17.0.json\", \"datasets\": {\"data-8f8f5a820e13a98ac2edffa1fa08f1db\": [{\"#\": 1, \"Name\": \"Bulbasaur\", \"Type 1\": \"Grass\", \"Type 2\": \"Poison\", \"Total\": 318, \"HP\": 45, \"Attack\": 49, \"Defense\": 49, \"SpecialA\": 65, \"SpecialD\": 65, \"Speed\": 45, \"Generation\": 1}, {\"#\": 2, \"Name\": \"Ivysaur\", \"Type 1\": \"Grass\", \"Type 2\": \"Poison\", \"Total\": 405, \"HP\": 60, \"Attack\": 62, \"Defense\": 63, \"SpecialA\": 80, \"SpecialD\": 80, \"Speed\": 60, \"Generation\": 1}, {\"#\": 3, \"Name\": \"Venusaur\", \"Type 1\": \"Grass\", \"Type 2\": \"Poison\", \"Total\": 525, \"HP\": 80, \"Attack\": 82, \"Defense\": 83, \"SpecialA\": 100, \"SpecialD\": 100, \"Speed\": 80, \"Generation\": 1}, {\"#\": 3, \"Name\": \"VenusaurMega Venusaur\", \"Type 1\": \"Grass\", \"Type 2\": \"Poison\", \"Total\": 625, \"HP\": 80, \"Attack\": 100, \"Defense\": 123, \"SpecialA\": 122, \"SpecialD\": 120, \"Speed\": 80, \"Generation\": 1}, {\"#\": 6, \"Name\": \"Charizard\", \"Type 1\": \"Fire\", \"Type 2\": \"Flying\", \"Total\": 534, \"HP\": 78, \"Attack\": 84, \"Defense\": 78, \"SpecialA\": 109, \"SpecialD\": 85, \"Speed\": 100, \"Generation\": 1}, {\"#\": 6, \"Name\": \"CharizardMega Charizard X\", \"Type 1\": \"Fire\", \"Type 2\": \"Dragon\", \"Total\": 634, \"HP\": 78, \"Attack\": 130, \"Defense\": 111, \"SpecialA\": 130, \"SpecialD\": 85, \"Speed\": 100, \"Generation\": 1}, {\"#\": 6, \"Name\": \"CharizardMega Charizard Y\", \"Type 1\": \"Fire\", \"Type 2\": \"Flying\", \"Total\": 634, \"HP\": 78, \"Attack\": 104, \"Defense\": 78, \"SpecialA\": 159, \"SpecialD\": 115, \"Speed\": 100, \"Generation\": 1}, {\"#\": 12, \"Name\": \"Butterfree\", \"Type 1\": \"Bug\", \"Type 2\": \"Flying\", \"Total\": 395, \"HP\": 60, \"Attack\": 45, \"Defense\": 50, \"SpecialA\": 90, \"SpecialD\": 80, \"Speed\": 70, \"Generation\": 1}, {\"#\": 13, \"Name\": \"Weedle\", \"Type 1\": \"Bug\", \"Type 2\": \"Poison\", \"Total\": 195, \"HP\": 40, \"Attack\": 35, \"Defense\": 30, \"SpecialA\": 20, \"SpecialD\": 20, \"Speed\": 50, \"Generation\": 1}, {\"#\": 14, \"Name\": \"Kakuna\", \"Type 1\": \"Bug\", \"Type 2\": \"Poison\", \"Total\": 205, \"HP\": 45, \"Attack\": 25, \"Defense\": 50, \"SpecialA\": 25, \"SpecialD\": 25, \"Speed\": 35, \"Generation\": 1}, {\"#\": 15, \"Name\": \"Beedrill\", \"Type 1\": \"Bug\", \"Type 2\": \"Poison\", \"Total\": 395, \"HP\": 65, \"Attack\": 90, \"Defense\": 40, \"SpecialA\": 45, \"SpecialD\": 80, \"Speed\": 75, \"Generation\": 1}, {\"#\": 15, \"Name\": \"BeedrillMega Beedrill\", \"Type 1\": \"Bug\", \"Type 2\": \"Poison\", \"Total\": 495, \"HP\": 65, \"Attack\": 150, \"Defense\": 40, \"SpecialA\": 15, \"SpecialD\": 80, \"Speed\": 145, \"Generation\": 1}, {\"#\": 16, \"Name\": \"Pidgey\", \"Type 1\": \"Normal\", \"Type 2\": \"Flying\", \"Total\": 251, \"HP\": 40, \"Attack\": 45, \"Defense\": 40, \"SpecialA\": 35, \"SpecialD\": 35, \"Speed\": 56, \"Generation\": 1}, {\"#\": 17, \"Name\": \"Pidgeotto\", \"Type 1\": \"Normal\", \"Type 2\": \"Flying\", \"Total\": 349, \"HP\": 63, \"Attack\": 60, \"Defense\": 55, \"SpecialA\": 50, \"SpecialD\": 50, \"Speed\": 71, \"Generation\": 1}, {\"#\": 18, \"Name\": \"Pidgeot\", \"Type 1\": \"Normal\", \"Type 2\": \"Flying\", \"Total\": 479, \"HP\": 83, \"Attack\": 80, \"Defense\": 75, \"SpecialA\": 70, \"SpecialD\": 70, \"Speed\": 101, \"Generation\": 1}, {\"#\": 18, \"Name\": \"PidgeotMega Pidgeot\", \"Type 1\": \"Normal\", \"Type 2\": \"Flying\", \"Total\": 579, \"HP\": 83, \"Attack\": 80, \"Defense\": 80, \"SpecialA\": 135, \"SpecialD\": 80, \"Speed\": 121, \"Generation\": 1}, {\"#\": 21, \"Name\": \"Spearow\", \"Type 1\": \"Normal\", \"Type 2\": \"Flying\", \"Total\": 262, \"HP\": 40, \"Attack\": 60, \"Defense\": 30, \"SpecialA\": 31, \"SpecialD\": 31, \"Speed\": 70, \"Generation\": 1}, {\"#\": 22, \"Name\": \"Fearow\", \"Type 1\": \"Normal\", \"Type 2\": \"Flying\", \"Total\": 442, \"HP\": 65, \"Attack\": 90, \"Defense\": 65, \"SpecialA\": 61, \"SpecialD\": 61, \"Speed\": 100, \"Generation\": 1}, {\"#\": 31, \"Name\": \"Nidoqueen\", \"Type 1\": \"Poison\", \"Type 2\": \"Ground\", \"Total\": 505, \"HP\": 90, \"Attack\": 92, \"Defense\": 87, \"SpecialA\": 75, \"SpecialD\": 85, \"Speed\": 76, \"Generation\": 1}, {\"#\": 34, \"Name\": \"Nidoking\", \"Type 1\": \"Poison\", \"Type 2\": \"Ground\", \"Total\": 505, \"HP\": 81, \"Attack\": 102, \"Defense\": 77, \"SpecialA\": 85, \"SpecialD\": 75, \"Speed\": 85, \"Generation\": 1}, {\"#\": 39, \"Name\": \"Jigglypuff\", \"Type 1\": \"Normal\", \"Type 2\": \"Fairy\", \"Total\": 270, \"HP\": 115, \"Attack\": 45, \"Defense\": 20, \"SpecialA\": 45, \"SpecialD\": 25, \"Speed\": 20, \"Generation\": 1}, {\"#\": 40, \"Name\": \"Wigglytuff\", \"Type 1\": \"Normal\", \"Type 2\": \"Fairy\", \"Total\": 435, \"HP\": 140, \"Attack\": 70, \"Defense\": 45, \"SpecialA\": 85, \"SpecialD\": 50, \"Speed\": 45, \"Generation\": 1}, {\"#\": 41, \"Name\": \"Zubat\", \"Type 1\": \"Poison\", \"Type 2\": \"Flying\", \"Total\": 245, \"HP\": 40, \"Attack\": 45, \"Defense\": 35, \"SpecialA\": 30, \"SpecialD\": 40, \"Speed\": 55, \"Generation\": 1}, {\"#\": 42, \"Name\": \"Golbat\", \"Type 1\": \"Poison\", \"Type 2\": \"Flying\", \"Total\": 455, \"HP\": 75, \"Attack\": 80, \"Defense\": 70, \"SpecialA\": 65, \"SpecialD\": 75, \"Speed\": 90, \"Generation\": 1}, {\"#\": 43, \"Name\": \"Oddish\", \"Type 1\": \"Grass\", \"Type 2\": \"Poison\", \"Total\": 320, \"HP\": 45, \"Attack\": 50, \"Defense\": 55, \"SpecialA\": 75, \"SpecialD\": 65, \"Speed\": 30, \"Generation\": 1}, {\"#\": 44, \"Name\": \"Gloom\", \"Type 1\": \"Grass\", \"Type 2\": \"Poison\", \"Total\": 395, \"HP\": 60, \"Attack\": 65, \"Defense\": 70, \"SpecialA\": 85, \"SpecialD\": 75, \"Speed\": 40, \"Generation\": 1}, {\"#\": 45, \"Name\": \"Vileplume\", \"Type 1\": \"Grass\", \"Type 2\": \"Poison\", \"Total\": 490, \"HP\": 75, \"Attack\": 80, \"Defense\": 85, \"SpecialA\": 110, \"SpecialD\": 90, \"Speed\": 50, \"Generation\": 1}, {\"#\": 46, \"Name\": \"Paras\", \"Type 1\": \"Bug\", \"Type 2\": \"Grass\", \"Total\": 285, \"HP\": 35, \"Attack\": 70, \"Defense\": 55, \"SpecialA\": 45, \"SpecialD\": 55, \"Speed\": 25, \"Generation\": 1}, {\"#\": 47, \"Name\": \"Parasect\", \"Type 1\": \"Bug\", \"Type 2\": \"Grass\", \"Total\": 405, \"HP\": 60, \"Attack\": 95, \"Defense\": 80, \"SpecialA\": 60, \"SpecialD\": 80, \"Speed\": 30, \"Generation\": 1}, {\"#\": 48, \"Name\": \"Venonat\", \"Type 1\": \"Bug\", \"Type 2\": \"Poison\", \"Total\": 305, \"HP\": 60, \"Attack\": 55, \"Defense\": 50, \"SpecialA\": 40, \"SpecialD\": 55, \"Speed\": 45, \"Generation\": 1}, {\"#\": 49, \"Name\": \"Venomoth\", \"Type 1\": \"Bug\", \"Type 2\": \"Poison\", \"Total\": 450, \"HP\": 70, \"Attack\": 65, \"Defense\": 60, \"SpecialA\": 90, \"SpecialD\": 75, \"Speed\": 90, \"Generation\": 1}, {\"#\": 62, \"Name\": \"Poliwrath\", \"Type 1\": \"Water\", \"Type 2\": \"Fighting\", \"Total\": 510, \"HP\": 90, \"Attack\": 95, \"Defense\": 95, \"SpecialA\": 70, \"SpecialD\": 90, \"Speed\": 70, \"Generation\": 1}, {\"#\": 69, \"Name\": \"Bellsprout\", \"Type 1\": \"Grass\", \"Type 2\": \"Poison\", \"Total\": 300, \"HP\": 50, \"Attack\": 75, \"Defense\": 35, \"SpecialA\": 70, \"SpecialD\": 30, \"Speed\": 40, \"Generation\": 1}, {\"#\": 70, \"Name\": \"Weepinbell\", \"Type 1\": \"Grass\", \"Type 2\": \"Poison\", \"Total\": 390, \"HP\": 65, \"Attack\": 90, \"Defense\": 50, \"SpecialA\": 85, \"SpecialD\": 45, \"Speed\": 55, \"Generation\": 1}, {\"#\": 71, \"Name\": \"Victreebel\", \"Type 1\": \"Grass\", \"Type 2\": \"Poison\", \"Total\": 490, \"HP\": 80, \"Attack\": 105, \"Defense\": 65, \"SpecialA\": 100, \"SpecialD\": 70, \"Speed\": 70, \"Generation\": 1}, {\"#\": 72, \"Name\": \"Tentacool\", \"Type 1\": \"Water\", \"Type 2\": \"Poison\", \"Total\": 335, \"HP\": 40, \"Attack\": 40, \"Defense\": 35, \"SpecialA\": 50, \"SpecialD\": 100, \"Speed\": 70, \"Generation\": 1}, {\"#\": 73, \"Name\": \"Tentacruel\", \"Type 1\": \"Water\", \"Type 2\": \"Poison\", \"Total\": 515, \"HP\": 80, \"Attack\": 70, \"Defense\": 65, \"SpecialA\": 80, \"SpecialD\": 120, \"Speed\": 100, \"Generation\": 1}, {\"#\": 74, \"Name\": \"Geodude\", \"Type 1\": \"Rock\", \"Type 2\": \"Ground\", \"Total\": 300, \"HP\": 40, \"Attack\": 80, \"Defense\": 100, \"SpecialA\": 30, \"SpecialD\": 30, \"Speed\": 20, \"Generation\": 1}, {\"#\": 75, \"Name\": \"Graveler\", \"Type 1\": \"Rock\", \"Type 2\": \"Ground\", \"Total\": 390, \"HP\": 55, \"Attack\": 95, \"Defense\": 115, \"SpecialA\": 45, \"SpecialD\": 45, \"Speed\": 35, \"Generation\": 1}, {\"#\": 76, \"Name\": \"Golem\", \"Type 1\": \"Rock\", \"Type 2\": \"Ground\", \"Total\": 495, \"HP\": 80, \"Attack\": 120, \"Defense\": 130, \"SpecialA\": 55, \"SpecialD\": 65, \"Speed\": 45, \"Generation\": 1}, {\"#\": 79, \"Name\": \"Slowpoke\", \"Type 1\": \"Water\", \"Type 2\": \"Psychic\", \"Total\": 315, \"HP\": 90, \"Attack\": 65, \"Defense\": 65, \"SpecialA\": 40, \"SpecialD\": 40, \"Speed\": 15, \"Generation\": 1}, {\"#\": 80, \"Name\": \"Slowbro\", \"Type 1\": \"Water\", \"Type 2\": \"Psychic\", \"Total\": 490, \"HP\": 95, \"Attack\": 75, \"Defense\": 110, \"SpecialA\": 100, \"SpecialD\": 80, \"Speed\": 30, \"Generation\": 1}, {\"#\": 80, \"Name\": \"SlowbroMega Slowbro\", \"Type 1\": \"Water\", \"Type 2\": \"Psychic\", \"Total\": 590, \"HP\": 95, \"Attack\": 75, \"Defense\": 180, \"SpecialA\": 130, \"SpecialD\": 80, \"Speed\": 30, \"Generation\": 1}, {\"#\": 81, \"Name\": \"Magnemite\", \"Type 1\": \"Electric\", \"Type 2\": \"Steel\", \"Total\": 325, \"HP\": 25, \"Attack\": 35, \"Defense\": 70, \"SpecialA\": 95, \"SpecialD\": 55, \"Speed\": 45, \"Generation\": 1}, {\"#\": 82, \"Name\": \"Magneton\", \"Type 1\": \"Electric\", \"Type 2\": \"Steel\", \"Total\": 465, \"HP\": 50, \"Attack\": 60, \"Defense\": 95, \"SpecialA\": 120, \"SpecialD\": 70, \"Speed\": 70, \"Generation\": 1}, {\"#\": 83, \"Name\": \"Farfetch'd\", \"Type 1\": \"Normal\", \"Type 2\": \"Flying\", \"Total\": 352, \"HP\": 52, \"Attack\": 65, \"Defense\": 55, \"SpecialA\": 58, \"SpecialD\": 62, \"Speed\": 60, \"Generation\": 1}, {\"#\": 84, \"Name\": \"Doduo\", \"Type 1\": \"Normal\", \"Type 2\": \"Flying\", \"Total\": 310, \"HP\": 35, \"Attack\": 85, \"Defense\": 45, \"SpecialA\": 35, \"SpecialD\": 35, \"Speed\": 75, \"Generation\": 1}, {\"#\": 85, \"Name\": \"Dodrio\", \"Type 1\": \"Normal\", \"Type 2\": \"Flying\", \"Total\": 460, \"HP\": 60, \"Attack\": 110, \"Defense\": 70, \"SpecialA\": 60, \"SpecialD\": 60, \"Speed\": 100, \"Generation\": 1}, {\"#\": 87, \"Name\": \"Dewgong\", \"Type 1\": \"Water\", \"Type 2\": \"Ice\", \"Total\": 475, \"HP\": 90, \"Attack\": 70, \"Defense\": 80, \"SpecialA\": 70, \"SpecialD\": 95, \"Speed\": 70, \"Generation\": 1}, {\"#\": 91, \"Name\": \"Cloyster\", \"Type 1\": \"Water\", \"Type 2\": \"Ice\", \"Total\": 525, \"HP\": 50, \"Attack\": 95, \"Defense\": 180, \"SpecialA\": 85, \"SpecialD\": 45, \"Speed\": 70, \"Generation\": 1}, {\"#\": 92, \"Name\": \"Gastly\", \"Type 1\": \"Ghost\", \"Type 2\": \"Poison\", \"Total\": 310, \"HP\": 30, \"Attack\": 35, \"Defense\": 30, \"SpecialA\": 100, \"SpecialD\": 35, \"Speed\": 80, \"Generation\": 1}, {\"#\": 93, \"Name\": \"Haunter\", \"Type 1\": \"Ghost\", \"Type 2\": \"Poison\", \"Total\": 405, \"HP\": 45, \"Attack\": 50, \"Defense\": 45, \"SpecialA\": 115, \"SpecialD\": 55, \"Speed\": 95, \"Generation\": 1}, {\"#\": 94, \"Name\": \"Gengar\", \"Type 1\": \"Ghost\", \"Type 2\": \"Poison\", \"Total\": 500, \"HP\": 60, \"Attack\": 65, \"Defense\": 60, \"SpecialA\": 130, \"SpecialD\": 75, \"Speed\": 110, \"Generation\": 1}, {\"#\": 94, \"Name\": \"GengarMega Gengar\", \"Type 1\": \"Ghost\", \"Type 2\": \"Poison\", \"Total\": 600, \"HP\": 60, \"Attack\": 65, \"Defense\": 80, \"SpecialA\": 170, \"SpecialD\": 95, \"Speed\": 130, \"Generation\": 1}, {\"#\": 95, \"Name\": \"Onix\", \"Type 1\": \"Rock\", \"Type 2\": \"Ground\", \"Total\": 385, \"HP\": 35, \"Attack\": 45, \"Defense\": 160, \"SpecialA\": 30, \"SpecialD\": 45, \"Speed\": 70, \"Generation\": 1}, {\"#\": 102, \"Name\": \"Exeggcute\", \"Type 1\": \"Grass\", \"Type 2\": \"Psychic\", \"Total\": 325, \"HP\": 60, \"Attack\": 40, \"Defense\": 80, \"SpecialA\": 60, \"SpecialD\": 45, \"Speed\": 40, \"Generation\": 1}, {\"#\": 103, \"Name\": \"Exeggutor\", \"Type 1\": \"Grass\", \"Type 2\": \"Psychic\", \"Total\": 520, \"HP\": 95, \"Attack\": 95, \"Defense\": 85, \"SpecialA\": 125, \"SpecialD\": 65, \"Speed\": 55, \"Generation\": 1}, {\"#\": 111, \"Name\": \"Rhyhorn\", \"Type 1\": \"Ground\", \"Type 2\": \"Rock\", \"Total\": 345, \"HP\": 80, \"Attack\": 85, \"Defense\": 95, \"SpecialA\": 30, \"SpecialD\": 30, \"Speed\": 25, \"Generation\": 1}, {\"#\": 112, \"Name\": \"Rhydon\", \"Type 1\": \"Ground\", \"Type 2\": \"Rock\", \"Total\": 485, \"HP\": 105, \"Attack\": 130, \"Defense\": 120, \"SpecialA\": 45, \"SpecialD\": 45, \"Speed\": 40, \"Generation\": 1}, {\"#\": 121, \"Name\": \"Starmie\", \"Type 1\": \"Water\", \"Type 2\": \"Psychic\", \"Total\": 520, \"HP\": 60, \"Attack\": 75, \"Defense\": 85, \"SpecialA\": 100, \"SpecialD\": 85, \"Speed\": 115, \"Generation\": 1}, {\"#\": 122, \"Name\": \"Mr. Mime\", \"Type 1\": \"Psychic\", \"Type 2\": \"Fairy\", \"Total\": 460, \"HP\": 40, \"Attack\": 45, \"Defense\": 65, \"SpecialA\": 100, \"SpecialD\": 120, \"Speed\": 90, \"Generation\": 1}, {\"#\": 123, \"Name\": \"Scyther\", \"Type 1\": \"Bug\", \"Type 2\": \"Flying\", \"Total\": 500, \"HP\": 70, \"Attack\": 110, \"Defense\": 80, \"SpecialA\": 55, \"SpecialD\": 80, \"Speed\": 105, \"Generation\": 1}, {\"#\": 124, \"Name\": \"Jynx\", \"Type 1\": \"Ice\", \"Type 2\": \"Psychic\", \"Total\": 455, \"HP\": 65, \"Attack\": 50, \"Defense\": 35, \"SpecialA\": 115, \"SpecialD\": 95, \"Speed\": 95, \"Generation\": 1}, {\"#\": 127, \"Name\": \"PinsirMega Pinsir\", \"Type 1\": \"Bug\", \"Type 2\": \"Flying\", \"Total\": 600, \"HP\": 65, \"Attack\": 155, \"Defense\": 120, \"SpecialA\": 65, \"SpecialD\": 90, \"Speed\": 105, \"Generation\": 1}, {\"#\": 130, \"Name\": \"Gyarados\", \"Type 1\": \"Water\", \"Type 2\": \"Flying\", \"Total\": 540, \"HP\": 95, \"Attack\": 125, \"Defense\": 79, \"SpecialA\": 60, \"SpecialD\": 100, \"Speed\": 81, \"Generation\": 1}, {\"#\": 130, \"Name\": \"GyaradosMega Gyarados\", \"Type 1\": \"Water\", \"Type 2\": \"Dark\", \"Total\": 640, \"HP\": 95, \"Attack\": 155, \"Defense\": 109, \"SpecialA\": 70, \"SpecialD\": 130, \"Speed\": 81, \"Generation\": 1}, {\"#\": 131, \"Name\": \"Lapras\", \"Type 1\": \"Water\", \"Type 2\": \"Ice\", \"Total\": 535, \"HP\": 130, \"Attack\": 85, \"Defense\": 80, \"SpecialA\": 85, \"SpecialD\": 95, \"Speed\": 60, \"Generation\": 1}, {\"#\": 138, \"Name\": \"Omanyte\", \"Type 1\": \"Rock\", \"Type 2\": \"Water\", \"Total\": 355, \"HP\": 35, \"Attack\": 40, \"Defense\": 100, \"SpecialA\": 90, \"SpecialD\": 55, \"Speed\": 35, \"Generation\": 1}, {\"#\": 139, \"Name\": \"Omastar\", \"Type 1\": \"Rock\", \"Type 2\": \"Water\", \"Total\": 495, \"HP\": 70, \"Attack\": 60, \"Defense\": 125, \"SpecialA\": 115, \"SpecialD\": 70, \"Speed\": 55, \"Generation\": 1}, {\"#\": 140, \"Name\": \"Kabuto\", \"Type 1\": \"Rock\", \"Type 2\": \"Water\", \"Total\": 355, \"HP\": 30, \"Attack\": 80, \"Defense\": 90, \"SpecialA\": 55, \"SpecialD\": 45, \"Speed\": 55, \"Generation\": 1}, {\"#\": 141, \"Name\": \"Kabutops\", \"Type 1\": \"Rock\", \"Type 2\": \"Water\", \"Total\": 495, \"HP\": 60, \"Attack\": 115, \"Defense\": 105, \"SpecialA\": 65, \"SpecialD\": 70, \"Speed\": 80, \"Generation\": 1}, {\"#\": 142, \"Name\": \"Aerodactyl\", \"Type 1\": \"Rock\", \"Type 2\": \"Flying\", \"Total\": 515, \"HP\": 80, \"Attack\": 105, \"Defense\": 65, \"SpecialA\": 60, \"SpecialD\": 75, \"Speed\": 130, \"Generation\": 1}, {\"#\": 142, \"Name\": \"AerodactylMega Aerodactyl\", \"Type 1\": \"Rock\", \"Type 2\": \"Flying\", \"Total\": 615, \"HP\": 80, \"Attack\": 135, \"Defense\": 85, \"SpecialA\": 70, \"SpecialD\": 95, \"Speed\": 150, \"Generation\": 1}, {\"#\": 149, \"Name\": \"Dragonite\", \"Type 1\": \"Dragon\", \"Type 2\": \"Flying\", \"Total\": 600, \"HP\": 91, \"Attack\": 134, \"Defense\": 95, \"SpecialA\": 100, \"SpecialD\": 100, \"Speed\": 80, \"Generation\": 1}, {\"#\": 163, \"Name\": \"Hoothoot\", \"Type 1\": \"Normal\", \"Type 2\": \"Flying\", \"Total\": 262, \"HP\": 60, \"Attack\": 30, \"Defense\": 30, \"SpecialA\": 36, \"SpecialD\": 56, \"Speed\": 50, \"Generation\": 2}, {\"#\": 164, \"Name\": \"Noctowl\", \"Type 1\": \"Normal\", \"Type 2\": \"Flying\", \"Total\": 442, \"HP\": 100, \"Attack\": 50, \"Defense\": 50, \"SpecialA\": 76, \"SpecialD\": 96, \"Speed\": 70, \"Generation\": 2}, {\"#\": 165, \"Name\": \"Ledyba\", \"Type 1\": \"Bug\", \"Type 2\": \"Flying\", \"Total\": 265, \"HP\": 40, \"Attack\": 20, \"Defense\": 30, \"SpecialA\": 40, \"SpecialD\": 80, \"Speed\": 55, \"Generation\": 2}, {\"#\": 166, \"Name\": \"Ledian\", \"Type 1\": \"Bug\", \"Type 2\": \"Flying\", \"Total\": 390, \"HP\": 55, \"Attack\": 35, \"Defense\": 50, \"SpecialA\": 55, \"SpecialD\": 110, \"Speed\": 85, \"Generation\": 2}, {\"#\": 167, \"Name\": \"Spinarak\", \"Type 1\": \"Bug\", \"Type 2\": \"Poison\", \"Total\": 250, \"HP\": 40, \"Attack\": 60, \"Defense\": 40, \"SpecialA\": 40, \"SpecialD\": 40, \"Speed\": 30, \"Generation\": 2}, {\"#\": 168, \"Name\": \"Ariados\", \"Type 1\": \"Bug\", \"Type 2\": \"Poison\", \"Total\": 390, \"HP\": 70, \"Attack\": 90, \"Defense\": 70, \"SpecialA\": 60, \"SpecialD\": 60, \"Speed\": 40, \"Generation\": 2}, {\"#\": 169, \"Name\": \"Crobat\", \"Type 1\": \"Poison\", \"Type 2\": \"Flying\", \"Total\": 535, \"HP\": 85, \"Attack\": 90, \"Defense\": 80, \"SpecialA\": 70, \"SpecialD\": 80, \"Speed\": 130, \"Generation\": 2}, {\"#\": 170, \"Name\": \"Chinchou\", \"Type 1\": \"Water\", \"Type 2\": \"Electric\", \"Total\": 330, \"HP\": 75, \"Attack\": 38, \"Defense\": 38, \"SpecialA\": 56, \"SpecialD\": 56, \"Speed\": 67, \"Generation\": 2}, {\"#\": 171, \"Name\": \"Lanturn\", \"Type 1\": \"Water\", \"Type 2\": \"Electric\", \"Total\": 460, \"HP\": 125, \"Attack\": 58, \"Defense\": 58, \"SpecialA\": 76, \"SpecialD\": 76, \"Speed\": 67, \"Generation\": 2}, {\"#\": 174, \"Name\": \"Igglybuff\", \"Type 1\": \"Normal\", \"Type 2\": \"Fairy\", \"Total\": 210, \"HP\": 90, \"Attack\": 30, \"Defense\": 15, \"SpecialA\": 40, \"SpecialD\": 20, \"Speed\": 15, \"Generation\": 2}, {\"#\": 176, \"Name\": \"Togetic\", \"Type 1\": \"Fairy\", \"Type 2\": \"Flying\", \"Total\": 405, \"HP\": 55, \"Attack\": 40, \"Defense\": 85, \"SpecialA\": 80, \"SpecialD\": 105, \"Speed\": 40, \"Generation\": 2}, {\"#\": 177, \"Name\": \"Natu\", \"Type 1\": \"Psychic\", \"Type 2\": \"Flying\", \"Total\": 320, \"HP\": 40, \"Attack\": 50, \"Defense\": 45, \"SpecialA\": 70, \"SpecialD\": 45, \"Speed\": 70, \"Generation\": 2}, {\"#\": 178, \"Name\": \"Xatu\", \"Type 1\": \"Psychic\", \"Type 2\": \"Flying\", \"Total\": 470, \"HP\": 65, \"Attack\": 75, \"Defense\": 70, \"SpecialA\": 95, \"SpecialD\": 70, \"Speed\": 95, \"Generation\": 2}, {\"#\": 181, \"Name\": \"AmpharosMega Ampharos\", \"Type 1\": \"Electric\", \"Type 2\": \"Dragon\", \"Total\": 610, \"HP\": 90, \"Attack\": 95, \"Defense\": 105, \"SpecialA\": 165, \"SpecialD\": 110, \"Speed\": 45, \"Generation\": 2}, {\"#\": 183, \"Name\": \"Marill\", \"Type 1\": \"Water\", \"Type 2\": \"Fairy\", \"Total\": 250, \"HP\": 70, \"Attack\": 20, \"Defense\": 50, \"SpecialA\": 20, \"SpecialD\": 50, \"Speed\": 40, \"Generation\": 2}, {\"#\": 184, \"Name\": \"Azumarill\", \"Type 1\": \"Water\", \"Type 2\": \"Fairy\", \"Total\": 420, \"HP\": 100, \"Attack\": 50, \"Defense\": 80, \"SpecialA\": 60, \"SpecialD\": 80, \"Speed\": 50, \"Generation\": 2}, {\"#\": 187, \"Name\": \"Hoppip\", \"Type 1\": \"Grass\", \"Type 2\": \"Flying\", \"Total\": 250, \"HP\": 35, \"Attack\": 35, \"Defense\": 40, \"SpecialA\": 35, \"SpecialD\": 55, \"Speed\": 50, \"Generation\": 2}, {\"#\": 188, \"Name\": \"Skiploom\", \"Type 1\": \"Grass\", \"Type 2\": \"Flying\", \"Total\": 340, \"HP\": 55, \"Attack\": 45, \"Defense\": 50, \"SpecialA\": 45, \"SpecialD\": 65, \"Speed\": 80, \"Generation\": 2}, {\"#\": 189, \"Name\": \"Jumpluff\", \"Type 1\": \"Grass\", \"Type 2\": \"Flying\", \"Total\": 460, \"HP\": 75, \"Attack\": 55, \"Defense\": 70, \"SpecialA\": 55, \"SpecialD\": 95, \"Speed\": 110, \"Generation\": 2}, {\"#\": 193, \"Name\": \"Yanma\", \"Type 1\": \"Bug\", \"Type 2\": \"Flying\", \"Total\": 390, \"HP\": 65, \"Attack\": 65, \"Defense\": 45, \"SpecialA\": 75, \"SpecialD\": 45, \"Speed\": 95, \"Generation\": 2}, {\"#\": 194, \"Name\": \"Wooper\", \"Type 1\": \"Water\", \"Type 2\": \"Ground\", \"Total\": 210, \"HP\": 55, \"Attack\": 45, \"Defense\": 45, \"SpecialA\": 25, \"SpecialD\": 25, \"Speed\": 15, \"Generation\": 2}, {\"#\": 195, \"Name\": \"Quagsire\", \"Type 1\": \"Water\", \"Type 2\": \"Ground\", \"Total\": 430, \"HP\": 95, \"Attack\": 85, \"Defense\": 85, \"SpecialA\": 65, \"SpecialD\": 65, \"Speed\": 35, \"Generation\": 2}, {\"#\": 198, \"Name\": \"Murkrow\", \"Type 1\": \"Dark\", \"Type 2\": \"Flying\", \"Total\": 405, \"HP\": 60, \"Attack\": 85, \"Defense\": 42, \"SpecialA\": 85, \"SpecialD\": 42, \"Speed\": 91, \"Generation\": 2}, {\"#\": 199, \"Name\": \"Slowking\", \"Type 1\": \"Water\", \"Type 2\": \"Psychic\", \"Total\": 490, \"HP\": 95, \"Attack\": 75, \"Defense\": 80, \"SpecialA\": 100, \"SpecialD\": 110, \"Speed\": 30, \"Generation\": 2}, {\"#\": 203, \"Name\": \"Girafarig\", \"Type 1\": \"Normal\", \"Type 2\": \"Psychic\", \"Total\": 455, \"HP\": 70, \"Attack\": 80, \"Defense\": 65, \"SpecialA\": 90, \"SpecialD\": 65, \"Speed\": 85, \"Generation\": 2}, {\"#\": 205, \"Name\": \"Forretress\", \"Type 1\": \"Bug\", \"Type 2\": \"Steel\", \"Total\": 465, \"HP\": 75, \"Attack\": 90, \"Defense\": 140, \"SpecialA\": 60, \"SpecialD\": 60, \"Speed\": 40, \"Generation\": 2}, {\"#\": 207, \"Name\": \"Gligar\", \"Type 1\": \"Ground\", \"Type 2\": \"Flying\", \"Total\": 430, \"HP\": 65, \"Attack\": 75, \"Defense\": 105, \"SpecialA\": 35, \"SpecialD\": 65, \"Speed\": 85, \"Generation\": 2}, {\"#\": 208, \"Name\": \"Steelix\", \"Type 1\": \"Steel\", \"Type 2\": \"Ground\", \"Total\": 510, \"HP\": 75, \"Attack\": 85, \"Defense\": 200, \"SpecialA\": 55, \"SpecialD\": 65, \"Speed\": 30, \"Generation\": 2}, {\"#\": 208, \"Name\": \"SteelixMega Steelix\", \"Type 1\": \"Steel\", \"Type 2\": \"Ground\", \"Total\": 610, \"HP\": 75, \"Attack\": 125, \"Defense\": 230, \"SpecialA\": 55, \"SpecialD\": 95, \"Speed\": 30, \"Generation\": 2}, {\"#\": 211, \"Name\": \"Qwilfish\", \"Type 1\": \"Water\", \"Type 2\": \"Poison\", \"Total\": 430, \"HP\": 65, \"Attack\": 95, \"Defense\": 75, \"SpecialA\": 55, \"SpecialD\": 55, \"Speed\": 85, \"Generation\": 2}, {\"#\": 212, \"Name\": \"Scizor\", \"Type 1\": \"Bug\", \"Type 2\": \"Steel\", \"Total\": 500, \"HP\": 70, \"Attack\": 130, \"Defense\": 100, \"SpecialA\": 55, \"SpecialD\": 80, \"Speed\": 65, \"Generation\": 2}, {\"#\": 212, \"Name\": \"ScizorMega Scizor\", \"Type 1\": \"Bug\", \"Type 2\": \"Steel\", \"Total\": 600, \"HP\": 70, \"Attack\": 150, \"Defense\": 140, \"SpecialA\": 65, \"SpecialD\": 100, \"Speed\": 75, \"Generation\": 2}, {\"#\": 213, \"Name\": \"Shuckle\", \"Type 1\": \"Bug\", \"Type 2\": \"Rock\", \"Total\": 505, \"HP\": 20, \"Attack\": 10, \"Defense\": 230, \"SpecialA\": 10, \"SpecialD\": 230, \"Speed\": 5, \"Generation\": 2}, {\"#\": 214, \"Name\": \"Heracross\", \"Type 1\": \"Bug\", \"Type 2\": \"Fighting\", \"Total\": 500, \"HP\": 80, \"Attack\": 125, \"Defense\": 75, \"SpecialA\": 40, \"SpecialD\": 95, \"Speed\": 85, \"Generation\": 2}, {\"#\": 214, \"Name\": \"HeracrossMega Heracross\", \"Type 1\": \"Bug\", \"Type 2\": \"Fighting\", \"Total\": 600, \"HP\": 80, \"Attack\": 185, \"Defense\": 115, \"SpecialA\": 40, \"SpecialD\": 105, \"Speed\": 75, \"Generation\": 2}, {\"#\": 215, \"Name\": \"Sneasel\", \"Type 1\": \"Dark\", \"Type 2\": \"Ice\", \"Total\": 430, \"HP\": 55, \"Attack\": 95, \"Defense\": 55, \"SpecialA\": 35, \"SpecialD\": 75, \"Speed\": 115, \"Generation\": 2}, {\"#\": 219, \"Name\": \"Magcargo\", \"Type 1\": \"Fire\", \"Type 2\": \"Rock\", \"Total\": 410, \"HP\": 50, \"Attack\": 50, \"Defense\": 120, \"SpecialA\": 80, \"SpecialD\": 80, \"Speed\": 30, \"Generation\": 2}, {\"#\": 220, \"Name\": \"Swinub\", \"Type 1\": \"Ice\", \"Type 2\": \"Ground\", \"Total\": 250, \"HP\": 50, \"Attack\": 50, \"Defense\": 40, \"SpecialA\": 30, \"SpecialD\": 30, \"Speed\": 50, \"Generation\": 2}, {\"#\": 221, \"Name\": \"Piloswine\", \"Type 1\": \"Ice\", \"Type 2\": \"Ground\", \"Total\": 450, \"HP\": 100, \"Attack\": 100, \"Defense\": 80, \"SpecialA\": 60, \"SpecialD\": 60, \"Speed\": 50, \"Generation\": 2}, {\"#\": 222, \"Name\": \"Corsola\", \"Type 1\": \"Water\", \"Type 2\": \"Rock\", \"Total\": 380, \"HP\": 55, \"Attack\": 55, \"Defense\": 85, \"SpecialA\": 65, \"SpecialD\": 85, \"Speed\": 35, \"Generation\": 2}, {\"#\": 225, \"Name\": \"Delibird\", \"Type 1\": \"Ice\", \"Type 2\": \"Flying\", \"Total\": 330, \"HP\": 45, \"Attack\": 55, \"Defense\": 45, \"SpecialA\": 65, \"SpecialD\": 45, \"Speed\": 75, \"Generation\": 2}, {\"#\": 226, \"Name\": \"Mantine\", \"Type 1\": \"Water\", \"Type 2\": \"Flying\", \"Total\": 465, \"HP\": 65, \"Attack\": 40, \"Defense\": 70, \"SpecialA\": 80, \"SpecialD\": 140, \"Speed\": 70, \"Generation\": 2}, {\"#\": 227, \"Name\": \"Skarmory\", \"Type 1\": \"Steel\", \"Type 2\": \"Flying\", \"Total\": 465, \"HP\": 65, \"Attack\": 80, \"Defense\": 140, \"SpecialA\": 40, \"SpecialD\": 70, \"Speed\": 70, \"Generation\": 2}, {\"#\": 228, \"Name\": \"Houndour\", \"Type 1\": \"Dark\", \"Type 2\": \"Fire\", \"Total\": 330, \"HP\": 45, \"Attack\": 60, \"Defense\": 30, \"SpecialA\": 80, \"SpecialD\": 50, \"Speed\": 65, \"Generation\": 2}, {\"#\": 229, \"Name\": \"Houndoom\", \"Type 1\": \"Dark\", \"Type 2\": \"Fire\", \"Total\": 500, \"HP\": 75, \"Attack\": 90, \"Defense\": 50, \"SpecialA\": 110, \"SpecialD\": 80, \"Speed\": 95, \"Generation\": 2}, {\"#\": 229, \"Name\": \"HoundoomMega Houndoom\", \"Type 1\": \"Dark\", \"Type 2\": \"Fire\", \"Total\": 600, \"HP\": 75, \"Attack\": 90, \"Defense\": 90, \"SpecialA\": 140, \"SpecialD\": 90, \"Speed\": 115, \"Generation\": 2}, {\"#\": 230, \"Name\": \"Kingdra\", \"Type 1\": \"Water\", \"Type 2\": \"Dragon\", \"Total\": 540, \"HP\": 75, \"Attack\": 95, \"Defense\": 95, \"SpecialA\": 95, \"SpecialD\": 95, \"Speed\": 85, \"Generation\": 2}, {\"#\": 238, \"Name\": \"Smoochum\", \"Type 1\": \"Ice\", \"Type 2\": \"Psychic\", \"Total\": 305, \"HP\": 45, \"Attack\": 30, \"Defense\": 15, \"SpecialA\": 85, \"SpecialD\": 65, \"Speed\": 65, \"Generation\": 2}, {\"#\": 246, \"Name\": \"Larvitar\", \"Type 1\": \"Rock\", \"Type 2\": \"Ground\", \"Total\": 300, \"HP\": 50, \"Attack\": 64, \"Defense\": 50, \"SpecialA\": 45, \"SpecialD\": 50, \"Speed\": 41, \"Generation\": 2}, {\"#\": 247, \"Name\": \"Pupitar\", \"Type 1\": \"Rock\", \"Type 2\": \"Ground\", \"Total\": 410, \"HP\": 70, \"Attack\": 84, \"Defense\": 70, \"SpecialA\": 65, \"SpecialD\": 70, \"Speed\": 51, \"Generation\": 2}, {\"#\": 248, \"Name\": \"Tyranitar\", \"Type 1\": \"Rock\", \"Type 2\": \"Dark\", \"Total\": 600, \"HP\": 100, \"Attack\": 134, \"Defense\": 110, \"SpecialA\": 95, \"SpecialD\": 100, \"Speed\": 61, \"Generation\": 2}, {\"#\": 248, \"Name\": \"TyranitarMega Tyranitar\", \"Type 1\": \"Rock\", \"Type 2\": \"Dark\", \"Total\": 700, \"HP\": 100, \"Attack\": 164, \"Defense\": 150, \"SpecialA\": 95, \"SpecialD\": 120, \"Speed\": 71, \"Generation\": 2}, {\"#\": 251, \"Name\": \"Celebi\", \"Type 1\": \"Psychic\", \"Type 2\": \"Grass\", \"Total\": 600, \"HP\": 100, \"Attack\": 100, \"Defense\": 100, \"SpecialA\": 100, \"SpecialD\": 100, \"Speed\": 100, \"Generation\": 2}, {\"#\": 254, \"Name\": \"SceptileMega Sceptile\", \"Type 1\": \"Grass\", \"Type 2\": \"Dragon\", \"Total\": 630, \"HP\": 70, \"Attack\": 110, \"Defense\": 75, \"SpecialA\": 145, \"SpecialD\": 85, \"Speed\": 145, \"Generation\": 3}, {\"#\": 256, \"Name\": \"Combusken\", \"Type 1\": \"Fire\", \"Type 2\": \"Fighting\", \"Total\": 405, \"HP\": 60, \"Attack\": 85, \"Defense\": 60, \"SpecialA\": 85, \"SpecialD\": 60, \"Speed\": 55, \"Generation\": 3}, {\"#\": 257, \"Name\": \"Blaziken\", \"Type 1\": \"Fire\", \"Type 2\": \"Fighting\", \"Total\": 530, \"HP\": 80, \"Attack\": 120, \"Defense\": 70, \"SpecialA\": 110, \"SpecialD\": 70, \"Speed\": 80, \"Generation\": 3}, {\"#\": 257, \"Name\": \"BlazikenMega Blaziken\", \"Type 1\": \"Fire\", \"Type 2\": \"Fighting\", \"Total\": 630, \"HP\": 80, \"Attack\": 160, \"Defense\": 80, \"SpecialA\": 130, \"SpecialD\": 80, \"Speed\": 100, \"Generation\": 3}, {\"#\": 259, \"Name\": \"Marshtomp\", \"Type 1\": \"Water\", \"Type 2\": \"Ground\", \"Total\": 405, \"HP\": 70, \"Attack\": 85, \"Defense\": 70, \"SpecialA\": 60, \"SpecialD\": 70, \"Speed\": 50, \"Generation\": 3}, {\"#\": 260, \"Name\": \"Swampert\", \"Type 1\": \"Water\", \"Type 2\": \"Ground\", \"Total\": 535, \"HP\": 100, \"Attack\": 110, \"Defense\": 90, \"SpecialA\": 85, \"SpecialD\": 90, \"Speed\": 60, \"Generation\": 3}, {\"#\": 260, \"Name\": \"SwampertMega Swampert\", \"Type 1\": \"Water\", \"Type 2\": \"Ground\", \"Total\": 635, \"HP\": 100, \"Attack\": 150, \"Defense\": 110, \"SpecialA\": 95, \"SpecialD\": 110, \"Speed\": 70, \"Generation\": 3}, {\"#\": 267, \"Name\": \"Beautifly\", \"Type 1\": \"Bug\", \"Type 2\": \"Flying\", \"Total\": 395, \"HP\": 60, \"Attack\": 70, \"Defense\": 50, \"SpecialA\": 100, \"SpecialD\": 50, \"Speed\": 65, \"Generation\": 3}, {\"#\": 269, \"Name\": \"Dustox\", \"Type 1\": \"Bug\", \"Type 2\": \"Poison\", \"Total\": 385, \"HP\": 60, \"Attack\": 50, \"Defense\": 70, \"SpecialA\": 50, \"SpecialD\": 90, \"Speed\": 65, \"Generation\": 3}, {\"#\": 270, \"Name\": \"Lotad\", \"Type 1\": \"Water\", \"Type 2\": \"Grass\", \"Total\": 220, \"HP\": 40, \"Attack\": 30, \"Defense\": 30, \"SpecialA\": 40, \"SpecialD\": 50, \"Speed\": 30, \"Generation\": 3}, {\"#\": 271, \"Name\": \"Lombre\", \"Type 1\": \"Water\", \"Type 2\": \"Grass\", \"Total\": 340, \"HP\": 60, \"Attack\": 50, \"Defense\": 50, \"SpecialA\": 60, \"SpecialD\": 70, \"Speed\": 50, \"Generation\": 3}, {\"#\": 272, \"Name\": \"Ludicolo\", \"Type 1\": \"Water\", \"Type 2\": \"Grass\", \"Total\": 480, \"HP\": 80, \"Attack\": 70, \"Defense\": 70, \"SpecialA\": 90, \"SpecialD\": 100, \"Speed\": 70, \"Generation\": 3}, {\"#\": 274, \"Name\": \"Nuzleaf\", \"Type 1\": \"Grass\", \"Type 2\": \"Dark\", \"Total\": 340, \"HP\": 70, \"Attack\": 70, \"Defense\": 40, \"SpecialA\": 60, \"SpecialD\": 40, \"Speed\": 60, \"Generation\": 3}, {\"#\": 275, \"Name\": \"Shiftry\", \"Type 1\": \"Grass\", \"Type 2\": \"Dark\", \"Total\": 480, \"HP\": 90, \"Attack\": 100, \"Defense\": 60, \"SpecialA\": 90, \"SpecialD\": 60, \"Speed\": 80, \"Generation\": 3}, {\"#\": 276, \"Name\": \"Taillow\", \"Type 1\": \"Normal\", \"Type 2\": \"Flying\", \"Total\": 270, \"HP\": 40, \"Attack\": 55, \"Defense\": 30, \"SpecialA\": 30, \"SpecialD\": 30, \"Speed\": 85, \"Generation\": 3}, {\"#\": 277, \"Name\": \"Swellow\", \"Type 1\": \"Normal\", \"Type 2\": \"Flying\", \"Total\": 430, \"HP\": 60, \"Attack\": 85, \"Defense\": 60, \"SpecialA\": 50, \"SpecialD\": 50, \"Speed\": 125, \"Generation\": 3}, {\"#\": 278, \"Name\": \"Wingull\", \"Type 1\": \"Water\", \"Type 2\": \"Flying\", \"Total\": 270, \"HP\": 40, \"Attack\": 30, \"Defense\": 30, \"SpecialA\": 55, \"SpecialD\": 30, \"Speed\": 85, \"Generation\": 3}, {\"#\": 279, \"Name\": \"Pelipper\", \"Type 1\": \"Water\", \"Type 2\": \"Flying\", \"Total\": 430, \"HP\": 60, \"Attack\": 50, \"Defense\": 100, \"SpecialA\": 85, \"SpecialD\": 70, \"Speed\": 65, \"Generation\": 3}, {\"#\": 280, \"Name\": \"Ralts\", \"Type 1\": \"Psychic\", \"Type 2\": \"Fairy\", \"Total\": 198, \"HP\": 28, \"Attack\": 25, \"Defense\": 25, \"SpecialA\": 45, \"SpecialD\": 35, \"Speed\": 40, \"Generation\": 3}, {\"#\": 281, \"Name\": \"Kirlia\", \"Type 1\": \"Psychic\", \"Type 2\": \"Fairy\", \"Total\": 278, \"HP\": 38, \"Attack\": 35, \"Defense\": 35, \"SpecialA\": 65, \"SpecialD\": 55, \"Speed\": 50, \"Generation\": 3}, {\"#\": 282, \"Name\": \"Gardevoir\", \"Type 1\": \"Psychic\", \"Type 2\": \"Fairy\", \"Total\": 518, \"HP\": 68, \"Attack\": 65, \"Defense\": 65, \"SpecialA\": 125, \"SpecialD\": 115, \"Speed\": 80, \"Generation\": 3}, {\"#\": 282, \"Name\": \"GardevoirMega Gardevoir\", \"Type 1\": \"Psychic\", \"Type 2\": \"Fairy\", \"Total\": 618, \"HP\": 68, \"Attack\": 85, \"Defense\": 65, \"SpecialA\": 165, \"SpecialD\": 135, \"Speed\": 100, \"Generation\": 3}, {\"#\": 283, \"Name\": \"Surskit\", \"Type 1\": \"Bug\", \"Type 2\": \"Water\", \"Total\": 269, \"HP\": 40, \"Attack\": 30, \"Defense\": 32, \"SpecialA\": 50, \"SpecialD\": 52, \"Speed\": 65, \"Generation\": 3}, {\"#\": 284, \"Name\": \"Masquerain\", \"Type 1\": \"Bug\", \"Type 2\": \"Flying\", \"Total\": 414, \"HP\": 70, \"Attack\": 60, \"Defense\": 62, \"SpecialA\": 80, \"SpecialD\": 82, \"Speed\": 60, \"Generation\": 3}, {\"#\": 286, \"Name\": \"Breloom\", \"Type 1\": \"Grass\", \"Type 2\": \"Fighting\", \"Total\": 460, \"HP\": 60, \"Attack\": 130, \"Defense\": 80, \"SpecialA\": 60, \"SpecialD\": 60, \"Speed\": 70, \"Generation\": 3}, {\"#\": 290, \"Name\": \"Nincada\", \"Type 1\": \"Bug\", \"Type 2\": \"Ground\", \"Total\": 266, \"HP\": 31, \"Attack\": 45, \"Defense\": 90, \"SpecialA\": 30, \"SpecialD\": 30, \"Speed\": 40, \"Generation\": 3}, {\"#\": 291, \"Name\": \"Ninjask\", \"Type 1\": \"Bug\", \"Type 2\": \"Flying\", \"Total\": 456, \"HP\": 61, \"Attack\": 90, \"Defense\": 45, \"SpecialA\": 50, \"SpecialD\": 50, \"Speed\": 160, \"Generation\": 3}, {\"#\": 292, \"Name\": \"Shedinja\", \"Type 1\": \"Bug\", \"Type 2\": \"Ghost\", \"Total\": 236, \"HP\": 1, \"Attack\": 90, \"Defense\": 45, \"SpecialA\": 30, \"SpecialD\": 30, \"Speed\": 40, \"Generation\": 3}, {\"#\": 298, \"Name\": \"Azurill\", \"Type 1\": \"Normal\", \"Type 2\": \"Fairy\", \"Total\": 190, \"HP\": 50, \"Attack\": 20, \"Defense\": 40, \"SpecialA\": 20, \"SpecialD\": 40, \"Speed\": 20, \"Generation\": 3}, {\"#\": 302, \"Name\": \"Sableye\", \"Type 1\": \"Dark\", \"Type 2\": \"Ghost\", \"Total\": 380, \"HP\": 50, \"Attack\": 75, \"Defense\": 75, \"SpecialA\": 65, \"SpecialD\": 65, \"Speed\": 50, \"Generation\": 3}, {\"#\": 302, \"Name\": \"SableyeMega Sableye\", \"Type 1\": \"Dark\", \"Type 2\": \"Ghost\", \"Total\": 480, \"HP\": 50, \"Attack\": 85, \"Defense\": 125, \"SpecialA\": 85, \"SpecialD\": 115, \"Speed\": 20, \"Generation\": 3}, {\"#\": 303, \"Name\": \"Mawile\", \"Type 1\": \"Steel\", \"Type 2\": \"Fairy\", \"Total\": 380, \"HP\": 50, \"Attack\": 85, \"Defense\": 85, \"SpecialA\": 55, \"SpecialD\": 55, \"Speed\": 50, \"Generation\": 3}, {\"#\": 303, \"Name\": \"MawileMega Mawile\", \"Type 1\": \"Steel\", \"Type 2\": \"Fairy\", \"Total\": 480, \"HP\": 50, \"Attack\": 105, \"Defense\": 125, \"SpecialA\": 55, \"SpecialD\": 95, \"Speed\": 50, \"Generation\": 3}, {\"#\": 304, \"Name\": \"Aron\", \"Type 1\": \"Steel\", \"Type 2\": \"Rock\", \"Total\": 330, \"HP\": 50, \"Attack\": 70, \"Defense\": 100, \"SpecialA\": 40, \"SpecialD\": 40, \"Speed\": 30, \"Generation\": 3}, {\"#\": 305, \"Name\": \"Lairon\", \"Type 1\": \"Steel\", \"Type 2\": \"Rock\", \"Total\": 430, \"HP\": 60, \"Attack\": 90, \"Defense\": 140, \"SpecialA\": 50, \"SpecialD\": 50, \"Speed\": 40, \"Generation\": 3}, {\"#\": 306, \"Name\": \"Aggron\", \"Type 1\": \"Steel\", \"Type 2\": \"Rock\", \"Total\": 530, \"HP\": 70, \"Attack\": 110, \"Defense\": 180, \"SpecialA\": 60, \"SpecialD\": 60, \"Speed\": 50, \"Generation\": 3}, {\"#\": 307, \"Name\": \"Meditite\", \"Type 1\": \"Fighting\", \"Type 2\": \"Psychic\", \"Total\": 280, \"HP\": 30, \"Attack\": 40, \"Defense\": 55, \"SpecialA\": 40, \"SpecialD\": 55, \"Speed\": 60, \"Generation\": 3}, {\"#\": 308, \"Name\": \"Medicham\", \"Type 1\": \"Fighting\", \"Type 2\": \"Psychic\", \"Total\": 410, \"HP\": 60, \"Attack\": 60, \"Defense\": 75, \"SpecialA\": 60, \"SpecialD\": 75, \"Speed\": 80, \"Generation\": 3}, {\"#\": 308, \"Name\": \"MedichamMega Medicham\", \"Type 1\": \"Fighting\", \"Type 2\": \"Psychic\", \"Total\": 510, \"HP\": 60, \"Attack\": 100, \"Defense\": 85, \"SpecialA\": 80, \"SpecialD\": 85, \"Speed\": 100, \"Generation\": 3}, {\"#\": 315, \"Name\": \"Roselia\", \"Type 1\": \"Grass\", \"Type 2\": \"Poison\", \"Total\": 400, \"HP\": 50, \"Attack\": 60, \"Defense\": 45, \"SpecialA\": 100, \"SpecialD\": 80, \"Speed\": 65, \"Generation\": 3}, {\"#\": 318, \"Name\": \"Carvanha\", \"Type 1\": \"Water\", \"Type 2\": \"Dark\", \"Total\": 305, \"HP\": 45, \"Attack\": 90, \"Defense\": 20, \"SpecialA\": 65, \"SpecialD\": 20, \"Speed\": 65, \"Generation\": 3}, {\"#\": 319, \"Name\": \"Sharpedo\", \"Type 1\": \"Water\", \"Type 2\": \"Dark\", \"Total\": 460, \"HP\": 70, \"Attack\": 120, \"Defense\": 40, \"SpecialA\": 95, \"SpecialD\": 40, \"Speed\": 95, \"Generation\": 3}, {\"#\": 319, \"Name\": \"SharpedoMega Sharpedo\", \"Type 1\": \"Water\", \"Type 2\": \"Dark\", \"Total\": 560, \"HP\": 70, \"Attack\": 140, \"Defense\": 70, \"SpecialA\": 110, \"SpecialD\": 65, \"Speed\": 105, \"Generation\": 3}, {\"#\": 322, \"Name\": \"Numel\", \"Type 1\": \"Fire\", \"Type 2\": \"Ground\", \"Total\": 305, \"HP\": 60, \"Attack\": 60, \"Defense\": 40, \"SpecialA\": 65, \"SpecialD\": 45, \"Speed\": 35, \"Generation\": 3}, {\"#\": 323, \"Name\": \"Camerupt\", \"Type 1\": \"Fire\", \"Type 2\": \"Ground\", \"Total\": 460, \"HP\": 70, \"Attack\": 100, \"Defense\": 70, \"SpecialA\": 105, \"SpecialD\": 75, \"Speed\": 40, \"Generation\": 3}, {\"#\": 323, \"Name\": \"CameruptMega Camerupt\", \"Type 1\": \"Fire\", \"Type 2\": \"Ground\", \"Total\": 560, \"HP\": 70, \"Attack\": 120, \"Defense\": 100, \"SpecialA\": 145, \"SpecialD\": 105, \"Speed\": 20, \"Generation\": 3}, {\"#\": 329, \"Name\": \"Vibrava\", \"Type 1\": \"Ground\", \"Type 2\": \"Dragon\", \"Total\": 340, \"HP\": 50, \"Attack\": 70, \"Defense\": 50, \"SpecialA\": 50, \"SpecialD\": 50, \"Speed\": 70, \"Generation\": 3}, {\"#\": 330, \"Name\": \"Flygon\", \"Type 1\": \"Ground\", \"Type 2\": \"Dragon\", \"Total\": 520, \"HP\": 80, \"Attack\": 100, \"Defense\": 80, \"SpecialA\": 80, \"SpecialD\": 80, \"Speed\": 100, \"Generation\": 3}, {\"#\": 332, \"Name\": \"Cacturne\", \"Type 1\": \"Grass\", \"Type 2\": \"Dark\", \"Total\": 475, \"HP\": 70, \"Attack\": 115, \"Defense\": 60, \"SpecialA\": 115, \"SpecialD\": 60, \"Speed\": 55, \"Generation\": 3}, {\"#\": 333, \"Name\": \"Swablu\", \"Type 1\": \"Normal\", \"Type 2\": \"Flying\", \"Total\": 310, \"HP\": 45, \"Attack\": 40, \"Defense\": 60, \"SpecialA\": 40, \"SpecialD\": 75, \"Speed\": 50, \"Generation\": 3}, {\"#\": 334, \"Name\": \"Altaria\", \"Type 1\": \"Dragon\", \"Type 2\": \"Flying\", \"Total\": 490, \"HP\": 75, \"Attack\": 70, \"Defense\": 90, \"SpecialA\": 70, \"SpecialD\": 105, \"Speed\": 80, \"Generation\": 3}, {\"#\": 334, \"Name\": \"AltariaMega Altaria\", \"Type 1\": \"Dragon\", \"Type 2\": \"Fairy\", \"Total\": 590, \"HP\": 75, \"Attack\": 110, \"Defense\": 110, \"SpecialA\": 110, \"SpecialD\": 105, \"Speed\": 80, \"Generation\": 3}, {\"#\": 337, \"Name\": \"Lunatone\", \"Type 1\": \"Rock\", \"Type 2\": \"Psychic\", \"Total\": 440, \"HP\": 70, \"Attack\": 55, \"Defense\": 65, \"SpecialA\": 95, \"SpecialD\": 85, \"Speed\": 70, \"Generation\": 3}, {\"#\": 338, \"Name\": \"Solrock\", \"Type 1\": \"Rock\", \"Type 2\": \"Psychic\", \"Total\": 440, \"HP\": 70, \"Attack\": 95, \"Defense\": 85, \"SpecialA\": 55, \"SpecialD\": 65, \"Speed\": 70, \"Generation\": 3}, {\"#\": 339, \"Name\": \"Barboach\", \"Type 1\": \"Water\", \"Type 2\": \"Ground\", \"Total\": 288, \"HP\": 50, \"Attack\": 48, \"Defense\": 43, \"SpecialA\": 46, \"SpecialD\": 41, \"Speed\": 60, \"Generation\": 3}, {\"#\": 340, \"Name\": \"Whiscash\", \"Type 1\": \"Water\", \"Type 2\": \"Ground\", \"Total\": 468, \"HP\": 110, \"Attack\": 78, \"Defense\": 73, \"SpecialA\": 76, \"SpecialD\": 71, \"Speed\": 60, \"Generation\": 3}, {\"#\": 342, \"Name\": \"Crawdaunt\", \"Type 1\": \"Water\", \"Type 2\": \"Dark\", \"Total\": 468, \"HP\": 63, \"Attack\": 120, \"Defense\": 85, \"SpecialA\": 90, \"SpecialD\": 55, \"Speed\": 55, \"Generation\": 3}, {\"#\": 343, \"Name\": \"Baltoy\", \"Type 1\": \"Ground\", \"Type 2\": \"Psychic\", \"Total\": 300, \"HP\": 40, \"Attack\": 40, \"Defense\": 55, \"SpecialA\": 40, \"SpecialD\": 70, \"Speed\": 55, \"Generation\": 3}, {\"#\": 344, \"Name\": \"Claydol\", \"Type 1\": \"Ground\", \"Type 2\": \"Psychic\", \"Total\": 500, \"HP\": 60, \"Attack\": 70, \"Defense\": 105, \"SpecialA\": 70, \"SpecialD\": 120, \"Speed\": 75, \"Generation\": 3}, {\"#\": 345, \"Name\": \"Lileep\", \"Type 1\": \"Rock\", \"Type 2\": \"Grass\", \"Total\": 355, \"HP\": 66, \"Attack\": 41, \"Defense\": 77, \"SpecialA\": 61, \"SpecialD\": 87, \"Speed\": 23, \"Generation\": 3}, {\"#\": 346, \"Name\": \"Cradily\", \"Type 1\": \"Rock\", \"Type 2\": \"Grass\", \"Total\": 495, \"HP\": 86, \"Attack\": 81, \"Defense\": 97, \"SpecialA\": 81, \"SpecialD\": 107, \"Speed\": 43, \"Generation\": 3}, {\"#\": 347, \"Name\": \"Anorith\", \"Type 1\": \"Rock\", \"Type 2\": \"Bug\", \"Total\": 355, \"HP\": 45, \"Attack\": 95, \"Defense\": 50, \"SpecialA\": 40, \"SpecialD\": 50, \"Speed\": 75, \"Generation\": 3}, {\"#\": 348, \"Name\": \"Armaldo\", \"Type 1\": \"Rock\", \"Type 2\": \"Bug\", \"Total\": 495, \"HP\": 75, \"Attack\": 125, \"Defense\": 100, \"SpecialA\": 70, \"SpecialD\": 80, \"Speed\": 45, \"Generation\": 3}, {\"#\": 357, \"Name\": \"Tropius\", \"Type 1\": \"Grass\", \"Type 2\": \"Flying\", \"Total\": 460, \"HP\": 99, \"Attack\": 68, \"Defense\": 83, \"SpecialA\": 72, \"SpecialD\": 87, \"Speed\": 51, \"Generation\": 3}, {\"#\": 363, \"Name\": \"Spheal\", \"Type 1\": \"Ice\", \"Type 2\": \"Water\", \"Total\": 290, \"HP\": 70, \"Attack\": 40, \"Defense\": 50, \"SpecialA\": 55, \"SpecialD\": 50, \"Speed\": 25, \"Generation\": 3}, {\"#\": 364, \"Name\": \"Sealeo\", \"Type 1\": \"Ice\", \"Type 2\": \"Water\", \"Total\": 410, \"HP\": 90, \"Attack\": 60, \"Defense\": 70, \"SpecialA\": 75, \"SpecialD\": 70, \"Speed\": 45, \"Generation\": 3}, {\"#\": 365, \"Name\": \"Walrein\", \"Type 1\": \"Ice\", \"Type 2\": \"Water\", \"Total\": 530, \"HP\": 110, \"Attack\": 80, \"Defense\": 90, \"SpecialA\": 95, \"SpecialD\": 90, \"Speed\": 65, \"Generation\": 3}, {\"#\": 369, \"Name\": \"Relicanth\", \"Type 1\": \"Water\", \"Type 2\": \"Rock\", \"Total\": 485, \"HP\": 100, \"Attack\": 90, \"Defense\": 130, \"SpecialA\": 45, \"SpecialD\": 65, \"Speed\": 55, \"Generation\": 3}, {\"#\": 373, \"Name\": \"Salamence\", \"Type 1\": \"Dragon\", \"Type 2\": \"Flying\", \"Total\": 600, \"HP\": 95, \"Attack\": 135, \"Defense\": 80, \"SpecialA\": 110, \"SpecialD\": 80, \"Speed\": 100, \"Generation\": 3}, {\"#\": 373, \"Name\": \"SalamenceMega Salamence\", \"Type 1\": \"Dragon\", \"Type 2\": \"Flying\", \"Total\": 700, \"HP\": 95, \"Attack\": 145, \"Defense\": 130, \"SpecialA\": 120, \"SpecialD\": 90, \"Speed\": 120, \"Generation\": 3}, {\"#\": 374, \"Name\": \"Beldum\", \"Type 1\": \"Steel\", \"Type 2\": \"Psychic\", \"Total\": 300, \"HP\": 40, \"Attack\": 55, \"Defense\": 80, \"SpecialA\": 35, \"SpecialD\": 60, \"Speed\": 30, \"Generation\": 3}, {\"#\": 375, \"Name\": \"Metang\", \"Type 1\": \"Steel\", \"Type 2\": \"Psychic\", \"Total\": 420, \"HP\": 60, \"Attack\": 75, \"Defense\": 100, \"SpecialA\": 55, \"SpecialD\": 80, \"Speed\": 50, \"Generation\": 3}, {\"#\": 376, \"Name\": \"Metagross\", \"Type 1\": \"Steel\", \"Type 2\": \"Psychic\", \"Total\": 600, \"HP\": 80, \"Attack\": 135, \"Defense\": 130, \"SpecialA\": 95, \"SpecialD\": 90, \"Speed\": 70, \"Generation\": 3}, {\"#\": 376, \"Name\": \"MetagrossMega Metagross\", \"Type 1\": \"Steel\", \"Type 2\": \"Psychic\", \"Total\": 700, \"HP\": 80, \"Attack\": 145, \"Defense\": 150, \"SpecialA\": 105, \"SpecialD\": 110, \"Speed\": 110, \"Generation\": 3}, {\"#\": 389, \"Name\": \"Torterra\", \"Type 1\": \"Grass\", \"Type 2\": \"Ground\", \"Total\": 525, \"HP\": 95, \"Attack\": 109, \"Defense\": 105, \"SpecialA\": 75, \"SpecialD\": 85, \"Speed\": 56, \"Generation\": 4}, {\"#\": 391, \"Name\": \"Monferno\", \"Type 1\": \"Fire\", \"Type 2\": \"Fighting\", \"Total\": 405, \"HP\": 64, \"Attack\": 78, \"Defense\": 52, \"SpecialA\": 78, \"SpecialD\": 52, \"Speed\": 81, \"Generation\": 4}, {\"#\": 392, \"Name\": \"Infernape\", \"Type 1\": \"Fire\", \"Type 2\": \"Fighting\", \"Total\": 534, \"HP\": 76, \"Attack\": 104, \"Defense\": 71, \"SpecialA\": 104, \"SpecialD\": 71, \"Speed\": 108, \"Generation\": 4}, {\"#\": 395, \"Name\": \"Empoleon\", \"Type 1\": \"Water\", \"Type 2\": \"Steel\", \"Total\": 530, \"HP\": 84, \"Attack\": 86, \"Defense\": 88, \"SpecialA\": 111, \"SpecialD\": 101, \"Speed\": 60, \"Generation\": 4}, {\"#\": 396, \"Name\": \"Starly\", \"Type 1\": \"Normal\", \"Type 2\": \"Flying\", \"Total\": 245, \"HP\": 40, \"Attack\": 55, \"Defense\": 30, \"SpecialA\": 30, \"SpecialD\": 30, \"Speed\": 60, \"Generation\": 4}, {\"#\": 397, \"Name\": \"Staravia\", \"Type 1\": \"Normal\", \"Type 2\": \"Flying\", \"Total\": 340, \"HP\": 55, \"Attack\": 75, \"Defense\": 50, \"SpecialA\": 40, \"SpecialD\": 40, \"Speed\": 80, \"Generation\": 4}, {\"#\": 398, \"Name\": \"Staraptor\", \"Type 1\": \"Normal\", \"Type 2\": \"Flying\", \"Total\": 485, \"HP\": 85, \"Attack\": 120, \"Defense\": 70, \"SpecialA\": 50, \"SpecialD\": 60, \"Speed\": 100, \"Generation\": 4}, {\"#\": 400, \"Name\": \"Bibarel\", \"Type 1\": \"Normal\", \"Type 2\": \"Water\", \"Total\": 410, \"HP\": 79, \"Attack\": 85, \"Defense\": 60, \"SpecialA\": 55, \"SpecialD\": 60, \"Speed\": 71, \"Generation\": 4}, {\"#\": 406, \"Name\": \"Budew\", \"Type 1\": \"Grass\", \"Type 2\": \"Poison\", \"Total\": 280, \"HP\": 40, \"Attack\": 30, \"Defense\": 35, \"SpecialA\": 50, \"SpecialD\": 70, \"Speed\": 55, \"Generation\": 4}, {\"#\": 407, \"Name\": \"Roserade\", \"Type 1\": \"Grass\", \"Type 2\": \"Poison\", \"Total\": 515, \"HP\": 60, \"Attack\": 70, \"Defense\": 65, \"SpecialA\": 125, \"SpecialD\": 105, \"Speed\": 90, \"Generation\": 4}, {\"#\": 410, \"Name\": \"Shieldon\", \"Type 1\": \"Rock\", \"Type 2\": \"Steel\", \"Total\": 350, \"HP\": 30, \"Attack\": 42, \"Defense\": 118, \"SpecialA\": 42, \"SpecialD\": 88, \"Speed\": 30, \"Generation\": 4}, {\"#\": 411, \"Name\": \"Bastiodon\", \"Type 1\": \"Rock\", \"Type 2\": \"Steel\", \"Total\": 495, \"HP\": 60, \"Attack\": 52, \"Defense\": 168, \"SpecialA\": 47, \"SpecialD\": 138, \"Speed\": 30, \"Generation\": 4}, {\"#\": 413, \"Name\": \"WormadamPlant Cloak\", \"Type 1\": \"Bug\", \"Type 2\": \"Grass\", \"Total\": 424, \"HP\": 60, \"Attack\": 59, \"Defense\": 85, \"SpecialA\": 79, \"SpecialD\": 105, \"Speed\": 36, \"Generation\": 4}, {\"#\": 413, \"Name\": \"WormadamSandy Cloak\", \"Type 1\": \"Bug\", \"Type 2\": \"Ground\", \"Total\": 424, \"HP\": 60, \"Attack\": 79, \"Defense\": 105, \"SpecialA\": 59, \"SpecialD\": 85, \"Speed\": 36, \"Generation\": 4}, {\"#\": 413, \"Name\": \"WormadamTrash Cloak\", \"Type 1\": \"Bug\", \"Type 2\": \"Steel\", \"Total\": 424, \"HP\": 60, \"Attack\": 69, \"Defense\": 95, \"SpecialA\": 69, \"SpecialD\": 95, \"Speed\": 36, \"Generation\": 4}, {\"#\": 414, \"Name\": \"Mothim\", \"Type 1\": \"Bug\", \"Type 2\": \"Flying\", \"Total\": 424, \"HP\": 70, \"Attack\": 94, \"Defense\": 50, \"SpecialA\": 94, \"SpecialD\": 50, \"Speed\": 66, \"Generation\": 4}, {\"#\": 415, \"Name\": \"Combee\", \"Type 1\": \"Bug\", \"Type 2\": \"Flying\", \"Total\": 244, \"HP\": 30, \"Attack\": 30, \"Defense\": 42, \"SpecialA\": 30, \"SpecialD\": 42, \"Speed\": 70, \"Generation\": 4}, {\"#\": 416, \"Name\": \"Vespiquen\", \"Type 1\": \"Bug\", \"Type 2\": \"Flying\", \"Total\": 474, \"HP\": 70, \"Attack\": 80, \"Defense\": 102, \"SpecialA\": 80, \"SpecialD\": 102, \"Speed\": 40, \"Generation\": 4}, {\"#\": 423, \"Name\": \"Gastrodon\", \"Type 1\": \"Water\", \"Type 2\": \"Ground\", \"Total\": 475, \"HP\": 111, \"Attack\": 83, \"Defense\": 68, \"SpecialA\": 92, \"SpecialD\": 82, \"Speed\": 39, \"Generation\": 4}, {\"#\": 425, \"Name\": \"Drifloon\", \"Type 1\": \"Ghost\", \"Type 2\": \"Flying\", \"Total\": 348, \"HP\": 90, \"Attack\": 50, \"Defense\": 34, \"SpecialA\": 60, \"SpecialD\": 44, \"Speed\": 70, \"Generation\": 4}, {\"#\": 426, \"Name\": \"Drifblim\", \"Type 1\": \"Ghost\", \"Type 2\": \"Flying\", \"Total\": 498, \"HP\": 150, \"Attack\": 80, \"Defense\": 44, \"SpecialA\": 90, \"SpecialD\": 54, \"Speed\": 80, \"Generation\": 4}, {\"#\": 428, \"Name\": \"LopunnyMega Lopunny\", \"Type 1\": \"Normal\", \"Type 2\": \"Fighting\", \"Total\": 580, \"HP\": 65, \"Attack\": 136, \"Defense\": 94, \"SpecialA\": 54, \"SpecialD\": 96, \"Speed\": 135, \"Generation\": 4}, {\"#\": 430, \"Name\": \"Honchkrow\", \"Type 1\": \"Dark\", \"Type 2\": \"Flying\", \"Total\": 505, \"HP\": 100, \"Attack\": 125, \"Defense\": 52, \"SpecialA\": 105, \"SpecialD\": 52, \"Speed\": 71, \"Generation\": 4}, {\"#\": 434, \"Name\": \"Stunky\", \"Type 1\": \"Poison\", \"Type 2\": \"Dark\", \"Total\": 329, \"HP\": 63, \"Attack\": 63, \"Defense\": 47, \"SpecialA\": 41, \"SpecialD\": 41, \"Speed\": 74, \"Generation\": 4}, {\"#\": 435, \"Name\": \"Skuntank\", \"Type 1\": \"Poison\", \"Type 2\": \"Dark\", \"Total\": 479, \"HP\": 103, \"Attack\": 93, \"Defense\": 67, \"SpecialA\": 71, \"SpecialD\": 61, \"Speed\": 84, \"Generation\": 4}, {\"#\": 436, \"Name\": \"Bronzor\", \"Type 1\": \"Steel\", \"Type 2\": \"Psychic\", \"Total\": 300, \"HP\": 57, \"Attack\": 24, \"Defense\": 86, \"SpecialA\": 24, \"SpecialD\": 86, \"Speed\": 23, \"Generation\": 4}, {\"#\": 437, \"Name\": \"Bronzong\", \"Type 1\": \"Steel\", \"Type 2\": \"Psychic\", \"Total\": 500, \"HP\": 67, \"Attack\": 89, \"Defense\": 116, \"SpecialA\": 79, \"SpecialD\": 116, \"Speed\": 33, \"Generation\": 4}, {\"#\": 439, \"Name\": \"Mime Jr.\", \"Type 1\": \"Psychic\", \"Type 2\": \"Fairy\", \"Total\": 310, \"HP\": 20, \"Attack\": 25, \"Defense\": 45, \"SpecialA\": 70, \"SpecialD\": 90, \"Speed\": 60, \"Generation\": 4}, {\"#\": 441, \"Name\": \"Chatot\", \"Type 1\": \"Normal\", \"Type 2\": \"Flying\", \"Total\": 411, \"HP\": 76, \"Attack\": 65, \"Defense\": 45, \"SpecialA\": 92, \"SpecialD\": 42, \"Speed\": 91, \"Generation\": 4}, {\"#\": 442, \"Name\": \"Spiritomb\", \"Type 1\": \"Ghost\", \"Type 2\": \"Dark\", \"Total\": 485, \"HP\": 50, \"Attack\": 92, \"Defense\": 108, \"SpecialA\": 92, \"SpecialD\": 108, \"Speed\": 35, \"Generation\": 4}, {\"#\": 443, \"Name\": \"Gible\", \"Type 1\": \"Dragon\", \"Type 2\": \"Ground\", \"Total\": 300, \"HP\": 58, \"Attack\": 70, \"Defense\": 45, \"SpecialA\": 40, \"SpecialD\": 45, \"Speed\": 42, \"Generation\": 4}, {\"#\": 444, \"Name\": \"Gabite\", \"Type 1\": \"Dragon\", \"Type 2\": \"Ground\", \"Total\": 410, \"HP\": 68, \"Attack\": 90, \"Defense\": 65, \"SpecialA\": 50, \"SpecialD\": 55, \"Speed\": 82, \"Generation\": 4}, {\"#\": 445, \"Name\": \"Garchomp\", \"Type 1\": \"Dragon\", \"Type 2\": \"Ground\", \"Total\": 600, \"HP\": 108, \"Attack\": 130, \"Defense\": 95, \"SpecialA\": 80, \"SpecialD\": 85, \"Speed\": 102, \"Generation\": 4}, {\"#\": 445, \"Name\": \"GarchompMega Garchomp\", \"Type 1\": \"Dragon\", \"Type 2\": \"Ground\", \"Total\": 700, \"HP\": 108, \"Attack\": 170, \"Defense\": 115, \"SpecialA\": 120, \"SpecialD\": 95, \"Speed\": 92, \"Generation\": 4}, {\"#\": 448, \"Name\": \"Lucario\", \"Type 1\": \"Fighting\", \"Type 2\": \"Steel\", \"Total\": 525, \"HP\": 70, \"Attack\": 110, \"Defense\": 70, \"SpecialA\": 115, \"SpecialD\": 70, \"Speed\": 90, \"Generation\": 4}, {\"#\": 448, \"Name\": \"LucarioMega Lucario\", \"Type 1\": \"Fighting\", \"Type 2\": \"Steel\", \"Total\": 625, \"HP\": 70, \"Attack\": 145, \"Defense\": 88, \"SpecialA\": 140, \"SpecialD\": 70, \"Speed\": 112, \"Generation\": 4}, {\"#\": 451, \"Name\": \"Skorupi\", \"Type 1\": \"Poison\", \"Type 2\": \"Bug\", \"Total\": 330, \"HP\": 40, \"Attack\": 50, \"Defense\": 90, \"SpecialA\": 30, \"SpecialD\": 55, \"Speed\": 65, \"Generation\": 4}, {\"#\": 452, \"Name\": \"Drapion\", \"Type 1\": \"Poison\", \"Type 2\": \"Dark\", \"Total\": 500, \"HP\": 70, \"Attack\": 90, \"Defense\": 110, \"SpecialA\": 60, \"SpecialD\": 75, \"Speed\": 95, \"Generation\": 4}, {\"#\": 453, \"Name\": \"Croagunk\", \"Type 1\": \"Poison\", \"Type 2\": \"Fighting\", \"Total\": 300, \"HP\": 48, \"Attack\": 61, \"Defense\": 40, \"SpecialA\": 61, \"SpecialD\": 40, \"Speed\": 50, \"Generation\": 4}, {\"#\": 454, \"Name\": \"Toxicroak\", \"Type 1\": \"Poison\", \"Type 2\": \"Fighting\", \"Total\": 490, \"HP\": 83, \"Attack\": 106, \"Defense\": 65, \"SpecialA\": 86, \"SpecialD\": 65, \"Speed\": 85, \"Generation\": 4}, {\"#\": 458, \"Name\": \"Mantyke\", \"Type 1\": \"Water\", \"Type 2\": \"Flying\", \"Total\": 345, \"HP\": 45, \"Attack\": 20, \"Defense\": 50, \"SpecialA\": 60, \"SpecialD\": 120, \"Speed\": 50, \"Generation\": 4}, {\"#\": 459, \"Name\": \"Snover\", \"Type 1\": \"Grass\", \"Type 2\": \"Ice\", \"Total\": 334, \"HP\": 60, \"Attack\": 62, \"Defense\": 50, \"SpecialA\": 62, \"SpecialD\": 60, \"Speed\": 40, \"Generation\": 4}, {\"#\": 460, \"Name\": \"Abomasnow\", \"Type 1\": \"Grass\", \"Type 2\": \"Ice\", \"Total\": 494, \"HP\": 90, \"Attack\": 92, \"Defense\": 75, \"SpecialA\": 92, \"SpecialD\": 85, \"Speed\": 60, \"Generation\": 4}, {\"#\": 460, \"Name\": \"AbomasnowMega Abomasnow\", \"Type 1\": \"Grass\", \"Type 2\": \"Ice\", \"Total\": 594, \"HP\": 90, \"Attack\": 132, \"Defense\": 105, \"SpecialA\": 132, \"SpecialD\": 105, \"Speed\": 30, \"Generation\": 4}, {\"#\": 461, \"Name\": \"Weavile\", \"Type 1\": \"Dark\", \"Type 2\": \"Ice\", \"Total\": 510, \"HP\": 70, \"Attack\": 120, \"Defense\": 65, \"SpecialA\": 45, \"SpecialD\": 85, \"Speed\": 125, \"Generation\": 4}, {\"#\": 462, \"Name\": \"Magnezone\", \"Type 1\": \"Electric\", \"Type 2\": \"Steel\", \"Total\": 535, \"HP\": 70, \"Attack\": 70, \"Defense\": 115, \"SpecialA\": 130, \"SpecialD\": 90, \"Speed\": 60, \"Generation\": 4}, {\"#\": 464, \"Name\": \"Rhyperior\", \"Type 1\": \"Ground\", \"Type 2\": \"Rock\", \"Total\": 535, \"HP\": 115, \"Attack\": 140, \"Defense\": 130, \"SpecialA\": 55, \"SpecialD\": 55, \"Speed\": 40, \"Generation\": 4}, {\"#\": 468, \"Name\": \"Togekiss\", \"Type 1\": \"Fairy\", \"Type 2\": \"Flying\", \"Total\": 545, \"HP\": 85, \"Attack\": 50, \"Defense\": 95, \"SpecialA\": 120, \"SpecialD\": 115, \"Speed\": 80, \"Generation\": 4}, {\"#\": 469, \"Name\": \"Yanmega\", \"Type 1\": \"Bug\", \"Type 2\": \"Flying\", \"Total\": 515, \"HP\": 86, \"Attack\": 76, \"Defense\": 86, \"SpecialA\": 116, \"SpecialD\": 56, \"Speed\": 95, \"Generation\": 4}, {\"#\": 472, \"Name\": \"Gliscor\", \"Type 1\": \"Ground\", \"Type 2\": \"Flying\", \"Total\": 510, \"HP\": 75, \"Attack\": 95, \"Defense\": 125, \"SpecialA\": 45, \"SpecialD\": 75, \"Speed\": 95, \"Generation\": 4}, {\"#\": 473, \"Name\": \"Mamoswine\", \"Type 1\": \"Ice\", \"Type 2\": \"Ground\", \"Total\": 530, \"HP\": 110, \"Attack\": 130, \"Defense\": 80, \"SpecialA\": 70, \"SpecialD\": 60, \"Speed\": 80, \"Generation\": 4}, {\"#\": 475, \"Name\": \"Gallade\", \"Type 1\": \"Psychic\", \"Type 2\": \"Fighting\", \"Total\": 518, \"HP\": 68, \"Attack\": 125, \"Defense\": 65, \"SpecialA\": 65, \"SpecialD\": 115, \"Speed\": 80, \"Generation\": 4}, {\"#\": 475, \"Name\": \"GalladeMega Gallade\", \"Type 1\": \"Psychic\", \"Type 2\": \"Fighting\", \"Total\": 618, \"HP\": 68, \"Attack\": 165, \"Defense\": 95, \"SpecialA\": 65, \"SpecialD\": 115, \"Speed\": 110, \"Generation\": 4}, {\"#\": 476, \"Name\": \"Probopass\", \"Type 1\": \"Rock\", \"Type 2\": \"Steel\", \"Total\": 525, \"HP\": 60, \"Attack\": 55, \"Defense\": 145, \"SpecialA\": 75, \"SpecialD\": 150, \"Speed\": 40, \"Generation\": 4}, {\"#\": 478, \"Name\": \"Froslass\", \"Type 1\": \"Ice\", \"Type 2\": \"Ghost\", \"Total\": 480, \"HP\": 70, \"Attack\": 80, \"Defense\": 70, \"SpecialA\": 80, \"SpecialD\": 70, \"Speed\": 110, \"Generation\": 4}, {\"#\": 479, \"Name\": \"Rotom\", \"Type 1\": \"Electric\", \"Type 2\": \"Ghost\", \"Total\": 440, \"HP\": 50, \"Attack\": 50, \"Defense\": 77, \"SpecialA\": 95, \"SpecialD\": 77, \"Speed\": 91, \"Generation\": 4}, {\"#\": 479, \"Name\": \"RotomHeat Rotom\", \"Type 1\": \"Electric\", \"Type 2\": \"Fire\", \"Total\": 520, \"HP\": 50, \"Attack\": 65, \"Defense\": 107, \"SpecialA\": 105, \"SpecialD\": 107, \"Speed\": 86, \"Generation\": 4}, {\"#\": 479, \"Name\": \"RotomWash Rotom\", \"Type 1\": \"Electric\", \"Type 2\": \"Water\", \"Total\": 520, \"HP\": 50, \"Attack\": 65, \"Defense\": 107, \"SpecialA\": 105, \"SpecialD\": 107, \"Speed\": 86, \"Generation\": 4}, {\"#\": 479, \"Name\": \"RotomFrost Rotom\", \"Type 1\": \"Electric\", \"Type 2\": \"Ice\", \"Total\": 520, \"HP\": 50, \"Attack\": 65, \"Defense\": 107, \"SpecialA\": 105, \"SpecialD\": 107, \"Speed\": 86, \"Generation\": 4}, {\"#\": 479, \"Name\": \"RotomFan Rotom\", \"Type 1\": \"Electric\", \"Type 2\": \"Flying\", \"Total\": 520, \"HP\": 50, \"Attack\": 65, \"Defense\": 107, \"SpecialA\": 105, \"SpecialD\": 107, \"Speed\": 86, \"Generation\": 4}, {\"#\": 479, \"Name\": \"RotomMow Rotom\", \"Type 1\": \"Electric\", \"Type 2\": \"Grass\", \"Total\": 520, \"HP\": 50, \"Attack\": 65, \"Defense\": 107, \"SpecialA\": 105, \"SpecialD\": 107, \"Speed\": 86, \"Generation\": 4}, {\"#\": 499, \"Name\": \"Pignite\", \"Type 1\": \"Fire\", \"Type 2\": \"Fighting\", \"Total\": 418, \"HP\": 90, \"Attack\": 93, \"Defense\": 55, \"SpecialA\": 70, \"SpecialD\": 55, \"Speed\": 55, \"Generation\": 5}, {\"#\": 500, \"Name\": \"Emboar\", \"Type 1\": \"Fire\", \"Type 2\": \"Fighting\", \"Total\": 528, \"HP\": 110, \"Attack\": 123, \"Defense\": 65, \"SpecialA\": 100, \"SpecialD\": 65, \"Speed\": 65, \"Generation\": 5}, {\"#\": 519, \"Name\": \"Pidove\", \"Type 1\": \"Normal\", \"Type 2\": \"Flying\", \"Total\": 264, \"HP\": 50, \"Attack\": 55, \"Defense\": 50, \"SpecialA\": 36, \"SpecialD\": 30, \"Speed\": 43, \"Generation\": 5}, {\"#\": 520, \"Name\": \"Tranquill\", \"Type 1\": \"Normal\", \"Type 2\": \"Flying\", \"Total\": 358, \"HP\": 62, \"Attack\": 77, \"Defense\": 62, \"SpecialA\": 50, \"SpecialD\": 42, \"Speed\": 65, \"Generation\": 5}, {\"#\": 521, \"Name\": \"Unfezant\", \"Type 1\": \"Normal\", \"Type 2\": \"Flying\", \"Total\": 488, \"HP\": 80, \"Attack\": 115, \"Defense\": 80, \"SpecialA\": 65, \"SpecialD\": 55, \"Speed\": 93, \"Generation\": 5}, {\"#\": 527, \"Name\": \"Woobat\", \"Type 1\": \"Psychic\", \"Type 2\": \"Flying\", \"Total\": 313, \"HP\": 55, \"Attack\": 45, \"Defense\": 43, \"SpecialA\": 55, \"SpecialD\": 43, \"Speed\": 72, \"Generation\": 5}, {\"#\": 528, \"Name\": \"Swoobat\", \"Type 1\": \"Psychic\", \"Type 2\": \"Flying\", \"Total\": 425, \"HP\": 67, \"Attack\": 57, \"Defense\": 55, \"SpecialA\": 77, \"SpecialD\": 55, \"Speed\": 114, \"Generation\": 5}, {\"#\": 530, \"Name\": \"Excadrill\", \"Type 1\": \"Ground\", \"Type 2\": \"Steel\", \"Total\": 508, \"HP\": 110, \"Attack\": 135, \"Defense\": 60, \"SpecialA\": 50, \"SpecialD\": 65, \"Speed\": 88, \"Generation\": 5}, {\"#\": 531, \"Name\": \"AudinoMega Audino\", \"Type 1\": \"Normal\", \"Type 2\": \"Fairy\", \"Total\": 545, \"HP\": 103, \"Attack\": 60, \"Defense\": 126, \"SpecialA\": 80, \"SpecialD\": 126, \"Speed\": 50, \"Generation\": 5}, {\"#\": 536, \"Name\": \"Palpitoad\", \"Type 1\": \"Water\", \"Type 2\": \"Ground\", \"Total\": 384, \"HP\": 75, \"Attack\": 65, \"Defense\": 55, \"SpecialA\": 65, \"SpecialD\": 55, \"Speed\": 69, \"Generation\": 5}, {\"#\": 537, \"Name\": \"Seismitoad\", \"Type 1\": \"Water\", \"Type 2\": \"Ground\", \"Total\": 509, \"HP\": 105, \"Attack\": 95, \"Defense\": 75, \"SpecialA\": 85, \"SpecialD\": 75, \"Speed\": 74, \"Generation\": 5}, {\"#\": 540, \"Name\": \"Sewaddle\", \"Type 1\": \"Bug\", \"Type 2\": \"Grass\", \"Total\": 310, \"HP\": 45, \"Attack\": 53, \"Defense\": 70, \"SpecialA\": 40, \"SpecialD\": 60, \"Speed\": 42, \"Generation\": 5}, {\"#\": 541, \"Name\": \"Swadloon\", \"Type 1\": \"Bug\", \"Type 2\": \"Grass\", \"Total\": 380, \"HP\": 55, \"Attack\": 63, \"Defense\": 90, \"SpecialA\": 50, \"SpecialD\": 80, \"Speed\": 42, \"Generation\": 5}, {\"#\": 542, \"Name\": \"Leavanny\", \"Type 1\": \"Bug\", \"Type 2\": \"Grass\", \"Total\": 500, \"HP\": 75, \"Attack\": 103, \"Defense\": 80, \"SpecialA\": 70, \"SpecialD\": 80, \"Speed\": 92, \"Generation\": 5}, {\"#\": 543, \"Name\": \"Venipede\", \"Type 1\": \"Bug\", \"Type 2\": \"Poison\", \"Total\": 260, \"HP\": 30, \"Attack\": 45, \"Defense\": 59, \"SpecialA\": 30, \"SpecialD\": 39, \"Speed\": 57, \"Generation\": 5}, {\"#\": 544, \"Name\": \"Whirlipede\", \"Type 1\": \"Bug\", \"Type 2\": \"Poison\", \"Total\": 360, \"HP\": 40, \"Attack\": 55, \"Defense\": 99, \"SpecialA\": 40, \"SpecialD\": 79, \"Speed\": 47, \"Generation\": 5}, {\"#\": 545, \"Name\": \"Scolipede\", \"Type 1\": \"Bug\", \"Type 2\": \"Poison\", \"Total\": 485, \"HP\": 60, \"Attack\": 100, \"Defense\": 89, \"SpecialA\": 55, \"SpecialD\": 69, \"Speed\": 112, \"Generation\": 5}, {\"#\": 546, \"Name\": \"Cottonee\", \"Type 1\": \"Grass\", \"Type 2\": \"Fairy\", \"Total\": 280, \"HP\": 40, \"Attack\": 27, \"Defense\": 60, \"SpecialA\": 37, \"SpecialD\": 50, \"Speed\": 66, \"Generation\": 5}, {\"#\": 547, \"Name\": \"Whimsicott\", \"Type 1\": \"Grass\", \"Type 2\": \"Fairy\", \"Total\": 480, \"HP\": 60, \"Attack\": 67, \"Defense\": 85, \"SpecialA\": 77, \"SpecialD\": 75, \"Speed\": 116, \"Generation\": 5}, {\"#\": 551, \"Name\": \"Sandile\", \"Type 1\": \"Ground\", \"Type 2\": \"Dark\", \"Total\": 292, \"HP\": 50, \"Attack\": 72, \"Defense\": 35, \"SpecialA\": 35, \"SpecialD\": 35, \"Speed\": 65, \"Generation\": 5}, {\"#\": 552, \"Name\": \"Krokorok\", \"Type 1\": \"Ground\", \"Type 2\": \"Dark\", \"Total\": 351, \"HP\": 60, \"Attack\": 82, \"Defense\": 45, \"SpecialA\": 45, \"SpecialD\": 45, \"Speed\": 74, \"Generation\": 5}, {\"#\": 553, \"Name\": \"Krookodile\", \"Type 1\": \"Ground\", \"Type 2\": \"Dark\", \"Total\": 519, \"HP\": 95, \"Attack\": 117, \"Defense\": 80, \"SpecialA\": 65, \"SpecialD\": 70, \"Speed\": 92, \"Generation\": 5}, {\"#\": 555, \"Name\": \"DarmanitanZen Mode\", \"Type 1\": \"Fire\", \"Type 2\": \"Psychic\", \"Total\": 540, \"HP\": 105, \"Attack\": 30, \"Defense\": 105, \"SpecialA\": 140, \"SpecialD\": 105, \"Speed\": 55, \"Generation\": 5}, {\"#\": 557, \"Name\": \"Dwebble\", \"Type 1\": \"Bug\", \"Type 2\": \"Rock\", \"Total\": 325, \"HP\": 50, \"Attack\": 65, \"Defense\": 85, \"SpecialA\": 35, \"SpecialD\": 35, \"Speed\": 55, \"Generation\": 5}, {\"#\": 558, \"Name\": \"Crustle\", \"Type 1\": \"Bug\", \"Type 2\": \"Rock\", \"Total\": 475, \"HP\": 70, \"Attack\": 95, \"Defense\": 125, \"SpecialA\": 65, \"SpecialD\": 75, \"Speed\": 45, \"Generation\": 5}, {\"#\": 559, \"Name\": \"Scraggy\", \"Type 1\": \"Dark\", \"Type 2\": \"Fighting\", \"Total\": 348, \"HP\": 50, \"Attack\": 75, \"Defense\": 70, \"SpecialA\": 35, \"SpecialD\": 70, \"Speed\": 48, \"Generation\": 5}, {\"#\": 560, \"Name\": \"Scrafty\", \"Type 1\": \"Dark\", \"Type 2\": \"Fighting\", \"Total\": 488, \"HP\": 65, \"Attack\": 90, \"Defense\": 115, \"SpecialA\": 45, \"SpecialD\": 115, \"Speed\": 58, \"Generation\": 5}, {\"#\": 561, \"Name\": \"Sigilyph\", \"Type 1\": \"Psychic\", \"Type 2\": \"Flying\", \"Total\": 490, \"HP\": 72, \"Attack\": 58, \"Defense\": 80, \"SpecialA\": 103, \"SpecialD\": 80, \"Speed\": 97, \"Generation\": 5}, {\"#\": 564, \"Name\": \"Tirtouga\", \"Type 1\": \"Water\", \"Type 2\": \"Rock\", \"Total\": 355, \"HP\": 54, \"Attack\": 78, \"Defense\": 103, \"SpecialA\": 53, \"SpecialD\": 45, \"Speed\": 22, \"Generation\": 5}, {\"#\": 565, \"Name\": \"Carracosta\", \"Type 1\": \"Water\", \"Type 2\": \"Rock\", \"Total\": 495, \"HP\": 74, \"Attack\": 108, \"Defense\": 133, \"SpecialA\": 83, \"SpecialD\": 65, \"Speed\": 32, \"Generation\": 5}, {\"#\": 566, \"Name\": \"Archen\", \"Type 1\": \"Rock\", \"Type 2\": \"Flying\", \"Total\": 401, \"HP\": 55, \"Attack\": 112, \"Defense\": 45, \"SpecialA\": 74, \"SpecialD\": 45, \"Speed\": 70, \"Generation\": 5}, {\"#\": 567, \"Name\": \"Archeops\", \"Type 1\": \"Rock\", \"Type 2\": \"Flying\", \"Total\": 567, \"HP\": 75, \"Attack\": 140, \"Defense\": 65, \"SpecialA\": 112, \"SpecialD\": 65, \"Speed\": 110, \"Generation\": 5}, {\"#\": 580, \"Name\": \"Ducklett\", \"Type 1\": \"Water\", \"Type 2\": \"Flying\", \"Total\": 305, \"HP\": 62, \"Attack\": 44, \"Defense\": 50, \"SpecialA\": 44, \"SpecialD\": 50, \"Speed\": 55, \"Generation\": 5}, {\"#\": 581, \"Name\": \"Swanna\", \"Type 1\": \"Water\", \"Type 2\": \"Flying\", \"Total\": 473, \"HP\": 75, \"Attack\": 87, \"Defense\": 63, \"SpecialA\": 87, \"SpecialD\": 63, \"Speed\": 98, \"Generation\": 5}, {\"#\": 585, \"Name\": \"Deerling\", \"Type 1\": \"Normal\", \"Type 2\": \"Grass\", \"Total\": 335, \"HP\": 60, \"Attack\": 60, \"Defense\": 50, \"SpecialA\": 40, \"SpecialD\": 50, \"Speed\": 75, \"Generation\": 5}, {\"#\": 586, \"Name\": \"Sawsbuck\", \"Type 1\": \"Normal\", \"Type 2\": \"Grass\", \"Total\": 475, \"HP\": 80, \"Attack\": 100, \"Defense\": 70, \"SpecialA\": 60, \"SpecialD\": 70, \"Speed\": 95, \"Generation\": 5}, {\"#\": 587, \"Name\": \"Emolga\", \"Type 1\": \"Electric\", \"Type 2\": \"Flying\", \"Total\": 428, \"HP\": 55, \"Attack\": 75, \"Defense\": 60, \"SpecialA\": 75, \"SpecialD\": 60, \"Speed\": 103, \"Generation\": 5}, {\"#\": 589, \"Name\": \"Escavalier\", \"Type 1\": \"Bug\", \"Type 2\": \"Steel\", \"Total\": 495, \"HP\": 70, \"Attack\": 135, \"Defense\": 105, \"SpecialA\": 60, \"SpecialD\": 105, \"Speed\": 20, \"Generation\": 5}, {\"#\": 590, \"Name\": \"Foongus\", \"Type 1\": \"Grass\", \"Type 2\": \"Poison\", \"Total\": 294, \"HP\": 69, \"Attack\": 55, \"Defense\": 45, \"SpecialA\": 55, \"SpecialD\": 55, \"Speed\": 15, \"Generation\": 5}, {\"#\": 591, \"Name\": \"Amoonguss\", \"Type 1\": \"Grass\", \"Type 2\": \"Poison\", \"Total\": 464, \"HP\": 114, \"Attack\": 85, \"Defense\": 70, \"SpecialA\": 85, \"SpecialD\": 80, \"Speed\": 30, \"Generation\": 5}, {\"#\": 592, \"Name\": \"Frillish\", \"Type 1\": \"Water\", \"Type 2\": \"Ghost\", \"Total\": 335, \"HP\": 55, \"Attack\": 40, \"Defense\": 50, \"SpecialA\": 65, \"SpecialD\": 85, \"Speed\": 40, \"Generation\": 5}, {\"#\": 593, \"Name\": \"Jellicent\", \"Type 1\": \"Water\", \"Type 2\": \"Ghost\", \"Total\": 480, \"HP\": 100, \"Attack\": 60, \"Defense\": 70, \"SpecialA\": 85, \"SpecialD\": 105, \"Speed\": 60, \"Generation\": 5}, {\"#\": 595, \"Name\": \"Joltik\", \"Type 1\": \"Bug\", \"Type 2\": \"Electric\", \"Total\": 319, \"HP\": 50, \"Attack\": 47, \"Defense\": 50, \"SpecialA\": 57, \"SpecialD\": 50, \"Speed\": 65, \"Generation\": 5}, {\"#\": 596, \"Name\": \"Galvantula\", \"Type 1\": \"Bug\", \"Type 2\": \"Electric\", \"Total\": 472, \"HP\": 70, \"Attack\": 77, \"Defense\": 60, \"SpecialA\": 97, \"SpecialD\": 60, \"Speed\": 108, \"Generation\": 5}, {\"#\": 597, \"Name\": \"Ferroseed\", \"Type 1\": \"Grass\", \"Type 2\": \"Steel\", \"Total\": 305, \"HP\": 44, \"Attack\": 50, \"Defense\": 91, \"SpecialA\": 24, \"SpecialD\": 86, \"Speed\": 10, \"Generation\": 5}, {\"#\": 598, \"Name\": \"Ferrothorn\", \"Type 1\": \"Grass\", \"Type 2\": \"Steel\", \"Total\": 489, \"HP\": 74, \"Attack\": 94, \"Defense\": 131, \"SpecialA\": 54, \"SpecialD\": 116, \"Speed\": 20, \"Generation\": 5}, {\"#\": 607, \"Name\": \"Litwick\", \"Type 1\": \"Ghost\", \"Type 2\": \"Fire\", \"Total\": 275, \"HP\": 50, \"Attack\": 30, \"Defense\": 55, \"SpecialA\": 65, \"SpecialD\": 55, \"Speed\": 20, \"Generation\": 5}, {\"#\": 608, \"Name\": \"Lampent\", \"Type 1\": \"Ghost\", \"Type 2\": \"Fire\", \"Total\": 370, \"HP\": 60, \"Attack\": 40, \"Defense\": 60, \"SpecialA\": 95, \"SpecialD\": 60, \"Speed\": 55, \"Generation\": 5}, {\"#\": 609, \"Name\": \"Chandelure\", \"Type 1\": \"Ghost\", \"Type 2\": \"Fire\", \"Total\": 520, \"HP\": 60, \"Attack\": 55, \"Defense\": 90, \"SpecialA\": 145, \"SpecialD\": 90, \"Speed\": 80, \"Generation\": 5}, {\"#\": 618, \"Name\": \"Stunfisk\", \"Type 1\": \"Ground\", \"Type 2\": \"Electric\", \"Total\": 471, \"HP\": 109, \"Attack\": 66, \"Defense\": 84, \"SpecialA\": 81, \"SpecialD\": 99, \"Speed\": 32, \"Generation\": 5}, {\"#\": 622, \"Name\": \"Golett\", \"Type 1\": \"Ground\", \"Type 2\": \"Ghost\", \"Total\": 303, \"HP\": 59, \"Attack\": 74, \"Defense\": 50, \"SpecialA\": 35, \"SpecialD\": 50, \"Speed\": 35, \"Generation\": 5}, {\"#\": 623, \"Name\": \"Golurk\", \"Type 1\": \"Ground\", \"Type 2\": \"Ghost\", \"Total\": 483, \"HP\": 89, \"Attack\": 124, \"Defense\": 80, \"SpecialA\": 55, \"SpecialD\": 80, \"Speed\": 55, \"Generation\": 5}, {\"#\": 624, \"Name\": \"Pawniard\", \"Type 1\": \"Dark\", \"Type 2\": \"Steel\", \"Total\": 340, \"HP\": 45, \"Attack\": 85, \"Defense\": 70, \"SpecialA\": 40, \"SpecialD\": 40, \"Speed\": 60, \"Generation\": 5}, {\"#\": 625, \"Name\": \"Bisharp\", \"Type 1\": \"Dark\", \"Type 2\": \"Steel\", \"Total\": 490, \"HP\": 65, \"Attack\": 125, \"Defense\": 100, \"SpecialA\": 60, \"SpecialD\": 70, \"Speed\": 70, \"Generation\": 5}, {\"#\": 627, \"Name\": \"Rufflet\", \"Type 1\": \"Normal\", \"Type 2\": \"Flying\", \"Total\": 350, \"HP\": 70, \"Attack\": 83, \"Defense\": 50, \"SpecialA\": 37, \"SpecialD\": 50, \"Speed\": 60, \"Generation\": 5}, {\"#\": 628, \"Name\": \"Braviary\", \"Type 1\": \"Normal\", \"Type 2\": \"Flying\", \"Total\": 510, \"HP\": 100, \"Attack\": 123, \"Defense\": 75, \"SpecialA\": 57, \"SpecialD\": 75, \"Speed\": 80, \"Generation\": 5}, {\"#\": 629, \"Name\": \"Vullaby\", \"Type 1\": \"Dark\", \"Type 2\": \"Flying\", \"Total\": 370, \"HP\": 70, \"Attack\": 55, \"Defense\": 75, \"SpecialA\": 45, \"SpecialD\": 65, \"Speed\": 60, \"Generation\": 5}, {\"#\": 630, \"Name\": \"Mandibuzz\", \"Type 1\": \"Dark\", \"Type 2\": \"Flying\", \"Total\": 510, \"HP\": 110, \"Attack\": 65, \"Defense\": 105, \"SpecialA\": 55, \"SpecialD\": 95, \"Speed\": 80, \"Generation\": 5}, {\"#\": 632, \"Name\": \"Durant\", \"Type 1\": \"Bug\", \"Type 2\": \"Steel\", \"Total\": 484, \"HP\": 58, \"Attack\": 109, \"Defense\": 112, \"SpecialA\": 48, \"SpecialD\": 48, \"Speed\": 109, \"Generation\": 5}, {\"#\": 633, \"Name\": \"Deino\", \"Type 1\": \"Dark\", \"Type 2\": \"Dragon\", \"Total\": 300, \"HP\": 52, \"Attack\": 65, \"Defense\": 50, \"SpecialA\": 45, \"SpecialD\": 50, \"Speed\": 38, \"Generation\": 5}, {\"#\": 634, \"Name\": \"Zweilous\", \"Type 1\": \"Dark\", \"Type 2\": \"Dragon\", \"Total\": 420, \"HP\": 72, \"Attack\": 85, \"Defense\": 70, \"SpecialA\": 65, \"SpecialD\": 70, \"Speed\": 58, \"Generation\": 5}, {\"#\": 635, \"Name\": \"Hydreigon\", \"Type 1\": \"Dark\", \"Type 2\": \"Dragon\", \"Total\": 600, \"HP\": 92, \"Attack\": 105, \"Defense\": 90, \"SpecialA\": 125, \"SpecialD\": 90, \"Speed\": 98, \"Generation\": 5}, {\"#\": 636, \"Name\": \"Larvesta\", \"Type 1\": \"Bug\", \"Type 2\": \"Fire\", \"Total\": 360, \"HP\": 55, \"Attack\": 85, \"Defense\": 55, \"SpecialA\": 50, \"SpecialD\": 55, \"Speed\": 60, \"Generation\": 5}, {\"#\": 637, \"Name\": \"Volcarona\", \"Type 1\": \"Bug\", \"Type 2\": \"Fire\", \"Total\": 550, \"HP\": 85, \"Attack\": 60, \"Defense\": 65, \"SpecialA\": 135, \"SpecialD\": 105, \"Speed\": 100, \"Generation\": 5}, {\"#\": 647, \"Name\": \"KeldeoOrdinary Forme\", \"Type 1\": \"Water\", \"Type 2\": \"Fighting\", \"Total\": 580, \"HP\": 91, \"Attack\": 72, \"Defense\": 90, \"SpecialA\": 129, \"SpecialD\": 90, \"Speed\": 108, \"Generation\": 5}, {\"#\": 647, \"Name\": \"KeldeoResolute Forme\", \"Type 1\": \"Water\", \"Type 2\": \"Fighting\", \"Total\": 580, \"HP\": 91, \"Attack\": 72, \"Defense\": 90, \"SpecialA\": 129, \"SpecialD\": 90, \"Speed\": 108, \"Generation\": 5}, {\"#\": 648, \"Name\": \"MeloettaAria Forme\", \"Type 1\": \"Normal\", \"Type 2\": \"Psychic\", \"Total\": 600, \"HP\": 100, \"Attack\": 77, \"Defense\": 77, \"SpecialA\": 128, \"SpecialD\": 128, \"Speed\": 90, \"Generation\": 5}, {\"#\": 648, \"Name\": \"MeloettaPirouette Forme\", \"Type 1\": \"Normal\", \"Type 2\": \"Fighting\", \"Total\": 600, \"HP\": 100, \"Attack\": 128, \"Defense\": 90, \"SpecialA\": 77, \"SpecialD\": 77, \"Speed\": 128, \"Generation\": 5}, {\"#\": 649, \"Name\": \"Genesect\", \"Type 1\": \"Bug\", \"Type 2\": \"Steel\", \"Total\": 600, \"HP\": 71, \"Attack\": 120, \"Defense\": 95, \"SpecialA\": 120, \"SpecialD\": 95, \"Speed\": 99, \"Generation\": 5}, {\"#\": 652, \"Name\": \"Chesnaught\", \"Type 1\": \"Grass\", \"Type 2\": \"Fighting\", \"Total\": 530, \"HP\": 88, \"Attack\": 107, \"Defense\": 122, \"SpecialA\": 74, \"SpecialD\": 75, \"Speed\": 64, \"Generation\": 6}, {\"#\": 655, \"Name\": \"Delphox\", \"Type 1\": \"Fire\", \"Type 2\": \"Psychic\", \"Total\": 534, \"HP\": 75, \"Attack\": 69, \"Defense\": 72, \"SpecialA\": 114, \"SpecialD\": 100, \"Speed\": 104, \"Generation\": 6}, {\"#\": 658, \"Name\": \"Greninja\", \"Type 1\": \"Water\", \"Type 2\": \"Dark\", \"Total\": 530, \"HP\": 72, \"Attack\": 95, \"Defense\": 67, \"SpecialA\": 103, \"SpecialD\": 71, \"Speed\": 122, \"Generation\": 6}, {\"#\": 660, \"Name\": \"Diggersby\", \"Type 1\": \"Normal\", \"Type 2\": \"Ground\", \"Total\": 423, \"HP\": 85, \"Attack\": 56, \"Defense\": 77, \"SpecialA\": 50, \"SpecialD\": 77, \"Speed\": 78, \"Generation\": 6}, {\"#\": 661, \"Name\": \"Fletchling\", \"Type 1\": \"Normal\", \"Type 2\": \"Flying\", \"Total\": 278, \"HP\": 45, \"Attack\": 50, \"Defense\": 43, \"SpecialA\": 40, \"SpecialD\": 38, \"Speed\": 62, \"Generation\": 6}, {\"#\": 662, \"Name\": \"Fletchinder\", \"Type 1\": \"Fire\", \"Type 2\": \"Flying\", \"Total\": 382, \"HP\": 62, \"Attack\": 73, \"Defense\": 55, \"SpecialA\": 56, \"SpecialD\": 52, \"Speed\": 84, \"Generation\": 6}, {\"#\": 663, \"Name\": \"Talonflame\", \"Type 1\": \"Fire\", \"Type 2\": \"Flying\", \"Total\": 499, \"HP\": 78, \"Attack\": 81, \"Defense\": 71, \"SpecialA\": 74, \"SpecialD\": 69, \"Speed\": 126, \"Generation\": 6}, {\"#\": 666, \"Name\": \"Vivillon\", \"Type 1\": \"Bug\", \"Type 2\": \"Flying\", \"Total\": 411, \"HP\": 80, \"Attack\": 52, \"Defense\": 50, \"SpecialA\": 90, \"SpecialD\": 50, \"Speed\": 89, \"Generation\": 6}, {\"#\": 667, \"Name\": \"Litleo\", \"Type 1\": \"Fire\", \"Type 2\": \"Normal\", \"Total\": 369, \"HP\": 62, \"Attack\": 50, \"Defense\": 58, \"SpecialA\": 73, \"SpecialD\": 54, \"Speed\": 72, \"Generation\": 6}, {\"#\": 668, \"Name\": \"Pyroar\", \"Type 1\": \"Fire\", \"Type 2\": \"Normal\", \"Total\": 507, \"HP\": 86, \"Attack\": 68, \"Defense\": 72, \"SpecialA\": 109, \"SpecialD\": 66, \"Speed\": 106, \"Generation\": 6}, {\"#\": 675, \"Name\": \"Pangoro\", \"Type 1\": \"Fighting\", \"Type 2\": \"Dark\", \"Total\": 495, \"HP\": 95, \"Attack\": 124, \"Defense\": 78, \"SpecialA\": 69, \"SpecialD\": 71, \"Speed\": 58, \"Generation\": 6}, {\"#\": 679, \"Name\": \"Honedge\", \"Type 1\": \"Steel\", \"Type 2\": \"Ghost\", \"Total\": 325, \"HP\": 45, \"Attack\": 80, \"Defense\": 100, \"SpecialA\": 35, \"SpecialD\": 37, \"Speed\": 28, \"Generation\": 6}, {\"#\": 680, \"Name\": \"Doublade\", \"Type 1\": \"Steel\", \"Type 2\": \"Ghost\", \"Total\": 448, \"HP\": 59, \"Attack\": 110, \"Defense\": 150, \"SpecialA\": 45, \"SpecialD\": 49, \"Speed\": 35, \"Generation\": 6}, {\"#\": 681, \"Name\": \"AegislashBlade Forme\", \"Type 1\": \"Steel\", \"Type 2\": \"Ghost\", \"Total\": 520, \"HP\": 60, \"Attack\": 150, \"Defense\": 50, \"SpecialA\": 150, \"SpecialD\": 50, \"Speed\": 60, \"Generation\": 6}, {\"#\": 681, \"Name\": \"AegislashShield Forme\", \"Type 1\": \"Steel\", \"Type 2\": \"Ghost\", \"Total\": 520, \"HP\": 60, \"Attack\": 50, \"Defense\": 150, \"SpecialA\": 50, \"SpecialD\": 150, \"Speed\": 60, \"Generation\": 6}, {\"#\": 686, \"Name\": \"Inkay\", \"Type 1\": \"Dark\", \"Type 2\": \"Psychic\", \"Total\": 288, \"HP\": 53, \"Attack\": 54, \"Defense\": 53, \"SpecialA\": 37, \"SpecialD\": 46, \"Speed\": 45, \"Generation\": 6}, {\"#\": 687, \"Name\": \"Malamar\", \"Type 1\": \"Dark\", \"Type 2\": \"Psychic\", \"Total\": 482, \"HP\": 86, \"Attack\": 92, \"Defense\": 88, \"SpecialA\": 68, \"SpecialD\": 75, \"Speed\": 73, \"Generation\": 6}, {\"#\": 688, \"Name\": \"Binacle\", \"Type 1\": \"Rock\", \"Type 2\": \"Water\", \"Total\": 306, \"HP\": 42, \"Attack\": 52, \"Defense\": 67, \"SpecialA\": 39, \"SpecialD\": 56, \"Speed\": 50, \"Generation\": 6}, {\"#\": 689, \"Name\": \"Barbaracle\", \"Type 1\": \"Rock\", \"Type 2\": \"Water\", \"Total\": 500, \"HP\": 72, \"Attack\": 105, \"Defense\": 115, \"SpecialA\": 54, \"SpecialD\": 86, \"Speed\": 68, \"Generation\": 6}, {\"#\": 690, \"Name\": \"Skrelp\", \"Type 1\": \"Poison\", \"Type 2\": \"Water\", \"Total\": 320, \"HP\": 50, \"Attack\": 60, \"Defense\": 60, \"SpecialA\": 60, \"SpecialD\": 60, \"Speed\": 30, \"Generation\": 6}, {\"#\": 691, \"Name\": \"Dragalge\", \"Type 1\": \"Poison\", \"Type 2\": \"Dragon\", \"Total\": 494, \"HP\": 65, \"Attack\": 75, \"Defense\": 90, \"SpecialA\": 97, \"SpecialD\": 123, \"Speed\": 44, \"Generation\": 6}, {\"#\": 694, \"Name\": \"Helioptile\", \"Type 1\": \"Electric\", \"Type 2\": \"Normal\", \"Total\": 289, \"HP\": 44, \"Attack\": 38, \"Defense\": 33, \"SpecialA\": 61, \"SpecialD\": 43, \"Speed\": 70, \"Generation\": 6}, {\"#\": 695, \"Name\": \"Heliolisk\", \"Type 1\": \"Electric\", \"Type 2\": \"Normal\", \"Total\": 481, \"HP\": 62, \"Attack\": 55, \"Defense\": 52, \"SpecialA\": 109, \"SpecialD\": 94, \"Speed\": 109, \"Generation\": 6}, {\"#\": 696, \"Name\": \"Tyrunt\", \"Type 1\": \"Rock\", \"Type 2\": \"Dragon\", \"Total\": 362, \"HP\": 58, \"Attack\": 89, \"Defense\": 77, \"SpecialA\": 45, \"SpecialD\": 45, \"Speed\": 48, \"Generation\": 6}, {\"#\": 697, \"Name\": \"Tyrantrum\", \"Type 1\": \"Rock\", \"Type 2\": \"Dragon\", \"Total\": 521, \"HP\": 82, \"Attack\": 121, \"Defense\": 119, \"SpecialA\": 69, \"SpecialD\": 59, \"Speed\": 71, \"Generation\": 6}, {\"#\": 698, \"Name\": \"Amaura\", \"Type 1\": \"Rock\", \"Type 2\": \"Ice\", \"Total\": 362, \"HP\": 77, \"Attack\": 59, \"Defense\": 50, \"SpecialA\": 67, \"SpecialD\": 63, \"Speed\": 46, \"Generation\": 6}, {\"#\": 699, \"Name\": \"Aurorus\", \"Type 1\": \"Rock\", \"Type 2\": \"Ice\", \"Total\": 521, \"HP\": 123, \"Attack\": 77, \"Defense\": 72, \"SpecialA\": 99, \"SpecialD\": 92, \"Speed\": 58, \"Generation\": 6}, {\"#\": 701, \"Name\": \"Hawlucha\", \"Type 1\": \"Fighting\", \"Type 2\": \"Flying\", \"Total\": 500, \"HP\": 78, \"Attack\": 92, \"Defense\": 75, \"SpecialA\": 74, \"SpecialD\": 63, \"Speed\": 118, \"Generation\": 6}, {\"#\": 702, \"Name\": \"Dedenne\", \"Type 1\": \"Electric\", \"Type 2\": \"Fairy\", \"Total\": 431, \"HP\": 67, \"Attack\": 58, \"Defense\": 57, \"SpecialA\": 81, \"SpecialD\": 67, \"Speed\": 101, \"Generation\": 6}, {\"#\": 703, \"Name\": \"Carbink\", \"Type 1\": \"Rock\", \"Type 2\": \"Fairy\", \"Total\": 500, \"HP\": 50, \"Attack\": 50, \"Defense\": 150, \"SpecialA\": 50, \"SpecialD\": 150, \"Speed\": 50, \"Generation\": 6}, {\"#\": 707, \"Name\": \"Klefki\", \"Type 1\": \"Steel\", \"Type 2\": \"Fairy\", \"Total\": 470, \"HP\": 57, \"Attack\": 80, \"Defense\": 91, \"SpecialA\": 80, \"SpecialD\": 87, \"Speed\": 75, \"Generation\": 6}, {\"#\": 708, \"Name\": \"Phantump\", \"Type 1\": \"Ghost\", \"Type 2\": \"Grass\", \"Total\": 309, \"HP\": 43, \"Attack\": 70, \"Defense\": 48, \"SpecialA\": 50, \"SpecialD\": 60, \"Speed\": 38, \"Generation\": 6}, {\"#\": 709, \"Name\": \"Trevenant\", \"Type 1\": \"Ghost\", \"Type 2\": \"Grass\", \"Total\": 474, \"HP\": 85, \"Attack\": 110, \"Defense\": 76, \"SpecialA\": 65, \"SpecialD\": 82, \"Speed\": 56, \"Generation\": 6}, {\"#\": 710, \"Name\": \"PumpkabooAverage Size\", \"Type 1\": \"Ghost\", \"Type 2\": \"Grass\", \"Total\": 335, \"HP\": 49, \"Attack\": 66, \"Defense\": 70, \"SpecialA\": 44, \"SpecialD\": 55, \"Speed\": 51, \"Generation\": 6}, {\"#\": 710, \"Name\": \"PumpkabooSmall Size\", \"Type 1\": \"Ghost\", \"Type 2\": \"Grass\", \"Total\": 335, \"HP\": 44, \"Attack\": 66, \"Defense\": 70, \"SpecialA\": 44, \"SpecialD\": 55, \"Speed\": 56, \"Generation\": 6}, {\"#\": 710, \"Name\": \"PumpkabooLarge Size\", \"Type 1\": \"Ghost\", \"Type 2\": \"Grass\", \"Total\": 335, \"HP\": 54, \"Attack\": 66, \"Defense\": 70, \"SpecialA\": 44, \"SpecialD\": 55, \"Speed\": 46, \"Generation\": 6}, {\"#\": 710, \"Name\": \"PumpkabooSuper Size\", \"Type 1\": \"Ghost\", \"Type 2\": \"Grass\", \"Total\": 335, \"HP\": 59, \"Attack\": 66, \"Defense\": 70, \"SpecialA\": 44, \"SpecialD\": 55, \"Speed\": 41, \"Generation\": 6}, {\"#\": 711, \"Name\": \"GourgeistAverage Size\", \"Type 1\": \"Ghost\", \"Type 2\": \"Grass\", \"Total\": 494, \"HP\": 65, \"Attack\": 90, \"Defense\": 122, \"SpecialA\": 58, \"SpecialD\": 75, \"Speed\": 84, \"Generation\": 6}, {\"#\": 711, \"Name\": \"GourgeistSmall Size\", \"Type 1\": \"Ghost\", \"Type 2\": \"Grass\", \"Total\": 494, \"HP\": 55, \"Attack\": 85, \"Defense\": 122, \"SpecialA\": 58, \"SpecialD\": 75, \"Speed\": 99, \"Generation\": 6}, {\"#\": 711, \"Name\": \"GourgeistLarge Size\", \"Type 1\": \"Ghost\", \"Type 2\": \"Grass\", \"Total\": 494, \"HP\": 75, \"Attack\": 95, \"Defense\": 122, \"SpecialA\": 58, \"SpecialD\": 75, \"Speed\": 69, \"Generation\": 6}, {\"#\": 711, \"Name\": \"GourgeistSuper Size\", \"Type 1\": \"Ghost\", \"Type 2\": \"Grass\", \"Total\": 494, \"HP\": 85, \"Attack\": 100, \"Defense\": 122, \"SpecialA\": 58, \"SpecialD\": 75, \"Speed\": 54, \"Generation\": 6}, {\"#\": 714, \"Name\": \"Noibat\", \"Type 1\": \"Flying\", \"Type 2\": \"Dragon\", \"Total\": 245, \"HP\": 40, \"Attack\": 30, \"Defense\": 35, \"SpecialA\": 45, \"SpecialD\": 40, \"Speed\": 55, \"Generation\": 6}, {\"#\": 715, \"Name\": \"Noivern\", \"Type 1\": \"Flying\", \"Type 2\": \"Dragon\", \"Total\": 535, \"HP\": 85, \"Attack\": 70, \"Defense\": 80, \"SpecialA\": 97, \"SpecialD\": 80, \"Speed\": 123, \"Generation\": 6}]}}, {\"mode\": \"vega-lite\"});\n</script>",
      "text/plain": "alt.Chart(...)"
     },
     "metadata": {}
    }
   ]
  },
  {
   "cell_type": "code",
   "metadata": {
    "tags": [],
    "cell_id": "e105438ef5694bc7914fdb6788c418cb",
    "source_hash": null,
    "execution_start": 1702174243192,
    "execution_millis": 756,
    "deepnote_to_be_reexecuted": false,
    "deepnote_cell_type": "code"
   },
   "source": [
    "plt.figure(figsize=(6,4))\n",
    "corr=df.iloc[:,5:11].corr().round(3)\n",
    "sns.heatmap(corr,annot=True)\n",
    "sns.set(font_scale=1.0)\n",
    "sns.set_style(\"whitegrid\")"
   ],
   "block_group": "e105438ef5694bc7914fdb6788c418cb",
   "execution_count": null,
   "outputs": [
    {
     "data": {
      "text/plain": "<Figure size 600x400 with 2 Axes>",
      "image/png": "[encoded data removed]"
     },
     "metadata": {
      "image/png": {
       "width": 532,
       "height": 357
      }
     },
     "output_type": "display_data"
    }
   ]
  },
  {
   "cell_type": "code",
   "metadata": {
    "tags": [],
    "cell_id": "d3f19e8f86eb43309d39522a45b7dfdc",
    "source_hash": null,
    "execution_start": 1702174243976,
    "execution_millis": 9,
    "deepnote_to_be_reexecuted": false,
    "deepnote_cell_type": "code"
   },
   "source": [
    "alt.Chart(df).mark_circle().encode(\n",
    "    x=alt.X(\"SpecialA\",scale=alt.Scale(domain=[0, 250])),\n",
    "    y=alt.Y(\"Attack\",scale=alt.Scale(domain=[0, 240])),\n",
    "    color=\"Generation:N\",\n",
    "    tooltip=[\"Name\",\"Attack\",\"SpecialA\"]\n",
    ").properties(\n",
    "    title=\"Attack v.s. Special Attack based on generation\"\n",
    ")"
   ],
   "block_group": "d3f19e8f86eb43309d39522a45b7dfdc",
   "execution_count": null,
   "outputs": [
    {
     "output_type": "execute_result",
     "execution_count": 13,
     "data": {
      "text/html": "\n<div id=\"altair-viz-1cd5186dc5434c8d8b55fc202dcc2eb7\"></div>\n<script type=\"text/javascript\">\n  var VEGA_DEBUG = (typeof VEGA_DEBUG == \"undefined\") ? {} : VEGA_DEBUG;\n  (function(spec, embedOpt){\n    let outputDiv = document.currentScript.previousElementSibling;\n    if (outputDiv.id !== \"altair-viz-1cd5186dc5434c8d8b55fc202dcc2eb7\") {\n      outputDiv = document.getElementById(\"altair-viz-1cd5186dc5434c8d8b55fc202dcc2eb7\");\n    }\n    const paths = {\n      \"vega\": \"https://cdn.jsdelivr.net/npm//vega@5?noext\",\n      \"vega-lib\": \"https://cdn.jsdelivr.net/npm//vega-lib?noext\",\n      \"vega-lite\": \"https://cdn.jsdelivr.net/npm//vega-lite@4.17.0?noext\",\n      \"vega-embed\": \"https://cdn.jsdelivr.net/npm//vega-embed@6?noext\",\n    };\n\n    function maybeLoadScript(lib, version) {\n      var key = `${lib.replace(\"-\", \"\")}_version`;\n      return (VEGA_DEBUG[key] == version) ?\n        Promise.resolve(paths[lib]) :\n        new Promise(function(resolve, reject) {\n          var s = document.createElement('script');\n          document.getElementsByTagName(\"head\")[0].appendChild(s);\n          s.async = true;\n          s.onload = () => {\n            VEGA_DEBUG[key] = version;\n            return resolve(paths[lib]);\n          };\n          s.onerror = () => reject(`Error loading script: ${paths[lib]}`);\n          s.src = paths[lib];\n        });\n    }\n\n    function showError(err) {\n      outputDiv.innerHTML = `<div class=\"error\" style=\"color:red;\">${err}</div>`;\n      throw err;\n    }\n\n    function displayChart(vegaEmbed) {\n      vegaEmbed(outputDiv, spec, embedOpt)\n        .catch(err => showError(`Javascript Error: ${err.message}<br>This usually means there's a typo in your chart specification. See the javascript console for the full traceback.`));\n    }\n\n    if(typeof define === \"function\" && define.amd) {\n      requirejs.config({paths});\n      require([\"vega-embed\"], displayChart, err => showError(`Error loading script: ${err.message}`));\n    } else {\n      maybeLoadScript(\"vega\", \"5\")\n        .then(() => maybeLoadScript(\"vega-lite\", \"4.17.0\"))\n        .then(() => maybeLoadScript(\"vega-embed\", \"6\"))\n        .catch(showError)\n        .then(() => displayChart(vegaEmbed));\n    }\n  })({\"config\": {\"view\": {\"continuousWidth\": 400, \"continuousHeight\": 300}}, \"data\": {\"name\": \"data-8f8f5a820e13a98ac2edffa1fa08f1db\"}, \"mark\": \"circle\", \"encoding\": {\"color\": {\"field\": \"Generation\", \"type\": \"nominal\"}, \"tooltip\": [{\"field\": \"Name\", \"type\": \"nominal\"}, {\"field\": \"Attack\", \"type\": \"quantitative\"}, {\"field\": \"SpecialA\", \"type\": \"quantitative\"}], \"x\": {\"field\": \"SpecialA\", \"scale\": {\"domain\": [0, 250]}, \"type\": \"quantitative\"}, \"y\": {\"field\": \"Attack\", \"scale\": {\"domain\": [0, 240]}, \"type\": \"quantitative\"}}, \"title\": \"Attack v.s. Special Attack based on generation\", \"$schema\": \"https://vega.github.io/schema/vega-lite/v4.17.0.json\", \"datasets\": {\"data-8f8f5a820e13a98ac2edffa1fa08f1db\": [{\"#\": 1, \"Name\": \"Bulbasaur\", \"Type 1\": \"Grass\", \"Type 2\": \"Poison\", \"Total\": 318, \"HP\": 45, \"Attack\": 49, \"Defense\": 49, \"SpecialA\": 65, \"SpecialD\": 65, \"Speed\": 45, \"Generation\": 1}, {\"#\": 2, \"Name\": \"Ivysaur\", \"Type 1\": \"Grass\", \"Type 2\": \"Poison\", \"Total\": 405, \"HP\": 60, \"Attack\": 62, \"Defense\": 63, \"SpecialA\": 80, \"SpecialD\": 80, \"Speed\": 60, \"Generation\": 1}, {\"#\": 3, \"Name\": \"Venusaur\", \"Type 1\": \"Grass\", \"Type 2\": \"Poison\", \"Total\": 525, \"HP\": 80, \"Attack\": 82, \"Defense\": 83, \"SpecialA\": 100, \"SpecialD\": 100, \"Speed\": 80, \"Generation\": 1}, {\"#\": 3, \"Name\": \"VenusaurMega Venusaur\", \"Type 1\": \"Grass\", \"Type 2\": \"Poison\", \"Total\": 625, \"HP\": 80, \"Attack\": 100, \"Defense\": 123, \"SpecialA\": 122, \"SpecialD\": 120, \"Speed\": 80, \"Generation\": 1}, {\"#\": 6, \"Name\": \"Charizard\", \"Type 1\": \"Fire\", \"Type 2\": \"Flying\", \"Total\": 534, \"HP\": 78, \"Attack\": 84, \"Defense\": 78, \"SpecialA\": 109, \"SpecialD\": 85, \"Speed\": 100, \"Generation\": 1}, {\"#\": 6, \"Name\": \"CharizardMega Charizard X\", \"Type 1\": \"Fire\", \"Type 2\": \"Dragon\", \"Total\": 634, \"HP\": 78, \"Attack\": 130, \"Defense\": 111, \"SpecialA\": 130, \"SpecialD\": 85, \"Speed\": 100, \"Generation\": 1}, {\"#\": 6, \"Name\": \"CharizardMega Charizard Y\", \"Type 1\": \"Fire\", \"Type 2\": \"Flying\", \"Total\": 634, \"HP\": 78, \"Attack\": 104, \"Defense\": 78, \"SpecialA\": 159, \"SpecialD\": 115, \"Speed\": 100, \"Generation\": 1}, {\"#\": 12, \"Name\": \"Butterfree\", \"Type 1\": \"Bug\", \"Type 2\": \"Flying\", \"Total\": 395, \"HP\": 60, \"Attack\": 45, \"Defense\": 50, \"SpecialA\": 90, \"SpecialD\": 80, \"Speed\": 70, \"Generation\": 1}, {\"#\": 13, \"Name\": \"Weedle\", \"Type 1\": \"Bug\", \"Type 2\": \"Poison\", \"Total\": 195, \"HP\": 40, \"Attack\": 35, \"Defense\": 30, \"SpecialA\": 20, \"SpecialD\": 20, \"Speed\": 50, \"Generation\": 1}, {\"#\": 14, \"Name\": \"Kakuna\", \"Type 1\": \"Bug\", \"Type 2\": \"Poison\", \"Total\": 205, \"HP\": 45, \"Attack\": 25, \"Defense\": 50, \"SpecialA\": 25, \"SpecialD\": 25, \"Speed\": 35, \"Generation\": 1}, {\"#\": 15, \"Name\": \"Beedrill\", \"Type 1\": \"Bug\", \"Type 2\": \"Poison\", \"Total\": 395, \"HP\": 65, \"Attack\": 90, \"Defense\": 40, \"SpecialA\": 45, \"SpecialD\": 80, \"Speed\": 75, \"Generation\": 1}, {\"#\": 15, \"Name\": \"BeedrillMega Beedrill\", \"Type 1\": \"Bug\", \"Type 2\": \"Poison\", \"Total\": 495, \"HP\": 65, \"Attack\": 150, \"Defense\": 40, \"SpecialA\": 15, \"SpecialD\": 80, \"Speed\": 145, \"Generation\": 1}, {\"#\": 16, \"Name\": \"Pidgey\", \"Type 1\": \"Normal\", \"Type 2\": \"Flying\", \"Total\": 251, \"HP\": 40, \"Attack\": 45, \"Defense\": 40, \"SpecialA\": 35, \"SpecialD\": 35, \"Speed\": 56, \"Generation\": 1}, {\"#\": 17, \"Name\": \"Pidgeotto\", \"Type 1\": \"Normal\", \"Type 2\": \"Flying\", \"Total\": 349, \"HP\": 63, \"Attack\": 60, \"Defense\": 55, \"SpecialA\": 50, \"SpecialD\": 50, \"Speed\": 71, \"Generation\": 1}, {\"#\": 18, \"Name\": \"Pidgeot\", \"Type 1\": \"Normal\", \"Type 2\": \"Flying\", \"Total\": 479, \"HP\": 83, \"Attack\": 80, \"Defense\": 75, \"SpecialA\": 70, \"SpecialD\": 70, \"Speed\": 101, \"Generation\": 1}, {\"#\": 18, \"Name\": \"PidgeotMega Pidgeot\", \"Type 1\": \"Normal\", \"Type 2\": \"Flying\", \"Total\": 579, \"HP\": 83, \"Attack\": 80, \"Defense\": 80, \"SpecialA\": 135, \"SpecialD\": 80, \"Speed\": 121, \"Generation\": 1}, {\"#\": 21, \"Name\": \"Spearow\", \"Type 1\": \"Normal\", \"Type 2\": \"Flying\", \"Total\": 262, \"HP\": 40, \"Attack\": 60, \"Defense\": 30, \"SpecialA\": 31, \"SpecialD\": 31, \"Speed\": 70, \"Generation\": 1}, {\"#\": 22, \"Name\": \"Fearow\", \"Type 1\": \"Normal\", \"Type 2\": \"Flying\", \"Total\": 442, \"HP\": 65, \"Attack\": 90, \"Defense\": 65, \"SpecialA\": 61, \"SpecialD\": 61, \"Speed\": 100, \"Generation\": 1}, {\"#\": 31, \"Name\": \"Nidoqueen\", \"Type 1\": \"Poison\", \"Type 2\": \"Ground\", \"Total\": 505, \"HP\": 90, \"Attack\": 92, \"Defense\": 87, \"SpecialA\": 75, \"SpecialD\": 85, \"Speed\": 76, \"Generation\": 1}, {\"#\": 34, \"Name\": \"Nidoking\", \"Type 1\": \"Poison\", \"Type 2\": \"Ground\", \"Total\": 505, \"HP\": 81, \"Attack\": 102, \"Defense\": 77, \"SpecialA\": 85, \"SpecialD\": 75, \"Speed\": 85, \"Generation\": 1}, {\"#\": 39, \"Name\": \"Jigglypuff\", \"Type 1\": \"Normal\", \"Type 2\": \"Fairy\", \"Total\": 270, \"HP\": 115, \"Attack\": 45, \"Defense\": 20, \"SpecialA\": 45, \"SpecialD\": 25, \"Speed\": 20, \"Generation\": 1}, {\"#\": 40, \"Name\": \"Wigglytuff\", \"Type 1\": \"Normal\", \"Type 2\": \"Fairy\", \"Total\": 435, \"HP\": 140, \"Attack\": 70, \"Defense\": 45, \"SpecialA\": 85, \"SpecialD\": 50, \"Speed\": 45, \"Generation\": 1}, {\"#\": 41, \"Name\": \"Zubat\", \"Type 1\": \"Poison\", \"Type 2\": \"Flying\", \"Total\": 245, \"HP\": 40, \"Attack\": 45, \"Defense\": 35, \"SpecialA\": 30, \"SpecialD\": 40, \"Speed\": 55, \"Generation\": 1}, {\"#\": 42, \"Name\": \"Golbat\", \"Type 1\": \"Poison\", \"Type 2\": \"Flying\", \"Total\": 455, \"HP\": 75, \"Attack\": 80, \"Defense\": 70, \"SpecialA\": 65, \"SpecialD\": 75, \"Speed\": 90, \"Generation\": 1}, {\"#\": 43, \"Name\": \"Oddish\", \"Type 1\": \"Grass\", \"Type 2\": \"Poison\", \"Total\": 320, \"HP\": 45, \"Attack\": 50, \"Defense\": 55, \"SpecialA\": 75, \"SpecialD\": 65, \"Speed\": 30, \"Generation\": 1}, {\"#\": 44, \"Name\": \"Gloom\", \"Type 1\": \"Grass\", \"Type 2\": \"Poison\", \"Total\": 395, \"HP\": 60, \"Attack\": 65, \"Defense\": 70, \"SpecialA\": 85, \"SpecialD\": 75, \"Speed\": 40, \"Generation\": 1}, {\"#\": 45, \"Name\": \"Vileplume\", \"Type 1\": \"Grass\", \"Type 2\": \"Poison\", \"Total\": 490, \"HP\": 75, \"Attack\": 80, \"Defense\": 85, \"SpecialA\": 110, \"SpecialD\": 90, \"Speed\": 50, \"Generation\": 1}, {\"#\": 46, \"Name\": \"Paras\", \"Type 1\": \"Bug\", \"Type 2\": \"Grass\", \"Total\": 285, \"HP\": 35, \"Attack\": 70, \"Defense\": 55, \"SpecialA\": 45, \"SpecialD\": 55, \"Speed\": 25, \"Generation\": 1}, {\"#\": 47, \"Name\": \"Parasect\", \"Type 1\": \"Bug\", \"Type 2\": \"Grass\", \"Total\": 405, \"HP\": 60, \"Attack\": 95, \"Defense\": 80, \"SpecialA\": 60, \"SpecialD\": 80, \"Speed\": 30, \"Generation\": 1}, {\"#\": 48, \"Name\": \"Venonat\", \"Type 1\": \"Bug\", \"Type 2\": \"Poison\", \"Total\": 305, \"HP\": 60, \"Attack\": 55, \"Defense\": 50, \"SpecialA\": 40, \"SpecialD\": 55, \"Speed\": 45, \"Generation\": 1}, {\"#\": 49, \"Name\": \"Venomoth\", \"Type 1\": \"Bug\", \"Type 2\": \"Poison\", \"Total\": 450, \"HP\": 70, \"Attack\": 65, \"Defense\": 60, \"SpecialA\": 90, \"SpecialD\": 75, \"Speed\": 90, \"Generation\": 1}, {\"#\": 62, \"Name\": \"Poliwrath\", \"Type 1\": \"Water\", \"Type 2\": \"Fighting\", \"Total\": 510, \"HP\": 90, \"Attack\": 95, \"Defense\": 95, \"SpecialA\": 70, \"SpecialD\": 90, \"Speed\": 70, \"Generation\": 1}, {\"#\": 69, \"Name\": \"Bellsprout\", \"Type 1\": \"Grass\", \"Type 2\": \"Poison\", \"Total\": 300, \"HP\": 50, \"Attack\": 75, \"Defense\": 35, \"SpecialA\": 70, \"SpecialD\": 30, \"Speed\": 40, \"Generation\": 1}, {\"#\": 70, \"Name\": \"Weepinbell\", \"Type 1\": \"Grass\", \"Type 2\": \"Poison\", \"Total\": 390, \"HP\": 65, \"Attack\": 90, \"Defense\": 50, \"SpecialA\": 85, \"SpecialD\": 45, \"Speed\": 55, \"Generation\": 1}, {\"#\": 71, \"Name\": \"Victreebel\", \"Type 1\": \"Grass\", \"Type 2\": \"Poison\", \"Total\": 490, \"HP\": 80, \"Attack\": 105, \"Defense\": 65, \"SpecialA\": 100, \"SpecialD\": 70, \"Speed\": 70, \"Generation\": 1}, {\"#\": 72, \"Name\": \"Tentacool\", \"Type 1\": \"Water\", \"Type 2\": \"Poison\", \"Total\": 335, \"HP\": 40, \"Attack\": 40, \"Defense\": 35, \"SpecialA\": 50, \"SpecialD\": 100, \"Speed\": 70, \"Generation\": 1}, {\"#\": 73, \"Name\": \"Tentacruel\", \"Type 1\": \"Water\", \"Type 2\": \"Poison\", \"Total\": 515, \"HP\": 80, \"Attack\": 70, \"Defense\": 65, \"SpecialA\": 80, \"SpecialD\": 120, \"Speed\": 100, \"Generation\": 1}, {\"#\": 74, \"Name\": \"Geodude\", \"Type 1\": \"Rock\", \"Type 2\": \"Ground\", \"Total\": 300, \"HP\": 40, \"Attack\": 80, \"Defense\": 100, \"SpecialA\": 30, \"SpecialD\": 30, \"Speed\": 20, \"Generation\": 1}, {\"#\": 75, \"Name\": \"Graveler\", \"Type 1\": \"Rock\", \"Type 2\": \"Ground\", \"Total\": 390, \"HP\": 55, \"Attack\": 95, \"Defense\": 115, \"SpecialA\": 45, \"SpecialD\": 45, \"Speed\": 35, \"Generation\": 1}, {\"#\": 76, \"Name\": \"Golem\", \"Type 1\": \"Rock\", \"Type 2\": \"Ground\", \"Total\": 495, \"HP\": 80, \"Attack\": 120, \"Defense\": 130, \"SpecialA\": 55, \"SpecialD\": 65, \"Speed\": 45, \"Generation\": 1}, {\"#\": 79, \"Name\": \"Slowpoke\", \"Type 1\": \"Water\", \"Type 2\": \"Psychic\", \"Total\": 315, \"HP\": 90, \"Attack\": 65, \"Defense\": 65, \"SpecialA\": 40, \"SpecialD\": 40, \"Speed\": 15, \"Generation\": 1}, {\"#\": 80, \"Name\": \"Slowbro\", \"Type 1\": \"Water\", \"Type 2\": \"Psychic\", \"Total\": 490, \"HP\": 95, \"Attack\": 75, \"Defense\": 110, \"SpecialA\": 100, \"SpecialD\": 80, \"Speed\": 30, \"Generation\": 1}, {\"#\": 80, \"Name\": \"SlowbroMega Slowbro\", \"Type 1\": \"Water\", \"Type 2\": \"Psychic\", \"Total\": 590, \"HP\": 95, \"Attack\": 75, \"Defense\": 180, \"SpecialA\": 130, \"SpecialD\": 80, \"Speed\": 30, \"Generation\": 1}, {\"#\": 81, \"Name\": \"Magnemite\", \"Type 1\": \"Electric\", \"Type 2\": \"Steel\", \"Total\": 325, \"HP\": 25, \"Attack\": 35, \"Defense\": 70, \"SpecialA\": 95, \"SpecialD\": 55, \"Speed\": 45, \"Generation\": 1}, {\"#\": 82, \"Name\": \"Magneton\", \"Type 1\": \"Electric\", \"Type 2\": \"Steel\", \"Total\": 465, \"HP\": 50, \"Attack\": 60, \"Defense\": 95, \"SpecialA\": 120, \"SpecialD\": 70, \"Speed\": 70, \"Generation\": 1}, {\"#\": 83, \"Name\": \"Farfetch'd\", \"Type 1\": \"Normal\", \"Type 2\": \"Flying\", \"Total\": 352, \"HP\": 52, \"Attack\": 65, \"Defense\": 55, \"SpecialA\": 58, \"SpecialD\": 62, \"Speed\": 60, \"Generation\": 1}, {\"#\": 84, \"Name\": \"Doduo\", \"Type 1\": \"Normal\", \"Type 2\": \"Flying\", \"Total\": 310, \"HP\": 35, \"Attack\": 85, \"Defense\": 45, \"SpecialA\": 35, \"SpecialD\": 35, \"Speed\": 75, \"Generation\": 1}, {\"#\": 85, \"Name\": \"Dodrio\", \"Type 1\": \"Normal\", \"Type 2\": \"Flying\", \"Total\": 460, \"HP\": 60, \"Attack\": 110, \"Defense\": 70, \"SpecialA\": 60, \"SpecialD\": 60, \"Speed\": 100, \"Generation\": 1}, {\"#\": 87, \"Name\": \"Dewgong\", \"Type 1\": \"Water\", \"Type 2\": \"Ice\", \"Total\": 475, \"HP\": 90, \"Attack\": 70, \"Defense\": 80, \"SpecialA\": 70, \"SpecialD\": 95, \"Speed\": 70, \"Generation\": 1}, {\"#\": 91, \"Name\": \"Cloyster\", \"Type 1\": \"Water\", \"Type 2\": \"Ice\", \"Total\": 525, \"HP\": 50, \"Attack\": 95, \"Defense\": 180, \"SpecialA\": 85, \"SpecialD\": 45, \"Speed\": 70, \"Generation\": 1}, {\"#\": 92, \"Name\": \"Gastly\", \"Type 1\": \"Ghost\", \"Type 2\": \"Poison\", \"Total\": 310, \"HP\": 30, \"Attack\": 35, \"Defense\": 30, \"SpecialA\": 100, \"SpecialD\": 35, \"Speed\": 80, \"Generation\": 1}, {\"#\": 93, \"Name\": \"Haunter\", \"Type 1\": \"Ghost\", \"Type 2\": \"Poison\", \"Total\": 405, \"HP\": 45, \"Attack\": 50, \"Defense\": 45, \"SpecialA\": 115, \"SpecialD\": 55, \"Speed\": 95, \"Generation\": 1}, {\"#\": 94, \"Name\": \"Gengar\", \"Type 1\": \"Ghost\", \"Type 2\": \"Poison\", \"Total\": 500, \"HP\": 60, \"Attack\": 65, \"Defense\": 60, \"SpecialA\": 130, \"SpecialD\": 75, \"Speed\": 110, \"Generation\": 1}, {\"#\": 94, \"Name\": \"GengarMega Gengar\", \"Type 1\": \"Ghost\", \"Type 2\": \"Poison\", \"Total\": 600, \"HP\": 60, \"Attack\": 65, \"Defense\": 80, \"SpecialA\": 170, \"SpecialD\": 95, \"Speed\": 130, \"Generation\": 1}, {\"#\": 95, \"Name\": \"Onix\", \"Type 1\": \"Rock\", \"Type 2\": \"Ground\", \"Total\": 385, \"HP\": 35, \"Attack\": 45, \"Defense\": 160, \"SpecialA\": 30, \"SpecialD\": 45, \"Speed\": 70, \"Generation\": 1}, {\"#\": 102, \"Name\": \"Exeggcute\", \"Type 1\": \"Grass\", \"Type 2\": \"Psychic\", \"Total\": 325, \"HP\": 60, \"Attack\": 40, \"Defense\": 80, \"SpecialA\": 60, \"SpecialD\": 45, \"Speed\": 40, \"Generation\": 1}, {\"#\": 103, \"Name\": \"Exeggutor\", \"Type 1\": \"Grass\", \"Type 2\": \"Psychic\", \"Total\": 520, \"HP\": 95, \"Attack\": 95, \"Defense\": 85, \"SpecialA\": 125, \"SpecialD\": 65, \"Speed\": 55, \"Generation\": 1}, {\"#\": 111, \"Name\": \"Rhyhorn\", \"Type 1\": \"Ground\", \"Type 2\": \"Rock\", \"Total\": 345, \"HP\": 80, \"Attack\": 85, \"Defense\": 95, \"SpecialA\": 30, \"SpecialD\": 30, \"Speed\": 25, \"Generation\": 1}, {\"#\": 112, \"Name\": \"Rhydon\", \"Type 1\": \"Ground\", \"Type 2\": \"Rock\", \"Total\": 485, \"HP\": 105, \"Attack\": 130, \"Defense\": 120, \"SpecialA\": 45, \"SpecialD\": 45, \"Speed\": 40, \"Generation\": 1}, {\"#\": 121, \"Name\": \"Starmie\", \"Type 1\": \"Water\", \"Type 2\": \"Psychic\", \"Total\": 520, \"HP\": 60, \"Attack\": 75, \"Defense\": 85, \"SpecialA\": 100, \"SpecialD\": 85, \"Speed\": 115, \"Generation\": 1}, {\"#\": 122, \"Name\": \"Mr. Mime\", \"Type 1\": \"Psychic\", \"Type 2\": \"Fairy\", \"Total\": 460, \"HP\": 40, \"Attack\": 45, \"Defense\": 65, \"SpecialA\": 100, \"SpecialD\": 120, \"Speed\": 90, \"Generation\": 1}, {\"#\": 123, \"Name\": \"Scyther\", \"Type 1\": \"Bug\", \"Type 2\": \"Flying\", \"Total\": 500, \"HP\": 70, \"Attack\": 110, \"Defense\": 80, \"SpecialA\": 55, \"SpecialD\": 80, \"Speed\": 105, \"Generation\": 1}, {\"#\": 124, \"Name\": \"Jynx\", \"Type 1\": \"Ice\", \"Type 2\": \"Psychic\", \"Total\": 455, \"HP\": 65, \"Attack\": 50, \"Defense\": 35, \"SpecialA\": 115, \"SpecialD\": 95, \"Speed\": 95, \"Generation\": 1}, {\"#\": 127, \"Name\": \"PinsirMega Pinsir\", \"Type 1\": \"Bug\", \"Type 2\": \"Flying\", \"Total\": 600, \"HP\": 65, \"Attack\": 155, \"Defense\": 120, \"SpecialA\": 65, \"SpecialD\": 90, \"Speed\": 105, \"Generation\": 1}, {\"#\": 130, \"Name\": \"Gyarados\", \"Type 1\": \"Water\", \"Type 2\": \"Flying\", \"Total\": 540, \"HP\": 95, \"Attack\": 125, \"Defense\": 79, \"SpecialA\": 60, \"SpecialD\": 100, \"Speed\": 81, \"Generation\": 1}, {\"#\": 130, \"Name\": \"GyaradosMega Gyarados\", \"Type 1\": \"Water\", \"Type 2\": \"Dark\", \"Total\": 640, \"HP\": 95, \"Attack\": 155, \"Defense\": 109, \"SpecialA\": 70, \"SpecialD\": 130, \"Speed\": 81, \"Generation\": 1}, {\"#\": 131, \"Name\": \"Lapras\", \"Type 1\": \"Water\", \"Type 2\": \"Ice\", \"Total\": 535, \"HP\": 130, \"Attack\": 85, \"Defense\": 80, \"SpecialA\": 85, \"SpecialD\": 95, \"Speed\": 60, \"Generation\": 1}, {\"#\": 138, \"Name\": \"Omanyte\", \"Type 1\": \"Rock\", \"Type 2\": \"Water\", \"Total\": 355, \"HP\": 35, \"Attack\": 40, \"Defense\": 100, \"SpecialA\": 90, \"SpecialD\": 55, \"Speed\": 35, \"Generation\": 1}, {\"#\": 139, \"Name\": \"Omastar\", \"Type 1\": \"Rock\", \"Type 2\": \"Water\", \"Total\": 495, \"HP\": 70, \"Attack\": 60, \"Defense\": 125, \"SpecialA\": 115, \"SpecialD\": 70, \"Speed\": 55, \"Generation\": 1}, {\"#\": 140, \"Name\": \"Kabuto\", \"Type 1\": \"Rock\", \"Type 2\": \"Water\", \"Total\": 355, \"HP\": 30, \"Attack\": 80, \"Defense\": 90, \"SpecialA\": 55, \"SpecialD\": 45, \"Speed\": 55, \"Generation\": 1}, {\"#\": 141, \"Name\": \"Kabutops\", \"Type 1\": \"Rock\", \"Type 2\": \"Water\", \"Total\": 495, \"HP\": 60, \"Attack\": 115, \"Defense\": 105, \"SpecialA\": 65, \"SpecialD\": 70, \"Speed\": 80, \"Generation\": 1}, {\"#\": 142, \"Name\": \"Aerodactyl\", \"Type 1\": \"Rock\", \"Type 2\": \"Flying\", \"Total\": 515, \"HP\": 80, \"Attack\": 105, \"Defense\": 65, \"SpecialA\": 60, \"SpecialD\": 75, \"Speed\": 130, \"Generation\": 1}, {\"#\": 142, \"Name\": \"AerodactylMega Aerodactyl\", \"Type 1\": \"Rock\", \"Type 2\": \"Flying\", \"Total\": 615, \"HP\": 80, \"Attack\": 135, \"Defense\": 85, \"SpecialA\": 70, \"SpecialD\": 95, \"Speed\": 150, \"Generation\": 1}, {\"#\": 149, \"Name\": \"Dragonite\", \"Type 1\": \"Dragon\", \"Type 2\": \"Flying\", \"Total\": 600, \"HP\": 91, \"Attack\": 134, \"Defense\": 95, \"SpecialA\": 100, \"SpecialD\": 100, \"Speed\": 80, \"Generation\": 1}, {\"#\": 163, \"Name\": \"Hoothoot\", \"Type 1\": \"Normal\", \"Type 2\": \"Flying\", \"Total\": 262, \"HP\": 60, \"Attack\": 30, \"Defense\": 30, \"SpecialA\": 36, \"SpecialD\": 56, \"Speed\": 50, \"Generation\": 2}, {\"#\": 164, \"Name\": \"Noctowl\", \"Type 1\": \"Normal\", \"Type 2\": \"Flying\", \"Total\": 442, \"HP\": 100, \"Attack\": 50, \"Defense\": 50, \"SpecialA\": 76, \"SpecialD\": 96, \"Speed\": 70, \"Generation\": 2}, {\"#\": 165, \"Name\": \"Ledyba\", \"Type 1\": \"Bug\", \"Type 2\": \"Flying\", \"Total\": 265, \"HP\": 40, \"Attack\": 20, \"Defense\": 30, \"SpecialA\": 40, \"SpecialD\": 80, \"Speed\": 55, \"Generation\": 2}, {\"#\": 166, \"Name\": \"Ledian\", \"Type 1\": \"Bug\", \"Type 2\": \"Flying\", \"Total\": 390, \"HP\": 55, \"Attack\": 35, \"Defense\": 50, \"SpecialA\": 55, \"SpecialD\": 110, \"Speed\": 85, \"Generation\": 2}, {\"#\": 167, \"Name\": \"Spinarak\", \"Type 1\": \"Bug\", \"Type 2\": \"Poison\", \"Total\": 250, \"HP\": 40, \"Attack\": 60, \"Defense\": 40, \"SpecialA\": 40, \"SpecialD\": 40, \"Speed\": 30, \"Generation\": 2}, {\"#\": 168, \"Name\": \"Ariados\", \"Type 1\": \"Bug\", \"Type 2\": \"Poison\", \"Total\": 390, \"HP\": 70, \"Attack\": 90, \"Defense\": 70, \"SpecialA\": 60, \"SpecialD\": 60, \"Speed\": 40, \"Generation\": 2}, {\"#\": 169, \"Name\": \"Crobat\", \"Type 1\": \"Poison\", \"Type 2\": \"Flying\", \"Total\": 535, \"HP\": 85, \"Attack\": 90, \"Defense\": 80, \"SpecialA\": 70, \"SpecialD\": 80, \"Speed\": 130, \"Generation\": 2}, {\"#\": 170, \"Name\": \"Chinchou\", \"Type 1\": \"Water\", \"Type 2\": \"Electric\", \"Total\": 330, \"HP\": 75, \"Attack\": 38, \"Defense\": 38, \"SpecialA\": 56, \"SpecialD\": 56, \"Speed\": 67, \"Generation\": 2}, {\"#\": 171, \"Name\": \"Lanturn\", \"Type 1\": \"Water\", \"Type 2\": \"Electric\", \"Total\": 460, \"HP\": 125, \"Attack\": 58, \"Defense\": 58, \"SpecialA\": 76, \"SpecialD\": 76, \"Speed\": 67, \"Generation\": 2}, {\"#\": 174, \"Name\": \"Igglybuff\", \"Type 1\": \"Normal\", \"Type 2\": \"Fairy\", \"Total\": 210, \"HP\": 90, \"Attack\": 30, \"Defense\": 15, \"SpecialA\": 40, \"SpecialD\": 20, \"Speed\": 15, \"Generation\": 2}, {\"#\": 176, \"Name\": \"Togetic\", \"Type 1\": \"Fairy\", \"Type 2\": \"Flying\", \"Total\": 405, \"HP\": 55, \"Attack\": 40, \"Defense\": 85, \"SpecialA\": 80, \"SpecialD\": 105, \"Speed\": 40, \"Generation\": 2}, {\"#\": 177, \"Name\": \"Natu\", \"Type 1\": \"Psychic\", \"Type 2\": \"Flying\", \"Total\": 320, \"HP\": 40, \"Attack\": 50, \"Defense\": 45, \"SpecialA\": 70, \"SpecialD\": 45, \"Speed\": 70, \"Generation\": 2}, {\"#\": 178, \"Name\": \"Xatu\", \"Type 1\": \"Psychic\", \"Type 2\": \"Flying\", \"Total\": 470, \"HP\": 65, \"Attack\": 75, \"Defense\": 70, \"SpecialA\": 95, \"SpecialD\": 70, \"Speed\": 95, \"Generation\": 2}, {\"#\": 181, \"Name\": \"AmpharosMega Ampharos\", \"Type 1\": \"Electric\", \"Type 2\": \"Dragon\", \"Total\": 610, \"HP\": 90, \"Attack\": 95, \"Defense\": 105, \"SpecialA\": 165, \"SpecialD\": 110, \"Speed\": 45, \"Generation\": 2}, {\"#\": 183, \"Name\": \"Marill\", \"Type 1\": \"Water\", \"Type 2\": \"Fairy\", \"Total\": 250, \"HP\": 70, \"Attack\": 20, \"Defense\": 50, \"SpecialA\": 20, \"SpecialD\": 50, \"Speed\": 40, \"Generation\": 2}, {\"#\": 184, \"Name\": \"Azumarill\", \"Type 1\": \"Water\", \"Type 2\": \"Fairy\", \"Total\": 420, \"HP\": 100, \"Attack\": 50, \"Defense\": 80, \"SpecialA\": 60, \"SpecialD\": 80, \"Speed\": 50, \"Generation\": 2}, {\"#\": 187, \"Name\": \"Hoppip\", \"Type 1\": \"Grass\", \"Type 2\": \"Flying\", \"Total\": 250, \"HP\": 35, \"Attack\": 35, \"Defense\": 40, \"SpecialA\": 35, \"SpecialD\": 55, \"Speed\": 50, \"Generation\": 2}, {\"#\": 188, \"Name\": \"Skiploom\", \"Type 1\": \"Grass\", \"Type 2\": \"Flying\", \"Total\": 340, \"HP\": 55, \"Attack\": 45, \"Defense\": 50, \"SpecialA\": 45, \"SpecialD\": 65, \"Speed\": 80, \"Generation\": 2}, {\"#\": 189, \"Name\": \"Jumpluff\", \"Type 1\": \"Grass\", \"Type 2\": \"Flying\", \"Total\": 460, \"HP\": 75, \"Attack\": 55, \"Defense\": 70, \"SpecialA\": 55, \"SpecialD\": 95, \"Speed\": 110, \"Generation\": 2}, {\"#\": 193, \"Name\": \"Yanma\", \"Type 1\": \"Bug\", \"Type 2\": \"Flying\", \"Total\": 390, \"HP\": 65, \"Attack\": 65, \"Defense\": 45, \"SpecialA\": 75, \"SpecialD\": 45, \"Speed\": 95, \"Generation\": 2}, {\"#\": 194, \"Name\": \"Wooper\", \"Type 1\": \"Water\", \"Type 2\": \"Ground\", \"Total\": 210, \"HP\": 55, \"Attack\": 45, \"Defense\": 45, \"SpecialA\": 25, \"SpecialD\": 25, \"Speed\": 15, \"Generation\": 2}, {\"#\": 195, \"Name\": \"Quagsire\", \"Type 1\": \"Water\", \"Type 2\": \"Ground\", \"Total\": 430, \"HP\": 95, \"Attack\": 85, \"Defense\": 85, \"SpecialA\": 65, \"SpecialD\": 65, \"Speed\": 35, \"Generation\": 2}, {\"#\": 198, \"Name\": \"Murkrow\", \"Type 1\": \"Dark\", \"Type 2\": \"Flying\", \"Total\": 405, \"HP\": 60, \"Attack\": 85, \"Defense\": 42, \"SpecialA\": 85, \"SpecialD\": 42, \"Speed\": 91, \"Generation\": 2}, {\"#\": 199, \"Name\": \"Slowking\", \"Type 1\": \"Water\", \"Type 2\": \"Psychic\", \"Total\": 490, \"HP\": 95, \"Attack\": 75, \"Defense\": 80, \"SpecialA\": 100, \"SpecialD\": 110, \"Speed\": 30, \"Generation\": 2}, {\"#\": 203, \"Name\": \"Girafarig\", \"Type 1\": \"Normal\", \"Type 2\": \"Psychic\", \"Total\": 455, \"HP\": 70, \"Attack\": 80, \"Defense\": 65, \"SpecialA\": 90, \"SpecialD\": 65, \"Speed\": 85, \"Generation\": 2}, {\"#\": 205, \"Name\": \"Forretress\", \"Type 1\": \"Bug\", \"Type 2\": \"Steel\", \"Total\": 465, \"HP\": 75, \"Attack\": 90, \"Defense\": 140, \"SpecialA\": 60, \"SpecialD\": 60, \"Speed\": 40, \"Generation\": 2}, {\"#\": 207, \"Name\": \"Gligar\", \"Type 1\": \"Ground\", \"Type 2\": \"Flying\", \"Total\": 430, \"HP\": 65, \"Attack\": 75, \"Defense\": 105, \"SpecialA\": 35, \"SpecialD\": 65, \"Speed\": 85, \"Generation\": 2}, {\"#\": 208, \"Name\": \"Steelix\", \"Type 1\": \"Steel\", \"Type 2\": \"Ground\", \"Total\": 510, \"HP\": 75, \"Attack\": 85, \"Defense\": 200, \"SpecialA\": 55, \"SpecialD\": 65, \"Speed\": 30, \"Generation\": 2}, {\"#\": 208, \"Name\": \"SteelixMega Steelix\", \"Type 1\": \"Steel\", \"Type 2\": \"Ground\", \"Total\": 610, \"HP\": 75, \"Attack\": 125, \"Defense\": 230, \"SpecialA\": 55, \"SpecialD\": 95, \"Speed\": 30, \"Generation\": 2}, {\"#\": 211, \"Name\": \"Qwilfish\", \"Type 1\": \"Water\", \"Type 2\": \"Poison\", \"Total\": 430, \"HP\": 65, \"Attack\": 95, \"Defense\": 75, \"SpecialA\": 55, \"SpecialD\": 55, \"Speed\": 85, \"Generation\": 2}, {\"#\": 212, \"Name\": \"Scizor\", \"Type 1\": \"Bug\", \"Type 2\": \"Steel\", \"Total\": 500, \"HP\": 70, \"Attack\": 130, \"Defense\": 100, \"SpecialA\": 55, \"SpecialD\": 80, \"Speed\": 65, \"Generation\": 2}, {\"#\": 212, \"Name\": \"ScizorMega Scizor\", \"Type 1\": \"Bug\", \"Type 2\": \"Steel\", \"Total\": 600, \"HP\": 70, \"Attack\": 150, \"Defense\": 140, \"SpecialA\": 65, \"SpecialD\": 100, \"Speed\": 75, \"Generation\": 2}, {\"#\": 213, \"Name\": \"Shuckle\", \"Type 1\": \"Bug\", \"Type 2\": \"Rock\", \"Total\": 505, \"HP\": 20, \"Attack\": 10, \"Defense\": 230, \"SpecialA\": 10, \"SpecialD\": 230, \"Speed\": 5, \"Generation\": 2}, {\"#\": 214, \"Name\": \"Heracross\", \"Type 1\": \"Bug\", \"Type 2\": \"Fighting\", \"Total\": 500, \"HP\": 80, \"Attack\": 125, \"Defense\": 75, \"SpecialA\": 40, \"SpecialD\": 95, \"Speed\": 85, \"Generation\": 2}, {\"#\": 214, \"Name\": \"HeracrossMega Heracross\", \"Type 1\": \"Bug\", \"Type 2\": \"Fighting\", \"Total\": 600, \"HP\": 80, \"Attack\": 185, \"Defense\": 115, \"SpecialA\": 40, \"SpecialD\": 105, \"Speed\": 75, \"Generation\": 2}, {\"#\": 215, \"Name\": \"Sneasel\", \"Type 1\": \"Dark\", \"Type 2\": \"Ice\", \"Total\": 430, \"HP\": 55, \"Attack\": 95, \"Defense\": 55, \"SpecialA\": 35, \"SpecialD\": 75, \"Speed\": 115, \"Generation\": 2}, {\"#\": 219, \"Name\": \"Magcargo\", \"Type 1\": \"Fire\", \"Type 2\": \"Rock\", \"Total\": 410, \"HP\": 50, \"Attack\": 50, \"Defense\": 120, \"SpecialA\": 80, \"SpecialD\": 80, \"Speed\": 30, \"Generation\": 2}, {\"#\": 220, \"Name\": \"Swinub\", \"Type 1\": \"Ice\", \"Type 2\": \"Ground\", \"Total\": 250, \"HP\": 50, \"Attack\": 50, \"Defense\": 40, \"SpecialA\": 30, \"SpecialD\": 30, \"Speed\": 50, \"Generation\": 2}, {\"#\": 221, \"Name\": \"Piloswine\", \"Type 1\": \"Ice\", \"Type 2\": \"Ground\", \"Total\": 450, \"HP\": 100, \"Attack\": 100, \"Defense\": 80, \"SpecialA\": 60, \"SpecialD\": 60, \"Speed\": 50, \"Generation\": 2}, {\"#\": 222, \"Name\": \"Corsola\", \"Type 1\": \"Water\", \"Type 2\": \"Rock\", \"Total\": 380, \"HP\": 55, \"Attack\": 55, \"Defense\": 85, \"SpecialA\": 65, \"SpecialD\": 85, \"Speed\": 35, \"Generation\": 2}, {\"#\": 225, \"Name\": \"Delibird\", \"Type 1\": \"Ice\", \"Type 2\": \"Flying\", \"Total\": 330, \"HP\": 45, \"Attack\": 55, \"Defense\": 45, \"SpecialA\": 65, \"SpecialD\": 45, \"Speed\": 75, \"Generation\": 2}, {\"#\": 226, \"Name\": \"Mantine\", \"Type 1\": \"Water\", \"Type 2\": \"Flying\", \"Total\": 465, \"HP\": 65, \"Attack\": 40, \"Defense\": 70, \"SpecialA\": 80, \"SpecialD\": 140, \"Speed\": 70, \"Generation\": 2}, {\"#\": 227, \"Name\": \"Skarmory\", \"Type 1\": \"Steel\", \"Type 2\": \"Flying\", \"Total\": 465, \"HP\": 65, \"Attack\": 80, \"Defense\": 140, \"SpecialA\": 40, \"SpecialD\": 70, \"Speed\": 70, \"Generation\": 2}, {\"#\": 228, \"Name\": \"Houndour\", \"Type 1\": \"Dark\", \"Type 2\": \"Fire\", \"Total\": 330, \"HP\": 45, \"Attack\": 60, \"Defense\": 30, \"SpecialA\": 80, \"SpecialD\": 50, \"Speed\": 65, \"Generation\": 2}, {\"#\": 229, \"Name\": \"Houndoom\", \"Type 1\": \"Dark\", \"Type 2\": \"Fire\", \"Total\": 500, \"HP\": 75, \"Attack\": 90, \"Defense\": 50, \"SpecialA\": 110, \"SpecialD\": 80, \"Speed\": 95, \"Generation\": 2}, {\"#\": 229, \"Name\": \"HoundoomMega Houndoom\", \"Type 1\": \"Dark\", \"Type 2\": \"Fire\", \"Total\": 600, \"HP\": 75, \"Attack\": 90, \"Defense\": 90, \"SpecialA\": 140, \"SpecialD\": 90, \"Speed\": 115, \"Generation\": 2}, {\"#\": 230, \"Name\": \"Kingdra\", \"Type 1\": \"Water\", \"Type 2\": \"Dragon\", \"Total\": 540, \"HP\": 75, \"Attack\": 95, \"Defense\": 95, \"SpecialA\": 95, \"SpecialD\": 95, \"Speed\": 85, \"Generation\": 2}, {\"#\": 238, \"Name\": \"Smoochum\", \"Type 1\": \"Ice\", \"Type 2\": \"Psychic\", \"Total\": 305, \"HP\": 45, \"Attack\": 30, \"Defense\": 15, \"SpecialA\": 85, \"SpecialD\": 65, \"Speed\": 65, \"Generation\": 2}, {\"#\": 246, \"Name\": \"Larvitar\", \"Type 1\": \"Rock\", \"Type 2\": \"Ground\", \"Total\": 300, \"HP\": 50, \"Attack\": 64, \"Defense\": 50, \"SpecialA\": 45, \"SpecialD\": 50, \"Speed\": 41, \"Generation\": 2}, {\"#\": 247, \"Name\": \"Pupitar\", \"Type 1\": \"Rock\", \"Type 2\": \"Ground\", \"Total\": 410, \"HP\": 70, \"Attack\": 84, \"Defense\": 70, \"SpecialA\": 65, \"SpecialD\": 70, \"Speed\": 51, \"Generation\": 2}, {\"#\": 248, \"Name\": \"Tyranitar\", \"Type 1\": \"Rock\", \"Type 2\": \"Dark\", \"Total\": 600, \"HP\": 100, \"Attack\": 134, \"Defense\": 110, \"SpecialA\": 95, \"SpecialD\": 100, \"Speed\": 61, \"Generation\": 2}, {\"#\": 248, \"Name\": \"TyranitarMega Tyranitar\", \"Type 1\": \"Rock\", \"Type 2\": \"Dark\", \"Total\": 700, \"HP\": 100, \"Attack\": 164, \"Defense\": 150, \"SpecialA\": 95, \"SpecialD\": 120, \"Speed\": 71, \"Generation\": 2}, {\"#\": 251, \"Name\": \"Celebi\", \"Type 1\": \"Psychic\", \"Type 2\": \"Grass\", \"Total\": 600, \"HP\": 100, \"Attack\": 100, \"Defense\": 100, \"SpecialA\": 100, \"SpecialD\": 100, \"Speed\": 100, \"Generation\": 2}, {\"#\": 254, \"Name\": \"SceptileMega Sceptile\", \"Type 1\": \"Grass\", \"Type 2\": \"Dragon\", \"Total\": 630, \"HP\": 70, \"Attack\": 110, \"Defense\": 75, \"SpecialA\": 145, \"SpecialD\": 85, \"Speed\": 145, \"Generation\": 3}, {\"#\": 256, \"Name\": \"Combusken\", \"Type 1\": \"Fire\", \"Type 2\": \"Fighting\", \"Total\": 405, \"HP\": 60, \"Attack\": 85, \"Defense\": 60, \"SpecialA\": 85, \"SpecialD\": 60, \"Speed\": 55, \"Generation\": 3}, {\"#\": 257, \"Name\": \"Blaziken\", \"Type 1\": \"Fire\", \"Type 2\": \"Fighting\", \"Total\": 530, \"HP\": 80, \"Attack\": 120, \"Defense\": 70, \"SpecialA\": 110, \"SpecialD\": 70, \"Speed\": 80, \"Generation\": 3}, {\"#\": 257, \"Name\": \"BlazikenMega Blaziken\", \"Type 1\": \"Fire\", \"Type 2\": \"Fighting\", \"Total\": 630, \"HP\": 80, \"Attack\": 160, \"Defense\": 80, \"SpecialA\": 130, \"SpecialD\": 80, \"Speed\": 100, \"Generation\": 3}, {\"#\": 259, \"Name\": \"Marshtomp\", \"Type 1\": \"Water\", \"Type 2\": \"Ground\", \"Total\": 405, \"HP\": 70, \"Attack\": 85, \"Defense\": 70, \"SpecialA\": 60, \"SpecialD\": 70, \"Speed\": 50, \"Generation\": 3}, {\"#\": 260, \"Name\": \"Swampert\", \"Type 1\": \"Water\", \"Type 2\": \"Ground\", \"Total\": 535, \"HP\": 100, \"Attack\": 110, \"Defense\": 90, \"SpecialA\": 85, \"SpecialD\": 90, \"Speed\": 60, \"Generation\": 3}, {\"#\": 260, \"Name\": \"SwampertMega Swampert\", \"Type 1\": \"Water\", \"Type 2\": \"Ground\", \"Total\": 635, \"HP\": 100, \"Attack\": 150, \"Defense\": 110, \"SpecialA\": 95, \"SpecialD\": 110, \"Speed\": 70, \"Generation\": 3}, {\"#\": 267, \"Name\": \"Beautifly\", \"Type 1\": \"Bug\", \"Type 2\": \"Flying\", \"Total\": 395, \"HP\": 60, \"Attack\": 70, \"Defense\": 50, \"SpecialA\": 100, \"SpecialD\": 50, \"Speed\": 65, \"Generation\": 3}, {\"#\": 269, \"Name\": \"Dustox\", \"Type 1\": \"Bug\", \"Type 2\": \"Poison\", \"Total\": 385, \"HP\": 60, \"Attack\": 50, \"Defense\": 70, \"SpecialA\": 50, \"SpecialD\": 90, \"Speed\": 65, \"Generation\": 3}, {\"#\": 270, \"Name\": \"Lotad\", \"Type 1\": \"Water\", \"Type 2\": \"Grass\", \"Total\": 220, \"HP\": 40, \"Attack\": 30, \"Defense\": 30, \"SpecialA\": 40, \"SpecialD\": 50, \"Speed\": 30, \"Generation\": 3}, {\"#\": 271, \"Name\": \"Lombre\", \"Type 1\": \"Water\", \"Type 2\": \"Grass\", \"Total\": 340, \"HP\": 60, \"Attack\": 50, \"Defense\": 50, \"SpecialA\": 60, \"SpecialD\": 70, \"Speed\": 50, \"Generation\": 3}, {\"#\": 272, \"Name\": \"Ludicolo\", \"Type 1\": \"Water\", \"Type 2\": \"Grass\", \"Total\": 480, \"HP\": 80, \"Attack\": 70, \"Defense\": 70, \"SpecialA\": 90, \"SpecialD\": 100, \"Speed\": 70, \"Generation\": 3}, {\"#\": 274, \"Name\": \"Nuzleaf\", \"Type 1\": \"Grass\", \"Type 2\": \"Dark\", \"Total\": 340, \"HP\": 70, \"Attack\": 70, \"Defense\": 40, \"SpecialA\": 60, \"SpecialD\": 40, \"Speed\": 60, \"Generation\": 3}, {\"#\": 275, \"Name\": \"Shiftry\", \"Type 1\": \"Grass\", \"Type 2\": \"Dark\", \"Total\": 480, \"HP\": 90, \"Attack\": 100, \"Defense\": 60, \"SpecialA\": 90, \"SpecialD\": 60, \"Speed\": 80, \"Generation\": 3}, {\"#\": 276, \"Name\": \"Taillow\", \"Type 1\": \"Normal\", \"Type 2\": \"Flying\", \"Total\": 270, \"HP\": 40, \"Attack\": 55, \"Defense\": 30, \"SpecialA\": 30, \"SpecialD\": 30, \"Speed\": 85, \"Generation\": 3}, {\"#\": 277, \"Name\": \"Swellow\", \"Type 1\": \"Normal\", \"Type 2\": \"Flying\", \"Total\": 430, \"HP\": 60, \"Attack\": 85, \"Defense\": 60, \"SpecialA\": 50, \"SpecialD\": 50, \"Speed\": 125, \"Generation\": 3}, {\"#\": 278, \"Name\": \"Wingull\", \"Type 1\": \"Water\", \"Type 2\": \"Flying\", \"Total\": 270, \"HP\": 40, \"Attack\": 30, \"Defense\": 30, \"SpecialA\": 55, \"SpecialD\": 30, \"Speed\": 85, \"Generation\": 3}, {\"#\": 279, \"Name\": \"Pelipper\", \"Type 1\": \"Water\", \"Type 2\": \"Flying\", \"Total\": 430, \"HP\": 60, \"Attack\": 50, \"Defense\": 100, \"SpecialA\": 85, \"SpecialD\": 70, \"Speed\": 65, \"Generation\": 3}, {\"#\": 280, \"Name\": \"Ralts\", \"Type 1\": \"Psychic\", \"Type 2\": \"Fairy\", \"Total\": 198, \"HP\": 28, \"Attack\": 25, \"Defense\": 25, \"SpecialA\": 45, \"SpecialD\": 35, \"Speed\": 40, \"Generation\": 3}, {\"#\": 281, \"Name\": \"Kirlia\", \"Type 1\": \"Psychic\", \"Type 2\": \"Fairy\", \"Total\": 278, \"HP\": 38, \"Attack\": 35, \"Defense\": 35, \"SpecialA\": 65, \"SpecialD\": 55, \"Speed\": 50, \"Generation\": 3}, {\"#\": 282, \"Name\": \"Gardevoir\", \"Type 1\": \"Psychic\", \"Type 2\": \"Fairy\", \"Total\": 518, \"HP\": 68, \"Attack\": 65, \"Defense\": 65, \"SpecialA\": 125, \"SpecialD\": 115, \"Speed\": 80, \"Generation\": 3}, {\"#\": 282, \"Name\": \"GardevoirMega Gardevoir\", \"Type 1\": \"Psychic\", \"Type 2\": \"Fairy\", \"Total\": 618, \"HP\": 68, \"Attack\": 85, \"Defense\": 65, \"SpecialA\": 165, \"SpecialD\": 135, \"Speed\": 100, \"Generation\": 3}, {\"#\": 283, \"Name\": \"Surskit\", \"Type 1\": \"Bug\", \"Type 2\": \"Water\", \"Total\": 269, \"HP\": 40, \"Attack\": 30, \"Defense\": 32, \"SpecialA\": 50, \"SpecialD\": 52, \"Speed\": 65, \"Generation\": 3}, {\"#\": 284, \"Name\": \"Masquerain\", \"Type 1\": \"Bug\", \"Type 2\": \"Flying\", \"Total\": 414, \"HP\": 70, \"Attack\": 60, \"Defense\": 62, \"SpecialA\": 80, \"SpecialD\": 82, \"Speed\": 60, \"Generation\": 3}, {\"#\": 286, \"Name\": \"Breloom\", \"Type 1\": \"Grass\", \"Type 2\": \"Fighting\", \"Total\": 460, \"HP\": 60, \"Attack\": 130, \"Defense\": 80, \"SpecialA\": 60, \"SpecialD\": 60, \"Speed\": 70, \"Generation\": 3}, {\"#\": 290, \"Name\": \"Nincada\", \"Type 1\": \"Bug\", \"Type 2\": \"Ground\", \"Total\": 266, \"HP\": 31, \"Attack\": 45, \"Defense\": 90, \"SpecialA\": 30, \"SpecialD\": 30, \"Speed\": 40, \"Generation\": 3}, {\"#\": 291, \"Name\": \"Ninjask\", \"Type 1\": \"Bug\", \"Type 2\": \"Flying\", \"Total\": 456, \"HP\": 61, \"Attack\": 90, \"Defense\": 45, \"SpecialA\": 50, \"SpecialD\": 50, \"Speed\": 160, \"Generation\": 3}, {\"#\": 292, \"Name\": \"Shedinja\", \"Type 1\": \"Bug\", \"Type 2\": \"Ghost\", \"Total\": 236, \"HP\": 1, \"Attack\": 90, \"Defense\": 45, \"SpecialA\": 30, \"SpecialD\": 30, \"Speed\": 40, \"Generation\": 3}, {\"#\": 298, \"Name\": \"Azurill\", \"Type 1\": \"Normal\", \"Type 2\": \"Fairy\", \"Total\": 190, \"HP\": 50, \"Attack\": 20, \"Defense\": 40, \"SpecialA\": 20, \"SpecialD\": 40, \"Speed\": 20, \"Generation\": 3}, {\"#\": 302, \"Name\": \"Sableye\", \"Type 1\": \"Dark\", \"Type 2\": \"Ghost\", \"Total\": 380, \"HP\": 50, \"Attack\": 75, \"Defense\": 75, \"SpecialA\": 65, \"SpecialD\": 65, \"Speed\": 50, \"Generation\": 3}, {\"#\": 302, \"Name\": \"SableyeMega Sableye\", \"Type 1\": \"Dark\", \"Type 2\": \"Ghost\", \"Total\": 480, \"HP\": 50, \"Attack\": 85, \"Defense\": 125, \"SpecialA\": 85, \"SpecialD\": 115, \"Speed\": 20, \"Generation\": 3}, {\"#\": 303, \"Name\": \"Mawile\", \"Type 1\": \"Steel\", \"Type 2\": \"Fairy\", \"Total\": 380, \"HP\": 50, \"Attack\": 85, \"Defense\": 85, \"SpecialA\": 55, \"SpecialD\": 55, \"Speed\": 50, \"Generation\": 3}, {\"#\": 303, \"Name\": \"MawileMega Mawile\", \"Type 1\": \"Steel\", \"Type 2\": \"Fairy\", \"Total\": 480, \"HP\": 50, \"Attack\": 105, \"Defense\": 125, \"SpecialA\": 55, \"SpecialD\": 95, \"Speed\": 50, \"Generation\": 3}, {\"#\": 304, \"Name\": \"Aron\", \"Type 1\": \"Steel\", \"Type 2\": \"Rock\", \"Total\": 330, \"HP\": 50, \"Attack\": 70, \"Defense\": 100, \"SpecialA\": 40, \"SpecialD\": 40, \"Speed\": 30, \"Generation\": 3}, {\"#\": 305, \"Name\": \"Lairon\", \"Type 1\": \"Steel\", \"Type 2\": \"Rock\", \"Total\": 430, \"HP\": 60, \"Attack\": 90, \"Defense\": 140, \"SpecialA\": 50, \"SpecialD\": 50, \"Speed\": 40, \"Generation\": 3}, {\"#\": 306, \"Name\": \"Aggron\", \"Type 1\": \"Steel\", \"Type 2\": \"Rock\", \"Total\": 530, \"HP\": 70, \"Attack\": 110, \"Defense\": 180, \"SpecialA\": 60, \"SpecialD\": 60, \"Speed\": 50, \"Generation\": 3}, {\"#\": 307, \"Name\": \"Meditite\", \"Type 1\": \"Fighting\", \"Type 2\": \"Psychic\", \"Total\": 280, \"HP\": 30, \"Attack\": 40, \"Defense\": 55, \"SpecialA\": 40, \"SpecialD\": 55, \"Speed\": 60, \"Generation\": 3}, {\"#\": 308, \"Name\": \"Medicham\", \"Type 1\": \"Fighting\", \"Type 2\": \"Psychic\", \"Total\": 410, \"HP\": 60, \"Attack\": 60, \"Defense\": 75, \"SpecialA\": 60, \"SpecialD\": 75, \"Speed\": 80, \"Generation\": 3}, {\"#\": 308, \"Name\": \"MedichamMega Medicham\", \"Type 1\": \"Fighting\", \"Type 2\": \"Psychic\", \"Total\": 510, \"HP\": 60, \"Attack\": 100, \"Defense\": 85, \"SpecialA\": 80, \"SpecialD\": 85, \"Speed\": 100, \"Generation\": 3}, {\"#\": 315, \"Name\": \"Roselia\", \"Type 1\": \"Grass\", \"Type 2\": \"Poison\", \"Total\": 400, \"HP\": 50, \"Attack\": 60, \"Defense\": 45, \"SpecialA\": 100, \"SpecialD\": 80, \"Speed\": 65, \"Generation\": 3}, {\"#\": 318, \"Name\": \"Carvanha\", \"Type 1\": \"Water\", \"Type 2\": \"Dark\", \"Total\": 305, \"HP\": 45, \"Attack\": 90, \"Defense\": 20, \"SpecialA\": 65, \"SpecialD\": 20, \"Speed\": 65, \"Generation\": 3}, {\"#\": 319, \"Name\": \"Sharpedo\", \"Type 1\": \"Water\", \"Type 2\": \"Dark\", \"Total\": 460, \"HP\": 70, \"Attack\": 120, \"Defense\": 40, \"SpecialA\": 95, \"SpecialD\": 40, \"Speed\": 95, \"Generation\": 3}, {\"#\": 319, \"Name\": \"SharpedoMega Sharpedo\", \"Type 1\": \"Water\", \"Type 2\": \"Dark\", \"Total\": 560, \"HP\": 70, \"Attack\": 140, \"Defense\": 70, \"SpecialA\": 110, \"SpecialD\": 65, \"Speed\": 105, \"Generation\": 3}, {\"#\": 322, \"Name\": \"Numel\", \"Type 1\": \"Fire\", \"Type 2\": \"Ground\", \"Total\": 305, \"HP\": 60, \"Attack\": 60, \"Defense\": 40, \"SpecialA\": 65, \"SpecialD\": 45, \"Speed\": 35, \"Generation\": 3}, {\"#\": 323, \"Name\": \"Camerupt\", \"Type 1\": \"Fire\", \"Type 2\": \"Ground\", \"Total\": 460, \"HP\": 70, \"Attack\": 100, \"Defense\": 70, \"SpecialA\": 105, \"SpecialD\": 75, \"Speed\": 40, \"Generation\": 3}, {\"#\": 323, \"Name\": \"CameruptMega Camerupt\", \"Type 1\": \"Fire\", \"Type 2\": \"Ground\", \"Total\": 560, \"HP\": 70, \"Attack\": 120, \"Defense\": 100, \"SpecialA\": 145, \"SpecialD\": 105, \"Speed\": 20, \"Generation\": 3}, {\"#\": 329, \"Name\": \"Vibrava\", \"Type 1\": \"Ground\", \"Type 2\": \"Dragon\", \"Total\": 340, \"HP\": 50, \"Attack\": 70, \"Defense\": 50, \"SpecialA\": 50, \"SpecialD\": 50, \"Speed\": 70, \"Generation\": 3}, {\"#\": 330, \"Name\": \"Flygon\", \"Type 1\": \"Ground\", \"Type 2\": \"Dragon\", \"Total\": 520, \"HP\": 80, \"Attack\": 100, \"Defense\": 80, \"SpecialA\": 80, \"SpecialD\": 80, \"Speed\": 100, \"Generation\": 3}, {\"#\": 332, \"Name\": \"Cacturne\", \"Type 1\": \"Grass\", \"Type 2\": \"Dark\", \"Total\": 475, \"HP\": 70, \"Attack\": 115, \"Defense\": 60, \"SpecialA\": 115, \"SpecialD\": 60, \"Speed\": 55, \"Generation\": 3}, {\"#\": 333, \"Name\": \"Swablu\", \"Type 1\": \"Normal\", \"Type 2\": \"Flying\", \"Total\": 310, \"HP\": 45, \"Attack\": 40, \"Defense\": 60, \"SpecialA\": 40, \"SpecialD\": 75, \"Speed\": 50, \"Generation\": 3}, {\"#\": 334, \"Name\": \"Altaria\", \"Type 1\": \"Dragon\", \"Type 2\": \"Flying\", \"Total\": 490, \"HP\": 75, \"Attack\": 70, \"Defense\": 90, \"SpecialA\": 70, \"SpecialD\": 105, \"Speed\": 80, \"Generation\": 3}, {\"#\": 334, \"Name\": \"AltariaMega Altaria\", \"Type 1\": \"Dragon\", \"Type 2\": \"Fairy\", \"Total\": 590, \"HP\": 75, \"Attack\": 110, \"Defense\": 110, \"SpecialA\": 110, \"SpecialD\": 105, \"Speed\": 80, \"Generation\": 3}, {\"#\": 337, \"Name\": \"Lunatone\", \"Type 1\": \"Rock\", \"Type 2\": \"Psychic\", \"Total\": 440, \"HP\": 70, \"Attack\": 55, \"Defense\": 65, \"SpecialA\": 95, \"SpecialD\": 85, \"Speed\": 70, \"Generation\": 3}, {\"#\": 338, \"Name\": \"Solrock\", \"Type 1\": \"Rock\", \"Type 2\": \"Psychic\", \"Total\": 440, \"HP\": 70, \"Attack\": 95, \"Defense\": 85, \"SpecialA\": 55, \"SpecialD\": 65, \"Speed\": 70, \"Generation\": 3}, {\"#\": 339, \"Name\": \"Barboach\", \"Type 1\": \"Water\", \"Type 2\": \"Ground\", \"Total\": 288, \"HP\": 50, \"Attack\": 48, \"Defense\": 43, \"SpecialA\": 46, \"SpecialD\": 41, \"Speed\": 60, \"Generation\": 3}, {\"#\": 340, \"Name\": \"Whiscash\", \"Type 1\": \"Water\", \"Type 2\": \"Ground\", \"Total\": 468, \"HP\": 110, \"Attack\": 78, \"Defense\": 73, \"SpecialA\": 76, \"SpecialD\": 71, \"Speed\": 60, \"Generation\": 3}, {\"#\": 342, \"Name\": \"Crawdaunt\", \"Type 1\": \"Water\", \"Type 2\": \"Dark\", \"Total\": 468, \"HP\": 63, \"Attack\": 120, \"Defense\": 85, \"SpecialA\": 90, \"SpecialD\": 55, \"Speed\": 55, \"Generation\": 3}, {\"#\": 343, \"Name\": \"Baltoy\", \"Type 1\": \"Ground\", \"Type 2\": \"Psychic\", \"Total\": 300, \"HP\": 40, \"Attack\": 40, \"Defense\": 55, \"SpecialA\": 40, \"SpecialD\": 70, \"Speed\": 55, \"Generation\": 3}, {\"#\": 344, \"Name\": \"Claydol\", \"Type 1\": \"Ground\", \"Type 2\": \"Psychic\", \"Total\": 500, \"HP\": 60, \"Attack\": 70, \"Defense\": 105, \"SpecialA\": 70, \"SpecialD\": 120, \"Speed\": 75, \"Generation\": 3}, {\"#\": 345, \"Name\": \"Lileep\", \"Type 1\": \"Rock\", \"Type 2\": \"Grass\", \"Total\": 355, \"HP\": 66, \"Attack\": 41, \"Defense\": 77, \"SpecialA\": 61, \"SpecialD\": 87, \"Speed\": 23, \"Generation\": 3}, {\"#\": 346, \"Name\": \"Cradily\", \"Type 1\": \"Rock\", \"Type 2\": \"Grass\", \"Total\": 495, \"HP\": 86, \"Attack\": 81, \"Defense\": 97, \"SpecialA\": 81, \"SpecialD\": 107, \"Speed\": 43, \"Generation\": 3}, {\"#\": 347, \"Name\": \"Anorith\", \"Type 1\": \"Rock\", \"Type 2\": \"Bug\", \"Total\": 355, \"HP\": 45, \"Attack\": 95, \"Defense\": 50, \"SpecialA\": 40, \"SpecialD\": 50, \"Speed\": 75, \"Generation\": 3}, {\"#\": 348, \"Name\": \"Armaldo\", \"Type 1\": \"Rock\", \"Type 2\": \"Bug\", \"Total\": 495, \"HP\": 75, \"Attack\": 125, \"Defense\": 100, \"SpecialA\": 70, \"SpecialD\": 80, \"Speed\": 45, \"Generation\": 3}, {\"#\": 357, \"Name\": \"Tropius\", \"Type 1\": \"Grass\", \"Type 2\": \"Flying\", \"Total\": 460, \"HP\": 99, \"Attack\": 68, \"Defense\": 83, \"SpecialA\": 72, \"SpecialD\": 87, \"Speed\": 51, \"Generation\": 3}, {\"#\": 363, \"Name\": \"Spheal\", \"Type 1\": \"Ice\", \"Type 2\": \"Water\", \"Total\": 290, \"HP\": 70, \"Attack\": 40, \"Defense\": 50, \"SpecialA\": 55, \"SpecialD\": 50, \"Speed\": 25, \"Generation\": 3}, {\"#\": 364, \"Name\": \"Sealeo\", \"Type 1\": \"Ice\", \"Type 2\": \"Water\", \"Total\": 410, \"HP\": 90, \"Attack\": 60, \"Defense\": 70, \"SpecialA\": 75, \"SpecialD\": 70, \"Speed\": 45, \"Generation\": 3}, {\"#\": 365, \"Name\": \"Walrein\", \"Type 1\": \"Ice\", \"Type 2\": \"Water\", \"Total\": 530, \"HP\": 110, \"Attack\": 80, \"Defense\": 90, \"SpecialA\": 95, \"SpecialD\": 90, \"Speed\": 65, \"Generation\": 3}, {\"#\": 369, \"Name\": \"Relicanth\", \"Type 1\": \"Water\", \"Type 2\": \"Rock\", \"Total\": 485, \"HP\": 100, \"Attack\": 90, \"Defense\": 130, \"SpecialA\": 45, \"SpecialD\": 65, \"Speed\": 55, \"Generation\": 3}, {\"#\": 373, \"Name\": \"Salamence\", \"Type 1\": \"Dragon\", \"Type 2\": \"Flying\", \"Total\": 600, \"HP\": 95, \"Attack\": 135, \"Defense\": 80, \"SpecialA\": 110, \"SpecialD\": 80, \"Speed\": 100, \"Generation\": 3}, {\"#\": 373, \"Name\": \"SalamenceMega Salamence\", \"Type 1\": \"Dragon\", \"Type 2\": \"Flying\", \"Total\": 700, \"HP\": 95, \"Attack\": 145, \"Defense\": 130, \"SpecialA\": 120, \"SpecialD\": 90, \"Speed\": 120, \"Generation\": 3}, {\"#\": 374, \"Name\": \"Beldum\", \"Type 1\": \"Steel\", \"Type 2\": \"Psychic\", \"Total\": 300, \"HP\": 40, \"Attack\": 55, \"Defense\": 80, \"SpecialA\": 35, \"SpecialD\": 60, \"Speed\": 30, \"Generation\": 3}, {\"#\": 375, \"Name\": \"Metang\", \"Type 1\": \"Steel\", \"Type 2\": \"Psychic\", \"Total\": 420, \"HP\": 60, \"Attack\": 75, \"Defense\": 100, \"SpecialA\": 55, \"SpecialD\": 80, \"Speed\": 50, \"Generation\": 3}, {\"#\": 376, \"Name\": \"Metagross\", \"Type 1\": \"Steel\", \"Type 2\": \"Psychic\", \"Total\": 600, \"HP\": 80, \"Attack\": 135, \"Defense\": 130, \"SpecialA\": 95, \"SpecialD\": 90, \"Speed\": 70, \"Generation\": 3}, {\"#\": 376, \"Name\": \"MetagrossMega Metagross\", \"Type 1\": \"Steel\", \"Type 2\": \"Psychic\", \"Total\": 700, \"HP\": 80, \"Attack\": 145, \"Defense\": 150, \"SpecialA\": 105, \"SpecialD\": 110, \"Speed\": 110, \"Generation\": 3}, {\"#\": 389, \"Name\": \"Torterra\", \"Type 1\": \"Grass\", \"Type 2\": \"Ground\", \"Total\": 525, \"HP\": 95, \"Attack\": 109, \"Defense\": 105, \"SpecialA\": 75, \"SpecialD\": 85, \"Speed\": 56, \"Generation\": 4}, {\"#\": 391, \"Name\": \"Monferno\", \"Type 1\": \"Fire\", \"Type 2\": \"Fighting\", \"Total\": 405, \"HP\": 64, \"Attack\": 78, \"Defense\": 52, \"SpecialA\": 78, \"SpecialD\": 52, \"Speed\": 81, \"Generation\": 4}, {\"#\": 392, \"Name\": \"Infernape\", \"Type 1\": \"Fire\", \"Type 2\": \"Fighting\", \"Total\": 534, \"HP\": 76, \"Attack\": 104, \"Defense\": 71, \"SpecialA\": 104, \"SpecialD\": 71, \"Speed\": 108, \"Generation\": 4}, {\"#\": 395, \"Name\": \"Empoleon\", \"Type 1\": \"Water\", \"Type 2\": \"Steel\", \"Total\": 530, \"HP\": 84, \"Attack\": 86, \"Defense\": 88, \"SpecialA\": 111, \"SpecialD\": 101, \"Speed\": 60, \"Generation\": 4}, {\"#\": 396, \"Name\": \"Starly\", \"Type 1\": \"Normal\", \"Type 2\": \"Flying\", \"Total\": 245, \"HP\": 40, \"Attack\": 55, \"Defense\": 30, \"SpecialA\": 30, \"SpecialD\": 30, \"Speed\": 60, \"Generation\": 4}, {\"#\": 397, \"Name\": \"Staravia\", \"Type 1\": \"Normal\", \"Type 2\": \"Flying\", \"Total\": 340, \"HP\": 55, \"Attack\": 75, \"Defense\": 50, \"SpecialA\": 40, \"SpecialD\": 40, \"Speed\": 80, \"Generation\": 4}, {\"#\": 398, \"Name\": \"Staraptor\", \"Type 1\": \"Normal\", \"Type 2\": \"Flying\", \"Total\": 485, \"HP\": 85, \"Attack\": 120, \"Defense\": 70, \"SpecialA\": 50, \"SpecialD\": 60, \"Speed\": 100, \"Generation\": 4}, {\"#\": 400, \"Name\": \"Bibarel\", \"Type 1\": \"Normal\", \"Type 2\": \"Water\", \"Total\": 410, \"HP\": 79, \"Attack\": 85, \"Defense\": 60, \"SpecialA\": 55, \"SpecialD\": 60, \"Speed\": 71, \"Generation\": 4}, {\"#\": 406, \"Name\": \"Budew\", \"Type 1\": \"Grass\", \"Type 2\": \"Poison\", \"Total\": 280, \"HP\": 40, \"Attack\": 30, \"Defense\": 35, \"SpecialA\": 50, \"SpecialD\": 70, \"Speed\": 55, \"Generation\": 4}, {\"#\": 407, \"Name\": \"Roserade\", \"Type 1\": \"Grass\", \"Type 2\": \"Poison\", \"Total\": 515, \"HP\": 60, \"Attack\": 70, \"Defense\": 65, \"SpecialA\": 125, \"SpecialD\": 105, \"Speed\": 90, \"Generation\": 4}, {\"#\": 410, \"Name\": \"Shieldon\", \"Type 1\": \"Rock\", \"Type 2\": \"Steel\", \"Total\": 350, \"HP\": 30, \"Attack\": 42, \"Defense\": 118, \"SpecialA\": 42, \"SpecialD\": 88, \"Speed\": 30, \"Generation\": 4}, {\"#\": 411, \"Name\": \"Bastiodon\", \"Type 1\": \"Rock\", \"Type 2\": \"Steel\", \"Total\": 495, \"HP\": 60, \"Attack\": 52, \"Defense\": 168, \"SpecialA\": 47, \"SpecialD\": 138, \"Speed\": 30, \"Generation\": 4}, {\"#\": 413, \"Name\": \"WormadamPlant Cloak\", \"Type 1\": \"Bug\", \"Type 2\": \"Grass\", \"Total\": 424, \"HP\": 60, \"Attack\": 59, \"Defense\": 85, \"SpecialA\": 79, \"SpecialD\": 105, \"Speed\": 36, \"Generation\": 4}, {\"#\": 413, \"Name\": \"WormadamSandy Cloak\", \"Type 1\": \"Bug\", \"Type 2\": \"Ground\", \"Total\": 424, \"HP\": 60, \"Attack\": 79, \"Defense\": 105, \"SpecialA\": 59, \"SpecialD\": 85, \"Speed\": 36, \"Generation\": 4}, {\"#\": 413, \"Name\": \"WormadamTrash Cloak\", \"Type 1\": \"Bug\", \"Type 2\": \"Steel\", \"Total\": 424, \"HP\": 60, \"Attack\": 69, \"Defense\": 95, \"SpecialA\": 69, \"SpecialD\": 95, \"Speed\": 36, \"Generation\": 4}, {\"#\": 414, \"Name\": \"Mothim\", \"Type 1\": \"Bug\", \"Type 2\": \"Flying\", \"Total\": 424, \"HP\": 70, \"Attack\": 94, \"Defense\": 50, \"SpecialA\": 94, \"SpecialD\": 50, \"Speed\": 66, \"Generation\": 4}, {\"#\": 415, \"Name\": \"Combee\", \"Type 1\": \"Bug\", \"Type 2\": \"Flying\", \"Total\": 244, \"HP\": 30, \"Attack\": 30, \"Defense\": 42, \"SpecialA\": 30, \"SpecialD\": 42, \"Speed\": 70, \"Generation\": 4}, {\"#\": 416, \"Name\": \"Vespiquen\", \"Type 1\": \"Bug\", \"Type 2\": \"Flying\", \"Total\": 474, \"HP\": 70, \"Attack\": 80, \"Defense\": 102, \"SpecialA\": 80, \"SpecialD\": 102, \"Speed\": 40, \"Generation\": 4}, {\"#\": 423, \"Name\": \"Gastrodon\", \"Type 1\": \"Water\", \"Type 2\": \"Ground\", \"Total\": 475, \"HP\": 111, \"Attack\": 83, \"Defense\": 68, \"SpecialA\": 92, \"SpecialD\": 82, \"Speed\": 39, \"Generation\": 4}, {\"#\": 425, \"Name\": \"Drifloon\", \"Type 1\": \"Ghost\", \"Type 2\": \"Flying\", \"Total\": 348, \"HP\": 90, \"Attack\": 50, \"Defense\": 34, \"SpecialA\": 60, \"SpecialD\": 44, \"Speed\": 70, \"Generation\": 4}, {\"#\": 426, \"Name\": \"Drifblim\", \"Type 1\": \"Ghost\", \"Type 2\": \"Flying\", \"Total\": 498, \"HP\": 150, \"Attack\": 80, \"Defense\": 44, \"SpecialA\": 90, \"SpecialD\": 54, \"Speed\": 80, \"Generation\": 4}, {\"#\": 428, \"Name\": \"LopunnyMega Lopunny\", \"Type 1\": \"Normal\", \"Type 2\": \"Fighting\", \"Total\": 580, \"HP\": 65, \"Attack\": 136, \"Defense\": 94, \"SpecialA\": 54, \"SpecialD\": 96, \"Speed\": 135, \"Generation\": 4}, {\"#\": 430, \"Name\": \"Honchkrow\", \"Type 1\": \"Dark\", \"Type 2\": \"Flying\", \"Total\": 505, \"HP\": 100, \"Attack\": 125, \"Defense\": 52, \"SpecialA\": 105, \"SpecialD\": 52, \"Speed\": 71, \"Generation\": 4}, {\"#\": 434, \"Name\": \"Stunky\", \"Type 1\": \"Poison\", \"Type 2\": \"Dark\", \"Total\": 329, \"HP\": 63, \"Attack\": 63, \"Defense\": 47, \"SpecialA\": 41, \"SpecialD\": 41, \"Speed\": 74, \"Generation\": 4}, {\"#\": 435, \"Name\": \"Skuntank\", \"Type 1\": \"Poison\", \"Type 2\": \"Dark\", \"Total\": 479, \"HP\": 103, \"Attack\": 93, \"Defense\": 67, \"SpecialA\": 71, \"SpecialD\": 61, \"Speed\": 84, \"Generation\": 4}, {\"#\": 436, \"Name\": \"Bronzor\", \"Type 1\": \"Steel\", \"Type 2\": \"Psychic\", \"Total\": 300, \"HP\": 57, \"Attack\": 24, \"Defense\": 86, \"SpecialA\": 24, \"SpecialD\": 86, \"Speed\": 23, \"Generation\": 4}, {\"#\": 437, \"Name\": \"Bronzong\", \"Type 1\": \"Steel\", \"Type 2\": \"Psychic\", \"Total\": 500, \"HP\": 67, \"Attack\": 89, \"Defense\": 116, \"SpecialA\": 79, \"SpecialD\": 116, \"Speed\": 33, \"Generation\": 4}, {\"#\": 439, \"Name\": \"Mime Jr.\", \"Type 1\": \"Psychic\", \"Type 2\": \"Fairy\", \"Total\": 310, \"HP\": 20, \"Attack\": 25, \"Defense\": 45, \"SpecialA\": 70, \"SpecialD\": 90, \"Speed\": 60, \"Generation\": 4}, {\"#\": 441, \"Name\": \"Chatot\", \"Type 1\": \"Normal\", \"Type 2\": \"Flying\", \"Total\": 411, \"HP\": 76, \"Attack\": 65, \"Defense\": 45, \"SpecialA\": 92, \"SpecialD\": 42, \"Speed\": 91, \"Generation\": 4}, {\"#\": 442, \"Name\": \"Spiritomb\", \"Type 1\": \"Ghost\", \"Type 2\": \"Dark\", \"Total\": 485, \"HP\": 50, \"Attack\": 92, \"Defense\": 108, \"SpecialA\": 92, \"SpecialD\": 108, \"Speed\": 35, \"Generation\": 4}, {\"#\": 443, \"Name\": \"Gible\", \"Type 1\": \"Dragon\", \"Type 2\": \"Ground\", \"Total\": 300, \"HP\": 58, \"Attack\": 70, \"Defense\": 45, \"SpecialA\": 40, \"SpecialD\": 45, \"Speed\": 42, \"Generation\": 4}, {\"#\": 444, \"Name\": \"Gabite\", \"Type 1\": \"Dragon\", \"Type 2\": \"Ground\", \"Total\": 410, \"HP\": 68, \"Attack\": 90, \"Defense\": 65, \"SpecialA\": 50, \"SpecialD\": 55, \"Speed\": 82, \"Generation\": 4}, {\"#\": 445, \"Name\": \"Garchomp\", \"Type 1\": \"Dragon\", \"Type 2\": \"Ground\", \"Total\": 600, \"HP\": 108, \"Attack\": 130, \"Defense\": 95, \"SpecialA\": 80, \"SpecialD\": 85, \"Speed\": 102, \"Generation\": 4}, {\"#\": 445, \"Name\": \"GarchompMega Garchomp\", \"Type 1\": \"Dragon\", \"Type 2\": \"Ground\", \"Total\": 700, \"HP\": 108, \"Attack\": 170, \"Defense\": 115, \"SpecialA\": 120, \"SpecialD\": 95, \"Speed\": 92, \"Generation\": 4}, {\"#\": 448, \"Name\": \"Lucario\", \"Type 1\": \"Fighting\", \"Type 2\": \"Steel\", \"Total\": 525, \"HP\": 70, \"Attack\": 110, \"Defense\": 70, \"SpecialA\": 115, \"SpecialD\": 70, \"Speed\": 90, \"Generation\": 4}, {\"#\": 448, \"Name\": \"LucarioMega Lucario\", \"Type 1\": \"Fighting\", \"Type 2\": \"Steel\", \"Total\": 625, \"HP\": 70, \"Attack\": 145, \"Defense\": 88, \"SpecialA\": 140, \"SpecialD\": 70, \"Speed\": 112, \"Generation\": 4}, {\"#\": 451, \"Name\": \"Skorupi\", \"Type 1\": \"Poison\", \"Type 2\": \"Bug\", \"Total\": 330, \"HP\": 40, \"Attack\": 50, \"Defense\": 90, \"SpecialA\": 30, \"SpecialD\": 55, \"Speed\": 65, \"Generation\": 4}, {\"#\": 452, \"Name\": \"Drapion\", \"Type 1\": \"Poison\", \"Type 2\": \"Dark\", \"Total\": 500, \"HP\": 70, \"Attack\": 90, \"Defense\": 110, \"SpecialA\": 60, \"SpecialD\": 75, \"Speed\": 95, \"Generation\": 4}, {\"#\": 453, \"Name\": \"Croagunk\", \"Type 1\": \"Poison\", \"Type 2\": \"Fighting\", \"Total\": 300, \"HP\": 48, \"Attack\": 61, \"Defense\": 40, \"SpecialA\": 61, \"SpecialD\": 40, \"Speed\": 50, \"Generation\": 4}, {\"#\": 454, \"Name\": \"Toxicroak\", \"Type 1\": \"Poison\", \"Type 2\": \"Fighting\", \"Total\": 490, \"HP\": 83, \"Attack\": 106, \"Defense\": 65, \"SpecialA\": 86, \"SpecialD\": 65, \"Speed\": 85, \"Generation\": 4}, {\"#\": 458, \"Name\": \"Mantyke\", \"Type 1\": \"Water\", \"Type 2\": \"Flying\", \"Total\": 345, \"HP\": 45, \"Attack\": 20, \"Defense\": 50, \"SpecialA\": 60, \"SpecialD\": 120, \"Speed\": 50, \"Generation\": 4}, {\"#\": 459, \"Name\": \"Snover\", \"Type 1\": \"Grass\", \"Type 2\": \"Ice\", \"Total\": 334, \"HP\": 60, \"Attack\": 62, \"Defense\": 50, \"SpecialA\": 62, \"SpecialD\": 60, \"Speed\": 40, \"Generation\": 4}, {\"#\": 460, \"Name\": \"Abomasnow\", \"Type 1\": \"Grass\", \"Type 2\": \"Ice\", \"Total\": 494, \"HP\": 90, \"Attack\": 92, \"Defense\": 75, \"SpecialA\": 92, \"SpecialD\": 85, \"Speed\": 60, \"Generation\": 4}, {\"#\": 460, \"Name\": \"AbomasnowMega Abomasnow\", \"Type 1\": \"Grass\", \"Type 2\": \"Ice\", \"Total\": 594, \"HP\": 90, \"Attack\": 132, \"Defense\": 105, \"SpecialA\": 132, \"SpecialD\": 105, \"Speed\": 30, \"Generation\": 4}, {\"#\": 461, \"Name\": \"Weavile\", \"Type 1\": \"Dark\", \"Type 2\": \"Ice\", \"Total\": 510, \"HP\": 70, \"Attack\": 120, \"Defense\": 65, \"SpecialA\": 45, \"SpecialD\": 85, \"Speed\": 125, \"Generation\": 4}, {\"#\": 462, \"Name\": \"Magnezone\", \"Type 1\": \"Electric\", \"Type 2\": \"Steel\", \"Total\": 535, \"HP\": 70, \"Attack\": 70, \"Defense\": 115, \"SpecialA\": 130, \"SpecialD\": 90, \"Speed\": 60, \"Generation\": 4}, {\"#\": 464, \"Name\": \"Rhyperior\", \"Type 1\": \"Ground\", \"Type 2\": \"Rock\", \"Total\": 535, \"HP\": 115, \"Attack\": 140, \"Defense\": 130, \"SpecialA\": 55, \"SpecialD\": 55, \"Speed\": 40, \"Generation\": 4}, {\"#\": 468, \"Name\": \"Togekiss\", \"Type 1\": \"Fairy\", \"Type 2\": \"Flying\", \"Total\": 545, \"HP\": 85, \"Attack\": 50, \"Defense\": 95, \"SpecialA\": 120, \"SpecialD\": 115, \"Speed\": 80, \"Generation\": 4}, {\"#\": 469, \"Name\": \"Yanmega\", \"Type 1\": \"Bug\", \"Type 2\": \"Flying\", \"Total\": 515, \"HP\": 86, \"Attack\": 76, \"Defense\": 86, \"SpecialA\": 116, \"SpecialD\": 56, \"Speed\": 95, \"Generation\": 4}, {\"#\": 472, \"Name\": \"Gliscor\", \"Type 1\": \"Ground\", \"Type 2\": \"Flying\", \"Total\": 510, \"HP\": 75, \"Attack\": 95, \"Defense\": 125, \"SpecialA\": 45, \"SpecialD\": 75, \"Speed\": 95, \"Generation\": 4}, {\"#\": 473, \"Name\": \"Mamoswine\", \"Type 1\": \"Ice\", \"Type 2\": \"Ground\", \"Total\": 530, \"HP\": 110, \"Attack\": 130, \"Defense\": 80, \"SpecialA\": 70, \"SpecialD\": 60, \"Speed\": 80, \"Generation\": 4}, {\"#\": 475, \"Name\": \"Gallade\", \"Type 1\": \"Psychic\", \"Type 2\": \"Fighting\", \"Total\": 518, \"HP\": 68, \"Attack\": 125, \"Defense\": 65, \"SpecialA\": 65, \"SpecialD\": 115, \"Speed\": 80, \"Generation\": 4}, {\"#\": 475, \"Name\": \"GalladeMega Gallade\", \"Type 1\": \"Psychic\", \"Type 2\": \"Fighting\", \"Total\": 618, \"HP\": 68, \"Attack\": 165, \"Defense\": 95, \"SpecialA\": 65, \"SpecialD\": 115, \"Speed\": 110, \"Generation\": 4}, {\"#\": 476, \"Name\": \"Probopass\", \"Type 1\": \"Rock\", \"Type 2\": \"Steel\", \"Total\": 525, \"HP\": 60, \"Attack\": 55, \"Defense\": 145, \"SpecialA\": 75, \"SpecialD\": 150, \"Speed\": 40, \"Generation\": 4}, {\"#\": 478, \"Name\": \"Froslass\", \"Type 1\": \"Ice\", \"Type 2\": \"Ghost\", \"Total\": 480, \"HP\": 70, \"Attack\": 80, \"Defense\": 70, \"SpecialA\": 80, \"SpecialD\": 70, \"Speed\": 110, \"Generation\": 4}, {\"#\": 479, \"Name\": \"Rotom\", \"Type 1\": \"Electric\", \"Type 2\": \"Ghost\", \"Total\": 440, \"HP\": 50, \"Attack\": 50, \"Defense\": 77, \"SpecialA\": 95, \"SpecialD\": 77, \"Speed\": 91, \"Generation\": 4}, {\"#\": 479, \"Name\": \"RotomHeat Rotom\", \"Type 1\": \"Electric\", \"Type 2\": \"Fire\", \"Total\": 520, \"HP\": 50, \"Attack\": 65, \"Defense\": 107, \"SpecialA\": 105, \"SpecialD\": 107, \"Speed\": 86, \"Generation\": 4}, {\"#\": 479, \"Name\": \"RotomWash Rotom\", \"Type 1\": \"Electric\", \"Type 2\": \"Water\", \"Total\": 520, \"HP\": 50, \"Attack\": 65, \"Defense\": 107, \"SpecialA\": 105, \"SpecialD\": 107, \"Speed\": 86, \"Generation\": 4}, {\"#\": 479, \"Name\": \"RotomFrost Rotom\", \"Type 1\": \"Electric\", \"Type 2\": \"Ice\", \"Total\": 520, \"HP\": 50, \"Attack\": 65, \"Defense\": 107, \"SpecialA\": 105, \"SpecialD\": 107, \"Speed\": 86, \"Generation\": 4}, {\"#\": 479, \"Name\": \"RotomFan Rotom\", \"Type 1\": \"Electric\", \"Type 2\": \"Flying\", \"Total\": 520, \"HP\": 50, \"Attack\": 65, \"Defense\": 107, \"SpecialA\": 105, \"SpecialD\": 107, \"Speed\": 86, \"Generation\": 4}, {\"#\": 479, \"Name\": \"RotomMow Rotom\", \"Type 1\": \"Electric\", \"Type 2\": \"Grass\", \"Total\": 520, \"HP\": 50, \"Attack\": 65, \"Defense\": 107, \"SpecialA\": 105, \"SpecialD\": 107, \"Speed\": 86, \"Generation\": 4}, {\"#\": 499, \"Name\": \"Pignite\", \"Type 1\": \"Fire\", \"Type 2\": \"Fighting\", \"Total\": 418, \"HP\": 90, \"Attack\": 93, \"Defense\": 55, \"SpecialA\": 70, \"SpecialD\": 55, \"Speed\": 55, \"Generation\": 5}, {\"#\": 500, \"Name\": \"Emboar\", \"Type 1\": \"Fire\", \"Type 2\": \"Fighting\", \"Total\": 528, \"HP\": 110, \"Attack\": 123, \"Defense\": 65, \"SpecialA\": 100, \"SpecialD\": 65, \"Speed\": 65, \"Generation\": 5}, {\"#\": 519, \"Name\": \"Pidove\", \"Type 1\": \"Normal\", \"Type 2\": \"Flying\", \"Total\": 264, \"HP\": 50, \"Attack\": 55, \"Defense\": 50, \"SpecialA\": 36, \"SpecialD\": 30, \"Speed\": 43, \"Generation\": 5}, {\"#\": 520, \"Name\": \"Tranquill\", \"Type 1\": \"Normal\", \"Type 2\": \"Flying\", \"Total\": 358, \"HP\": 62, \"Attack\": 77, \"Defense\": 62, \"SpecialA\": 50, \"SpecialD\": 42, \"Speed\": 65, \"Generation\": 5}, {\"#\": 521, \"Name\": \"Unfezant\", \"Type 1\": \"Normal\", \"Type 2\": \"Flying\", \"Total\": 488, \"HP\": 80, \"Attack\": 115, \"Defense\": 80, \"SpecialA\": 65, \"SpecialD\": 55, \"Speed\": 93, \"Generation\": 5}, {\"#\": 527, \"Name\": \"Woobat\", \"Type 1\": \"Psychic\", \"Type 2\": \"Flying\", \"Total\": 313, \"HP\": 55, \"Attack\": 45, \"Defense\": 43, \"SpecialA\": 55, \"SpecialD\": 43, \"Speed\": 72, \"Generation\": 5}, {\"#\": 528, \"Name\": \"Swoobat\", \"Type 1\": \"Psychic\", \"Type 2\": \"Flying\", \"Total\": 425, \"HP\": 67, \"Attack\": 57, \"Defense\": 55, \"SpecialA\": 77, \"SpecialD\": 55, \"Speed\": 114, \"Generation\": 5}, {\"#\": 530, \"Name\": \"Excadrill\", \"Type 1\": \"Ground\", \"Type 2\": \"Steel\", \"Total\": 508, \"HP\": 110, \"Attack\": 135, \"Defense\": 60, \"SpecialA\": 50, \"SpecialD\": 65, \"Speed\": 88, \"Generation\": 5}, {\"#\": 531, \"Name\": \"AudinoMega Audino\", \"Type 1\": \"Normal\", \"Type 2\": \"Fairy\", \"Total\": 545, \"HP\": 103, \"Attack\": 60, \"Defense\": 126, \"SpecialA\": 80, \"SpecialD\": 126, \"Speed\": 50, \"Generation\": 5}, {\"#\": 536, \"Name\": \"Palpitoad\", \"Type 1\": \"Water\", \"Type 2\": \"Ground\", \"Total\": 384, \"HP\": 75, \"Attack\": 65, \"Defense\": 55, \"SpecialA\": 65, \"SpecialD\": 55, \"Speed\": 69, \"Generation\": 5}, {\"#\": 537, \"Name\": \"Seismitoad\", \"Type 1\": \"Water\", \"Type 2\": \"Ground\", \"Total\": 509, \"HP\": 105, \"Attack\": 95, \"Defense\": 75, \"SpecialA\": 85, \"SpecialD\": 75, \"Speed\": 74, \"Generation\": 5}, {\"#\": 540, \"Name\": \"Sewaddle\", \"Type 1\": \"Bug\", \"Type 2\": \"Grass\", \"Total\": 310, \"HP\": 45, \"Attack\": 53, \"Defense\": 70, \"SpecialA\": 40, \"SpecialD\": 60, \"Speed\": 42, \"Generation\": 5}, {\"#\": 541, \"Name\": \"Swadloon\", \"Type 1\": \"Bug\", \"Type 2\": \"Grass\", \"Total\": 380, \"HP\": 55, \"Attack\": 63, \"Defense\": 90, \"SpecialA\": 50, \"SpecialD\": 80, \"Speed\": 42, \"Generation\": 5}, {\"#\": 542, \"Name\": \"Leavanny\", \"Type 1\": \"Bug\", \"Type 2\": \"Grass\", \"Total\": 500, \"HP\": 75, \"Attack\": 103, \"Defense\": 80, \"SpecialA\": 70, \"SpecialD\": 80, \"Speed\": 92, \"Generation\": 5}, {\"#\": 543, \"Name\": \"Venipede\", \"Type 1\": \"Bug\", \"Type 2\": \"Poison\", \"Total\": 260, \"HP\": 30, \"Attack\": 45, \"Defense\": 59, \"SpecialA\": 30, \"SpecialD\": 39, \"Speed\": 57, \"Generation\": 5}, {\"#\": 544, \"Name\": \"Whirlipede\", \"Type 1\": \"Bug\", \"Type 2\": \"Poison\", \"Total\": 360, \"HP\": 40, \"Attack\": 55, \"Defense\": 99, \"SpecialA\": 40, \"SpecialD\": 79, \"Speed\": 47, \"Generation\": 5}, {\"#\": 545, \"Name\": \"Scolipede\", \"Type 1\": \"Bug\", \"Type 2\": \"Poison\", \"Total\": 485, \"HP\": 60, \"Attack\": 100, \"Defense\": 89, \"SpecialA\": 55, \"SpecialD\": 69, \"Speed\": 112, \"Generation\": 5}, {\"#\": 546, \"Name\": \"Cottonee\", \"Type 1\": \"Grass\", \"Type 2\": \"Fairy\", \"Total\": 280, \"HP\": 40, \"Attack\": 27, \"Defense\": 60, \"SpecialA\": 37, \"SpecialD\": 50, \"Speed\": 66, \"Generation\": 5}, {\"#\": 547, \"Name\": \"Whimsicott\", \"Type 1\": \"Grass\", \"Type 2\": \"Fairy\", \"Total\": 480, \"HP\": 60, \"Attack\": 67, \"Defense\": 85, \"SpecialA\": 77, \"SpecialD\": 75, \"Speed\": 116, \"Generation\": 5}, {\"#\": 551, \"Name\": \"Sandile\", \"Type 1\": \"Ground\", \"Type 2\": \"Dark\", \"Total\": 292, \"HP\": 50, \"Attack\": 72, \"Defense\": 35, \"SpecialA\": 35, \"SpecialD\": 35, \"Speed\": 65, \"Generation\": 5}, {\"#\": 552, \"Name\": \"Krokorok\", \"Type 1\": \"Ground\", \"Type 2\": \"Dark\", \"Total\": 351, \"HP\": 60, \"Attack\": 82, \"Defense\": 45, \"SpecialA\": 45, \"SpecialD\": 45, \"Speed\": 74, \"Generation\": 5}, {\"#\": 553, \"Name\": \"Krookodile\", \"Type 1\": \"Ground\", \"Type 2\": \"Dark\", \"Total\": 519, \"HP\": 95, \"Attack\": 117, \"Defense\": 80, \"SpecialA\": 65, \"SpecialD\": 70, \"Speed\": 92, \"Generation\": 5}, {\"#\": 555, \"Name\": \"DarmanitanZen Mode\", \"Type 1\": \"Fire\", \"Type 2\": \"Psychic\", \"Total\": 540, \"HP\": 105, \"Attack\": 30, \"Defense\": 105, \"SpecialA\": 140, \"SpecialD\": 105, \"Speed\": 55, \"Generation\": 5}, {\"#\": 557, \"Name\": \"Dwebble\", \"Type 1\": \"Bug\", \"Type 2\": \"Rock\", \"Total\": 325, \"HP\": 50, \"Attack\": 65, \"Defense\": 85, \"SpecialA\": 35, \"SpecialD\": 35, \"Speed\": 55, \"Generation\": 5}, {\"#\": 558, \"Name\": \"Crustle\", \"Type 1\": \"Bug\", \"Type 2\": \"Rock\", \"Total\": 475, \"HP\": 70, \"Attack\": 95, \"Defense\": 125, \"SpecialA\": 65, \"SpecialD\": 75, \"Speed\": 45, \"Generation\": 5}, {\"#\": 559, \"Name\": \"Scraggy\", \"Type 1\": \"Dark\", \"Type 2\": \"Fighting\", \"Total\": 348, \"HP\": 50, \"Attack\": 75, \"Defense\": 70, \"SpecialA\": 35, \"SpecialD\": 70, \"Speed\": 48, \"Generation\": 5}, {\"#\": 560, \"Name\": \"Scrafty\", \"Type 1\": \"Dark\", \"Type 2\": \"Fighting\", \"Total\": 488, \"HP\": 65, \"Attack\": 90, \"Defense\": 115, \"SpecialA\": 45, \"SpecialD\": 115, \"Speed\": 58, \"Generation\": 5}, {\"#\": 561, \"Name\": \"Sigilyph\", \"Type 1\": \"Psychic\", \"Type 2\": \"Flying\", \"Total\": 490, \"HP\": 72, \"Attack\": 58, \"Defense\": 80, \"SpecialA\": 103, \"SpecialD\": 80, \"Speed\": 97, \"Generation\": 5}, {\"#\": 564, \"Name\": \"Tirtouga\", \"Type 1\": \"Water\", \"Type 2\": \"Rock\", \"Total\": 355, \"HP\": 54, \"Attack\": 78, \"Defense\": 103, \"SpecialA\": 53, \"SpecialD\": 45, \"Speed\": 22, \"Generation\": 5}, {\"#\": 565, \"Name\": \"Carracosta\", \"Type 1\": \"Water\", \"Type 2\": \"Rock\", \"Total\": 495, \"HP\": 74, \"Attack\": 108, \"Defense\": 133, \"SpecialA\": 83, \"SpecialD\": 65, \"Speed\": 32, \"Generation\": 5}, {\"#\": 566, \"Name\": \"Archen\", \"Type 1\": \"Rock\", \"Type 2\": \"Flying\", \"Total\": 401, \"HP\": 55, \"Attack\": 112, \"Defense\": 45, \"SpecialA\": 74, \"SpecialD\": 45, \"Speed\": 70, \"Generation\": 5}, {\"#\": 567, \"Name\": \"Archeops\", \"Type 1\": \"Rock\", \"Type 2\": \"Flying\", \"Total\": 567, \"HP\": 75, \"Attack\": 140, \"Defense\": 65, \"SpecialA\": 112, \"SpecialD\": 65, \"Speed\": 110, \"Generation\": 5}, {\"#\": 580, \"Name\": \"Ducklett\", \"Type 1\": \"Water\", \"Type 2\": \"Flying\", \"Total\": 305, \"HP\": 62, \"Attack\": 44, \"Defense\": 50, \"SpecialA\": 44, \"SpecialD\": 50, \"Speed\": 55, \"Generation\": 5}, {\"#\": 581, \"Name\": \"Swanna\", \"Type 1\": \"Water\", \"Type 2\": \"Flying\", \"Total\": 473, \"HP\": 75, \"Attack\": 87, \"Defense\": 63, \"SpecialA\": 87, \"SpecialD\": 63, \"Speed\": 98, \"Generation\": 5}, {\"#\": 585, \"Name\": \"Deerling\", \"Type 1\": \"Normal\", \"Type 2\": \"Grass\", \"Total\": 335, \"HP\": 60, \"Attack\": 60, \"Defense\": 50, \"SpecialA\": 40, \"SpecialD\": 50, \"Speed\": 75, \"Generation\": 5}, {\"#\": 586, \"Name\": \"Sawsbuck\", \"Type 1\": \"Normal\", \"Type 2\": \"Grass\", \"Total\": 475, \"HP\": 80, \"Attack\": 100, \"Defense\": 70, \"SpecialA\": 60, \"SpecialD\": 70, \"Speed\": 95, \"Generation\": 5}, {\"#\": 587, \"Name\": \"Emolga\", \"Type 1\": \"Electric\", \"Type 2\": \"Flying\", \"Total\": 428, \"HP\": 55, \"Attack\": 75, \"Defense\": 60, \"SpecialA\": 75, \"SpecialD\": 60, \"Speed\": 103, \"Generation\": 5}, {\"#\": 589, \"Name\": \"Escavalier\", \"Type 1\": \"Bug\", \"Type 2\": \"Steel\", \"Total\": 495, \"HP\": 70, \"Attack\": 135, \"Defense\": 105, \"SpecialA\": 60, \"SpecialD\": 105, \"Speed\": 20, \"Generation\": 5}, {\"#\": 590, \"Name\": \"Foongus\", \"Type 1\": \"Grass\", \"Type 2\": \"Poison\", \"Total\": 294, \"HP\": 69, \"Attack\": 55, \"Defense\": 45, \"SpecialA\": 55, \"SpecialD\": 55, \"Speed\": 15, \"Generation\": 5}, {\"#\": 591, \"Name\": \"Amoonguss\", \"Type 1\": \"Grass\", \"Type 2\": \"Poison\", \"Total\": 464, \"HP\": 114, \"Attack\": 85, \"Defense\": 70, \"SpecialA\": 85, \"SpecialD\": 80, \"Speed\": 30, \"Generation\": 5}, {\"#\": 592, \"Name\": \"Frillish\", \"Type 1\": \"Water\", \"Type 2\": \"Ghost\", \"Total\": 335, \"HP\": 55, \"Attack\": 40, \"Defense\": 50, \"SpecialA\": 65, \"SpecialD\": 85, \"Speed\": 40, \"Generation\": 5}, {\"#\": 593, \"Name\": \"Jellicent\", \"Type 1\": \"Water\", \"Type 2\": \"Ghost\", \"Total\": 480, \"HP\": 100, \"Attack\": 60, \"Defense\": 70, \"SpecialA\": 85, \"SpecialD\": 105, \"Speed\": 60, \"Generation\": 5}, {\"#\": 595, \"Name\": \"Joltik\", \"Type 1\": \"Bug\", \"Type 2\": \"Electric\", \"Total\": 319, \"HP\": 50, \"Attack\": 47, \"Defense\": 50, \"SpecialA\": 57, \"SpecialD\": 50, \"Speed\": 65, \"Generation\": 5}, {\"#\": 596, \"Name\": \"Galvantula\", \"Type 1\": \"Bug\", \"Type 2\": \"Electric\", \"Total\": 472, \"HP\": 70, \"Attack\": 77, \"Defense\": 60, \"SpecialA\": 97, \"SpecialD\": 60, \"Speed\": 108, \"Generation\": 5}, {\"#\": 597, \"Name\": \"Ferroseed\", \"Type 1\": \"Grass\", \"Type 2\": \"Steel\", \"Total\": 305, \"HP\": 44, \"Attack\": 50, \"Defense\": 91, \"SpecialA\": 24, \"SpecialD\": 86, \"Speed\": 10, \"Generation\": 5}, {\"#\": 598, \"Name\": \"Ferrothorn\", \"Type 1\": \"Grass\", \"Type 2\": \"Steel\", \"Total\": 489, \"HP\": 74, \"Attack\": 94, \"Defense\": 131, \"SpecialA\": 54, \"SpecialD\": 116, \"Speed\": 20, \"Generation\": 5}, {\"#\": 607, \"Name\": \"Litwick\", \"Type 1\": \"Ghost\", \"Type 2\": \"Fire\", \"Total\": 275, \"HP\": 50, \"Attack\": 30, \"Defense\": 55, \"SpecialA\": 65, \"SpecialD\": 55, \"Speed\": 20, \"Generation\": 5}, {\"#\": 608, \"Name\": \"Lampent\", \"Type 1\": \"Ghost\", \"Type 2\": \"Fire\", \"Total\": 370, \"HP\": 60, \"Attack\": 40, \"Defense\": 60, \"SpecialA\": 95, \"SpecialD\": 60, \"Speed\": 55, \"Generation\": 5}, {\"#\": 609, \"Name\": \"Chandelure\", \"Type 1\": \"Ghost\", \"Type 2\": \"Fire\", \"Total\": 520, \"HP\": 60, \"Attack\": 55, \"Defense\": 90, \"SpecialA\": 145, \"SpecialD\": 90, \"Speed\": 80, \"Generation\": 5}, {\"#\": 618, \"Name\": \"Stunfisk\", \"Type 1\": \"Ground\", \"Type 2\": \"Electric\", \"Total\": 471, \"HP\": 109, \"Attack\": 66, \"Defense\": 84, \"SpecialA\": 81, \"SpecialD\": 99, \"Speed\": 32, \"Generation\": 5}, {\"#\": 622, \"Name\": \"Golett\", \"Type 1\": \"Ground\", \"Type 2\": \"Ghost\", \"Total\": 303, \"HP\": 59, \"Attack\": 74, \"Defense\": 50, \"SpecialA\": 35, \"SpecialD\": 50, \"Speed\": 35, \"Generation\": 5}, {\"#\": 623, \"Name\": \"Golurk\", \"Type 1\": \"Ground\", \"Type 2\": \"Ghost\", \"Total\": 483, \"HP\": 89, \"Attack\": 124, \"Defense\": 80, \"SpecialA\": 55, \"SpecialD\": 80, \"Speed\": 55, \"Generation\": 5}, {\"#\": 624, \"Name\": \"Pawniard\", \"Type 1\": \"Dark\", \"Type 2\": \"Steel\", \"Total\": 340, \"HP\": 45, \"Attack\": 85, \"Defense\": 70, \"SpecialA\": 40, \"SpecialD\": 40, \"Speed\": 60, \"Generation\": 5}, {\"#\": 625, \"Name\": \"Bisharp\", \"Type 1\": \"Dark\", \"Type 2\": \"Steel\", \"Total\": 490, \"HP\": 65, \"Attack\": 125, \"Defense\": 100, \"SpecialA\": 60, \"SpecialD\": 70, \"Speed\": 70, \"Generation\": 5}, {\"#\": 627, \"Name\": \"Rufflet\", \"Type 1\": \"Normal\", \"Type 2\": \"Flying\", \"Total\": 350, \"HP\": 70, \"Attack\": 83, \"Defense\": 50, \"SpecialA\": 37, \"SpecialD\": 50, \"Speed\": 60, \"Generation\": 5}, {\"#\": 628, \"Name\": \"Braviary\", \"Type 1\": \"Normal\", \"Type 2\": \"Flying\", \"Total\": 510, \"HP\": 100, \"Attack\": 123, \"Defense\": 75, \"SpecialA\": 57, \"SpecialD\": 75, \"Speed\": 80, \"Generation\": 5}, {\"#\": 629, \"Name\": \"Vullaby\", \"Type 1\": \"Dark\", \"Type 2\": \"Flying\", \"Total\": 370, \"HP\": 70, \"Attack\": 55, \"Defense\": 75, \"SpecialA\": 45, \"SpecialD\": 65, \"Speed\": 60, \"Generation\": 5}, {\"#\": 630, \"Name\": \"Mandibuzz\", \"Type 1\": \"Dark\", \"Type 2\": \"Flying\", \"Total\": 510, \"HP\": 110, \"Attack\": 65, \"Defense\": 105, \"SpecialA\": 55, \"SpecialD\": 95, \"Speed\": 80, \"Generation\": 5}, {\"#\": 632, \"Name\": \"Durant\", \"Type 1\": \"Bug\", \"Type 2\": \"Steel\", \"Total\": 484, \"HP\": 58, \"Attack\": 109, \"Defense\": 112, \"SpecialA\": 48, \"SpecialD\": 48, \"Speed\": 109, \"Generation\": 5}, {\"#\": 633, \"Name\": \"Deino\", \"Type 1\": \"Dark\", \"Type 2\": \"Dragon\", \"Total\": 300, \"HP\": 52, \"Attack\": 65, \"Defense\": 50, \"SpecialA\": 45, \"SpecialD\": 50, \"Speed\": 38, \"Generation\": 5}, {\"#\": 634, \"Name\": \"Zweilous\", \"Type 1\": \"Dark\", \"Type 2\": \"Dragon\", \"Total\": 420, \"HP\": 72, \"Attack\": 85, \"Defense\": 70, \"SpecialA\": 65, \"SpecialD\": 70, \"Speed\": 58, \"Generation\": 5}, {\"#\": 635, \"Name\": \"Hydreigon\", \"Type 1\": \"Dark\", \"Type 2\": \"Dragon\", \"Total\": 600, \"HP\": 92, \"Attack\": 105, \"Defense\": 90, \"SpecialA\": 125, \"SpecialD\": 90, \"Speed\": 98, \"Generation\": 5}, {\"#\": 636, \"Name\": \"Larvesta\", \"Type 1\": \"Bug\", \"Type 2\": \"Fire\", \"Total\": 360, \"HP\": 55, \"Attack\": 85, \"Defense\": 55, \"SpecialA\": 50, \"SpecialD\": 55, \"Speed\": 60, \"Generation\": 5}, {\"#\": 637, \"Name\": \"Volcarona\", \"Type 1\": \"Bug\", \"Type 2\": \"Fire\", \"Total\": 550, \"HP\": 85, \"Attack\": 60, \"Defense\": 65, \"SpecialA\": 135, \"SpecialD\": 105, \"Speed\": 100, \"Generation\": 5}, {\"#\": 647, \"Name\": \"KeldeoOrdinary Forme\", \"Type 1\": \"Water\", \"Type 2\": \"Fighting\", \"Total\": 580, \"HP\": 91, \"Attack\": 72, \"Defense\": 90, \"SpecialA\": 129, \"SpecialD\": 90, \"Speed\": 108, \"Generation\": 5}, {\"#\": 647, \"Name\": \"KeldeoResolute Forme\", \"Type 1\": \"Water\", \"Type 2\": \"Fighting\", \"Total\": 580, \"HP\": 91, \"Attack\": 72, \"Defense\": 90, \"SpecialA\": 129, \"SpecialD\": 90, \"Speed\": 108, \"Generation\": 5}, {\"#\": 648, \"Name\": \"MeloettaAria Forme\", \"Type 1\": \"Normal\", \"Type 2\": \"Psychic\", \"Total\": 600, \"HP\": 100, \"Attack\": 77, \"Defense\": 77, \"SpecialA\": 128, \"SpecialD\": 128, \"Speed\": 90, \"Generation\": 5}, {\"#\": 648, \"Name\": \"MeloettaPirouette Forme\", \"Type 1\": \"Normal\", \"Type 2\": \"Fighting\", \"Total\": 600, \"HP\": 100, \"Attack\": 128, \"Defense\": 90, \"SpecialA\": 77, \"SpecialD\": 77, \"Speed\": 128, \"Generation\": 5}, {\"#\": 649, \"Name\": \"Genesect\", \"Type 1\": \"Bug\", \"Type 2\": \"Steel\", \"Total\": 600, \"HP\": 71, \"Attack\": 120, \"Defense\": 95, \"SpecialA\": 120, \"SpecialD\": 95, \"Speed\": 99, \"Generation\": 5}, {\"#\": 652, \"Name\": \"Chesnaught\", \"Type 1\": \"Grass\", \"Type 2\": \"Fighting\", \"Total\": 530, \"HP\": 88, \"Attack\": 107, \"Defense\": 122, \"SpecialA\": 74, \"SpecialD\": 75, \"Speed\": 64, \"Generation\": 6}, {\"#\": 655, \"Name\": \"Delphox\", \"Type 1\": \"Fire\", \"Type 2\": \"Psychic\", \"Total\": 534, \"HP\": 75, \"Attack\": 69, \"Defense\": 72, \"SpecialA\": 114, \"SpecialD\": 100, \"Speed\": 104, \"Generation\": 6}, {\"#\": 658, \"Name\": \"Greninja\", \"Type 1\": \"Water\", \"Type 2\": \"Dark\", \"Total\": 530, \"HP\": 72, \"Attack\": 95, \"Defense\": 67, \"SpecialA\": 103, \"SpecialD\": 71, \"Speed\": 122, \"Generation\": 6}, {\"#\": 660, \"Name\": \"Diggersby\", \"Type 1\": \"Normal\", \"Type 2\": \"Ground\", \"Total\": 423, \"HP\": 85, \"Attack\": 56, \"Defense\": 77, \"SpecialA\": 50, \"SpecialD\": 77, \"Speed\": 78, \"Generation\": 6}, {\"#\": 661, \"Name\": \"Fletchling\", \"Type 1\": \"Normal\", \"Type 2\": \"Flying\", \"Total\": 278, \"HP\": 45, \"Attack\": 50, \"Defense\": 43, \"SpecialA\": 40, \"SpecialD\": 38, \"Speed\": 62, \"Generation\": 6}, {\"#\": 662, \"Name\": \"Fletchinder\", \"Type 1\": \"Fire\", \"Type 2\": \"Flying\", \"Total\": 382, \"HP\": 62, \"Attack\": 73, \"Defense\": 55, \"SpecialA\": 56, \"SpecialD\": 52, \"Speed\": 84, \"Generation\": 6}, {\"#\": 663, \"Name\": \"Talonflame\", \"Type 1\": \"Fire\", \"Type 2\": \"Flying\", \"Total\": 499, \"HP\": 78, \"Attack\": 81, \"Defense\": 71, \"SpecialA\": 74, \"SpecialD\": 69, \"Speed\": 126, \"Generation\": 6}, {\"#\": 666, \"Name\": \"Vivillon\", \"Type 1\": \"Bug\", \"Type 2\": \"Flying\", \"Total\": 411, \"HP\": 80, \"Attack\": 52, \"Defense\": 50, \"SpecialA\": 90, \"SpecialD\": 50, \"Speed\": 89, \"Generation\": 6}, {\"#\": 667, \"Name\": \"Litleo\", \"Type 1\": \"Fire\", \"Type 2\": \"Normal\", \"Total\": 369, \"HP\": 62, \"Attack\": 50, \"Defense\": 58, \"SpecialA\": 73, \"SpecialD\": 54, \"Speed\": 72, \"Generation\": 6}, {\"#\": 668, \"Name\": \"Pyroar\", \"Type 1\": \"Fire\", \"Type 2\": \"Normal\", \"Total\": 507, \"HP\": 86, \"Attack\": 68, \"Defense\": 72, \"SpecialA\": 109, \"SpecialD\": 66, \"Speed\": 106, \"Generation\": 6}, {\"#\": 675, \"Name\": \"Pangoro\", \"Type 1\": \"Fighting\", \"Type 2\": \"Dark\", \"Total\": 495, \"HP\": 95, \"Attack\": 124, \"Defense\": 78, \"SpecialA\": 69, \"SpecialD\": 71, \"Speed\": 58, \"Generation\": 6}, {\"#\": 679, \"Name\": \"Honedge\", \"Type 1\": \"Steel\", \"Type 2\": \"Ghost\", \"Total\": 325, \"HP\": 45, \"Attack\": 80, \"Defense\": 100, \"SpecialA\": 35, \"SpecialD\": 37, \"Speed\": 28, \"Generation\": 6}, {\"#\": 680, \"Name\": \"Doublade\", \"Type 1\": \"Steel\", \"Type 2\": \"Ghost\", \"Total\": 448, \"HP\": 59, \"Attack\": 110, \"Defense\": 150, \"SpecialA\": 45, \"SpecialD\": 49, \"Speed\": 35, \"Generation\": 6}, {\"#\": 681, \"Name\": \"AegislashBlade Forme\", \"Type 1\": \"Steel\", \"Type 2\": \"Ghost\", \"Total\": 520, \"HP\": 60, \"Attack\": 150, \"Defense\": 50, \"SpecialA\": 150, \"SpecialD\": 50, \"Speed\": 60, \"Generation\": 6}, {\"#\": 681, \"Name\": \"AegislashShield Forme\", \"Type 1\": \"Steel\", \"Type 2\": \"Ghost\", \"Total\": 520, \"HP\": 60, \"Attack\": 50, \"Defense\": 150, \"SpecialA\": 50, \"SpecialD\": 150, \"Speed\": 60, \"Generation\": 6}, {\"#\": 686, \"Name\": \"Inkay\", \"Type 1\": \"Dark\", \"Type 2\": \"Psychic\", \"Total\": 288, \"HP\": 53, \"Attack\": 54, \"Defense\": 53, \"SpecialA\": 37, \"SpecialD\": 46, \"Speed\": 45, \"Generation\": 6}, {\"#\": 687, \"Name\": \"Malamar\", \"Type 1\": \"Dark\", \"Type 2\": \"Psychic\", \"Total\": 482, \"HP\": 86, \"Attack\": 92, \"Defense\": 88, \"SpecialA\": 68, \"SpecialD\": 75, \"Speed\": 73, \"Generation\": 6}, {\"#\": 688, \"Name\": \"Binacle\", \"Type 1\": \"Rock\", \"Type 2\": \"Water\", \"Total\": 306, \"HP\": 42, \"Attack\": 52, \"Defense\": 67, \"SpecialA\": 39, \"SpecialD\": 56, \"Speed\": 50, \"Generation\": 6}, {\"#\": 689, \"Name\": \"Barbaracle\", \"Type 1\": \"Rock\", \"Type 2\": \"Water\", \"Total\": 500, \"HP\": 72, \"Attack\": 105, \"Defense\": 115, \"SpecialA\": 54, \"SpecialD\": 86, \"Speed\": 68, \"Generation\": 6}, {\"#\": 690, \"Name\": \"Skrelp\", \"Type 1\": \"Poison\", \"Type 2\": \"Water\", \"Total\": 320, \"HP\": 50, \"Attack\": 60, \"Defense\": 60, \"SpecialA\": 60, \"SpecialD\": 60, \"Speed\": 30, \"Generation\": 6}, {\"#\": 691, \"Name\": \"Dragalge\", \"Type 1\": \"Poison\", \"Type 2\": \"Dragon\", \"Total\": 494, \"HP\": 65, \"Attack\": 75, \"Defense\": 90, \"SpecialA\": 97, \"SpecialD\": 123, \"Speed\": 44, \"Generation\": 6}, {\"#\": 694, \"Name\": \"Helioptile\", \"Type 1\": \"Electric\", \"Type 2\": \"Normal\", \"Total\": 289, \"HP\": 44, \"Attack\": 38, \"Defense\": 33, \"SpecialA\": 61, \"SpecialD\": 43, \"Speed\": 70, \"Generation\": 6}, {\"#\": 695, \"Name\": \"Heliolisk\", \"Type 1\": \"Electric\", \"Type 2\": \"Normal\", \"Total\": 481, \"HP\": 62, \"Attack\": 55, \"Defense\": 52, \"SpecialA\": 109, \"SpecialD\": 94, \"Speed\": 109, \"Generation\": 6}, {\"#\": 696, \"Name\": \"Tyrunt\", \"Type 1\": \"Rock\", \"Type 2\": \"Dragon\", \"Total\": 362, \"HP\": 58, \"Attack\": 89, \"Defense\": 77, \"SpecialA\": 45, \"SpecialD\": 45, \"Speed\": 48, \"Generation\": 6}, {\"#\": 697, \"Name\": \"Tyrantrum\", \"Type 1\": \"Rock\", \"Type 2\": \"Dragon\", \"Total\": 521, \"HP\": 82, \"Attack\": 121, \"Defense\": 119, \"SpecialA\": 69, \"SpecialD\": 59, \"Speed\": 71, \"Generation\": 6}, {\"#\": 698, \"Name\": \"Amaura\", \"Type 1\": \"Rock\", \"Type 2\": \"Ice\", \"Total\": 362, \"HP\": 77, \"Attack\": 59, \"Defense\": 50, \"SpecialA\": 67, \"SpecialD\": 63, \"Speed\": 46, \"Generation\": 6}, {\"#\": 699, \"Name\": \"Aurorus\", \"Type 1\": \"Rock\", \"Type 2\": \"Ice\", \"Total\": 521, \"HP\": 123, \"Attack\": 77, \"Defense\": 72, \"SpecialA\": 99, \"SpecialD\": 92, \"Speed\": 58, \"Generation\": 6}, {\"#\": 701, \"Name\": \"Hawlucha\", \"Type 1\": \"Fighting\", \"Type 2\": \"Flying\", \"Total\": 500, \"HP\": 78, \"Attack\": 92, \"Defense\": 75, \"SpecialA\": 74, \"SpecialD\": 63, \"Speed\": 118, \"Generation\": 6}, {\"#\": 702, \"Name\": \"Dedenne\", \"Type 1\": \"Electric\", \"Type 2\": \"Fairy\", \"Total\": 431, \"HP\": 67, \"Attack\": 58, \"Defense\": 57, \"SpecialA\": 81, \"SpecialD\": 67, \"Speed\": 101, \"Generation\": 6}, {\"#\": 703, \"Name\": \"Carbink\", \"Type 1\": \"Rock\", \"Type 2\": \"Fairy\", \"Total\": 500, \"HP\": 50, \"Attack\": 50, \"Defense\": 150, \"SpecialA\": 50, \"SpecialD\": 150, \"Speed\": 50, \"Generation\": 6}, {\"#\": 707, \"Name\": \"Klefki\", \"Type 1\": \"Steel\", \"Type 2\": \"Fairy\", \"Total\": 470, \"HP\": 57, \"Attack\": 80, \"Defense\": 91, \"SpecialA\": 80, \"SpecialD\": 87, \"Speed\": 75, \"Generation\": 6}, {\"#\": 708, \"Name\": \"Phantump\", \"Type 1\": \"Ghost\", \"Type 2\": \"Grass\", \"Total\": 309, \"HP\": 43, \"Attack\": 70, \"Defense\": 48, \"SpecialA\": 50, \"SpecialD\": 60, \"Speed\": 38, \"Generation\": 6}, {\"#\": 709, \"Name\": \"Trevenant\", \"Type 1\": \"Ghost\", \"Type 2\": \"Grass\", \"Total\": 474, \"HP\": 85, \"Attack\": 110, \"Defense\": 76, \"SpecialA\": 65, \"SpecialD\": 82, \"Speed\": 56, \"Generation\": 6}, {\"#\": 710, \"Name\": \"PumpkabooAverage Size\", \"Type 1\": \"Ghost\", \"Type 2\": \"Grass\", \"Total\": 335, \"HP\": 49, \"Attack\": 66, \"Defense\": 70, \"SpecialA\": 44, \"SpecialD\": 55, \"Speed\": 51, \"Generation\": 6}, {\"#\": 710, \"Name\": \"PumpkabooSmall Size\", \"Type 1\": \"Ghost\", \"Type 2\": \"Grass\", \"Total\": 335, \"HP\": 44, \"Attack\": 66, \"Defense\": 70, \"SpecialA\": 44, \"SpecialD\": 55, \"Speed\": 56, \"Generation\": 6}, {\"#\": 710, \"Name\": \"PumpkabooLarge Size\", \"Type 1\": \"Ghost\", \"Type 2\": \"Grass\", \"Total\": 335, \"HP\": 54, \"Attack\": 66, \"Defense\": 70, \"SpecialA\": 44, \"SpecialD\": 55, \"Speed\": 46, \"Generation\": 6}, {\"#\": 710, \"Name\": \"PumpkabooSuper Size\", \"Type 1\": \"Ghost\", \"Type 2\": \"Grass\", \"Total\": 335, \"HP\": 59, \"Attack\": 66, \"Defense\": 70, \"SpecialA\": 44, \"SpecialD\": 55, \"Speed\": 41, \"Generation\": 6}, {\"#\": 711, \"Name\": \"GourgeistAverage Size\", \"Type 1\": \"Ghost\", \"Type 2\": \"Grass\", \"Total\": 494, \"HP\": 65, \"Attack\": 90, \"Defense\": 122, \"SpecialA\": 58, \"SpecialD\": 75, \"Speed\": 84, \"Generation\": 6}, {\"#\": 711, \"Name\": \"GourgeistSmall Size\", \"Type 1\": \"Ghost\", \"Type 2\": \"Grass\", \"Total\": 494, \"HP\": 55, \"Attack\": 85, \"Defense\": 122, \"SpecialA\": 58, \"SpecialD\": 75, \"Speed\": 99, \"Generation\": 6}, {\"#\": 711, \"Name\": \"GourgeistLarge Size\", \"Type 1\": \"Ghost\", \"Type 2\": \"Grass\", \"Total\": 494, \"HP\": 75, \"Attack\": 95, \"Defense\": 122, \"SpecialA\": 58, \"SpecialD\": 75, \"Speed\": 69, \"Generation\": 6}, {\"#\": 711, \"Name\": \"GourgeistSuper Size\", \"Type 1\": \"Ghost\", \"Type 2\": \"Grass\", \"Total\": 494, \"HP\": 85, \"Attack\": 100, \"Defense\": 122, \"SpecialA\": 58, \"SpecialD\": 75, \"Speed\": 54, \"Generation\": 6}, {\"#\": 714, \"Name\": \"Noibat\", \"Type 1\": \"Flying\", \"Type 2\": \"Dragon\", \"Total\": 245, \"HP\": 40, \"Attack\": 30, \"Defense\": 35, \"SpecialA\": 45, \"SpecialD\": 40, \"Speed\": 55, \"Generation\": 6}, {\"#\": 715, \"Name\": \"Noivern\", \"Type 1\": \"Flying\", \"Type 2\": \"Dragon\", \"Total\": 535, \"HP\": 85, \"Attack\": 70, \"Defense\": 80, \"SpecialA\": 97, \"SpecialD\": 80, \"Speed\": 123, \"Generation\": 6}]}}, {\"mode\": \"vega-lite\"});\n</script>",
      "text/plain": "alt.Chart(...)"
     },
     "metadata": {}
    }
   ]
  },
  {
   "cell_type": "code",
   "metadata": {
    "tags": [],
    "cell_id": "88f505910391466ca8ac7621b317128a",
    "source_hash": null,
    "execution_start": 1702174244016,
    "execution_millis": 29,
    "deepnote_to_be_reexecuted": false,
    "deepnote_cell_type": "code"
   },
   "source": [
    "alt.Chart(df).mark_circle().encode(\n",
    "    x=alt.X(\"SpecialD\",scale=alt.Scale(domain=[0, 250])),\n",
    "    y=alt.Y(\"Defense\",scale=alt.Scale(domain=[0, 240])),\n",
    "    color=\"Generation:N\",\n",
    "    tooltip=[\"Name\",\"Defense\",\"SpecialD\"]\n",
    ").properties(\n",
    "    title=\"Defense v.s. Special Defense based on generation\"\n",
    ")"
   ],
   "block_group": "88f505910391466ca8ac7621b317128a",
   "execution_count": null,
   "outputs": [
    {
     "output_type": "execute_result",
     "execution_count": 14,
     "data": {
      "text/html": "\n<div id=\"altair-viz-68a83e5f19354861b4a30ed1725339d7\"></div>\n<script type=\"text/javascript\">\n  var VEGA_DEBUG = (typeof VEGA_DEBUG == \"undefined\") ? {} : VEGA_DEBUG;\n  (function(spec, embedOpt){\n    let outputDiv = document.currentScript.previousElementSibling;\n    if (outputDiv.id !== \"altair-viz-68a83e5f19354861b4a30ed1725339d7\") {\n      outputDiv = document.getElementById(\"altair-viz-68a83e5f19354861b4a30ed1725339d7\");\n    }\n    const paths = {\n      \"vega\": \"https://cdn.jsdelivr.net/npm//vega@5?noext\",\n      \"vega-lib\": \"https://cdn.jsdelivr.net/npm//vega-lib?noext\",\n      \"vega-lite\": \"https://cdn.jsdelivr.net/npm//vega-lite@4.17.0?noext\",\n      \"vega-embed\": \"https://cdn.jsdelivr.net/npm//vega-embed@6?noext\",\n    };\n\n    function maybeLoadScript(lib, version) {\n      var key = `${lib.replace(\"-\", \"\")}_version`;\n      return (VEGA_DEBUG[key] == version) ?\n        Promise.resolve(paths[lib]) :\n        new Promise(function(resolve, reject) {\n          var s = document.createElement('script');\n          document.getElementsByTagName(\"head\")[0].appendChild(s);\n          s.async = true;\n          s.onload = () => {\n            VEGA_DEBUG[key] = version;\n            return resolve(paths[lib]);\n          };\n          s.onerror = () => reject(`Error loading script: ${paths[lib]}`);\n          s.src = paths[lib];\n        });\n    }\n\n    function showError(err) {\n      outputDiv.innerHTML = `<div class=\"error\" style=\"color:red;\">${err}</div>`;\n      throw err;\n    }\n\n    function displayChart(vegaEmbed) {\n      vegaEmbed(outputDiv, spec, embedOpt)\n        .catch(err => showError(`Javascript Error: ${err.message}<br>This usually means there's a typo in your chart specification. See the javascript console for the full traceback.`));\n    }\n\n    if(typeof define === \"function\" && define.amd) {\n      requirejs.config({paths});\n      require([\"vega-embed\"], displayChart, err => showError(`Error loading script: ${err.message}`));\n    } else {\n      maybeLoadScript(\"vega\", \"5\")\n        .then(() => maybeLoadScript(\"vega-lite\", \"4.17.0\"))\n        .then(() => maybeLoadScript(\"vega-embed\", \"6\"))\n        .catch(showError)\n        .then(() => displayChart(vegaEmbed));\n    }\n  })({\"config\": {\"view\": {\"continuousWidth\": 400, \"continuousHeight\": 300}}, \"data\": {\"name\": \"data-8f8f5a820e13a98ac2edffa1fa08f1db\"}, \"mark\": \"circle\", \"encoding\": {\"color\": {\"field\": \"Generation\", \"type\": \"nominal\"}, \"tooltip\": [{\"field\": \"Name\", \"type\": \"nominal\"}, {\"field\": \"Defense\", \"type\": \"quantitative\"}, {\"field\": \"SpecialD\", \"type\": \"quantitative\"}], \"x\": {\"field\": \"SpecialD\", \"scale\": {\"domain\": [0, 250]}, \"type\": \"quantitative\"}, \"y\": {\"field\": \"Defense\", \"scale\": {\"domain\": [0, 240]}, \"type\": \"quantitative\"}}, \"title\": \"Defense v.s. Special Defense based on generation\", \"$schema\": \"https://vega.github.io/schema/vega-lite/v4.17.0.json\", \"datasets\": {\"data-8f8f5a820e13a98ac2edffa1fa08f1db\": [{\"#\": 1, \"Name\": \"Bulbasaur\", \"Type 1\": \"Grass\", \"Type 2\": \"Poison\", \"Total\": 318, \"HP\": 45, \"Attack\": 49, \"Defense\": 49, \"SpecialA\": 65, \"SpecialD\": 65, \"Speed\": 45, \"Generation\": 1}, {\"#\": 2, \"Name\": \"Ivysaur\", \"Type 1\": \"Grass\", \"Type 2\": \"Poison\", \"Total\": 405, \"HP\": 60, \"Attack\": 62, \"Defense\": 63, \"SpecialA\": 80, \"SpecialD\": 80, \"Speed\": 60, \"Generation\": 1}, {\"#\": 3, \"Name\": \"Venusaur\", \"Type 1\": \"Grass\", \"Type 2\": \"Poison\", \"Total\": 525, \"HP\": 80, \"Attack\": 82, \"Defense\": 83, \"SpecialA\": 100, \"SpecialD\": 100, \"Speed\": 80, \"Generation\": 1}, {\"#\": 3, \"Name\": \"VenusaurMega Venusaur\", \"Type 1\": \"Grass\", \"Type 2\": \"Poison\", \"Total\": 625, \"HP\": 80, \"Attack\": 100, \"Defense\": 123, \"SpecialA\": 122, \"SpecialD\": 120, \"Speed\": 80, \"Generation\": 1}, {\"#\": 6, \"Name\": \"Charizard\", \"Type 1\": \"Fire\", \"Type 2\": \"Flying\", \"Total\": 534, \"HP\": 78, \"Attack\": 84, \"Defense\": 78, \"SpecialA\": 109, \"SpecialD\": 85, \"Speed\": 100, \"Generation\": 1}, {\"#\": 6, \"Name\": \"CharizardMega Charizard X\", \"Type 1\": \"Fire\", \"Type 2\": \"Dragon\", \"Total\": 634, \"HP\": 78, \"Attack\": 130, \"Defense\": 111, \"SpecialA\": 130, \"SpecialD\": 85, \"Speed\": 100, \"Generation\": 1}, {\"#\": 6, \"Name\": \"CharizardMega Charizard Y\", \"Type 1\": \"Fire\", \"Type 2\": \"Flying\", \"Total\": 634, \"HP\": 78, \"Attack\": 104, \"Defense\": 78, \"SpecialA\": 159, \"SpecialD\": 115, \"Speed\": 100, \"Generation\": 1}, {\"#\": 12, \"Name\": \"Butterfree\", \"Type 1\": \"Bug\", \"Type 2\": \"Flying\", \"Total\": 395, \"HP\": 60, \"Attack\": 45, \"Defense\": 50, \"SpecialA\": 90, \"SpecialD\": 80, \"Speed\": 70, \"Generation\": 1}, {\"#\": 13, \"Name\": \"Weedle\", \"Type 1\": \"Bug\", \"Type 2\": \"Poison\", \"Total\": 195, \"HP\": 40, \"Attack\": 35, \"Defense\": 30, \"SpecialA\": 20, \"SpecialD\": 20, \"Speed\": 50, \"Generation\": 1}, {\"#\": 14, \"Name\": \"Kakuna\", \"Type 1\": \"Bug\", \"Type 2\": \"Poison\", \"Total\": 205, \"HP\": 45, \"Attack\": 25, \"Defense\": 50, \"SpecialA\": 25, \"SpecialD\": 25, \"Speed\": 35, \"Generation\": 1}, {\"#\": 15, \"Name\": \"Beedrill\", \"Type 1\": \"Bug\", \"Type 2\": \"Poison\", \"Total\": 395, \"HP\": 65, \"Attack\": 90, \"Defense\": 40, \"SpecialA\": 45, \"SpecialD\": 80, \"Speed\": 75, \"Generation\": 1}, {\"#\": 15, \"Name\": \"BeedrillMega Beedrill\", \"Type 1\": \"Bug\", \"Type 2\": \"Poison\", \"Total\": 495, \"HP\": 65, \"Attack\": 150, \"Defense\": 40, \"SpecialA\": 15, \"SpecialD\": 80, \"Speed\": 145, \"Generation\": 1}, {\"#\": 16, \"Name\": \"Pidgey\", \"Type 1\": \"Normal\", \"Type 2\": \"Flying\", \"Total\": 251, \"HP\": 40, \"Attack\": 45, \"Defense\": 40, \"SpecialA\": 35, \"SpecialD\": 35, \"Speed\": 56, \"Generation\": 1}, {\"#\": 17, \"Name\": \"Pidgeotto\", \"Type 1\": \"Normal\", \"Type 2\": \"Flying\", \"Total\": 349, \"HP\": 63, \"Attack\": 60, \"Defense\": 55, \"SpecialA\": 50, \"SpecialD\": 50, \"Speed\": 71, \"Generation\": 1}, {\"#\": 18, \"Name\": \"Pidgeot\", \"Type 1\": \"Normal\", \"Type 2\": \"Flying\", \"Total\": 479, \"HP\": 83, \"Attack\": 80, \"Defense\": 75, \"SpecialA\": 70, \"SpecialD\": 70, \"Speed\": 101, \"Generation\": 1}, {\"#\": 18, \"Name\": \"PidgeotMega Pidgeot\", \"Type 1\": \"Normal\", \"Type 2\": \"Flying\", \"Total\": 579, \"HP\": 83, \"Attack\": 80, \"Defense\": 80, \"SpecialA\": 135, \"SpecialD\": 80, \"Speed\": 121, \"Generation\": 1}, {\"#\": 21, \"Name\": \"Spearow\", \"Type 1\": \"Normal\", \"Type 2\": \"Flying\", \"Total\": 262, \"HP\": 40, \"Attack\": 60, \"Defense\": 30, \"SpecialA\": 31, \"SpecialD\": 31, \"Speed\": 70, \"Generation\": 1}, {\"#\": 22, \"Name\": \"Fearow\", \"Type 1\": \"Normal\", \"Type 2\": \"Flying\", \"Total\": 442, \"HP\": 65, \"Attack\": 90, \"Defense\": 65, \"SpecialA\": 61, \"SpecialD\": 61, \"Speed\": 100, \"Generation\": 1}, {\"#\": 31, \"Name\": \"Nidoqueen\", \"Type 1\": \"Poison\", \"Type 2\": \"Ground\", \"Total\": 505, \"HP\": 90, \"Attack\": 92, \"Defense\": 87, \"SpecialA\": 75, \"SpecialD\": 85, \"Speed\": 76, \"Generation\": 1}, {\"#\": 34, \"Name\": \"Nidoking\", \"Type 1\": \"Poison\", \"Type 2\": \"Ground\", \"Total\": 505, \"HP\": 81, \"Attack\": 102, \"Defense\": 77, \"SpecialA\": 85, \"SpecialD\": 75, \"Speed\": 85, \"Generation\": 1}, {\"#\": 39, \"Name\": \"Jigglypuff\", \"Type 1\": \"Normal\", \"Type 2\": \"Fairy\", \"Total\": 270, \"HP\": 115, \"Attack\": 45, \"Defense\": 20, \"SpecialA\": 45, \"SpecialD\": 25, \"Speed\": 20, \"Generation\": 1}, {\"#\": 40, \"Name\": \"Wigglytuff\", \"Type 1\": \"Normal\", \"Type 2\": \"Fairy\", \"Total\": 435, \"HP\": 140, \"Attack\": 70, \"Defense\": 45, \"SpecialA\": 85, \"SpecialD\": 50, \"Speed\": 45, \"Generation\": 1}, {\"#\": 41, \"Name\": \"Zubat\", \"Type 1\": \"Poison\", \"Type 2\": \"Flying\", \"Total\": 245, \"HP\": 40, \"Attack\": 45, \"Defense\": 35, \"SpecialA\": 30, \"SpecialD\": 40, \"Speed\": 55, \"Generation\": 1}, {\"#\": 42, \"Name\": \"Golbat\", \"Type 1\": \"Poison\", \"Type 2\": \"Flying\", \"Total\": 455, \"HP\": 75, \"Attack\": 80, \"Defense\": 70, \"SpecialA\": 65, \"SpecialD\": 75, \"Speed\": 90, \"Generation\": 1}, {\"#\": 43, \"Name\": \"Oddish\", \"Type 1\": \"Grass\", \"Type 2\": \"Poison\", \"Total\": 320, \"HP\": 45, \"Attack\": 50, \"Defense\": 55, \"SpecialA\": 75, \"SpecialD\": 65, \"Speed\": 30, \"Generation\": 1}, {\"#\": 44, \"Name\": \"Gloom\", \"Type 1\": \"Grass\", \"Type 2\": \"Poison\", \"Total\": 395, \"HP\": 60, \"Attack\": 65, \"Defense\": 70, \"SpecialA\": 85, \"SpecialD\": 75, \"Speed\": 40, \"Generation\": 1}, {\"#\": 45, \"Name\": \"Vileplume\", \"Type 1\": \"Grass\", \"Type 2\": \"Poison\", \"Total\": 490, \"HP\": 75, \"Attack\": 80, \"Defense\": 85, \"SpecialA\": 110, \"SpecialD\": 90, \"Speed\": 50, \"Generation\": 1}, {\"#\": 46, \"Name\": \"Paras\", \"Type 1\": \"Bug\", \"Type 2\": \"Grass\", \"Total\": 285, \"HP\": 35, \"Attack\": 70, \"Defense\": 55, \"SpecialA\": 45, \"SpecialD\": 55, \"Speed\": 25, \"Generation\": 1}, {\"#\": 47, \"Name\": \"Parasect\", \"Type 1\": \"Bug\", \"Type 2\": \"Grass\", \"Total\": 405, \"HP\": 60, \"Attack\": 95, \"Defense\": 80, \"SpecialA\": 60, \"SpecialD\": 80, \"Speed\": 30, \"Generation\": 1}, {\"#\": 48, \"Name\": \"Venonat\", \"Type 1\": \"Bug\", \"Type 2\": \"Poison\", \"Total\": 305, \"HP\": 60, \"Attack\": 55, \"Defense\": 50, \"SpecialA\": 40, \"SpecialD\": 55, \"Speed\": 45, \"Generation\": 1}, {\"#\": 49, \"Name\": \"Venomoth\", \"Type 1\": \"Bug\", \"Type 2\": \"Poison\", \"Total\": 450, \"HP\": 70, \"Attack\": 65, \"Defense\": 60, \"SpecialA\": 90, \"SpecialD\": 75, \"Speed\": 90, \"Generation\": 1}, {\"#\": 62, \"Name\": \"Poliwrath\", \"Type 1\": \"Water\", \"Type 2\": \"Fighting\", \"Total\": 510, \"HP\": 90, \"Attack\": 95, \"Defense\": 95, \"SpecialA\": 70, \"SpecialD\": 90, \"Speed\": 70, \"Generation\": 1}, {\"#\": 69, \"Name\": \"Bellsprout\", \"Type 1\": \"Grass\", \"Type 2\": \"Poison\", \"Total\": 300, \"HP\": 50, \"Attack\": 75, \"Defense\": 35, \"SpecialA\": 70, \"SpecialD\": 30, \"Speed\": 40, \"Generation\": 1}, {\"#\": 70, \"Name\": \"Weepinbell\", \"Type 1\": \"Grass\", \"Type 2\": \"Poison\", \"Total\": 390, \"HP\": 65, \"Attack\": 90, \"Defense\": 50, \"SpecialA\": 85, \"SpecialD\": 45, \"Speed\": 55, \"Generation\": 1}, {\"#\": 71, \"Name\": \"Victreebel\", \"Type 1\": \"Grass\", \"Type 2\": \"Poison\", \"Total\": 490, \"HP\": 80, \"Attack\": 105, \"Defense\": 65, \"SpecialA\": 100, \"SpecialD\": 70, \"Speed\": 70, \"Generation\": 1}, {\"#\": 72, \"Name\": \"Tentacool\", \"Type 1\": \"Water\", \"Type 2\": \"Poison\", \"Total\": 335, \"HP\": 40, \"Attack\": 40, \"Defense\": 35, \"SpecialA\": 50, \"SpecialD\": 100, \"Speed\": 70, \"Generation\": 1}, {\"#\": 73, \"Name\": \"Tentacruel\", \"Type 1\": \"Water\", \"Type 2\": \"Poison\", \"Total\": 515, \"HP\": 80, \"Attack\": 70, \"Defense\": 65, \"SpecialA\": 80, \"SpecialD\": 120, \"Speed\": 100, \"Generation\": 1}, {\"#\": 74, \"Name\": \"Geodude\", \"Type 1\": \"Rock\", \"Type 2\": \"Ground\", \"Total\": 300, \"HP\": 40, \"Attack\": 80, \"Defense\": 100, \"SpecialA\": 30, \"SpecialD\": 30, \"Speed\": 20, \"Generation\": 1}, {\"#\": 75, \"Name\": \"Graveler\", \"Type 1\": \"Rock\", \"Type 2\": \"Ground\", \"Total\": 390, \"HP\": 55, \"Attack\": 95, \"Defense\": 115, \"SpecialA\": 45, \"SpecialD\": 45, \"Speed\": 35, \"Generation\": 1}, {\"#\": 76, \"Name\": \"Golem\", \"Type 1\": \"Rock\", \"Type 2\": \"Ground\", \"Total\": 495, \"HP\": 80, \"Attack\": 120, \"Defense\": 130, \"SpecialA\": 55, \"SpecialD\": 65, \"Speed\": 45, \"Generation\": 1}, {\"#\": 79, \"Name\": \"Slowpoke\", \"Type 1\": \"Water\", \"Type 2\": \"Psychic\", \"Total\": 315, \"HP\": 90, \"Attack\": 65, \"Defense\": 65, \"SpecialA\": 40, \"SpecialD\": 40, \"Speed\": 15, \"Generation\": 1}, {\"#\": 80, \"Name\": \"Slowbro\", \"Type 1\": \"Water\", \"Type 2\": \"Psychic\", \"Total\": 490, \"HP\": 95, \"Attack\": 75, \"Defense\": 110, \"SpecialA\": 100, \"SpecialD\": 80, \"Speed\": 30, \"Generation\": 1}, {\"#\": 80, \"Name\": \"SlowbroMega Slowbro\", \"Type 1\": \"Water\", \"Type 2\": \"Psychic\", \"Total\": 590, \"HP\": 95, \"Attack\": 75, \"Defense\": 180, \"SpecialA\": 130, \"SpecialD\": 80, \"Speed\": 30, \"Generation\": 1}, {\"#\": 81, \"Name\": \"Magnemite\", \"Type 1\": \"Electric\", \"Type 2\": \"Steel\", \"Total\": 325, \"HP\": 25, \"Attack\": 35, \"Defense\": 70, \"SpecialA\": 95, \"SpecialD\": 55, \"Speed\": 45, \"Generation\": 1}, {\"#\": 82, \"Name\": \"Magneton\", \"Type 1\": \"Electric\", \"Type 2\": \"Steel\", \"Total\": 465, \"HP\": 50, \"Attack\": 60, \"Defense\": 95, \"SpecialA\": 120, \"SpecialD\": 70, \"Speed\": 70, \"Generation\": 1}, {\"#\": 83, \"Name\": \"Farfetch'd\", \"Type 1\": \"Normal\", \"Type 2\": \"Flying\", \"Total\": 352, \"HP\": 52, \"Attack\": 65, \"Defense\": 55, \"SpecialA\": 58, \"SpecialD\": 62, \"Speed\": 60, \"Generation\": 1}, {\"#\": 84, \"Name\": \"Doduo\", \"Type 1\": \"Normal\", \"Type 2\": \"Flying\", \"Total\": 310, \"HP\": 35, \"Attack\": 85, \"Defense\": 45, \"SpecialA\": 35, \"SpecialD\": 35, \"Speed\": 75, \"Generation\": 1}, {\"#\": 85, \"Name\": \"Dodrio\", \"Type 1\": \"Normal\", \"Type 2\": \"Flying\", \"Total\": 460, \"HP\": 60, \"Attack\": 110, \"Defense\": 70, \"SpecialA\": 60, \"SpecialD\": 60, \"Speed\": 100, \"Generation\": 1}, {\"#\": 87, \"Name\": \"Dewgong\", \"Type 1\": \"Water\", \"Type 2\": \"Ice\", \"Total\": 475, \"HP\": 90, \"Attack\": 70, \"Defense\": 80, \"SpecialA\": 70, \"SpecialD\": 95, \"Speed\": 70, \"Generation\": 1}, {\"#\": 91, \"Name\": \"Cloyster\", \"Type 1\": \"Water\", \"Type 2\": \"Ice\", \"Total\": 525, \"HP\": 50, \"Attack\": 95, \"Defense\": 180, \"SpecialA\": 85, \"SpecialD\": 45, \"Speed\": 70, \"Generation\": 1}, {\"#\": 92, \"Name\": \"Gastly\", \"Type 1\": \"Ghost\", \"Type 2\": \"Poison\", \"Total\": 310, \"HP\": 30, \"Attack\": 35, \"Defense\": 30, \"SpecialA\": 100, \"SpecialD\": 35, \"Speed\": 80, \"Generation\": 1}, {\"#\": 93, \"Name\": \"Haunter\", \"Type 1\": \"Ghost\", \"Type 2\": \"Poison\", \"Total\": 405, \"HP\": 45, \"Attack\": 50, \"Defense\": 45, \"SpecialA\": 115, \"SpecialD\": 55, \"Speed\": 95, \"Generation\": 1}, {\"#\": 94, \"Name\": \"Gengar\", \"Type 1\": \"Ghost\", \"Type 2\": \"Poison\", \"Total\": 500, \"HP\": 60, \"Attack\": 65, \"Defense\": 60, \"SpecialA\": 130, \"SpecialD\": 75, \"Speed\": 110, \"Generation\": 1}, {\"#\": 94, \"Name\": \"GengarMega Gengar\", \"Type 1\": \"Ghost\", \"Type 2\": \"Poison\", \"Total\": 600, \"HP\": 60, \"Attack\": 65, \"Defense\": 80, \"SpecialA\": 170, \"SpecialD\": 95, \"Speed\": 130, \"Generation\": 1}, {\"#\": 95, \"Name\": \"Onix\", \"Type 1\": \"Rock\", \"Type 2\": \"Ground\", \"Total\": 385, \"HP\": 35, \"Attack\": 45, \"Defense\": 160, \"SpecialA\": 30, \"SpecialD\": 45, \"Speed\": 70, \"Generation\": 1}, {\"#\": 102, \"Name\": \"Exeggcute\", \"Type 1\": \"Grass\", \"Type 2\": \"Psychic\", \"Total\": 325, \"HP\": 60, \"Attack\": 40, \"Defense\": 80, \"SpecialA\": 60, \"SpecialD\": 45, \"Speed\": 40, \"Generation\": 1}, {\"#\": 103, \"Name\": \"Exeggutor\", \"Type 1\": \"Grass\", \"Type 2\": \"Psychic\", \"Total\": 520, \"HP\": 95, \"Attack\": 95, \"Defense\": 85, \"SpecialA\": 125, \"SpecialD\": 65, \"Speed\": 55, \"Generation\": 1}, {\"#\": 111, \"Name\": \"Rhyhorn\", \"Type 1\": \"Ground\", \"Type 2\": \"Rock\", \"Total\": 345, \"HP\": 80, \"Attack\": 85, \"Defense\": 95, \"SpecialA\": 30, \"SpecialD\": 30, \"Speed\": 25, \"Generation\": 1}, {\"#\": 112, \"Name\": \"Rhydon\", \"Type 1\": \"Ground\", \"Type 2\": \"Rock\", \"Total\": 485, \"HP\": 105, \"Attack\": 130, \"Defense\": 120, \"SpecialA\": 45, \"SpecialD\": 45, \"Speed\": 40, \"Generation\": 1}, {\"#\": 121, \"Name\": \"Starmie\", \"Type 1\": \"Water\", \"Type 2\": \"Psychic\", \"Total\": 520, \"HP\": 60, \"Attack\": 75, \"Defense\": 85, \"SpecialA\": 100, \"SpecialD\": 85, \"Speed\": 115, \"Generation\": 1}, {\"#\": 122, \"Name\": \"Mr. Mime\", \"Type 1\": \"Psychic\", \"Type 2\": \"Fairy\", \"Total\": 460, \"HP\": 40, \"Attack\": 45, \"Defense\": 65, \"SpecialA\": 100, \"SpecialD\": 120, \"Speed\": 90, \"Generation\": 1}, {\"#\": 123, \"Name\": \"Scyther\", \"Type 1\": \"Bug\", \"Type 2\": \"Flying\", \"Total\": 500, \"HP\": 70, \"Attack\": 110, \"Defense\": 80, \"SpecialA\": 55, \"SpecialD\": 80, \"Speed\": 105, \"Generation\": 1}, {\"#\": 124, \"Name\": \"Jynx\", \"Type 1\": \"Ice\", \"Type 2\": \"Psychic\", \"Total\": 455, \"HP\": 65, \"Attack\": 50, \"Defense\": 35, \"SpecialA\": 115, \"SpecialD\": 95, \"Speed\": 95, \"Generation\": 1}, {\"#\": 127, \"Name\": \"PinsirMega Pinsir\", \"Type 1\": \"Bug\", \"Type 2\": \"Flying\", \"Total\": 600, \"HP\": 65, \"Attack\": 155, \"Defense\": 120, \"SpecialA\": 65, \"SpecialD\": 90, \"Speed\": 105, \"Generation\": 1}, {\"#\": 130, \"Name\": \"Gyarados\", \"Type 1\": \"Water\", \"Type 2\": \"Flying\", \"Total\": 540, \"HP\": 95, \"Attack\": 125, \"Defense\": 79, \"SpecialA\": 60, \"SpecialD\": 100, \"Speed\": 81, \"Generation\": 1}, {\"#\": 130, \"Name\": \"GyaradosMega Gyarados\", \"Type 1\": \"Water\", \"Type 2\": \"Dark\", \"Total\": 640, \"HP\": 95, \"Attack\": 155, \"Defense\": 109, \"SpecialA\": 70, \"SpecialD\": 130, \"Speed\": 81, \"Generation\": 1}, {\"#\": 131, \"Name\": \"Lapras\", \"Type 1\": \"Water\", \"Type 2\": \"Ice\", \"Total\": 535, \"HP\": 130, \"Attack\": 85, \"Defense\": 80, \"SpecialA\": 85, \"SpecialD\": 95, \"Speed\": 60, \"Generation\": 1}, {\"#\": 138, \"Name\": \"Omanyte\", \"Type 1\": \"Rock\", \"Type 2\": \"Water\", \"Total\": 355, \"HP\": 35, \"Attack\": 40, \"Defense\": 100, \"SpecialA\": 90, \"SpecialD\": 55, \"Speed\": 35, \"Generation\": 1}, {\"#\": 139, \"Name\": \"Omastar\", \"Type 1\": \"Rock\", \"Type 2\": \"Water\", \"Total\": 495, \"HP\": 70, \"Attack\": 60, \"Defense\": 125, \"SpecialA\": 115, \"SpecialD\": 70, \"Speed\": 55, \"Generation\": 1}, {\"#\": 140, \"Name\": \"Kabuto\", \"Type 1\": \"Rock\", \"Type 2\": \"Water\", \"Total\": 355, \"HP\": 30, \"Attack\": 80, \"Defense\": 90, \"SpecialA\": 55, \"SpecialD\": 45, \"Speed\": 55, \"Generation\": 1}, {\"#\": 141, \"Name\": \"Kabutops\", \"Type 1\": \"Rock\", \"Type 2\": \"Water\", \"Total\": 495, \"HP\": 60, \"Attack\": 115, \"Defense\": 105, \"SpecialA\": 65, \"SpecialD\": 70, \"Speed\": 80, \"Generation\": 1}, {\"#\": 142, \"Name\": \"Aerodactyl\", \"Type 1\": \"Rock\", \"Type 2\": \"Flying\", \"Total\": 515, \"HP\": 80, \"Attack\": 105, \"Defense\": 65, \"SpecialA\": 60, \"SpecialD\": 75, \"Speed\": 130, \"Generation\": 1}, {\"#\": 142, \"Name\": \"AerodactylMega Aerodactyl\", \"Type 1\": \"Rock\", \"Type 2\": \"Flying\", \"Total\": 615, \"HP\": 80, \"Attack\": 135, \"Defense\": 85, \"SpecialA\": 70, \"SpecialD\": 95, \"Speed\": 150, \"Generation\": 1}, {\"#\": 149, \"Name\": \"Dragonite\", \"Type 1\": \"Dragon\", \"Type 2\": \"Flying\", \"Total\": 600, \"HP\": 91, \"Attack\": 134, \"Defense\": 95, \"SpecialA\": 100, \"SpecialD\": 100, \"Speed\": 80, \"Generation\": 1}, {\"#\": 163, \"Name\": \"Hoothoot\", \"Type 1\": \"Normal\", \"Type 2\": \"Flying\", \"Total\": 262, \"HP\": 60, \"Attack\": 30, \"Defense\": 30, \"SpecialA\": 36, \"SpecialD\": 56, \"Speed\": 50, \"Generation\": 2}, {\"#\": 164, \"Name\": \"Noctowl\", \"Type 1\": \"Normal\", \"Type 2\": \"Flying\", \"Total\": 442, \"HP\": 100, \"Attack\": 50, \"Defense\": 50, \"SpecialA\": 76, \"SpecialD\": 96, \"Speed\": 70, \"Generation\": 2}, {\"#\": 165, \"Name\": \"Ledyba\", \"Type 1\": \"Bug\", \"Type 2\": \"Flying\", \"Total\": 265, \"HP\": 40, \"Attack\": 20, \"Defense\": 30, \"SpecialA\": 40, \"SpecialD\": 80, \"Speed\": 55, \"Generation\": 2}, {\"#\": 166, \"Name\": \"Ledian\", \"Type 1\": \"Bug\", \"Type 2\": \"Flying\", \"Total\": 390, \"HP\": 55, \"Attack\": 35, \"Defense\": 50, \"SpecialA\": 55, \"SpecialD\": 110, \"Speed\": 85, \"Generation\": 2}, {\"#\": 167, \"Name\": \"Spinarak\", \"Type 1\": \"Bug\", \"Type 2\": \"Poison\", \"Total\": 250, \"HP\": 40, \"Attack\": 60, \"Defense\": 40, \"SpecialA\": 40, \"SpecialD\": 40, \"Speed\": 30, \"Generation\": 2}, {\"#\": 168, \"Name\": \"Ariados\", \"Type 1\": \"Bug\", \"Type 2\": \"Poison\", \"Total\": 390, \"HP\": 70, \"Attack\": 90, \"Defense\": 70, \"SpecialA\": 60, \"SpecialD\": 60, \"Speed\": 40, \"Generation\": 2}, {\"#\": 169, \"Name\": \"Crobat\", \"Type 1\": \"Poison\", \"Type 2\": \"Flying\", \"Total\": 535, \"HP\": 85, \"Attack\": 90, \"Defense\": 80, \"SpecialA\": 70, \"SpecialD\": 80, \"Speed\": 130, \"Generation\": 2}, {\"#\": 170, \"Name\": \"Chinchou\", \"Type 1\": \"Water\", \"Type 2\": \"Electric\", \"Total\": 330, \"HP\": 75, \"Attack\": 38, \"Defense\": 38, \"SpecialA\": 56, \"SpecialD\": 56, \"Speed\": 67, \"Generation\": 2}, {\"#\": 171, \"Name\": \"Lanturn\", \"Type 1\": \"Water\", \"Type 2\": \"Electric\", \"Total\": 460, \"HP\": 125, \"Attack\": 58, \"Defense\": 58, \"SpecialA\": 76, \"SpecialD\": 76, \"Speed\": 67, \"Generation\": 2}, {\"#\": 174, \"Name\": \"Igglybuff\", \"Type 1\": \"Normal\", \"Type 2\": \"Fairy\", \"Total\": 210, \"HP\": 90, \"Attack\": 30, \"Defense\": 15, \"SpecialA\": 40, \"SpecialD\": 20, \"Speed\": 15, \"Generation\": 2}, {\"#\": 176, \"Name\": \"Togetic\", \"Type 1\": \"Fairy\", \"Type 2\": \"Flying\", \"Total\": 405, \"HP\": 55, \"Attack\": 40, \"Defense\": 85, \"SpecialA\": 80, \"SpecialD\": 105, \"Speed\": 40, \"Generation\": 2}, {\"#\": 177, \"Name\": \"Natu\", \"Type 1\": \"Psychic\", \"Type 2\": \"Flying\", \"Total\": 320, \"HP\": 40, \"Attack\": 50, \"Defense\": 45, \"SpecialA\": 70, \"SpecialD\": 45, \"Speed\": 70, \"Generation\": 2}, {\"#\": 178, \"Name\": \"Xatu\", \"Type 1\": \"Psychic\", \"Type 2\": \"Flying\", \"Total\": 470, \"HP\": 65, \"Attack\": 75, \"Defense\": 70, \"SpecialA\": 95, \"SpecialD\": 70, \"Speed\": 95, \"Generation\": 2}, {\"#\": 181, \"Name\": \"AmpharosMega Ampharos\", \"Type 1\": \"Electric\", \"Type 2\": \"Dragon\", \"Total\": 610, \"HP\": 90, \"Attack\": 95, \"Defense\": 105, \"SpecialA\": 165, \"SpecialD\": 110, \"Speed\": 45, \"Generation\": 2}, {\"#\": 183, \"Name\": \"Marill\", \"Type 1\": \"Water\", \"Type 2\": \"Fairy\", \"Total\": 250, \"HP\": 70, \"Attack\": 20, \"Defense\": 50, \"SpecialA\": 20, \"SpecialD\": 50, \"Speed\": 40, \"Generation\": 2}, {\"#\": 184, \"Name\": \"Azumarill\", \"Type 1\": \"Water\", \"Type 2\": \"Fairy\", \"Total\": 420, \"HP\": 100, \"Attack\": 50, \"Defense\": 80, \"SpecialA\": 60, \"SpecialD\": 80, \"Speed\": 50, \"Generation\": 2}, {\"#\": 187, \"Name\": \"Hoppip\", \"Type 1\": \"Grass\", \"Type 2\": \"Flying\", \"Total\": 250, \"HP\": 35, \"Attack\": 35, \"Defense\": 40, \"SpecialA\": 35, \"SpecialD\": 55, \"Speed\": 50, \"Generation\": 2}, {\"#\": 188, \"Name\": \"Skiploom\", \"Type 1\": \"Grass\", \"Type 2\": \"Flying\", \"Total\": 340, \"HP\": 55, \"Attack\": 45, \"Defense\": 50, \"SpecialA\": 45, \"SpecialD\": 65, \"Speed\": 80, \"Generation\": 2}, {\"#\": 189, \"Name\": \"Jumpluff\", \"Type 1\": \"Grass\", \"Type 2\": \"Flying\", \"Total\": 460, \"HP\": 75, \"Attack\": 55, \"Defense\": 70, \"SpecialA\": 55, \"SpecialD\": 95, \"Speed\": 110, \"Generation\": 2}, {\"#\": 193, \"Name\": \"Yanma\", \"Type 1\": \"Bug\", \"Type 2\": \"Flying\", \"Total\": 390, \"HP\": 65, \"Attack\": 65, \"Defense\": 45, \"SpecialA\": 75, \"SpecialD\": 45, \"Speed\": 95, \"Generation\": 2}, {\"#\": 194, \"Name\": \"Wooper\", \"Type 1\": \"Water\", \"Type 2\": \"Ground\", \"Total\": 210, \"HP\": 55, \"Attack\": 45, \"Defense\": 45, \"SpecialA\": 25, \"SpecialD\": 25, \"Speed\": 15, \"Generation\": 2}, {\"#\": 195, \"Name\": \"Quagsire\", \"Type 1\": \"Water\", \"Type 2\": \"Ground\", \"Total\": 430, \"HP\": 95, \"Attack\": 85, \"Defense\": 85, \"SpecialA\": 65, \"SpecialD\": 65, \"Speed\": 35, \"Generation\": 2}, {\"#\": 198, \"Name\": \"Murkrow\", \"Type 1\": \"Dark\", \"Type 2\": \"Flying\", \"Total\": 405, \"HP\": 60, \"Attack\": 85, \"Defense\": 42, \"SpecialA\": 85, \"SpecialD\": 42, \"Speed\": 91, \"Generation\": 2}, {\"#\": 199, \"Name\": \"Slowking\", \"Type 1\": \"Water\", \"Type 2\": \"Psychic\", \"Total\": 490, \"HP\": 95, \"Attack\": 75, \"Defense\": 80, \"SpecialA\": 100, \"SpecialD\": 110, \"Speed\": 30, \"Generation\": 2}, {\"#\": 203, \"Name\": \"Girafarig\", \"Type 1\": \"Normal\", \"Type 2\": \"Psychic\", \"Total\": 455, \"HP\": 70, \"Attack\": 80, \"Defense\": 65, \"SpecialA\": 90, \"SpecialD\": 65, \"Speed\": 85, \"Generation\": 2}, {\"#\": 205, \"Name\": \"Forretress\", \"Type 1\": \"Bug\", \"Type 2\": \"Steel\", \"Total\": 465, \"HP\": 75, \"Attack\": 90, \"Defense\": 140, \"SpecialA\": 60, \"SpecialD\": 60, \"Speed\": 40, \"Generation\": 2}, {\"#\": 207, \"Name\": \"Gligar\", \"Type 1\": \"Ground\", \"Type 2\": \"Flying\", \"Total\": 430, \"HP\": 65, \"Attack\": 75, \"Defense\": 105, \"SpecialA\": 35, \"SpecialD\": 65, \"Speed\": 85, \"Generation\": 2}, {\"#\": 208, \"Name\": \"Steelix\", \"Type 1\": \"Steel\", \"Type 2\": \"Ground\", \"Total\": 510, \"HP\": 75, \"Attack\": 85, \"Defense\": 200, \"SpecialA\": 55, \"SpecialD\": 65, \"Speed\": 30, \"Generation\": 2}, {\"#\": 208, \"Name\": \"SteelixMega Steelix\", \"Type 1\": \"Steel\", \"Type 2\": \"Ground\", \"Total\": 610, \"HP\": 75, \"Attack\": 125, \"Defense\": 230, \"SpecialA\": 55, \"SpecialD\": 95, \"Speed\": 30, \"Generation\": 2}, {\"#\": 211, \"Name\": \"Qwilfish\", \"Type 1\": \"Water\", \"Type 2\": \"Poison\", \"Total\": 430, \"HP\": 65, \"Attack\": 95, \"Defense\": 75, \"SpecialA\": 55, \"SpecialD\": 55, \"Speed\": 85, \"Generation\": 2}, {\"#\": 212, \"Name\": \"Scizor\", \"Type 1\": \"Bug\", \"Type 2\": \"Steel\", \"Total\": 500, \"HP\": 70, \"Attack\": 130, \"Defense\": 100, \"SpecialA\": 55, \"SpecialD\": 80, \"Speed\": 65, \"Generation\": 2}, {\"#\": 212, \"Name\": \"ScizorMega Scizor\", \"Type 1\": \"Bug\", \"Type 2\": \"Steel\", \"Total\": 600, \"HP\": 70, \"Attack\": 150, \"Defense\": 140, \"SpecialA\": 65, \"SpecialD\": 100, \"Speed\": 75, \"Generation\": 2}, {\"#\": 213, \"Name\": \"Shuckle\", \"Type 1\": \"Bug\", \"Type 2\": \"Rock\", \"Total\": 505, \"HP\": 20, \"Attack\": 10, \"Defense\": 230, \"SpecialA\": 10, \"SpecialD\": 230, \"Speed\": 5, \"Generation\": 2}, {\"#\": 214, \"Name\": \"Heracross\", \"Type 1\": \"Bug\", \"Type 2\": \"Fighting\", \"Total\": 500, \"HP\": 80, \"Attack\": 125, \"Defense\": 75, \"SpecialA\": 40, \"SpecialD\": 95, \"Speed\": 85, \"Generation\": 2}, {\"#\": 214, \"Name\": \"HeracrossMega Heracross\", \"Type 1\": \"Bug\", \"Type 2\": \"Fighting\", \"Total\": 600, \"HP\": 80, \"Attack\": 185, \"Defense\": 115, \"SpecialA\": 40, \"SpecialD\": 105, \"Speed\": 75, \"Generation\": 2}, {\"#\": 215, \"Name\": \"Sneasel\", \"Type 1\": \"Dark\", \"Type 2\": \"Ice\", \"Total\": 430, \"HP\": 55, \"Attack\": 95, \"Defense\": 55, \"SpecialA\": 35, \"SpecialD\": 75, \"Speed\": 115, \"Generation\": 2}, {\"#\": 219, \"Name\": \"Magcargo\", \"Type 1\": \"Fire\", \"Type 2\": \"Rock\", \"Total\": 410, \"HP\": 50, \"Attack\": 50, \"Defense\": 120, \"SpecialA\": 80, \"SpecialD\": 80, \"Speed\": 30, \"Generation\": 2}, {\"#\": 220, \"Name\": \"Swinub\", \"Type 1\": \"Ice\", \"Type 2\": \"Ground\", \"Total\": 250, \"HP\": 50, \"Attack\": 50, \"Defense\": 40, \"SpecialA\": 30, \"SpecialD\": 30, \"Speed\": 50, \"Generation\": 2}, {\"#\": 221, \"Name\": \"Piloswine\", \"Type 1\": \"Ice\", \"Type 2\": \"Ground\", \"Total\": 450, \"HP\": 100, \"Attack\": 100, \"Defense\": 80, \"SpecialA\": 60, \"SpecialD\": 60, \"Speed\": 50, \"Generation\": 2}, {\"#\": 222, \"Name\": \"Corsola\", \"Type 1\": \"Water\", \"Type 2\": \"Rock\", \"Total\": 380, \"HP\": 55, \"Attack\": 55, \"Defense\": 85, \"SpecialA\": 65, \"SpecialD\": 85, \"Speed\": 35, \"Generation\": 2}, {\"#\": 225, \"Name\": \"Delibird\", \"Type 1\": \"Ice\", \"Type 2\": \"Flying\", \"Total\": 330, \"HP\": 45, \"Attack\": 55, \"Defense\": 45, \"SpecialA\": 65, \"SpecialD\": 45, \"Speed\": 75, \"Generation\": 2}, {\"#\": 226, \"Name\": \"Mantine\", \"Type 1\": \"Water\", \"Type 2\": \"Flying\", \"Total\": 465, \"HP\": 65, \"Attack\": 40, \"Defense\": 70, \"SpecialA\": 80, \"SpecialD\": 140, \"Speed\": 70, \"Generation\": 2}, {\"#\": 227, \"Name\": \"Skarmory\", \"Type 1\": \"Steel\", \"Type 2\": \"Flying\", \"Total\": 465, \"HP\": 65, \"Attack\": 80, \"Defense\": 140, \"SpecialA\": 40, \"SpecialD\": 70, \"Speed\": 70, \"Generation\": 2}, {\"#\": 228, \"Name\": \"Houndour\", \"Type 1\": \"Dark\", \"Type 2\": \"Fire\", \"Total\": 330, \"HP\": 45, \"Attack\": 60, \"Defense\": 30, \"SpecialA\": 80, \"SpecialD\": 50, \"Speed\": 65, \"Generation\": 2}, {\"#\": 229, \"Name\": \"Houndoom\", \"Type 1\": \"Dark\", \"Type 2\": \"Fire\", \"Total\": 500, \"HP\": 75, \"Attack\": 90, \"Defense\": 50, \"SpecialA\": 110, \"SpecialD\": 80, \"Speed\": 95, \"Generation\": 2}, {\"#\": 229, \"Name\": \"HoundoomMega Houndoom\", \"Type 1\": \"Dark\", \"Type 2\": \"Fire\", \"Total\": 600, \"HP\": 75, \"Attack\": 90, \"Defense\": 90, \"SpecialA\": 140, \"SpecialD\": 90, \"Speed\": 115, \"Generation\": 2}, {\"#\": 230, \"Name\": \"Kingdra\", \"Type 1\": \"Water\", \"Type 2\": \"Dragon\", \"Total\": 540, \"HP\": 75, \"Attack\": 95, \"Defense\": 95, \"SpecialA\": 95, \"SpecialD\": 95, \"Speed\": 85, \"Generation\": 2}, {\"#\": 238, \"Name\": \"Smoochum\", \"Type 1\": \"Ice\", \"Type 2\": \"Psychic\", \"Total\": 305, \"HP\": 45, \"Attack\": 30, \"Defense\": 15, \"SpecialA\": 85, \"SpecialD\": 65, \"Speed\": 65, \"Generation\": 2}, {\"#\": 246, \"Name\": \"Larvitar\", \"Type 1\": \"Rock\", \"Type 2\": \"Ground\", \"Total\": 300, \"HP\": 50, \"Attack\": 64, \"Defense\": 50, \"SpecialA\": 45, \"SpecialD\": 50, \"Speed\": 41, \"Generation\": 2}, {\"#\": 247, \"Name\": \"Pupitar\", \"Type 1\": \"Rock\", \"Type 2\": \"Ground\", \"Total\": 410, \"HP\": 70, \"Attack\": 84, \"Defense\": 70, \"SpecialA\": 65, \"SpecialD\": 70, \"Speed\": 51, \"Generation\": 2}, {\"#\": 248, \"Name\": \"Tyranitar\", \"Type 1\": \"Rock\", \"Type 2\": \"Dark\", \"Total\": 600, \"HP\": 100, \"Attack\": 134, \"Defense\": 110, \"SpecialA\": 95, \"SpecialD\": 100, \"Speed\": 61, \"Generation\": 2}, {\"#\": 248, \"Name\": \"TyranitarMega Tyranitar\", \"Type 1\": \"Rock\", \"Type 2\": \"Dark\", \"Total\": 700, \"HP\": 100, \"Attack\": 164, \"Defense\": 150, \"SpecialA\": 95, \"SpecialD\": 120, \"Speed\": 71, \"Generation\": 2}, {\"#\": 251, \"Name\": \"Celebi\", \"Type 1\": \"Psychic\", \"Type 2\": \"Grass\", \"Total\": 600, \"HP\": 100, \"Attack\": 100, \"Defense\": 100, \"SpecialA\": 100, \"SpecialD\": 100, \"Speed\": 100, \"Generation\": 2}, {\"#\": 254, \"Name\": \"SceptileMega Sceptile\", \"Type 1\": \"Grass\", \"Type 2\": \"Dragon\", \"Total\": 630, \"HP\": 70, \"Attack\": 110, \"Defense\": 75, \"SpecialA\": 145, \"SpecialD\": 85, \"Speed\": 145, \"Generation\": 3}, {\"#\": 256, \"Name\": \"Combusken\", \"Type 1\": \"Fire\", \"Type 2\": \"Fighting\", \"Total\": 405, \"HP\": 60, \"Attack\": 85, \"Defense\": 60, \"SpecialA\": 85, \"SpecialD\": 60, \"Speed\": 55, \"Generation\": 3}, {\"#\": 257, \"Name\": \"Blaziken\", \"Type 1\": \"Fire\", \"Type 2\": \"Fighting\", \"Total\": 530, \"HP\": 80, \"Attack\": 120, \"Defense\": 70, \"SpecialA\": 110, \"SpecialD\": 70, \"Speed\": 80, \"Generation\": 3}, {\"#\": 257, \"Name\": \"BlazikenMega Blaziken\", \"Type 1\": \"Fire\", \"Type 2\": \"Fighting\", \"Total\": 630, \"HP\": 80, \"Attack\": 160, \"Defense\": 80, \"SpecialA\": 130, \"SpecialD\": 80, \"Speed\": 100, \"Generation\": 3}, {\"#\": 259, \"Name\": \"Marshtomp\", \"Type 1\": \"Water\", \"Type 2\": \"Ground\", \"Total\": 405, \"HP\": 70, \"Attack\": 85, \"Defense\": 70, \"SpecialA\": 60, \"SpecialD\": 70, \"Speed\": 50, \"Generation\": 3}, {\"#\": 260, \"Name\": \"Swampert\", \"Type 1\": \"Water\", \"Type 2\": \"Ground\", \"Total\": 535, \"HP\": 100, \"Attack\": 110, \"Defense\": 90, \"SpecialA\": 85, \"SpecialD\": 90, \"Speed\": 60, \"Generation\": 3}, {\"#\": 260, \"Name\": \"SwampertMega Swampert\", \"Type 1\": \"Water\", \"Type 2\": \"Ground\", \"Total\": 635, \"HP\": 100, \"Attack\": 150, \"Defense\": 110, \"SpecialA\": 95, \"SpecialD\": 110, \"Speed\": 70, \"Generation\": 3}, {\"#\": 267, \"Name\": \"Beautifly\", \"Type 1\": \"Bug\", \"Type 2\": \"Flying\", \"Total\": 395, \"HP\": 60, \"Attack\": 70, \"Defense\": 50, \"SpecialA\": 100, \"SpecialD\": 50, \"Speed\": 65, \"Generation\": 3}, {\"#\": 269, \"Name\": \"Dustox\", \"Type 1\": \"Bug\", \"Type 2\": \"Poison\", \"Total\": 385, \"HP\": 60, \"Attack\": 50, \"Defense\": 70, \"SpecialA\": 50, \"SpecialD\": 90, \"Speed\": 65, \"Generation\": 3}, {\"#\": 270, \"Name\": \"Lotad\", \"Type 1\": \"Water\", \"Type 2\": \"Grass\", \"Total\": 220, \"HP\": 40, \"Attack\": 30, \"Defense\": 30, \"SpecialA\": 40, \"SpecialD\": 50, \"Speed\": 30, \"Generation\": 3}, {\"#\": 271, \"Name\": \"Lombre\", \"Type 1\": \"Water\", \"Type 2\": \"Grass\", \"Total\": 340, \"HP\": 60, \"Attack\": 50, \"Defense\": 50, \"SpecialA\": 60, \"SpecialD\": 70, \"Speed\": 50, \"Generation\": 3}, {\"#\": 272, \"Name\": \"Ludicolo\", \"Type 1\": \"Water\", \"Type 2\": \"Grass\", \"Total\": 480, \"HP\": 80, \"Attack\": 70, \"Defense\": 70, \"SpecialA\": 90, \"SpecialD\": 100, \"Speed\": 70, \"Generation\": 3}, {\"#\": 274, \"Name\": \"Nuzleaf\", \"Type 1\": \"Grass\", \"Type 2\": \"Dark\", \"Total\": 340, \"HP\": 70, \"Attack\": 70, \"Defense\": 40, \"SpecialA\": 60, \"SpecialD\": 40, \"Speed\": 60, \"Generation\": 3}, {\"#\": 275, \"Name\": \"Shiftry\", \"Type 1\": \"Grass\", \"Type 2\": \"Dark\", \"Total\": 480, \"HP\": 90, \"Attack\": 100, \"Defense\": 60, \"SpecialA\": 90, \"SpecialD\": 60, \"Speed\": 80, \"Generation\": 3}, {\"#\": 276, \"Name\": \"Taillow\", \"Type 1\": \"Normal\", \"Type 2\": \"Flying\", \"Total\": 270, \"HP\": 40, \"Attack\": 55, \"Defense\": 30, \"SpecialA\": 30, \"SpecialD\": 30, \"Speed\": 85, \"Generation\": 3}, {\"#\": 277, \"Name\": \"Swellow\", \"Type 1\": \"Normal\", \"Type 2\": \"Flying\", \"Total\": 430, \"HP\": 60, \"Attack\": 85, \"Defense\": 60, \"SpecialA\": 50, \"SpecialD\": 50, \"Speed\": 125, \"Generation\": 3}, {\"#\": 278, \"Name\": \"Wingull\", \"Type 1\": \"Water\", \"Type 2\": \"Flying\", \"Total\": 270, \"HP\": 40, \"Attack\": 30, \"Defense\": 30, \"SpecialA\": 55, \"SpecialD\": 30, \"Speed\": 85, \"Generation\": 3}, {\"#\": 279, \"Name\": \"Pelipper\", \"Type 1\": \"Water\", \"Type 2\": \"Flying\", \"Total\": 430, \"HP\": 60, \"Attack\": 50, \"Defense\": 100, \"SpecialA\": 85, \"SpecialD\": 70, \"Speed\": 65, \"Generation\": 3}, {\"#\": 280, \"Name\": \"Ralts\", \"Type 1\": \"Psychic\", \"Type 2\": \"Fairy\", \"Total\": 198, \"HP\": 28, \"Attack\": 25, \"Defense\": 25, \"SpecialA\": 45, \"SpecialD\": 35, \"Speed\": 40, \"Generation\": 3}, {\"#\": 281, \"Name\": \"Kirlia\", \"Type 1\": \"Psychic\", \"Type 2\": \"Fairy\", \"Total\": 278, \"HP\": 38, \"Attack\": 35, \"Defense\": 35, \"SpecialA\": 65, \"SpecialD\": 55, \"Speed\": 50, \"Generation\": 3}, {\"#\": 282, \"Name\": \"Gardevoir\", \"Type 1\": \"Psychic\", \"Type 2\": \"Fairy\", \"Total\": 518, \"HP\": 68, \"Attack\": 65, \"Defense\": 65, \"SpecialA\": 125, \"SpecialD\": 115, \"Speed\": 80, \"Generation\": 3}, {\"#\": 282, \"Name\": \"GardevoirMega Gardevoir\", \"Type 1\": \"Psychic\", \"Type 2\": \"Fairy\", \"Total\": 618, \"HP\": 68, \"Attack\": 85, \"Defense\": 65, \"SpecialA\": 165, \"SpecialD\": 135, \"Speed\": 100, \"Generation\": 3}, {\"#\": 283, \"Name\": \"Surskit\", \"Type 1\": \"Bug\", \"Type 2\": \"Water\", \"Total\": 269, \"HP\": 40, \"Attack\": 30, \"Defense\": 32, \"SpecialA\": 50, \"SpecialD\": 52, \"Speed\": 65, \"Generation\": 3}, {\"#\": 284, \"Name\": \"Masquerain\", \"Type 1\": \"Bug\", \"Type 2\": \"Flying\", \"Total\": 414, \"HP\": 70, \"Attack\": 60, \"Defense\": 62, \"SpecialA\": 80, \"SpecialD\": 82, \"Speed\": 60, \"Generation\": 3}, {\"#\": 286, \"Name\": \"Breloom\", \"Type 1\": \"Grass\", \"Type 2\": \"Fighting\", \"Total\": 460, \"HP\": 60, \"Attack\": 130, \"Defense\": 80, \"SpecialA\": 60, \"SpecialD\": 60, \"Speed\": 70, \"Generation\": 3}, {\"#\": 290, \"Name\": \"Nincada\", \"Type 1\": \"Bug\", \"Type 2\": \"Ground\", \"Total\": 266, \"HP\": 31, \"Attack\": 45, \"Defense\": 90, \"SpecialA\": 30, \"SpecialD\": 30, \"Speed\": 40, \"Generation\": 3}, {\"#\": 291, \"Name\": \"Ninjask\", \"Type 1\": \"Bug\", \"Type 2\": \"Flying\", \"Total\": 456, \"HP\": 61, \"Attack\": 90, \"Defense\": 45, \"SpecialA\": 50, \"SpecialD\": 50, \"Speed\": 160, \"Generation\": 3}, {\"#\": 292, \"Name\": \"Shedinja\", \"Type 1\": \"Bug\", \"Type 2\": \"Ghost\", \"Total\": 236, \"HP\": 1, \"Attack\": 90, \"Defense\": 45, \"SpecialA\": 30, \"SpecialD\": 30, \"Speed\": 40, \"Generation\": 3}, {\"#\": 298, \"Name\": \"Azurill\", \"Type 1\": \"Normal\", \"Type 2\": \"Fairy\", \"Total\": 190, \"HP\": 50, \"Attack\": 20, \"Defense\": 40, \"SpecialA\": 20, \"SpecialD\": 40, \"Speed\": 20, \"Generation\": 3}, {\"#\": 302, \"Name\": \"Sableye\", \"Type 1\": \"Dark\", \"Type 2\": \"Ghost\", \"Total\": 380, \"HP\": 50, \"Attack\": 75, \"Defense\": 75, \"SpecialA\": 65, \"SpecialD\": 65, \"Speed\": 50, \"Generation\": 3}, {\"#\": 302, \"Name\": \"SableyeMega Sableye\", \"Type 1\": \"Dark\", \"Type 2\": \"Ghost\", \"Total\": 480, \"HP\": 50, \"Attack\": 85, \"Defense\": 125, \"SpecialA\": 85, \"SpecialD\": 115, \"Speed\": 20, \"Generation\": 3}, {\"#\": 303, \"Name\": \"Mawile\", \"Type 1\": \"Steel\", \"Type 2\": \"Fairy\", \"Total\": 380, \"HP\": 50, \"Attack\": 85, \"Defense\": 85, \"SpecialA\": 55, \"SpecialD\": 55, \"Speed\": 50, \"Generation\": 3}, {\"#\": 303, \"Name\": \"MawileMega Mawile\", \"Type 1\": \"Steel\", \"Type 2\": \"Fairy\", \"Total\": 480, \"HP\": 50, \"Attack\": 105, \"Defense\": 125, \"SpecialA\": 55, \"SpecialD\": 95, \"Speed\": 50, \"Generation\": 3}, {\"#\": 304, \"Name\": \"Aron\", \"Type 1\": \"Steel\", \"Type 2\": \"Rock\", \"Total\": 330, \"HP\": 50, \"Attack\": 70, \"Defense\": 100, \"SpecialA\": 40, \"SpecialD\": 40, \"Speed\": 30, \"Generation\": 3}, {\"#\": 305, \"Name\": \"Lairon\", \"Type 1\": \"Steel\", \"Type 2\": \"Rock\", \"Total\": 430, \"HP\": 60, \"Attack\": 90, \"Defense\": 140, \"SpecialA\": 50, \"SpecialD\": 50, \"Speed\": 40, \"Generation\": 3}, {\"#\": 306, \"Name\": \"Aggron\", \"Type 1\": \"Steel\", \"Type 2\": \"Rock\", \"Total\": 530, \"HP\": 70, \"Attack\": 110, \"Defense\": 180, \"SpecialA\": 60, \"SpecialD\": 60, \"Speed\": 50, \"Generation\": 3}, {\"#\": 307, \"Name\": \"Meditite\", \"Type 1\": \"Fighting\", \"Type 2\": \"Psychic\", \"Total\": 280, \"HP\": 30, \"Attack\": 40, \"Defense\": 55, \"SpecialA\": 40, \"SpecialD\": 55, \"Speed\": 60, \"Generation\": 3}, {\"#\": 308, \"Name\": \"Medicham\", \"Type 1\": \"Fighting\", \"Type 2\": \"Psychic\", \"Total\": 410, \"HP\": 60, \"Attack\": 60, \"Defense\": 75, \"SpecialA\": 60, \"SpecialD\": 75, \"Speed\": 80, \"Generation\": 3}, {\"#\": 308, \"Name\": \"MedichamMega Medicham\", \"Type 1\": \"Fighting\", \"Type 2\": \"Psychic\", \"Total\": 510, \"HP\": 60, \"Attack\": 100, \"Defense\": 85, \"SpecialA\": 80, \"SpecialD\": 85, \"Speed\": 100, \"Generation\": 3}, {\"#\": 315, \"Name\": \"Roselia\", \"Type 1\": \"Grass\", \"Type 2\": \"Poison\", \"Total\": 400, \"HP\": 50, \"Attack\": 60, \"Defense\": 45, \"SpecialA\": 100, \"SpecialD\": 80, \"Speed\": 65, \"Generation\": 3}, {\"#\": 318, \"Name\": \"Carvanha\", \"Type 1\": \"Water\", \"Type 2\": \"Dark\", \"Total\": 305, \"HP\": 45, \"Attack\": 90, \"Defense\": 20, \"SpecialA\": 65, \"SpecialD\": 20, \"Speed\": 65, \"Generation\": 3}, {\"#\": 319, \"Name\": \"Sharpedo\", \"Type 1\": \"Water\", \"Type 2\": \"Dark\", \"Total\": 460, \"HP\": 70, \"Attack\": 120, \"Defense\": 40, \"SpecialA\": 95, \"SpecialD\": 40, \"Speed\": 95, \"Generation\": 3}, {\"#\": 319, \"Name\": \"SharpedoMega Sharpedo\", \"Type 1\": \"Water\", \"Type 2\": \"Dark\", \"Total\": 560, \"HP\": 70, \"Attack\": 140, \"Defense\": 70, \"SpecialA\": 110, \"SpecialD\": 65, \"Speed\": 105, \"Generation\": 3}, {\"#\": 322, \"Name\": \"Numel\", \"Type 1\": \"Fire\", \"Type 2\": \"Ground\", \"Total\": 305, \"HP\": 60, \"Attack\": 60, \"Defense\": 40, \"SpecialA\": 65, \"SpecialD\": 45, \"Speed\": 35, \"Generation\": 3}, {\"#\": 323, \"Name\": \"Camerupt\", \"Type 1\": \"Fire\", \"Type 2\": \"Ground\", \"Total\": 460, \"HP\": 70, \"Attack\": 100, \"Defense\": 70, \"SpecialA\": 105, \"SpecialD\": 75, \"Speed\": 40, \"Generation\": 3}, {\"#\": 323, \"Name\": \"CameruptMega Camerupt\", \"Type 1\": \"Fire\", \"Type 2\": \"Ground\", \"Total\": 560, \"HP\": 70, \"Attack\": 120, \"Defense\": 100, \"SpecialA\": 145, \"SpecialD\": 105, \"Speed\": 20, \"Generation\": 3}, {\"#\": 329, \"Name\": \"Vibrava\", \"Type 1\": \"Ground\", \"Type 2\": \"Dragon\", \"Total\": 340, \"HP\": 50, \"Attack\": 70, \"Defense\": 50, \"SpecialA\": 50, \"SpecialD\": 50, \"Speed\": 70, \"Generation\": 3}, {\"#\": 330, \"Name\": \"Flygon\", \"Type 1\": \"Ground\", \"Type 2\": \"Dragon\", \"Total\": 520, \"HP\": 80, \"Attack\": 100, \"Defense\": 80, \"SpecialA\": 80, \"SpecialD\": 80, \"Speed\": 100, \"Generation\": 3}, {\"#\": 332, \"Name\": \"Cacturne\", \"Type 1\": \"Grass\", \"Type 2\": \"Dark\", \"Total\": 475, \"HP\": 70, \"Attack\": 115, \"Defense\": 60, \"SpecialA\": 115, \"SpecialD\": 60, \"Speed\": 55, \"Generation\": 3}, {\"#\": 333, \"Name\": \"Swablu\", \"Type 1\": \"Normal\", \"Type 2\": \"Flying\", \"Total\": 310, \"HP\": 45, \"Attack\": 40, \"Defense\": 60, \"SpecialA\": 40, \"SpecialD\": 75, \"Speed\": 50, \"Generation\": 3}, {\"#\": 334, \"Name\": \"Altaria\", \"Type 1\": \"Dragon\", \"Type 2\": \"Flying\", \"Total\": 490, \"HP\": 75, \"Attack\": 70, \"Defense\": 90, \"SpecialA\": 70, \"SpecialD\": 105, \"Speed\": 80, \"Generation\": 3}, {\"#\": 334, \"Name\": \"AltariaMega Altaria\", \"Type 1\": \"Dragon\", \"Type 2\": \"Fairy\", \"Total\": 590, \"HP\": 75, \"Attack\": 110, \"Defense\": 110, \"SpecialA\": 110, \"SpecialD\": 105, \"Speed\": 80, \"Generation\": 3}, {\"#\": 337, \"Name\": \"Lunatone\", \"Type 1\": \"Rock\", \"Type 2\": \"Psychic\", \"Total\": 440, \"HP\": 70, \"Attack\": 55, \"Defense\": 65, \"SpecialA\": 95, \"SpecialD\": 85, \"Speed\": 70, \"Generation\": 3}, {\"#\": 338, \"Name\": \"Solrock\", \"Type 1\": \"Rock\", \"Type 2\": \"Psychic\", \"Total\": 440, \"HP\": 70, \"Attack\": 95, \"Defense\": 85, \"SpecialA\": 55, \"SpecialD\": 65, \"Speed\": 70, \"Generation\": 3}, {\"#\": 339, \"Name\": \"Barboach\", \"Type 1\": \"Water\", \"Type 2\": \"Ground\", \"Total\": 288, \"HP\": 50, \"Attack\": 48, \"Defense\": 43, \"SpecialA\": 46, \"SpecialD\": 41, \"Speed\": 60, \"Generation\": 3}, {\"#\": 340, \"Name\": \"Whiscash\", \"Type 1\": \"Water\", \"Type 2\": \"Ground\", \"Total\": 468, \"HP\": 110, \"Attack\": 78, \"Defense\": 73, \"SpecialA\": 76, \"SpecialD\": 71, \"Speed\": 60, \"Generation\": 3}, {\"#\": 342, \"Name\": \"Crawdaunt\", \"Type 1\": \"Water\", \"Type 2\": \"Dark\", \"Total\": 468, \"HP\": 63, \"Attack\": 120, \"Defense\": 85, \"SpecialA\": 90, \"SpecialD\": 55, \"Speed\": 55, \"Generation\": 3}, {\"#\": 343, \"Name\": \"Baltoy\", \"Type 1\": \"Ground\", \"Type 2\": \"Psychic\", \"Total\": 300, \"HP\": 40, \"Attack\": 40, \"Defense\": 55, \"SpecialA\": 40, \"SpecialD\": 70, \"Speed\": 55, \"Generation\": 3}, {\"#\": 344, \"Name\": \"Claydol\", \"Type 1\": \"Ground\", \"Type 2\": \"Psychic\", \"Total\": 500, \"HP\": 60, \"Attack\": 70, \"Defense\": 105, \"SpecialA\": 70, \"SpecialD\": 120, \"Speed\": 75, \"Generation\": 3}, {\"#\": 345, \"Name\": \"Lileep\", \"Type 1\": \"Rock\", \"Type 2\": \"Grass\", \"Total\": 355, \"HP\": 66, \"Attack\": 41, \"Defense\": 77, \"SpecialA\": 61, \"SpecialD\": 87, \"Speed\": 23, \"Generation\": 3}, {\"#\": 346, \"Name\": \"Cradily\", \"Type 1\": \"Rock\", \"Type 2\": \"Grass\", \"Total\": 495, \"HP\": 86, \"Attack\": 81, \"Defense\": 97, \"SpecialA\": 81, \"SpecialD\": 107, \"Speed\": 43, \"Generation\": 3}, {\"#\": 347, \"Name\": \"Anorith\", \"Type 1\": \"Rock\", \"Type 2\": \"Bug\", \"Total\": 355, \"HP\": 45, \"Attack\": 95, \"Defense\": 50, \"SpecialA\": 40, \"SpecialD\": 50, \"Speed\": 75, \"Generation\": 3}, {\"#\": 348, \"Name\": \"Armaldo\", \"Type 1\": \"Rock\", \"Type 2\": \"Bug\", \"Total\": 495, \"HP\": 75, \"Attack\": 125, \"Defense\": 100, \"SpecialA\": 70, \"SpecialD\": 80, \"Speed\": 45, \"Generation\": 3}, {\"#\": 357, \"Name\": \"Tropius\", \"Type 1\": \"Grass\", \"Type 2\": \"Flying\", \"Total\": 460, \"HP\": 99, \"Attack\": 68, \"Defense\": 83, \"SpecialA\": 72, \"SpecialD\": 87, \"Speed\": 51, \"Generation\": 3}, {\"#\": 363, \"Name\": \"Spheal\", \"Type 1\": \"Ice\", \"Type 2\": \"Water\", \"Total\": 290, \"HP\": 70, \"Attack\": 40, \"Defense\": 50, \"SpecialA\": 55, \"SpecialD\": 50, \"Speed\": 25, \"Generation\": 3}, {\"#\": 364, \"Name\": \"Sealeo\", \"Type 1\": \"Ice\", \"Type 2\": \"Water\", \"Total\": 410, \"HP\": 90, \"Attack\": 60, \"Defense\": 70, \"SpecialA\": 75, \"SpecialD\": 70, \"Speed\": 45, \"Generation\": 3}, {\"#\": 365, \"Name\": \"Walrein\", \"Type 1\": \"Ice\", \"Type 2\": \"Water\", \"Total\": 530, \"HP\": 110, \"Attack\": 80, \"Defense\": 90, \"SpecialA\": 95, \"SpecialD\": 90, \"Speed\": 65, \"Generation\": 3}, {\"#\": 369, \"Name\": \"Relicanth\", \"Type 1\": \"Water\", \"Type 2\": \"Rock\", \"Total\": 485, \"HP\": 100, \"Attack\": 90, \"Defense\": 130, \"SpecialA\": 45, \"SpecialD\": 65, \"Speed\": 55, \"Generation\": 3}, {\"#\": 373, \"Name\": \"Salamence\", \"Type 1\": \"Dragon\", \"Type 2\": \"Flying\", \"Total\": 600, \"HP\": 95, \"Attack\": 135, \"Defense\": 80, \"SpecialA\": 110, \"SpecialD\": 80, \"Speed\": 100, \"Generation\": 3}, {\"#\": 373, \"Name\": \"SalamenceMega Salamence\", \"Type 1\": \"Dragon\", \"Type 2\": \"Flying\", \"Total\": 700, \"HP\": 95, \"Attack\": 145, \"Defense\": 130, \"SpecialA\": 120, \"SpecialD\": 90, \"Speed\": 120, \"Generation\": 3}, {\"#\": 374, \"Name\": \"Beldum\", \"Type 1\": \"Steel\", \"Type 2\": \"Psychic\", \"Total\": 300, \"HP\": 40, \"Attack\": 55, \"Defense\": 80, \"SpecialA\": 35, \"SpecialD\": 60, \"Speed\": 30, \"Generation\": 3}, {\"#\": 375, \"Name\": \"Metang\", \"Type 1\": \"Steel\", \"Type 2\": \"Psychic\", \"Total\": 420, \"HP\": 60, \"Attack\": 75, \"Defense\": 100, \"SpecialA\": 55, \"SpecialD\": 80, \"Speed\": 50, \"Generation\": 3}, {\"#\": 376, \"Name\": \"Metagross\", \"Type 1\": \"Steel\", \"Type 2\": \"Psychic\", \"Total\": 600, \"HP\": 80, \"Attack\": 135, \"Defense\": 130, \"SpecialA\": 95, \"SpecialD\": 90, \"Speed\": 70, \"Generation\": 3}, {\"#\": 376, \"Name\": \"MetagrossMega Metagross\", \"Type 1\": \"Steel\", \"Type 2\": \"Psychic\", \"Total\": 700, \"HP\": 80, \"Attack\": 145, \"Defense\": 150, \"SpecialA\": 105, \"SpecialD\": 110, \"Speed\": 110, \"Generation\": 3}, {\"#\": 389, \"Name\": \"Torterra\", \"Type 1\": \"Grass\", \"Type 2\": \"Ground\", \"Total\": 525, \"HP\": 95, \"Attack\": 109, \"Defense\": 105, \"SpecialA\": 75, \"SpecialD\": 85, \"Speed\": 56, \"Generation\": 4}, {\"#\": 391, \"Name\": \"Monferno\", \"Type 1\": \"Fire\", \"Type 2\": \"Fighting\", \"Total\": 405, \"HP\": 64, \"Attack\": 78, \"Defense\": 52, \"SpecialA\": 78, \"SpecialD\": 52, \"Speed\": 81, \"Generation\": 4}, {\"#\": 392, \"Name\": \"Infernape\", \"Type 1\": \"Fire\", \"Type 2\": \"Fighting\", \"Total\": 534, \"HP\": 76, \"Attack\": 104, \"Defense\": 71, \"SpecialA\": 104, \"SpecialD\": 71, \"Speed\": 108, \"Generation\": 4}, {\"#\": 395, \"Name\": \"Empoleon\", \"Type 1\": \"Water\", \"Type 2\": \"Steel\", \"Total\": 530, \"HP\": 84, \"Attack\": 86, \"Defense\": 88, \"SpecialA\": 111, \"SpecialD\": 101, \"Speed\": 60, \"Generation\": 4}, {\"#\": 396, \"Name\": \"Starly\", \"Type 1\": \"Normal\", \"Type 2\": \"Flying\", \"Total\": 245, \"HP\": 40, \"Attack\": 55, \"Defense\": 30, \"SpecialA\": 30, \"SpecialD\": 30, \"Speed\": 60, \"Generation\": 4}, {\"#\": 397, \"Name\": \"Staravia\", \"Type 1\": \"Normal\", \"Type 2\": \"Flying\", \"Total\": 340, \"HP\": 55, \"Attack\": 75, \"Defense\": 50, \"SpecialA\": 40, \"SpecialD\": 40, \"Speed\": 80, \"Generation\": 4}, {\"#\": 398, \"Name\": \"Staraptor\", \"Type 1\": \"Normal\", \"Type 2\": \"Flying\", \"Total\": 485, \"HP\": 85, \"Attack\": 120, \"Defense\": 70, \"SpecialA\": 50, \"SpecialD\": 60, \"Speed\": 100, \"Generation\": 4}, {\"#\": 400, \"Name\": \"Bibarel\", \"Type 1\": \"Normal\", \"Type 2\": \"Water\", \"Total\": 410, \"HP\": 79, \"Attack\": 85, \"Defense\": 60, \"SpecialA\": 55, \"SpecialD\": 60, \"Speed\": 71, \"Generation\": 4}, {\"#\": 406, \"Name\": \"Budew\", \"Type 1\": \"Grass\", \"Type 2\": \"Poison\", \"Total\": 280, \"HP\": 40, \"Attack\": 30, \"Defense\": 35, \"SpecialA\": 50, \"SpecialD\": 70, \"Speed\": 55, \"Generation\": 4}, {\"#\": 407, \"Name\": \"Roserade\", \"Type 1\": \"Grass\", \"Type 2\": \"Poison\", \"Total\": 515, \"HP\": 60, \"Attack\": 70, \"Defense\": 65, \"SpecialA\": 125, \"SpecialD\": 105, \"Speed\": 90, \"Generation\": 4}, {\"#\": 410, \"Name\": \"Shieldon\", \"Type 1\": \"Rock\", \"Type 2\": \"Steel\", \"Total\": 350, \"HP\": 30, \"Attack\": 42, \"Defense\": 118, \"SpecialA\": 42, \"SpecialD\": 88, \"Speed\": 30, \"Generation\": 4}, {\"#\": 411, \"Name\": \"Bastiodon\", \"Type 1\": \"Rock\", \"Type 2\": \"Steel\", \"Total\": 495, \"HP\": 60, \"Attack\": 52, \"Defense\": 168, \"SpecialA\": 47, \"SpecialD\": 138, \"Speed\": 30, \"Generation\": 4}, {\"#\": 413, \"Name\": \"WormadamPlant Cloak\", \"Type 1\": \"Bug\", \"Type 2\": \"Grass\", \"Total\": 424, \"HP\": 60, \"Attack\": 59, \"Defense\": 85, \"SpecialA\": 79, \"SpecialD\": 105, \"Speed\": 36, \"Generation\": 4}, {\"#\": 413, \"Name\": \"WormadamSandy Cloak\", \"Type 1\": \"Bug\", \"Type 2\": \"Ground\", \"Total\": 424, \"HP\": 60, \"Attack\": 79, \"Defense\": 105, \"SpecialA\": 59, \"SpecialD\": 85, \"Speed\": 36, \"Generation\": 4}, {\"#\": 413, \"Name\": \"WormadamTrash Cloak\", \"Type 1\": \"Bug\", \"Type 2\": \"Steel\", \"Total\": 424, \"HP\": 60, \"Attack\": 69, \"Defense\": 95, \"SpecialA\": 69, \"SpecialD\": 95, \"Speed\": 36, \"Generation\": 4}, {\"#\": 414, \"Name\": \"Mothim\", \"Type 1\": \"Bug\", \"Type 2\": \"Flying\", \"Total\": 424, \"HP\": 70, \"Attack\": 94, \"Defense\": 50, \"SpecialA\": 94, \"SpecialD\": 50, \"Speed\": 66, \"Generation\": 4}, {\"#\": 415, \"Name\": \"Combee\", \"Type 1\": \"Bug\", \"Type 2\": \"Flying\", \"Total\": 244, \"HP\": 30, \"Attack\": 30, \"Defense\": 42, \"SpecialA\": 30, \"SpecialD\": 42, \"Speed\": 70, \"Generation\": 4}, {\"#\": 416, \"Name\": \"Vespiquen\", \"Type 1\": \"Bug\", \"Type 2\": \"Flying\", \"Total\": 474, \"HP\": 70, \"Attack\": 80, \"Defense\": 102, \"SpecialA\": 80, \"SpecialD\": 102, \"Speed\": 40, \"Generation\": 4}, {\"#\": 423, \"Name\": \"Gastrodon\", \"Type 1\": \"Water\", \"Type 2\": \"Ground\", \"Total\": 475, \"HP\": 111, \"Attack\": 83, \"Defense\": 68, \"SpecialA\": 92, \"SpecialD\": 82, \"Speed\": 39, \"Generation\": 4}, {\"#\": 425, \"Name\": \"Drifloon\", \"Type 1\": \"Ghost\", \"Type 2\": \"Flying\", \"Total\": 348, \"HP\": 90, \"Attack\": 50, \"Defense\": 34, \"SpecialA\": 60, \"SpecialD\": 44, \"Speed\": 70, \"Generation\": 4}, {\"#\": 426, \"Name\": \"Drifblim\", \"Type 1\": \"Ghost\", \"Type 2\": \"Flying\", \"Total\": 498, \"HP\": 150, \"Attack\": 80, \"Defense\": 44, \"SpecialA\": 90, \"SpecialD\": 54, \"Speed\": 80, \"Generation\": 4}, {\"#\": 428, \"Name\": \"LopunnyMega Lopunny\", \"Type 1\": \"Normal\", \"Type 2\": \"Fighting\", \"Total\": 580, \"HP\": 65, \"Attack\": 136, \"Defense\": 94, \"SpecialA\": 54, \"SpecialD\": 96, \"Speed\": 135, \"Generation\": 4}, {\"#\": 430, \"Name\": \"Honchkrow\", \"Type 1\": \"Dark\", \"Type 2\": \"Flying\", \"Total\": 505, \"HP\": 100, \"Attack\": 125, \"Defense\": 52, \"SpecialA\": 105, \"SpecialD\": 52, \"Speed\": 71, \"Generation\": 4}, {\"#\": 434, \"Name\": \"Stunky\", \"Type 1\": \"Poison\", \"Type 2\": \"Dark\", \"Total\": 329, \"HP\": 63, \"Attack\": 63, \"Defense\": 47, \"SpecialA\": 41, \"SpecialD\": 41, \"Speed\": 74, \"Generation\": 4}, {\"#\": 435, \"Name\": \"Skuntank\", \"Type 1\": \"Poison\", \"Type 2\": \"Dark\", \"Total\": 479, \"HP\": 103, \"Attack\": 93, \"Defense\": 67, \"SpecialA\": 71, \"SpecialD\": 61, \"Speed\": 84, \"Generation\": 4}, {\"#\": 436, \"Name\": \"Bronzor\", \"Type 1\": \"Steel\", \"Type 2\": \"Psychic\", \"Total\": 300, \"HP\": 57, \"Attack\": 24, \"Defense\": 86, \"SpecialA\": 24, \"SpecialD\": 86, \"Speed\": 23, \"Generation\": 4}, {\"#\": 437, \"Name\": \"Bronzong\", \"Type 1\": \"Steel\", \"Type 2\": \"Psychic\", \"Total\": 500, \"HP\": 67, \"Attack\": 89, \"Defense\": 116, \"SpecialA\": 79, \"SpecialD\": 116, \"Speed\": 33, \"Generation\": 4}, {\"#\": 439, \"Name\": \"Mime Jr.\", \"Type 1\": \"Psychic\", \"Type 2\": \"Fairy\", \"Total\": 310, \"HP\": 20, \"Attack\": 25, \"Defense\": 45, \"SpecialA\": 70, \"SpecialD\": 90, \"Speed\": 60, \"Generation\": 4}, {\"#\": 441, \"Name\": \"Chatot\", \"Type 1\": \"Normal\", \"Type 2\": \"Flying\", \"Total\": 411, \"HP\": 76, \"Attack\": 65, \"Defense\": 45, \"SpecialA\": 92, \"SpecialD\": 42, \"Speed\": 91, \"Generation\": 4}, {\"#\": 442, \"Name\": \"Spiritomb\", \"Type 1\": \"Ghost\", \"Type 2\": \"Dark\", \"Total\": 485, \"HP\": 50, \"Attack\": 92, \"Defense\": 108, \"SpecialA\": 92, \"SpecialD\": 108, \"Speed\": 35, \"Generation\": 4}, {\"#\": 443, \"Name\": \"Gible\", \"Type 1\": \"Dragon\", \"Type 2\": \"Ground\", \"Total\": 300, \"HP\": 58, \"Attack\": 70, \"Defense\": 45, \"SpecialA\": 40, \"SpecialD\": 45, \"Speed\": 42, \"Generation\": 4}, {\"#\": 444, \"Name\": \"Gabite\", \"Type 1\": \"Dragon\", \"Type 2\": \"Ground\", \"Total\": 410, \"HP\": 68, \"Attack\": 90, \"Defense\": 65, \"SpecialA\": 50, \"SpecialD\": 55, \"Speed\": 82, \"Generation\": 4}, {\"#\": 445, \"Name\": \"Garchomp\", \"Type 1\": \"Dragon\", \"Type 2\": \"Ground\", \"Total\": 600, \"HP\": 108, \"Attack\": 130, \"Defense\": 95, \"SpecialA\": 80, \"SpecialD\": 85, \"Speed\": 102, \"Generation\": 4}, {\"#\": 445, \"Name\": \"GarchompMega Garchomp\", \"Type 1\": \"Dragon\", \"Type 2\": \"Ground\", \"Total\": 700, \"HP\": 108, \"Attack\": 170, \"Defense\": 115, \"SpecialA\": 120, \"SpecialD\": 95, \"Speed\": 92, \"Generation\": 4}, {\"#\": 448, \"Name\": \"Lucario\", \"Type 1\": \"Fighting\", \"Type 2\": \"Steel\", \"Total\": 525, \"HP\": 70, \"Attack\": 110, \"Defense\": 70, \"SpecialA\": 115, \"SpecialD\": 70, \"Speed\": 90, \"Generation\": 4}, {\"#\": 448, \"Name\": \"LucarioMega Lucario\", \"Type 1\": \"Fighting\", \"Type 2\": \"Steel\", \"Total\": 625, \"HP\": 70, \"Attack\": 145, \"Defense\": 88, \"SpecialA\": 140, \"SpecialD\": 70, \"Speed\": 112, \"Generation\": 4}, {\"#\": 451, \"Name\": \"Skorupi\", \"Type 1\": \"Poison\", \"Type 2\": \"Bug\", \"Total\": 330, \"HP\": 40, \"Attack\": 50, \"Defense\": 90, \"SpecialA\": 30, \"SpecialD\": 55, \"Speed\": 65, \"Generation\": 4}, {\"#\": 452, \"Name\": \"Drapion\", \"Type 1\": \"Poison\", \"Type 2\": \"Dark\", \"Total\": 500, \"HP\": 70, \"Attack\": 90, \"Defense\": 110, \"SpecialA\": 60, \"SpecialD\": 75, \"Speed\": 95, \"Generation\": 4}, {\"#\": 453, \"Name\": \"Croagunk\", \"Type 1\": \"Poison\", \"Type 2\": \"Fighting\", \"Total\": 300, \"HP\": 48, \"Attack\": 61, \"Defense\": 40, \"SpecialA\": 61, \"SpecialD\": 40, \"Speed\": 50, \"Generation\": 4}, {\"#\": 454, \"Name\": \"Toxicroak\", \"Type 1\": \"Poison\", \"Type 2\": \"Fighting\", \"Total\": 490, \"HP\": 83, \"Attack\": 106, \"Defense\": 65, \"SpecialA\": 86, \"SpecialD\": 65, \"Speed\": 85, \"Generation\": 4}, {\"#\": 458, \"Name\": \"Mantyke\", \"Type 1\": \"Water\", \"Type 2\": \"Flying\", \"Total\": 345, \"HP\": 45, \"Attack\": 20, \"Defense\": 50, \"SpecialA\": 60, \"SpecialD\": 120, \"Speed\": 50, \"Generation\": 4}, {\"#\": 459, \"Name\": \"Snover\", \"Type 1\": \"Grass\", \"Type 2\": \"Ice\", \"Total\": 334, \"HP\": 60, \"Attack\": 62, \"Defense\": 50, \"SpecialA\": 62, \"SpecialD\": 60, \"Speed\": 40, \"Generation\": 4}, {\"#\": 460, \"Name\": \"Abomasnow\", \"Type 1\": \"Grass\", \"Type 2\": \"Ice\", \"Total\": 494, \"HP\": 90, \"Attack\": 92, \"Defense\": 75, \"SpecialA\": 92, \"SpecialD\": 85, \"Speed\": 60, \"Generation\": 4}, {\"#\": 460, \"Name\": \"AbomasnowMega Abomasnow\", \"Type 1\": \"Grass\", \"Type 2\": \"Ice\", \"Total\": 594, \"HP\": 90, \"Attack\": 132, \"Defense\": 105, \"SpecialA\": 132, \"SpecialD\": 105, \"Speed\": 30, \"Generation\": 4}, {\"#\": 461, \"Name\": \"Weavile\", \"Type 1\": \"Dark\", \"Type 2\": \"Ice\", \"Total\": 510, \"HP\": 70, \"Attack\": 120, \"Defense\": 65, \"SpecialA\": 45, \"SpecialD\": 85, \"Speed\": 125, \"Generation\": 4}, {\"#\": 462, \"Name\": \"Magnezone\", \"Type 1\": \"Electric\", \"Type 2\": \"Steel\", \"Total\": 535, \"HP\": 70, \"Attack\": 70, \"Defense\": 115, \"SpecialA\": 130, \"SpecialD\": 90, \"Speed\": 60, \"Generation\": 4}, {\"#\": 464, \"Name\": \"Rhyperior\", \"Type 1\": \"Ground\", \"Type 2\": \"Rock\", \"Total\": 535, \"HP\": 115, \"Attack\": 140, \"Defense\": 130, \"SpecialA\": 55, \"SpecialD\": 55, \"Speed\": 40, \"Generation\": 4}, {\"#\": 468, \"Name\": \"Togekiss\", \"Type 1\": \"Fairy\", \"Type 2\": \"Flying\", \"Total\": 545, \"HP\": 85, \"Attack\": 50, \"Defense\": 95, \"SpecialA\": 120, \"SpecialD\": 115, \"Speed\": 80, \"Generation\": 4}, {\"#\": 469, \"Name\": \"Yanmega\", \"Type 1\": \"Bug\", \"Type 2\": \"Flying\", \"Total\": 515, \"HP\": 86, \"Attack\": 76, \"Defense\": 86, \"SpecialA\": 116, \"SpecialD\": 56, \"Speed\": 95, \"Generation\": 4}, {\"#\": 472, \"Name\": \"Gliscor\", \"Type 1\": \"Ground\", \"Type 2\": \"Flying\", \"Total\": 510, \"HP\": 75, \"Attack\": 95, \"Defense\": 125, \"SpecialA\": 45, \"SpecialD\": 75, \"Speed\": 95, \"Generation\": 4}, {\"#\": 473, \"Name\": \"Mamoswine\", \"Type 1\": \"Ice\", \"Type 2\": \"Ground\", \"Total\": 530, \"HP\": 110, \"Attack\": 130, \"Defense\": 80, \"SpecialA\": 70, \"SpecialD\": 60, \"Speed\": 80, \"Generation\": 4}, {\"#\": 475, \"Name\": \"Gallade\", \"Type 1\": \"Psychic\", \"Type 2\": \"Fighting\", \"Total\": 518, \"HP\": 68, \"Attack\": 125, \"Defense\": 65, \"SpecialA\": 65, \"SpecialD\": 115, \"Speed\": 80, \"Generation\": 4}, {\"#\": 475, \"Name\": \"GalladeMega Gallade\", \"Type 1\": \"Psychic\", \"Type 2\": \"Fighting\", \"Total\": 618, \"HP\": 68, \"Attack\": 165, \"Defense\": 95, \"SpecialA\": 65, \"SpecialD\": 115, \"Speed\": 110, \"Generation\": 4}, {\"#\": 476, \"Name\": \"Probopass\", \"Type 1\": \"Rock\", \"Type 2\": \"Steel\", \"Total\": 525, \"HP\": 60, \"Attack\": 55, \"Defense\": 145, \"SpecialA\": 75, \"SpecialD\": 150, \"Speed\": 40, \"Generation\": 4}, {\"#\": 478, \"Name\": \"Froslass\", \"Type 1\": \"Ice\", \"Type 2\": \"Ghost\", \"Total\": 480, \"HP\": 70, \"Attack\": 80, \"Defense\": 70, \"SpecialA\": 80, \"SpecialD\": 70, \"Speed\": 110, \"Generation\": 4}, {\"#\": 479, \"Name\": \"Rotom\", \"Type 1\": \"Electric\", \"Type 2\": \"Ghost\", \"Total\": 440, \"HP\": 50, \"Attack\": 50, \"Defense\": 77, \"SpecialA\": 95, \"SpecialD\": 77, \"Speed\": 91, \"Generation\": 4}, {\"#\": 479, \"Name\": \"RotomHeat Rotom\", \"Type 1\": \"Electric\", \"Type 2\": \"Fire\", \"Total\": 520, \"HP\": 50, \"Attack\": 65, \"Defense\": 107, \"SpecialA\": 105, \"SpecialD\": 107, \"Speed\": 86, \"Generation\": 4}, {\"#\": 479, \"Name\": \"RotomWash Rotom\", \"Type 1\": \"Electric\", \"Type 2\": \"Water\", \"Total\": 520, \"HP\": 50, \"Attack\": 65, \"Defense\": 107, \"SpecialA\": 105, \"SpecialD\": 107, \"Speed\": 86, \"Generation\": 4}, {\"#\": 479, \"Name\": \"RotomFrost Rotom\", \"Type 1\": \"Electric\", \"Type 2\": \"Ice\", \"Total\": 520, \"HP\": 50, \"Attack\": 65, \"Defense\": 107, \"SpecialA\": 105, \"SpecialD\": 107, \"Speed\": 86, \"Generation\": 4}, {\"#\": 479, \"Name\": \"RotomFan Rotom\", \"Type 1\": \"Electric\", \"Type 2\": \"Flying\", \"Total\": 520, \"HP\": 50, \"Attack\": 65, \"Defense\": 107, \"SpecialA\": 105, \"SpecialD\": 107, \"Speed\": 86, \"Generation\": 4}, {\"#\": 479, \"Name\": \"RotomMow Rotom\", \"Type 1\": \"Electric\", \"Type 2\": \"Grass\", \"Total\": 520, \"HP\": 50, \"Attack\": 65, \"Defense\": 107, \"SpecialA\": 105, \"SpecialD\": 107, \"Speed\": 86, \"Generation\": 4}, {\"#\": 499, \"Name\": \"Pignite\", \"Type 1\": \"Fire\", \"Type 2\": \"Fighting\", \"Total\": 418, \"HP\": 90, \"Attack\": 93, \"Defense\": 55, \"SpecialA\": 70, \"SpecialD\": 55, \"Speed\": 55, \"Generation\": 5}, {\"#\": 500, \"Name\": \"Emboar\", \"Type 1\": \"Fire\", \"Type 2\": \"Fighting\", \"Total\": 528, \"HP\": 110, \"Attack\": 123, \"Defense\": 65, \"SpecialA\": 100, \"SpecialD\": 65, \"Speed\": 65, \"Generation\": 5}, {\"#\": 519, \"Name\": \"Pidove\", \"Type 1\": \"Normal\", \"Type 2\": \"Flying\", \"Total\": 264, \"HP\": 50, \"Attack\": 55, \"Defense\": 50, \"SpecialA\": 36, \"SpecialD\": 30, \"Speed\": 43, \"Generation\": 5}, {\"#\": 520, \"Name\": \"Tranquill\", \"Type 1\": \"Normal\", \"Type 2\": \"Flying\", \"Total\": 358, \"HP\": 62, \"Attack\": 77, \"Defense\": 62, \"SpecialA\": 50, \"SpecialD\": 42, \"Speed\": 65, \"Generation\": 5}, {\"#\": 521, \"Name\": \"Unfezant\", \"Type 1\": \"Normal\", \"Type 2\": \"Flying\", \"Total\": 488, \"HP\": 80, \"Attack\": 115, \"Defense\": 80, \"SpecialA\": 65, \"SpecialD\": 55, \"Speed\": 93, \"Generation\": 5}, {\"#\": 527, \"Name\": \"Woobat\", \"Type 1\": \"Psychic\", \"Type 2\": \"Flying\", \"Total\": 313, \"HP\": 55, \"Attack\": 45, \"Defense\": 43, \"SpecialA\": 55, \"SpecialD\": 43, \"Speed\": 72, \"Generation\": 5}, {\"#\": 528, \"Name\": \"Swoobat\", \"Type 1\": \"Psychic\", \"Type 2\": \"Flying\", \"Total\": 425, \"HP\": 67, \"Attack\": 57, \"Defense\": 55, \"SpecialA\": 77, \"SpecialD\": 55, \"Speed\": 114, \"Generation\": 5}, {\"#\": 530, \"Name\": \"Excadrill\", \"Type 1\": \"Ground\", \"Type 2\": \"Steel\", \"Total\": 508, \"HP\": 110, \"Attack\": 135, \"Defense\": 60, \"SpecialA\": 50, \"SpecialD\": 65, \"Speed\": 88, \"Generation\": 5}, {\"#\": 531, \"Name\": \"AudinoMega Audino\", \"Type 1\": \"Normal\", \"Type 2\": \"Fairy\", \"Total\": 545, \"HP\": 103, \"Attack\": 60, \"Defense\": 126, \"SpecialA\": 80, \"SpecialD\": 126, \"Speed\": 50, \"Generation\": 5}, {\"#\": 536, \"Name\": \"Palpitoad\", \"Type 1\": \"Water\", \"Type 2\": \"Ground\", \"Total\": 384, \"HP\": 75, \"Attack\": 65, \"Defense\": 55, \"SpecialA\": 65, \"SpecialD\": 55, \"Speed\": 69, \"Generation\": 5}, {\"#\": 537, \"Name\": \"Seismitoad\", \"Type 1\": \"Water\", \"Type 2\": \"Ground\", \"Total\": 509, \"HP\": 105, \"Attack\": 95, \"Defense\": 75, \"SpecialA\": 85, \"SpecialD\": 75, \"Speed\": 74, \"Generation\": 5}, {\"#\": 540, \"Name\": \"Sewaddle\", \"Type 1\": \"Bug\", \"Type 2\": \"Grass\", \"Total\": 310, \"HP\": 45, \"Attack\": 53, \"Defense\": 70, \"SpecialA\": 40, \"SpecialD\": 60, \"Speed\": 42, \"Generation\": 5}, {\"#\": 541, \"Name\": \"Swadloon\", \"Type 1\": \"Bug\", \"Type 2\": \"Grass\", \"Total\": 380, \"HP\": 55, \"Attack\": 63, \"Defense\": 90, \"SpecialA\": 50, \"SpecialD\": 80, \"Speed\": 42, \"Generation\": 5}, {\"#\": 542, \"Name\": \"Leavanny\", \"Type 1\": \"Bug\", \"Type 2\": \"Grass\", \"Total\": 500, \"HP\": 75, \"Attack\": 103, \"Defense\": 80, \"SpecialA\": 70, \"SpecialD\": 80, \"Speed\": 92, \"Generation\": 5}, {\"#\": 543, \"Name\": \"Venipede\", \"Type 1\": \"Bug\", \"Type 2\": \"Poison\", \"Total\": 260, \"HP\": 30, \"Attack\": 45, \"Defense\": 59, \"SpecialA\": 30, \"SpecialD\": 39, \"Speed\": 57, \"Generation\": 5}, {\"#\": 544, \"Name\": \"Whirlipede\", \"Type 1\": \"Bug\", \"Type 2\": \"Poison\", \"Total\": 360, \"HP\": 40, \"Attack\": 55, \"Defense\": 99, \"SpecialA\": 40, \"SpecialD\": 79, \"Speed\": 47, \"Generation\": 5}, {\"#\": 545, \"Name\": \"Scolipede\", \"Type 1\": \"Bug\", \"Type 2\": \"Poison\", \"Total\": 485, \"HP\": 60, \"Attack\": 100, \"Defense\": 89, \"SpecialA\": 55, \"SpecialD\": 69, \"Speed\": 112, \"Generation\": 5}, {\"#\": 546, \"Name\": \"Cottonee\", \"Type 1\": \"Grass\", \"Type 2\": \"Fairy\", \"Total\": 280, \"HP\": 40, \"Attack\": 27, \"Defense\": 60, \"SpecialA\": 37, \"SpecialD\": 50, \"Speed\": 66, \"Generation\": 5}, {\"#\": 547, \"Name\": \"Whimsicott\", \"Type 1\": \"Grass\", \"Type 2\": \"Fairy\", \"Total\": 480, \"HP\": 60, \"Attack\": 67, \"Defense\": 85, \"SpecialA\": 77, \"SpecialD\": 75, \"Speed\": 116, \"Generation\": 5}, {\"#\": 551, \"Name\": \"Sandile\", \"Type 1\": \"Ground\", \"Type 2\": \"Dark\", \"Total\": 292, \"HP\": 50, \"Attack\": 72, \"Defense\": 35, \"SpecialA\": 35, \"SpecialD\": 35, \"Speed\": 65, \"Generation\": 5}, {\"#\": 552, \"Name\": \"Krokorok\", \"Type 1\": \"Ground\", \"Type 2\": \"Dark\", \"Total\": 351, \"HP\": 60, \"Attack\": 82, \"Defense\": 45, \"SpecialA\": 45, \"SpecialD\": 45, \"Speed\": 74, \"Generation\": 5}, {\"#\": 553, \"Name\": \"Krookodile\", \"Type 1\": \"Ground\", \"Type 2\": \"Dark\", \"Total\": 519, \"HP\": 95, \"Attack\": 117, \"Defense\": 80, \"SpecialA\": 65, \"SpecialD\": 70, \"Speed\": 92, \"Generation\": 5}, {\"#\": 555, \"Name\": \"DarmanitanZen Mode\", \"Type 1\": \"Fire\", \"Type 2\": \"Psychic\", \"Total\": 540, \"HP\": 105, \"Attack\": 30, \"Defense\": 105, \"SpecialA\": 140, \"SpecialD\": 105, \"Speed\": 55, \"Generation\": 5}, {\"#\": 557, \"Name\": \"Dwebble\", \"Type 1\": \"Bug\", \"Type 2\": \"Rock\", \"Total\": 325, \"HP\": 50, \"Attack\": 65, \"Defense\": 85, \"SpecialA\": 35, \"SpecialD\": 35, \"Speed\": 55, \"Generation\": 5}, {\"#\": 558, \"Name\": \"Crustle\", \"Type 1\": \"Bug\", \"Type 2\": \"Rock\", \"Total\": 475, \"HP\": 70, \"Attack\": 95, \"Defense\": 125, \"SpecialA\": 65, \"SpecialD\": 75, \"Speed\": 45, \"Generation\": 5}, {\"#\": 559, \"Name\": \"Scraggy\", \"Type 1\": \"Dark\", \"Type 2\": \"Fighting\", \"Total\": 348, \"HP\": 50, \"Attack\": 75, \"Defense\": 70, \"SpecialA\": 35, \"SpecialD\": 70, \"Speed\": 48, \"Generation\": 5}, {\"#\": 560, \"Name\": \"Scrafty\", \"Type 1\": \"Dark\", \"Type 2\": \"Fighting\", \"Total\": 488, \"HP\": 65, \"Attack\": 90, \"Defense\": 115, \"SpecialA\": 45, \"SpecialD\": 115, \"Speed\": 58, \"Generation\": 5}, {\"#\": 561, \"Name\": \"Sigilyph\", \"Type 1\": \"Psychic\", \"Type 2\": \"Flying\", \"Total\": 490, \"HP\": 72, \"Attack\": 58, \"Defense\": 80, \"SpecialA\": 103, \"SpecialD\": 80, \"Speed\": 97, \"Generation\": 5}, {\"#\": 564, \"Name\": \"Tirtouga\", \"Type 1\": \"Water\", \"Type 2\": \"Rock\", \"Total\": 355, \"HP\": 54, \"Attack\": 78, \"Defense\": 103, \"SpecialA\": 53, \"SpecialD\": 45, \"Speed\": 22, \"Generation\": 5}, {\"#\": 565, \"Name\": \"Carracosta\", \"Type 1\": \"Water\", \"Type 2\": \"Rock\", \"Total\": 495, \"HP\": 74, \"Attack\": 108, \"Defense\": 133, \"SpecialA\": 83, \"SpecialD\": 65, \"Speed\": 32, \"Generation\": 5}, {\"#\": 566, \"Name\": \"Archen\", \"Type 1\": \"Rock\", \"Type 2\": \"Flying\", \"Total\": 401, \"HP\": 55, \"Attack\": 112, \"Defense\": 45, \"SpecialA\": 74, \"SpecialD\": 45, \"Speed\": 70, \"Generation\": 5}, {\"#\": 567, \"Name\": \"Archeops\", \"Type 1\": \"Rock\", \"Type 2\": \"Flying\", \"Total\": 567, \"HP\": 75, \"Attack\": 140, \"Defense\": 65, \"SpecialA\": 112, \"SpecialD\": 65, \"Speed\": 110, \"Generation\": 5}, {\"#\": 580, \"Name\": \"Ducklett\", \"Type 1\": \"Water\", \"Type 2\": \"Flying\", \"Total\": 305, \"HP\": 62, \"Attack\": 44, \"Defense\": 50, \"SpecialA\": 44, \"SpecialD\": 50, \"Speed\": 55, \"Generation\": 5}, {\"#\": 581, \"Name\": \"Swanna\", \"Type 1\": \"Water\", \"Type 2\": \"Flying\", \"Total\": 473, \"HP\": 75, \"Attack\": 87, \"Defense\": 63, \"SpecialA\": 87, \"SpecialD\": 63, \"Speed\": 98, \"Generation\": 5}, {\"#\": 585, \"Name\": \"Deerling\", \"Type 1\": \"Normal\", \"Type 2\": \"Grass\", \"Total\": 335, \"HP\": 60, \"Attack\": 60, \"Defense\": 50, \"SpecialA\": 40, \"SpecialD\": 50, \"Speed\": 75, \"Generation\": 5}, {\"#\": 586, \"Name\": \"Sawsbuck\", \"Type 1\": \"Normal\", \"Type 2\": \"Grass\", \"Total\": 475, \"HP\": 80, \"Attack\": 100, \"Defense\": 70, \"SpecialA\": 60, \"SpecialD\": 70, \"Speed\": 95, \"Generation\": 5}, {\"#\": 587, \"Name\": \"Emolga\", \"Type 1\": \"Electric\", \"Type 2\": \"Flying\", \"Total\": 428, \"HP\": 55, \"Attack\": 75, \"Defense\": 60, \"SpecialA\": 75, \"SpecialD\": 60, \"Speed\": 103, \"Generation\": 5}, {\"#\": 589, \"Name\": \"Escavalier\", \"Type 1\": \"Bug\", \"Type 2\": \"Steel\", \"Total\": 495, \"HP\": 70, \"Attack\": 135, \"Defense\": 105, \"SpecialA\": 60, \"SpecialD\": 105, \"Speed\": 20, \"Generation\": 5}, {\"#\": 590, \"Name\": \"Foongus\", \"Type 1\": \"Grass\", \"Type 2\": \"Poison\", \"Total\": 294, \"HP\": 69, \"Attack\": 55, \"Defense\": 45, \"SpecialA\": 55, \"SpecialD\": 55, \"Speed\": 15, \"Generation\": 5}, {\"#\": 591, \"Name\": \"Amoonguss\", \"Type 1\": \"Grass\", \"Type 2\": \"Poison\", \"Total\": 464, \"HP\": 114, \"Attack\": 85, \"Defense\": 70, \"SpecialA\": 85, \"SpecialD\": 80, \"Speed\": 30, \"Generation\": 5}, {\"#\": 592, \"Name\": \"Frillish\", \"Type 1\": \"Water\", \"Type 2\": \"Ghost\", \"Total\": 335, \"HP\": 55, \"Attack\": 40, \"Defense\": 50, \"SpecialA\": 65, \"SpecialD\": 85, \"Speed\": 40, \"Generation\": 5}, {\"#\": 593, \"Name\": \"Jellicent\", \"Type 1\": \"Water\", \"Type 2\": \"Ghost\", \"Total\": 480, \"HP\": 100, \"Attack\": 60, \"Defense\": 70, \"SpecialA\": 85, \"SpecialD\": 105, \"Speed\": 60, \"Generation\": 5}, {\"#\": 595, \"Name\": \"Joltik\", \"Type 1\": \"Bug\", \"Type 2\": \"Electric\", \"Total\": 319, \"HP\": 50, \"Attack\": 47, \"Defense\": 50, \"SpecialA\": 57, \"SpecialD\": 50, \"Speed\": 65, \"Generation\": 5}, {\"#\": 596, \"Name\": \"Galvantula\", \"Type 1\": \"Bug\", \"Type 2\": \"Electric\", \"Total\": 472, \"HP\": 70, \"Attack\": 77, \"Defense\": 60, \"SpecialA\": 97, \"SpecialD\": 60, \"Speed\": 108, \"Generation\": 5}, {\"#\": 597, \"Name\": \"Ferroseed\", \"Type 1\": \"Grass\", \"Type 2\": \"Steel\", \"Total\": 305, \"HP\": 44, \"Attack\": 50, \"Defense\": 91, \"SpecialA\": 24, \"SpecialD\": 86, \"Speed\": 10, \"Generation\": 5}, {\"#\": 598, \"Name\": \"Ferrothorn\", \"Type 1\": \"Grass\", \"Type 2\": \"Steel\", \"Total\": 489, \"HP\": 74, \"Attack\": 94, \"Defense\": 131, \"SpecialA\": 54, \"SpecialD\": 116, \"Speed\": 20, \"Generation\": 5}, {\"#\": 607, \"Name\": \"Litwick\", \"Type 1\": \"Ghost\", \"Type 2\": \"Fire\", \"Total\": 275, \"HP\": 50, \"Attack\": 30, \"Defense\": 55, \"SpecialA\": 65, \"SpecialD\": 55, \"Speed\": 20, \"Generation\": 5}, {\"#\": 608, \"Name\": \"Lampent\", \"Type 1\": \"Ghost\", \"Type 2\": \"Fire\", \"Total\": 370, \"HP\": 60, \"Attack\": 40, \"Defense\": 60, \"SpecialA\": 95, \"SpecialD\": 60, \"Speed\": 55, \"Generation\": 5}, {\"#\": 609, \"Name\": \"Chandelure\", \"Type 1\": \"Ghost\", \"Type 2\": \"Fire\", \"Total\": 520, \"HP\": 60, \"Attack\": 55, \"Defense\": 90, \"SpecialA\": 145, \"SpecialD\": 90, \"Speed\": 80, \"Generation\": 5}, {\"#\": 618, \"Name\": \"Stunfisk\", \"Type 1\": \"Ground\", \"Type 2\": \"Electric\", \"Total\": 471, \"HP\": 109, \"Attack\": 66, \"Defense\": 84, \"SpecialA\": 81, \"SpecialD\": 99, \"Speed\": 32, \"Generation\": 5}, {\"#\": 622, \"Name\": \"Golett\", \"Type 1\": \"Ground\", \"Type 2\": \"Ghost\", \"Total\": 303, \"HP\": 59, \"Attack\": 74, \"Defense\": 50, \"SpecialA\": 35, \"SpecialD\": 50, \"Speed\": 35, \"Generation\": 5}, {\"#\": 623, \"Name\": \"Golurk\", \"Type 1\": \"Ground\", \"Type 2\": \"Ghost\", \"Total\": 483, \"HP\": 89, \"Attack\": 124, \"Defense\": 80, \"SpecialA\": 55, \"SpecialD\": 80, \"Speed\": 55, \"Generation\": 5}, {\"#\": 624, \"Name\": \"Pawniard\", \"Type 1\": \"Dark\", \"Type 2\": \"Steel\", \"Total\": 340, \"HP\": 45, \"Attack\": 85, \"Defense\": 70, \"SpecialA\": 40, \"SpecialD\": 40, \"Speed\": 60, \"Generation\": 5}, {\"#\": 625, \"Name\": \"Bisharp\", \"Type 1\": \"Dark\", \"Type 2\": \"Steel\", \"Total\": 490, \"HP\": 65, \"Attack\": 125, \"Defense\": 100, \"SpecialA\": 60, \"SpecialD\": 70, \"Speed\": 70, \"Generation\": 5}, {\"#\": 627, \"Name\": \"Rufflet\", \"Type 1\": \"Normal\", \"Type 2\": \"Flying\", \"Total\": 350, \"HP\": 70, \"Attack\": 83, \"Defense\": 50, \"SpecialA\": 37, \"SpecialD\": 50, \"Speed\": 60, \"Generation\": 5}, {\"#\": 628, \"Name\": \"Braviary\", \"Type 1\": \"Normal\", \"Type 2\": \"Flying\", \"Total\": 510, \"HP\": 100, \"Attack\": 123, \"Defense\": 75, \"SpecialA\": 57, \"SpecialD\": 75, \"Speed\": 80, \"Generation\": 5}, {\"#\": 629, \"Name\": \"Vullaby\", \"Type 1\": \"Dark\", \"Type 2\": \"Flying\", \"Total\": 370, \"HP\": 70, \"Attack\": 55, \"Defense\": 75, \"SpecialA\": 45, \"SpecialD\": 65, \"Speed\": 60, \"Generation\": 5}, {\"#\": 630, \"Name\": \"Mandibuzz\", \"Type 1\": \"Dark\", \"Type 2\": \"Flying\", \"Total\": 510, \"HP\": 110, \"Attack\": 65, \"Defense\": 105, \"SpecialA\": 55, \"SpecialD\": 95, \"Speed\": 80, \"Generation\": 5}, {\"#\": 632, \"Name\": \"Durant\", \"Type 1\": \"Bug\", \"Type 2\": \"Steel\", \"Total\": 484, \"HP\": 58, \"Attack\": 109, \"Defense\": 112, \"SpecialA\": 48, \"SpecialD\": 48, \"Speed\": 109, \"Generation\": 5}, {\"#\": 633, \"Name\": \"Deino\", \"Type 1\": \"Dark\", \"Type 2\": \"Dragon\", \"Total\": 300, \"HP\": 52, \"Attack\": 65, \"Defense\": 50, \"SpecialA\": 45, \"SpecialD\": 50, \"Speed\": 38, \"Generation\": 5}, {\"#\": 634, \"Name\": \"Zweilous\", \"Type 1\": \"Dark\", \"Type 2\": \"Dragon\", \"Total\": 420, \"HP\": 72, \"Attack\": 85, \"Defense\": 70, \"SpecialA\": 65, \"SpecialD\": 70, \"Speed\": 58, \"Generation\": 5}, {\"#\": 635, \"Name\": \"Hydreigon\", \"Type 1\": \"Dark\", \"Type 2\": \"Dragon\", \"Total\": 600, \"HP\": 92, \"Attack\": 105, \"Defense\": 90, \"SpecialA\": 125, \"SpecialD\": 90, \"Speed\": 98, \"Generation\": 5}, {\"#\": 636, \"Name\": \"Larvesta\", \"Type 1\": \"Bug\", \"Type 2\": \"Fire\", \"Total\": 360, \"HP\": 55, \"Attack\": 85, \"Defense\": 55, \"SpecialA\": 50, \"SpecialD\": 55, \"Speed\": 60, \"Generation\": 5}, {\"#\": 637, \"Name\": \"Volcarona\", \"Type 1\": \"Bug\", \"Type 2\": \"Fire\", \"Total\": 550, \"HP\": 85, \"Attack\": 60, \"Defense\": 65, \"SpecialA\": 135, \"SpecialD\": 105, \"Speed\": 100, \"Generation\": 5}, {\"#\": 647, \"Name\": \"KeldeoOrdinary Forme\", \"Type 1\": \"Water\", \"Type 2\": \"Fighting\", \"Total\": 580, \"HP\": 91, \"Attack\": 72, \"Defense\": 90, \"SpecialA\": 129, \"SpecialD\": 90, \"Speed\": 108, \"Generation\": 5}, {\"#\": 647, \"Name\": \"KeldeoResolute Forme\", \"Type 1\": \"Water\", \"Type 2\": \"Fighting\", \"Total\": 580, \"HP\": 91, \"Attack\": 72, \"Defense\": 90, \"SpecialA\": 129, \"SpecialD\": 90, \"Speed\": 108, \"Generation\": 5}, {\"#\": 648, \"Name\": \"MeloettaAria Forme\", \"Type 1\": \"Normal\", \"Type 2\": \"Psychic\", \"Total\": 600, \"HP\": 100, \"Attack\": 77, \"Defense\": 77, \"SpecialA\": 128, \"SpecialD\": 128, \"Speed\": 90, \"Generation\": 5}, {\"#\": 648, \"Name\": \"MeloettaPirouette Forme\", \"Type 1\": \"Normal\", \"Type 2\": \"Fighting\", \"Total\": 600, \"HP\": 100, \"Attack\": 128, \"Defense\": 90, \"SpecialA\": 77, \"SpecialD\": 77, \"Speed\": 128, \"Generation\": 5}, {\"#\": 649, \"Name\": \"Genesect\", \"Type 1\": \"Bug\", \"Type 2\": \"Steel\", \"Total\": 600, \"HP\": 71, \"Attack\": 120, \"Defense\": 95, \"SpecialA\": 120, \"SpecialD\": 95, \"Speed\": 99, \"Generation\": 5}, {\"#\": 652, \"Name\": \"Chesnaught\", \"Type 1\": \"Grass\", \"Type 2\": \"Fighting\", \"Total\": 530, \"HP\": 88, \"Attack\": 107, \"Defense\": 122, \"SpecialA\": 74, \"SpecialD\": 75, \"Speed\": 64, \"Generation\": 6}, {\"#\": 655, \"Name\": \"Delphox\", \"Type 1\": \"Fire\", \"Type 2\": \"Psychic\", \"Total\": 534, \"HP\": 75, \"Attack\": 69, \"Defense\": 72, \"SpecialA\": 114, \"SpecialD\": 100, \"Speed\": 104, \"Generation\": 6}, {\"#\": 658, \"Name\": \"Greninja\", \"Type 1\": \"Water\", \"Type 2\": \"Dark\", \"Total\": 530, \"HP\": 72, \"Attack\": 95, \"Defense\": 67, \"SpecialA\": 103, \"SpecialD\": 71, \"Speed\": 122, \"Generation\": 6}, {\"#\": 660, \"Name\": \"Diggersby\", \"Type 1\": \"Normal\", \"Type 2\": \"Ground\", \"Total\": 423, \"HP\": 85, \"Attack\": 56, \"Defense\": 77, \"SpecialA\": 50, \"SpecialD\": 77, \"Speed\": 78, \"Generation\": 6}, {\"#\": 661, \"Name\": \"Fletchling\", \"Type 1\": \"Normal\", \"Type 2\": \"Flying\", \"Total\": 278, \"HP\": 45, \"Attack\": 50, \"Defense\": 43, \"SpecialA\": 40, \"SpecialD\": 38, \"Speed\": 62, \"Generation\": 6}, {\"#\": 662, \"Name\": \"Fletchinder\", \"Type 1\": \"Fire\", \"Type 2\": \"Flying\", \"Total\": 382, \"HP\": 62, \"Attack\": 73, \"Defense\": 55, \"SpecialA\": 56, \"SpecialD\": 52, \"Speed\": 84, \"Generation\": 6}, {\"#\": 663, \"Name\": \"Talonflame\", \"Type 1\": \"Fire\", \"Type 2\": \"Flying\", \"Total\": 499, \"HP\": 78, \"Attack\": 81, \"Defense\": 71, \"SpecialA\": 74, \"SpecialD\": 69, \"Speed\": 126, \"Generation\": 6}, {\"#\": 666, \"Name\": \"Vivillon\", \"Type 1\": \"Bug\", \"Type 2\": \"Flying\", \"Total\": 411, \"HP\": 80, \"Attack\": 52, \"Defense\": 50, \"SpecialA\": 90, \"SpecialD\": 50, \"Speed\": 89, \"Generation\": 6}, {\"#\": 667, \"Name\": \"Litleo\", \"Type 1\": \"Fire\", \"Type 2\": \"Normal\", \"Total\": 369, \"HP\": 62, \"Attack\": 50, \"Defense\": 58, \"SpecialA\": 73, \"SpecialD\": 54, \"Speed\": 72, \"Generation\": 6}, {\"#\": 668, \"Name\": \"Pyroar\", \"Type 1\": \"Fire\", \"Type 2\": \"Normal\", \"Total\": 507, \"HP\": 86, \"Attack\": 68, \"Defense\": 72, \"SpecialA\": 109, \"SpecialD\": 66, \"Speed\": 106, \"Generation\": 6}, {\"#\": 675, \"Name\": \"Pangoro\", \"Type 1\": \"Fighting\", \"Type 2\": \"Dark\", \"Total\": 495, \"HP\": 95, \"Attack\": 124, \"Defense\": 78, \"SpecialA\": 69, \"SpecialD\": 71, \"Speed\": 58, \"Generation\": 6}, {\"#\": 679, \"Name\": \"Honedge\", \"Type 1\": \"Steel\", \"Type 2\": \"Ghost\", \"Total\": 325, \"HP\": 45, \"Attack\": 80, \"Defense\": 100, \"SpecialA\": 35, \"SpecialD\": 37, \"Speed\": 28, \"Generation\": 6}, {\"#\": 680, \"Name\": \"Doublade\", \"Type 1\": \"Steel\", \"Type 2\": \"Ghost\", \"Total\": 448, \"HP\": 59, \"Attack\": 110, \"Defense\": 150, \"SpecialA\": 45, \"SpecialD\": 49, \"Speed\": 35, \"Generation\": 6}, {\"#\": 681, \"Name\": \"AegislashBlade Forme\", \"Type 1\": \"Steel\", \"Type 2\": \"Ghost\", \"Total\": 520, \"HP\": 60, \"Attack\": 150, \"Defense\": 50, \"SpecialA\": 150, \"SpecialD\": 50, \"Speed\": 60, \"Generation\": 6}, {\"#\": 681, \"Name\": \"AegislashShield Forme\", \"Type 1\": \"Steel\", \"Type 2\": \"Ghost\", \"Total\": 520, \"HP\": 60, \"Attack\": 50, \"Defense\": 150, \"SpecialA\": 50, \"SpecialD\": 150, \"Speed\": 60, \"Generation\": 6}, {\"#\": 686, \"Name\": \"Inkay\", \"Type 1\": \"Dark\", \"Type 2\": \"Psychic\", \"Total\": 288, \"HP\": 53, \"Attack\": 54, \"Defense\": 53, \"SpecialA\": 37, \"SpecialD\": 46, \"Speed\": 45, \"Generation\": 6}, {\"#\": 687, \"Name\": \"Malamar\", \"Type 1\": \"Dark\", \"Type 2\": \"Psychic\", \"Total\": 482, \"HP\": 86, \"Attack\": 92, \"Defense\": 88, \"SpecialA\": 68, \"SpecialD\": 75, \"Speed\": 73, \"Generation\": 6}, {\"#\": 688, \"Name\": \"Binacle\", \"Type 1\": \"Rock\", \"Type 2\": \"Water\", \"Total\": 306, \"HP\": 42, \"Attack\": 52, \"Defense\": 67, \"SpecialA\": 39, \"SpecialD\": 56, \"Speed\": 50, \"Generation\": 6}, {\"#\": 689, \"Name\": \"Barbaracle\", \"Type 1\": \"Rock\", \"Type 2\": \"Water\", \"Total\": 500, \"HP\": 72, \"Attack\": 105, \"Defense\": 115, \"SpecialA\": 54, \"SpecialD\": 86, \"Speed\": 68, \"Generation\": 6}, {\"#\": 690, \"Name\": \"Skrelp\", \"Type 1\": \"Poison\", \"Type 2\": \"Water\", \"Total\": 320, \"HP\": 50, \"Attack\": 60, \"Defense\": 60, \"SpecialA\": 60, \"SpecialD\": 60, \"Speed\": 30, \"Generation\": 6}, {\"#\": 691, \"Name\": \"Dragalge\", \"Type 1\": \"Poison\", \"Type 2\": \"Dragon\", \"Total\": 494, \"HP\": 65, \"Attack\": 75, \"Defense\": 90, \"SpecialA\": 97, \"SpecialD\": 123, \"Speed\": 44, \"Generation\": 6}, {\"#\": 694, \"Name\": \"Helioptile\", \"Type 1\": \"Electric\", \"Type 2\": \"Normal\", \"Total\": 289, \"HP\": 44, \"Attack\": 38, \"Defense\": 33, \"SpecialA\": 61, \"SpecialD\": 43, \"Speed\": 70, \"Generation\": 6}, {\"#\": 695, \"Name\": \"Heliolisk\", \"Type 1\": \"Electric\", \"Type 2\": \"Normal\", \"Total\": 481, \"HP\": 62, \"Attack\": 55, \"Defense\": 52, \"SpecialA\": 109, \"SpecialD\": 94, \"Speed\": 109, \"Generation\": 6}, {\"#\": 696, \"Name\": \"Tyrunt\", \"Type 1\": \"Rock\", \"Type 2\": \"Dragon\", \"Total\": 362, \"HP\": 58, \"Attack\": 89, \"Defense\": 77, \"SpecialA\": 45, \"SpecialD\": 45, \"Speed\": 48, \"Generation\": 6}, {\"#\": 697, \"Name\": \"Tyrantrum\", \"Type 1\": \"Rock\", \"Type 2\": \"Dragon\", \"Total\": 521, \"HP\": 82, \"Attack\": 121, \"Defense\": 119, \"SpecialA\": 69, \"SpecialD\": 59, \"Speed\": 71, \"Generation\": 6}, {\"#\": 698, \"Name\": \"Amaura\", \"Type 1\": \"Rock\", \"Type 2\": \"Ice\", \"Total\": 362, \"HP\": 77, \"Attack\": 59, \"Defense\": 50, \"SpecialA\": 67, \"SpecialD\": 63, \"Speed\": 46, \"Generation\": 6}, {\"#\": 699, \"Name\": \"Aurorus\", \"Type 1\": \"Rock\", \"Type 2\": \"Ice\", \"Total\": 521, \"HP\": 123, \"Attack\": 77, \"Defense\": 72, \"SpecialA\": 99, \"SpecialD\": 92, \"Speed\": 58, \"Generation\": 6}, {\"#\": 701, \"Name\": \"Hawlucha\", \"Type 1\": \"Fighting\", \"Type 2\": \"Flying\", \"Total\": 500, \"HP\": 78, \"Attack\": 92, \"Defense\": 75, \"SpecialA\": 74, \"SpecialD\": 63, \"Speed\": 118, \"Generation\": 6}, {\"#\": 702, \"Name\": \"Dedenne\", \"Type 1\": \"Electric\", \"Type 2\": \"Fairy\", \"Total\": 431, \"HP\": 67, \"Attack\": 58, \"Defense\": 57, \"SpecialA\": 81, \"SpecialD\": 67, \"Speed\": 101, \"Generation\": 6}, {\"#\": 703, \"Name\": \"Carbink\", \"Type 1\": \"Rock\", \"Type 2\": \"Fairy\", \"Total\": 500, \"HP\": 50, \"Attack\": 50, \"Defense\": 150, \"SpecialA\": 50, \"SpecialD\": 150, \"Speed\": 50, \"Generation\": 6}, {\"#\": 707, \"Name\": \"Klefki\", \"Type 1\": \"Steel\", \"Type 2\": \"Fairy\", \"Total\": 470, \"HP\": 57, \"Attack\": 80, \"Defense\": 91, \"SpecialA\": 80, \"SpecialD\": 87, \"Speed\": 75, \"Generation\": 6}, {\"#\": 708, \"Name\": \"Phantump\", \"Type 1\": \"Ghost\", \"Type 2\": \"Grass\", \"Total\": 309, \"HP\": 43, \"Attack\": 70, \"Defense\": 48, \"SpecialA\": 50, \"SpecialD\": 60, \"Speed\": 38, \"Generation\": 6}, {\"#\": 709, \"Name\": \"Trevenant\", \"Type 1\": \"Ghost\", \"Type 2\": \"Grass\", \"Total\": 474, \"HP\": 85, \"Attack\": 110, \"Defense\": 76, \"SpecialA\": 65, \"SpecialD\": 82, \"Speed\": 56, \"Generation\": 6}, {\"#\": 710, \"Name\": \"PumpkabooAverage Size\", \"Type 1\": \"Ghost\", \"Type 2\": \"Grass\", \"Total\": 335, \"HP\": 49, \"Attack\": 66, \"Defense\": 70, \"SpecialA\": 44, \"SpecialD\": 55, \"Speed\": 51, \"Generation\": 6}, {\"#\": 710, \"Name\": \"PumpkabooSmall Size\", \"Type 1\": \"Ghost\", \"Type 2\": \"Grass\", \"Total\": 335, \"HP\": 44, \"Attack\": 66, \"Defense\": 70, \"SpecialA\": 44, \"SpecialD\": 55, \"Speed\": 56, \"Generation\": 6}, {\"#\": 710, \"Name\": \"PumpkabooLarge Size\", \"Type 1\": \"Ghost\", \"Type 2\": \"Grass\", \"Total\": 335, \"HP\": 54, \"Attack\": 66, \"Defense\": 70, \"SpecialA\": 44, \"SpecialD\": 55, \"Speed\": 46, \"Generation\": 6}, {\"#\": 710, \"Name\": \"PumpkabooSuper Size\", \"Type 1\": \"Ghost\", \"Type 2\": \"Grass\", \"Total\": 335, \"HP\": 59, \"Attack\": 66, \"Defense\": 70, \"SpecialA\": 44, \"SpecialD\": 55, \"Speed\": 41, \"Generation\": 6}, {\"#\": 711, \"Name\": \"GourgeistAverage Size\", \"Type 1\": \"Ghost\", \"Type 2\": \"Grass\", \"Total\": 494, \"HP\": 65, \"Attack\": 90, \"Defense\": 122, \"SpecialA\": 58, \"SpecialD\": 75, \"Speed\": 84, \"Generation\": 6}, {\"#\": 711, \"Name\": \"GourgeistSmall Size\", \"Type 1\": \"Ghost\", \"Type 2\": \"Grass\", \"Total\": 494, \"HP\": 55, \"Attack\": 85, \"Defense\": 122, \"SpecialA\": 58, \"SpecialD\": 75, \"Speed\": 99, \"Generation\": 6}, {\"#\": 711, \"Name\": \"GourgeistLarge Size\", \"Type 1\": \"Ghost\", \"Type 2\": \"Grass\", \"Total\": 494, \"HP\": 75, \"Attack\": 95, \"Defense\": 122, \"SpecialA\": 58, \"SpecialD\": 75, \"Speed\": 69, \"Generation\": 6}, {\"#\": 711, \"Name\": \"GourgeistSuper Size\", \"Type 1\": \"Ghost\", \"Type 2\": \"Grass\", \"Total\": 494, \"HP\": 85, \"Attack\": 100, \"Defense\": 122, \"SpecialA\": 58, \"SpecialD\": 75, \"Speed\": 54, \"Generation\": 6}, {\"#\": 714, \"Name\": \"Noibat\", \"Type 1\": \"Flying\", \"Type 2\": \"Dragon\", \"Total\": 245, \"HP\": 40, \"Attack\": 30, \"Defense\": 35, \"SpecialA\": 45, \"SpecialD\": 40, \"Speed\": 55, \"Generation\": 6}, {\"#\": 715, \"Name\": \"Noivern\", \"Type 1\": \"Flying\", \"Type 2\": \"Dragon\", \"Total\": 535, \"HP\": 85, \"Attack\": 70, \"Defense\": 80, \"SpecialA\": 97, \"SpecialD\": 80, \"Speed\": 123, \"Generation\": 6}]}}, {\"mode\": \"vega-lite\"});\n</script>",
      "text/plain": "alt.Chart(...)"
     },
     "metadata": {}
    }
   ]
  },
  {
   "cell_type": "markdown",
   "metadata": {
    "tags": [],
    "cell_id": "546830aac6e64b8ab3e5c9603c95e430",
    "deepnote_cell_type": "markdown"
   },
   "source": [
    "From the chart above, we can find that the general shape and trend for each generation are similar. \n",
    "I find that the distribution is not similar to what I believe before. I think a pokemon should have whether a high attack or high special attack, but the graph shows that most of the pokemon have the same attack and special attack. Also the same observation for the defense and special defense."
   ],
   "block_group": "546830aac6e64b8ab3e5c9603c95e430"
  },
  {
   "cell_type": "markdown",
   "metadata": {
    "tags": [],
    "cell_id": "ed25a594a9224ca6b7f0c20376e1d752",
    "deepnote_cell_type": "markdown"
   },
   "source": [
    "## K-Mean clusters\n",
    "\n",
    "Use the stats value to predict clusters. I choose 6 because there are total 6 generations in the dataset."
   ],
   "block_group": "ed25a594a9224ca6b7f0c20376e1d752"
  },
  {
   "cell_type": "code",
   "metadata": {
    "tags": [],
    "cell_id": "46f8672cbbe54b69b1bd5772a9078976",
    "source_hash": null,
    "execution_start": 1702174244042,
    "execution_millis": 9,
    "deepnote_to_be_reexecuted": false,
    "deepnote_cell_type": "code"
   },
   "source": [
    "kmeans = KMeans(n_clusters=6)"
   ],
   "block_group": "46f8672cbbe54b69b1bd5772a9078976",
   "execution_count": null,
   "outputs": []
  },
  {
   "cell_type": "markdown",
   "metadata": {
    "tags": [],
    "cell_id": "7688b7e14fef40d78f8cb544719c67a5",
    "deepnote_cell_type": "markdown"
   },
   "source": [
    "Use all the stats value in the dataset to predict the cluster."
   ],
   "block_group": "7688b7e14fef40d78f8cb544719c67a5"
  },
  {
   "cell_type": "code",
   "metadata": {
    "tags": [],
    "cell_id": "623babed56494f51bda3ea58ddc08e96",
    "source_hash": null,
    "execution_start": 1702174244042,
    "execution_millis": 12,
    "deepnote_to_be_reexecuted": false,
    "deepnote_cell_type": "code"
   },
   "source": [
    "first_col = \"Total\"\n",
    "last_col = \"Speed\""
   ],
   "block_group": "623babed56494f51bda3ea58ddc08e96",
   "execution_count": null,
   "outputs": []
  },
  {
   "cell_type": "code",
   "metadata": {
    "tags": [],
    "cell_id": "3b2b221be71f4308a92c195b804ab855",
    "source_hash": null,
    "execution_start": 1702174244046,
    "execution_millis": 273,
    "deepnote_to_be_reexecuted": false,
    "deepnote_cell_type": "code"
   },
   "source": [
    "kmeans.fit(df[[first_col,last_col]])"
   ],
   "block_group": "3b2b221be71f4308a92c195b804ab855",
   "execution_count": null,
   "outputs": [
    {
     "output_type": "execute_result",
     "execution_count": 17,
     "data": {
      "text/plain": "KMeans(n_clusters=6)"
     },
     "metadata": {}
    }
   ]
  },
  {
   "cell_type": "code",
   "metadata": {
    "tags": [],
    "cell_id": "946b9be0f20c421cbc2d77f235ae4fe5",
    "source_hash": null,
    "execution_start": 1702174244327,
    "execution_millis": 95,
    "deepnote_to_be_reexecuted": false,
    "deepnote_cell_type": "code"
   },
   "source": [
    "arr = kmeans.predict(df[[first_col,last_col]])"
   ],
   "block_group": "946b9be0f20c421cbc2d77f235ae4fe5",
   "execution_count": null,
   "outputs": []
  },
  {
   "cell_type": "code",
   "metadata": {
    "tags": [],
    "cell_id": "2f4f8ba4541042d9b4ebdc38c8e18b34",
    "source_hash": null,
    "execution_start": 1702174244423,
    "execution_millis": 10,
    "deepnote_table_state": {
     "sortBy": [],
     "filters": [],
     "pageSize": 10,
     "pageIndex": 2
    },
    "deepnote_table_loading": false,
    "deepnote_to_be_reexecuted": false,
    "deepnote_cell_type": "code"
   },
   "source": [
    "df[\"cluster\"]= arr"
   ],
   "block_group": "2f4f8ba4541042d9b4ebdc38c8e18b34",
   "execution_count": null,
   "outputs": []
  },
  {
   "cell_type": "code",
   "metadata": {
    "tags": [],
    "cell_id": "f2b5a758b31e455f934dd3d4120bb137",
    "source_hash": null,
    "execution_start": 1702174244428,
    "execution_millis": 147,
    "deepnote_to_be_reexecuted": false,
    "deepnote_cell_type": "code"
   },
   "source": [
    "alt.Chart(df).mark_circle().encode(\n",
    "    x=\"Attack\",\n",
    "    y=\"SpecialA\",\n",
    "    color=\"cluster:N\",\n",
    "    tooltip=[\"#\",\"Name\",\"Attack\",\"SpecialA\"]\n",
    ").facet(\n",
    "    row=\"Generation\"\n",
    ")"
   ],
   "block_group": "f2b5a758b31e455f934dd3d4120bb137",
   "execution_count": null,
   "outputs": [
    {
     "output_type": "execute_result",
     "execution_count": 20,
     "data": {
      "text/html": "\n<div id=\"altair-viz-b783820a93644bfbb9641534aac886ad\"></div>\n<script type=\"text/javascript\">\n  var VEGA_DEBUG = (typeof VEGA_DEBUG == \"undefined\") ? {} : VEGA_DEBUG;\n  (function(spec, embedOpt){\n    let outputDiv = document.currentScript.previousElementSibling;\n    if (outputDiv.id !== \"altair-viz-b783820a93644bfbb9641534aac886ad\") {\n      outputDiv = document.getElementById(\"altair-viz-b783820a93644bfbb9641534aac886ad\");\n    }\n    const paths = {\n      \"vega\": \"https://cdn.jsdelivr.net/npm//vega@5?noext\",\n      \"vega-lib\": \"https://cdn.jsdelivr.net/npm//vega-lib?noext\",\n      \"vega-lite\": \"https://cdn.jsdelivr.net/npm//vega-lite@4.17.0?noext\",\n      \"vega-embed\": \"https://cdn.jsdelivr.net/npm//vega-embed@6?noext\",\n    };\n\n    function maybeLoadScript(lib, version) {\n      var key = `${lib.replace(\"-\", \"\")}_version`;\n      return (VEGA_DEBUG[key] == version) ?\n        Promise.resolve(paths[lib]) :\n        new Promise(function(resolve, reject) {\n          var s = document.createElement('script');\n          document.getElementsByTagName(\"head\")[0].appendChild(s);\n          s.async = true;\n          s.onload = () => {\n            VEGA_DEBUG[key] = version;\n            return resolve(paths[lib]);\n          };\n          s.onerror = () => reject(`Error loading script: ${paths[lib]}`);\n          s.src = paths[lib];\n        });\n    }\n\n    function showError(err) {\n      outputDiv.innerHTML = `<div class=\"error\" style=\"color:red;\">${err}</div>`;\n      throw err;\n    }\n\n    function displayChart(vegaEmbed) {\n      vegaEmbed(outputDiv, spec, embedOpt)\n        .catch(err => showError(`Javascript Error: ${err.message}<br>This usually means there's a typo in your chart specification. See the javascript console for the full traceback.`));\n    }\n\n    if(typeof define === \"function\" && define.amd) {\n      requirejs.config({paths});\n      require([\"vega-embed\"], displayChart, err => showError(`Error loading script: ${err.message}`));\n    } else {\n      maybeLoadScript(\"vega\", \"5\")\n        .then(() => maybeLoadScript(\"vega-lite\", \"4.17.0\"))\n        .then(() => maybeLoadScript(\"vega-embed\", \"6\"))\n        .catch(showError)\n        .then(() => displayChart(vegaEmbed));\n    }\n  })({\"config\": {\"view\": {\"continuousWidth\": 400, \"continuousHeight\": 300}}, \"data\": {\"name\": \"data-7b4e9b7c622e97f5ad82a9f00b4cfc09\"}, \"facet\": {\"row\": {\"field\": \"Generation\", \"type\": \"quantitative\"}}, \"spec\": {\"mark\": \"circle\", \"encoding\": {\"color\": {\"field\": \"cluster\", \"type\": \"nominal\"}, \"tooltip\": [{\"field\": \"#\", \"type\": \"quantitative\"}, {\"field\": \"Name\", \"type\": \"nominal\"}, {\"field\": \"Attack\", \"type\": \"quantitative\"}, {\"field\": \"SpecialA\", \"type\": \"quantitative\"}], \"x\": {\"field\": \"Attack\", \"type\": \"quantitative\"}, \"y\": {\"field\": \"SpecialA\", \"type\": \"quantitative\"}}}, \"$schema\": \"https://vega.github.io/schema/vega-lite/v4.17.0.json\", \"datasets\": {\"data-7b4e9b7c622e97f5ad82a9f00b4cfc09\": [{\"#\": 1, \"Name\": \"Bulbasaur\", \"Type 1\": \"Grass\", \"Type 2\": \"Poison\", \"Total\": 318, \"HP\": 45, \"Attack\": 49, \"Defense\": 49, \"SpecialA\": 65, \"SpecialD\": 65, \"Speed\": 45, \"Generation\": 1, \"cluster\": 4}, {\"#\": 2, \"Name\": \"Ivysaur\", \"Type 1\": \"Grass\", \"Type 2\": \"Poison\", \"Total\": 405, \"HP\": 60, \"Attack\": 62, \"Defense\": 63, \"SpecialA\": 80, \"SpecialD\": 80, \"Speed\": 60, \"Generation\": 1, \"cluster\": 0}, {\"#\": 3, \"Name\": \"Venusaur\", \"Type 1\": \"Grass\", \"Type 2\": \"Poison\", \"Total\": 525, \"HP\": 80, \"Attack\": 82, \"Defense\": 83, \"SpecialA\": 100, \"SpecialD\": 100, \"Speed\": 80, \"Generation\": 1, \"cluster\": 3}, {\"#\": 3, \"Name\": \"VenusaurMega Venusaur\", \"Type 1\": \"Grass\", \"Type 2\": \"Poison\", \"Total\": 625, \"HP\": 80, \"Attack\": 100, \"Defense\": 123, \"SpecialA\": 122, \"SpecialD\": 120, \"Speed\": 80, \"Generation\": 1, \"cluster\": 2}, {\"#\": 6, \"Name\": \"Charizard\", \"Type 1\": \"Fire\", \"Type 2\": \"Flying\", \"Total\": 534, \"HP\": 78, \"Attack\": 84, \"Defense\": 78, \"SpecialA\": 109, \"SpecialD\": 85, \"Speed\": 100, \"Generation\": 1, \"cluster\": 3}, {\"#\": 6, \"Name\": \"CharizardMega Charizard X\", \"Type 1\": \"Fire\", \"Type 2\": \"Dragon\", \"Total\": 634, \"HP\": 78, \"Attack\": 130, \"Defense\": 111, \"SpecialA\": 130, \"SpecialD\": 85, \"Speed\": 100, \"Generation\": 1, \"cluster\": 2}, {\"#\": 6, \"Name\": \"CharizardMega Charizard Y\", \"Type 1\": \"Fire\", \"Type 2\": \"Flying\", \"Total\": 634, \"HP\": 78, \"Attack\": 104, \"Defense\": 78, \"SpecialA\": 159, \"SpecialD\": 115, \"Speed\": 100, \"Generation\": 1, \"cluster\": 2}, {\"#\": 12, \"Name\": \"Butterfree\", \"Type 1\": \"Bug\", \"Type 2\": \"Flying\", \"Total\": 395, \"HP\": 60, \"Attack\": 45, \"Defense\": 50, \"SpecialA\": 90, \"SpecialD\": 80, \"Speed\": 70, \"Generation\": 1, \"cluster\": 0}, {\"#\": 13, \"Name\": \"Weedle\", \"Type 1\": \"Bug\", \"Type 2\": \"Poison\", \"Total\": 195, \"HP\": 40, \"Attack\": 35, \"Defense\": 30, \"SpecialA\": 20, \"SpecialD\": 20, \"Speed\": 50, \"Generation\": 1, \"cluster\": 1}, {\"#\": 14, \"Name\": \"Kakuna\", \"Type 1\": \"Bug\", \"Type 2\": \"Poison\", \"Total\": 205, \"HP\": 45, \"Attack\": 25, \"Defense\": 50, \"SpecialA\": 25, \"SpecialD\": 25, \"Speed\": 35, \"Generation\": 1, \"cluster\": 1}, {\"#\": 15, \"Name\": \"Beedrill\", \"Type 1\": \"Bug\", \"Type 2\": \"Poison\", \"Total\": 395, \"HP\": 65, \"Attack\": 90, \"Defense\": 40, \"SpecialA\": 45, \"SpecialD\": 80, \"Speed\": 75, \"Generation\": 1, \"cluster\": 0}, {\"#\": 15, \"Name\": \"BeedrillMega Beedrill\", \"Type 1\": \"Bug\", \"Type 2\": \"Poison\", \"Total\": 495, \"HP\": 65, \"Attack\": 150, \"Defense\": 40, \"SpecialA\": 15, \"SpecialD\": 80, \"Speed\": 145, \"Generation\": 1, \"cluster\": 3}, {\"#\": 16, \"Name\": \"Pidgey\", \"Type 1\": \"Normal\", \"Type 2\": \"Flying\", \"Total\": 251, \"HP\": 40, \"Attack\": 45, \"Defense\": 40, \"SpecialA\": 35, \"SpecialD\": 35, \"Speed\": 56, \"Generation\": 1, \"cluster\": 1}, {\"#\": 17, \"Name\": \"Pidgeotto\", \"Type 1\": \"Normal\", \"Type 2\": \"Flying\", \"Total\": 349, \"HP\": 63, \"Attack\": 60, \"Defense\": 55, \"SpecialA\": 50, \"SpecialD\": 50, \"Speed\": 71, \"Generation\": 1, \"cluster\": 4}, {\"#\": 18, \"Name\": \"Pidgeot\", \"Type 1\": \"Normal\", \"Type 2\": \"Flying\", \"Total\": 479, \"HP\": 83, \"Attack\": 80, \"Defense\": 75, \"SpecialA\": 70, \"SpecialD\": 70, \"Speed\": 101, \"Generation\": 1, \"cluster\": 3}, {\"#\": 18, \"Name\": \"PidgeotMega Pidgeot\", \"Type 1\": \"Normal\", \"Type 2\": \"Flying\", \"Total\": 579, \"HP\": 83, \"Attack\": 80, \"Defense\": 80, \"SpecialA\": 135, \"SpecialD\": 80, \"Speed\": 121, \"Generation\": 1, \"cluster\": 2}, {\"#\": 21, \"Name\": \"Spearow\", \"Type 1\": \"Normal\", \"Type 2\": \"Flying\", \"Total\": 262, \"HP\": 40, \"Attack\": 60, \"Defense\": 30, \"SpecialA\": 31, \"SpecialD\": 31, \"Speed\": 70, \"Generation\": 1, \"cluster\": 1}, {\"#\": 22, \"Name\": \"Fearow\", \"Type 1\": \"Normal\", \"Type 2\": \"Flying\", \"Total\": 442, \"HP\": 65, \"Attack\": 90, \"Defense\": 65, \"SpecialA\": 61, \"SpecialD\": 61, \"Speed\": 100, \"Generation\": 1, \"cluster\": 0}, {\"#\": 31, \"Name\": \"Nidoqueen\", \"Type 1\": \"Poison\", \"Type 2\": \"Ground\", \"Total\": 505, \"HP\": 90, \"Attack\": 92, \"Defense\": 87, \"SpecialA\": 75, \"SpecialD\": 85, \"Speed\": 76, \"Generation\": 1, \"cluster\": 3}, {\"#\": 34, \"Name\": \"Nidoking\", \"Type 1\": \"Poison\", \"Type 2\": \"Ground\", \"Total\": 505, \"HP\": 81, \"Attack\": 102, \"Defense\": 77, \"SpecialA\": 85, \"SpecialD\": 75, \"Speed\": 85, \"Generation\": 1, \"cluster\": 3}, {\"#\": 39, \"Name\": \"Jigglypuff\", \"Type 1\": \"Normal\", \"Type 2\": \"Fairy\", \"Total\": 270, \"HP\": 115, \"Attack\": 45, \"Defense\": 20, \"SpecialA\": 45, \"SpecialD\": 25, \"Speed\": 20, \"Generation\": 1, \"cluster\": 1}, {\"#\": 40, \"Name\": \"Wigglytuff\", \"Type 1\": \"Normal\", \"Type 2\": \"Fairy\", \"Total\": 435, \"HP\": 140, \"Attack\": 70, \"Defense\": 45, \"SpecialA\": 85, \"SpecialD\": 50, \"Speed\": 45, \"Generation\": 1, \"cluster\": 0}, {\"#\": 41, \"Name\": \"Zubat\", \"Type 1\": \"Poison\", \"Type 2\": \"Flying\", \"Total\": 245, \"HP\": 40, \"Attack\": 45, \"Defense\": 35, \"SpecialA\": 30, \"SpecialD\": 40, \"Speed\": 55, \"Generation\": 1, \"cluster\": 1}, {\"#\": 42, \"Name\": \"Golbat\", \"Type 1\": \"Poison\", \"Type 2\": \"Flying\", \"Total\": 455, \"HP\": 75, \"Attack\": 80, \"Defense\": 70, \"SpecialA\": 65, \"SpecialD\": 75, \"Speed\": 90, \"Generation\": 1, \"cluster\": 5}, {\"#\": 43, \"Name\": \"Oddish\", \"Type 1\": \"Grass\", \"Type 2\": \"Poison\", \"Total\": 320, \"HP\": 45, \"Attack\": 50, \"Defense\": 55, \"SpecialA\": 75, \"SpecialD\": 65, \"Speed\": 30, \"Generation\": 1, \"cluster\": 4}, {\"#\": 44, \"Name\": \"Gloom\", \"Type 1\": \"Grass\", \"Type 2\": \"Poison\", \"Total\": 395, \"HP\": 60, \"Attack\": 65, \"Defense\": 70, \"SpecialA\": 85, \"SpecialD\": 75, \"Speed\": 40, \"Generation\": 1, \"cluster\": 0}, {\"#\": 45, \"Name\": \"Vileplume\", \"Type 1\": \"Grass\", \"Type 2\": \"Poison\", \"Total\": 490, \"HP\": 75, \"Attack\": 80, \"Defense\": 85, \"SpecialA\": 110, \"SpecialD\": 90, \"Speed\": 50, \"Generation\": 1, \"cluster\": 5}, {\"#\": 46, \"Name\": \"Paras\", \"Type 1\": \"Bug\", \"Type 2\": \"Grass\", \"Total\": 285, \"HP\": 35, \"Attack\": 70, \"Defense\": 55, \"SpecialA\": 45, \"SpecialD\": 55, \"Speed\": 25, \"Generation\": 1, \"cluster\": 1}, {\"#\": 47, \"Name\": \"Parasect\", \"Type 1\": \"Bug\", \"Type 2\": \"Grass\", \"Total\": 405, \"HP\": 60, \"Attack\": 95, \"Defense\": 80, \"SpecialA\": 60, \"SpecialD\": 80, \"Speed\": 30, \"Generation\": 1, \"cluster\": 0}, {\"#\": 48, \"Name\": \"Venonat\", \"Type 1\": \"Bug\", \"Type 2\": \"Poison\", \"Total\": 305, \"HP\": 60, \"Attack\": 55, \"Defense\": 50, \"SpecialA\": 40, \"SpecialD\": 55, \"Speed\": 45, \"Generation\": 1, \"cluster\": 4}, {\"#\": 49, \"Name\": \"Venomoth\", \"Type 1\": \"Bug\", \"Type 2\": \"Poison\", \"Total\": 450, \"HP\": 70, \"Attack\": 65, \"Defense\": 60, \"SpecialA\": 90, \"SpecialD\": 75, \"Speed\": 90, \"Generation\": 1, \"cluster\": 5}, {\"#\": 62, \"Name\": \"Poliwrath\", \"Type 1\": \"Water\", \"Type 2\": \"Fighting\", \"Total\": 510, \"HP\": 90, \"Attack\": 95, \"Defense\": 95, \"SpecialA\": 70, \"SpecialD\": 90, \"Speed\": 70, \"Generation\": 1, \"cluster\": 3}, {\"#\": 69, \"Name\": \"Bellsprout\", \"Type 1\": \"Grass\", \"Type 2\": \"Poison\", \"Total\": 300, \"HP\": 50, \"Attack\": 75, \"Defense\": 35, \"SpecialA\": 70, \"SpecialD\": 30, \"Speed\": 40, \"Generation\": 1, \"cluster\": 4}, {\"#\": 70, \"Name\": \"Weepinbell\", \"Type 1\": \"Grass\", \"Type 2\": \"Poison\", \"Total\": 390, \"HP\": 65, \"Attack\": 90, \"Defense\": 50, \"SpecialA\": 85, \"SpecialD\": 45, \"Speed\": 55, \"Generation\": 1, \"cluster\": 0}, {\"#\": 71, \"Name\": \"Victreebel\", \"Type 1\": \"Grass\", \"Type 2\": \"Poison\", \"Total\": 490, \"HP\": 80, \"Attack\": 105, \"Defense\": 65, \"SpecialA\": 100, \"SpecialD\": 70, \"Speed\": 70, \"Generation\": 1, \"cluster\": 5}, {\"#\": 72, \"Name\": \"Tentacool\", \"Type 1\": \"Water\", \"Type 2\": \"Poison\", \"Total\": 335, \"HP\": 40, \"Attack\": 40, \"Defense\": 35, \"SpecialA\": 50, \"SpecialD\": 100, \"Speed\": 70, \"Generation\": 1, \"cluster\": 4}, {\"#\": 73, \"Name\": \"Tentacruel\", \"Type 1\": \"Water\", \"Type 2\": \"Poison\", \"Total\": 515, \"HP\": 80, \"Attack\": 70, \"Defense\": 65, \"SpecialA\": 80, \"SpecialD\": 120, \"Speed\": 100, \"Generation\": 1, \"cluster\": 3}, {\"#\": 74, \"Name\": \"Geodude\", \"Type 1\": \"Rock\", \"Type 2\": \"Ground\", \"Total\": 300, \"HP\": 40, \"Attack\": 80, \"Defense\": 100, \"SpecialA\": 30, \"SpecialD\": 30, \"Speed\": 20, \"Generation\": 1, \"cluster\": 4}, {\"#\": 75, \"Name\": \"Graveler\", \"Type 1\": \"Rock\", \"Type 2\": \"Ground\", \"Total\": 390, \"HP\": 55, \"Attack\": 95, \"Defense\": 115, \"SpecialA\": 45, \"SpecialD\": 45, \"Speed\": 35, \"Generation\": 1, \"cluster\": 0}, {\"#\": 76, \"Name\": \"Golem\", \"Type 1\": \"Rock\", \"Type 2\": \"Ground\", \"Total\": 495, \"HP\": 80, \"Attack\": 120, \"Defense\": 130, \"SpecialA\": 55, \"SpecialD\": 65, \"Speed\": 45, \"Generation\": 1, \"cluster\": 5}, {\"#\": 79, \"Name\": \"Slowpoke\", \"Type 1\": \"Water\", \"Type 2\": \"Psychic\", \"Total\": 315, \"HP\": 90, \"Attack\": 65, \"Defense\": 65, \"SpecialA\": 40, \"SpecialD\": 40, \"Speed\": 15, \"Generation\": 1, \"cluster\": 4}, {\"#\": 80, \"Name\": \"Slowbro\", \"Type 1\": \"Water\", \"Type 2\": \"Psychic\", \"Total\": 490, \"HP\": 95, \"Attack\": 75, \"Defense\": 110, \"SpecialA\": 100, \"SpecialD\": 80, \"Speed\": 30, \"Generation\": 1, \"cluster\": 5}, {\"#\": 80, \"Name\": \"SlowbroMega Slowbro\", \"Type 1\": \"Water\", \"Type 2\": \"Psychic\", \"Total\": 590, \"HP\": 95, \"Attack\": 75, \"Defense\": 180, \"SpecialA\": 130, \"SpecialD\": 80, \"Speed\": 30, \"Generation\": 1, \"cluster\": 2}, {\"#\": 81, \"Name\": \"Magnemite\", \"Type 1\": \"Electric\", \"Type 2\": \"Steel\", \"Total\": 325, \"HP\": 25, \"Attack\": 35, \"Defense\": 70, \"SpecialA\": 95, \"SpecialD\": 55, \"Speed\": 45, \"Generation\": 1, \"cluster\": 4}, {\"#\": 82, \"Name\": \"Magneton\", \"Type 1\": \"Electric\", \"Type 2\": \"Steel\", \"Total\": 465, \"HP\": 50, \"Attack\": 60, \"Defense\": 95, \"SpecialA\": 120, \"SpecialD\": 70, \"Speed\": 70, \"Generation\": 1, \"cluster\": 5}, {\"#\": 83, \"Name\": \"Farfetch'd\", \"Type 1\": \"Normal\", \"Type 2\": \"Flying\", \"Total\": 352, \"HP\": 52, \"Attack\": 65, \"Defense\": 55, \"SpecialA\": 58, \"SpecialD\": 62, \"Speed\": 60, \"Generation\": 1, \"cluster\": 4}, {\"#\": 84, \"Name\": \"Doduo\", \"Type 1\": \"Normal\", \"Type 2\": \"Flying\", \"Total\": 310, \"HP\": 35, \"Attack\": 85, \"Defense\": 45, \"SpecialA\": 35, \"SpecialD\": 35, \"Speed\": 75, \"Generation\": 1, \"cluster\": 4}, {\"#\": 85, \"Name\": \"Dodrio\", \"Type 1\": \"Normal\", \"Type 2\": \"Flying\", \"Total\": 460, \"HP\": 60, \"Attack\": 110, \"Defense\": 70, \"SpecialA\": 60, \"SpecialD\": 60, \"Speed\": 100, \"Generation\": 1, \"cluster\": 5}, {\"#\": 87, \"Name\": \"Dewgong\", \"Type 1\": \"Water\", \"Type 2\": \"Ice\", \"Total\": 475, \"HP\": 90, \"Attack\": 70, \"Defense\": 80, \"SpecialA\": 70, \"SpecialD\": 95, \"Speed\": 70, \"Generation\": 1, \"cluster\": 5}, {\"#\": 91, \"Name\": \"Cloyster\", \"Type 1\": \"Water\", \"Type 2\": \"Ice\", \"Total\": 525, \"HP\": 50, \"Attack\": 95, \"Defense\": 180, \"SpecialA\": 85, \"SpecialD\": 45, \"Speed\": 70, \"Generation\": 1, \"cluster\": 3}, {\"#\": 92, \"Name\": \"Gastly\", \"Type 1\": \"Ghost\", \"Type 2\": \"Poison\", \"Total\": 310, \"HP\": 30, \"Attack\": 35, \"Defense\": 30, \"SpecialA\": 100, \"SpecialD\": 35, \"Speed\": 80, \"Generation\": 1, \"cluster\": 4}, {\"#\": 93, \"Name\": \"Haunter\", \"Type 1\": \"Ghost\", \"Type 2\": \"Poison\", \"Total\": 405, \"HP\": 45, \"Attack\": 50, \"Defense\": 45, \"SpecialA\": 115, \"SpecialD\": 55, \"Speed\": 95, \"Generation\": 1, \"cluster\": 0}, {\"#\": 94, \"Name\": \"Gengar\", \"Type 1\": \"Ghost\", \"Type 2\": \"Poison\", \"Total\": 500, \"HP\": 60, \"Attack\": 65, \"Defense\": 60, \"SpecialA\": 130, \"SpecialD\": 75, \"Speed\": 110, \"Generation\": 1, \"cluster\": 3}, {\"#\": 94, \"Name\": \"GengarMega Gengar\", \"Type 1\": \"Ghost\", \"Type 2\": \"Poison\", \"Total\": 600, \"HP\": 60, \"Attack\": 65, \"Defense\": 80, \"SpecialA\": 170, \"SpecialD\": 95, \"Speed\": 130, \"Generation\": 1, \"cluster\": 2}, {\"#\": 95, \"Name\": \"Onix\", \"Type 1\": \"Rock\", \"Type 2\": \"Ground\", \"Total\": 385, \"HP\": 35, \"Attack\": 45, \"Defense\": 160, \"SpecialA\": 30, \"SpecialD\": 45, \"Speed\": 70, \"Generation\": 1, \"cluster\": 0}, {\"#\": 102, \"Name\": \"Exeggcute\", \"Type 1\": \"Grass\", \"Type 2\": \"Psychic\", \"Total\": 325, \"HP\": 60, \"Attack\": 40, \"Defense\": 80, \"SpecialA\": 60, \"SpecialD\": 45, \"Speed\": 40, \"Generation\": 1, \"cluster\": 4}, {\"#\": 103, \"Name\": \"Exeggutor\", \"Type 1\": \"Grass\", \"Type 2\": \"Psychic\", \"Total\": 520, \"HP\": 95, \"Attack\": 95, \"Defense\": 85, \"SpecialA\": 125, \"SpecialD\": 65, \"Speed\": 55, \"Generation\": 1, \"cluster\": 3}, {\"#\": 111, \"Name\": \"Rhyhorn\", \"Type 1\": \"Ground\", \"Type 2\": \"Rock\", \"Total\": 345, \"HP\": 80, \"Attack\": 85, \"Defense\": 95, \"SpecialA\": 30, \"SpecialD\": 30, \"Speed\": 25, \"Generation\": 1, \"cluster\": 4}, {\"#\": 112, \"Name\": \"Rhydon\", \"Type 1\": \"Ground\", \"Type 2\": \"Rock\", \"Total\": 485, \"HP\": 105, \"Attack\": 130, \"Defense\": 120, \"SpecialA\": 45, \"SpecialD\": 45, \"Speed\": 40, \"Generation\": 1, \"cluster\": 5}, {\"#\": 121, \"Name\": \"Starmie\", \"Type 1\": \"Water\", \"Type 2\": \"Psychic\", \"Total\": 520, \"HP\": 60, \"Attack\": 75, \"Defense\": 85, \"SpecialA\": 100, \"SpecialD\": 85, \"Speed\": 115, \"Generation\": 1, \"cluster\": 3}, {\"#\": 122, \"Name\": \"Mr. Mime\", \"Type 1\": \"Psychic\", \"Type 2\": \"Fairy\", \"Total\": 460, \"HP\": 40, \"Attack\": 45, \"Defense\": 65, \"SpecialA\": 100, \"SpecialD\": 120, \"Speed\": 90, \"Generation\": 1, \"cluster\": 5}, {\"#\": 123, \"Name\": \"Scyther\", \"Type 1\": \"Bug\", \"Type 2\": \"Flying\", \"Total\": 500, \"HP\": 70, \"Attack\": 110, \"Defense\": 80, \"SpecialA\": 55, \"SpecialD\": 80, \"Speed\": 105, \"Generation\": 1, \"cluster\": 3}, {\"#\": 124, \"Name\": \"Jynx\", \"Type 1\": \"Ice\", \"Type 2\": \"Psychic\", \"Total\": 455, \"HP\": 65, \"Attack\": 50, \"Defense\": 35, \"SpecialA\": 115, \"SpecialD\": 95, \"Speed\": 95, \"Generation\": 1, \"cluster\": 5}, {\"#\": 127, \"Name\": \"PinsirMega Pinsir\", \"Type 1\": \"Bug\", \"Type 2\": \"Flying\", \"Total\": 600, \"HP\": 65, \"Attack\": 155, \"Defense\": 120, \"SpecialA\": 65, \"SpecialD\": 90, \"Speed\": 105, \"Generation\": 1, \"cluster\": 2}, {\"#\": 130, \"Name\": \"Gyarados\", \"Type 1\": \"Water\", \"Type 2\": \"Flying\", \"Total\": 540, \"HP\": 95, \"Attack\": 125, \"Defense\": 79, \"SpecialA\": 60, \"SpecialD\": 100, \"Speed\": 81, \"Generation\": 1, \"cluster\": 3}, {\"#\": 130, \"Name\": \"GyaradosMega Gyarados\", \"Type 1\": \"Water\", \"Type 2\": \"Dark\", \"Total\": 640, \"HP\": 95, \"Attack\": 155, \"Defense\": 109, \"SpecialA\": 70, \"SpecialD\": 130, \"Speed\": 81, \"Generation\": 1, \"cluster\": 2}, {\"#\": 131, \"Name\": \"Lapras\", \"Type 1\": \"Water\", \"Type 2\": \"Ice\", \"Total\": 535, \"HP\": 130, \"Attack\": 85, \"Defense\": 80, \"SpecialA\": 85, \"SpecialD\": 95, \"Speed\": 60, \"Generation\": 1, \"cluster\": 3}, {\"#\": 138, \"Name\": \"Omanyte\", \"Type 1\": \"Rock\", \"Type 2\": \"Water\", \"Total\": 355, \"HP\": 35, \"Attack\": 40, \"Defense\": 100, \"SpecialA\": 90, \"SpecialD\": 55, \"Speed\": 35, \"Generation\": 1, \"cluster\": 4}, {\"#\": 139, \"Name\": \"Omastar\", \"Type 1\": \"Rock\", \"Type 2\": \"Water\", \"Total\": 495, \"HP\": 70, \"Attack\": 60, \"Defense\": 125, \"SpecialA\": 115, \"SpecialD\": 70, \"Speed\": 55, \"Generation\": 1, \"cluster\": 5}, {\"#\": 140, \"Name\": \"Kabuto\", \"Type 1\": \"Rock\", \"Type 2\": \"Water\", \"Total\": 355, \"HP\": 30, \"Attack\": 80, \"Defense\": 90, \"SpecialA\": 55, \"SpecialD\": 45, \"Speed\": 55, \"Generation\": 1, \"cluster\": 4}, {\"#\": 141, \"Name\": \"Kabutops\", \"Type 1\": \"Rock\", \"Type 2\": \"Water\", \"Total\": 495, \"HP\": 60, \"Attack\": 115, \"Defense\": 105, \"SpecialA\": 65, \"SpecialD\": 70, \"Speed\": 80, \"Generation\": 1, \"cluster\": 3}, {\"#\": 142, \"Name\": \"Aerodactyl\", \"Type 1\": \"Rock\", \"Type 2\": \"Flying\", \"Total\": 515, \"HP\": 80, \"Attack\": 105, \"Defense\": 65, \"SpecialA\": 60, \"SpecialD\": 75, \"Speed\": 130, \"Generation\": 1, \"cluster\": 3}, {\"#\": 142, \"Name\": \"AerodactylMega Aerodactyl\", \"Type 1\": \"Rock\", \"Type 2\": \"Flying\", \"Total\": 615, \"HP\": 80, \"Attack\": 135, \"Defense\": 85, \"SpecialA\": 70, \"SpecialD\": 95, \"Speed\": 150, \"Generation\": 1, \"cluster\": 2}, {\"#\": 149, \"Name\": \"Dragonite\", \"Type 1\": \"Dragon\", \"Type 2\": \"Flying\", \"Total\": 600, \"HP\": 91, \"Attack\": 134, \"Defense\": 95, \"SpecialA\": 100, \"SpecialD\": 100, \"Speed\": 80, \"Generation\": 1, \"cluster\": 2}, {\"#\": 163, \"Name\": \"Hoothoot\", \"Type 1\": \"Normal\", \"Type 2\": \"Flying\", \"Total\": 262, \"HP\": 60, \"Attack\": 30, \"Defense\": 30, \"SpecialA\": 36, \"SpecialD\": 56, \"Speed\": 50, \"Generation\": 2, \"cluster\": 1}, {\"#\": 164, \"Name\": \"Noctowl\", \"Type 1\": \"Normal\", \"Type 2\": \"Flying\", \"Total\": 442, \"HP\": 100, \"Attack\": 50, \"Defense\": 50, \"SpecialA\": 76, \"SpecialD\": 96, \"Speed\": 70, \"Generation\": 2, \"cluster\": 0}, {\"#\": 165, \"Name\": \"Ledyba\", \"Type 1\": \"Bug\", \"Type 2\": \"Flying\", \"Total\": 265, \"HP\": 40, \"Attack\": 20, \"Defense\": 30, \"SpecialA\": 40, \"SpecialD\": 80, \"Speed\": 55, \"Generation\": 2, \"cluster\": 1}, {\"#\": 166, \"Name\": \"Ledian\", \"Type 1\": \"Bug\", \"Type 2\": \"Flying\", \"Total\": 390, \"HP\": 55, \"Attack\": 35, \"Defense\": 50, \"SpecialA\": 55, \"SpecialD\": 110, \"Speed\": 85, \"Generation\": 2, \"cluster\": 0}, {\"#\": 167, \"Name\": \"Spinarak\", \"Type 1\": \"Bug\", \"Type 2\": \"Poison\", \"Total\": 250, \"HP\": 40, \"Attack\": 60, \"Defense\": 40, \"SpecialA\": 40, \"SpecialD\": 40, \"Speed\": 30, \"Generation\": 2, \"cluster\": 1}, {\"#\": 168, \"Name\": \"Ariados\", \"Type 1\": \"Bug\", \"Type 2\": \"Poison\", \"Total\": 390, \"HP\": 70, \"Attack\": 90, \"Defense\": 70, \"SpecialA\": 60, \"SpecialD\": 60, \"Speed\": 40, \"Generation\": 2, \"cluster\": 0}, {\"#\": 169, \"Name\": \"Crobat\", \"Type 1\": \"Poison\", \"Type 2\": \"Flying\", \"Total\": 535, \"HP\": 85, \"Attack\": 90, \"Defense\": 80, \"SpecialA\": 70, \"SpecialD\": 80, \"Speed\": 130, \"Generation\": 2, \"cluster\": 3}, {\"#\": 170, \"Name\": \"Chinchou\", \"Type 1\": \"Water\", \"Type 2\": \"Electric\", \"Total\": 330, \"HP\": 75, \"Attack\": 38, \"Defense\": 38, \"SpecialA\": 56, \"SpecialD\": 56, \"Speed\": 67, \"Generation\": 2, \"cluster\": 4}, {\"#\": 171, \"Name\": \"Lanturn\", \"Type 1\": \"Water\", \"Type 2\": \"Electric\", \"Total\": 460, \"HP\": 125, \"Attack\": 58, \"Defense\": 58, \"SpecialA\": 76, \"SpecialD\": 76, \"Speed\": 67, \"Generation\": 2, \"cluster\": 5}, {\"#\": 174, \"Name\": \"Igglybuff\", \"Type 1\": \"Normal\", \"Type 2\": \"Fairy\", \"Total\": 210, \"HP\": 90, \"Attack\": 30, \"Defense\": 15, \"SpecialA\": 40, \"SpecialD\": 20, \"Speed\": 15, \"Generation\": 2, \"cluster\": 1}, {\"#\": 176, \"Name\": \"Togetic\", \"Type 1\": \"Fairy\", \"Type 2\": \"Flying\", \"Total\": 405, \"HP\": 55, \"Attack\": 40, \"Defense\": 85, \"SpecialA\": 80, \"SpecialD\": 105, \"Speed\": 40, \"Generation\": 2, \"cluster\": 0}, {\"#\": 177, \"Name\": \"Natu\", \"Type 1\": \"Psychic\", \"Type 2\": \"Flying\", \"Total\": 320, \"HP\": 40, \"Attack\": 50, \"Defense\": 45, \"SpecialA\": 70, \"SpecialD\": 45, \"Speed\": 70, \"Generation\": 2, \"cluster\": 4}, {\"#\": 178, \"Name\": \"Xatu\", \"Type 1\": \"Psychic\", \"Type 2\": \"Flying\", \"Total\": 470, \"HP\": 65, \"Attack\": 75, \"Defense\": 70, \"SpecialA\": 95, \"SpecialD\": 70, \"Speed\": 95, \"Generation\": 2, \"cluster\": 5}, {\"#\": 181, \"Name\": \"AmpharosMega Ampharos\", \"Type 1\": \"Electric\", \"Type 2\": \"Dragon\", \"Total\": 610, \"HP\": 90, \"Attack\": 95, \"Defense\": 105, \"SpecialA\": 165, \"SpecialD\": 110, \"Speed\": 45, \"Generation\": 2, \"cluster\": 2}, {\"#\": 183, \"Name\": \"Marill\", \"Type 1\": \"Water\", \"Type 2\": \"Fairy\", \"Total\": 250, \"HP\": 70, \"Attack\": 20, \"Defense\": 50, \"SpecialA\": 20, \"SpecialD\": 50, \"Speed\": 40, \"Generation\": 2, \"cluster\": 1}, {\"#\": 184, \"Name\": \"Azumarill\", \"Type 1\": \"Water\", \"Type 2\": \"Fairy\", \"Total\": 420, \"HP\": 100, \"Attack\": 50, \"Defense\": 80, \"SpecialA\": 60, \"SpecialD\": 80, \"Speed\": 50, \"Generation\": 2, \"cluster\": 0}, {\"#\": 187, \"Name\": \"Hoppip\", \"Type 1\": \"Grass\", \"Type 2\": \"Flying\", \"Total\": 250, \"HP\": 35, \"Attack\": 35, \"Defense\": 40, \"SpecialA\": 35, \"SpecialD\": 55, \"Speed\": 50, \"Generation\": 2, \"cluster\": 1}, {\"#\": 188, \"Name\": \"Skiploom\", \"Type 1\": \"Grass\", \"Type 2\": \"Flying\", \"Total\": 340, \"HP\": 55, \"Attack\": 45, \"Defense\": 50, \"SpecialA\": 45, \"SpecialD\": 65, \"Speed\": 80, \"Generation\": 2, \"cluster\": 4}, {\"#\": 189, \"Name\": \"Jumpluff\", \"Type 1\": \"Grass\", \"Type 2\": \"Flying\", \"Total\": 460, \"HP\": 75, \"Attack\": 55, \"Defense\": 70, \"SpecialA\": 55, \"SpecialD\": 95, \"Speed\": 110, \"Generation\": 2, \"cluster\": 5}, {\"#\": 193, \"Name\": \"Yanma\", \"Type 1\": \"Bug\", \"Type 2\": \"Flying\", \"Total\": 390, \"HP\": 65, \"Attack\": 65, \"Defense\": 45, \"SpecialA\": 75, \"SpecialD\": 45, \"Speed\": 95, \"Generation\": 2, \"cluster\": 0}, {\"#\": 194, \"Name\": \"Wooper\", \"Type 1\": \"Water\", \"Type 2\": \"Ground\", \"Total\": 210, \"HP\": 55, \"Attack\": 45, \"Defense\": 45, \"SpecialA\": 25, \"SpecialD\": 25, \"Speed\": 15, \"Generation\": 2, \"cluster\": 1}, {\"#\": 195, \"Name\": \"Quagsire\", \"Type 1\": \"Water\", \"Type 2\": \"Ground\", \"Total\": 430, \"HP\": 95, \"Attack\": 85, \"Defense\": 85, \"SpecialA\": 65, \"SpecialD\": 65, \"Speed\": 35, \"Generation\": 2, \"cluster\": 0}, {\"#\": 198, \"Name\": \"Murkrow\", \"Type 1\": \"Dark\", \"Type 2\": \"Flying\", \"Total\": 405, \"HP\": 60, \"Attack\": 85, \"Defense\": 42, \"SpecialA\": 85, \"SpecialD\": 42, \"Speed\": 91, \"Generation\": 2, \"cluster\": 0}, {\"#\": 199, \"Name\": \"Slowking\", \"Type 1\": \"Water\", \"Type 2\": \"Psychic\", \"Total\": 490, \"HP\": 95, \"Attack\": 75, \"Defense\": 80, \"SpecialA\": 100, \"SpecialD\": 110, \"Speed\": 30, \"Generation\": 2, \"cluster\": 5}, {\"#\": 203, \"Name\": \"Girafarig\", \"Type 1\": \"Normal\", \"Type 2\": \"Psychic\", \"Total\": 455, \"HP\": 70, \"Attack\": 80, \"Defense\": 65, \"SpecialA\": 90, \"SpecialD\": 65, \"Speed\": 85, \"Generation\": 2, \"cluster\": 5}, {\"#\": 205, \"Name\": \"Forretress\", \"Type 1\": \"Bug\", \"Type 2\": \"Steel\", \"Total\": 465, \"HP\": 75, \"Attack\": 90, \"Defense\": 140, \"SpecialA\": 60, \"SpecialD\": 60, \"Speed\": 40, \"Generation\": 2, \"cluster\": 5}, {\"#\": 207, \"Name\": \"Gligar\", \"Type 1\": \"Ground\", \"Type 2\": \"Flying\", \"Total\": 430, \"HP\": 65, \"Attack\": 75, \"Defense\": 105, \"SpecialA\": 35, \"SpecialD\": 65, \"Speed\": 85, \"Generation\": 2, \"cluster\": 0}, {\"#\": 208, \"Name\": \"Steelix\", \"Type 1\": \"Steel\", \"Type 2\": \"Ground\", \"Total\": 510, \"HP\": 75, \"Attack\": 85, \"Defense\": 200, \"SpecialA\": 55, \"SpecialD\": 65, \"Speed\": 30, \"Generation\": 2, \"cluster\": 5}, {\"#\": 208, \"Name\": \"SteelixMega Steelix\", \"Type 1\": \"Steel\", \"Type 2\": \"Ground\", \"Total\": 610, \"HP\": 75, \"Attack\": 125, \"Defense\": 230, \"SpecialA\": 55, \"SpecialD\": 95, \"Speed\": 30, \"Generation\": 2, \"cluster\": 2}, {\"#\": 211, \"Name\": \"Qwilfish\", \"Type 1\": \"Water\", \"Type 2\": \"Poison\", \"Total\": 430, \"HP\": 65, \"Attack\": 95, \"Defense\": 75, \"SpecialA\": 55, \"SpecialD\": 55, \"Speed\": 85, \"Generation\": 2, \"cluster\": 0}, {\"#\": 212, \"Name\": \"Scizor\", \"Type 1\": \"Bug\", \"Type 2\": \"Steel\", \"Total\": 500, \"HP\": 70, \"Attack\": 130, \"Defense\": 100, \"SpecialA\": 55, \"SpecialD\": 80, \"Speed\": 65, \"Generation\": 2, \"cluster\": 5}, {\"#\": 212, \"Name\": \"ScizorMega Scizor\", \"Type 1\": \"Bug\", \"Type 2\": \"Steel\", \"Total\": 600, \"HP\": 70, \"Attack\": 150, \"Defense\": 140, \"SpecialA\": 65, \"SpecialD\": 100, \"Speed\": 75, \"Generation\": 2, \"cluster\": 2}, {\"#\": 213, \"Name\": \"Shuckle\", \"Type 1\": \"Bug\", \"Type 2\": \"Rock\", \"Total\": 505, \"HP\": 20, \"Attack\": 10, \"Defense\": 230, \"SpecialA\": 10, \"SpecialD\": 230, \"Speed\": 5, \"Generation\": 2, \"cluster\": 5}, {\"#\": 214, \"Name\": \"Heracross\", \"Type 1\": \"Bug\", \"Type 2\": \"Fighting\", \"Total\": 500, \"HP\": 80, \"Attack\": 125, \"Defense\": 75, \"SpecialA\": 40, \"SpecialD\": 95, \"Speed\": 85, \"Generation\": 2, \"cluster\": 3}, {\"#\": 214, \"Name\": \"HeracrossMega Heracross\", \"Type 1\": \"Bug\", \"Type 2\": \"Fighting\", \"Total\": 600, \"HP\": 80, \"Attack\": 185, \"Defense\": 115, \"SpecialA\": 40, \"SpecialD\": 105, \"Speed\": 75, \"Generation\": 2, \"cluster\": 2}, {\"#\": 215, \"Name\": \"Sneasel\", \"Type 1\": \"Dark\", \"Type 2\": \"Ice\", \"Total\": 430, \"HP\": 55, \"Attack\": 95, \"Defense\": 55, \"SpecialA\": 35, \"SpecialD\": 75, \"Speed\": 115, \"Generation\": 2, \"cluster\": 0}, {\"#\": 219, \"Name\": \"Magcargo\", \"Type 1\": \"Fire\", \"Type 2\": \"Rock\", \"Total\": 410, \"HP\": 50, \"Attack\": 50, \"Defense\": 120, \"SpecialA\": 80, \"SpecialD\": 80, \"Speed\": 30, \"Generation\": 2, \"cluster\": 0}, {\"#\": 220, \"Name\": \"Swinub\", \"Type 1\": \"Ice\", \"Type 2\": \"Ground\", \"Total\": 250, \"HP\": 50, \"Attack\": 50, \"Defense\": 40, \"SpecialA\": 30, \"SpecialD\": 30, \"Speed\": 50, \"Generation\": 2, \"cluster\": 1}, {\"#\": 221, \"Name\": \"Piloswine\", \"Type 1\": \"Ice\", \"Type 2\": \"Ground\", \"Total\": 450, \"HP\": 100, \"Attack\": 100, \"Defense\": 80, \"SpecialA\": 60, \"SpecialD\": 60, \"Speed\": 50, \"Generation\": 2, \"cluster\": 5}, {\"#\": 222, \"Name\": \"Corsola\", \"Type 1\": \"Water\", \"Type 2\": \"Rock\", \"Total\": 380, \"HP\": 55, \"Attack\": 55, \"Defense\": 85, \"SpecialA\": 65, \"SpecialD\": 85, \"Speed\": 35, \"Generation\": 2, \"cluster\": 0}, {\"#\": 225, \"Name\": \"Delibird\", \"Type 1\": \"Ice\", \"Type 2\": \"Flying\", \"Total\": 330, \"HP\": 45, \"Attack\": 55, \"Defense\": 45, \"SpecialA\": 65, \"SpecialD\": 45, \"Speed\": 75, \"Generation\": 2, \"cluster\": 4}, {\"#\": 226, \"Name\": \"Mantine\", \"Type 1\": \"Water\", \"Type 2\": \"Flying\", \"Total\": 465, \"HP\": 65, \"Attack\": 40, \"Defense\": 70, \"SpecialA\": 80, \"SpecialD\": 140, \"Speed\": 70, \"Generation\": 2, \"cluster\": 5}, {\"#\": 227, \"Name\": \"Skarmory\", \"Type 1\": \"Steel\", \"Type 2\": \"Flying\", \"Total\": 465, \"HP\": 65, \"Attack\": 80, \"Defense\": 140, \"SpecialA\": 40, \"SpecialD\": 70, \"Speed\": 70, \"Generation\": 2, \"cluster\": 5}, {\"#\": 228, \"Name\": \"Houndour\", \"Type 1\": \"Dark\", \"Type 2\": \"Fire\", \"Total\": 330, \"HP\": 45, \"Attack\": 60, \"Defense\": 30, \"SpecialA\": 80, \"SpecialD\": 50, \"Speed\": 65, \"Generation\": 2, \"cluster\": 4}, {\"#\": 229, \"Name\": \"Houndoom\", \"Type 1\": \"Dark\", \"Type 2\": \"Fire\", \"Total\": 500, \"HP\": 75, \"Attack\": 90, \"Defense\": 50, \"SpecialA\": 110, \"SpecialD\": 80, \"Speed\": 95, \"Generation\": 2, \"cluster\": 3}, {\"#\": 229, \"Name\": \"HoundoomMega Houndoom\", \"Type 1\": \"Dark\", \"Type 2\": \"Fire\", \"Total\": 600, \"HP\": 75, \"Attack\": 90, \"Defense\": 90, \"SpecialA\": 140, \"SpecialD\": 90, \"Speed\": 115, \"Generation\": 2, \"cluster\": 2}, {\"#\": 230, \"Name\": \"Kingdra\", \"Type 1\": \"Water\", \"Type 2\": \"Dragon\", \"Total\": 540, \"HP\": 75, \"Attack\": 95, \"Defense\": 95, \"SpecialA\": 95, \"SpecialD\": 95, \"Speed\": 85, \"Generation\": 2, \"cluster\": 3}, {\"#\": 238, \"Name\": \"Smoochum\", \"Type 1\": \"Ice\", \"Type 2\": \"Psychic\", \"Total\": 305, \"HP\": 45, \"Attack\": 30, \"Defense\": 15, \"SpecialA\": 85, \"SpecialD\": 65, \"Speed\": 65, \"Generation\": 2, \"cluster\": 4}, {\"#\": 246, \"Name\": \"Larvitar\", \"Type 1\": \"Rock\", \"Type 2\": \"Ground\", \"Total\": 300, \"HP\": 50, \"Attack\": 64, \"Defense\": 50, \"SpecialA\": 45, \"SpecialD\": 50, \"Speed\": 41, \"Generation\": 2, \"cluster\": 4}, {\"#\": 247, \"Name\": \"Pupitar\", \"Type 1\": \"Rock\", \"Type 2\": \"Ground\", \"Total\": 410, \"HP\": 70, \"Attack\": 84, \"Defense\": 70, \"SpecialA\": 65, \"SpecialD\": 70, \"Speed\": 51, \"Generation\": 2, \"cluster\": 0}, {\"#\": 248, \"Name\": \"Tyranitar\", \"Type 1\": \"Rock\", \"Type 2\": \"Dark\", \"Total\": 600, \"HP\": 100, \"Attack\": 134, \"Defense\": 110, \"SpecialA\": 95, \"SpecialD\": 100, \"Speed\": 61, \"Generation\": 2, \"cluster\": 2}, {\"#\": 248, \"Name\": \"TyranitarMega Tyranitar\", \"Type 1\": \"Rock\", \"Type 2\": \"Dark\", \"Total\": 700, \"HP\": 100, \"Attack\": 164, \"Defense\": 150, \"SpecialA\": 95, \"SpecialD\": 120, \"Speed\": 71, \"Generation\": 2, \"cluster\": 2}, {\"#\": 251, \"Name\": \"Celebi\", \"Type 1\": \"Psychic\", \"Type 2\": \"Grass\", \"Total\": 600, \"HP\": 100, \"Attack\": 100, \"Defense\": 100, \"SpecialA\": 100, \"SpecialD\": 100, \"Speed\": 100, \"Generation\": 2, \"cluster\": 2}, {\"#\": 254, \"Name\": \"SceptileMega Sceptile\", \"Type 1\": \"Grass\", \"Type 2\": \"Dragon\", \"Total\": 630, \"HP\": 70, \"Attack\": 110, \"Defense\": 75, \"SpecialA\": 145, \"SpecialD\": 85, \"Speed\": 145, \"Generation\": 3, \"cluster\": 2}, {\"#\": 256, \"Name\": \"Combusken\", \"Type 1\": \"Fire\", \"Type 2\": \"Fighting\", \"Total\": 405, \"HP\": 60, \"Attack\": 85, \"Defense\": 60, \"SpecialA\": 85, \"SpecialD\": 60, \"Speed\": 55, \"Generation\": 3, \"cluster\": 0}, {\"#\": 257, \"Name\": \"Blaziken\", \"Type 1\": \"Fire\", \"Type 2\": \"Fighting\", \"Total\": 530, \"HP\": 80, \"Attack\": 120, \"Defense\": 70, \"SpecialA\": 110, \"SpecialD\": 70, \"Speed\": 80, \"Generation\": 3, \"cluster\": 3}, {\"#\": 257, \"Name\": \"BlazikenMega Blaziken\", \"Type 1\": \"Fire\", \"Type 2\": \"Fighting\", \"Total\": 630, \"HP\": 80, \"Attack\": 160, \"Defense\": 80, \"SpecialA\": 130, \"SpecialD\": 80, \"Speed\": 100, \"Generation\": 3, \"cluster\": 2}, {\"#\": 259, \"Name\": \"Marshtomp\", \"Type 1\": \"Water\", \"Type 2\": \"Ground\", \"Total\": 405, \"HP\": 70, \"Attack\": 85, \"Defense\": 70, \"SpecialA\": 60, \"SpecialD\": 70, \"Speed\": 50, \"Generation\": 3, \"cluster\": 0}, {\"#\": 260, \"Name\": \"Swampert\", \"Type 1\": \"Water\", \"Type 2\": \"Ground\", \"Total\": 535, \"HP\": 100, \"Attack\": 110, \"Defense\": 90, \"SpecialA\": 85, \"SpecialD\": 90, \"Speed\": 60, \"Generation\": 3, \"cluster\": 3}, {\"#\": 260, \"Name\": \"SwampertMega Swampert\", \"Type 1\": \"Water\", \"Type 2\": \"Ground\", \"Total\": 635, \"HP\": 100, \"Attack\": 150, \"Defense\": 110, \"SpecialA\": 95, \"SpecialD\": 110, \"Speed\": 70, \"Generation\": 3, \"cluster\": 2}, {\"#\": 267, \"Name\": \"Beautifly\", \"Type 1\": \"Bug\", \"Type 2\": \"Flying\", \"Total\": 395, \"HP\": 60, \"Attack\": 70, \"Defense\": 50, \"SpecialA\": 100, \"SpecialD\": 50, \"Speed\": 65, \"Generation\": 3, \"cluster\": 0}, {\"#\": 269, \"Name\": \"Dustox\", \"Type 1\": \"Bug\", \"Type 2\": \"Poison\", \"Total\": 385, \"HP\": 60, \"Attack\": 50, \"Defense\": 70, \"SpecialA\": 50, \"SpecialD\": 90, \"Speed\": 65, \"Generation\": 3, \"cluster\": 0}, {\"#\": 270, \"Name\": \"Lotad\", \"Type 1\": \"Water\", \"Type 2\": \"Grass\", \"Total\": 220, \"HP\": 40, \"Attack\": 30, \"Defense\": 30, \"SpecialA\": 40, \"SpecialD\": 50, \"Speed\": 30, \"Generation\": 3, \"cluster\": 1}, {\"#\": 271, \"Name\": \"Lombre\", \"Type 1\": \"Water\", \"Type 2\": \"Grass\", \"Total\": 340, \"HP\": 60, \"Attack\": 50, \"Defense\": 50, \"SpecialA\": 60, \"SpecialD\": 70, \"Speed\": 50, \"Generation\": 3, \"cluster\": 4}, {\"#\": 272, \"Name\": \"Ludicolo\", \"Type 1\": \"Water\", \"Type 2\": \"Grass\", \"Total\": 480, \"HP\": 80, \"Attack\": 70, \"Defense\": 70, \"SpecialA\": 90, \"SpecialD\": 100, \"Speed\": 70, \"Generation\": 3, \"cluster\": 5}, {\"#\": 274, \"Name\": \"Nuzleaf\", \"Type 1\": \"Grass\", \"Type 2\": \"Dark\", \"Total\": 340, \"HP\": 70, \"Attack\": 70, \"Defense\": 40, \"SpecialA\": 60, \"SpecialD\": 40, \"Speed\": 60, \"Generation\": 3, \"cluster\": 4}, {\"#\": 275, \"Name\": \"Shiftry\", \"Type 1\": \"Grass\", \"Type 2\": \"Dark\", \"Total\": 480, \"HP\": 90, \"Attack\": 100, \"Defense\": 60, \"SpecialA\": 90, \"SpecialD\": 60, \"Speed\": 80, \"Generation\": 3, \"cluster\": 5}, {\"#\": 276, \"Name\": \"Taillow\", \"Type 1\": \"Normal\", \"Type 2\": \"Flying\", \"Total\": 270, \"HP\": 40, \"Attack\": 55, \"Defense\": 30, \"SpecialA\": 30, \"SpecialD\": 30, \"Speed\": 85, \"Generation\": 3, \"cluster\": 1}, {\"#\": 277, \"Name\": \"Swellow\", \"Type 1\": \"Normal\", \"Type 2\": \"Flying\", \"Total\": 430, \"HP\": 60, \"Attack\": 85, \"Defense\": 60, \"SpecialA\": 50, \"SpecialD\": 50, \"Speed\": 125, \"Generation\": 3, \"cluster\": 0}, {\"#\": 278, \"Name\": \"Wingull\", \"Type 1\": \"Water\", \"Type 2\": \"Flying\", \"Total\": 270, \"HP\": 40, \"Attack\": 30, \"Defense\": 30, \"SpecialA\": 55, \"SpecialD\": 30, \"Speed\": 85, \"Generation\": 3, \"cluster\": 1}, {\"#\": 279, \"Name\": \"Pelipper\", \"Type 1\": \"Water\", \"Type 2\": \"Flying\", \"Total\": 430, \"HP\": 60, \"Attack\": 50, \"Defense\": 100, \"SpecialA\": 85, \"SpecialD\": 70, \"Speed\": 65, \"Generation\": 3, \"cluster\": 0}, {\"#\": 280, \"Name\": \"Ralts\", \"Type 1\": \"Psychic\", \"Type 2\": \"Fairy\", \"Total\": 198, \"HP\": 28, \"Attack\": 25, \"Defense\": 25, \"SpecialA\": 45, \"SpecialD\": 35, \"Speed\": 40, \"Generation\": 3, \"cluster\": 1}, {\"#\": 281, \"Name\": \"Kirlia\", \"Type 1\": \"Psychic\", \"Type 2\": \"Fairy\", \"Total\": 278, \"HP\": 38, \"Attack\": 35, \"Defense\": 35, \"SpecialA\": 65, \"SpecialD\": 55, \"Speed\": 50, \"Generation\": 3, \"cluster\": 1}, {\"#\": 282, \"Name\": \"Gardevoir\", \"Type 1\": \"Psychic\", \"Type 2\": \"Fairy\", \"Total\": 518, \"HP\": 68, \"Attack\": 65, \"Defense\": 65, \"SpecialA\": 125, \"SpecialD\": 115, \"Speed\": 80, \"Generation\": 3, \"cluster\": 3}, {\"#\": 282, \"Name\": \"GardevoirMega Gardevoir\", \"Type 1\": \"Psychic\", \"Type 2\": \"Fairy\", \"Total\": 618, \"HP\": 68, \"Attack\": 85, \"Defense\": 65, \"SpecialA\": 165, \"SpecialD\": 135, \"Speed\": 100, \"Generation\": 3, \"cluster\": 2}, {\"#\": 283, \"Name\": \"Surskit\", \"Type 1\": \"Bug\", \"Type 2\": \"Water\", \"Total\": 269, \"HP\": 40, \"Attack\": 30, \"Defense\": 32, \"SpecialA\": 50, \"SpecialD\": 52, \"Speed\": 65, \"Generation\": 3, \"cluster\": 1}, {\"#\": 284, \"Name\": \"Masquerain\", \"Type 1\": \"Bug\", \"Type 2\": \"Flying\", \"Total\": 414, \"HP\": 70, \"Attack\": 60, \"Defense\": 62, \"SpecialA\": 80, \"SpecialD\": 82, \"Speed\": 60, \"Generation\": 3, \"cluster\": 0}, {\"#\": 286, \"Name\": \"Breloom\", \"Type 1\": \"Grass\", \"Type 2\": \"Fighting\", \"Total\": 460, \"HP\": 60, \"Attack\": 130, \"Defense\": 80, \"SpecialA\": 60, \"SpecialD\": 60, \"Speed\": 70, \"Generation\": 3, \"cluster\": 5}, {\"#\": 290, \"Name\": \"Nincada\", \"Type 1\": \"Bug\", \"Type 2\": \"Ground\", \"Total\": 266, \"HP\": 31, \"Attack\": 45, \"Defense\": 90, \"SpecialA\": 30, \"SpecialD\": 30, \"Speed\": 40, \"Generation\": 3, \"cluster\": 1}, {\"#\": 291, \"Name\": \"Ninjask\", \"Type 1\": \"Bug\", \"Type 2\": \"Flying\", \"Total\": 456, \"HP\": 61, \"Attack\": 90, \"Defense\": 45, \"SpecialA\": 50, \"SpecialD\": 50, \"Speed\": 160, \"Generation\": 3, \"cluster\": 3}, {\"#\": 292, \"Name\": \"Shedinja\", \"Type 1\": \"Bug\", \"Type 2\": \"Ghost\", \"Total\": 236, \"HP\": 1, \"Attack\": 90, \"Defense\": 45, \"SpecialA\": 30, \"SpecialD\": 30, \"Speed\": 40, \"Generation\": 3, \"cluster\": 1}, {\"#\": 298, \"Name\": \"Azurill\", \"Type 1\": \"Normal\", \"Type 2\": \"Fairy\", \"Total\": 190, \"HP\": 50, \"Attack\": 20, \"Defense\": 40, \"SpecialA\": 20, \"SpecialD\": 40, \"Speed\": 20, \"Generation\": 3, \"cluster\": 1}, {\"#\": 302, \"Name\": \"Sableye\", \"Type 1\": \"Dark\", \"Type 2\": \"Ghost\", \"Total\": 380, \"HP\": 50, \"Attack\": 75, \"Defense\": 75, \"SpecialA\": 65, \"SpecialD\": 65, \"Speed\": 50, \"Generation\": 3, \"cluster\": 0}, {\"#\": 302, \"Name\": \"SableyeMega Sableye\", \"Type 1\": \"Dark\", \"Type 2\": \"Ghost\", \"Total\": 480, \"HP\": 50, \"Attack\": 85, \"Defense\": 125, \"SpecialA\": 85, \"SpecialD\": 115, \"Speed\": 20, \"Generation\": 3, \"cluster\": 5}, {\"#\": 303, \"Name\": \"Mawile\", \"Type 1\": \"Steel\", \"Type 2\": \"Fairy\", \"Total\": 380, \"HP\": 50, \"Attack\": 85, \"Defense\": 85, \"SpecialA\": 55, \"SpecialD\": 55, \"Speed\": 50, \"Generation\": 3, \"cluster\": 0}, {\"#\": 303, \"Name\": \"MawileMega Mawile\", \"Type 1\": \"Steel\", \"Type 2\": \"Fairy\", \"Total\": 480, \"HP\": 50, \"Attack\": 105, \"Defense\": 125, \"SpecialA\": 55, \"SpecialD\": 95, \"Speed\": 50, \"Generation\": 3, \"cluster\": 5}, {\"#\": 304, \"Name\": \"Aron\", \"Type 1\": \"Steel\", \"Type 2\": \"Rock\", \"Total\": 330, \"HP\": 50, \"Attack\": 70, \"Defense\": 100, \"SpecialA\": 40, \"SpecialD\": 40, \"Speed\": 30, \"Generation\": 3, \"cluster\": 4}, {\"#\": 305, \"Name\": \"Lairon\", \"Type 1\": \"Steel\", \"Type 2\": \"Rock\", \"Total\": 430, \"HP\": 60, \"Attack\": 90, \"Defense\": 140, \"SpecialA\": 50, \"SpecialD\": 50, \"Speed\": 40, \"Generation\": 3, \"cluster\": 0}, {\"#\": 306, \"Name\": \"Aggron\", \"Type 1\": \"Steel\", \"Type 2\": \"Rock\", \"Total\": 530, \"HP\": 70, \"Attack\": 110, \"Defense\": 180, \"SpecialA\": 60, \"SpecialD\": 60, \"Speed\": 50, \"Generation\": 3, \"cluster\": 3}, {\"#\": 307, \"Name\": \"Meditite\", \"Type 1\": \"Fighting\", \"Type 2\": \"Psychic\", \"Total\": 280, \"HP\": 30, \"Attack\": 40, \"Defense\": 55, \"SpecialA\": 40, \"SpecialD\": 55, \"Speed\": 60, \"Generation\": 3, \"cluster\": 1}, {\"#\": 308, \"Name\": \"Medicham\", \"Type 1\": \"Fighting\", \"Type 2\": \"Psychic\", \"Total\": 410, \"HP\": 60, \"Attack\": 60, \"Defense\": 75, \"SpecialA\": 60, \"SpecialD\": 75, \"Speed\": 80, \"Generation\": 3, \"cluster\": 0}, {\"#\": 308, \"Name\": \"MedichamMega Medicham\", \"Type 1\": \"Fighting\", \"Type 2\": \"Psychic\", \"Total\": 510, \"HP\": 60, \"Attack\": 100, \"Defense\": 85, \"SpecialA\": 80, \"SpecialD\": 85, \"Speed\": 100, \"Generation\": 3, \"cluster\": 3}, {\"#\": 315, \"Name\": \"Roselia\", \"Type 1\": \"Grass\", \"Type 2\": \"Poison\", \"Total\": 400, \"HP\": 50, \"Attack\": 60, \"Defense\": 45, \"SpecialA\": 100, \"SpecialD\": 80, \"Speed\": 65, \"Generation\": 3, \"cluster\": 0}, {\"#\": 318, \"Name\": \"Carvanha\", \"Type 1\": \"Water\", \"Type 2\": \"Dark\", \"Total\": 305, \"HP\": 45, \"Attack\": 90, \"Defense\": 20, \"SpecialA\": 65, \"SpecialD\": 20, \"Speed\": 65, \"Generation\": 3, \"cluster\": 4}, {\"#\": 319, \"Name\": \"Sharpedo\", \"Type 1\": \"Water\", \"Type 2\": \"Dark\", \"Total\": 460, \"HP\": 70, \"Attack\": 120, \"Defense\": 40, \"SpecialA\": 95, \"SpecialD\": 40, \"Speed\": 95, \"Generation\": 3, \"cluster\": 5}, {\"#\": 319, \"Name\": \"SharpedoMega Sharpedo\", \"Type 1\": \"Water\", \"Type 2\": \"Dark\", \"Total\": 560, \"HP\": 70, \"Attack\": 140, \"Defense\": 70, \"SpecialA\": 110, \"SpecialD\": 65, \"Speed\": 105, \"Generation\": 3, \"cluster\": 3}, {\"#\": 322, \"Name\": \"Numel\", \"Type 1\": \"Fire\", \"Type 2\": \"Ground\", \"Total\": 305, \"HP\": 60, \"Attack\": 60, \"Defense\": 40, \"SpecialA\": 65, \"SpecialD\": 45, \"Speed\": 35, \"Generation\": 3, \"cluster\": 4}, {\"#\": 323, \"Name\": \"Camerupt\", \"Type 1\": \"Fire\", \"Type 2\": \"Ground\", \"Total\": 460, \"HP\": 70, \"Attack\": 100, \"Defense\": 70, \"SpecialA\": 105, \"SpecialD\": 75, \"Speed\": 40, \"Generation\": 3, \"cluster\": 5}, {\"#\": 323, \"Name\": \"CameruptMega Camerupt\", \"Type 1\": \"Fire\", \"Type 2\": \"Ground\", \"Total\": 560, \"HP\": 70, \"Attack\": 120, \"Defense\": 100, \"SpecialA\": 145, \"SpecialD\": 105, \"Speed\": 20, \"Generation\": 3, \"cluster\": 3}, {\"#\": 329, \"Name\": \"Vibrava\", \"Type 1\": \"Ground\", \"Type 2\": \"Dragon\", \"Total\": 340, \"HP\": 50, \"Attack\": 70, \"Defense\": 50, \"SpecialA\": 50, \"SpecialD\": 50, \"Speed\": 70, \"Generation\": 3, \"cluster\": 4}, {\"#\": 330, \"Name\": \"Flygon\", \"Type 1\": \"Ground\", \"Type 2\": \"Dragon\", \"Total\": 520, \"HP\": 80, \"Attack\": 100, \"Defense\": 80, \"SpecialA\": 80, \"SpecialD\": 80, \"Speed\": 100, \"Generation\": 3, \"cluster\": 3}, {\"#\": 332, \"Name\": \"Cacturne\", \"Type 1\": \"Grass\", \"Type 2\": \"Dark\", \"Total\": 475, \"HP\": 70, \"Attack\": 115, \"Defense\": 60, \"SpecialA\": 115, \"SpecialD\": 60, \"Speed\": 55, \"Generation\": 3, \"cluster\": 5}, {\"#\": 333, \"Name\": \"Swablu\", \"Type 1\": \"Normal\", \"Type 2\": \"Flying\", \"Total\": 310, \"HP\": 45, \"Attack\": 40, \"Defense\": 60, \"SpecialA\": 40, \"SpecialD\": 75, \"Speed\": 50, \"Generation\": 3, \"cluster\": 4}, {\"#\": 334, \"Name\": \"Altaria\", \"Type 1\": \"Dragon\", \"Type 2\": \"Flying\", \"Total\": 490, \"HP\": 75, \"Attack\": 70, \"Defense\": 90, \"SpecialA\": 70, \"SpecialD\": 105, \"Speed\": 80, \"Generation\": 3, \"cluster\": 5}, {\"#\": 334, \"Name\": \"AltariaMega Altaria\", \"Type 1\": \"Dragon\", \"Type 2\": \"Fairy\", \"Total\": 590, \"HP\": 75, \"Attack\": 110, \"Defense\": 110, \"SpecialA\": 110, \"SpecialD\": 105, \"Speed\": 80, \"Generation\": 3, \"cluster\": 2}, {\"#\": 337, \"Name\": \"Lunatone\", \"Type 1\": \"Rock\", \"Type 2\": \"Psychic\", \"Total\": 440, \"HP\": 70, \"Attack\": 55, \"Defense\": 65, \"SpecialA\": 95, \"SpecialD\": 85, \"Speed\": 70, \"Generation\": 3, \"cluster\": 0}, {\"#\": 338, \"Name\": \"Solrock\", \"Type 1\": \"Rock\", \"Type 2\": \"Psychic\", \"Total\": 440, \"HP\": 70, \"Attack\": 95, \"Defense\": 85, \"SpecialA\": 55, \"SpecialD\": 65, \"Speed\": 70, \"Generation\": 3, \"cluster\": 0}, {\"#\": 339, \"Name\": \"Barboach\", \"Type 1\": \"Water\", \"Type 2\": \"Ground\", \"Total\": 288, \"HP\": 50, \"Attack\": 48, \"Defense\": 43, \"SpecialA\": 46, \"SpecialD\": 41, \"Speed\": 60, \"Generation\": 3, \"cluster\": 1}, {\"#\": 340, \"Name\": \"Whiscash\", \"Type 1\": \"Water\", \"Type 2\": \"Ground\", \"Total\": 468, \"HP\": 110, \"Attack\": 78, \"Defense\": 73, \"SpecialA\": 76, \"SpecialD\": 71, \"Speed\": 60, \"Generation\": 3, \"cluster\": 5}, {\"#\": 342, \"Name\": \"Crawdaunt\", \"Type 1\": \"Water\", \"Type 2\": \"Dark\", \"Total\": 468, \"HP\": 63, \"Attack\": 120, \"Defense\": 85, \"SpecialA\": 90, \"SpecialD\": 55, \"Speed\": 55, \"Generation\": 3, \"cluster\": 5}, {\"#\": 343, \"Name\": \"Baltoy\", \"Type 1\": \"Ground\", \"Type 2\": \"Psychic\", \"Total\": 300, \"HP\": 40, \"Attack\": 40, \"Defense\": 55, \"SpecialA\": 40, \"SpecialD\": 70, \"Speed\": 55, \"Generation\": 3, \"cluster\": 4}, {\"#\": 344, \"Name\": \"Claydol\", \"Type 1\": \"Ground\", \"Type 2\": \"Psychic\", \"Total\": 500, \"HP\": 60, \"Attack\": 70, \"Defense\": 105, \"SpecialA\": 70, \"SpecialD\": 120, \"Speed\": 75, \"Generation\": 3, \"cluster\": 3}, {\"#\": 345, \"Name\": \"Lileep\", \"Type 1\": \"Rock\", \"Type 2\": \"Grass\", \"Total\": 355, \"HP\": 66, \"Attack\": 41, \"Defense\": 77, \"SpecialA\": 61, \"SpecialD\": 87, \"Speed\": 23, \"Generation\": 3, \"cluster\": 4}, {\"#\": 346, \"Name\": \"Cradily\", \"Type 1\": \"Rock\", \"Type 2\": \"Grass\", \"Total\": 495, \"HP\": 86, \"Attack\": 81, \"Defense\": 97, \"SpecialA\": 81, \"SpecialD\": 107, \"Speed\": 43, \"Generation\": 3, \"cluster\": 5}, {\"#\": 347, \"Name\": \"Anorith\", \"Type 1\": \"Rock\", \"Type 2\": \"Bug\", \"Total\": 355, \"HP\": 45, \"Attack\": 95, \"Defense\": 50, \"SpecialA\": 40, \"SpecialD\": 50, \"Speed\": 75, \"Generation\": 3, \"cluster\": 4}, {\"#\": 348, \"Name\": \"Armaldo\", \"Type 1\": \"Rock\", \"Type 2\": \"Bug\", \"Total\": 495, \"HP\": 75, \"Attack\": 125, \"Defense\": 100, \"SpecialA\": 70, \"SpecialD\": 80, \"Speed\": 45, \"Generation\": 3, \"cluster\": 5}, {\"#\": 357, \"Name\": \"Tropius\", \"Type 1\": \"Grass\", \"Type 2\": \"Flying\", \"Total\": 460, \"HP\": 99, \"Attack\": 68, \"Defense\": 83, \"SpecialA\": 72, \"SpecialD\": 87, \"Speed\": 51, \"Generation\": 3, \"cluster\": 5}, {\"#\": 363, \"Name\": \"Spheal\", \"Type 1\": \"Ice\", \"Type 2\": \"Water\", \"Total\": 290, \"HP\": 70, \"Attack\": 40, \"Defense\": 50, \"SpecialA\": 55, \"SpecialD\": 50, \"Speed\": 25, \"Generation\": 3, \"cluster\": 1}, {\"#\": 364, \"Name\": \"Sealeo\", \"Type 1\": \"Ice\", \"Type 2\": \"Water\", \"Total\": 410, \"HP\": 90, \"Attack\": 60, \"Defense\": 70, \"SpecialA\": 75, \"SpecialD\": 70, \"Speed\": 45, \"Generation\": 3, \"cluster\": 0}, {\"#\": 365, \"Name\": \"Walrein\", \"Type 1\": \"Ice\", \"Type 2\": \"Water\", \"Total\": 530, \"HP\": 110, \"Attack\": 80, \"Defense\": 90, \"SpecialA\": 95, \"SpecialD\": 90, \"Speed\": 65, \"Generation\": 3, \"cluster\": 3}, {\"#\": 369, \"Name\": \"Relicanth\", \"Type 1\": \"Water\", \"Type 2\": \"Rock\", \"Total\": 485, \"HP\": 100, \"Attack\": 90, \"Defense\": 130, \"SpecialA\": 45, \"SpecialD\": 65, \"Speed\": 55, \"Generation\": 3, \"cluster\": 5}, {\"#\": 373, \"Name\": \"Salamence\", \"Type 1\": \"Dragon\", \"Type 2\": \"Flying\", \"Total\": 600, \"HP\": 95, \"Attack\": 135, \"Defense\": 80, \"SpecialA\": 110, \"SpecialD\": 80, \"Speed\": 100, \"Generation\": 3, \"cluster\": 2}, {\"#\": 373, \"Name\": \"SalamenceMega Salamence\", \"Type 1\": \"Dragon\", \"Type 2\": \"Flying\", \"Total\": 700, \"HP\": 95, \"Attack\": 145, \"Defense\": 130, \"SpecialA\": 120, \"SpecialD\": 90, \"Speed\": 120, \"Generation\": 3, \"cluster\": 2}, {\"#\": 374, \"Name\": \"Beldum\", \"Type 1\": \"Steel\", \"Type 2\": \"Psychic\", \"Total\": 300, \"HP\": 40, \"Attack\": 55, \"Defense\": 80, \"SpecialA\": 35, \"SpecialD\": 60, \"Speed\": 30, \"Generation\": 3, \"cluster\": 4}, {\"#\": 375, \"Name\": \"Metang\", \"Type 1\": \"Steel\", \"Type 2\": \"Psychic\", \"Total\": 420, \"HP\": 60, \"Attack\": 75, \"Defense\": 100, \"SpecialA\": 55, \"SpecialD\": 80, \"Speed\": 50, \"Generation\": 3, \"cluster\": 0}, {\"#\": 376, \"Name\": \"Metagross\", \"Type 1\": \"Steel\", \"Type 2\": \"Psychic\", \"Total\": 600, \"HP\": 80, \"Attack\": 135, \"Defense\": 130, \"SpecialA\": 95, \"SpecialD\": 90, \"Speed\": 70, \"Generation\": 3, \"cluster\": 2}, {\"#\": 376, \"Name\": \"MetagrossMega Metagross\", \"Type 1\": \"Steel\", \"Type 2\": \"Psychic\", \"Total\": 700, \"HP\": 80, \"Attack\": 145, \"Defense\": 150, \"SpecialA\": 105, \"SpecialD\": 110, \"Speed\": 110, \"Generation\": 3, \"cluster\": 2}, {\"#\": 389, \"Name\": \"Torterra\", \"Type 1\": \"Grass\", \"Type 2\": \"Ground\", \"Total\": 525, \"HP\": 95, \"Attack\": 109, \"Defense\": 105, \"SpecialA\": 75, \"SpecialD\": 85, \"Speed\": 56, \"Generation\": 4, \"cluster\": 3}, {\"#\": 391, \"Name\": \"Monferno\", \"Type 1\": \"Fire\", \"Type 2\": \"Fighting\", \"Total\": 405, \"HP\": 64, \"Attack\": 78, \"Defense\": 52, \"SpecialA\": 78, \"SpecialD\": 52, \"Speed\": 81, \"Generation\": 4, \"cluster\": 0}, {\"#\": 392, \"Name\": \"Infernape\", \"Type 1\": \"Fire\", \"Type 2\": \"Fighting\", \"Total\": 534, \"HP\": 76, \"Attack\": 104, \"Defense\": 71, \"SpecialA\": 104, \"SpecialD\": 71, \"Speed\": 108, \"Generation\": 4, \"cluster\": 3}, {\"#\": 395, \"Name\": \"Empoleon\", \"Type 1\": \"Water\", \"Type 2\": \"Steel\", \"Total\": 530, \"HP\": 84, \"Attack\": 86, \"Defense\": 88, \"SpecialA\": 111, \"SpecialD\": 101, \"Speed\": 60, \"Generation\": 4, \"cluster\": 3}, {\"#\": 396, \"Name\": \"Starly\", \"Type 1\": \"Normal\", \"Type 2\": \"Flying\", \"Total\": 245, \"HP\": 40, \"Attack\": 55, \"Defense\": 30, \"SpecialA\": 30, \"SpecialD\": 30, \"Speed\": 60, \"Generation\": 4, \"cluster\": 1}, {\"#\": 397, \"Name\": \"Staravia\", \"Type 1\": \"Normal\", \"Type 2\": \"Flying\", \"Total\": 340, \"HP\": 55, \"Attack\": 75, \"Defense\": 50, \"SpecialA\": 40, \"SpecialD\": 40, \"Speed\": 80, \"Generation\": 4, \"cluster\": 4}, {\"#\": 398, \"Name\": \"Staraptor\", \"Type 1\": \"Normal\", \"Type 2\": \"Flying\", \"Total\": 485, \"HP\": 85, \"Attack\": 120, \"Defense\": 70, \"SpecialA\": 50, \"SpecialD\": 60, \"Speed\": 100, \"Generation\": 4, \"cluster\": 3}, {\"#\": 400, \"Name\": \"Bibarel\", \"Type 1\": \"Normal\", \"Type 2\": \"Water\", \"Total\": 410, \"HP\": 79, \"Attack\": 85, \"Defense\": 60, \"SpecialA\": 55, \"SpecialD\": 60, \"Speed\": 71, \"Generation\": 4, \"cluster\": 0}, {\"#\": 406, \"Name\": \"Budew\", \"Type 1\": \"Grass\", \"Type 2\": \"Poison\", \"Total\": 280, \"HP\": 40, \"Attack\": 30, \"Defense\": 35, \"SpecialA\": 50, \"SpecialD\": 70, \"Speed\": 55, \"Generation\": 4, \"cluster\": 1}, {\"#\": 407, \"Name\": \"Roserade\", \"Type 1\": \"Grass\", \"Type 2\": \"Poison\", \"Total\": 515, \"HP\": 60, \"Attack\": 70, \"Defense\": 65, \"SpecialA\": 125, \"SpecialD\": 105, \"Speed\": 90, \"Generation\": 4, \"cluster\": 3}, {\"#\": 410, \"Name\": \"Shieldon\", \"Type 1\": \"Rock\", \"Type 2\": \"Steel\", \"Total\": 350, \"HP\": 30, \"Attack\": 42, \"Defense\": 118, \"SpecialA\": 42, \"SpecialD\": 88, \"Speed\": 30, \"Generation\": 4, \"cluster\": 4}, {\"#\": 411, \"Name\": \"Bastiodon\", \"Type 1\": \"Rock\", \"Type 2\": \"Steel\", \"Total\": 495, \"HP\": 60, \"Attack\": 52, \"Defense\": 168, \"SpecialA\": 47, \"SpecialD\": 138, \"Speed\": 30, \"Generation\": 4, \"cluster\": 5}, {\"#\": 413, \"Name\": \"WormadamPlant Cloak\", \"Type 1\": \"Bug\", \"Type 2\": \"Grass\", \"Total\": 424, \"HP\": 60, \"Attack\": 59, \"Defense\": 85, \"SpecialA\": 79, \"SpecialD\": 105, \"Speed\": 36, \"Generation\": 4, \"cluster\": 0}, {\"#\": 413, \"Name\": \"WormadamSandy Cloak\", \"Type 1\": \"Bug\", \"Type 2\": \"Ground\", \"Total\": 424, \"HP\": 60, \"Attack\": 79, \"Defense\": 105, \"SpecialA\": 59, \"SpecialD\": 85, \"Speed\": 36, \"Generation\": 4, \"cluster\": 0}, {\"#\": 413, \"Name\": \"WormadamTrash Cloak\", \"Type 1\": \"Bug\", \"Type 2\": \"Steel\", \"Total\": 424, \"HP\": 60, \"Attack\": 69, \"Defense\": 95, \"SpecialA\": 69, \"SpecialD\": 95, \"Speed\": 36, \"Generation\": 4, \"cluster\": 0}, {\"#\": 414, \"Name\": \"Mothim\", \"Type 1\": \"Bug\", \"Type 2\": \"Flying\", \"Total\": 424, \"HP\": 70, \"Attack\": 94, \"Defense\": 50, \"SpecialA\": 94, \"SpecialD\": 50, \"Speed\": 66, \"Generation\": 4, \"cluster\": 0}, {\"#\": 415, \"Name\": \"Combee\", \"Type 1\": \"Bug\", \"Type 2\": \"Flying\", \"Total\": 244, \"HP\": 30, \"Attack\": 30, \"Defense\": 42, \"SpecialA\": 30, \"SpecialD\": 42, \"Speed\": 70, \"Generation\": 4, \"cluster\": 1}, {\"#\": 416, \"Name\": \"Vespiquen\", \"Type 1\": \"Bug\", \"Type 2\": \"Flying\", \"Total\": 474, \"HP\": 70, \"Attack\": 80, \"Defense\": 102, \"SpecialA\": 80, \"SpecialD\": 102, \"Speed\": 40, \"Generation\": 4, \"cluster\": 5}, {\"#\": 423, \"Name\": \"Gastrodon\", \"Type 1\": \"Water\", \"Type 2\": \"Ground\", \"Total\": 475, \"HP\": 111, \"Attack\": 83, \"Defense\": 68, \"SpecialA\": 92, \"SpecialD\": 82, \"Speed\": 39, \"Generation\": 4, \"cluster\": 5}, {\"#\": 425, \"Name\": \"Drifloon\", \"Type 1\": \"Ghost\", \"Type 2\": \"Flying\", \"Total\": 348, \"HP\": 90, \"Attack\": 50, \"Defense\": 34, \"SpecialA\": 60, \"SpecialD\": 44, \"Speed\": 70, \"Generation\": 4, \"cluster\": 4}, {\"#\": 426, \"Name\": \"Drifblim\", \"Type 1\": \"Ghost\", \"Type 2\": \"Flying\", \"Total\": 498, \"HP\": 150, \"Attack\": 80, \"Defense\": 44, \"SpecialA\": 90, \"SpecialD\": 54, \"Speed\": 80, \"Generation\": 4, \"cluster\": 3}, {\"#\": 428, \"Name\": \"LopunnyMega Lopunny\", \"Type 1\": \"Normal\", \"Type 2\": \"Fighting\", \"Total\": 580, \"HP\": 65, \"Attack\": 136, \"Defense\": 94, \"SpecialA\": 54, \"SpecialD\": 96, \"Speed\": 135, \"Generation\": 4, \"cluster\": 2}, {\"#\": 430, \"Name\": \"Honchkrow\", \"Type 1\": \"Dark\", \"Type 2\": \"Flying\", \"Total\": 505, \"HP\": 100, \"Attack\": 125, \"Defense\": 52, \"SpecialA\": 105, \"SpecialD\": 52, \"Speed\": 71, \"Generation\": 4, \"cluster\": 3}, {\"#\": 434, \"Name\": \"Stunky\", \"Type 1\": \"Poison\", \"Type 2\": \"Dark\", \"Total\": 329, \"HP\": 63, \"Attack\": 63, \"Defense\": 47, \"SpecialA\": 41, \"SpecialD\": 41, \"Speed\": 74, \"Generation\": 4, \"cluster\": 4}, {\"#\": 435, \"Name\": \"Skuntank\", \"Type 1\": \"Poison\", \"Type 2\": \"Dark\", \"Total\": 479, \"HP\": 103, \"Attack\": 93, \"Defense\": 67, \"SpecialA\": 71, \"SpecialD\": 61, \"Speed\": 84, \"Generation\": 4, \"cluster\": 5}, {\"#\": 436, \"Name\": \"Bronzor\", \"Type 1\": \"Steel\", \"Type 2\": \"Psychic\", \"Total\": 300, \"HP\": 57, \"Attack\": 24, \"Defense\": 86, \"SpecialA\": 24, \"SpecialD\": 86, \"Speed\": 23, \"Generation\": 4, \"cluster\": 4}, {\"#\": 437, \"Name\": \"Bronzong\", \"Type 1\": \"Steel\", \"Type 2\": \"Psychic\", \"Total\": 500, \"HP\": 67, \"Attack\": 89, \"Defense\": 116, \"SpecialA\": 79, \"SpecialD\": 116, \"Speed\": 33, \"Generation\": 4, \"cluster\": 5}, {\"#\": 439, \"Name\": \"Mime Jr.\", \"Type 1\": \"Psychic\", \"Type 2\": \"Fairy\", \"Total\": 310, \"HP\": 20, \"Attack\": 25, \"Defense\": 45, \"SpecialA\": 70, \"SpecialD\": 90, \"Speed\": 60, \"Generation\": 4, \"cluster\": 4}, {\"#\": 441, \"Name\": \"Chatot\", \"Type 1\": \"Normal\", \"Type 2\": \"Flying\", \"Total\": 411, \"HP\": 76, \"Attack\": 65, \"Defense\": 45, \"SpecialA\": 92, \"SpecialD\": 42, \"Speed\": 91, \"Generation\": 4, \"cluster\": 0}, {\"#\": 442, \"Name\": \"Spiritomb\", \"Type 1\": \"Ghost\", \"Type 2\": \"Dark\", \"Total\": 485, \"HP\": 50, \"Attack\": 92, \"Defense\": 108, \"SpecialA\": 92, \"SpecialD\": 108, \"Speed\": 35, \"Generation\": 4, \"cluster\": 5}, {\"#\": 443, \"Name\": \"Gible\", \"Type 1\": \"Dragon\", \"Type 2\": \"Ground\", \"Total\": 300, \"HP\": 58, \"Attack\": 70, \"Defense\": 45, \"SpecialA\": 40, \"SpecialD\": 45, \"Speed\": 42, \"Generation\": 4, \"cluster\": 4}, {\"#\": 444, \"Name\": \"Gabite\", \"Type 1\": \"Dragon\", \"Type 2\": \"Ground\", \"Total\": 410, \"HP\": 68, \"Attack\": 90, \"Defense\": 65, \"SpecialA\": 50, \"SpecialD\": 55, \"Speed\": 82, \"Generation\": 4, \"cluster\": 0}, {\"#\": 445, \"Name\": \"Garchomp\", \"Type 1\": \"Dragon\", \"Type 2\": \"Ground\", \"Total\": 600, \"HP\": 108, \"Attack\": 130, \"Defense\": 95, \"SpecialA\": 80, \"SpecialD\": 85, \"Speed\": 102, \"Generation\": 4, \"cluster\": 2}, {\"#\": 445, \"Name\": \"GarchompMega Garchomp\", \"Type 1\": \"Dragon\", \"Type 2\": \"Ground\", \"Total\": 700, \"HP\": 108, \"Attack\": 170, \"Defense\": 115, \"SpecialA\": 120, \"SpecialD\": 95, \"Speed\": 92, \"Generation\": 4, \"cluster\": 2}, {\"#\": 448, \"Name\": \"Lucario\", \"Type 1\": \"Fighting\", \"Type 2\": \"Steel\", \"Total\": 525, \"HP\": 70, \"Attack\": 110, \"Defense\": 70, \"SpecialA\": 115, \"SpecialD\": 70, \"Speed\": 90, \"Generation\": 4, \"cluster\": 3}, {\"#\": 448, \"Name\": \"LucarioMega Lucario\", \"Type 1\": \"Fighting\", \"Type 2\": \"Steel\", \"Total\": 625, \"HP\": 70, \"Attack\": 145, \"Defense\": 88, \"SpecialA\": 140, \"SpecialD\": 70, \"Speed\": 112, \"Generation\": 4, \"cluster\": 2}, {\"#\": 451, \"Name\": \"Skorupi\", \"Type 1\": \"Poison\", \"Type 2\": \"Bug\", \"Total\": 330, \"HP\": 40, \"Attack\": 50, \"Defense\": 90, \"SpecialA\": 30, \"SpecialD\": 55, \"Speed\": 65, \"Generation\": 4, \"cluster\": 4}, {\"#\": 452, \"Name\": \"Drapion\", \"Type 1\": \"Poison\", \"Type 2\": \"Dark\", \"Total\": 500, \"HP\": 70, \"Attack\": 90, \"Defense\": 110, \"SpecialA\": 60, \"SpecialD\": 75, \"Speed\": 95, \"Generation\": 4, \"cluster\": 3}, {\"#\": 453, \"Name\": \"Croagunk\", \"Type 1\": \"Poison\", \"Type 2\": \"Fighting\", \"Total\": 300, \"HP\": 48, \"Attack\": 61, \"Defense\": 40, \"SpecialA\": 61, \"SpecialD\": 40, \"Speed\": 50, \"Generation\": 4, \"cluster\": 4}, {\"#\": 454, \"Name\": \"Toxicroak\", \"Type 1\": \"Poison\", \"Type 2\": \"Fighting\", \"Total\": 490, \"HP\": 83, \"Attack\": 106, \"Defense\": 65, \"SpecialA\": 86, \"SpecialD\": 65, \"Speed\": 85, \"Generation\": 4, \"cluster\": 3}, {\"#\": 458, \"Name\": \"Mantyke\", \"Type 1\": \"Water\", \"Type 2\": \"Flying\", \"Total\": 345, \"HP\": 45, \"Attack\": 20, \"Defense\": 50, \"SpecialA\": 60, \"SpecialD\": 120, \"Speed\": 50, \"Generation\": 4, \"cluster\": 4}, {\"#\": 459, \"Name\": \"Snover\", \"Type 1\": \"Grass\", \"Type 2\": \"Ice\", \"Total\": 334, \"HP\": 60, \"Attack\": 62, \"Defense\": 50, \"SpecialA\": 62, \"SpecialD\": 60, \"Speed\": 40, \"Generation\": 4, \"cluster\": 4}, {\"#\": 460, \"Name\": \"Abomasnow\", \"Type 1\": \"Grass\", \"Type 2\": \"Ice\", \"Total\": 494, \"HP\": 90, \"Attack\": 92, \"Defense\": 75, \"SpecialA\": 92, \"SpecialD\": 85, \"Speed\": 60, \"Generation\": 4, \"cluster\": 5}, {\"#\": 460, \"Name\": \"AbomasnowMega Abomasnow\", \"Type 1\": \"Grass\", \"Type 2\": \"Ice\", \"Total\": 594, \"HP\": 90, \"Attack\": 132, \"Defense\": 105, \"SpecialA\": 132, \"SpecialD\": 105, \"Speed\": 30, \"Generation\": 4, \"cluster\": 2}, {\"#\": 461, \"Name\": \"Weavile\", \"Type 1\": \"Dark\", \"Type 2\": \"Ice\", \"Total\": 510, \"HP\": 70, \"Attack\": 120, \"Defense\": 65, \"SpecialA\": 45, \"SpecialD\": 85, \"Speed\": 125, \"Generation\": 4, \"cluster\": 3}, {\"#\": 462, \"Name\": \"Magnezone\", \"Type 1\": \"Electric\", \"Type 2\": \"Steel\", \"Total\": 535, \"HP\": 70, \"Attack\": 70, \"Defense\": 115, \"SpecialA\": 130, \"SpecialD\": 90, \"Speed\": 60, \"Generation\": 4, \"cluster\": 3}, {\"#\": 464, \"Name\": \"Rhyperior\", \"Type 1\": \"Ground\", \"Type 2\": \"Rock\", \"Total\": 535, \"HP\": 115, \"Attack\": 140, \"Defense\": 130, \"SpecialA\": 55, \"SpecialD\": 55, \"Speed\": 40, \"Generation\": 4, \"cluster\": 3}, {\"#\": 468, \"Name\": \"Togekiss\", \"Type 1\": \"Fairy\", \"Type 2\": \"Flying\", \"Total\": 545, \"HP\": 85, \"Attack\": 50, \"Defense\": 95, \"SpecialA\": 120, \"SpecialD\": 115, \"Speed\": 80, \"Generation\": 4, \"cluster\": 3}, {\"#\": 469, \"Name\": \"Yanmega\", \"Type 1\": \"Bug\", \"Type 2\": \"Flying\", \"Total\": 515, \"HP\": 86, \"Attack\": 76, \"Defense\": 86, \"SpecialA\": 116, \"SpecialD\": 56, \"Speed\": 95, \"Generation\": 4, \"cluster\": 3}, {\"#\": 472, \"Name\": \"Gliscor\", \"Type 1\": \"Ground\", \"Type 2\": \"Flying\", \"Total\": 510, \"HP\": 75, \"Attack\": 95, \"Defense\": 125, \"SpecialA\": 45, \"SpecialD\": 75, \"Speed\": 95, \"Generation\": 4, \"cluster\": 3}, {\"#\": 473, \"Name\": \"Mamoswine\", \"Type 1\": \"Ice\", \"Type 2\": \"Ground\", \"Total\": 530, \"HP\": 110, \"Attack\": 130, \"Defense\": 80, \"SpecialA\": 70, \"SpecialD\": 60, \"Speed\": 80, \"Generation\": 4, \"cluster\": 3}, {\"#\": 475, \"Name\": \"Gallade\", \"Type 1\": \"Psychic\", \"Type 2\": \"Fighting\", \"Total\": 518, \"HP\": 68, \"Attack\": 125, \"Defense\": 65, \"SpecialA\": 65, \"SpecialD\": 115, \"Speed\": 80, \"Generation\": 4, \"cluster\": 3}, {\"#\": 475, \"Name\": \"GalladeMega Gallade\", \"Type 1\": \"Psychic\", \"Type 2\": \"Fighting\", \"Total\": 618, \"HP\": 68, \"Attack\": 165, \"Defense\": 95, \"SpecialA\": 65, \"SpecialD\": 115, \"Speed\": 110, \"Generation\": 4, \"cluster\": 2}, {\"#\": 476, \"Name\": \"Probopass\", \"Type 1\": \"Rock\", \"Type 2\": \"Steel\", \"Total\": 525, \"HP\": 60, \"Attack\": 55, \"Defense\": 145, \"SpecialA\": 75, \"SpecialD\": 150, \"Speed\": 40, \"Generation\": 4, \"cluster\": 3}, {\"#\": 478, \"Name\": \"Froslass\", \"Type 1\": \"Ice\", \"Type 2\": \"Ghost\", \"Total\": 480, \"HP\": 70, \"Attack\": 80, \"Defense\": 70, \"SpecialA\": 80, \"SpecialD\": 70, \"Speed\": 110, \"Generation\": 4, \"cluster\": 3}, {\"#\": 479, \"Name\": \"Rotom\", \"Type 1\": \"Electric\", \"Type 2\": \"Ghost\", \"Total\": 440, \"HP\": 50, \"Attack\": 50, \"Defense\": 77, \"SpecialA\": 95, \"SpecialD\": 77, \"Speed\": 91, \"Generation\": 4, \"cluster\": 0}, {\"#\": 479, \"Name\": \"RotomHeat Rotom\", \"Type 1\": \"Electric\", \"Type 2\": \"Fire\", \"Total\": 520, \"HP\": 50, \"Attack\": 65, \"Defense\": 107, \"SpecialA\": 105, \"SpecialD\": 107, \"Speed\": 86, \"Generation\": 4, \"cluster\": 3}, {\"#\": 479, \"Name\": \"RotomWash Rotom\", \"Type 1\": \"Electric\", \"Type 2\": \"Water\", \"Total\": 520, \"HP\": 50, \"Attack\": 65, \"Defense\": 107, \"SpecialA\": 105, \"SpecialD\": 107, \"Speed\": 86, \"Generation\": 4, \"cluster\": 3}, {\"#\": 479, \"Name\": \"RotomFrost Rotom\", \"Type 1\": \"Electric\", \"Type 2\": \"Ice\", \"Total\": 520, \"HP\": 50, \"Attack\": 65, \"Defense\": 107, \"SpecialA\": 105, \"SpecialD\": 107, \"Speed\": 86, \"Generation\": 4, \"cluster\": 3}, {\"#\": 479, \"Name\": \"RotomFan Rotom\", \"Type 1\": \"Electric\", \"Type 2\": \"Flying\", \"Total\": 520, \"HP\": 50, \"Attack\": 65, \"Defense\": 107, \"SpecialA\": 105, \"SpecialD\": 107, \"Speed\": 86, \"Generation\": 4, \"cluster\": 3}, {\"#\": 479, \"Name\": \"RotomMow Rotom\", \"Type 1\": \"Electric\", \"Type 2\": \"Grass\", \"Total\": 520, \"HP\": 50, \"Attack\": 65, \"Defense\": 107, \"SpecialA\": 105, \"SpecialD\": 107, \"Speed\": 86, \"Generation\": 4, \"cluster\": 3}, {\"#\": 499, \"Name\": \"Pignite\", \"Type 1\": \"Fire\", \"Type 2\": \"Fighting\", \"Total\": 418, \"HP\": 90, \"Attack\": 93, \"Defense\": 55, \"SpecialA\": 70, \"SpecialD\": 55, \"Speed\": 55, \"Generation\": 5, \"cluster\": 0}, {\"#\": 500, \"Name\": \"Emboar\", \"Type 1\": \"Fire\", \"Type 2\": \"Fighting\", \"Total\": 528, \"HP\": 110, \"Attack\": 123, \"Defense\": 65, \"SpecialA\": 100, \"SpecialD\": 65, \"Speed\": 65, \"Generation\": 5, \"cluster\": 3}, {\"#\": 519, \"Name\": \"Pidove\", \"Type 1\": \"Normal\", \"Type 2\": \"Flying\", \"Total\": 264, \"HP\": 50, \"Attack\": 55, \"Defense\": 50, \"SpecialA\": 36, \"SpecialD\": 30, \"Speed\": 43, \"Generation\": 5, \"cluster\": 1}, {\"#\": 520, \"Name\": \"Tranquill\", \"Type 1\": \"Normal\", \"Type 2\": \"Flying\", \"Total\": 358, \"HP\": 62, \"Attack\": 77, \"Defense\": 62, \"SpecialA\": 50, \"SpecialD\": 42, \"Speed\": 65, \"Generation\": 5, \"cluster\": 4}, {\"#\": 521, \"Name\": \"Unfezant\", \"Type 1\": \"Normal\", \"Type 2\": \"Flying\", \"Total\": 488, \"HP\": 80, \"Attack\": 115, \"Defense\": 80, \"SpecialA\": 65, \"SpecialD\": 55, \"Speed\": 93, \"Generation\": 5, \"cluster\": 3}, {\"#\": 527, \"Name\": \"Woobat\", \"Type 1\": \"Psychic\", \"Type 2\": \"Flying\", \"Total\": 313, \"HP\": 55, \"Attack\": 45, \"Defense\": 43, \"SpecialA\": 55, \"SpecialD\": 43, \"Speed\": 72, \"Generation\": 5, \"cluster\": 4}, {\"#\": 528, \"Name\": \"Swoobat\", \"Type 1\": \"Psychic\", \"Type 2\": \"Flying\", \"Total\": 425, \"HP\": 67, \"Attack\": 57, \"Defense\": 55, \"SpecialA\": 77, \"SpecialD\": 55, \"Speed\": 114, \"Generation\": 5, \"cluster\": 0}, {\"#\": 530, \"Name\": \"Excadrill\", \"Type 1\": \"Ground\", \"Type 2\": \"Steel\", \"Total\": 508, \"HP\": 110, \"Attack\": 135, \"Defense\": 60, \"SpecialA\": 50, \"SpecialD\": 65, \"Speed\": 88, \"Generation\": 5, \"cluster\": 3}, {\"#\": 531, \"Name\": \"AudinoMega Audino\", \"Type 1\": \"Normal\", \"Type 2\": \"Fairy\", \"Total\": 545, \"HP\": 103, \"Attack\": 60, \"Defense\": 126, \"SpecialA\": 80, \"SpecialD\": 126, \"Speed\": 50, \"Generation\": 5, \"cluster\": 3}, {\"#\": 536, \"Name\": \"Palpitoad\", \"Type 1\": \"Water\", \"Type 2\": \"Ground\", \"Total\": 384, \"HP\": 75, \"Attack\": 65, \"Defense\": 55, \"SpecialA\": 65, \"SpecialD\": 55, \"Speed\": 69, \"Generation\": 5, \"cluster\": 0}, {\"#\": 537, \"Name\": \"Seismitoad\", \"Type 1\": \"Water\", \"Type 2\": \"Ground\", \"Total\": 509, \"HP\": 105, \"Attack\": 95, \"Defense\": 75, \"SpecialA\": 85, \"SpecialD\": 75, \"Speed\": 74, \"Generation\": 5, \"cluster\": 3}, {\"#\": 540, \"Name\": \"Sewaddle\", \"Type 1\": \"Bug\", \"Type 2\": \"Grass\", \"Total\": 310, \"HP\": 45, \"Attack\": 53, \"Defense\": 70, \"SpecialA\": 40, \"SpecialD\": 60, \"Speed\": 42, \"Generation\": 5, \"cluster\": 4}, {\"#\": 541, \"Name\": \"Swadloon\", \"Type 1\": \"Bug\", \"Type 2\": \"Grass\", \"Total\": 380, \"HP\": 55, \"Attack\": 63, \"Defense\": 90, \"SpecialA\": 50, \"SpecialD\": 80, \"Speed\": 42, \"Generation\": 5, \"cluster\": 0}, {\"#\": 542, \"Name\": \"Leavanny\", \"Type 1\": \"Bug\", \"Type 2\": \"Grass\", \"Total\": 500, \"HP\": 75, \"Attack\": 103, \"Defense\": 80, \"SpecialA\": 70, \"SpecialD\": 80, \"Speed\": 92, \"Generation\": 5, \"cluster\": 3}, {\"#\": 543, \"Name\": \"Venipede\", \"Type 1\": \"Bug\", \"Type 2\": \"Poison\", \"Total\": 260, \"HP\": 30, \"Attack\": 45, \"Defense\": 59, \"SpecialA\": 30, \"SpecialD\": 39, \"Speed\": 57, \"Generation\": 5, \"cluster\": 1}, {\"#\": 544, \"Name\": \"Whirlipede\", \"Type 1\": \"Bug\", \"Type 2\": \"Poison\", \"Total\": 360, \"HP\": 40, \"Attack\": 55, \"Defense\": 99, \"SpecialA\": 40, \"SpecialD\": 79, \"Speed\": 47, \"Generation\": 5, \"cluster\": 4}, {\"#\": 545, \"Name\": \"Scolipede\", \"Type 1\": \"Bug\", \"Type 2\": \"Poison\", \"Total\": 485, \"HP\": 60, \"Attack\": 100, \"Defense\": 89, \"SpecialA\": 55, \"SpecialD\": 69, \"Speed\": 112, \"Generation\": 5, \"cluster\": 3}, {\"#\": 546, \"Name\": \"Cottonee\", \"Type 1\": \"Grass\", \"Type 2\": \"Fairy\", \"Total\": 280, \"HP\": 40, \"Attack\": 27, \"Defense\": 60, \"SpecialA\": 37, \"SpecialD\": 50, \"Speed\": 66, \"Generation\": 5, \"cluster\": 1}, {\"#\": 547, \"Name\": \"Whimsicott\", \"Type 1\": \"Grass\", \"Type 2\": \"Fairy\", \"Total\": 480, \"HP\": 60, \"Attack\": 67, \"Defense\": 85, \"SpecialA\": 77, \"SpecialD\": 75, \"Speed\": 116, \"Generation\": 5, \"cluster\": 3}, {\"#\": 551, \"Name\": \"Sandile\", \"Type 1\": \"Ground\", \"Type 2\": \"Dark\", \"Total\": 292, \"HP\": 50, \"Attack\": 72, \"Defense\": 35, \"SpecialA\": 35, \"SpecialD\": 35, \"Speed\": 65, \"Generation\": 5, \"cluster\": 4}, {\"#\": 552, \"Name\": \"Krokorok\", \"Type 1\": \"Ground\", \"Type 2\": \"Dark\", \"Total\": 351, \"HP\": 60, \"Attack\": 82, \"Defense\": 45, \"SpecialA\": 45, \"SpecialD\": 45, \"Speed\": 74, \"Generation\": 5, \"cluster\": 4}, {\"#\": 553, \"Name\": \"Krookodile\", \"Type 1\": \"Ground\", \"Type 2\": \"Dark\", \"Total\": 519, \"HP\": 95, \"Attack\": 117, \"Defense\": 80, \"SpecialA\": 65, \"SpecialD\": 70, \"Speed\": 92, \"Generation\": 5, \"cluster\": 3}, {\"#\": 555, \"Name\": \"DarmanitanZen Mode\", \"Type 1\": \"Fire\", \"Type 2\": \"Psychic\", \"Total\": 540, \"HP\": 105, \"Attack\": 30, \"Defense\": 105, \"SpecialA\": 140, \"SpecialD\": 105, \"Speed\": 55, \"Generation\": 5, \"cluster\": 3}, {\"#\": 557, \"Name\": \"Dwebble\", \"Type 1\": \"Bug\", \"Type 2\": \"Rock\", \"Total\": 325, \"HP\": 50, \"Attack\": 65, \"Defense\": 85, \"SpecialA\": 35, \"SpecialD\": 35, \"Speed\": 55, \"Generation\": 5, \"cluster\": 4}, {\"#\": 558, \"Name\": \"Crustle\", \"Type 1\": \"Bug\", \"Type 2\": \"Rock\", \"Total\": 475, \"HP\": 70, \"Attack\": 95, \"Defense\": 125, \"SpecialA\": 65, \"SpecialD\": 75, \"Speed\": 45, \"Generation\": 5, \"cluster\": 5}, {\"#\": 559, \"Name\": \"Scraggy\", \"Type 1\": \"Dark\", \"Type 2\": \"Fighting\", \"Total\": 348, \"HP\": 50, \"Attack\": 75, \"Defense\": 70, \"SpecialA\": 35, \"SpecialD\": 70, \"Speed\": 48, \"Generation\": 5, \"cluster\": 4}, {\"#\": 560, \"Name\": \"Scrafty\", \"Type 1\": \"Dark\", \"Type 2\": \"Fighting\", \"Total\": 488, \"HP\": 65, \"Attack\": 90, \"Defense\": 115, \"SpecialA\": 45, \"SpecialD\": 115, \"Speed\": 58, \"Generation\": 5, \"cluster\": 5}, {\"#\": 561, \"Name\": \"Sigilyph\", \"Type 1\": \"Psychic\", \"Type 2\": \"Flying\", \"Total\": 490, \"HP\": 72, \"Attack\": 58, \"Defense\": 80, \"SpecialA\": 103, \"SpecialD\": 80, \"Speed\": 97, \"Generation\": 5, \"cluster\": 3}, {\"#\": 564, \"Name\": \"Tirtouga\", \"Type 1\": \"Water\", \"Type 2\": \"Rock\", \"Total\": 355, \"HP\": 54, \"Attack\": 78, \"Defense\": 103, \"SpecialA\": 53, \"SpecialD\": 45, \"Speed\": 22, \"Generation\": 5, \"cluster\": 4}, {\"#\": 565, \"Name\": \"Carracosta\", \"Type 1\": \"Water\", \"Type 2\": \"Rock\", \"Total\": 495, \"HP\": 74, \"Attack\": 108, \"Defense\": 133, \"SpecialA\": 83, \"SpecialD\": 65, \"Speed\": 32, \"Generation\": 5, \"cluster\": 5}, {\"#\": 566, \"Name\": \"Archen\", \"Type 1\": \"Rock\", \"Type 2\": \"Flying\", \"Total\": 401, \"HP\": 55, \"Attack\": 112, \"Defense\": 45, \"SpecialA\": 74, \"SpecialD\": 45, \"Speed\": 70, \"Generation\": 5, \"cluster\": 0}, {\"#\": 567, \"Name\": \"Archeops\", \"Type 1\": \"Rock\", \"Type 2\": \"Flying\", \"Total\": 567, \"HP\": 75, \"Attack\": 140, \"Defense\": 65, \"SpecialA\": 112, \"SpecialD\": 65, \"Speed\": 110, \"Generation\": 5, \"cluster\": 2}, {\"#\": 580, \"Name\": \"Ducklett\", \"Type 1\": \"Water\", \"Type 2\": \"Flying\", \"Total\": 305, \"HP\": 62, \"Attack\": 44, \"Defense\": 50, \"SpecialA\": 44, \"SpecialD\": 50, \"Speed\": 55, \"Generation\": 5, \"cluster\": 4}, {\"#\": 581, \"Name\": \"Swanna\", \"Type 1\": \"Water\", \"Type 2\": \"Flying\", \"Total\": 473, \"HP\": 75, \"Attack\": 87, \"Defense\": 63, \"SpecialA\": 87, \"SpecialD\": 63, \"Speed\": 98, \"Generation\": 5, \"cluster\": 5}, {\"#\": 585, \"Name\": \"Deerling\", \"Type 1\": \"Normal\", \"Type 2\": \"Grass\", \"Total\": 335, \"HP\": 60, \"Attack\": 60, \"Defense\": 50, \"SpecialA\": 40, \"SpecialD\": 50, \"Speed\": 75, \"Generation\": 5, \"cluster\": 4}, {\"#\": 586, \"Name\": \"Sawsbuck\", \"Type 1\": \"Normal\", \"Type 2\": \"Grass\", \"Total\": 475, \"HP\": 80, \"Attack\": 100, \"Defense\": 70, \"SpecialA\": 60, \"SpecialD\": 70, \"Speed\": 95, \"Generation\": 5, \"cluster\": 5}, {\"#\": 587, \"Name\": \"Emolga\", \"Type 1\": \"Electric\", \"Type 2\": \"Flying\", \"Total\": 428, \"HP\": 55, \"Attack\": 75, \"Defense\": 60, \"SpecialA\": 75, \"SpecialD\": 60, \"Speed\": 103, \"Generation\": 5, \"cluster\": 0}, {\"#\": 589, \"Name\": \"Escavalier\", \"Type 1\": \"Bug\", \"Type 2\": \"Steel\", \"Total\": 495, \"HP\": 70, \"Attack\": 135, \"Defense\": 105, \"SpecialA\": 60, \"SpecialD\": 105, \"Speed\": 20, \"Generation\": 5, \"cluster\": 5}, {\"#\": 590, \"Name\": \"Foongus\", \"Type 1\": \"Grass\", \"Type 2\": \"Poison\", \"Total\": 294, \"HP\": 69, \"Attack\": 55, \"Defense\": 45, \"SpecialA\": 55, \"SpecialD\": 55, \"Speed\": 15, \"Generation\": 5, \"cluster\": 4}, {\"#\": 591, \"Name\": \"Amoonguss\", \"Type 1\": \"Grass\", \"Type 2\": \"Poison\", \"Total\": 464, \"HP\": 114, \"Attack\": 85, \"Defense\": 70, \"SpecialA\": 85, \"SpecialD\": 80, \"Speed\": 30, \"Generation\": 5, \"cluster\": 5}, {\"#\": 592, \"Name\": \"Frillish\", \"Type 1\": \"Water\", \"Type 2\": \"Ghost\", \"Total\": 335, \"HP\": 55, \"Attack\": 40, \"Defense\": 50, \"SpecialA\": 65, \"SpecialD\": 85, \"Speed\": 40, \"Generation\": 5, \"cluster\": 4}, {\"#\": 593, \"Name\": \"Jellicent\", \"Type 1\": \"Water\", \"Type 2\": \"Ghost\", \"Total\": 480, \"HP\": 100, \"Attack\": 60, \"Defense\": 70, \"SpecialA\": 85, \"SpecialD\": 105, \"Speed\": 60, \"Generation\": 5, \"cluster\": 5}, {\"#\": 595, \"Name\": \"Joltik\", \"Type 1\": \"Bug\", \"Type 2\": \"Electric\", \"Total\": 319, \"HP\": 50, \"Attack\": 47, \"Defense\": 50, \"SpecialA\": 57, \"SpecialD\": 50, \"Speed\": 65, \"Generation\": 5, \"cluster\": 4}, {\"#\": 596, \"Name\": \"Galvantula\", \"Type 1\": \"Bug\", \"Type 2\": \"Electric\", \"Total\": 472, \"HP\": 70, \"Attack\": 77, \"Defense\": 60, \"SpecialA\": 97, \"SpecialD\": 60, \"Speed\": 108, \"Generation\": 5, \"cluster\": 3}, {\"#\": 597, \"Name\": \"Ferroseed\", \"Type 1\": \"Grass\", \"Type 2\": \"Steel\", \"Total\": 305, \"HP\": 44, \"Attack\": 50, \"Defense\": 91, \"SpecialA\": 24, \"SpecialD\": 86, \"Speed\": 10, \"Generation\": 5, \"cluster\": 4}, {\"#\": 598, \"Name\": \"Ferrothorn\", \"Type 1\": \"Grass\", \"Type 2\": \"Steel\", \"Total\": 489, \"HP\": 74, \"Attack\": 94, \"Defense\": 131, \"SpecialA\": 54, \"SpecialD\": 116, \"Speed\": 20, \"Generation\": 5, \"cluster\": 5}, {\"#\": 607, \"Name\": \"Litwick\", \"Type 1\": \"Ghost\", \"Type 2\": \"Fire\", \"Total\": 275, \"HP\": 50, \"Attack\": 30, \"Defense\": 55, \"SpecialA\": 65, \"SpecialD\": 55, \"Speed\": 20, \"Generation\": 5, \"cluster\": 1}, {\"#\": 608, \"Name\": \"Lampent\", \"Type 1\": \"Ghost\", \"Type 2\": \"Fire\", \"Total\": 370, \"HP\": 60, \"Attack\": 40, \"Defense\": 60, \"SpecialA\": 95, \"SpecialD\": 60, \"Speed\": 55, \"Generation\": 5, \"cluster\": 0}, {\"#\": 609, \"Name\": \"Chandelure\", \"Type 1\": \"Ghost\", \"Type 2\": \"Fire\", \"Total\": 520, \"HP\": 60, \"Attack\": 55, \"Defense\": 90, \"SpecialA\": 145, \"SpecialD\": 90, \"Speed\": 80, \"Generation\": 5, \"cluster\": 3}, {\"#\": 618, \"Name\": \"Stunfisk\", \"Type 1\": \"Ground\", \"Type 2\": \"Electric\", \"Total\": 471, \"HP\": 109, \"Attack\": 66, \"Defense\": 84, \"SpecialA\": 81, \"SpecialD\": 99, \"Speed\": 32, \"Generation\": 5, \"cluster\": 5}, {\"#\": 622, \"Name\": \"Golett\", \"Type 1\": \"Ground\", \"Type 2\": \"Ghost\", \"Total\": 303, \"HP\": 59, \"Attack\": 74, \"Defense\": 50, \"SpecialA\": 35, \"SpecialD\": 50, \"Speed\": 35, \"Generation\": 5, \"cluster\": 4}, {\"#\": 623, \"Name\": \"Golurk\", \"Type 1\": \"Ground\", \"Type 2\": \"Ghost\", \"Total\": 483, \"HP\": 89, \"Attack\": 124, \"Defense\": 80, \"SpecialA\": 55, \"SpecialD\": 80, \"Speed\": 55, \"Generation\": 5, \"cluster\": 5}, {\"#\": 624, \"Name\": \"Pawniard\", \"Type 1\": \"Dark\", \"Type 2\": \"Steel\", \"Total\": 340, \"HP\": 45, \"Attack\": 85, \"Defense\": 70, \"SpecialA\": 40, \"SpecialD\": 40, \"Speed\": 60, \"Generation\": 5, \"cluster\": 4}, {\"#\": 625, \"Name\": \"Bisharp\", \"Type 1\": \"Dark\", \"Type 2\": \"Steel\", \"Total\": 490, \"HP\": 65, \"Attack\": 125, \"Defense\": 100, \"SpecialA\": 60, \"SpecialD\": 70, \"Speed\": 70, \"Generation\": 5, \"cluster\": 5}, {\"#\": 627, \"Name\": \"Rufflet\", \"Type 1\": \"Normal\", \"Type 2\": \"Flying\", \"Total\": 350, \"HP\": 70, \"Attack\": 83, \"Defense\": 50, \"SpecialA\": 37, \"SpecialD\": 50, \"Speed\": 60, \"Generation\": 5, \"cluster\": 4}, {\"#\": 628, \"Name\": \"Braviary\", \"Type 1\": \"Normal\", \"Type 2\": \"Flying\", \"Total\": 510, \"HP\": 100, \"Attack\": 123, \"Defense\": 75, \"SpecialA\": 57, \"SpecialD\": 75, \"Speed\": 80, \"Generation\": 5, \"cluster\": 3}, {\"#\": 629, \"Name\": \"Vullaby\", \"Type 1\": \"Dark\", \"Type 2\": \"Flying\", \"Total\": 370, \"HP\": 70, \"Attack\": 55, \"Defense\": 75, \"SpecialA\": 45, \"SpecialD\": 65, \"Speed\": 60, \"Generation\": 5, \"cluster\": 0}, {\"#\": 630, \"Name\": \"Mandibuzz\", \"Type 1\": \"Dark\", \"Type 2\": \"Flying\", \"Total\": 510, \"HP\": 110, \"Attack\": 65, \"Defense\": 105, \"SpecialA\": 55, \"SpecialD\": 95, \"Speed\": 80, \"Generation\": 5, \"cluster\": 3}, {\"#\": 632, \"Name\": \"Durant\", \"Type 1\": \"Bug\", \"Type 2\": \"Steel\", \"Total\": 484, \"HP\": 58, \"Attack\": 109, \"Defense\": 112, \"SpecialA\": 48, \"SpecialD\": 48, \"Speed\": 109, \"Generation\": 5, \"cluster\": 3}, {\"#\": 633, \"Name\": \"Deino\", \"Type 1\": \"Dark\", \"Type 2\": \"Dragon\", \"Total\": 300, \"HP\": 52, \"Attack\": 65, \"Defense\": 50, \"SpecialA\": 45, \"SpecialD\": 50, \"Speed\": 38, \"Generation\": 5, \"cluster\": 4}, {\"#\": 634, \"Name\": \"Zweilous\", \"Type 1\": \"Dark\", \"Type 2\": \"Dragon\", \"Total\": 420, \"HP\": 72, \"Attack\": 85, \"Defense\": 70, \"SpecialA\": 65, \"SpecialD\": 70, \"Speed\": 58, \"Generation\": 5, \"cluster\": 0}, {\"#\": 635, \"Name\": \"Hydreigon\", \"Type 1\": \"Dark\", \"Type 2\": \"Dragon\", \"Total\": 600, \"HP\": 92, \"Attack\": 105, \"Defense\": 90, \"SpecialA\": 125, \"SpecialD\": 90, \"Speed\": 98, \"Generation\": 5, \"cluster\": 2}, {\"#\": 636, \"Name\": \"Larvesta\", \"Type 1\": \"Bug\", \"Type 2\": \"Fire\", \"Total\": 360, \"HP\": 55, \"Attack\": 85, \"Defense\": 55, \"SpecialA\": 50, \"SpecialD\": 55, \"Speed\": 60, \"Generation\": 5, \"cluster\": 4}, {\"#\": 637, \"Name\": \"Volcarona\", \"Type 1\": \"Bug\", \"Type 2\": \"Fire\", \"Total\": 550, \"HP\": 85, \"Attack\": 60, \"Defense\": 65, \"SpecialA\": 135, \"SpecialD\": 105, \"Speed\": 100, \"Generation\": 5, \"cluster\": 3}, {\"#\": 647, \"Name\": \"KeldeoOrdinary Forme\", \"Type 1\": \"Water\", \"Type 2\": \"Fighting\", \"Total\": 580, \"HP\": 91, \"Attack\": 72, \"Defense\": 90, \"SpecialA\": 129, \"SpecialD\": 90, \"Speed\": 108, \"Generation\": 5, \"cluster\": 2}, {\"#\": 647, \"Name\": \"KeldeoResolute Forme\", \"Type 1\": \"Water\", \"Type 2\": \"Fighting\", \"Total\": 580, \"HP\": 91, \"Attack\": 72, \"Defense\": 90, \"SpecialA\": 129, \"SpecialD\": 90, \"Speed\": 108, \"Generation\": 5, \"cluster\": 2}, {\"#\": 648, \"Name\": \"MeloettaAria Forme\", \"Type 1\": \"Normal\", \"Type 2\": \"Psychic\", \"Total\": 600, \"HP\": 100, \"Attack\": 77, \"Defense\": 77, \"SpecialA\": 128, \"SpecialD\": 128, \"Speed\": 90, \"Generation\": 5, \"cluster\": 2}, {\"#\": 648, \"Name\": \"MeloettaPirouette Forme\", \"Type 1\": \"Normal\", \"Type 2\": \"Fighting\", \"Total\": 600, \"HP\": 100, \"Attack\": 128, \"Defense\": 90, \"SpecialA\": 77, \"SpecialD\": 77, \"Speed\": 128, \"Generation\": 5, \"cluster\": 2}, {\"#\": 649, \"Name\": \"Genesect\", \"Type 1\": \"Bug\", \"Type 2\": \"Steel\", \"Total\": 600, \"HP\": 71, \"Attack\": 120, \"Defense\": 95, \"SpecialA\": 120, \"SpecialD\": 95, \"Speed\": 99, \"Generation\": 5, \"cluster\": 2}, {\"#\": 652, \"Name\": \"Chesnaught\", \"Type 1\": \"Grass\", \"Type 2\": \"Fighting\", \"Total\": 530, \"HP\": 88, \"Attack\": 107, \"Defense\": 122, \"SpecialA\": 74, \"SpecialD\": 75, \"Speed\": 64, \"Generation\": 6, \"cluster\": 3}, {\"#\": 655, \"Name\": \"Delphox\", \"Type 1\": \"Fire\", \"Type 2\": \"Psychic\", \"Total\": 534, \"HP\": 75, \"Attack\": 69, \"Defense\": 72, \"SpecialA\": 114, \"SpecialD\": 100, \"Speed\": 104, \"Generation\": 6, \"cluster\": 3}, {\"#\": 658, \"Name\": \"Greninja\", \"Type 1\": \"Water\", \"Type 2\": \"Dark\", \"Total\": 530, \"HP\": 72, \"Attack\": 95, \"Defense\": 67, \"SpecialA\": 103, \"SpecialD\": 71, \"Speed\": 122, \"Generation\": 6, \"cluster\": 3}, {\"#\": 660, \"Name\": \"Diggersby\", \"Type 1\": \"Normal\", \"Type 2\": \"Ground\", \"Total\": 423, \"HP\": 85, \"Attack\": 56, \"Defense\": 77, \"SpecialA\": 50, \"SpecialD\": 77, \"Speed\": 78, \"Generation\": 6, \"cluster\": 0}, {\"#\": 661, \"Name\": \"Fletchling\", \"Type 1\": \"Normal\", \"Type 2\": \"Flying\", \"Total\": 278, \"HP\": 45, \"Attack\": 50, \"Defense\": 43, \"SpecialA\": 40, \"SpecialD\": 38, \"Speed\": 62, \"Generation\": 6, \"cluster\": 1}, {\"#\": 662, \"Name\": \"Fletchinder\", \"Type 1\": \"Fire\", \"Type 2\": \"Flying\", \"Total\": 382, \"HP\": 62, \"Attack\": 73, \"Defense\": 55, \"SpecialA\": 56, \"SpecialD\": 52, \"Speed\": 84, \"Generation\": 6, \"cluster\": 0}, {\"#\": 663, \"Name\": \"Talonflame\", \"Type 1\": \"Fire\", \"Type 2\": \"Flying\", \"Total\": 499, \"HP\": 78, \"Attack\": 81, \"Defense\": 71, \"SpecialA\": 74, \"SpecialD\": 69, \"Speed\": 126, \"Generation\": 6, \"cluster\": 3}, {\"#\": 666, \"Name\": \"Vivillon\", \"Type 1\": \"Bug\", \"Type 2\": \"Flying\", \"Total\": 411, \"HP\": 80, \"Attack\": 52, \"Defense\": 50, \"SpecialA\": 90, \"SpecialD\": 50, \"Speed\": 89, \"Generation\": 6, \"cluster\": 0}, {\"#\": 667, \"Name\": \"Litleo\", \"Type 1\": \"Fire\", \"Type 2\": \"Normal\", \"Total\": 369, \"HP\": 62, \"Attack\": 50, \"Defense\": 58, \"SpecialA\": 73, \"SpecialD\": 54, \"Speed\": 72, \"Generation\": 6, \"cluster\": 0}, {\"#\": 668, \"Name\": \"Pyroar\", \"Type 1\": \"Fire\", \"Type 2\": \"Normal\", \"Total\": 507, \"HP\": 86, \"Attack\": 68, \"Defense\": 72, \"SpecialA\": 109, \"SpecialD\": 66, \"Speed\": 106, \"Generation\": 6, \"cluster\": 3}, {\"#\": 675, \"Name\": \"Pangoro\", \"Type 1\": \"Fighting\", \"Type 2\": \"Dark\", \"Total\": 495, \"HP\": 95, \"Attack\": 124, \"Defense\": 78, \"SpecialA\": 69, \"SpecialD\": 71, \"Speed\": 58, \"Generation\": 6, \"cluster\": 5}, {\"#\": 679, \"Name\": \"Honedge\", \"Type 1\": \"Steel\", \"Type 2\": \"Ghost\", \"Total\": 325, \"HP\": 45, \"Attack\": 80, \"Defense\": 100, \"SpecialA\": 35, \"SpecialD\": 37, \"Speed\": 28, \"Generation\": 6, \"cluster\": 4}, {\"#\": 680, \"Name\": \"Doublade\", \"Type 1\": \"Steel\", \"Type 2\": \"Ghost\", \"Total\": 448, \"HP\": 59, \"Attack\": 110, \"Defense\": 150, \"SpecialA\": 45, \"SpecialD\": 49, \"Speed\": 35, \"Generation\": 6, \"cluster\": 5}, {\"#\": 681, \"Name\": \"AegislashBlade Forme\", \"Type 1\": \"Steel\", \"Type 2\": \"Ghost\", \"Total\": 520, \"HP\": 60, \"Attack\": 150, \"Defense\": 50, \"SpecialA\": 150, \"SpecialD\": 50, \"Speed\": 60, \"Generation\": 6, \"cluster\": 3}, {\"#\": 681, \"Name\": \"AegislashShield Forme\", \"Type 1\": \"Steel\", \"Type 2\": \"Ghost\", \"Total\": 520, \"HP\": 60, \"Attack\": 50, \"Defense\": 150, \"SpecialA\": 50, \"SpecialD\": 150, \"Speed\": 60, \"Generation\": 6, \"cluster\": 3}, {\"#\": 686, \"Name\": \"Inkay\", \"Type 1\": \"Dark\", \"Type 2\": \"Psychic\", \"Total\": 288, \"HP\": 53, \"Attack\": 54, \"Defense\": 53, \"SpecialA\": 37, \"SpecialD\": 46, \"Speed\": 45, \"Generation\": 6, \"cluster\": 1}, {\"#\": 687, \"Name\": \"Malamar\", \"Type 1\": \"Dark\", \"Type 2\": \"Psychic\", \"Total\": 482, \"HP\": 86, \"Attack\": 92, \"Defense\": 88, \"SpecialA\": 68, \"SpecialD\": 75, \"Speed\": 73, \"Generation\": 6, \"cluster\": 5}, {\"#\": 688, \"Name\": \"Binacle\", \"Type 1\": \"Rock\", \"Type 2\": \"Water\", \"Total\": 306, \"HP\": 42, \"Attack\": 52, \"Defense\": 67, \"SpecialA\": 39, \"SpecialD\": 56, \"Speed\": 50, \"Generation\": 6, \"cluster\": 4}, {\"#\": 689, \"Name\": \"Barbaracle\", \"Type 1\": \"Rock\", \"Type 2\": \"Water\", \"Total\": 500, \"HP\": 72, \"Attack\": 105, \"Defense\": 115, \"SpecialA\": 54, \"SpecialD\": 86, \"Speed\": 68, \"Generation\": 6, \"cluster\": 5}, {\"#\": 690, \"Name\": \"Skrelp\", \"Type 1\": \"Poison\", \"Type 2\": \"Water\", \"Total\": 320, \"HP\": 50, \"Attack\": 60, \"Defense\": 60, \"SpecialA\": 60, \"SpecialD\": 60, \"Speed\": 30, \"Generation\": 6, \"cluster\": 4}, {\"#\": 691, \"Name\": \"Dragalge\", \"Type 1\": \"Poison\", \"Type 2\": \"Dragon\", \"Total\": 494, \"HP\": 65, \"Attack\": 75, \"Defense\": 90, \"SpecialA\": 97, \"SpecialD\": 123, \"Speed\": 44, \"Generation\": 6, \"cluster\": 5}, {\"#\": 694, \"Name\": \"Helioptile\", \"Type 1\": \"Electric\", \"Type 2\": \"Normal\", \"Total\": 289, \"HP\": 44, \"Attack\": 38, \"Defense\": 33, \"SpecialA\": 61, \"SpecialD\": 43, \"Speed\": 70, \"Generation\": 6, \"cluster\": 1}, {\"#\": 695, \"Name\": \"Heliolisk\", \"Type 1\": \"Electric\", \"Type 2\": \"Normal\", \"Total\": 481, \"HP\": 62, \"Attack\": 55, \"Defense\": 52, \"SpecialA\": 109, \"SpecialD\": 94, \"Speed\": 109, \"Generation\": 6, \"cluster\": 3}, {\"#\": 696, \"Name\": \"Tyrunt\", \"Type 1\": \"Rock\", \"Type 2\": \"Dragon\", \"Total\": 362, \"HP\": 58, \"Attack\": 89, \"Defense\": 77, \"SpecialA\": 45, \"SpecialD\": 45, \"Speed\": 48, \"Generation\": 6, \"cluster\": 4}, {\"#\": 697, \"Name\": \"Tyrantrum\", \"Type 1\": \"Rock\", \"Type 2\": \"Dragon\", \"Total\": 521, \"HP\": 82, \"Attack\": 121, \"Defense\": 119, \"SpecialA\": 69, \"SpecialD\": 59, \"Speed\": 71, \"Generation\": 6, \"cluster\": 3}, {\"#\": 698, \"Name\": \"Amaura\", \"Type 1\": \"Rock\", \"Type 2\": \"Ice\", \"Total\": 362, \"HP\": 77, \"Attack\": 59, \"Defense\": 50, \"SpecialA\": 67, \"SpecialD\": 63, \"Speed\": 46, \"Generation\": 6, \"cluster\": 4}, {\"#\": 699, \"Name\": \"Aurorus\", \"Type 1\": \"Rock\", \"Type 2\": \"Ice\", \"Total\": 521, \"HP\": 123, \"Attack\": 77, \"Defense\": 72, \"SpecialA\": 99, \"SpecialD\": 92, \"Speed\": 58, \"Generation\": 6, \"cluster\": 3}, {\"#\": 701, \"Name\": \"Hawlucha\", \"Type 1\": \"Fighting\", \"Type 2\": \"Flying\", \"Total\": 500, \"HP\": 78, \"Attack\": 92, \"Defense\": 75, \"SpecialA\": 74, \"SpecialD\": 63, \"Speed\": 118, \"Generation\": 6, \"cluster\": 3}, {\"#\": 702, \"Name\": \"Dedenne\", \"Type 1\": \"Electric\", \"Type 2\": \"Fairy\", \"Total\": 431, \"HP\": 67, \"Attack\": 58, \"Defense\": 57, \"SpecialA\": 81, \"SpecialD\": 67, \"Speed\": 101, \"Generation\": 6, \"cluster\": 0}, {\"#\": 703, \"Name\": \"Carbink\", \"Type 1\": \"Rock\", \"Type 2\": \"Fairy\", \"Total\": 500, \"HP\": 50, \"Attack\": 50, \"Defense\": 150, \"SpecialA\": 50, \"SpecialD\": 150, \"Speed\": 50, \"Generation\": 6, \"cluster\": 5}, {\"#\": 707, \"Name\": \"Klefki\", \"Type 1\": \"Steel\", \"Type 2\": \"Fairy\", \"Total\": 470, \"HP\": 57, \"Attack\": 80, \"Defense\": 91, \"SpecialA\": 80, \"SpecialD\": 87, \"Speed\": 75, \"Generation\": 6, \"cluster\": 5}, {\"#\": 708, \"Name\": \"Phantump\", \"Type 1\": \"Ghost\", \"Type 2\": \"Grass\", \"Total\": 309, \"HP\": 43, \"Attack\": 70, \"Defense\": 48, \"SpecialA\": 50, \"SpecialD\": 60, \"Speed\": 38, \"Generation\": 6, \"cluster\": 4}, {\"#\": 709, \"Name\": \"Trevenant\", \"Type 1\": \"Ghost\", \"Type 2\": \"Grass\", \"Total\": 474, \"HP\": 85, \"Attack\": 110, \"Defense\": 76, \"SpecialA\": 65, \"SpecialD\": 82, \"Speed\": 56, \"Generation\": 6, \"cluster\": 5}, {\"#\": 710, \"Name\": \"PumpkabooAverage Size\", \"Type 1\": \"Ghost\", \"Type 2\": \"Grass\", \"Total\": 335, \"HP\": 49, \"Attack\": 66, \"Defense\": 70, \"SpecialA\": 44, \"SpecialD\": 55, \"Speed\": 51, \"Generation\": 6, \"cluster\": 4}, {\"#\": 710, \"Name\": \"PumpkabooSmall Size\", \"Type 1\": \"Ghost\", \"Type 2\": \"Grass\", \"Total\": 335, \"HP\": 44, \"Attack\": 66, \"Defense\": 70, \"SpecialA\": 44, \"SpecialD\": 55, \"Speed\": 56, \"Generation\": 6, \"cluster\": 4}, {\"#\": 710, \"Name\": \"PumpkabooLarge Size\", \"Type 1\": \"Ghost\", \"Type 2\": \"Grass\", \"Total\": 335, \"HP\": 54, \"Attack\": 66, \"Defense\": 70, \"SpecialA\": 44, \"SpecialD\": 55, \"Speed\": 46, \"Generation\": 6, \"cluster\": 4}, {\"#\": 710, \"Name\": \"PumpkabooSuper Size\", \"Type 1\": \"Ghost\", \"Type 2\": \"Grass\", \"Total\": 335, \"HP\": 59, \"Attack\": 66, \"Defense\": 70, \"SpecialA\": 44, \"SpecialD\": 55, \"Speed\": 41, \"Generation\": 6, \"cluster\": 4}, {\"#\": 711, \"Name\": \"GourgeistAverage Size\", \"Type 1\": \"Ghost\", \"Type 2\": \"Grass\", \"Total\": 494, \"HP\": 65, \"Attack\": 90, \"Defense\": 122, \"SpecialA\": 58, \"SpecialD\": 75, \"Speed\": 84, \"Generation\": 6, \"cluster\": 3}, {\"#\": 711, \"Name\": \"GourgeistSmall Size\", \"Type 1\": \"Ghost\", \"Type 2\": \"Grass\", \"Total\": 494, \"HP\": 55, \"Attack\": 85, \"Defense\": 122, \"SpecialA\": 58, \"SpecialD\": 75, \"Speed\": 99, \"Generation\": 6, \"cluster\": 3}, {\"#\": 711, \"Name\": \"GourgeistLarge Size\", \"Type 1\": \"Ghost\", \"Type 2\": \"Grass\", \"Total\": 494, \"HP\": 75, \"Attack\": 95, \"Defense\": 122, \"SpecialA\": 58, \"SpecialD\": 75, \"Speed\": 69, \"Generation\": 6, \"cluster\": 5}, {\"#\": 711, \"Name\": \"GourgeistSuper Size\", \"Type 1\": \"Ghost\", \"Type 2\": \"Grass\", \"Total\": 494, \"HP\": 85, \"Attack\": 100, \"Defense\": 122, \"SpecialA\": 58, \"SpecialD\": 75, \"Speed\": 54, \"Generation\": 6, \"cluster\": 5}, {\"#\": 714, \"Name\": \"Noibat\", \"Type 1\": \"Flying\", \"Type 2\": \"Dragon\", \"Total\": 245, \"HP\": 40, \"Attack\": 30, \"Defense\": 35, \"SpecialA\": 45, \"SpecialD\": 40, \"Speed\": 55, \"Generation\": 6, \"cluster\": 1}, {\"#\": 715, \"Name\": \"Noivern\", \"Type 1\": \"Flying\", \"Type 2\": \"Dragon\", \"Total\": 535, \"HP\": 85, \"Attack\": 70, \"Defense\": 80, \"SpecialA\": 97, \"SpecialD\": 80, \"Speed\": 123, \"Generation\": 6, \"cluster\": 3}]}}, {\"mode\": \"vega-lite\"});\n</script>",
      "text/plain": "alt.FacetChart(...)"
     },
     "metadata": {}
    }
   ]
  },
  {
   "cell_type": "markdown",
   "metadata": {
    "tags": [],
    "cell_id": "d6c6110bd9f548aba7cff894928c8910",
    "deepnote_cell_type": "markdown"
   },
   "source": [
    "The charts show that the predicting cluster is roughly and evenly distributed in each generation, so we can get a conclusion that Pokemon's stats strength are not clearly related to generation.\n",
    "Therefore, we can say that The number of Pokemons of similar strength is about the same in each generation based on the result from K-means cluster."
   ],
   "block_group": "d6c6110bd9f548aba7cff894928c8910"
  },
  {
   "cell_type": "markdown",
   "metadata": {
    "tags": [],
    "cell_id": "3ef16cf32b2244ea99d9e7dd2c977db3",
    "deepnote_cell_type": "markdown"
   },
   "source": [
    "## Machine Learning - Linear Regression\n",
    "\n",
    "For the machine learning part, I first choose to use the linear regression model to predict the generation based on the known data. "
   ],
   "block_group": "3ef16cf32b2244ea99d9e7dd2c977db3"
  },
  {
   "cell_type": "code",
   "metadata": {
    "tags": [],
    "cell_id": "636e3c07b3b3483abe37017104736410",
    "source_hash": null,
    "execution_start": 1702174244567,
    "execution_millis": 40,
    "deepnote_to_be_reexecuted": false,
    "deepnote_cell_type": "code"
   },
   "source": [
    "features = [\"Total\",\"HP\",\"Attack\",\"SpecialA\",\"Defense\",\"SpecialD\",\"Speed\"]"
   ],
   "block_group": "636e3c07b3b3483abe37017104736410",
   "execution_count": null,
   "outputs": []
  },
  {
   "cell_type": "code",
   "metadata": {
    "tags": [],
    "cell_id": "21fd6084a6a942cc9213eaaed0ab0fb8",
    "source_hash": null,
    "execution_start": 1702174244571,
    "execution_millis": 44,
    "deepnote_to_be_reexecuted": false,
    "deepnote_cell_type": "code"
   },
   "source": [
    "X_train, X_test, y_train, y_test = train_test_split(df[features],df[\"Generation\"],train_size=0.7)"
   ],
   "block_group": "21fd6084a6a942cc9213eaaed0ab0fb8",
   "execution_count": null,
   "outputs": []
  },
  {
   "cell_type": "code",
   "metadata": {
    "tags": [],
    "cell_id": "5feeccc432c544b19d6eb975f7174617",
    "source_hash": null,
    "execution_start": 1702174244571,
    "execution_millis": 41,
    "deepnote_to_be_reexecuted": false,
    "deepnote_cell_type": "code"
   },
   "source": [
    "lin = LinearRegression()"
   ],
   "block_group": "5feeccc432c544b19d6eb975f7174617",
   "execution_count": null,
   "outputs": []
  },
  {
   "cell_type": "code",
   "metadata": {
    "tags": [],
    "cell_id": "893590accded4f509219528bd6a85673",
    "source_hash": null,
    "execution_start": 1702174244576,
    "execution_millis": 49,
    "deepnote_to_be_reexecuted": false,
    "deepnote_cell_type": "code"
   },
   "source": [
    "lin.fit(X_train,y_train)"
   ],
   "block_group": "893590accded4f509219528bd6a85673",
   "execution_count": null,
   "outputs": [
    {
     "output_type": "execute_result",
     "execution_count": 24,
     "data": {
      "text/plain": "LinearRegression()"
     },
     "metadata": {}
    }
   ]
  },
  {
   "cell_type": "code",
   "metadata": {
    "tags": [],
    "cell_id": "6722e9f2df6140368ae71ba904646b65",
    "source_hash": null,
    "execution_start": 1702174244584,
    "execution_millis": 38,
    "deepnote_to_be_reexecuted": false,
    "deepnote_cell_type": "code"
   },
   "source": [
    "linear_train_accuracy = lin.score(X_train,y_train)"
   ],
   "block_group": "6722e9f2df6140368ae71ba904646b65",
   "execution_count": null,
   "outputs": []
  },
  {
   "cell_type": "code",
   "metadata": {
    "tags": [],
    "cell_id": "0379420f96cb44908152943e04a63cab",
    "source_hash": null,
    "execution_start": 1702174244621,
    "execution_millis": 24,
    "deepnote_to_be_reexecuted": false,
    "deepnote_cell_type": "code"
   },
   "source": [
    "linear_test_accuracy = lin.score(X_test,y_test)"
   ],
   "block_group": "0379420f96cb44908152943e04a63cab",
   "execution_count": null,
   "outputs": []
  },
  {
   "cell_type": "code",
   "metadata": {
    "tags": [],
    "cell_id": "8b2aca97c56a4cc38d91c5278f293c23",
    "source_hash": null,
    "execution_start": 1702174244626,
    "execution_millis": 12,
    "deepnote_to_be_reexecuted": false,
    "deepnote_cell_type": "code"
   },
   "source": [
    "print(f\"When using the linear regression model,\\nthe accuracy for the training set is {linear_train_accuracy},\\nand the accuracy for the test set is {linear_test_accuracy}.\")"
   ],
   "block_group": "8b2aca97c56a4cc38d91c5278f293c23",
   "execution_count": null,
   "outputs": [
    {
     "name": "stdout",
     "text": "When using the linear regression model,\nthe accuracy for the training set is 0.01990876569568578,\nand the accuracy for the test set is -0.061714437432493385.\n",
     "output_type": "stream"
    }
   ]
  },
  {
   "cell_type": "markdown",
   "metadata": {
    "tags": [],
    "cell_id": "5492eac343314635ac9903454a906a54",
    "deepnote_cell_type": "markdown"
   },
   "source": [
    "By using the score method, I calculate the accuracy for both train and test data, but the accuracies are very low compared with the dataset we used in class, which means that my dataset doesn't perform well under the linear regression model."
   ],
   "block_group": "5492eac343314635ac9903454a906a54"
  },
  {
   "cell_type": "markdown",
   "metadata": {
    "tags": [],
    "cell_id": "12c5c3485d4741ce8517292808fd7d15",
    "deepnote_cell_type": "markdown"
   },
   "source": [
    "## Machine Learning - Logistic Regression\n",
    "\n",
    "Then, I try to use the logistic regression model to check if the generation can be predicted using pokemon's stats. \n",
    "For this model, I also include the calculation of the mean squared error to see the accuracy."
   ],
   "block_group": "12c5c3485d4741ce8517292808fd7d15"
  },
  {
   "cell_type": "code",
   "metadata": {
    "tags": [],
    "cell_id": "7a6911af95444e79926bfeb1a1c14c06",
    "source_hash": null,
    "execution_start": 1702174244630,
    "execution_millis": 15,
    "deepnote_to_be_reexecuted": false,
    "deepnote_cell_type": "code"
   },
   "source": [
    "lgr = LogisticRegression(max_iter=500)"
   ],
   "block_group": "7a6911af95444e79926bfeb1a1c14c06",
   "execution_count": null,
   "outputs": []
  },
  {
   "cell_type": "code",
   "metadata": {
    "tags": [],
    "cell_id": "e2e00e30554646779afef6196aee39f0",
    "source_hash": null,
    "execution_start": 1702174244639,
    "execution_millis": 110,
    "deepnote_to_be_reexecuted": false,
    "deepnote_cell_type": "code"
   },
   "source": [
    "lgr.fit(X_train,y_train)"
   ],
   "block_group": "e2e00e30554646779afef6196aee39f0",
   "execution_count": null,
   "outputs": [
    {
     "output_type": "execute_result",
     "execution_count": 29,
     "data": {
      "text/plain": "LogisticRegression(max_iter=500)"
     },
     "metadata": {}
    }
   ]
  },
  {
   "cell_type": "code",
   "metadata": {
    "tags": [],
    "cell_id": "e08e9306beff42848bf71d0734870919",
    "source_hash": null,
    "execution_start": 1702174244748,
    "execution_millis": 24,
    "deepnote_to_be_reexecuted": false,
    "deepnote_cell_type": "code"
   },
   "source": [
    "log_test_accuracy = lgr.score(X_test, y_test)"
   ],
   "block_group": "e08e9306beff42848bf71d0734870919",
   "execution_count": null,
   "outputs": []
  },
  {
   "cell_type": "code",
   "metadata": {
    "tags": [],
    "cell_id": "bcc4872a29584e7fb135e55fe122c2a1",
    "source_hash": null,
    "execution_start": 1702174244758,
    "execution_millis": 15,
    "deepnote_to_be_reexecuted": false,
    "deepnote_cell_type": "code"
   },
   "source": [
    "log_train_accuracy = lgr.score(X_train, y_train)"
   ],
   "block_group": "bcc4872a29584e7fb135e55fe122c2a1",
   "execution_count": null,
   "outputs": []
  },
  {
   "cell_type": "code",
   "metadata": {
    "tags": [],
    "cell_id": "0b051fa087934a18ae94bf79e162ee75",
    "source_hash": null,
    "execution_start": 1702174244759,
    "execution_millis": 14,
    "deepnote_to_be_reexecuted": false,
    "deepnote_cell_type": "code"
   },
   "source": [
    "log_train_error = mean_squared_error(y_train,lgr.predict(X_train))\n",
    "log_test_error = mean_squared_error(y_test,lgr.predict(X_test))"
   ],
   "block_group": "0b051fa087934a18ae94bf79e162ee75",
   "execution_count": null,
   "outputs": []
  },
  {
   "cell_type": "code",
   "metadata": {
    "tags": [],
    "cell_id": "02bc755bf4844205bc8566f95fe62e77",
    "source_hash": null,
    "execution_start": 1702174244765,
    "execution_millis": 11,
    "deepnote_to_be_reexecuted": false,
    "deepnote_cell_type": "code"
   },
   "source": [
    "print(f\"The mean squared  error for the training set is {log_train_error},\\n  and the mean squared error for the test set is {log_test_error}.\\nThe accuracy for the training set is {log_train_accuracy},\\n  and the accuracy for the test set is {log_test_accuracy}.\")"
   ],
   "block_group": "02bc755bf4844205bc8566f95fe62e77",
   "execution_count": null,
   "outputs": [
    {
     "name": "stdout",
     "text": "The mean squared  error for the training set is 3.888888888888889,\n  and the mean squared error for the test set is 4.699115044247788.\nThe accuracy for the training set is 0.26053639846743293,\n  and the accuracy for the test set is 0.21238938053097345.\n",
     "output_type": "stream"
    }
   ]
  },
  {
   "cell_type": "markdown",
   "metadata": {
    "tags": [],
    "cell_id": "f404e2b3ab12480e991a69d03bb984a6",
    "deepnote_cell_type": "markdown"
   },
   "source": [
    "I get the similar result as the linear regression model, even a little bit less accurate because my accuracy is lower and error is relatively high. "
   ],
   "block_group": "f404e2b3ab12480e991a69d03bb984a6"
  },
  {
   "cell_type": "markdown",
   "metadata": {
    "tags": [],
    "cell_id": "df4a4cb9eab14d5f92861acaeb16600b",
    "deepnote_cell_type": "markdown"
   },
   "source": [
    "#### It is clear that the generation can't be predicted by the stats from three above regression model, so I changed my goal to using attack to predict the special attack for each pokemon for the following regression.\n"
   ],
   "block_group": "df4a4cb9eab14d5f92861acaeb16600b"
  },
  {
   "cell_type": "markdown",
   "metadata": {
    "tags": [],
    "cell_id": "75b831e2653b464eb0be72994e2fac24",
    "deepnote_cell_type": "markdown"
   },
   "source": [
    "## Machine Learning - Decision Tree Regressor\n",
    "Since my expectation is to predict the generation, using tree regressor instead of classifier is better."
   ],
   "block_group": "75b831e2653b464eb0be72994e2fac24"
  },
  {
   "cell_type": "code",
   "metadata": {
    "tags": [],
    "cell_id": "73074bcf6544465fa0ae652859af5cc3",
    "source_hash": null,
    "execution_start": 1702174244785,
    "execution_millis": 57,
    "deepnote_to_be_reexecuted": false,
    "deepnote_cell_type": "code"
   },
   "source": [
    "alt.Chart(df).mark_line().encode(\n",
    "    x=\"Attack\",\n",
    "    y=\"SpecialA\"\n",
    ")"
   ],
   "block_group": "73074bcf6544465fa0ae652859af5cc3",
   "execution_count": null,
   "outputs": [
    {
     "output_type": "execute_result",
     "execution_count": 34,
     "data": {
      "text/html": "\n<div id=\"altair-viz-c6f0f6e3725f4fc482a8d7ccf302fe10\"></div>\n<script type=\"text/javascript\">\n  var VEGA_DEBUG = (typeof VEGA_DEBUG == \"undefined\") ? {} : VEGA_DEBUG;\n  (function(spec, embedOpt){\n    let outputDiv = document.currentScript.previousElementSibling;\n    if (outputDiv.id !== \"altair-viz-c6f0f6e3725f4fc482a8d7ccf302fe10\") {\n      outputDiv = document.getElementById(\"altair-viz-c6f0f6e3725f4fc482a8d7ccf302fe10\");\n    }\n    const paths = {\n      \"vega\": \"https://cdn.jsdelivr.net/npm//vega@5?noext\",\n      \"vega-lib\": \"https://cdn.jsdelivr.net/npm//vega-lib?noext\",\n      \"vega-lite\": \"https://cdn.jsdelivr.net/npm//vega-lite@4.17.0?noext\",\n      \"vega-embed\": \"https://cdn.jsdelivr.net/npm//vega-embed@6?noext\",\n    };\n\n    function maybeLoadScript(lib, version) {\n      var key = `${lib.replace(\"-\", \"\")}_version`;\n      return (VEGA_DEBUG[key] == version) ?\n        Promise.resolve(paths[lib]) :\n        new Promise(function(resolve, reject) {\n          var s = document.createElement('script');\n          document.getElementsByTagName(\"head\")[0].appendChild(s);\n          s.async = true;\n          s.onload = () => {\n            VEGA_DEBUG[key] = version;\n            return resolve(paths[lib]);\n          };\n          s.onerror = () => reject(`Error loading script: ${paths[lib]}`);\n          s.src = paths[lib];\n        });\n    }\n\n    function showError(err) {\n      outputDiv.innerHTML = `<div class=\"error\" style=\"color:red;\">${err}</div>`;\n      throw err;\n    }\n\n    function displayChart(vegaEmbed) {\n      vegaEmbed(outputDiv, spec, embedOpt)\n        .catch(err => showError(`Javascript Error: ${err.message}<br>This usually means there's a typo in your chart specification. See the javascript console for the full traceback.`));\n    }\n\n    if(typeof define === \"function\" && define.amd) {\n      requirejs.config({paths});\n      require([\"vega-embed\"], displayChart, err => showError(`Error loading script: ${err.message}`));\n    } else {\n      maybeLoadScript(\"vega\", \"5\")\n        .then(() => maybeLoadScript(\"vega-lite\", \"4.17.0\"))\n        .then(() => maybeLoadScript(\"vega-embed\", \"6\"))\n        .catch(showError)\n        .then(() => displayChart(vegaEmbed));\n    }\n  })({\"config\": {\"view\": {\"continuousWidth\": 400, \"continuousHeight\": 300}}, \"data\": {\"name\": \"data-7b4e9b7c622e97f5ad82a9f00b4cfc09\"}, \"mark\": \"line\", \"encoding\": {\"x\": {\"field\": \"Attack\", \"type\": \"quantitative\"}, \"y\": {\"field\": \"SpecialA\", \"type\": \"quantitative\"}}, \"$schema\": \"https://vega.github.io/schema/vega-lite/v4.17.0.json\", \"datasets\": {\"data-7b4e9b7c622e97f5ad82a9f00b4cfc09\": [{\"#\": 1, \"Name\": \"Bulbasaur\", \"Type 1\": \"Grass\", \"Type 2\": \"Poison\", \"Total\": 318, \"HP\": 45, \"Attack\": 49, \"Defense\": 49, \"SpecialA\": 65, \"SpecialD\": 65, \"Speed\": 45, \"Generation\": 1, \"cluster\": 4}, {\"#\": 2, \"Name\": \"Ivysaur\", \"Type 1\": \"Grass\", \"Type 2\": \"Poison\", \"Total\": 405, \"HP\": 60, \"Attack\": 62, \"Defense\": 63, \"SpecialA\": 80, \"SpecialD\": 80, \"Speed\": 60, \"Generation\": 1, \"cluster\": 0}, {\"#\": 3, \"Name\": \"Venusaur\", \"Type 1\": \"Grass\", \"Type 2\": \"Poison\", \"Total\": 525, \"HP\": 80, \"Attack\": 82, \"Defense\": 83, \"SpecialA\": 100, \"SpecialD\": 100, \"Speed\": 80, \"Generation\": 1, \"cluster\": 3}, {\"#\": 3, \"Name\": \"VenusaurMega Venusaur\", \"Type 1\": \"Grass\", \"Type 2\": \"Poison\", \"Total\": 625, \"HP\": 80, \"Attack\": 100, \"Defense\": 123, \"SpecialA\": 122, \"SpecialD\": 120, \"Speed\": 80, \"Generation\": 1, \"cluster\": 2}, {\"#\": 6, \"Name\": \"Charizard\", \"Type 1\": \"Fire\", \"Type 2\": \"Flying\", \"Total\": 534, \"HP\": 78, \"Attack\": 84, \"Defense\": 78, \"SpecialA\": 109, \"SpecialD\": 85, \"Speed\": 100, \"Generation\": 1, \"cluster\": 3}, {\"#\": 6, \"Name\": \"CharizardMega Charizard X\", \"Type 1\": \"Fire\", \"Type 2\": \"Dragon\", \"Total\": 634, \"HP\": 78, \"Attack\": 130, \"Defense\": 111, \"SpecialA\": 130, \"SpecialD\": 85, \"Speed\": 100, \"Generation\": 1, \"cluster\": 2}, {\"#\": 6, \"Name\": \"CharizardMega Charizard Y\", \"Type 1\": \"Fire\", \"Type 2\": \"Flying\", \"Total\": 634, \"HP\": 78, \"Attack\": 104, \"Defense\": 78, \"SpecialA\": 159, \"SpecialD\": 115, \"Speed\": 100, \"Generation\": 1, \"cluster\": 2}, {\"#\": 12, \"Name\": \"Butterfree\", \"Type 1\": \"Bug\", \"Type 2\": \"Flying\", \"Total\": 395, \"HP\": 60, \"Attack\": 45, \"Defense\": 50, \"SpecialA\": 90, \"SpecialD\": 80, \"Speed\": 70, \"Generation\": 1, \"cluster\": 0}, {\"#\": 13, \"Name\": \"Weedle\", \"Type 1\": \"Bug\", \"Type 2\": \"Poison\", \"Total\": 195, \"HP\": 40, \"Attack\": 35, \"Defense\": 30, \"SpecialA\": 20, \"SpecialD\": 20, \"Speed\": 50, \"Generation\": 1, \"cluster\": 1}, {\"#\": 14, \"Name\": \"Kakuna\", \"Type 1\": \"Bug\", \"Type 2\": \"Poison\", \"Total\": 205, \"HP\": 45, \"Attack\": 25, \"Defense\": 50, \"SpecialA\": 25, \"SpecialD\": 25, \"Speed\": 35, \"Generation\": 1, \"cluster\": 1}, {\"#\": 15, \"Name\": \"Beedrill\", \"Type 1\": \"Bug\", \"Type 2\": \"Poison\", \"Total\": 395, \"HP\": 65, \"Attack\": 90, \"Defense\": 40, \"SpecialA\": 45, \"SpecialD\": 80, \"Speed\": 75, \"Generation\": 1, \"cluster\": 0}, {\"#\": 15, \"Name\": \"BeedrillMega Beedrill\", \"Type 1\": \"Bug\", \"Type 2\": \"Poison\", \"Total\": 495, \"HP\": 65, \"Attack\": 150, \"Defense\": 40, \"SpecialA\": 15, \"SpecialD\": 80, \"Speed\": 145, \"Generation\": 1, \"cluster\": 3}, {\"#\": 16, \"Name\": \"Pidgey\", \"Type 1\": \"Normal\", \"Type 2\": \"Flying\", \"Total\": 251, \"HP\": 40, \"Attack\": 45, \"Defense\": 40, \"SpecialA\": 35, \"SpecialD\": 35, \"Speed\": 56, \"Generation\": 1, \"cluster\": 1}, {\"#\": 17, \"Name\": \"Pidgeotto\", \"Type 1\": \"Normal\", \"Type 2\": \"Flying\", \"Total\": 349, \"HP\": 63, \"Attack\": 60, \"Defense\": 55, \"SpecialA\": 50, \"SpecialD\": 50, \"Speed\": 71, \"Generation\": 1, \"cluster\": 4}, {\"#\": 18, \"Name\": \"Pidgeot\", \"Type 1\": \"Normal\", \"Type 2\": \"Flying\", \"Total\": 479, \"HP\": 83, \"Attack\": 80, \"Defense\": 75, \"SpecialA\": 70, \"SpecialD\": 70, \"Speed\": 101, \"Generation\": 1, \"cluster\": 3}, {\"#\": 18, \"Name\": \"PidgeotMega Pidgeot\", \"Type 1\": \"Normal\", \"Type 2\": \"Flying\", \"Total\": 579, \"HP\": 83, \"Attack\": 80, \"Defense\": 80, \"SpecialA\": 135, \"SpecialD\": 80, \"Speed\": 121, \"Generation\": 1, \"cluster\": 2}, {\"#\": 21, \"Name\": \"Spearow\", \"Type 1\": \"Normal\", \"Type 2\": \"Flying\", \"Total\": 262, \"HP\": 40, \"Attack\": 60, \"Defense\": 30, \"SpecialA\": 31, \"SpecialD\": 31, \"Speed\": 70, \"Generation\": 1, \"cluster\": 1}, {\"#\": 22, \"Name\": \"Fearow\", \"Type 1\": \"Normal\", \"Type 2\": \"Flying\", \"Total\": 442, \"HP\": 65, \"Attack\": 90, \"Defense\": 65, \"SpecialA\": 61, \"SpecialD\": 61, \"Speed\": 100, \"Generation\": 1, \"cluster\": 0}, {\"#\": 31, \"Name\": \"Nidoqueen\", \"Type 1\": \"Poison\", \"Type 2\": \"Ground\", \"Total\": 505, \"HP\": 90, \"Attack\": 92, \"Defense\": 87, \"SpecialA\": 75, \"SpecialD\": 85, \"Speed\": 76, \"Generation\": 1, \"cluster\": 3}, {\"#\": 34, \"Name\": \"Nidoking\", \"Type 1\": \"Poison\", \"Type 2\": \"Ground\", \"Total\": 505, \"HP\": 81, \"Attack\": 102, \"Defense\": 77, \"SpecialA\": 85, \"SpecialD\": 75, \"Speed\": 85, \"Generation\": 1, \"cluster\": 3}, {\"#\": 39, \"Name\": \"Jigglypuff\", \"Type 1\": \"Normal\", \"Type 2\": \"Fairy\", \"Total\": 270, \"HP\": 115, \"Attack\": 45, \"Defense\": 20, \"SpecialA\": 45, \"SpecialD\": 25, \"Speed\": 20, \"Generation\": 1, \"cluster\": 1}, {\"#\": 40, \"Name\": \"Wigglytuff\", \"Type 1\": \"Normal\", \"Type 2\": \"Fairy\", \"Total\": 435, \"HP\": 140, \"Attack\": 70, \"Defense\": 45, \"SpecialA\": 85, \"SpecialD\": 50, \"Speed\": 45, \"Generation\": 1, \"cluster\": 0}, {\"#\": 41, \"Name\": \"Zubat\", \"Type 1\": \"Poison\", \"Type 2\": \"Flying\", \"Total\": 245, \"HP\": 40, \"Attack\": 45, \"Defense\": 35, \"SpecialA\": 30, \"SpecialD\": 40, \"Speed\": 55, \"Generation\": 1, \"cluster\": 1}, {\"#\": 42, \"Name\": \"Golbat\", \"Type 1\": \"Poison\", \"Type 2\": \"Flying\", \"Total\": 455, \"HP\": 75, \"Attack\": 80, \"Defense\": 70, \"SpecialA\": 65, \"SpecialD\": 75, \"Speed\": 90, \"Generation\": 1, \"cluster\": 5}, {\"#\": 43, \"Name\": \"Oddish\", \"Type 1\": \"Grass\", \"Type 2\": \"Poison\", \"Total\": 320, \"HP\": 45, \"Attack\": 50, \"Defense\": 55, \"SpecialA\": 75, \"SpecialD\": 65, \"Speed\": 30, \"Generation\": 1, \"cluster\": 4}, {\"#\": 44, \"Name\": \"Gloom\", \"Type 1\": \"Grass\", \"Type 2\": \"Poison\", \"Total\": 395, \"HP\": 60, \"Attack\": 65, \"Defense\": 70, \"SpecialA\": 85, \"SpecialD\": 75, \"Speed\": 40, \"Generation\": 1, \"cluster\": 0}, {\"#\": 45, \"Name\": \"Vileplume\", \"Type 1\": \"Grass\", \"Type 2\": \"Poison\", \"Total\": 490, \"HP\": 75, \"Attack\": 80, \"Defense\": 85, \"SpecialA\": 110, \"SpecialD\": 90, \"Speed\": 50, \"Generation\": 1, \"cluster\": 5}, {\"#\": 46, \"Name\": \"Paras\", \"Type 1\": \"Bug\", \"Type 2\": \"Grass\", \"Total\": 285, \"HP\": 35, \"Attack\": 70, \"Defense\": 55, \"SpecialA\": 45, \"SpecialD\": 55, \"Speed\": 25, \"Generation\": 1, \"cluster\": 1}, {\"#\": 47, \"Name\": \"Parasect\", \"Type 1\": \"Bug\", \"Type 2\": \"Grass\", \"Total\": 405, \"HP\": 60, \"Attack\": 95, \"Defense\": 80, \"SpecialA\": 60, \"SpecialD\": 80, \"Speed\": 30, \"Generation\": 1, \"cluster\": 0}, {\"#\": 48, \"Name\": \"Venonat\", \"Type 1\": \"Bug\", \"Type 2\": \"Poison\", \"Total\": 305, \"HP\": 60, \"Attack\": 55, \"Defense\": 50, \"SpecialA\": 40, \"SpecialD\": 55, \"Speed\": 45, \"Generation\": 1, \"cluster\": 4}, {\"#\": 49, \"Name\": \"Venomoth\", \"Type 1\": \"Bug\", \"Type 2\": \"Poison\", \"Total\": 450, \"HP\": 70, \"Attack\": 65, \"Defense\": 60, \"SpecialA\": 90, \"SpecialD\": 75, \"Speed\": 90, \"Generation\": 1, \"cluster\": 5}, {\"#\": 62, \"Name\": \"Poliwrath\", \"Type 1\": \"Water\", \"Type 2\": \"Fighting\", \"Total\": 510, \"HP\": 90, \"Attack\": 95, \"Defense\": 95, \"SpecialA\": 70, \"SpecialD\": 90, \"Speed\": 70, \"Generation\": 1, \"cluster\": 3}, {\"#\": 69, \"Name\": \"Bellsprout\", \"Type 1\": \"Grass\", \"Type 2\": \"Poison\", \"Total\": 300, \"HP\": 50, \"Attack\": 75, \"Defense\": 35, \"SpecialA\": 70, \"SpecialD\": 30, \"Speed\": 40, \"Generation\": 1, \"cluster\": 4}, {\"#\": 70, \"Name\": \"Weepinbell\", \"Type 1\": \"Grass\", \"Type 2\": \"Poison\", \"Total\": 390, \"HP\": 65, \"Attack\": 90, \"Defense\": 50, \"SpecialA\": 85, \"SpecialD\": 45, \"Speed\": 55, \"Generation\": 1, \"cluster\": 0}, {\"#\": 71, \"Name\": \"Victreebel\", \"Type 1\": \"Grass\", \"Type 2\": \"Poison\", \"Total\": 490, \"HP\": 80, \"Attack\": 105, \"Defense\": 65, \"SpecialA\": 100, \"SpecialD\": 70, \"Speed\": 70, \"Generation\": 1, \"cluster\": 5}, {\"#\": 72, \"Name\": \"Tentacool\", \"Type 1\": \"Water\", \"Type 2\": \"Poison\", \"Total\": 335, \"HP\": 40, \"Attack\": 40, \"Defense\": 35, \"SpecialA\": 50, \"SpecialD\": 100, \"Speed\": 70, \"Generation\": 1, \"cluster\": 4}, {\"#\": 73, \"Name\": \"Tentacruel\", \"Type 1\": \"Water\", \"Type 2\": \"Poison\", \"Total\": 515, \"HP\": 80, \"Attack\": 70, \"Defense\": 65, \"SpecialA\": 80, \"SpecialD\": 120, \"Speed\": 100, \"Generation\": 1, \"cluster\": 3}, {\"#\": 74, \"Name\": \"Geodude\", \"Type 1\": \"Rock\", \"Type 2\": \"Ground\", \"Total\": 300, \"HP\": 40, \"Attack\": 80, \"Defense\": 100, \"SpecialA\": 30, \"SpecialD\": 30, \"Speed\": 20, \"Generation\": 1, \"cluster\": 4}, {\"#\": 75, \"Name\": \"Graveler\", \"Type 1\": \"Rock\", \"Type 2\": \"Ground\", \"Total\": 390, \"HP\": 55, \"Attack\": 95, \"Defense\": 115, \"SpecialA\": 45, \"SpecialD\": 45, \"Speed\": 35, \"Generation\": 1, \"cluster\": 0}, {\"#\": 76, \"Name\": \"Golem\", \"Type 1\": \"Rock\", \"Type 2\": \"Ground\", \"Total\": 495, \"HP\": 80, \"Attack\": 120, \"Defense\": 130, \"SpecialA\": 55, \"SpecialD\": 65, \"Speed\": 45, \"Generation\": 1, \"cluster\": 5}, {\"#\": 79, \"Name\": \"Slowpoke\", \"Type 1\": \"Water\", \"Type 2\": \"Psychic\", \"Total\": 315, \"HP\": 90, \"Attack\": 65, \"Defense\": 65, \"SpecialA\": 40, \"SpecialD\": 40, \"Speed\": 15, \"Generation\": 1, \"cluster\": 4}, {\"#\": 80, \"Name\": \"Slowbro\", \"Type 1\": \"Water\", \"Type 2\": \"Psychic\", \"Total\": 490, \"HP\": 95, \"Attack\": 75, \"Defense\": 110, \"SpecialA\": 100, \"SpecialD\": 80, \"Speed\": 30, \"Generation\": 1, \"cluster\": 5}, {\"#\": 80, \"Name\": \"SlowbroMega Slowbro\", \"Type 1\": \"Water\", \"Type 2\": \"Psychic\", \"Total\": 590, \"HP\": 95, \"Attack\": 75, \"Defense\": 180, \"SpecialA\": 130, \"SpecialD\": 80, \"Speed\": 30, \"Generation\": 1, \"cluster\": 2}, {\"#\": 81, \"Name\": \"Magnemite\", \"Type 1\": \"Electric\", \"Type 2\": \"Steel\", \"Total\": 325, \"HP\": 25, \"Attack\": 35, \"Defense\": 70, \"SpecialA\": 95, \"SpecialD\": 55, \"Speed\": 45, \"Generation\": 1, \"cluster\": 4}, {\"#\": 82, \"Name\": \"Magneton\", \"Type 1\": \"Electric\", \"Type 2\": \"Steel\", \"Total\": 465, \"HP\": 50, \"Attack\": 60, \"Defense\": 95, \"SpecialA\": 120, \"SpecialD\": 70, \"Speed\": 70, \"Generation\": 1, \"cluster\": 5}, {\"#\": 83, \"Name\": \"Farfetch'd\", \"Type 1\": \"Normal\", \"Type 2\": \"Flying\", \"Total\": 352, \"HP\": 52, \"Attack\": 65, \"Defense\": 55, \"SpecialA\": 58, \"SpecialD\": 62, \"Speed\": 60, \"Generation\": 1, \"cluster\": 4}, {\"#\": 84, \"Name\": \"Doduo\", \"Type 1\": \"Normal\", \"Type 2\": \"Flying\", \"Total\": 310, \"HP\": 35, \"Attack\": 85, \"Defense\": 45, \"SpecialA\": 35, \"SpecialD\": 35, \"Speed\": 75, \"Generation\": 1, \"cluster\": 4}, {\"#\": 85, \"Name\": \"Dodrio\", \"Type 1\": \"Normal\", \"Type 2\": \"Flying\", \"Total\": 460, \"HP\": 60, \"Attack\": 110, \"Defense\": 70, \"SpecialA\": 60, \"SpecialD\": 60, \"Speed\": 100, \"Generation\": 1, \"cluster\": 5}, {\"#\": 87, \"Name\": \"Dewgong\", \"Type 1\": \"Water\", \"Type 2\": \"Ice\", \"Total\": 475, \"HP\": 90, \"Attack\": 70, \"Defense\": 80, \"SpecialA\": 70, \"SpecialD\": 95, \"Speed\": 70, \"Generation\": 1, \"cluster\": 5}, {\"#\": 91, \"Name\": \"Cloyster\", \"Type 1\": \"Water\", \"Type 2\": \"Ice\", \"Total\": 525, \"HP\": 50, \"Attack\": 95, \"Defense\": 180, \"SpecialA\": 85, \"SpecialD\": 45, \"Speed\": 70, \"Generation\": 1, \"cluster\": 3}, {\"#\": 92, \"Name\": \"Gastly\", \"Type 1\": \"Ghost\", \"Type 2\": \"Poison\", \"Total\": 310, \"HP\": 30, \"Attack\": 35, \"Defense\": 30, \"SpecialA\": 100, \"SpecialD\": 35, \"Speed\": 80, \"Generation\": 1, \"cluster\": 4}, {\"#\": 93, \"Name\": \"Haunter\", \"Type 1\": \"Ghost\", \"Type 2\": \"Poison\", \"Total\": 405, \"HP\": 45, \"Attack\": 50, \"Defense\": 45, \"SpecialA\": 115, \"SpecialD\": 55, \"Speed\": 95, \"Generation\": 1, \"cluster\": 0}, {\"#\": 94, \"Name\": \"Gengar\", \"Type 1\": \"Ghost\", \"Type 2\": \"Poison\", \"Total\": 500, \"HP\": 60, \"Attack\": 65, \"Defense\": 60, \"SpecialA\": 130, \"SpecialD\": 75, \"Speed\": 110, \"Generation\": 1, \"cluster\": 3}, {\"#\": 94, \"Name\": \"GengarMega Gengar\", \"Type 1\": \"Ghost\", \"Type 2\": \"Poison\", \"Total\": 600, \"HP\": 60, \"Attack\": 65, \"Defense\": 80, \"SpecialA\": 170, \"SpecialD\": 95, \"Speed\": 130, \"Generation\": 1, \"cluster\": 2}, {\"#\": 95, \"Name\": \"Onix\", \"Type 1\": \"Rock\", \"Type 2\": \"Ground\", \"Total\": 385, \"HP\": 35, \"Attack\": 45, \"Defense\": 160, \"SpecialA\": 30, \"SpecialD\": 45, \"Speed\": 70, \"Generation\": 1, \"cluster\": 0}, {\"#\": 102, \"Name\": \"Exeggcute\", \"Type 1\": \"Grass\", \"Type 2\": \"Psychic\", \"Total\": 325, \"HP\": 60, \"Attack\": 40, \"Defense\": 80, \"SpecialA\": 60, \"SpecialD\": 45, \"Speed\": 40, \"Generation\": 1, \"cluster\": 4}, {\"#\": 103, \"Name\": \"Exeggutor\", \"Type 1\": \"Grass\", \"Type 2\": \"Psychic\", \"Total\": 520, \"HP\": 95, \"Attack\": 95, \"Defense\": 85, \"SpecialA\": 125, \"SpecialD\": 65, \"Speed\": 55, \"Generation\": 1, \"cluster\": 3}, {\"#\": 111, \"Name\": \"Rhyhorn\", \"Type 1\": \"Ground\", \"Type 2\": \"Rock\", \"Total\": 345, \"HP\": 80, \"Attack\": 85, \"Defense\": 95, \"SpecialA\": 30, \"SpecialD\": 30, \"Speed\": 25, \"Generation\": 1, \"cluster\": 4}, {\"#\": 112, \"Name\": \"Rhydon\", \"Type 1\": \"Ground\", \"Type 2\": \"Rock\", \"Total\": 485, \"HP\": 105, \"Attack\": 130, \"Defense\": 120, \"SpecialA\": 45, \"SpecialD\": 45, \"Speed\": 40, \"Generation\": 1, \"cluster\": 5}, {\"#\": 121, \"Name\": \"Starmie\", \"Type 1\": \"Water\", \"Type 2\": \"Psychic\", \"Total\": 520, \"HP\": 60, \"Attack\": 75, \"Defense\": 85, \"SpecialA\": 100, \"SpecialD\": 85, \"Speed\": 115, \"Generation\": 1, \"cluster\": 3}, {\"#\": 122, \"Name\": \"Mr. Mime\", \"Type 1\": \"Psychic\", \"Type 2\": \"Fairy\", \"Total\": 460, \"HP\": 40, \"Attack\": 45, \"Defense\": 65, \"SpecialA\": 100, \"SpecialD\": 120, \"Speed\": 90, \"Generation\": 1, \"cluster\": 5}, {\"#\": 123, \"Name\": \"Scyther\", \"Type 1\": \"Bug\", \"Type 2\": \"Flying\", \"Total\": 500, \"HP\": 70, \"Attack\": 110, \"Defense\": 80, \"SpecialA\": 55, \"SpecialD\": 80, \"Speed\": 105, \"Generation\": 1, \"cluster\": 3}, {\"#\": 124, \"Name\": \"Jynx\", \"Type 1\": \"Ice\", \"Type 2\": \"Psychic\", \"Total\": 455, \"HP\": 65, \"Attack\": 50, \"Defense\": 35, \"SpecialA\": 115, \"SpecialD\": 95, \"Speed\": 95, \"Generation\": 1, \"cluster\": 5}, {\"#\": 127, \"Name\": \"PinsirMega Pinsir\", \"Type 1\": \"Bug\", \"Type 2\": \"Flying\", \"Total\": 600, \"HP\": 65, \"Attack\": 155, \"Defense\": 120, \"SpecialA\": 65, \"SpecialD\": 90, \"Speed\": 105, \"Generation\": 1, \"cluster\": 2}, {\"#\": 130, \"Name\": \"Gyarados\", \"Type 1\": \"Water\", \"Type 2\": \"Flying\", \"Total\": 540, \"HP\": 95, \"Attack\": 125, \"Defense\": 79, \"SpecialA\": 60, \"SpecialD\": 100, \"Speed\": 81, \"Generation\": 1, \"cluster\": 3}, {\"#\": 130, \"Name\": \"GyaradosMega Gyarados\", \"Type 1\": \"Water\", \"Type 2\": \"Dark\", \"Total\": 640, \"HP\": 95, \"Attack\": 155, \"Defense\": 109, \"SpecialA\": 70, \"SpecialD\": 130, \"Speed\": 81, \"Generation\": 1, \"cluster\": 2}, {\"#\": 131, \"Name\": \"Lapras\", \"Type 1\": \"Water\", \"Type 2\": \"Ice\", \"Total\": 535, \"HP\": 130, \"Attack\": 85, \"Defense\": 80, \"SpecialA\": 85, \"SpecialD\": 95, \"Speed\": 60, \"Generation\": 1, \"cluster\": 3}, {\"#\": 138, \"Name\": \"Omanyte\", \"Type 1\": \"Rock\", \"Type 2\": \"Water\", \"Total\": 355, \"HP\": 35, \"Attack\": 40, \"Defense\": 100, \"SpecialA\": 90, \"SpecialD\": 55, \"Speed\": 35, \"Generation\": 1, \"cluster\": 4}, {\"#\": 139, \"Name\": \"Omastar\", \"Type 1\": \"Rock\", \"Type 2\": \"Water\", \"Total\": 495, \"HP\": 70, \"Attack\": 60, \"Defense\": 125, \"SpecialA\": 115, \"SpecialD\": 70, \"Speed\": 55, \"Generation\": 1, \"cluster\": 5}, {\"#\": 140, \"Name\": \"Kabuto\", \"Type 1\": \"Rock\", \"Type 2\": \"Water\", \"Total\": 355, \"HP\": 30, \"Attack\": 80, \"Defense\": 90, \"SpecialA\": 55, \"SpecialD\": 45, \"Speed\": 55, \"Generation\": 1, \"cluster\": 4}, {\"#\": 141, \"Name\": \"Kabutops\", \"Type 1\": \"Rock\", \"Type 2\": \"Water\", \"Total\": 495, \"HP\": 60, \"Attack\": 115, \"Defense\": 105, \"SpecialA\": 65, \"SpecialD\": 70, \"Speed\": 80, \"Generation\": 1, \"cluster\": 3}, {\"#\": 142, \"Name\": \"Aerodactyl\", \"Type 1\": \"Rock\", \"Type 2\": \"Flying\", \"Total\": 515, \"HP\": 80, \"Attack\": 105, \"Defense\": 65, \"SpecialA\": 60, \"SpecialD\": 75, \"Speed\": 130, \"Generation\": 1, \"cluster\": 3}, {\"#\": 142, \"Name\": \"AerodactylMega Aerodactyl\", \"Type 1\": \"Rock\", \"Type 2\": \"Flying\", \"Total\": 615, \"HP\": 80, \"Attack\": 135, \"Defense\": 85, \"SpecialA\": 70, \"SpecialD\": 95, \"Speed\": 150, \"Generation\": 1, \"cluster\": 2}, {\"#\": 149, \"Name\": \"Dragonite\", \"Type 1\": \"Dragon\", \"Type 2\": \"Flying\", \"Total\": 600, \"HP\": 91, \"Attack\": 134, \"Defense\": 95, \"SpecialA\": 100, \"SpecialD\": 100, \"Speed\": 80, \"Generation\": 1, \"cluster\": 2}, {\"#\": 163, \"Name\": \"Hoothoot\", \"Type 1\": \"Normal\", \"Type 2\": \"Flying\", \"Total\": 262, \"HP\": 60, \"Attack\": 30, \"Defense\": 30, \"SpecialA\": 36, \"SpecialD\": 56, \"Speed\": 50, \"Generation\": 2, \"cluster\": 1}, {\"#\": 164, \"Name\": \"Noctowl\", \"Type 1\": \"Normal\", \"Type 2\": \"Flying\", \"Total\": 442, \"HP\": 100, \"Attack\": 50, \"Defense\": 50, \"SpecialA\": 76, \"SpecialD\": 96, \"Speed\": 70, \"Generation\": 2, \"cluster\": 0}, {\"#\": 165, \"Name\": \"Ledyba\", \"Type 1\": \"Bug\", \"Type 2\": \"Flying\", \"Total\": 265, \"HP\": 40, \"Attack\": 20, \"Defense\": 30, \"SpecialA\": 40, \"SpecialD\": 80, \"Speed\": 55, \"Generation\": 2, \"cluster\": 1}, {\"#\": 166, \"Name\": \"Ledian\", \"Type 1\": \"Bug\", \"Type 2\": \"Flying\", \"Total\": 390, \"HP\": 55, \"Attack\": 35, \"Defense\": 50, \"SpecialA\": 55, \"SpecialD\": 110, \"Speed\": 85, \"Generation\": 2, \"cluster\": 0}, {\"#\": 167, \"Name\": \"Spinarak\", \"Type 1\": \"Bug\", \"Type 2\": \"Poison\", \"Total\": 250, \"HP\": 40, \"Attack\": 60, \"Defense\": 40, \"SpecialA\": 40, \"SpecialD\": 40, \"Speed\": 30, \"Generation\": 2, \"cluster\": 1}, {\"#\": 168, \"Name\": \"Ariados\", \"Type 1\": \"Bug\", \"Type 2\": \"Poison\", \"Total\": 390, \"HP\": 70, \"Attack\": 90, \"Defense\": 70, \"SpecialA\": 60, \"SpecialD\": 60, \"Speed\": 40, \"Generation\": 2, \"cluster\": 0}, {\"#\": 169, \"Name\": \"Crobat\", \"Type 1\": \"Poison\", \"Type 2\": \"Flying\", \"Total\": 535, \"HP\": 85, \"Attack\": 90, \"Defense\": 80, \"SpecialA\": 70, \"SpecialD\": 80, \"Speed\": 130, \"Generation\": 2, \"cluster\": 3}, {\"#\": 170, \"Name\": \"Chinchou\", \"Type 1\": \"Water\", \"Type 2\": \"Electric\", \"Total\": 330, \"HP\": 75, \"Attack\": 38, \"Defense\": 38, \"SpecialA\": 56, \"SpecialD\": 56, \"Speed\": 67, \"Generation\": 2, \"cluster\": 4}, {\"#\": 171, \"Name\": \"Lanturn\", \"Type 1\": \"Water\", \"Type 2\": \"Electric\", \"Total\": 460, \"HP\": 125, \"Attack\": 58, \"Defense\": 58, \"SpecialA\": 76, \"SpecialD\": 76, \"Speed\": 67, \"Generation\": 2, \"cluster\": 5}, {\"#\": 174, \"Name\": \"Igglybuff\", \"Type 1\": \"Normal\", \"Type 2\": \"Fairy\", \"Total\": 210, \"HP\": 90, \"Attack\": 30, \"Defense\": 15, \"SpecialA\": 40, \"SpecialD\": 20, \"Speed\": 15, \"Generation\": 2, \"cluster\": 1}, {\"#\": 176, \"Name\": \"Togetic\", \"Type 1\": \"Fairy\", \"Type 2\": \"Flying\", \"Total\": 405, \"HP\": 55, \"Attack\": 40, \"Defense\": 85, \"SpecialA\": 80, \"SpecialD\": 105, \"Speed\": 40, \"Generation\": 2, \"cluster\": 0}, {\"#\": 177, \"Name\": \"Natu\", \"Type 1\": \"Psychic\", \"Type 2\": \"Flying\", \"Total\": 320, \"HP\": 40, \"Attack\": 50, \"Defense\": 45, \"SpecialA\": 70, \"SpecialD\": 45, \"Speed\": 70, \"Generation\": 2, \"cluster\": 4}, {\"#\": 178, \"Name\": \"Xatu\", \"Type 1\": \"Psychic\", \"Type 2\": \"Flying\", \"Total\": 470, \"HP\": 65, \"Attack\": 75, \"Defense\": 70, \"SpecialA\": 95, \"SpecialD\": 70, \"Speed\": 95, \"Generation\": 2, \"cluster\": 5}, {\"#\": 181, \"Name\": \"AmpharosMega Ampharos\", \"Type 1\": \"Electric\", \"Type 2\": \"Dragon\", \"Total\": 610, \"HP\": 90, \"Attack\": 95, \"Defense\": 105, \"SpecialA\": 165, \"SpecialD\": 110, \"Speed\": 45, \"Generation\": 2, \"cluster\": 2}, {\"#\": 183, \"Name\": \"Marill\", \"Type 1\": \"Water\", \"Type 2\": \"Fairy\", \"Total\": 250, \"HP\": 70, \"Attack\": 20, \"Defense\": 50, \"SpecialA\": 20, \"SpecialD\": 50, \"Speed\": 40, \"Generation\": 2, \"cluster\": 1}, {\"#\": 184, \"Name\": \"Azumarill\", \"Type 1\": \"Water\", \"Type 2\": \"Fairy\", \"Total\": 420, \"HP\": 100, \"Attack\": 50, \"Defense\": 80, \"SpecialA\": 60, \"SpecialD\": 80, \"Speed\": 50, \"Generation\": 2, \"cluster\": 0}, {\"#\": 187, \"Name\": \"Hoppip\", \"Type 1\": \"Grass\", \"Type 2\": \"Flying\", \"Total\": 250, \"HP\": 35, \"Attack\": 35, \"Defense\": 40, \"SpecialA\": 35, \"SpecialD\": 55, \"Speed\": 50, \"Generation\": 2, \"cluster\": 1}, {\"#\": 188, \"Name\": \"Skiploom\", \"Type 1\": \"Grass\", \"Type 2\": \"Flying\", \"Total\": 340, \"HP\": 55, \"Attack\": 45, \"Defense\": 50, \"SpecialA\": 45, \"SpecialD\": 65, \"Speed\": 80, \"Generation\": 2, \"cluster\": 4}, {\"#\": 189, \"Name\": \"Jumpluff\", \"Type 1\": \"Grass\", \"Type 2\": \"Flying\", \"Total\": 460, \"HP\": 75, \"Attack\": 55, \"Defense\": 70, \"SpecialA\": 55, \"SpecialD\": 95, \"Speed\": 110, \"Generation\": 2, \"cluster\": 5}, {\"#\": 193, \"Name\": \"Yanma\", \"Type 1\": \"Bug\", \"Type 2\": \"Flying\", \"Total\": 390, \"HP\": 65, \"Attack\": 65, \"Defense\": 45, \"SpecialA\": 75, \"SpecialD\": 45, \"Speed\": 95, \"Generation\": 2, \"cluster\": 0}, {\"#\": 194, \"Name\": \"Wooper\", \"Type 1\": \"Water\", \"Type 2\": \"Ground\", \"Total\": 210, \"HP\": 55, \"Attack\": 45, \"Defense\": 45, \"SpecialA\": 25, \"SpecialD\": 25, \"Speed\": 15, \"Generation\": 2, \"cluster\": 1}, {\"#\": 195, \"Name\": \"Quagsire\", \"Type 1\": \"Water\", \"Type 2\": \"Ground\", \"Total\": 430, \"HP\": 95, \"Attack\": 85, \"Defense\": 85, \"SpecialA\": 65, \"SpecialD\": 65, \"Speed\": 35, \"Generation\": 2, \"cluster\": 0}, {\"#\": 198, \"Name\": \"Murkrow\", \"Type 1\": \"Dark\", \"Type 2\": \"Flying\", \"Total\": 405, \"HP\": 60, \"Attack\": 85, \"Defense\": 42, \"SpecialA\": 85, \"SpecialD\": 42, \"Speed\": 91, \"Generation\": 2, \"cluster\": 0}, {\"#\": 199, \"Name\": \"Slowking\", \"Type 1\": \"Water\", \"Type 2\": \"Psychic\", \"Total\": 490, \"HP\": 95, \"Attack\": 75, \"Defense\": 80, \"SpecialA\": 100, \"SpecialD\": 110, \"Speed\": 30, \"Generation\": 2, \"cluster\": 5}, {\"#\": 203, \"Name\": \"Girafarig\", \"Type 1\": \"Normal\", \"Type 2\": \"Psychic\", \"Total\": 455, \"HP\": 70, \"Attack\": 80, \"Defense\": 65, \"SpecialA\": 90, \"SpecialD\": 65, \"Speed\": 85, \"Generation\": 2, \"cluster\": 5}, {\"#\": 205, \"Name\": \"Forretress\", \"Type 1\": \"Bug\", \"Type 2\": \"Steel\", \"Total\": 465, \"HP\": 75, \"Attack\": 90, \"Defense\": 140, \"SpecialA\": 60, \"SpecialD\": 60, \"Speed\": 40, \"Generation\": 2, \"cluster\": 5}, {\"#\": 207, \"Name\": \"Gligar\", \"Type 1\": \"Ground\", \"Type 2\": \"Flying\", \"Total\": 430, \"HP\": 65, \"Attack\": 75, \"Defense\": 105, \"SpecialA\": 35, \"SpecialD\": 65, \"Speed\": 85, \"Generation\": 2, \"cluster\": 0}, {\"#\": 208, \"Name\": \"Steelix\", \"Type 1\": \"Steel\", \"Type 2\": \"Ground\", \"Total\": 510, \"HP\": 75, \"Attack\": 85, \"Defense\": 200, \"SpecialA\": 55, \"SpecialD\": 65, \"Speed\": 30, \"Generation\": 2, \"cluster\": 5}, {\"#\": 208, \"Name\": \"SteelixMega Steelix\", \"Type 1\": \"Steel\", \"Type 2\": \"Ground\", \"Total\": 610, \"HP\": 75, \"Attack\": 125, \"Defense\": 230, \"SpecialA\": 55, \"SpecialD\": 95, \"Speed\": 30, \"Generation\": 2, \"cluster\": 2}, {\"#\": 211, \"Name\": \"Qwilfish\", \"Type 1\": \"Water\", \"Type 2\": \"Poison\", \"Total\": 430, \"HP\": 65, \"Attack\": 95, \"Defense\": 75, \"SpecialA\": 55, \"SpecialD\": 55, \"Speed\": 85, \"Generation\": 2, \"cluster\": 0}, {\"#\": 212, \"Name\": \"Scizor\", \"Type 1\": \"Bug\", \"Type 2\": \"Steel\", \"Total\": 500, \"HP\": 70, \"Attack\": 130, \"Defense\": 100, \"SpecialA\": 55, \"SpecialD\": 80, \"Speed\": 65, \"Generation\": 2, \"cluster\": 5}, {\"#\": 212, \"Name\": \"ScizorMega Scizor\", \"Type 1\": \"Bug\", \"Type 2\": \"Steel\", \"Total\": 600, \"HP\": 70, \"Attack\": 150, \"Defense\": 140, \"SpecialA\": 65, \"SpecialD\": 100, \"Speed\": 75, \"Generation\": 2, \"cluster\": 2}, {\"#\": 213, \"Name\": \"Shuckle\", \"Type 1\": \"Bug\", \"Type 2\": \"Rock\", \"Total\": 505, \"HP\": 20, \"Attack\": 10, \"Defense\": 230, \"SpecialA\": 10, \"SpecialD\": 230, \"Speed\": 5, \"Generation\": 2, \"cluster\": 5}, {\"#\": 214, \"Name\": \"Heracross\", \"Type 1\": \"Bug\", \"Type 2\": \"Fighting\", \"Total\": 500, \"HP\": 80, \"Attack\": 125, \"Defense\": 75, \"SpecialA\": 40, \"SpecialD\": 95, \"Speed\": 85, \"Generation\": 2, \"cluster\": 3}, {\"#\": 214, \"Name\": \"HeracrossMega Heracross\", \"Type 1\": \"Bug\", \"Type 2\": \"Fighting\", \"Total\": 600, \"HP\": 80, \"Attack\": 185, \"Defense\": 115, \"SpecialA\": 40, \"SpecialD\": 105, \"Speed\": 75, \"Generation\": 2, \"cluster\": 2}, {\"#\": 215, \"Name\": \"Sneasel\", \"Type 1\": \"Dark\", \"Type 2\": \"Ice\", \"Total\": 430, \"HP\": 55, \"Attack\": 95, \"Defense\": 55, \"SpecialA\": 35, \"SpecialD\": 75, \"Speed\": 115, \"Generation\": 2, \"cluster\": 0}, {\"#\": 219, \"Name\": \"Magcargo\", \"Type 1\": \"Fire\", \"Type 2\": \"Rock\", \"Total\": 410, \"HP\": 50, \"Attack\": 50, \"Defense\": 120, \"SpecialA\": 80, \"SpecialD\": 80, \"Speed\": 30, \"Generation\": 2, \"cluster\": 0}, {\"#\": 220, \"Name\": \"Swinub\", \"Type 1\": \"Ice\", \"Type 2\": \"Ground\", \"Total\": 250, \"HP\": 50, \"Attack\": 50, \"Defense\": 40, \"SpecialA\": 30, \"SpecialD\": 30, \"Speed\": 50, \"Generation\": 2, \"cluster\": 1}, {\"#\": 221, \"Name\": \"Piloswine\", \"Type 1\": \"Ice\", \"Type 2\": \"Ground\", \"Total\": 450, \"HP\": 100, \"Attack\": 100, \"Defense\": 80, \"SpecialA\": 60, \"SpecialD\": 60, \"Speed\": 50, \"Generation\": 2, \"cluster\": 5}, {\"#\": 222, \"Name\": \"Corsola\", \"Type 1\": \"Water\", \"Type 2\": \"Rock\", \"Total\": 380, \"HP\": 55, \"Attack\": 55, \"Defense\": 85, \"SpecialA\": 65, \"SpecialD\": 85, \"Speed\": 35, \"Generation\": 2, \"cluster\": 0}, {\"#\": 225, \"Name\": \"Delibird\", \"Type 1\": \"Ice\", \"Type 2\": \"Flying\", \"Total\": 330, \"HP\": 45, \"Attack\": 55, \"Defense\": 45, \"SpecialA\": 65, \"SpecialD\": 45, \"Speed\": 75, \"Generation\": 2, \"cluster\": 4}, {\"#\": 226, \"Name\": \"Mantine\", \"Type 1\": \"Water\", \"Type 2\": \"Flying\", \"Total\": 465, \"HP\": 65, \"Attack\": 40, \"Defense\": 70, \"SpecialA\": 80, \"SpecialD\": 140, \"Speed\": 70, \"Generation\": 2, \"cluster\": 5}, {\"#\": 227, \"Name\": \"Skarmory\", \"Type 1\": \"Steel\", \"Type 2\": \"Flying\", \"Total\": 465, \"HP\": 65, \"Attack\": 80, \"Defense\": 140, \"SpecialA\": 40, \"SpecialD\": 70, \"Speed\": 70, \"Generation\": 2, \"cluster\": 5}, {\"#\": 228, \"Name\": \"Houndour\", \"Type 1\": \"Dark\", \"Type 2\": \"Fire\", \"Total\": 330, \"HP\": 45, \"Attack\": 60, \"Defense\": 30, \"SpecialA\": 80, \"SpecialD\": 50, \"Speed\": 65, \"Generation\": 2, \"cluster\": 4}, {\"#\": 229, \"Name\": \"Houndoom\", \"Type 1\": \"Dark\", \"Type 2\": \"Fire\", \"Total\": 500, \"HP\": 75, \"Attack\": 90, \"Defense\": 50, \"SpecialA\": 110, \"SpecialD\": 80, \"Speed\": 95, \"Generation\": 2, \"cluster\": 3}, {\"#\": 229, \"Name\": \"HoundoomMega Houndoom\", \"Type 1\": \"Dark\", \"Type 2\": \"Fire\", \"Total\": 600, \"HP\": 75, \"Attack\": 90, \"Defense\": 90, \"SpecialA\": 140, \"SpecialD\": 90, \"Speed\": 115, \"Generation\": 2, \"cluster\": 2}, {\"#\": 230, \"Name\": \"Kingdra\", \"Type 1\": \"Water\", \"Type 2\": \"Dragon\", \"Total\": 540, \"HP\": 75, \"Attack\": 95, \"Defense\": 95, \"SpecialA\": 95, \"SpecialD\": 95, \"Speed\": 85, \"Generation\": 2, \"cluster\": 3}, {\"#\": 238, \"Name\": \"Smoochum\", \"Type 1\": \"Ice\", \"Type 2\": \"Psychic\", \"Total\": 305, \"HP\": 45, \"Attack\": 30, \"Defense\": 15, \"SpecialA\": 85, \"SpecialD\": 65, \"Speed\": 65, \"Generation\": 2, \"cluster\": 4}, {\"#\": 246, \"Name\": \"Larvitar\", \"Type 1\": \"Rock\", \"Type 2\": \"Ground\", \"Total\": 300, \"HP\": 50, \"Attack\": 64, \"Defense\": 50, \"SpecialA\": 45, \"SpecialD\": 50, \"Speed\": 41, \"Generation\": 2, \"cluster\": 4}, {\"#\": 247, \"Name\": \"Pupitar\", \"Type 1\": \"Rock\", \"Type 2\": \"Ground\", \"Total\": 410, \"HP\": 70, \"Attack\": 84, \"Defense\": 70, \"SpecialA\": 65, \"SpecialD\": 70, \"Speed\": 51, \"Generation\": 2, \"cluster\": 0}, {\"#\": 248, \"Name\": \"Tyranitar\", \"Type 1\": \"Rock\", \"Type 2\": \"Dark\", \"Total\": 600, \"HP\": 100, \"Attack\": 134, \"Defense\": 110, \"SpecialA\": 95, \"SpecialD\": 100, \"Speed\": 61, \"Generation\": 2, \"cluster\": 2}, {\"#\": 248, \"Name\": \"TyranitarMega Tyranitar\", \"Type 1\": \"Rock\", \"Type 2\": \"Dark\", \"Total\": 700, \"HP\": 100, \"Attack\": 164, \"Defense\": 150, \"SpecialA\": 95, \"SpecialD\": 120, \"Speed\": 71, \"Generation\": 2, \"cluster\": 2}, {\"#\": 251, \"Name\": \"Celebi\", \"Type 1\": \"Psychic\", \"Type 2\": \"Grass\", \"Total\": 600, \"HP\": 100, \"Attack\": 100, \"Defense\": 100, \"SpecialA\": 100, \"SpecialD\": 100, \"Speed\": 100, \"Generation\": 2, \"cluster\": 2}, {\"#\": 254, \"Name\": \"SceptileMega Sceptile\", \"Type 1\": \"Grass\", \"Type 2\": \"Dragon\", \"Total\": 630, \"HP\": 70, \"Attack\": 110, \"Defense\": 75, \"SpecialA\": 145, \"SpecialD\": 85, \"Speed\": 145, \"Generation\": 3, \"cluster\": 2}, {\"#\": 256, \"Name\": \"Combusken\", \"Type 1\": \"Fire\", \"Type 2\": \"Fighting\", \"Total\": 405, \"HP\": 60, \"Attack\": 85, \"Defense\": 60, \"SpecialA\": 85, \"SpecialD\": 60, \"Speed\": 55, \"Generation\": 3, \"cluster\": 0}, {\"#\": 257, \"Name\": \"Blaziken\", \"Type 1\": \"Fire\", \"Type 2\": \"Fighting\", \"Total\": 530, \"HP\": 80, \"Attack\": 120, \"Defense\": 70, \"SpecialA\": 110, \"SpecialD\": 70, \"Speed\": 80, \"Generation\": 3, \"cluster\": 3}, {\"#\": 257, \"Name\": \"BlazikenMega Blaziken\", \"Type 1\": \"Fire\", \"Type 2\": \"Fighting\", \"Total\": 630, \"HP\": 80, \"Attack\": 160, \"Defense\": 80, \"SpecialA\": 130, \"SpecialD\": 80, \"Speed\": 100, \"Generation\": 3, \"cluster\": 2}, {\"#\": 259, \"Name\": \"Marshtomp\", \"Type 1\": \"Water\", \"Type 2\": \"Ground\", \"Total\": 405, \"HP\": 70, \"Attack\": 85, \"Defense\": 70, \"SpecialA\": 60, \"SpecialD\": 70, \"Speed\": 50, \"Generation\": 3, \"cluster\": 0}, {\"#\": 260, \"Name\": \"Swampert\", \"Type 1\": \"Water\", \"Type 2\": \"Ground\", \"Total\": 535, \"HP\": 100, \"Attack\": 110, \"Defense\": 90, \"SpecialA\": 85, \"SpecialD\": 90, \"Speed\": 60, \"Generation\": 3, \"cluster\": 3}, {\"#\": 260, \"Name\": \"SwampertMega Swampert\", \"Type 1\": \"Water\", \"Type 2\": \"Ground\", \"Total\": 635, \"HP\": 100, \"Attack\": 150, \"Defense\": 110, \"SpecialA\": 95, \"SpecialD\": 110, \"Speed\": 70, \"Generation\": 3, \"cluster\": 2}, {\"#\": 267, \"Name\": \"Beautifly\", \"Type 1\": \"Bug\", \"Type 2\": \"Flying\", \"Total\": 395, \"HP\": 60, \"Attack\": 70, \"Defense\": 50, \"SpecialA\": 100, \"SpecialD\": 50, \"Speed\": 65, \"Generation\": 3, \"cluster\": 0}, {\"#\": 269, \"Name\": \"Dustox\", \"Type 1\": \"Bug\", \"Type 2\": \"Poison\", \"Total\": 385, \"HP\": 60, \"Attack\": 50, \"Defense\": 70, \"SpecialA\": 50, \"SpecialD\": 90, \"Speed\": 65, \"Generation\": 3, \"cluster\": 0}, {\"#\": 270, \"Name\": \"Lotad\", \"Type 1\": \"Water\", \"Type 2\": \"Grass\", \"Total\": 220, \"HP\": 40, \"Attack\": 30, \"Defense\": 30, \"SpecialA\": 40, \"SpecialD\": 50, \"Speed\": 30, \"Generation\": 3, \"cluster\": 1}, {\"#\": 271, \"Name\": \"Lombre\", \"Type 1\": \"Water\", \"Type 2\": \"Grass\", \"Total\": 340, \"HP\": 60, \"Attack\": 50, \"Defense\": 50, \"SpecialA\": 60, \"SpecialD\": 70, \"Speed\": 50, \"Generation\": 3, \"cluster\": 4}, {\"#\": 272, \"Name\": \"Ludicolo\", \"Type 1\": \"Water\", \"Type 2\": \"Grass\", \"Total\": 480, \"HP\": 80, \"Attack\": 70, \"Defense\": 70, \"SpecialA\": 90, \"SpecialD\": 100, \"Speed\": 70, \"Generation\": 3, \"cluster\": 5}, {\"#\": 274, \"Name\": \"Nuzleaf\", \"Type 1\": \"Grass\", \"Type 2\": \"Dark\", \"Total\": 340, \"HP\": 70, \"Attack\": 70, \"Defense\": 40, \"SpecialA\": 60, \"SpecialD\": 40, \"Speed\": 60, \"Generation\": 3, \"cluster\": 4}, {\"#\": 275, \"Name\": \"Shiftry\", \"Type 1\": \"Grass\", \"Type 2\": \"Dark\", \"Total\": 480, \"HP\": 90, \"Attack\": 100, \"Defense\": 60, \"SpecialA\": 90, \"SpecialD\": 60, \"Speed\": 80, \"Generation\": 3, \"cluster\": 5}, {\"#\": 276, \"Name\": \"Taillow\", \"Type 1\": \"Normal\", \"Type 2\": \"Flying\", \"Total\": 270, \"HP\": 40, \"Attack\": 55, \"Defense\": 30, \"SpecialA\": 30, \"SpecialD\": 30, \"Speed\": 85, \"Generation\": 3, \"cluster\": 1}, {\"#\": 277, \"Name\": \"Swellow\", \"Type 1\": \"Normal\", \"Type 2\": \"Flying\", \"Total\": 430, \"HP\": 60, \"Attack\": 85, \"Defense\": 60, \"SpecialA\": 50, \"SpecialD\": 50, \"Speed\": 125, \"Generation\": 3, \"cluster\": 0}, {\"#\": 278, \"Name\": \"Wingull\", \"Type 1\": \"Water\", \"Type 2\": \"Flying\", \"Total\": 270, \"HP\": 40, \"Attack\": 30, \"Defense\": 30, \"SpecialA\": 55, \"SpecialD\": 30, \"Speed\": 85, \"Generation\": 3, \"cluster\": 1}, {\"#\": 279, \"Name\": \"Pelipper\", \"Type 1\": \"Water\", \"Type 2\": \"Flying\", \"Total\": 430, \"HP\": 60, \"Attack\": 50, \"Defense\": 100, \"SpecialA\": 85, \"SpecialD\": 70, \"Speed\": 65, \"Generation\": 3, \"cluster\": 0}, {\"#\": 280, \"Name\": \"Ralts\", \"Type 1\": \"Psychic\", \"Type 2\": \"Fairy\", \"Total\": 198, \"HP\": 28, \"Attack\": 25, \"Defense\": 25, \"SpecialA\": 45, \"SpecialD\": 35, \"Speed\": 40, \"Generation\": 3, \"cluster\": 1}, {\"#\": 281, \"Name\": \"Kirlia\", \"Type 1\": \"Psychic\", \"Type 2\": \"Fairy\", \"Total\": 278, \"HP\": 38, \"Attack\": 35, \"Defense\": 35, \"SpecialA\": 65, \"SpecialD\": 55, \"Speed\": 50, \"Generation\": 3, \"cluster\": 1}, {\"#\": 282, \"Name\": \"Gardevoir\", \"Type 1\": \"Psychic\", \"Type 2\": \"Fairy\", \"Total\": 518, \"HP\": 68, \"Attack\": 65, \"Defense\": 65, \"SpecialA\": 125, \"SpecialD\": 115, \"Speed\": 80, \"Generation\": 3, \"cluster\": 3}, {\"#\": 282, \"Name\": \"GardevoirMega Gardevoir\", \"Type 1\": \"Psychic\", \"Type 2\": \"Fairy\", \"Total\": 618, \"HP\": 68, \"Attack\": 85, \"Defense\": 65, \"SpecialA\": 165, \"SpecialD\": 135, \"Speed\": 100, \"Generation\": 3, \"cluster\": 2}, {\"#\": 283, \"Name\": \"Surskit\", \"Type 1\": \"Bug\", \"Type 2\": \"Water\", \"Total\": 269, \"HP\": 40, \"Attack\": 30, \"Defense\": 32, \"SpecialA\": 50, \"SpecialD\": 52, \"Speed\": 65, \"Generation\": 3, \"cluster\": 1}, {\"#\": 284, \"Name\": \"Masquerain\", \"Type 1\": \"Bug\", \"Type 2\": \"Flying\", \"Total\": 414, \"HP\": 70, \"Attack\": 60, \"Defense\": 62, \"SpecialA\": 80, \"SpecialD\": 82, \"Speed\": 60, \"Generation\": 3, \"cluster\": 0}, {\"#\": 286, \"Name\": \"Breloom\", \"Type 1\": \"Grass\", \"Type 2\": \"Fighting\", \"Total\": 460, \"HP\": 60, \"Attack\": 130, \"Defense\": 80, \"SpecialA\": 60, \"SpecialD\": 60, \"Speed\": 70, \"Generation\": 3, \"cluster\": 5}, {\"#\": 290, \"Name\": \"Nincada\", \"Type 1\": \"Bug\", \"Type 2\": \"Ground\", \"Total\": 266, \"HP\": 31, \"Attack\": 45, \"Defense\": 90, \"SpecialA\": 30, \"SpecialD\": 30, \"Speed\": 40, \"Generation\": 3, \"cluster\": 1}, {\"#\": 291, \"Name\": \"Ninjask\", \"Type 1\": \"Bug\", \"Type 2\": \"Flying\", \"Total\": 456, \"HP\": 61, \"Attack\": 90, \"Defense\": 45, \"SpecialA\": 50, \"SpecialD\": 50, \"Speed\": 160, \"Generation\": 3, \"cluster\": 3}, {\"#\": 292, \"Name\": \"Shedinja\", \"Type 1\": \"Bug\", \"Type 2\": \"Ghost\", \"Total\": 236, \"HP\": 1, \"Attack\": 90, \"Defense\": 45, \"SpecialA\": 30, \"SpecialD\": 30, \"Speed\": 40, \"Generation\": 3, \"cluster\": 1}, {\"#\": 298, \"Name\": \"Azurill\", \"Type 1\": \"Normal\", \"Type 2\": \"Fairy\", \"Total\": 190, \"HP\": 50, \"Attack\": 20, \"Defense\": 40, \"SpecialA\": 20, \"SpecialD\": 40, \"Speed\": 20, \"Generation\": 3, \"cluster\": 1}, {\"#\": 302, \"Name\": \"Sableye\", \"Type 1\": \"Dark\", \"Type 2\": \"Ghost\", \"Total\": 380, \"HP\": 50, \"Attack\": 75, \"Defense\": 75, \"SpecialA\": 65, \"SpecialD\": 65, \"Speed\": 50, \"Generation\": 3, \"cluster\": 0}, {\"#\": 302, \"Name\": \"SableyeMega Sableye\", \"Type 1\": \"Dark\", \"Type 2\": \"Ghost\", \"Total\": 480, \"HP\": 50, \"Attack\": 85, \"Defense\": 125, \"SpecialA\": 85, \"SpecialD\": 115, \"Speed\": 20, \"Generation\": 3, \"cluster\": 5}, {\"#\": 303, \"Name\": \"Mawile\", \"Type 1\": \"Steel\", \"Type 2\": \"Fairy\", \"Total\": 380, \"HP\": 50, \"Attack\": 85, \"Defense\": 85, \"SpecialA\": 55, \"SpecialD\": 55, \"Speed\": 50, \"Generation\": 3, \"cluster\": 0}, {\"#\": 303, \"Name\": \"MawileMega Mawile\", \"Type 1\": \"Steel\", \"Type 2\": \"Fairy\", \"Total\": 480, \"HP\": 50, \"Attack\": 105, \"Defense\": 125, \"SpecialA\": 55, \"SpecialD\": 95, \"Speed\": 50, \"Generation\": 3, \"cluster\": 5}, {\"#\": 304, \"Name\": \"Aron\", \"Type 1\": \"Steel\", \"Type 2\": \"Rock\", \"Total\": 330, \"HP\": 50, \"Attack\": 70, \"Defense\": 100, \"SpecialA\": 40, \"SpecialD\": 40, \"Speed\": 30, \"Generation\": 3, \"cluster\": 4}, {\"#\": 305, \"Name\": \"Lairon\", \"Type 1\": \"Steel\", \"Type 2\": \"Rock\", \"Total\": 430, \"HP\": 60, \"Attack\": 90, \"Defense\": 140, \"SpecialA\": 50, \"SpecialD\": 50, \"Speed\": 40, \"Generation\": 3, \"cluster\": 0}, {\"#\": 306, \"Name\": \"Aggron\", \"Type 1\": \"Steel\", \"Type 2\": \"Rock\", \"Total\": 530, \"HP\": 70, \"Attack\": 110, \"Defense\": 180, \"SpecialA\": 60, \"SpecialD\": 60, \"Speed\": 50, \"Generation\": 3, \"cluster\": 3}, {\"#\": 307, \"Name\": \"Meditite\", \"Type 1\": \"Fighting\", \"Type 2\": \"Psychic\", \"Total\": 280, \"HP\": 30, \"Attack\": 40, \"Defense\": 55, \"SpecialA\": 40, \"SpecialD\": 55, \"Speed\": 60, \"Generation\": 3, \"cluster\": 1}, {\"#\": 308, \"Name\": \"Medicham\", \"Type 1\": \"Fighting\", \"Type 2\": \"Psychic\", \"Total\": 410, \"HP\": 60, \"Attack\": 60, \"Defense\": 75, \"SpecialA\": 60, \"SpecialD\": 75, \"Speed\": 80, \"Generation\": 3, \"cluster\": 0}, {\"#\": 308, \"Name\": \"MedichamMega Medicham\", \"Type 1\": \"Fighting\", \"Type 2\": \"Psychic\", \"Total\": 510, \"HP\": 60, \"Attack\": 100, \"Defense\": 85, \"SpecialA\": 80, \"SpecialD\": 85, \"Speed\": 100, \"Generation\": 3, \"cluster\": 3}, {\"#\": 315, \"Name\": \"Roselia\", \"Type 1\": \"Grass\", \"Type 2\": \"Poison\", \"Total\": 400, \"HP\": 50, \"Attack\": 60, \"Defense\": 45, \"SpecialA\": 100, \"SpecialD\": 80, \"Speed\": 65, \"Generation\": 3, \"cluster\": 0}, {\"#\": 318, \"Name\": \"Carvanha\", \"Type 1\": \"Water\", \"Type 2\": \"Dark\", \"Total\": 305, \"HP\": 45, \"Attack\": 90, \"Defense\": 20, \"SpecialA\": 65, \"SpecialD\": 20, \"Speed\": 65, \"Generation\": 3, \"cluster\": 4}, {\"#\": 319, \"Name\": \"Sharpedo\", \"Type 1\": \"Water\", \"Type 2\": \"Dark\", \"Total\": 460, \"HP\": 70, \"Attack\": 120, \"Defense\": 40, \"SpecialA\": 95, \"SpecialD\": 40, \"Speed\": 95, \"Generation\": 3, \"cluster\": 5}, {\"#\": 319, \"Name\": \"SharpedoMega Sharpedo\", \"Type 1\": \"Water\", \"Type 2\": \"Dark\", \"Total\": 560, \"HP\": 70, \"Attack\": 140, \"Defense\": 70, \"SpecialA\": 110, \"SpecialD\": 65, \"Speed\": 105, \"Generation\": 3, \"cluster\": 3}, {\"#\": 322, \"Name\": \"Numel\", \"Type 1\": \"Fire\", \"Type 2\": \"Ground\", \"Total\": 305, \"HP\": 60, \"Attack\": 60, \"Defense\": 40, \"SpecialA\": 65, \"SpecialD\": 45, \"Speed\": 35, \"Generation\": 3, \"cluster\": 4}, {\"#\": 323, \"Name\": \"Camerupt\", \"Type 1\": \"Fire\", \"Type 2\": \"Ground\", \"Total\": 460, \"HP\": 70, \"Attack\": 100, \"Defense\": 70, \"SpecialA\": 105, \"SpecialD\": 75, \"Speed\": 40, \"Generation\": 3, \"cluster\": 5}, {\"#\": 323, \"Name\": \"CameruptMega Camerupt\", \"Type 1\": \"Fire\", \"Type 2\": \"Ground\", \"Total\": 560, \"HP\": 70, \"Attack\": 120, \"Defense\": 100, \"SpecialA\": 145, \"SpecialD\": 105, \"Speed\": 20, \"Generation\": 3, \"cluster\": 3}, {\"#\": 329, \"Name\": \"Vibrava\", \"Type 1\": \"Ground\", \"Type 2\": \"Dragon\", \"Total\": 340, \"HP\": 50, \"Attack\": 70, \"Defense\": 50, \"SpecialA\": 50, \"SpecialD\": 50, \"Speed\": 70, \"Generation\": 3, \"cluster\": 4}, {\"#\": 330, \"Name\": \"Flygon\", \"Type 1\": \"Ground\", \"Type 2\": \"Dragon\", \"Total\": 520, \"HP\": 80, \"Attack\": 100, \"Defense\": 80, \"SpecialA\": 80, \"SpecialD\": 80, \"Speed\": 100, \"Generation\": 3, \"cluster\": 3}, {\"#\": 332, \"Name\": \"Cacturne\", \"Type 1\": \"Grass\", \"Type 2\": \"Dark\", \"Total\": 475, \"HP\": 70, \"Attack\": 115, \"Defense\": 60, \"SpecialA\": 115, \"SpecialD\": 60, \"Speed\": 55, \"Generation\": 3, \"cluster\": 5}, {\"#\": 333, \"Name\": \"Swablu\", \"Type 1\": \"Normal\", \"Type 2\": \"Flying\", \"Total\": 310, \"HP\": 45, \"Attack\": 40, \"Defense\": 60, \"SpecialA\": 40, \"SpecialD\": 75, \"Speed\": 50, \"Generation\": 3, \"cluster\": 4}, {\"#\": 334, \"Name\": \"Altaria\", \"Type 1\": \"Dragon\", \"Type 2\": \"Flying\", \"Total\": 490, \"HP\": 75, \"Attack\": 70, \"Defense\": 90, \"SpecialA\": 70, \"SpecialD\": 105, \"Speed\": 80, \"Generation\": 3, \"cluster\": 5}, {\"#\": 334, \"Name\": \"AltariaMega Altaria\", \"Type 1\": \"Dragon\", \"Type 2\": \"Fairy\", \"Total\": 590, \"HP\": 75, \"Attack\": 110, \"Defense\": 110, \"SpecialA\": 110, \"SpecialD\": 105, \"Speed\": 80, \"Generation\": 3, \"cluster\": 2}, {\"#\": 337, \"Name\": \"Lunatone\", \"Type 1\": \"Rock\", \"Type 2\": \"Psychic\", \"Total\": 440, \"HP\": 70, \"Attack\": 55, \"Defense\": 65, \"SpecialA\": 95, \"SpecialD\": 85, \"Speed\": 70, \"Generation\": 3, \"cluster\": 0}, {\"#\": 338, \"Name\": \"Solrock\", \"Type 1\": \"Rock\", \"Type 2\": \"Psychic\", \"Total\": 440, \"HP\": 70, \"Attack\": 95, \"Defense\": 85, \"SpecialA\": 55, \"SpecialD\": 65, \"Speed\": 70, \"Generation\": 3, \"cluster\": 0}, {\"#\": 339, \"Name\": \"Barboach\", \"Type 1\": \"Water\", \"Type 2\": \"Ground\", \"Total\": 288, \"HP\": 50, \"Attack\": 48, \"Defense\": 43, \"SpecialA\": 46, \"SpecialD\": 41, \"Speed\": 60, \"Generation\": 3, \"cluster\": 1}, {\"#\": 340, \"Name\": \"Whiscash\", \"Type 1\": \"Water\", \"Type 2\": \"Ground\", \"Total\": 468, \"HP\": 110, \"Attack\": 78, \"Defense\": 73, \"SpecialA\": 76, \"SpecialD\": 71, \"Speed\": 60, \"Generation\": 3, \"cluster\": 5}, {\"#\": 342, \"Name\": \"Crawdaunt\", \"Type 1\": \"Water\", \"Type 2\": \"Dark\", \"Total\": 468, \"HP\": 63, \"Attack\": 120, \"Defense\": 85, \"SpecialA\": 90, \"SpecialD\": 55, \"Speed\": 55, \"Generation\": 3, \"cluster\": 5}, {\"#\": 343, \"Name\": \"Baltoy\", \"Type 1\": \"Ground\", \"Type 2\": \"Psychic\", \"Total\": 300, \"HP\": 40, \"Attack\": 40, \"Defense\": 55, \"SpecialA\": 40, \"SpecialD\": 70, \"Speed\": 55, \"Generation\": 3, \"cluster\": 4}, {\"#\": 344, \"Name\": \"Claydol\", \"Type 1\": \"Ground\", \"Type 2\": \"Psychic\", \"Total\": 500, \"HP\": 60, \"Attack\": 70, \"Defense\": 105, \"SpecialA\": 70, \"SpecialD\": 120, \"Speed\": 75, \"Generation\": 3, \"cluster\": 3}, {\"#\": 345, \"Name\": \"Lileep\", \"Type 1\": \"Rock\", \"Type 2\": \"Grass\", \"Total\": 355, \"HP\": 66, \"Attack\": 41, \"Defense\": 77, \"SpecialA\": 61, \"SpecialD\": 87, \"Speed\": 23, \"Generation\": 3, \"cluster\": 4}, {\"#\": 346, \"Name\": \"Cradily\", \"Type 1\": \"Rock\", \"Type 2\": \"Grass\", \"Total\": 495, \"HP\": 86, \"Attack\": 81, \"Defense\": 97, \"SpecialA\": 81, \"SpecialD\": 107, \"Speed\": 43, \"Generation\": 3, \"cluster\": 5}, {\"#\": 347, \"Name\": \"Anorith\", \"Type 1\": \"Rock\", \"Type 2\": \"Bug\", \"Total\": 355, \"HP\": 45, \"Attack\": 95, \"Defense\": 50, \"SpecialA\": 40, \"SpecialD\": 50, \"Speed\": 75, \"Generation\": 3, \"cluster\": 4}, {\"#\": 348, \"Name\": \"Armaldo\", \"Type 1\": \"Rock\", \"Type 2\": \"Bug\", \"Total\": 495, \"HP\": 75, \"Attack\": 125, \"Defense\": 100, \"SpecialA\": 70, \"SpecialD\": 80, \"Speed\": 45, \"Generation\": 3, \"cluster\": 5}, {\"#\": 357, \"Name\": \"Tropius\", \"Type 1\": \"Grass\", \"Type 2\": \"Flying\", \"Total\": 460, \"HP\": 99, \"Attack\": 68, \"Defense\": 83, \"SpecialA\": 72, \"SpecialD\": 87, \"Speed\": 51, \"Generation\": 3, \"cluster\": 5}, {\"#\": 363, \"Name\": \"Spheal\", \"Type 1\": \"Ice\", \"Type 2\": \"Water\", \"Total\": 290, \"HP\": 70, \"Attack\": 40, \"Defense\": 50, \"SpecialA\": 55, \"SpecialD\": 50, \"Speed\": 25, \"Generation\": 3, \"cluster\": 1}, {\"#\": 364, \"Name\": \"Sealeo\", \"Type 1\": \"Ice\", \"Type 2\": \"Water\", \"Total\": 410, \"HP\": 90, \"Attack\": 60, \"Defense\": 70, \"SpecialA\": 75, \"SpecialD\": 70, \"Speed\": 45, \"Generation\": 3, \"cluster\": 0}, {\"#\": 365, \"Name\": \"Walrein\", \"Type 1\": \"Ice\", \"Type 2\": \"Water\", \"Total\": 530, \"HP\": 110, \"Attack\": 80, \"Defense\": 90, \"SpecialA\": 95, \"SpecialD\": 90, \"Speed\": 65, \"Generation\": 3, \"cluster\": 3}, {\"#\": 369, \"Name\": \"Relicanth\", \"Type 1\": \"Water\", \"Type 2\": \"Rock\", \"Total\": 485, \"HP\": 100, \"Attack\": 90, \"Defense\": 130, \"SpecialA\": 45, \"SpecialD\": 65, \"Speed\": 55, \"Generation\": 3, \"cluster\": 5}, {\"#\": 373, \"Name\": \"Salamence\", \"Type 1\": \"Dragon\", \"Type 2\": \"Flying\", \"Total\": 600, \"HP\": 95, \"Attack\": 135, \"Defense\": 80, \"SpecialA\": 110, \"SpecialD\": 80, \"Speed\": 100, \"Generation\": 3, \"cluster\": 2}, {\"#\": 373, \"Name\": \"SalamenceMega Salamence\", \"Type 1\": \"Dragon\", \"Type 2\": \"Flying\", \"Total\": 700, \"HP\": 95, \"Attack\": 145, \"Defense\": 130, \"SpecialA\": 120, \"SpecialD\": 90, \"Speed\": 120, \"Generation\": 3, \"cluster\": 2}, {\"#\": 374, \"Name\": \"Beldum\", \"Type 1\": \"Steel\", \"Type 2\": \"Psychic\", \"Total\": 300, \"HP\": 40, \"Attack\": 55, \"Defense\": 80, \"SpecialA\": 35, \"SpecialD\": 60, \"Speed\": 30, \"Generation\": 3, \"cluster\": 4}, {\"#\": 375, \"Name\": \"Metang\", \"Type 1\": \"Steel\", \"Type 2\": \"Psychic\", \"Total\": 420, \"HP\": 60, \"Attack\": 75, \"Defense\": 100, \"SpecialA\": 55, \"SpecialD\": 80, \"Speed\": 50, \"Generation\": 3, \"cluster\": 0}, {\"#\": 376, \"Name\": \"Metagross\", \"Type 1\": \"Steel\", \"Type 2\": \"Psychic\", \"Total\": 600, \"HP\": 80, \"Attack\": 135, \"Defense\": 130, \"SpecialA\": 95, \"SpecialD\": 90, \"Speed\": 70, \"Generation\": 3, \"cluster\": 2}, {\"#\": 376, \"Name\": \"MetagrossMega Metagross\", \"Type 1\": \"Steel\", \"Type 2\": \"Psychic\", \"Total\": 700, \"HP\": 80, \"Attack\": 145, \"Defense\": 150, \"SpecialA\": 105, \"SpecialD\": 110, \"Speed\": 110, \"Generation\": 3, \"cluster\": 2}, {\"#\": 389, \"Name\": \"Torterra\", \"Type 1\": \"Grass\", \"Type 2\": \"Ground\", \"Total\": 525, \"HP\": 95, \"Attack\": 109, \"Defense\": 105, \"SpecialA\": 75, \"SpecialD\": 85, \"Speed\": 56, \"Generation\": 4, \"cluster\": 3}, {\"#\": 391, \"Name\": \"Monferno\", \"Type 1\": \"Fire\", \"Type 2\": \"Fighting\", \"Total\": 405, \"HP\": 64, \"Attack\": 78, \"Defense\": 52, \"SpecialA\": 78, \"SpecialD\": 52, \"Speed\": 81, \"Generation\": 4, \"cluster\": 0}, {\"#\": 392, \"Name\": \"Infernape\", \"Type 1\": \"Fire\", \"Type 2\": \"Fighting\", \"Total\": 534, \"HP\": 76, \"Attack\": 104, \"Defense\": 71, \"SpecialA\": 104, \"SpecialD\": 71, \"Speed\": 108, \"Generation\": 4, \"cluster\": 3}, {\"#\": 395, \"Name\": \"Empoleon\", \"Type 1\": \"Water\", \"Type 2\": \"Steel\", \"Total\": 530, \"HP\": 84, \"Attack\": 86, \"Defense\": 88, \"SpecialA\": 111, \"SpecialD\": 101, \"Speed\": 60, \"Generation\": 4, \"cluster\": 3}, {\"#\": 396, \"Name\": \"Starly\", \"Type 1\": \"Normal\", \"Type 2\": \"Flying\", \"Total\": 245, \"HP\": 40, \"Attack\": 55, \"Defense\": 30, \"SpecialA\": 30, \"SpecialD\": 30, \"Speed\": 60, \"Generation\": 4, \"cluster\": 1}, {\"#\": 397, \"Name\": \"Staravia\", \"Type 1\": \"Normal\", \"Type 2\": \"Flying\", \"Total\": 340, \"HP\": 55, \"Attack\": 75, \"Defense\": 50, \"SpecialA\": 40, \"SpecialD\": 40, \"Speed\": 80, \"Generation\": 4, \"cluster\": 4}, {\"#\": 398, \"Name\": \"Staraptor\", \"Type 1\": \"Normal\", \"Type 2\": \"Flying\", \"Total\": 485, \"HP\": 85, \"Attack\": 120, \"Defense\": 70, \"SpecialA\": 50, \"SpecialD\": 60, \"Speed\": 100, \"Generation\": 4, \"cluster\": 3}, {\"#\": 400, \"Name\": \"Bibarel\", \"Type 1\": \"Normal\", \"Type 2\": \"Water\", \"Total\": 410, \"HP\": 79, \"Attack\": 85, \"Defense\": 60, \"SpecialA\": 55, \"SpecialD\": 60, \"Speed\": 71, \"Generation\": 4, \"cluster\": 0}, {\"#\": 406, \"Name\": \"Budew\", \"Type 1\": \"Grass\", \"Type 2\": \"Poison\", \"Total\": 280, \"HP\": 40, \"Attack\": 30, \"Defense\": 35, \"SpecialA\": 50, \"SpecialD\": 70, \"Speed\": 55, \"Generation\": 4, \"cluster\": 1}, {\"#\": 407, \"Name\": \"Roserade\", \"Type 1\": \"Grass\", \"Type 2\": \"Poison\", \"Total\": 515, \"HP\": 60, \"Attack\": 70, \"Defense\": 65, \"SpecialA\": 125, \"SpecialD\": 105, \"Speed\": 90, \"Generation\": 4, \"cluster\": 3}, {\"#\": 410, \"Name\": \"Shieldon\", \"Type 1\": \"Rock\", \"Type 2\": \"Steel\", \"Total\": 350, \"HP\": 30, \"Attack\": 42, \"Defense\": 118, \"SpecialA\": 42, \"SpecialD\": 88, \"Speed\": 30, \"Generation\": 4, \"cluster\": 4}, {\"#\": 411, \"Name\": \"Bastiodon\", \"Type 1\": \"Rock\", \"Type 2\": \"Steel\", \"Total\": 495, \"HP\": 60, \"Attack\": 52, \"Defense\": 168, \"SpecialA\": 47, \"SpecialD\": 138, \"Speed\": 30, \"Generation\": 4, \"cluster\": 5}, {\"#\": 413, \"Name\": \"WormadamPlant Cloak\", \"Type 1\": \"Bug\", \"Type 2\": \"Grass\", \"Total\": 424, \"HP\": 60, \"Attack\": 59, \"Defense\": 85, \"SpecialA\": 79, \"SpecialD\": 105, \"Speed\": 36, \"Generation\": 4, \"cluster\": 0}, {\"#\": 413, \"Name\": \"WormadamSandy Cloak\", \"Type 1\": \"Bug\", \"Type 2\": \"Ground\", \"Total\": 424, \"HP\": 60, \"Attack\": 79, \"Defense\": 105, \"SpecialA\": 59, \"SpecialD\": 85, \"Speed\": 36, \"Generation\": 4, \"cluster\": 0}, {\"#\": 413, \"Name\": \"WormadamTrash Cloak\", \"Type 1\": \"Bug\", \"Type 2\": \"Steel\", \"Total\": 424, \"HP\": 60, \"Attack\": 69, \"Defense\": 95, \"SpecialA\": 69, \"SpecialD\": 95, \"Speed\": 36, \"Generation\": 4, \"cluster\": 0}, {\"#\": 414, \"Name\": \"Mothim\", \"Type 1\": \"Bug\", \"Type 2\": \"Flying\", \"Total\": 424, \"HP\": 70, \"Attack\": 94, \"Defense\": 50, \"SpecialA\": 94, \"SpecialD\": 50, \"Speed\": 66, \"Generation\": 4, \"cluster\": 0}, {\"#\": 415, \"Name\": \"Combee\", \"Type 1\": \"Bug\", \"Type 2\": \"Flying\", \"Total\": 244, \"HP\": 30, \"Attack\": 30, \"Defense\": 42, \"SpecialA\": 30, \"SpecialD\": 42, \"Speed\": 70, \"Generation\": 4, \"cluster\": 1}, {\"#\": 416, \"Name\": \"Vespiquen\", \"Type 1\": \"Bug\", \"Type 2\": \"Flying\", \"Total\": 474, \"HP\": 70, \"Attack\": 80, \"Defense\": 102, \"SpecialA\": 80, \"SpecialD\": 102, \"Speed\": 40, \"Generation\": 4, \"cluster\": 5}, {\"#\": 423, \"Name\": \"Gastrodon\", \"Type 1\": \"Water\", \"Type 2\": \"Ground\", \"Total\": 475, \"HP\": 111, \"Attack\": 83, \"Defense\": 68, \"SpecialA\": 92, \"SpecialD\": 82, \"Speed\": 39, \"Generation\": 4, \"cluster\": 5}, {\"#\": 425, \"Name\": \"Drifloon\", \"Type 1\": \"Ghost\", \"Type 2\": \"Flying\", \"Total\": 348, \"HP\": 90, \"Attack\": 50, \"Defense\": 34, \"SpecialA\": 60, \"SpecialD\": 44, \"Speed\": 70, \"Generation\": 4, \"cluster\": 4}, {\"#\": 426, \"Name\": \"Drifblim\", \"Type 1\": \"Ghost\", \"Type 2\": \"Flying\", \"Total\": 498, \"HP\": 150, \"Attack\": 80, \"Defense\": 44, \"SpecialA\": 90, \"SpecialD\": 54, \"Speed\": 80, \"Generation\": 4, \"cluster\": 3}, {\"#\": 428, \"Name\": \"LopunnyMega Lopunny\", \"Type 1\": \"Normal\", \"Type 2\": \"Fighting\", \"Total\": 580, \"HP\": 65, \"Attack\": 136, \"Defense\": 94, \"SpecialA\": 54, \"SpecialD\": 96, \"Speed\": 135, \"Generation\": 4, \"cluster\": 2}, {\"#\": 430, \"Name\": \"Honchkrow\", \"Type 1\": \"Dark\", \"Type 2\": \"Flying\", \"Total\": 505, \"HP\": 100, \"Attack\": 125, \"Defense\": 52, \"SpecialA\": 105, \"SpecialD\": 52, \"Speed\": 71, \"Generation\": 4, \"cluster\": 3}, {\"#\": 434, \"Name\": \"Stunky\", \"Type 1\": \"Poison\", \"Type 2\": \"Dark\", \"Total\": 329, \"HP\": 63, \"Attack\": 63, \"Defense\": 47, \"SpecialA\": 41, \"SpecialD\": 41, \"Speed\": 74, \"Generation\": 4, \"cluster\": 4}, {\"#\": 435, \"Name\": \"Skuntank\", \"Type 1\": \"Poison\", \"Type 2\": \"Dark\", \"Total\": 479, \"HP\": 103, \"Attack\": 93, \"Defense\": 67, \"SpecialA\": 71, \"SpecialD\": 61, \"Speed\": 84, \"Generation\": 4, \"cluster\": 5}, {\"#\": 436, \"Name\": \"Bronzor\", \"Type 1\": \"Steel\", \"Type 2\": \"Psychic\", \"Total\": 300, \"HP\": 57, \"Attack\": 24, \"Defense\": 86, \"SpecialA\": 24, \"SpecialD\": 86, \"Speed\": 23, \"Generation\": 4, \"cluster\": 4}, {\"#\": 437, \"Name\": \"Bronzong\", \"Type 1\": \"Steel\", \"Type 2\": \"Psychic\", \"Total\": 500, \"HP\": 67, \"Attack\": 89, \"Defense\": 116, \"SpecialA\": 79, \"SpecialD\": 116, \"Speed\": 33, \"Generation\": 4, \"cluster\": 5}, {\"#\": 439, \"Name\": \"Mime Jr.\", \"Type 1\": \"Psychic\", \"Type 2\": \"Fairy\", \"Total\": 310, \"HP\": 20, \"Attack\": 25, \"Defense\": 45, \"SpecialA\": 70, \"SpecialD\": 90, \"Speed\": 60, \"Generation\": 4, \"cluster\": 4}, {\"#\": 441, \"Name\": \"Chatot\", \"Type 1\": \"Normal\", \"Type 2\": \"Flying\", \"Total\": 411, \"HP\": 76, \"Attack\": 65, \"Defense\": 45, \"SpecialA\": 92, \"SpecialD\": 42, \"Speed\": 91, \"Generation\": 4, \"cluster\": 0}, {\"#\": 442, \"Name\": \"Spiritomb\", \"Type 1\": \"Ghost\", \"Type 2\": \"Dark\", \"Total\": 485, \"HP\": 50, \"Attack\": 92, \"Defense\": 108, \"SpecialA\": 92, \"SpecialD\": 108, \"Speed\": 35, \"Generation\": 4, \"cluster\": 5}, {\"#\": 443, \"Name\": \"Gible\", \"Type 1\": \"Dragon\", \"Type 2\": \"Ground\", \"Total\": 300, \"HP\": 58, \"Attack\": 70, \"Defense\": 45, \"SpecialA\": 40, \"SpecialD\": 45, \"Speed\": 42, \"Generation\": 4, \"cluster\": 4}, {\"#\": 444, \"Name\": \"Gabite\", \"Type 1\": \"Dragon\", \"Type 2\": \"Ground\", \"Total\": 410, \"HP\": 68, \"Attack\": 90, \"Defense\": 65, \"SpecialA\": 50, \"SpecialD\": 55, \"Speed\": 82, \"Generation\": 4, \"cluster\": 0}, {\"#\": 445, \"Name\": \"Garchomp\", \"Type 1\": \"Dragon\", \"Type 2\": \"Ground\", \"Total\": 600, \"HP\": 108, \"Attack\": 130, \"Defense\": 95, \"SpecialA\": 80, \"SpecialD\": 85, \"Speed\": 102, \"Generation\": 4, \"cluster\": 2}, {\"#\": 445, \"Name\": \"GarchompMega Garchomp\", \"Type 1\": \"Dragon\", \"Type 2\": \"Ground\", \"Total\": 700, \"HP\": 108, \"Attack\": 170, \"Defense\": 115, \"SpecialA\": 120, \"SpecialD\": 95, \"Speed\": 92, \"Generation\": 4, \"cluster\": 2}, {\"#\": 448, \"Name\": \"Lucario\", \"Type 1\": \"Fighting\", \"Type 2\": \"Steel\", \"Total\": 525, \"HP\": 70, \"Attack\": 110, \"Defense\": 70, \"SpecialA\": 115, \"SpecialD\": 70, \"Speed\": 90, \"Generation\": 4, \"cluster\": 3}, {\"#\": 448, \"Name\": \"LucarioMega Lucario\", \"Type 1\": \"Fighting\", \"Type 2\": \"Steel\", \"Total\": 625, \"HP\": 70, \"Attack\": 145, \"Defense\": 88, \"SpecialA\": 140, \"SpecialD\": 70, \"Speed\": 112, \"Generation\": 4, \"cluster\": 2}, {\"#\": 451, \"Name\": \"Skorupi\", \"Type 1\": \"Poison\", \"Type 2\": \"Bug\", \"Total\": 330, \"HP\": 40, \"Attack\": 50, \"Defense\": 90, \"SpecialA\": 30, \"SpecialD\": 55, \"Speed\": 65, \"Generation\": 4, \"cluster\": 4}, {\"#\": 452, \"Name\": \"Drapion\", \"Type 1\": \"Poison\", \"Type 2\": \"Dark\", \"Total\": 500, \"HP\": 70, \"Attack\": 90, \"Defense\": 110, \"SpecialA\": 60, \"SpecialD\": 75, \"Speed\": 95, \"Generation\": 4, \"cluster\": 3}, {\"#\": 453, \"Name\": \"Croagunk\", \"Type 1\": \"Poison\", \"Type 2\": \"Fighting\", \"Total\": 300, \"HP\": 48, \"Attack\": 61, \"Defense\": 40, \"SpecialA\": 61, \"SpecialD\": 40, \"Speed\": 50, \"Generation\": 4, \"cluster\": 4}, {\"#\": 454, \"Name\": \"Toxicroak\", \"Type 1\": \"Poison\", \"Type 2\": \"Fighting\", \"Total\": 490, \"HP\": 83, \"Attack\": 106, \"Defense\": 65, \"SpecialA\": 86, \"SpecialD\": 65, \"Speed\": 85, \"Generation\": 4, \"cluster\": 3}, {\"#\": 458, \"Name\": \"Mantyke\", \"Type 1\": \"Water\", \"Type 2\": \"Flying\", \"Total\": 345, \"HP\": 45, \"Attack\": 20, \"Defense\": 50, \"SpecialA\": 60, \"SpecialD\": 120, \"Speed\": 50, \"Generation\": 4, \"cluster\": 4}, {\"#\": 459, \"Name\": \"Snover\", \"Type 1\": \"Grass\", \"Type 2\": \"Ice\", \"Total\": 334, \"HP\": 60, \"Attack\": 62, \"Defense\": 50, \"SpecialA\": 62, \"SpecialD\": 60, \"Speed\": 40, \"Generation\": 4, \"cluster\": 4}, {\"#\": 460, \"Name\": \"Abomasnow\", \"Type 1\": \"Grass\", \"Type 2\": \"Ice\", \"Total\": 494, \"HP\": 90, \"Attack\": 92, \"Defense\": 75, \"SpecialA\": 92, \"SpecialD\": 85, \"Speed\": 60, \"Generation\": 4, \"cluster\": 5}, {\"#\": 460, \"Name\": \"AbomasnowMega Abomasnow\", \"Type 1\": \"Grass\", \"Type 2\": \"Ice\", \"Total\": 594, \"HP\": 90, \"Attack\": 132, \"Defense\": 105, \"SpecialA\": 132, \"SpecialD\": 105, \"Speed\": 30, \"Generation\": 4, \"cluster\": 2}, {\"#\": 461, \"Name\": \"Weavile\", \"Type 1\": \"Dark\", \"Type 2\": \"Ice\", \"Total\": 510, \"HP\": 70, \"Attack\": 120, \"Defense\": 65, \"SpecialA\": 45, \"SpecialD\": 85, \"Speed\": 125, \"Generation\": 4, \"cluster\": 3}, {\"#\": 462, \"Name\": \"Magnezone\", \"Type 1\": \"Electric\", \"Type 2\": \"Steel\", \"Total\": 535, \"HP\": 70, \"Attack\": 70, \"Defense\": 115, \"SpecialA\": 130, \"SpecialD\": 90, \"Speed\": 60, \"Generation\": 4, \"cluster\": 3}, {\"#\": 464, \"Name\": \"Rhyperior\", \"Type 1\": \"Ground\", \"Type 2\": \"Rock\", \"Total\": 535, \"HP\": 115, \"Attack\": 140, \"Defense\": 130, \"SpecialA\": 55, \"SpecialD\": 55, \"Speed\": 40, \"Generation\": 4, \"cluster\": 3}, {\"#\": 468, \"Name\": \"Togekiss\", \"Type 1\": \"Fairy\", \"Type 2\": \"Flying\", \"Total\": 545, \"HP\": 85, \"Attack\": 50, \"Defense\": 95, \"SpecialA\": 120, \"SpecialD\": 115, \"Speed\": 80, \"Generation\": 4, \"cluster\": 3}, {\"#\": 469, \"Name\": \"Yanmega\", \"Type 1\": \"Bug\", \"Type 2\": \"Flying\", \"Total\": 515, \"HP\": 86, \"Attack\": 76, \"Defense\": 86, \"SpecialA\": 116, \"SpecialD\": 56, \"Speed\": 95, \"Generation\": 4, \"cluster\": 3}, {\"#\": 472, \"Name\": \"Gliscor\", \"Type 1\": \"Ground\", \"Type 2\": \"Flying\", \"Total\": 510, \"HP\": 75, \"Attack\": 95, \"Defense\": 125, \"SpecialA\": 45, \"SpecialD\": 75, \"Speed\": 95, \"Generation\": 4, \"cluster\": 3}, {\"#\": 473, \"Name\": \"Mamoswine\", \"Type 1\": \"Ice\", \"Type 2\": \"Ground\", \"Total\": 530, \"HP\": 110, \"Attack\": 130, \"Defense\": 80, \"SpecialA\": 70, \"SpecialD\": 60, \"Speed\": 80, \"Generation\": 4, \"cluster\": 3}, {\"#\": 475, \"Name\": \"Gallade\", \"Type 1\": \"Psychic\", \"Type 2\": \"Fighting\", \"Total\": 518, \"HP\": 68, \"Attack\": 125, \"Defense\": 65, \"SpecialA\": 65, \"SpecialD\": 115, \"Speed\": 80, \"Generation\": 4, \"cluster\": 3}, {\"#\": 475, \"Name\": \"GalladeMega Gallade\", \"Type 1\": \"Psychic\", \"Type 2\": \"Fighting\", \"Total\": 618, \"HP\": 68, \"Attack\": 165, \"Defense\": 95, \"SpecialA\": 65, \"SpecialD\": 115, \"Speed\": 110, \"Generation\": 4, \"cluster\": 2}, {\"#\": 476, \"Name\": \"Probopass\", \"Type 1\": \"Rock\", \"Type 2\": \"Steel\", \"Total\": 525, \"HP\": 60, \"Attack\": 55, \"Defense\": 145, \"SpecialA\": 75, \"SpecialD\": 150, \"Speed\": 40, \"Generation\": 4, \"cluster\": 3}, {\"#\": 478, \"Name\": \"Froslass\", \"Type 1\": \"Ice\", \"Type 2\": \"Ghost\", \"Total\": 480, \"HP\": 70, \"Attack\": 80, \"Defense\": 70, \"SpecialA\": 80, \"SpecialD\": 70, \"Speed\": 110, \"Generation\": 4, \"cluster\": 3}, {\"#\": 479, \"Name\": \"Rotom\", \"Type 1\": \"Electric\", \"Type 2\": \"Ghost\", \"Total\": 440, \"HP\": 50, \"Attack\": 50, \"Defense\": 77, \"SpecialA\": 95, \"SpecialD\": 77, \"Speed\": 91, \"Generation\": 4, \"cluster\": 0}, {\"#\": 479, \"Name\": \"RotomHeat Rotom\", \"Type 1\": \"Electric\", \"Type 2\": \"Fire\", \"Total\": 520, \"HP\": 50, \"Attack\": 65, \"Defense\": 107, \"SpecialA\": 105, \"SpecialD\": 107, \"Speed\": 86, \"Generation\": 4, \"cluster\": 3}, {\"#\": 479, \"Name\": \"RotomWash Rotom\", \"Type 1\": \"Electric\", \"Type 2\": \"Water\", \"Total\": 520, \"HP\": 50, \"Attack\": 65, \"Defense\": 107, \"SpecialA\": 105, \"SpecialD\": 107, \"Speed\": 86, \"Generation\": 4, \"cluster\": 3}, {\"#\": 479, \"Name\": \"RotomFrost Rotom\", \"Type 1\": \"Electric\", \"Type 2\": \"Ice\", \"Total\": 520, \"HP\": 50, \"Attack\": 65, \"Defense\": 107, \"SpecialA\": 105, \"SpecialD\": 107, \"Speed\": 86, \"Generation\": 4, \"cluster\": 3}, {\"#\": 479, \"Name\": \"RotomFan Rotom\", \"Type 1\": \"Electric\", \"Type 2\": \"Flying\", \"Total\": 520, \"HP\": 50, \"Attack\": 65, \"Defense\": 107, \"SpecialA\": 105, \"SpecialD\": 107, \"Speed\": 86, \"Generation\": 4, \"cluster\": 3}, {\"#\": 479, \"Name\": \"RotomMow Rotom\", \"Type 1\": \"Electric\", \"Type 2\": \"Grass\", \"Total\": 520, \"HP\": 50, \"Attack\": 65, \"Defense\": 107, \"SpecialA\": 105, \"SpecialD\": 107, \"Speed\": 86, \"Generation\": 4, \"cluster\": 3}, {\"#\": 499, \"Name\": \"Pignite\", \"Type 1\": \"Fire\", \"Type 2\": \"Fighting\", \"Total\": 418, \"HP\": 90, \"Attack\": 93, \"Defense\": 55, \"SpecialA\": 70, \"SpecialD\": 55, \"Speed\": 55, \"Generation\": 5, \"cluster\": 0}, {\"#\": 500, \"Name\": \"Emboar\", \"Type 1\": \"Fire\", \"Type 2\": \"Fighting\", \"Total\": 528, \"HP\": 110, \"Attack\": 123, \"Defense\": 65, \"SpecialA\": 100, \"SpecialD\": 65, \"Speed\": 65, \"Generation\": 5, \"cluster\": 3}, {\"#\": 519, \"Name\": \"Pidove\", \"Type 1\": \"Normal\", \"Type 2\": \"Flying\", \"Total\": 264, \"HP\": 50, \"Attack\": 55, \"Defense\": 50, \"SpecialA\": 36, \"SpecialD\": 30, \"Speed\": 43, \"Generation\": 5, \"cluster\": 1}, {\"#\": 520, \"Name\": \"Tranquill\", \"Type 1\": \"Normal\", \"Type 2\": \"Flying\", \"Total\": 358, \"HP\": 62, \"Attack\": 77, \"Defense\": 62, \"SpecialA\": 50, \"SpecialD\": 42, \"Speed\": 65, \"Generation\": 5, \"cluster\": 4}, {\"#\": 521, \"Name\": \"Unfezant\", \"Type 1\": \"Normal\", \"Type 2\": \"Flying\", \"Total\": 488, \"HP\": 80, \"Attack\": 115, \"Defense\": 80, \"SpecialA\": 65, \"SpecialD\": 55, \"Speed\": 93, \"Generation\": 5, \"cluster\": 3}, {\"#\": 527, \"Name\": \"Woobat\", \"Type 1\": \"Psychic\", \"Type 2\": \"Flying\", \"Total\": 313, \"HP\": 55, \"Attack\": 45, \"Defense\": 43, \"SpecialA\": 55, \"SpecialD\": 43, \"Speed\": 72, \"Generation\": 5, \"cluster\": 4}, {\"#\": 528, \"Name\": \"Swoobat\", \"Type 1\": \"Psychic\", \"Type 2\": \"Flying\", \"Total\": 425, \"HP\": 67, \"Attack\": 57, \"Defense\": 55, \"SpecialA\": 77, \"SpecialD\": 55, \"Speed\": 114, \"Generation\": 5, \"cluster\": 0}, {\"#\": 530, \"Name\": \"Excadrill\", \"Type 1\": \"Ground\", \"Type 2\": \"Steel\", \"Total\": 508, \"HP\": 110, \"Attack\": 135, \"Defense\": 60, \"SpecialA\": 50, \"SpecialD\": 65, \"Speed\": 88, \"Generation\": 5, \"cluster\": 3}, {\"#\": 531, \"Name\": \"AudinoMega Audino\", \"Type 1\": \"Normal\", \"Type 2\": \"Fairy\", \"Total\": 545, \"HP\": 103, \"Attack\": 60, \"Defense\": 126, \"SpecialA\": 80, \"SpecialD\": 126, \"Speed\": 50, \"Generation\": 5, \"cluster\": 3}, {\"#\": 536, \"Name\": \"Palpitoad\", \"Type 1\": \"Water\", \"Type 2\": \"Ground\", \"Total\": 384, \"HP\": 75, \"Attack\": 65, \"Defense\": 55, \"SpecialA\": 65, \"SpecialD\": 55, \"Speed\": 69, \"Generation\": 5, \"cluster\": 0}, {\"#\": 537, \"Name\": \"Seismitoad\", \"Type 1\": \"Water\", \"Type 2\": \"Ground\", \"Total\": 509, \"HP\": 105, \"Attack\": 95, \"Defense\": 75, \"SpecialA\": 85, \"SpecialD\": 75, \"Speed\": 74, \"Generation\": 5, \"cluster\": 3}, {\"#\": 540, \"Name\": \"Sewaddle\", \"Type 1\": \"Bug\", \"Type 2\": \"Grass\", \"Total\": 310, \"HP\": 45, \"Attack\": 53, \"Defense\": 70, \"SpecialA\": 40, \"SpecialD\": 60, \"Speed\": 42, \"Generation\": 5, \"cluster\": 4}, {\"#\": 541, \"Name\": \"Swadloon\", \"Type 1\": \"Bug\", \"Type 2\": \"Grass\", \"Total\": 380, \"HP\": 55, \"Attack\": 63, \"Defense\": 90, \"SpecialA\": 50, \"SpecialD\": 80, \"Speed\": 42, \"Generation\": 5, \"cluster\": 0}, {\"#\": 542, \"Name\": \"Leavanny\", \"Type 1\": \"Bug\", \"Type 2\": \"Grass\", \"Total\": 500, \"HP\": 75, \"Attack\": 103, \"Defense\": 80, \"SpecialA\": 70, \"SpecialD\": 80, \"Speed\": 92, \"Generation\": 5, \"cluster\": 3}, {\"#\": 543, \"Name\": \"Venipede\", \"Type 1\": \"Bug\", \"Type 2\": \"Poison\", \"Total\": 260, \"HP\": 30, \"Attack\": 45, \"Defense\": 59, \"SpecialA\": 30, \"SpecialD\": 39, \"Speed\": 57, \"Generation\": 5, \"cluster\": 1}, {\"#\": 544, \"Name\": \"Whirlipede\", \"Type 1\": \"Bug\", \"Type 2\": \"Poison\", \"Total\": 360, \"HP\": 40, \"Attack\": 55, \"Defense\": 99, \"SpecialA\": 40, \"SpecialD\": 79, \"Speed\": 47, \"Generation\": 5, \"cluster\": 4}, {\"#\": 545, \"Name\": \"Scolipede\", \"Type 1\": \"Bug\", \"Type 2\": \"Poison\", \"Total\": 485, \"HP\": 60, \"Attack\": 100, \"Defense\": 89, \"SpecialA\": 55, \"SpecialD\": 69, \"Speed\": 112, \"Generation\": 5, \"cluster\": 3}, {\"#\": 546, \"Name\": \"Cottonee\", \"Type 1\": \"Grass\", \"Type 2\": \"Fairy\", \"Total\": 280, \"HP\": 40, \"Attack\": 27, \"Defense\": 60, \"SpecialA\": 37, \"SpecialD\": 50, \"Speed\": 66, \"Generation\": 5, \"cluster\": 1}, {\"#\": 547, \"Name\": \"Whimsicott\", \"Type 1\": \"Grass\", \"Type 2\": \"Fairy\", \"Total\": 480, \"HP\": 60, \"Attack\": 67, \"Defense\": 85, \"SpecialA\": 77, \"SpecialD\": 75, \"Speed\": 116, \"Generation\": 5, \"cluster\": 3}, {\"#\": 551, \"Name\": \"Sandile\", \"Type 1\": \"Ground\", \"Type 2\": \"Dark\", \"Total\": 292, \"HP\": 50, \"Attack\": 72, \"Defense\": 35, \"SpecialA\": 35, \"SpecialD\": 35, \"Speed\": 65, \"Generation\": 5, \"cluster\": 4}, {\"#\": 552, \"Name\": \"Krokorok\", \"Type 1\": \"Ground\", \"Type 2\": \"Dark\", \"Total\": 351, \"HP\": 60, \"Attack\": 82, \"Defense\": 45, \"SpecialA\": 45, \"SpecialD\": 45, \"Speed\": 74, \"Generation\": 5, \"cluster\": 4}, {\"#\": 553, \"Name\": \"Krookodile\", \"Type 1\": \"Ground\", \"Type 2\": \"Dark\", \"Total\": 519, \"HP\": 95, \"Attack\": 117, \"Defense\": 80, \"SpecialA\": 65, \"SpecialD\": 70, \"Speed\": 92, \"Generation\": 5, \"cluster\": 3}, {\"#\": 555, \"Name\": \"DarmanitanZen Mode\", \"Type 1\": \"Fire\", \"Type 2\": \"Psychic\", \"Total\": 540, \"HP\": 105, \"Attack\": 30, \"Defense\": 105, \"SpecialA\": 140, \"SpecialD\": 105, \"Speed\": 55, \"Generation\": 5, \"cluster\": 3}, {\"#\": 557, \"Name\": \"Dwebble\", \"Type 1\": \"Bug\", \"Type 2\": \"Rock\", \"Total\": 325, \"HP\": 50, \"Attack\": 65, \"Defense\": 85, \"SpecialA\": 35, \"SpecialD\": 35, \"Speed\": 55, \"Generation\": 5, \"cluster\": 4}, {\"#\": 558, \"Name\": \"Crustle\", \"Type 1\": \"Bug\", \"Type 2\": \"Rock\", \"Total\": 475, \"HP\": 70, \"Attack\": 95, \"Defense\": 125, \"SpecialA\": 65, \"SpecialD\": 75, \"Speed\": 45, \"Generation\": 5, \"cluster\": 5}, {\"#\": 559, \"Name\": \"Scraggy\", \"Type 1\": \"Dark\", \"Type 2\": \"Fighting\", \"Total\": 348, \"HP\": 50, \"Attack\": 75, \"Defense\": 70, \"SpecialA\": 35, \"SpecialD\": 70, \"Speed\": 48, \"Generation\": 5, \"cluster\": 4}, {\"#\": 560, \"Name\": \"Scrafty\", \"Type 1\": \"Dark\", \"Type 2\": \"Fighting\", \"Total\": 488, \"HP\": 65, \"Attack\": 90, \"Defense\": 115, \"SpecialA\": 45, \"SpecialD\": 115, \"Speed\": 58, \"Generation\": 5, \"cluster\": 5}, {\"#\": 561, \"Name\": \"Sigilyph\", \"Type 1\": \"Psychic\", \"Type 2\": \"Flying\", \"Total\": 490, \"HP\": 72, \"Attack\": 58, \"Defense\": 80, \"SpecialA\": 103, \"SpecialD\": 80, \"Speed\": 97, \"Generation\": 5, \"cluster\": 3}, {\"#\": 564, \"Name\": \"Tirtouga\", \"Type 1\": \"Water\", \"Type 2\": \"Rock\", \"Total\": 355, \"HP\": 54, \"Attack\": 78, \"Defense\": 103, \"SpecialA\": 53, \"SpecialD\": 45, \"Speed\": 22, \"Generation\": 5, \"cluster\": 4}, {\"#\": 565, \"Name\": \"Carracosta\", \"Type 1\": \"Water\", \"Type 2\": \"Rock\", \"Total\": 495, \"HP\": 74, \"Attack\": 108, \"Defense\": 133, \"SpecialA\": 83, \"SpecialD\": 65, \"Speed\": 32, \"Generation\": 5, \"cluster\": 5}, {\"#\": 566, \"Name\": \"Archen\", \"Type 1\": \"Rock\", \"Type 2\": \"Flying\", \"Total\": 401, \"HP\": 55, \"Attack\": 112, \"Defense\": 45, \"SpecialA\": 74, \"SpecialD\": 45, \"Speed\": 70, \"Generation\": 5, \"cluster\": 0}, {\"#\": 567, \"Name\": \"Archeops\", \"Type 1\": \"Rock\", \"Type 2\": \"Flying\", \"Total\": 567, \"HP\": 75, \"Attack\": 140, \"Defense\": 65, \"SpecialA\": 112, \"SpecialD\": 65, \"Speed\": 110, \"Generation\": 5, \"cluster\": 2}, {\"#\": 580, \"Name\": \"Ducklett\", \"Type 1\": \"Water\", \"Type 2\": \"Flying\", \"Total\": 305, \"HP\": 62, \"Attack\": 44, \"Defense\": 50, \"SpecialA\": 44, \"SpecialD\": 50, \"Speed\": 55, \"Generation\": 5, \"cluster\": 4}, {\"#\": 581, \"Name\": \"Swanna\", \"Type 1\": \"Water\", \"Type 2\": \"Flying\", \"Total\": 473, \"HP\": 75, \"Attack\": 87, \"Defense\": 63, \"SpecialA\": 87, \"SpecialD\": 63, \"Speed\": 98, \"Generation\": 5, \"cluster\": 5}, {\"#\": 585, \"Name\": \"Deerling\", \"Type 1\": \"Normal\", \"Type 2\": \"Grass\", \"Total\": 335, \"HP\": 60, \"Attack\": 60, \"Defense\": 50, \"SpecialA\": 40, \"SpecialD\": 50, \"Speed\": 75, \"Generation\": 5, \"cluster\": 4}, {\"#\": 586, \"Name\": \"Sawsbuck\", \"Type 1\": \"Normal\", \"Type 2\": \"Grass\", \"Total\": 475, \"HP\": 80, \"Attack\": 100, \"Defense\": 70, \"SpecialA\": 60, \"SpecialD\": 70, \"Speed\": 95, \"Generation\": 5, \"cluster\": 5}, {\"#\": 587, \"Name\": \"Emolga\", \"Type 1\": \"Electric\", \"Type 2\": \"Flying\", \"Total\": 428, \"HP\": 55, \"Attack\": 75, \"Defense\": 60, \"SpecialA\": 75, \"SpecialD\": 60, \"Speed\": 103, \"Generation\": 5, \"cluster\": 0}, {\"#\": 589, \"Name\": \"Escavalier\", \"Type 1\": \"Bug\", \"Type 2\": \"Steel\", \"Total\": 495, \"HP\": 70, \"Attack\": 135, \"Defense\": 105, \"SpecialA\": 60, \"SpecialD\": 105, \"Speed\": 20, \"Generation\": 5, \"cluster\": 5}, {\"#\": 590, \"Name\": \"Foongus\", \"Type 1\": \"Grass\", \"Type 2\": \"Poison\", \"Total\": 294, \"HP\": 69, \"Attack\": 55, \"Defense\": 45, \"SpecialA\": 55, \"SpecialD\": 55, \"Speed\": 15, \"Generation\": 5, \"cluster\": 4}, {\"#\": 591, \"Name\": \"Amoonguss\", \"Type 1\": \"Grass\", \"Type 2\": \"Poison\", \"Total\": 464, \"HP\": 114, \"Attack\": 85, \"Defense\": 70, \"SpecialA\": 85, \"SpecialD\": 80, \"Speed\": 30, \"Generation\": 5, \"cluster\": 5}, {\"#\": 592, \"Name\": \"Frillish\", \"Type 1\": \"Water\", \"Type 2\": \"Ghost\", \"Total\": 335, \"HP\": 55, \"Attack\": 40, \"Defense\": 50, \"SpecialA\": 65, \"SpecialD\": 85, \"Speed\": 40, \"Generation\": 5, \"cluster\": 4}, {\"#\": 593, \"Name\": \"Jellicent\", \"Type 1\": \"Water\", \"Type 2\": \"Ghost\", \"Total\": 480, \"HP\": 100, \"Attack\": 60, \"Defense\": 70, \"SpecialA\": 85, \"SpecialD\": 105, \"Speed\": 60, \"Generation\": 5, \"cluster\": 5}, {\"#\": 595, \"Name\": \"Joltik\", \"Type 1\": \"Bug\", \"Type 2\": \"Electric\", \"Total\": 319, \"HP\": 50, \"Attack\": 47, \"Defense\": 50, \"SpecialA\": 57, \"SpecialD\": 50, \"Speed\": 65, \"Generation\": 5, \"cluster\": 4}, {\"#\": 596, \"Name\": \"Galvantula\", \"Type 1\": \"Bug\", \"Type 2\": \"Electric\", \"Total\": 472, \"HP\": 70, \"Attack\": 77, \"Defense\": 60, \"SpecialA\": 97, \"SpecialD\": 60, \"Speed\": 108, \"Generation\": 5, \"cluster\": 3}, {\"#\": 597, \"Name\": \"Ferroseed\", \"Type 1\": \"Grass\", \"Type 2\": \"Steel\", \"Total\": 305, \"HP\": 44, \"Attack\": 50, \"Defense\": 91, \"SpecialA\": 24, \"SpecialD\": 86, \"Speed\": 10, \"Generation\": 5, \"cluster\": 4}, {\"#\": 598, \"Name\": \"Ferrothorn\", \"Type 1\": \"Grass\", \"Type 2\": \"Steel\", \"Total\": 489, \"HP\": 74, \"Attack\": 94, \"Defense\": 131, \"SpecialA\": 54, \"SpecialD\": 116, \"Speed\": 20, \"Generation\": 5, \"cluster\": 5}, {\"#\": 607, \"Name\": \"Litwick\", \"Type 1\": \"Ghost\", \"Type 2\": \"Fire\", \"Total\": 275, \"HP\": 50, \"Attack\": 30, \"Defense\": 55, \"SpecialA\": 65, \"SpecialD\": 55, \"Speed\": 20, \"Generation\": 5, \"cluster\": 1}, {\"#\": 608, \"Name\": \"Lampent\", \"Type 1\": \"Ghost\", \"Type 2\": \"Fire\", \"Total\": 370, \"HP\": 60, \"Attack\": 40, \"Defense\": 60, \"SpecialA\": 95, \"SpecialD\": 60, \"Speed\": 55, \"Generation\": 5, \"cluster\": 0}, {\"#\": 609, \"Name\": \"Chandelure\", \"Type 1\": \"Ghost\", \"Type 2\": \"Fire\", \"Total\": 520, \"HP\": 60, \"Attack\": 55, \"Defense\": 90, \"SpecialA\": 145, \"SpecialD\": 90, \"Speed\": 80, \"Generation\": 5, \"cluster\": 3}, {\"#\": 618, \"Name\": \"Stunfisk\", \"Type 1\": \"Ground\", \"Type 2\": \"Electric\", \"Total\": 471, \"HP\": 109, \"Attack\": 66, \"Defense\": 84, \"SpecialA\": 81, \"SpecialD\": 99, \"Speed\": 32, \"Generation\": 5, \"cluster\": 5}, {\"#\": 622, \"Name\": \"Golett\", \"Type 1\": \"Ground\", \"Type 2\": \"Ghost\", \"Total\": 303, \"HP\": 59, \"Attack\": 74, \"Defense\": 50, \"SpecialA\": 35, \"SpecialD\": 50, \"Speed\": 35, \"Generation\": 5, \"cluster\": 4}, {\"#\": 623, \"Name\": \"Golurk\", \"Type 1\": \"Ground\", \"Type 2\": \"Ghost\", \"Total\": 483, \"HP\": 89, \"Attack\": 124, \"Defense\": 80, \"SpecialA\": 55, \"SpecialD\": 80, \"Speed\": 55, \"Generation\": 5, \"cluster\": 5}, {\"#\": 624, \"Name\": \"Pawniard\", \"Type 1\": \"Dark\", \"Type 2\": \"Steel\", \"Total\": 340, \"HP\": 45, \"Attack\": 85, \"Defense\": 70, \"SpecialA\": 40, \"SpecialD\": 40, \"Speed\": 60, \"Generation\": 5, \"cluster\": 4}, {\"#\": 625, \"Name\": \"Bisharp\", \"Type 1\": \"Dark\", \"Type 2\": \"Steel\", \"Total\": 490, \"HP\": 65, \"Attack\": 125, \"Defense\": 100, \"SpecialA\": 60, \"SpecialD\": 70, \"Speed\": 70, \"Generation\": 5, \"cluster\": 5}, {\"#\": 627, \"Name\": \"Rufflet\", \"Type 1\": \"Normal\", \"Type 2\": \"Flying\", \"Total\": 350, \"HP\": 70, \"Attack\": 83, \"Defense\": 50, \"SpecialA\": 37, \"SpecialD\": 50, \"Speed\": 60, \"Generation\": 5, \"cluster\": 4}, {\"#\": 628, \"Name\": \"Braviary\", \"Type 1\": \"Normal\", \"Type 2\": \"Flying\", \"Total\": 510, \"HP\": 100, \"Attack\": 123, \"Defense\": 75, \"SpecialA\": 57, \"SpecialD\": 75, \"Speed\": 80, \"Generation\": 5, \"cluster\": 3}, {\"#\": 629, \"Name\": \"Vullaby\", \"Type 1\": \"Dark\", \"Type 2\": \"Flying\", \"Total\": 370, \"HP\": 70, \"Attack\": 55, \"Defense\": 75, \"SpecialA\": 45, \"SpecialD\": 65, \"Speed\": 60, \"Generation\": 5, \"cluster\": 0}, {\"#\": 630, \"Name\": \"Mandibuzz\", \"Type 1\": \"Dark\", \"Type 2\": \"Flying\", \"Total\": 510, \"HP\": 110, \"Attack\": 65, \"Defense\": 105, \"SpecialA\": 55, \"SpecialD\": 95, \"Speed\": 80, \"Generation\": 5, \"cluster\": 3}, {\"#\": 632, \"Name\": \"Durant\", \"Type 1\": \"Bug\", \"Type 2\": \"Steel\", \"Total\": 484, \"HP\": 58, \"Attack\": 109, \"Defense\": 112, \"SpecialA\": 48, \"SpecialD\": 48, \"Speed\": 109, \"Generation\": 5, \"cluster\": 3}, {\"#\": 633, \"Name\": \"Deino\", \"Type 1\": \"Dark\", \"Type 2\": \"Dragon\", \"Total\": 300, \"HP\": 52, \"Attack\": 65, \"Defense\": 50, \"SpecialA\": 45, \"SpecialD\": 50, \"Speed\": 38, \"Generation\": 5, \"cluster\": 4}, {\"#\": 634, \"Name\": \"Zweilous\", \"Type 1\": \"Dark\", \"Type 2\": \"Dragon\", \"Total\": 420, \"HP\": 72, \"Attack\": 85, \"Defense\": 70, \"SpecialA\": 65, \"SpecialD\": 70, \"Speed\": 58, \"Generation\": 5, \"cluster\": 0}, {\"#\": 635, \"Name\": \"Hydreigon\", \"Type 1\": \"Dark\", \"Type 2\": \"Dragon\", \"Total\": 600, \"HP\": 92, \"Attack\": 105, \"Defense\": 90, \"SpecialA\": 125, \"SpecialD\": 90, \"Speed\": 98, \"Generation\": 5, \"cluster\": 2}, {\"#\": 636, \"Name\": \"Larvesta\", \"Type 1\": \"Bug\", \"Type 2\": \"Fire\", \"Total\": 360, \"HP\": 55, \"Attack\": 85, \"Defense\": 55, \"SpecialA\": 50, \"SpecialD\": 55, \"Speed\": 60, \"Generation\": 5, \"cluster\": 4}, {\"#\": 637, \"Name\": \"Volcarona\", \"Type 1\": \"Bug\", \"Type 2\": \"Fire\", \"Total\": 550, \"HP\": 85, \"Attack\": 60, \"Defense\": 65, \"SpecialA\": 135, \"SpecialD\": 105, \"Speed\": 100, \"Generation\": 5, \"cluster\": 3}, {\"#\": 647, \"Name\": \"KeldeoOrdinary Forme\", \"Type 1\": \"Water\", \"Type 2\": \"Fighting\", \"Total\": 580, \"HP\": 91, \"Attack\": 72, \"Defense\": 90, \"SpecialA\": 129, \"SpecialD\": 90, \"Speed\": 108, \"Generation\": 5, \"cluster\": 2}, {\"#\": 647, \"Name\": \"KeldeoResolute Forme\", \"Type 1\": \"Water\", \"Type 2\": \"Fighting\", \"Total\": 580, \"HP\": 91, \"Attack\": 72, \"Defense\": 90, \"SpecialA\": 129, \"SpecialD\": 90, \"Speed\": 108, \"Generation\": 5, \"cluster\": 2}, {\"#\": 648, \"Name\": \"MeloettaAria Forme\", \"Type 1\": \"Normal\", \"Type 2\": \"Psychic\", \"Total\": 600, \"HP\": 100, \"Attack\": 77, \"Defense\": 77, \"SpecialA\": 128, \"SpecialD\": 128, \"Speed\": 90, \"Generation\": 5, \"cluster\": 2}, {\"#\": 648, \"Name\": \"MeloettaPirouette Forme\", \"Type 1\": \"Normal\", \"Type 2\": \"Fighting\", \"Total\": 600, \"HP\": 100, \"Attack\": 128, \"Defense\": 90, \"SpecialA\": 77, \"SpecialD\": 77, \"Speed\": 128, \"Generation\": 5, \"cluster\": 2}, {\"#\": 649, \"Name\": \"Genesect\", \"Type 1\": \"Bug\", \"Type 2\": \"Steel\", \"Total\": 600, \"HP\": 71, \"Attack\": 120, \"Defense\": 95, \"SpecialA\": 120, \"SpecialD\": 95, \"Speed\": 99, \"Generation\": 5, \"cluster\": 2}, {\"#\": 652, \"Name\": \"Chesnaught\", \"Type 1\": \"Grass\", \"Type 2\": \"Fighting\", \"Total\": 530, \"HP\": 88, \"Attack\": 107, \"Defense\": 122, \"SpecialA\": 74, \"SpecialD\": 75, \"Speed\": 64, \"Generation\": 6, \"cluster\": 3}, {\"#\": 655, \"Name\": \"Delphox\", \"Type 1\": \"Fire\", \"Type 2\": \"Psychic\", \"Total\": 534, \"HP\": 75, \"Attack\": 69, \"Defense\": 72, \"SpecialA\": 114, \"SpecialD\": 100, \"Speed\": 104, \"Generation\": 6, \"cluster\": 3}, {\"#\": 658, \"Name\": \"Greninja\", \"Type 1\": \"Water\", \"Type 2\": \"Dark\", \"Total\": 530, \"HP\": 72, \"Attack\": 95, \"Defense\": 67, \"SpecialA\": 103, \"SpecialD\": 71, \"Speed\": 122, \"Generation\": 6, \"cluster\": 3}, {\"#\": 660, \"Name\": \"Diggersby\", \"Type 1\": \"Normal\", \"Type 2\": \"Ground\", \"Total\": 423, \"HP\": 85, \"Attack\": 56, \"Defense\": 77, \"SpecialA\": 50, \"SpecialD\": 77, \"Speed\": 78, \"Generation\": 6, \"cluster\": 0}, {\"#\": 661, \"Name\": \"Fletchling\", \"Type 1\": \"Normal\", \"Type 2\": \"Flying\", \"Total\": 278, \"HP\": 45, \"Attack\": 50, \"Defense\": 43, \"SpecialA\": 40, \"SpecialD\": 38, \"Speed\": 62, \"Generation\": 6, \"cluster\": 1}, {\"#\": 662, \"Name\": \"Fletchinder\", \"Type 1\": \"Fire\", \"Type 2\": \"Flying\", \"Total\": 382, \"HP\": 62, \"Attack\": 73, \"Defense\": 55, \"SpecialA\": 56, \"SpecialD\": 52, \"Speed\": 84, \"Generation\": 6, \"cluster\": 0}, {\"#\": 663, \"Name\": \"Talonflame\", \"Type 1\": \"Fire\", \"Type 2\": \"Flying\", \"Total\": 499, \"HP\": 78, \"Attack\": 81, \"Defense\": 71, \"SpecialA\": 74, \"SpecialD\": 69, \"Speed\": 126, \"Generation\": 6, \"cluster\": 3}, {\"#\": 666, \"Name\": \"Vivillon\", \"Type 1\": \"Bug\", \"Type 2\": \"Flying\", \"Total\": 411, \"HP\": 80, \"Attack\": 52, \"Defense\": 50, \"SpecialA\": 90, \"SpecialD\": 50, \"Speed\": 89, \"Generation\": 6, \"cluster\": 0}, {\"#\": 667, \"Name\": \"Litleo\", \"Type 1\": \"Fire\", \"Type 2\": \"Normal\", \"Total\": 369, \"HP\": 62, \"Attack\": 50, \"Defense\": 58, \"SpecialA\": 73, \"SpecialD\": 54, \"Speed\": 72, \"Generation\": 6, \"cluster\": 0}, {\"#\": 668, \"Name\": \"Pyroar\", \"Type 1\": \"Fire\", \"Type 2\": \"Normal\", \"Total\": 507, \"HP\": 86, \"Attack\": 68, \"Defense\": 72, \"SpecialA\": 109, \"SpecialD\": 66, \"Speed\": 106, \"Generation\": 6, \"cluster\": 3}, {\"#\": 675, \"Name\": \"Pangoro\", \"Type 1\": \"Fighting\", \"Type 2\": \"Dark\", \"Total\": 495, \"HP\": 95, \"Attack\": 124, \"Defense\": 78, \"SpecialA\": 69, \"SpecialD\": 71, \"Speed\": 58, \"Generation\": 6, \"cluster\": 5}, {\"#\": 679, \"Name\": \"Honedge\", \"Type 1\": \"Steel\", \"Type 2\": \"Ghost\", \"Total\": 325, \"HP\": 45, \"Attack\": 80, \"Defense\": 100, \"SpecialA\": 35, \"SpecialD\": 37, \"Speed\": 28, \"Generation\": 6, \"cluster\": 4}, {\"#\": 680, \"Name\": \"Doublade\", \"Type 1\": \"Steel\", \"Type 2\": \"Ghost\", \"Total\": 448, \"HP\": 59, \"Attack\": 110, \"Defense\": 150, \"SpecialA\": 45, \"SpecialD\": 49, \"Speed\": 35, \"Generation\": 6, \"cluster\": 5}, {\"#\": 681, \"Name\": \"AegislashBlade Forme\", \"Type 1\": \"Steel\", \"Type 2\": \"Ghost\", \"Total\": 520, \"HP\": 60, \"Attack\": 150, \"Defense\": 50, \"SpecialA\": 150, \"SpecialD\": 50, \"Speed\": 60, \"Generation\": 6, \"cluster\": 3}, {\"#\": 681, \"Name\": \"AegislashShield Forme\", \"Type 1\": \"Steel\", \"Type 2\": \"Ghost\", \"Total\": 520, \"HP\": 60, \"Attack\": 50, \"Defense\": 150, \"SpecialA\": 50, \"SpecialD\": 150, \"Speed\": 60, \"Generation\": 6, \"cluster\": 3}, {\"#\": 686, \"Name\": \"Inkay\", \"Type 1\": \"Dark\", \"Type 2\": \"Psychic\", \"Total\": 288, \"HP\": 53, \"Attack\": 54, \"Defense\": 53, \"SpecialA\": 37, \"SpecialD\": 46, \"Speed\": 45, \"Generation\": 6, \"cluster\": 1}, {\"#\": 687, \"Name\": \"Malamar\", \"Type 1\": \"Dark\", \"Type 2\": \"Psychic\", \"Total\": 482, \"HP\": 86, \"Attack\": 92, \"Defense\": 88, \"SpecialA\": 68, \"SpecialD\": 75, \"Speed\": 73, \"Generation\": 6, \"cluster\": 5}, {\"#\": 688, \"Name\": \"Binacle\", \"Type 1\": \"Rock\", \"Type 2\": \"Water\", \"Total\": 306, \"HP\": 42, \"Attack\": 52, \"Defense\": 67, \"SpecialA\": 39, \"SpecialD\": 56, \"Speed\": 50, \"Generation\": 6, \"cluster\": 4}, {\"#\": 689, \"Name\": \"Barbaracle\", \"Type 1\": \"Rock\", \"Type 2\": \"Water\", \"Total\": 500, \"HP\": 72, \"Attack\": 105, \"Defense\": 115, \"SpecialA\": 54, \"SpecialD\": 86, \"Speed\": 68, \"Generation\": 6, \"cluster\": 5}, {\"#\": 690, \"Name\": \"Skrelp\", \"Type 1\": \"Poison\", \"Type 2\": \"Water\", \"Total\": 320, \"HP\": 50, \"Attack\": 60, \"Defense\": 60, \"SpecialA\": 60, \"SpecialD\": 60, \"Speed\": 30, \"Generation\": 6, \"cluster\": 4}, {\"#\": 691, \"Name\": \"Dragalge\", \"Type 1\": \"Poison\", \"Type 2\": \"Dragon\", \"Total\": 494, \"HP\": 65, \"Attack\": 75, \"Defense\": 90, \"SpecialA\": 97, \"SpecialD\": 123, \"Speed\": 44, \"Generation\": 6, \"cluster\": 5}, {\"#\": 694, \"Name\": \"Helioptile\", \"Type 1\": \"Electric\", \"Type 2\": \"Normal\", \"Total\": 289, \"HP\": 44, \"Attack\": 38, \"Defense\": 33, \"SpecialA\": 61, \"SpecialD\": 43, \"Speed\": 70, \"Generation\": 6, \"cluster\": 1}, {\"#\": 695, \"Name\": \"Heliolisk\", \"Type 1\": \"Electric\", \"Type 2\": \"Normal\", \"Total\": 481, \"HP\": 62, \"Attack\": 55, \"Defense\": 52, \"SpecialA\": 109, \"SpecialD\": 94, \"Speed\": 109, \"Generation\": 6, \"cluster\": 3}, {\"#\": 696, \"Name\": \"Tyrunt\", \"Type 1\": \"Rock\", \"Type 2\": \"Dragon\", \"Total\": 362, \"HP\": 58, \"Attack\": 89, \"Defense\": 77, \"SpecialA\": 45, \"SpecialD\": 45, \"Speed\": 48, \"Generation\": 6, \"cluster\": 4}, {\"#\": 697, \"Name\": \"Tyrantrum\", \"Type 1\": \"Rock\", \"Type 2\": \"Dragon\", \"Total\": 521, \"HP\": 82, \"Attack\": 121, \"Defense\": 119, \"SpecialA\": 69, \"SpecialD\": 59, \"Speed\": 71, \"Generation\": 6, \"cluster\": 3}, {\"#\": 698, \"Name\": \"Amaura\", \"Type 1\": \"Rock\", \"Type 2\": \"Ice\", \"Total\": 362, \"HP\": 77, \"Attack\": 59, \"Defense\": 50, \"SpecialA\": 67, \"SpecialD\": 63, \"Speed\": 46, \"Generation\": 6, \"cluster\": 4}, {\"#\": 699, \"Name\": \"Aurorus\", \"Type 1\": \"Rock\", \"Type 2\": \"Ice\", \"Total\": 521, \"HP\": 123, \"Attack\": 77, \"Defense\": 72, \"SpecialA\": 99, \"SpecialD\": 92, \"Speed\": 58, \"Generation\": 6, \"cluster\": 3}, {\"#\": 701, \"Name\": \"Hawlucha\", \"Type 1\": \"Fighting\", \"Type 2\": \"Flying\", \"Total\": 500, \"HP\": 78, \"Attack\": 92, \"Defense\": 75, \"SpecialA\": 74, \"SpecialD\": 63, \"Speed\": 118, \"Generation\": 6, \"cluster\": 3}, {\"#\": 702, \"Name\": \"Dedenne\", \"Type 1\": \"Electric\", \"Type 2\": \"Fairy\", \"Total\": 431, \"HP\": 67, \"Attack\": 58, \"Defense\": 57, \"SpecialA\": 81, \"SpecialD\": 67, \"Speed\": 101, \"Generation\": 6, \"cluster\": 0}, {\"#\": 703, \"Name\": \"Carbink\", \"Type 1\": \"Rock\", \"Type 2\": \"Fairy\", \"Total\": 500, \"HP\": 50, \"Attack\": 50, \"Defense\": 150, \"SpecialA\": 50, \"SpecialD\": 150, \"Speed\": 50, \"Generation\": 6, \"cluster\": 5}, {\"#\": 707, \"Name\": \"Klefki\", \"Type 1\": \"Steel\", \"Type 2\": \"Fairy\", \"Total\": 470, \"HP\": 57, \"Attack\": 80, \"Defense\": 91, \"SpecialA\": 80, \"SpecialD\": 87, \"Speed\": 75, \"Generation\": 6, \"cluster\": 5}, {\"#\": 708, \"Name\": \"Phantump\", \"Type 1\": \"Ghost\", \"Type 2\": \"Grass\", \"Total\": 309, \"HP\": 43, \"Attack\": 70, \"Defense\": 48, \"SpecialA\": 50, \"SpecialD\": 60, \"Speed\": 38, \"Generation\": 6, \"cluster\": 4}, {\"#\": 709, \"Name\": \"Trevenant\", \"Type 1\": \"Ghost\", \"Type 2\": \"Grass\", \"Total\": 474, \"HP\": 85, \"Attack\": 110, \"Defense\": 76, \"SpecialA\": 65, \"SpecialD\": 82, \"Speed\": 56, \"Generation\": 6, \"cluster\": 5}, {\"#\": 710, \"Name\": \"PumpkabooAverage Size\", \"Type 1\": \"Ghost\", \"Type 2\": \"Grass\", \"Total\": 335, \"HP\": 49, \"Attack\": 66, \"Defense\": 70, \"SpecialA\": 44, \"SpecialD\": 55, \"Speed\": 51, \"Generation\": 6, \"cluster\": 4}, {\"#\": 710, \"Name\": \"PumpkabooSmall Size\", \"Type 1\": \"Ghost\", \"Type 2\": \"Grass\", \"Total\": 335, \"HP\": 44, \"Attack\": 66, \"Defense\": 70, \"SpecialA\": 44, \"SpecialD\": 55, \"Speed\": 56, \"Generation\": 6, \"cluster\": 4}, {\"#\": 710, \"Name\": \"PumpkabooLarge Size\", \"Type 1\": \"Ghost\", \"Type 2\": \"Grass\", \"Total\": 335, \"HP\": 54, \"Attack\": 66, \"Defense\": 70, \"SpecialA\": 44, \"SpecialD\": 55, \"Speed\": 46, \"Generation\": 6, \"cluster\": 4}, {\"#\": 710, \"Name\": \"PumpkabooSuper Size\", \"Type 1\": \"Ghost\", \"Type 2\": \"Grass\", \"Total\": 335, \"HP\": 59, \"Attack\": 66, \"Defense\": 70, \"SpecialA\": 44, \"SpecialD\": 55, \"Speed\": 41, \"Generation\": 6, \"cluster\": 4}, {\"#\": 711, \"Name\": \"GourgeistAverage Size\", \"Type 1\": \"Ghost\", \"Type 2\": \"Grass\", \"Total\": 494, \"HP\": 65, \"Attack\": 90, \"Defense\": 122, \"SpecialA\": 58, \"SpecialD\": 75, \"Speed\": 84, \"Generation\": 6, \"cluster\": 3}, {\"#\": 711, \"Name\": \"GourgeistSmall Size\", \"Type 1\": \"Ghost\", \"Type 2\": \"Grass\", \"Total\": 494, \"HP\": 55, \"Attack\": 85, \"Defense\": 122, \"SpecialA\": 58, \"SpecialD\": 75, \"Speed\": 99, \"Generation\": 6, \"cluster\": 3}, {\"#\": 711, \"Name\": \"GourgeistLarge Size\", \"Type 1\": \"Ghost\", \"Type 2\": \"Grass\", \"Total\": 494, \"HP\": 75, \"Attack\": 95, \"Defense\": 122, \"SpecialA\": 58, \"SpecialD\": 75, \"Speed\": 69, \"Generation\": 6, \"cluster\": 5}, {\"#\": 711, \"Name\": \"GourgeistSuper Size\", \"Type 1\": \"Ghost\", \"Type 2\": \"Grass\", \"Total\": 494, \"HP\": 85, \"Attack\": 100, \"Defense\": 122, \"SpecialA\": 58, \"SpecialD\": 75, \"Speed\": 54, \"Generation\": 6, \"cluster\": 5}, {\"#\": 714, \"Name\": \"Noibat\", \"Type 1\": \"Flying\", \"Type 2\": \"Dragon\", \"Total\": 245, \"HP\": 40, \"Attack\": 30, \"Defense\": 35, \"SpecialA\": 45, \"SpecialD\": 40, \"Speed\": 55, \"Generation\": 6, \"cluster\": 1}, {\"#\": 715, \"Name\": \"Noivern\", \"Type 1\": \"Flying\", \"Type 2\": \"Dragon\", \"Total\": 535, \"HP\": 85, \"Attack\": 70, \"Defense\": 80, \"SpecialA\": 97, \"SpecialD\": 80, \"Speed\": 123, \"Generation\": 6, \"cluster\": 3}]}}, {\"mode\": \"vega-lite\"});\n</script>",
      "text/plain": "alt.Chart(...)"
     },
     "metadata": {}
    }
   ]
  },
  {
   "cell_type": "markdown",
   "metadata": {
    "tags": [],
    "cell_id": "b9c9a51e6cce43298e5a76ca2d12ca54",
    "deepnote_cell_type": "markdown"
   },
   "source": [
    "There are too many peak in the dataset, maybe it's hard to predict.\n",
    "I choose the generation 2, which consists of the most pokemons, and try to predict the stat of speical attacks."
   ],
   "block_group": "b9c9a51e6cce43298e5a76ca2d12ca54"
  },
  {
   "cell_type": "code",
   "metadata": {
    "tags": [],
    "cell_id": "960908cc3c7a4d8da03b6aae66db23c6",
    "source_hash": null,
    "execution_start": 1702174244826,
    "execution_millis": 127,
    "deepnote_to_be_reexecuted": false,
    "deepnote_cell_type": "code"
   },
   "source": [
    "df1 = list[1]"
   ],
   "block_group": "960908cc3c7a4d8da03b6aae66db23c6",
   "execution_count": null,
   "outputs": []
  },
  {
   "cell_type": "code",
   "metadata": {
    "tags": [],
    "cell_id": "930a2dcf1bcc4075b566fc29e07962e1",
    "source_hash": null,
    "execution_start": 1702174244829,
    "execution_millis": 114,
    "deepnote_to_be_reexecuted": false,
    "deepnote_cell_type": "code"
   },
   "source": [
    "reg = DecisionTreeRegressor(max_leaf_nodes=10,max_depth=10)"
   ],
   "block_group": "930a2dcf1bcc4075b566fc29e07962e1",
   "execution_count": null,
   "outputs": []
  },
  {
   "cell_type": "code",
   "metadata": {
    "tags": [],
    "cell_id": "c5962593b492439d9740f140c43bfb47",
    "source_hash": null,
    "execution_start": 1702174244838,
    "execution_millis": 104,
    "deepnote_to_be_reexecuted": false,
    "deepnote_cell_type": "code"
   },
   "source": [
    "reg.fit(df1[[\"Attack\"]],df1[\"SpecialA\"])"
   ],
   "block_group": "c5962593b492439d9740f140c43bfb47",
   "execution_count": null,
   "outputs": [
    {
     "output_type": "execute_result",
     "execution_count": 37,
     "data": {
      "text/plain": "DecisionTreeRegressor(max_depth=10, max_leaf_nodes=10)"
     },
     "metadata": {}
    }
   ]
  },
  {
   "cell_type": "code",
   "metadata": {
    "tags": [],
    "cell_id": "f5acad5d2776438792aaeb990351aba0",
    "source_hash": null,
    "execution_start": 1702174244846,
    "execution_millis": 97,
    "deepnote_to_be_reexecuted": false,
    "deepnote_cell_type": "code"
   },
   "source": [
    "df1[\"PredictA\"] = reg.predict(df1[[\"Attack\"]])"
   ],
   "block_group": "f5acad5d2776438792aaeb990351aba0",
   "execution_count": null,
   "outputs": []
  },
  {
   "cell_type": "code",
   "metadata": {
    "tags": [],
    "cell_id": "f166245b0f9c40c89858cb76256c2416",
    "source_hash": null,
    "execution_start": 1702174244875,
    "execution_millis": 74,
    "deepnote_to_be_reexecuted": false,
    "deepnote_cell_type": "code"
   },
   "source": [
    "d1 = alt.Chart(df1).mark_line().encode(\n",
    "    x=\"Attack\",\n",
    "    y=\"SpecialA\"\n",
    ")\n",
    "\n",
    "d2 = alt.Chart(df1).mark_line(color=\"red\").encode(\n",
    "    x=\"Attack\",\n",
    "    y=\"PredictA\"\n",
    ")\n",
    "d1+d2"
   ],
   "block_group": "f166245b0f9c40c89858cb76256c2416",
   "execution_count": null,
   "outputs": [
    {
     "output_type": "execute_result",
     "execution_count": 39,
     "data": {
      "text/html": "\n<div id=\"altair-viz-1649b57aa19f45b78b101de918725341\"></div>\n<script type=\"text/javascript\">\n  var VEGA_DEBUG = (typeof VEGA_DEBUG == \"undefined\") ? {} : VEGA_DEBUG;\n  (function(spec, embedOpt){\n    let outputDiv = document.currentScript.previousElementSibling;\n    if (outputDiv.id !== \"altair-viz-1649b57aa19f45b78b101de918725341\") {\n      outputDiv = document.getElementById(\"altair-viz-1649b57aa19f45b78b101de918725341\");\n    }\n    const paths = {\n      \"vega\": \"https://cdn.jsdelivr.net/npm//vega@5?noext\",\n      \"vega-lib\": \"https://cdn.jsdelivr.net/npm//vega-lib?noext\",\n      \"vega-lite\": \"https://cdn.jsdelivr.net/npm//vega-lite@4.17.0?noext\",\n      \"vega-embed\": \"https://cdn.jsdelivr.net/npm//vega-embed@6?noext\",\n    };\n\n    function maybeLoadScript(lib, version) {\n      var key = `${lib.replace(\"-\", \"\")}_version`;\n      return (VEGA_DEBUG[key] == version) ?\n        Promise.resolve(paths[lib]) :\n        new Promise(function(resolve, reject) {\n          var s = document.createElement('script');\n          document.getElementsByTagName(\"head\")[0].appendChild(s);\n          s.async = true;\n          s.onload = () => {\n            VEGA_DEBUG[key] = version;\n            return resolve(paths[lib]);\n          };\n          s.onerror = () => reject(`Error loading script: ${paths[lib]}`);\n          s.src = paths[lib];\n        });\n    }\n\n    function showError(err) {\n      outputDiv.innerHTML = `<div class=\"error\" style=\"color:red;\">${err}</div>`;\n      throw err;\n    }\n\n    function displayChart(vegaEmbed) {\n      vegaEmbed(outputDiv, spec, embedOpt)\n        .catch(err => showError(`Javascript Error: ${err.message}<br>This usually means there's a typo in your chart specification. See the javascript console for the full traceback.`));\n    }\n\n    if(typeof define === \"function\" && define.amd) {\n      requirejs.config({paths});\n      require([\"vega-embed\"], displayChart, err => showError(`Error loading script: ${err.message}`));\n    } else {\n      maybeLoadScript(\"vega\", \"5\")\n        .then(() => maybeLoadScript(\"vega-lite\", \"4.17.0\"))\n        .then(() => maybeLoadScript(\"vega-embed\", \"6\"))\n        .catch(showError)\n        .then(() => displayChart(vegaEmbed));\n    }\n  })({\"config\": {\"view\": {\"continuousWidth\": 400, \"continuousHeight\": 300}}, \"layer\": [{\"mark\": \"line\", \"encoding\": {\"x\": {\"field\": \"Attack\", \"type\": \"quantitative\"}, \"y\": {\"field\": \"SpecialA\", \"type\": \"quantitative\"}}}, {\"mark\": {\"type\": \"line\", \"color\": \"red\"}, \"encoding\": {\"x\": {\"field\": \"Attack\", \"type\": \"quantitative\"}, \"y\": {\"field\": \"PredictA\", \"type\": \"quantitative\"}}}], \"data\": {\"name\": \"data-9746fea78941d47f658d29aff6e15419\"}, \"$schema\": \"https://vega.github.io/schema/vega-lite/v4.17.0.json\", \"datasets\": {\"data-9746fea78941d47f658d29aff6e15419\": [{\"#\": 163, \"Name\": \"Hoothoot\", \"Type 1\": \"Normal\", \"Type 2\": \"Flying\", \"Total\": 262, \"HP\": 60, \"Attack\": 30, \"Defense\": 30, \"SpecialA\": 36, \"SpecialD\": 56, \"Speed\": 50, \"Generation\": 2, \"PredictA\": 50.2}, {\"#\": 164, \"Name\": \"Noctowl\", \"Type 1\": \"Normal\", \"Type 2\": \"Flying\", \"Total\": 442, \"HP\": 100, \"Attack\": 50, \"Defense\": 50, \"SpecialA\": 76, \"SpecialD\": 96, \"Speed\": 70, \"Generation\": 2, \"PredictA\": 61.833333333333336}, {\"#\": 165, \"Name\": \"Ledyba\", \"Type 1\": \"Bug\", \"Type 2\": \"Flying\", \"Total\": 265, \"HP\": 40, \"Attack\": 20, \"Defense\": 30, \"SpecialA\": 40, \"SpecialD\": 80, \"Speed\": 55, \"Generation\": 2, \"PredictA\": 23.333333333333332}, {\"#\": 166, \"Name\": \"Ledian\", \"Type 1\": \"Bug\", \"Type 2\": \"Flying\", \"Total\": 390, \"HP\": 55, \"Attack\": 35, \"Defense\": 50, \"SpecialA\": 55, \"SpecialD\": 110, \"Speed\": 85, \"Generation\": 2, \"PredictA\": 50.2}, {\"#\": 167, \"Name\": \"Spinarak\", \"Type 1\": \"Bug\", \"Type 2\": \"Poison\", \"Total\": 250, \"HP\": 40, \"Attack\": 60, \"Defense\": 40, \"SpecialA\": 40, \"SpecialD\": 40, \"Speed\": 30, \"Generation\": 2, \"PredictA\": 61.833333333333336}, {\"#\": 168, \"Name\": \"Ariados\", \"Type 1\": \"Bug\", \"Type 2\": \"Poison\", \"Total\": 390, \"HP\": 70, \"Attack\": 90, \"Defense\": 70, \"SpecialA\": 60, \"SpecialD\": 60, \"Speed\": 40, \"Generation\": 2, \"PredictA\": 86.36363636363636}, {\"#\": 169, \"Name\": \"Crobat\", \"Type 1\": \"Poison\", \"Type 2\": \"Flying\", \"Total\": 535, \"HP\": 85, \"Attack\": 90, \"Defense\": 80, \"SpecialA\": 70, \"SpecialD\": 80, \"Speed\": 130, \"Generation\": 2, \"PredictA\": 86.36363636363636}, {\"#\": 170, \"Name\": \"Chinchou\", \"Type 1\": \"Water\", \"Type 2\": \"Electric\", \"Total\": 330, \"HP\": 75, \"Attack\": 38, \"Defense\": 38, \"SpecialA\": 56, \"SpecialD\": 56, \"Speed\": 67, \"Generation\": 2, \"PredictA\": 72.0}, {\"#\": 171, \"Name\": \"Lanturn\", \"Type 1\": \"Water\", \"Type 2\": \"Electric\", \"Total\": 460, \"HP\": 125, \"Attack\": 58, \"Defense\": 58, \"SpecialA\": 76, \"SpecialD\": 76, \"Speed\": 67, \"Generation\": 2, \"PredictA\": 61.833333333333336}, {\"#\": 174, \"Name\": \"Igglybuff\", \"Type 1\": \"Normal\", \"Type 2\": \"Fairy\", \"Total\": 210, \"HP\": 90, \"Attack\": 30, \"Defense\": 15, \"SpecialA\": 40, \"SpecialD\": 20, \"Speed\": 15, \"Generation\": 2, \"PredictA\": 50.2}, {\"#\": 176, \"Name\": \"Togetic\", \"Type 1\": \"Fairy\", \"Type 2\": \"Flying\", \"Total\": 405, \"HP\": 55, \"Attack\": 40, \"Defense\": 85, \"SpecialA\": 80, \"SpecialD\": 105, \"Speed\": 40, \"Generation\": 2, \"PredictA\": 72.0}, {\"#\": 177, \"Name\": \"Natu\", \"Type 1\": \"Psychic\", \"Type 2\": \"Flying\", \"Total\": 320, \"HP\": 40, \"Attack\": 50, \"Defense\": 45, \"SpecialA\": 70, \"SpecialD\": 45, \"Speed\": 70, \"Generation\": 2, \"PredictA\": 61.833333333333336}, {\"#\": 178, \"Name\": \"Xatu\", \"Type 1\": \"Psychic\", \"Type 2\": \"Flying\", \"Total\": 470, \"HP\": 65, \"Attack\": 75, \"Defense\": 70, \"SpecialA\": 95, \"SpecialD\": 70, \"Speed\": 95, \"Generation\": 2, \"PredictA\": 70.5}, {\"#\": 181, \"Name\": \"AmpharosMega Ampharos\", \"Type 1\": \"Electric\", \"Type 2\": \"Dragon\", \"Total\": 610, \"HP\": 90, \"Attack\": 95, \"Defense\": 105, \"SpecialA\": 165, \"SpecialD\": 110, \"Speed\": 45, \"Generation\": 2, \"PredictA\": 86.36363636363636}, {\"#\": 183, \"Name\": \"Marill\", \"Type 1\": \"Water\", \"Type 2\": \"Fairy\", \"Total\": 250, \"HP\": 70, \"Attack\": 20, \"Defense\": 50, \"SpecialA\": 20, \"SpecialD\": 50, \"Speed\": 40, \"Generation\": 2, \"PredictA\": 23.333333333333332}, {\"#\": 184, \"Name\": \"Azumarill\", \"Type 1\": \"Water\", \"Type 2\": \"Fairy\", \"Total\": 420, \"HP\": 100, \"Attack\": 50, \"Defense\": 80, \"SpecialA\": 60, \"SpecialD\": 80, \"Speed\": 50, \"Generation\": 2, \"PredictA\": 61.833333333333336}, {\"#\": 187, \"Name\": \"Hoppip\", \"Type 1\": \"Grass\", \"Type 2\": \"Flying\", \"Total\": 250, \"HP\": 35, \"Attack\": 35, \"Defense\": 40, \"SpecialA\": 35, \"SpecialD\": 55, \"Speed\": 50, \"Generation\": 2, \"PredictA\": 50.2}, {\"#\": 188, \"Name\": \"Skiploom\", \"Type 1\": \"Grass\", \"Type 2\": \"Flying\", \"Total\": 340, \"HP\": 55, \"Attack\": 45, \"Defense\": 50, \"SpecialA\": 45, \"SpecialD\": 65, \"Speed\": 80, \"Generation\": 2, \"PredictA\": 35.0}, {\"#\": 189, \"Name\": \"Jumpluff\", \"Type 1\": \"Grass\", \"Type 2\": \"Flying\", \"Total\": 460, \"HP\": 75, \"Attack\": 55, \"Defense\": 70, \"SpecialA\": 55, \"SpecialD\": 95, \"Speed\": 110, \"Generation\": 2, \"PredictA\": 61.833333333333336}, {\"#\": 193, \"Name\": \"Yanma\", \"Type 1\": \"Bug\", \"Type 2\": \"Flying\", \"Total\": 390, \"HP\": 65, \"Attack\": 65, \"Defense\": 45, \"SpecialA\": 75, \"SpecialD\": 45, \"Speed\": 95, \"Generation\": 2, \"PredictA\": 70.5}, {\"#\": 194, \"Name\": \"Wooper\", \"Type 1\": \"Water\", \"Type 2\": \"Ground\", \"Total\": 210, \"HP\": 55, \"Attack\": 45, \"Defense\": 45, \"SpecialA\": 25, \"SpecialD\": 25, \"Speed\": 15, \"Generation\": 2, \"PredictA\": 35.0}, {\"#\": 195, \"Name\": \"Quagsire\", \"Type 1\": \"Water\", \"Type 2\": \"Ground\", \"Total\": 430, \"HP\": 95, \"Attack\": 85, \"Defense\": 85, \"SpecialA\": 65, \"SpecialD\": 65, \"Speed\": 35, \"Generation\": 2, \"PredictA\": 70.5}, {\"#\": 198, \"Name\": \"Murkrow\", \"Type 1\": \"Dark\", \"Type 2\": \"Flying\", \"Total\": 405, \"HP\": 60, \"Attack\": 85, \"Defense\": 42, \"SpecialA\": 85, \"SpecialD\": 42, \"Speed\": 91, \"Generation\": 2, \"PredictA\": 70.5}, {\"#\": 199, \"Name\": \"Slowking\", \"Type 1\": \"Water\", \"Type 2\": \"Psychic\", \"Total\": 490, \"HP\": 95, \"Attack\": 75, \"Defense\": 80, \"SpecialA\": 100, \"SpecialD\": 110, \"Speed\": 30, \"Generation\": 2, \"PredictA\": 70.5}, {\"#\": 203, \"Name\": \"Girafarig\", \"Type 1\": \"Normal\", \"Type 2\": \"Psychic\", \"Total\": 455, \"HP\": 70, \"Attack\": 80, \"Defense\": 65, \"SpecialA\": 90, \"SpecialD\": 65, \"Speed\": 85, \"Generation\": 2, \"PredictA\": 70.5}, {\"#\": 205, \"Name\": \"Forretress\", \"Type 1\": \"Bug\", \"Type 2\": \"Steel\", \"Total\": 465, \"HP\": 75, \"Attack\": 90, \"Defense\": 140, \"SpecialA\": 60, \"SpecialD\": 60, \"Speed\": 40, \"Generation\": 2, \"PredictA\": 86.36363636363636}, {\"#\": 207, \"Name\": \"Gligar\", \"Type 1\": \"Ground\", \"Type 2\": \"Flying\", \"Total\": 430, \"HP\": 65, \"Attack\": 75, \"Defense\": 105, \"SpecialA\": 35, \"SpecialD\": 65, \"Speed\": 85, \"Generation\": 2, \"PredictA\": 70.5}, {\"#\": 208, \"Name\": \"Steelix\", \"Type 1\": \"Steel\", \"Type 2\": \"Ground\", \"Total\": 510, \"HP\": 75, \"Attack\": 85, \"Defense\": 200, \"SpecialA\": 55, \"SpecialD\": 65, \"Speed\": 30, \"Generation\": 2, \"PredictA\": 70.5}, {\"#\": 208, \"Name\": \"SteelixMega Steelix\", \"Type 1\": \"Steel\", \"Type 2\": \"Ground\", \"Total\": 610, \"HP\": 75, \"Attack\": 125, \"Defense\": 230, \"SpecialA\": 55, \"SpecialD\": 95, \"Speed\": 30, \"Generation\": 2, \"PredictA\": 50.0}, {\"#\": 211, \"Name\": \"Qwilfish\", \"Type 1\": \"Water\", \"Type 2\": \"Poison\", \"Total\": 430, \"HP\": 65, \"Attack\": 95, \"Defense\": 75, \"SpecialA\": 55, \"SpecialD\": 55, \"Speed\": 85, \"Generation\": 2, \"PredictA\": 86.36363636363636}, {\"#\": 212, \"Name\": \"Scizor\", \"Type 1\": \"Bug\", \"Type 2\": \"Steel\", \"Total\": 500, \"HP\": 70, \"Attack\": 130, \"Defense\": 100, \"SpecialA\": 55, \"SpecialD\": 80, \"Speed\": 65, \"Generation\": 2, \"PredictA\": 50.0}, {\"#\": 212, \"Name\": \"ScizorMega Scizor\", \"Type 1\": \"Bug\", \"Type 2\": \"Steel\", \"Total\": 600, \"HP\": 70, \"Attack\": 150, \"Defense\": 140, \"SpecialA\": 65, \"SpecialD\": 100, \"Speed\": 75, \"Generation\": 2, \"PredictA\": 85.0}, {\"#\": 213, \"Name\": \"Shuckle\", \"Type 1\": \"Bug\", \"Type 2\": \"Rock\", \"Total\": 505, \"HP\": 20, \"Attack\": 10, \"Defense\": 230, \"SpecialA\": 10, \"SpecialD\": 230, \"Speed\": 5, \"Generation\": 2, \"PredictA\": 23.333333333333332}, {\"#\": 214, \"Name\": \"Heracross\", \"Type 1\": \"Bug\", \"Type 2\": \"Fighting\", \"Total\": 500, \"HP\": 80, \"Attack\": 125, \"Defense\": 75, \"SpecialA\": 40, \"SpecialD\": 95, \"Speed\": 85, \"Generation\": 2, \"PredictA\": 50.0}, {\"#\": 214, \"Name\": \"HeracrossMega Heracross\", \"Type 1\": \"Bug\", \"Type 2\": \"Fighting\", \"Total\": 600, \"HP\": 80, \"Attack\": 185, \"Defense\": 115, \"SpecialA\": 40, \"SpecialD\": 105, \"Speed\": 75, \"Generation\": 2, \"PredictA\": 40.0}, {\"#\": 215, \"Name\": \"Sneasel\", \"Type 1\": \"Dark\", \"Type 2\": \"Ice\", \"Total\": 430, \"HP\": 55, \"Attack\": 95, \"Defense\": 55, \"SpecialA\": 35, \"SpecialD\": 75, \"Speed\": 115, \"Generation\": 2, \"PredictA\": 86.36363636363636}, {\"#\": 219, \"Name\": \"Magcargo\", \"Type 1\": \"Fire\", \"Type 2\": \"Rock\", \"Total\": 410, \"HP\": 50, \"Attack\": 50, \"Defense\": 120, \"SpecialA\": 80, \"SpecialD\": 80, \"Speed\": 30, \"Generation\": 2, \"PredictA\": 61.833333333333336}, {\"#\": 220, \"Name\": \"Swinub\", \"Type 1\": \"Ice\", \"Type 2\": \"Ground\", \"Total\": 250, \"HP\": 50, \"Attack\": 50, \"Defense\": 40, \"SpecialA\": 30, \"SpecialD\": 30, \"Speed\": 50, \"Generation\": 2, \"PredictA\": 61.833333333333336}, {\"#\": 221, \"Name\": \"Piloswine\", \"Type 1\": \"Ice\", \"Type 2\": \"Ground\", \"Total\": 450, \"HP\": 100, \"Attack\": 100, \"Defense\": 80, \"SpecialA\": 60, \"SpecialD\": 60, \"Speed\": 50, \"Generation\": 2, \"PredictA\": 86.36363636363636}, {\"#\": 222, \"Name\": \"Corsola\", \"Type 1\": \"Water\", \"Type 2\": \"Rock\", \"Total\": 380, \"HP\": 55, \"Attack\": 55, \"Defense\": 85, \"SpecialA\": 65, \"SpecialD\": 85, \"Speed\": 35, \"Generation\": 2, \"PredictA\": 61.833333333333336}, {\"#\": 225, \"Name\": \"Delibird\", \"Type 1\": \"Ice\", \"Type 2\": \"Flying\", \"Total\": 330, \"HP\": 45, \"Attack\": 55, \"Defense\": 45, \"SpecialA\": 65, \"SpecialD\": 45, \"Speed\": 75, \"Generation\": 2, \"PredictA\": 61.833333333333336}, {\"#\": 226, \"Name\": \"Mantine\", \"Type 1\": \"Water\", \"Type 2\": \"Flying\", \"Total\": 465, \"HP\": 65, \"Attack\": 40, \"Defense\": 70, \"SpecialA\": 80, \"SpecialD\": 140, \"Speed\": 70, \"Generation\": 2, \"PredictA\": 72.0}, {\"#\": 227, \"Name\": \"Skarmory\", \"Type 1\": \"Steel\", \"Type 2\": \"Flying\", \"Total\": 465, \"HP\": 65, \"Attack\": 80, \"Defense\": 140, \"SpecialA\": 40, \"SpecialD\": 70, \"Speed\": 70, \"Generation\": 2, \"PredictA\": 70.5}, {\"#\": 228, \"Name\": \"Houndour\", \"Type 1\": \"Dark\", \"Type 2\": \"Fire\", \"Total\": 330, \"HP\": 45, \"Attack\": 60, \"Defense\": 30, \"SpecialA\": 80, \"SpecialD\": 50, \"Speed\": 65, \"Generation\": 2, \"PredictA\": 61.833333333333336}, {\"#\": 229, \"Name\": \"Houndoom\", \"Type 1\": \"Dark\", \"Type 2\": \"Fire\", \"Total\": 500, \"HP\": 75, \"Attack\": 90, \"Defense\": 50, \"SpecialA\": 110, \"SpecialD\": 80, \"Speed\": 95, \"Generation\": 2, \"PredictA\": 86.36363636363636}, {\"#\": 229, \"Name\": \"HoundoomMega Houndoom\", \"Type 1\": \"Dark\", \"Type 2\": \"Fire\", \"Total\": 600, \"HP\": 75, \"Attack\": 90, \"Defense\": 90, \"SpecialA\": 140, \"SpecialD\": 90, \"Speed\": 115, \"Generation\": 2, \"PredictA\": 86.36363636363636}, {\"#\": 230, \"Name\": \"Kingdra\", \"Type 1\": \"Water\", \"Type 2\": \"Dragon\", \"Total\": 540, \"HP\": 75, \"Attack\": 95, \"Defense\": 95, \"SpecialA\": 95, \"SpecialD\": 95, \"Speed\": 85, \"Generation\": 2, \"PredictA\": 86.36363636363636}, {\"#\": 238, \"Name\": \"Smoochum\", \"Type 1\": \"Ice\", \"Type 2\": \"Psychic\", \"Total\": 305, \"HP\": 45, \"Attack\": 30, \"Defense\": 15, \"SpecialA\": 85, \"SpecialD\": 65, \"Speed\": 65, \"Generation\": 2, \"PredictA\": 50.2}, {\"#\": 246, \"Name\": \"Larvitar\", \"Type 1\": \"Rock\", \"Type 2\": \"Ground\", \"Total\": 300, \"HP\": 50, \"Attack\": 64, \"Defense\": 50, \"SpecialA\": 45, \"SpecialD\": 50, \"Speed\": 41, \"Generation\": 2, \"PredictA\": 61.833333333333336}, {\"#\": 247, \"Name\": \"Pupitar\", \"Type 1\": \"Rock\", \"Type 2\": \"Ground\", \"Total\": 410, \"HP\": 70, \"Attack\": 84, \"Defense\": 70, \"SpecialA\": 65, \"SpecialD\": 70, \"Speed\": 51, \"Generation\": 2, \"PredictA\": 70.5}, {\"#\": 248, \"Name\": \"Tyranitar\", \"Type 1\": \"Rock\", \"Type 2\": \"Dark\", \"Total\": 600, \"HP\": 100, \"Attack\": 134, \"Defense\": 110, \"SpecialA\": 95, \"SpecialD\": 100, \"Speed\": 61, \"Generation\": 2, \"PredictA\": 85.0}, {\"#\": 248, \"Name\": \"TyranitarMega Tyranitar\", \"Type 1\": \"Rock\", \"Type 2\": \"Dark\", \"Total\": 700, \"HP\": 100, \"Attack\": 164, \"Defense\": 150, \"SpecialA\": 95, \"SpecialD\": 120, \"Speed\": 71, \"Generation\": 2, \"PredictA\": 85.0}, {\"#\": 251, \"Name\": \"Celebi\", \"Type 1\": \"Psychic\", \"Type 2\": \"Grass\", \"Total\": 600, \"HP\": 100, \"Attack\": 100, \"Defense\": 100, \"SpecialA\": 100, \"SpecialD\": 100, \"Speed\": 100, \"Generation\": 2, \"PredictA\": 86.36363636363636}]}}, {\"mode\": \"vega-lite\"});\n</script>",
      "text/plain": "alt.LayerChart(...)"
     },
     "metadata": {}
    }
   ]
  },
  {
   "cell_type": "markdown",
   "metadata": {
    "tags": [],
    "cell_id": "e96e881f6d8546aaa36529cc8bf17fe1",
    "deepnote_cell_type": "markdown"
   },
   "source": [
    "The graph shows that the prection is kind of accurate, but there is a big peak in the middle of the data which is hard to predect."
   ],
   "block_group": "e96e881f6d8546aaa36529cc8bf17fe1"
  },
  {
   "cell_type": "markdown",
   "metadata": {
    "tags": [],
    "cell_id": "e5842438bff541c6a37bb30df20d4f8c",
    "deepnote_cell_type": "markdown"
   },
   "source": [
    "## Machine Learning - Random Forest Regressor\n",
    "\n",
    "Finally, try to use random forest regressor to predict pokemons in generation 6, which has the least pokemons."
   ],
   "block_group": "e5842438bff541c6a37bb30df20d4f8c"
  },
  {
   "cell_type": "code",
   "metadata": {
    "tags": [],
    "cell_id": "147d01b90f084c969cd56420d3e0c610",
    "source_hash": null,
    "execution_start": 1702174244898,
    "execution_millis": 51,
    "deepnote_to_be_reexecuted": false,
    "deepnote_cell_type": "code"
   },
   "source": [
    "df2 = list[5]"
   ],
   "block_group": "147d01b90f084c969cd56420d3e0c610",
   "execution_count": null,
   "outputs": []
  },
  {
   "cell_type": "code",
   "metadata": {
    "tags": [],
    "cell_id": "3c14792dc81945cc928e95d695f3cc35",
    "source_hash": null,
    "execution_start": 1702174244961,
    "execution_millis": 20,
    "deepnote_to_be_reexecuted": false,
    "deepnote_cell_type": "code"
   },
   "source": [
    "features2 = [\"Total\",\"HP\",\"Attack\",\"Defense\",\"SpecialD\",\"Speed\"]"
   ],
   "block_group": "3c14792dc81945cc928e95d695f3cc35",
   "execution_count": null,
   "outputs": []
  },
  {
   "cell_type": "code",
   "metadata": {
    "tags": [],
    "cell_id": "8278aa8c419e48aaae276b3caefc1bc1",
    "source_hash": null,
    "execution_start": 1702174244962,
    "execution_millis": 35,
    "deepnote_to_be_reexecuted": false,
    "deepnote_cell_type": "code"
   },
   "source": [
    "X_train1, X_test1, y_train1, y_test1 = train_test_split(df2[features2],df2[\"SpecialA\"],train_size=0.6,random_state=32203564)"
   ],
   "block_group": "8278aa8c419e48aaae276b3caefc1bc1",
   "execution_count": null,
   "outputs": []
  },
  {
   "cell_type": "code",
   "metadata": {
    "tags": [],
    "cell_id": "6dd486ba2d0f49308bb8a96f84cf7dbb",
    "source_hash": null,
    "execution_start": 1702174244962,
    "execution_millis": 30,
    "deepnote_to_be_reexecuted": false,
    "deepnote_cell_type": "code"
   },
   "source": [
    "rfe = RandomForestRegressor(n_estimators=100, max_leaf_nodes=15)"
   ],
   "block_group": "6dd486ba2d0f49308bb8a96f84cf7dbb",
   "execution_count": null,
   "outputs": []
  },
  {
   "cell_type": "code",
   "metadata": {
    "tags": [],
    "cell_id": "ab138ffef0c2470f91bea4cd7af0358f",
    "source_hash": null,
    "execution_start": 1702174244963,
    "execution_millis": 59,
    "deepnote_to_be_reexecuted": false,
    "deepnote_cell_type": "code"
   },
   "source": [
    "rfe.fit(X_train1,y_train1)"
   ],
   "block_group": "ab138ffef0c2470f91bea4cd7af0358f",
   "execution_count": null,
   "outputs": [
    {
     "output_type": "execute_result",
     "execution_count": 44,
     "data": {
      "text/plain": "RandomForestRegressor(max_leaf_nodes=15)"
     },
     "metadata": {}
    }
   ]
  },
  {
   "cell_type": "code",
   "metadata": {
    "tags": [],
    "cell_id": "7c34eb5b78a04d8d97d60c3e9823ed5f",
    "source_hash": null,
    "execution_start": 1702174245075,
    "execution_millis": 9,
    "deepnote_to_be_reexecuted": false,
    "deepnote_cell_type": "code"
   },
   "source": [
    "rfe.score(X_train1,y_train1)"
   ],
   "block_group": "7c34eb5b78a04d8d97d60c3e9823ed5f",
   "execution_count": null,
   "outputs": [
    {
     "output_type": "execute_result",
     "execution_count": 45,
     "data": {
      "text/plain": "0.8756082391535686"
     },
     "metadata": {}
    }
   ]
  },
  {
   "cell_type": "code",
   "metadata": {
    "tags": [],
    "cell_id": "a59b7b2740614770b0124c80793e17bd",
    "source_hash": null,
    "execution_start": 1702174245076,
    "execution_millis": 7,
    "deepnote_to_be_reexecuted": false,
    "deepnote_cell_type": "code"
   },
   "source": [
    "rfe.score(X_test1,y_test1)"
   ],
   "block_group": "a59b7b2740614770b0124c80793e17bd",
   "execution_count": null,
   "outputs": [
    {
     "output_type": "execute_result",
     "execution_count": 46,
     "data": {
      "text/plain": "0.41566882658863746"
     },
     "metadata": {}
    }
   ]
  },
  {
   "cell_type": "markdown",
   "metadata": {
    "tags": [],
    "cell_id": "c8d81b4caf1e430199cd91e5e1b5dfb4",
    "deepnote_cell_type": "markdown"
   },
   "source": [
    "### Graphing for the Random Forest Regressor"
   ],
   "block_group": "c8d81b4caf1e430199cd91e5e1b5dfb4"
  },
  {
   "cell_type": "code",
   "metadata": {
    "tags": [],
    "cell_id": "cd10667148c94ed29aeb32f5b111d1db",
    "source_hash": null,
    "execution_start": 1702174245132,
    "execution_millis": 49,
    "deepnote_to_be_reexecuted": false,
    "deepnote_cell_type": "code"
   },
   "source": [
    "rfe.fit(df2[[\"Attack\"]],df2[\"SpecialA\"])"
   ],
   "block_group": "cd10667148c94ed29aeb32f5b111d1db",
   "execution_count": null,
   "outputs": [
    {
     "output_type": "execute_result",
     "execution_count": 47,
     "data": {
      "text/plain": "RandomForestRegressor(max_leaf_nodes=15)"
     },
     "metadata": {}
    }
   ]
  },
  {
   "cell_type": "code",
   "metadata": {
    "tags": [],
    "cell_id": "3c9dc7bdbc394e4897f8aca09d56b020",
    "source_hash": null,
    "execution_start": 1702174245174,
    "execution_millis": 24,
    "deepnote_to_be_reexecuted": false,
    "deepnote_cell_type": "code"
   },
   "source": [
    "df2[\"PredictA\"] = rfe.predict(df2[[\"Attack\"]])"
   ],
   "block_group": "3c9dc7bdbc394e4897f8aca09d56b020",
   "execution_count": null,
   "outputs": []
  },
  {
   "cell_type": "code",
   "metadata": {
    "tags": [],
    "cell_id": "a4884b8c5ff141048ceaaf43d69ca419",
    "source_hash": null,
    "execution_start": 1702174245185,
    "execution_millis": 22,
    "deepnote_to_be_reexecuted": false,
    "deepnote_cell_type": "code"
   },
   "source": [
    "d1 = alt.Chart(df2).mark_line().encode(\n",
    "    x=\"Attack\",\n",
    "    y=\"SpecialA\"\n",
    ")\n",
    "\n",
    "d2 = alt.Chart(df2).mark_line(color=\"red\").encode(\n",
    "    x=\"Attack\",\n",
    "    y=\"PredictA\"\n",
    ")\n",
    "d1+d2"
   ],
   "block_group": "a4884b8c5ff141048ceaaf43d69ca419",
   "execution_count": null,
   "outputs": [
    {
     "output_type": "execute_result",
     "execution_count": 49,
     "data": {
      "text/html": "\n<div id=\"altair-viz-97ab504ff72f46d6bc328db9290fe629\"></div>\n<script type=\"text/javascript\">\n  var VEGA_DEBUG = (typeof VEGA_DEBUG == \"undefined\") ? {} : VEGA_DEBUG;\n  (function(spec, embedOpt){\n    let outputDiv = document.currentScript.previousElementSibling;\n    if (outputDiv.id !== \"altair-viz-97ab504ff72f46d6bc328db9290fe629\") {\n      outputDiv = document.getElementById(\"altair-viz-97ab504ff72f46d6bc328db9290fe629\");\n    }\n    const paths = {\n      \"vega\": \"https://cdn.jsdelivr.net/npm//vega@5?noext\",\n      \"vega-lib\": \"https://cdn.jsdelivr.net/npm//vega-lib?noext\",\n      \"vega-lite\": \"https://cdn.jsdelivr.net/npm//vega-lite@4.17.0?noext\",\n      \"vega-embed\": \"https://cdn.jsdelivr.net/npm//vega-embed@6?noext\",\n    };\n\n    function maybeLoadScript(lib, version) {\n      var key = `${lib.replace(\"-\", \"\")}_version`;\n      return (VEGA_DEBUG[key] == version) ?\n        Promise.resolve(paths[lib]) :\n        new Promise(function(resolve, reject) {\n          var s = document.createElement('script');\n          document.getElementsByTagName(\"head\")[0].appendChild(s);\n          s.async = true;\n          s.onload = () => {\n            VEGA_DEBUG[key] = version;\n            return resolve(paths[lib]);\n          };\n          s.onerror = () => reject(`Error loading script: ${paths[lib]}`);\n          s.src = paths[lib];\n        });\n    }\n\n    function showError(err) {\n      outputDiv.innerHTML = `<div class=\"error\" style=\"color:red;\">${err}</div>`;\n      throw err;\n    }\n\n    function displayChart(vegaEmbed) {\n      vegaEmbed(outputDiv, spec, embedOpt)\n        .catch(err => showError(`Javascript Error: ${err.message}<br>This usually means there's a typo in your chart specification. See the javascript console for the full traceback.`));\n    }\n\n    if(typeof define === \"function\" && define.amd) {\n      requirejs.config({paths});\n      require([\"vega-embed\"], displayChart, err => showError(`Error loading script: ${err.message}`));\n    } else {\n      maybeLoadScript(\"vega\", \"5\")\n        .then(() => maybeLoadScript(\"vega-lite\", \"4.17.0\"))\n        .then(() => maybeLoadScript(\"vega-embed\", \"6\"))\n        .catch(showError)\n        .then(() => displayChart(vegaEmbed));\n    }\n  })({\"config\": {\"view\": {\"continuousWidth\": 400, \"continuousHeight\": 300}}, \"layer\": [{\"mark\": \"line\", \"encoding\": {\"x\": {\"field\": \"Attack\", \"type\": \"quantitative\"}, \"y\": {\"field\": \"SpecialA\", \"type\": \"quantitative\"}}}, {\"mark\": {\"type\": \"line\", \"color\": \"red\"}, \"encoding\": {\"x\": {\"field\": \"Attack\", \"type\": \"quantitative\"}, \"y\": {\"field\": \"PredictA\", \"type\": \"quantitative\"}}}], \"data\": {\"name\": \"data-0313c9a92f635ddf818eecccb98488fd\"}, \"$schema\": \"https://vega.github.io/schema/vega-lite/v4.17.0.json\", \"datasets\": {\"data-0313c9a92f635ddf818eecccb98488fd\": [{\"#\": 652, \"Name\": \"Chesnaught\", \"Type 1\": \"Grass\", \"Type 2\": \"Fighting\", \"Total\": 530, \"HP\": 88, \"Attack\": 107, \"Defense\": 122, \"SpecialA\": 74, \"SpecialD\": 75, \"Speed\": 64, \"Generation\": 6, \"PredictA\": 64.09739862914864}, {\"#\": 655, \"Name\": \"Delphox\", \"Type 1\": \"Fire\", \"Type 2\": \"Psychic\", \"Total\": 534, \"HP\": 75, \"Attack\": 69, \"Defense\": 72, \"SpecialA\": 114, \"SpecialD\": 100, \"Speed\": 104, \"Generation\": 6, \"PredictA\": 107.1305}, {\"#\": 658, \"Name\": \"Greninja\", \"Type 1\": \"Water\", \"Type 2\": \"Dark\", \"Total\": 530, \"HP\": 72, \"Attack\": 95, \"Defense\": 67, \"SpecialA\": 103, \"SpecialD\": 71, \"Speed\": 122, \"Generation\": 6, \"PredictA\": 80.73637085137084}, {\"#\": 660, \"Name\": \"Diggersby\", \"Type 1\": \"Normal\", \"Type 2\": \"Ground\", \"Total\": 423, \"HP\": 85, \"Attack\": 56, \"Defense\": 77, \"SpecialA\": 50, \"SpecialD\": 77, \"Speed\": 78, \"Generation\": 6, \"PredictA\": 65.46656385281386}, {\"#\": 661, \"Name\": \"Fletchling\", \"Type 1\": \"Normal\", \"Type 2\": \"Flying\", \"Total\": 278, \"HP\": 45, \"Attack\": 50, \"Defense\": 43, \"SpecialA\": 40, \"SpecialD\": 38, \"Speed\": 62, \"Generation\": 6, \"PredictA\": 54.37194408369409}, {\"#\": 662, \"Name\": \"Fletchinder\", \"Type 1\": \"Fire\", \"Type 2\": \"Flying\", \"Total\": 382, \"HP\": 62, \"Attack\": 73, \"Defense\": 55, \"SpecialA\": 56, \"SpecialD\": 52, \"Speed\": 84, \"Generation\": 6, \"PredictA\": 68.686}, {\"#\": 663, \"Name\": \"Talonflame\", \"Type 1\": \"Fire\", \"Type 2\": \"Flying\", \"Total\": 499, \"HP\": 78, \"Attack\": 81, \"Defense\": 71, \"SpecialA\": 74, \"SpecialD\": 69, \"Speed\": 126, \"Generation\": 6, \"PredictA\": 66.95758874458873}, {\"#\": 666, \"Name\": \"Vivillon\", \"Type 1\": \"Bug\", \"Type 2\": \"Flying\", \"Total\": 411, \"HP\": 80, \"Attack\": 52, \"Defense\": 50, \"SpecialA\": 90, \"SpecialD\": 50, \"Speed\": 89, \"Generation\": 6, \"PredictA\": 61.001208152958164}, {\"#\": 667, \"Name\": \"Litleo\", \"Type 1\": \"Fire\", \"Type 2\": \"Normal\", \"Total\": 369, \"HP\": 62, \"Attack\": 50, \"Defense\": 58, \"SpecialA\": 73, \"SpecialD\": 54, \"Speed\": 72, \"Generation\": 6, \"PredictA\": 54.37194408369409}, {\"#\": 668, \"Name\": \"Pyroar\", \"Type 1\": \"Fire\", \"Type 2\": \"Normal\", \"Total\": 507, \"HP\": 86, \"Attack\": 68, \"Defense\": 72, \"SpecialA\": 109, \"SpecialD\": 66, \"Speed\": 106, \"Generation\": 6, \"PredictA\": 104.45473809523808}, {\"#\": 675, \"Name\": \"Pangoro\", \"Type 1\": \"Fighting\", \"Type 2\": \"Dark\", \"Total\": 495, \"HP\": 95, \"Attack\": 124, \"Defense\": 78, \"SpecialA\": 69, \"SpecialD\": 71, \"Speed\": 58, \"Generation\": 6, \"PredictA\": 66.29405952380952}, {\"#\": 679, \"Name\": \"Honedge\", \"Type 1\": \"Steel\", \"Type 2\": \"Ghost\", \"Total\": 325, \"HP\": 45, \"Attack\": 80, \"Defense\": 100, \"SpecialA\": 35, \"SpecialD\": 37, \"Speed\": 28, \"Generation\": 6, \"PredictA\": 58.12804112554111}, {\"#\": 680, \"Name\": \"Doublade\", \"Type 1\": \"Steel\", \"Type 2\": \"Ghost\", \"Total\": 448, \"HP\": 59, \"Attack\": 110, \"Defense\": 150, \"SpecialA\": 45, \"SpecialD\": 49, \"Speed\": 35, \"Generation\": 6, \"PredictA\": 58.43740945165946}, {\"#\": 681, \"Name\": \"AegislashBlade Forme\", \"Type 1\": \"Steel\", \"Type 2\": \"Ghost\", \"Total\": 520, \"HP\": 60, \"Attack\": 150, \"Defense\": 50, \"SpecialA\": 150, \"SpecialD\": 50, \"Speed\": 60, \"Generation\": 6, \"PredictA\": 116.97282142857144}, {\"#\": 681, \"Name\": \"AegislashShield Forme\", \"Type 1\": \"Steel\", \"Type 2\": \"Ghost\", \"Total\": 520, \"HP\": 60, \"Attack\": 50, \"Defense\": 150, \"SpecialA\": 50, \"SpecialD\": 150, \"Speed\": 60, \"Generation\": 6, \"PredictA\": 54.37194408369409}, {\"#\": 686, \"Name\": \"Inkay\", \"Type 1\": \"Dark\", \"Type 2\": \"Psychic\", \"Total\": 288, \"HP\": 53, \"Attack\": 54, \"Defense\": 53, \"SpecialA\": 37, \"SpecialD\": 46, \"Speed\": 45, \"Generation\": 6, \"PredictA\": 56.07999242424243}, {\"#\": 687, \"Name\": \"Malamar\", \"Type 1\": \"Dark\", \"Type 2\": \"Psychic\", \"Total\": 482, \"HP\": 86, \"Attack\": 92, \"Defense\": 88, \"SpecialA\": 68, \"SpecialD\": 75, \"Speed\": 73, \"Generation\": 6, \"PredictA\": 68.89072799422799}, {\"#\": 688, \"Name\": \"Binacle\", \"Type 1\": \"Rock\", \"Type 2\": \"Water\", \"Total\": 306, \"HP\": 42, \"Attack\": 52, \"Defense\": 67, \"SpecialA\": 39, \"SpecialD\": 56, \"Speed\": 50, \"Generation\": 6, \"PredictA\": 61.001208152958164}, {\"#\": 689, \"Name\": \"Barbaracle\", \"Type 1\": \"Rock\", \"Type 2\": \"Water\", \"Total\": 500, \"HP\": 72, \"Attack\": 105, \"Defense\": 115, \"SpecialA\": 54, \"SpecialD\": 86, \"Speed\": 68, \"Generation\": 6, \"PredictA\": 60.677648629148635}, {\"#\": 690, \"Name\": \"Skrelp\", \"Type 1\": \"Poison\", \"Type 2\": \"Water\", \"Total\": 320, \"HP\": 50, \"Attack\": 60, \"Defense\": 60, \"SpecialA\": 60, \"SpecialD\": 60, \"Speed\": 30, \"Generation\": 6, \"PredictA\": 64.98557142857143}, {\"#\": 691, \"Name\": \"Dragalge\", \"Type 1\": \"Poison\", \"Type 2\": \"Dragon\", \"Total\": 494, \"HP\": 65, \"Attack\": 75, \"Defense\": 90, \"SpecialA\": 97, \"SpecialD\": 123, \"Speed\": 44, \"Generation\": 6, \"PredictA\": 88.22033333333334}, {\"#\": 694, \"Name\": \"Helioptile\", \"Type 1\": \"Electric\", \"Type 2\": \"Normal\", \"Total\": 289, \"HP\": 44, \"Attack\": 38, \"Defense\": 33, \"SpecialA\": 61, \"SpecialD\": 43, \"Speed\": 70, \"Generation\": 6, \"PredictA\": 54.91663455988456}, {\"#\": 695, \"Name\": \"Heliolisk\", \"Type 1\": \"Electric\", \"Type 2\": \"Normal\", \"Total\": 481, \"HP\": 62, \"Attack\": 55, \"Defense\": 52, \"SpecialA\": 109, \"SpecialD\": 94, \"Speed\": 109, \"Generation\": 6, \"PredictA\": 85.15765909090909}, {\"#\": 696, \"Name\": \"Tyrunt\", \"Type 1\": \"Rock\", \"Type 2\": \"Dragon\", \"Total\": 362, \"HP\": 58, \"Attack\": 89, \"Defense\": 77, \"SpecialA\": 45, \"SpecialD\": 45, \"Speed\": 48, \"Generation\": 6, \"PredictA\": 55.46937229437227}, {\"#\": 697, \"Name\": \"Tyrantrum\", \"Type 1\": \"Rock\", \"Type 2\": \"Dragon\", \"Total\": 521, \"HP\": 82, \"Attack\": 121, \"Defense\": 119, \"SpecialA\": 69, \"SpecialD\": 59, \"Speed\": 71, \"Generation\": 6, \"PredictA\": 66.29405952380952}, {\"#\": 698, \"Name\": \"Amaura\", \"Type 1\": \"Rock\", \"Type 2\": \"Ice\", \"Total\": 362, \"HP\": 77, \"Attack\": 59, \"Defense\": 50, \"SpecialA\": 67, \"SpecialD\": 63, \"Speed\": 46, \"Generation\": 6, \"PredictA\": 66.85057142857144}, {\"#\": 699, \"Name\": \"Aurorus\", \"Type 1\": \"Rock\", \"Type 2\": \"Ice\", \"Total\": 521, \"HP\": 123, \"Attack\": 77, \"Defense\": 72, \"SpecialA\": 99, \"SpecialD\": 92, \"Speed\": 58, \"Generation\": 6, \"PredictA\": 91.12516666666669}, {\"#\": 701, \"Name\": \"Hawlucha\", \"Type 1\": \"Fighting\", \"Type 2\": \"Flying\", \"Total\": 500, \"HP\": 78, \"Attack\": 92, \"Defense\": 75, \"SpecialA\": 74, \"SpecialD\": 63, \"Speed\": 118, \"Generation\": 6, \"PredictA\": 68.89072799422799}, {\"#\": 702, \"Name\": \"Dedenne\", \"Type 1\": \"Electric\", \"Type 2\": \"Fairy\", \"Total\": 431, \"HP\": 67, \"Attack\": 58, \"Defense\": 57, \"SpecialA\": 81, \"SpecialD\": 67, \"Speed\": 101, \"Generation\": 6, \"PredictA\": 73.55990476190478}, {\"#\": 703, \"Name\": \"Carbink\", \"Type 1\": \"Rock\", \"Type 2\": \"Fairy\", \"Total\": 500, \"HP\": 50, \"Attack\": 50, \"Defense\": 150, \"SpecialA\": 50, \"SpecialD\": 150, \"Speed\": 50, \"Generation\": 6, \"PredictA\": 54.37194408369409}, {\"#\": 707, \"Name\": \"Klefki\", \"Type 1\": \"Steel\", \"Type 2\": \"Fairy\", \"Total\": 470, \"HP\": 57, \"Attack\": 80, \"Defense\": 91, \"SpecialA\": 80, \"SpecialD\": 87, \"Speed\": 75, \"Generation\": 6, \"PredictA\": 58.12804112554111}, {\"#\": 708, \"Name\": \"Phantump\", \"Type 1\": \"Ghost\", \"Type 2\": \"Grass\", \"Total\": 309, \"HP\": 43, \"Attack\": 70, \"Defense\": 48, \"SpecialA\": 50, \"SpecialD\": 60, \"Speed\": 38, \"Generation\": 6, \"PredictA\": 76.31800000000001}, {\"#\": 709, \"Name\": \"Trevenant\", \"Type 1\": \"Ghost\", \"Type 2\": \"Grass\", \"Total\": 474, \"HP\": 85, \"Attack\": 110, \"Defense\": 76, \"SpecialA\": 65, \"SpecialD\": 82, \"Speed\": 56, \"Generation\": 6, \"PredictA\": 58.43740945165946}, {\"#\": 710, \"Name\": \"PumpkabooAverage Size\", \"Type 1\": \"Ghost\", \"Type 2\": \"Grass\", \"Total\": 335, \"HP\": 49, \"Attack\": 66, \"Defense\": 70, \"SpecialA\": 44, \"SpecialD\": 55, \"Speed\": 51, \"Generation\": 6, \"PredictA\": 44.93523809523809}, {\"#\": 710, \"Name\": \"PumpkabooSmall Size\", \"Type 1\": \"Ghost\", \"Type 2\": \"Grass\", \"Total\": 335, \"HP\": 44, \"Attack\": 66, \"Defense\": 70, \"SpecialA\": 44, \"SpecialD\": 55, \"Speed\": 56, \"Generation\": 6, \"PredictA\": 44.93523809523809}, {\"#\": 710, \"Name\": \"PumpkabooLarge Size\", \"Type 1\": \"Ghost\", \"Type 2\": \"Grass\", \"Total\": 335, \"HP\": 54, \"Attack\": 66, \"Defense\": 70, \"SpecialA\": 44, \"SpecialD\": 55, \"Speed\": 46, \"Generation\": 6, \"PredictA\": 44.93523809523809}, {\"#\": 710, \"Name\": \"PumpkabooSuper Size\", \"Type 1\": \"Ghost\", \"Type 2\": \"Grass\", \"Total\": 335, \"HP\": 59, \"Attack\": 66, \"Defense\": 70, \"SpecialA\": 44, \"SpecialD\": 55, \"Speed\": 41, \"Generation\": 6, \"PredictA\": 44.93523809523809}, {\"#\": 711, \"Name\": \"GourgeistAverage Size\", \"Type 1\": \"Ghost\", \"Type 2\": \"Grass\", \"Total\": 494, \"HP\": 65, \"Attack\": 90, \"Defense\": 122, \"SpecialA\": 58, \"SpecialD\": 75, \"Speed\": 84, \"Generation\": 6, \"PredictA\": 57.74476118326117}, {\"#\": 711, \"Name\": \"GourgeistSmall Size\", \"Type 1\": \"Ghost\", \"Type 2\": \"Grass\", \"Total\": 494, \"HP\": 55, \"Attack\": 85, \"Defense\": 122, \"SpecialA\": 58, \"SpecialD\": 75, \"Speed\": 99, \"Generation\": 6, \"PredictA\": 59.426753246753236}, {\"#\": 711, \"Name\": \"GourgeistLarge Size\", \"Type 1\": \"Ghost\", \"Type 2\": \"Grass\", \"Total\": 494, \"HP\": 75, \"Attack\": 95, \"Defense\": 122, \"SpecialA\": 58, \"SpecialD\": 75, \"Speed\": 69, \"Generation\": 6, \"PredictA\": 80.73637085137084}, {\"#\": 711, \"Name\": \"GourgeistSuper Size\", \"Type 1\": \"Ghost\", \"Type 2\": \"Grass\", \"Total\": 494, \"HP\": 85, \"Attack\": 100, \"Defense\": 122, \"SpecialA\": 58, \"SpecialD\": 75, \"Speed\": 54, \"Generation\": 6, \"PredictA\": 64.66631529581531}, {\"#\": 714, \"Name\": \"Noibat\", \"Type 1\": \"Flying\", \"Type 2\": \"Dragon\", \"Total\": 245, \"HP\": 40, \"Attack\": 30, \"Defense\": 35, \"SpecialA\": 45, \"SpecialD\": 40, \"Speed\": 55, \"Generation\": 6, \"PredictA\": 50.979466089466094}, {\"#\": 715, \"Name\": \"Noivern\", \"Type 1\": \"Flying\", \"Type 2\": \"Dragon\", \"Total\": 535, \"HP\": 85, \"Attack\": 70, \"Defense\": 80, \"SpecialA\": 97, \"SpecialD\": 80, \"Speed\": 123, \"Generation\": 6, \"PredictA\": 76.31800000000001}]}}, {\"mode\": \"vega-lite\"});\n</script>",
      "text/plain": "alt.LayerChart(...)"
     },
     "metadata": {}
    }
   ]
  },
  {
   "cell_type": "markdown",
   "metadata": {
    "tags": [],
    "cell_id": "ffb53b09b9614fe58a49e8ce33f5ce90",
    "deepnote_cell_type": "markdown"
   },
   "source": [
    "## Summary\n",
    "\n",
    "Either summarize what you did, or summarize the results.  Maybe 3 sentences."
   ],
   "block_group": "ffb53b09b9614fe58a49e8ce33f5ce90"
  },
  {
   "cell_type": "markdown",
   "metadata": {
    "tags": [],
    "cell_id": "64b020e8de4244969f2071ea04a2a823",
    "deepnote_cell_type": "markdown"
   },
   "source": [
    "I try to use different methods, including K-Mean clusters,logistics regression and linear regression, to analysis the relationship between generations and the stats of pokemons, but none of them performed very well to fit the data. Also, it is hard to do the prediction for future generation pokemons based on the stats becasue the relationship is not strong enough. \n",
    "After failing to predict the generation, I try to predict the special attack values based on attack values using dicision tree regressor and random forest regressor, and find that the special attack values can be predected by the attack values with small error and high accuracy."
   ],
   "block_group": "64b020e8de4244969f2071ea04a2a823"
  },
  {
   "cell_type": "markdown",
   "metadata": {
    "tags": [],
    "cell_id": "fc0dfc2b009a4a82bbd97fd52e1e1922",
    "deepnote_cell_type": "markdown"
   },
   "source": [
    "## References\n",
    "\n",
    "Your code above should include references.  Here is some additional space for references."
   ],
   "block_group": "fc0dfc2b009a4a82bbd97fd52e1e1922"
  },
  {
   "cell_type": "markdown",
   "metadata": {
    "tags": [],
    "cell_id": "6c99b2681dcd4ee09d59db93152136b1",
    "deepnote_cell_type": "markdown"
   },
   "source": [
    "* What is the source of your dataset(s)?\n",
    "My dataset is from Kaggle. [Pokemon](https://www.kaggle.com/datasets/abcsds/pokemon)"
   ],
   "block_group": "6c99b2681dcd4ee09d59db93152136b1"
  },
  {
   "cell_type": "markdown",
   "metadata": {
    "tags": [],
    "cell_id": "6a5af784c4634977abfe8c7b73bc19e4",
    "source_hash": "aa45eba7",
    "execution_start": 1652916033453,
    "execution_millis": 0,
    "deepnote_to_be_reexecuted": false,
    "deepnote_cell_type": "markdown"
   },
   "source": [
    "* List any other references that you found helpful.\n",
    "[Tutorial for Pokemon](https://www.kaggle.com/code/christinobarbosa/machinelearningmodel-pokemon/notebook)\n",
    "[Pinting and forming new dataframe based on a groupby object](https://stackoverflow.com/questions/22691010/how-to-print-a-groupby-object)\n",
    "[Difference between Dicision Tree Regressor and Classifier](https://becominghuman.ai/machine-learning-series-day-6-decision-tree-regressor-82a2e2f873a\n",
    ")"
   ],
   "block_group": "6a5af784c4634977abfe8c7b73bc19e4"
  },
  {
   "cell_type": "markdown",
   "metadata": {
    "tags": [],
    "cell_id": "8f68a2a4a6a840279fc02de8fb45809d",
    "deepnote_cell_type": "markdown"
   },
   "source": [
    "## Submission\n",
    "\n",
    "Using the Share button at the top right, **enable Comment privileges** for anyone with a link to the project. Then submit that link on Canvas."
   ],
   "block_group": "8f68a2a4a6a840279fc02de8fb45809d"
  },
  {
   "cell_type": "markdown",
   "source": [
    "<a style='text-decoration:none;line-height:16px;display:flex;color:#5B5B62;padding:10px;justify-content:end;' href='https://deepnote.com?utm_source=created-in-deepnote-cell&projectId=fca2004f-f018-44a1-a4e9-b6932f2fd646' target=\"_blank\">\n",
    "<img alt='Created in deepnote.com' style='display:inline;max-height:16px;margin:0px;margin-right:7.5px;' src='data:image/svg+xml;base64,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' > </img>\n",
    "Created in <span style='font-weight:600;margin-left:4px;'>Deepnote</span></a>"
   ],
   "metadata": {
    "created_in_deepnote_cell": true,
    "deepnote_cell_type": "markdown"
   }
  }
 ],
 "nbformat": 4,
 "nbformat_minor": 0,
 "metadata": {
  "deepnote": {
   "is_reactive": false
  },
  "orig_nbformat": 2,
  "deepnote_notebook_id": "3d818f3385c14920ba7c3a3dda93397d",
  "deepnote_execution_queue": []
 }
}
